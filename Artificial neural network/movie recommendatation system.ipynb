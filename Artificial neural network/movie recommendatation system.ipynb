{
 "cells": [
  {
   "cell_type": "code",
   "execution_count": 1,
   "metadata": {},
   "outputs": [],
   "source": [
    "import numpy as np\n",
    "import scipy as sp\n",
    "import sklearn as sk\n",
    "import pandas as pd\n",
    "import matplotlib.pyplot as plt\n",
    "import warnings\n",
    "warnings.filterwarnings(\"ignore\")"
   ]
  },
  {
   "cell_type": "code",
   "execution_count": 2,
   "metadata": {},
   "outputs": [],
   "source": [
    "from sklearn.datasets import samples_generator\n",
    "from sklearn.feature_selection import SelectKBest, f_regression\n",
    "from sklearn.pipeline import Pipeline\n",
    "from sklearn.ensemble import ExtraTreesClassifier"
   ]
  },
  {
   "cell_type": "code",
   "execution_count": 3,
   "metadata": {},
   "outputs": [],
   "source": [
    "x1, y1 = samples_generator.make_classification(n_samples = 150, n_features = 25,\n",
    "                                            n_classes =3, n_informative = 6,\n",
    "                                            n_redundant = 0, random_state = 7)\n",
    "from sklearn.datasets import load_iris\n",
    "iris = load_iris()\n",
    "x, y = iris.data, iris.target"
   ]
  },
  {
   "cell_type": "code",
   "execution_count": 4,
   "metadata": {},
   "outputs": [],
   "source": [
    "# selecting top k features\n",
    "\n",
    "k_best_selector = SelectKBest(f_regression, k = 3)\n",
    "\n",
    "classifier = ExtraTreesClassifier(n_estimators= 60, max_depth = 4)"
   ]
  },
  {
   "cell_type": "code",
   "execution_count": 5,
   "metadata": {},
   "outputs": [],
   "source": [
    "# construct the pipeline\n",
    "processor_pipeline = Pipeline([('selector', k_best_selector), ('erf', classifier)])"
   ]
  },
  {
   "cell_type": "code",
   "execution_count": 6,
   "metadata": {},
   "outputs": [
    {
     "name": "stdout",
     "output_type": "stream",
     "text": [
      "\n",
      "Predicted output:\n",
      " [0 0 0 0 0 0 0 0 0 0 0 0 0 0 0 0 0 0 0 0 0 0 0 0 0 0 0 0 0 0 0 0 0 0 0 0 0\n",
      " 0 0 0 0 0 0 0 0 0 0 0 0 0 1 1 1 1 1 1 1 1 1 1 1 1 1 1 1 1 1 1 1 1 2 1 1 1\n",
      " 1 1 1 1 1 1 1 1 1 1 1 1 1 1 1 1 1 1 1 1 1 1 1 1 1 1 2 2 2 2 2 2 2 2 2 2 2\n",
      " 2 2 2 2 2 2 2 2 1 2 2 2 2 2 2 2 2 2 2 2 2 2 1 1 2 2 2 2 2 2 2 2 2 2 2 2 2\n",
      " 2 2]\n",
      "\n",
      "Score:  0.973333333333\n"
     ]
    }
   ],
   "source": [
    "# set the parameters\n",
    "processor_pipeline.set_params(selector__k = 3, erf__n_estimators = 30)\n",
    "\n",
    "# traiing the pipeline\n",
    "processor_pipeline.fit(x,y)\n",
    "\n",
    "# predict outputs for the input data\n",
    "output = processor_pipeline.predict(x)\n",
    "print (\"\\nPredicted output:\\n\", output)\n",
    "\n",
    "# print scores\n",
    "print (\"\\nScore: \", processor_pipeline.score(x,y))"
   ]
  },
  {
   "cell_type": "code",
   "execution_count": 7,
   "metadata": {},
   "outputs": [
    {
     "name": "stdout",
     "output_type": "stream",
     "text": [
      "\n",
      " Indices of selected features:  0, 2, 3\n"
     ]
    }
   ],
   "source": [
    "# print the features chosen by the pipeline selector\n",
    "status = processor_pipeline.named_steps['selector'].get_support()\n",
    "\n",
    "# extract and print indices of selected features\n",
    "selected = [i for i , x in enumerate(status) if x]\n",
    "print (\"\\n Indices of selected features: \", ', '.join([str(x) for x in selected]))"
   ]
  },
  {
   "cell_type": "code",
   "execution_count": 8,
   "metadata": {},
   "outputs": [],
   "source": [
    "# Extracting the nearest neighbors\n",
    "\n",
    "from sklearn.neighbors import NearestNeighbors\n",
    "\n",
    "j = np.array([[2.1,1.3],[1.3,3.2],[2.9,2.5],[2.7,5.4],[3.8,0.9],[7.3,2.1],[4.2,6.5],\n",
    "             [3.8,3.7],[2.5,4.1],[3.4,1.9],[5.7,3.5],[6.1,4.3],[5.1,2.2],[6.2,1.1]])"
   ]
  },
  {
   "cell_type": "code",
   "execution_count": 9,
   "metadata": {},
   "outputs": [
    {
     "data": {
      "image/png": "[encoded data removed]",
      "text/plain": [
       "<matplotlib.figure.Figure at 0xb5c9a58>"
      ]
     },
     "metadata": {},
     "output_type": "display_data"
    },
    {
     "name": "stdout",
     "output_type": "stream",
     "text": [
      "\n",
      "K Nearest Neighbors: \n",
      "1 ==> [ 5.1  2.2]\n",
      "2 ==> [ 3.8  3.7]\n",
      "3 ==> [ 3.4  1.9]\n",
      "4 ==> [ 2.9  2.5]\n",
      "5 ==> [ 5.7  3.5]\n"
     ]
    }
   ],
   "source": [
    "# define the number of nearest neighbor you want to extract\n",
    "# number of nearest neighbors k = 5\n",
    "\n",
    "test_datapoint = [4.3,2.7]\n",
    "k = 5\n",
    "\n",
    "plt.figure()\n",
    "plt.title(\"input data\")\n",
    "plt.scatter(j[:,0], j[:,1], marker = 'o', s = 75, color = 'black')\n",
    "plt.show()\n",
    "\n",
    "# building K nearest Neighbors model\n",
    "knn_model = NearestNeighbors(n_neighbors = k, algorithm = 'ball_tree').fit(j)\n",
    "distances, indices = knn_model.kneighbors(test_datapoint)\n",
    "\n",
    "print (\"\\nK Nearest Neighbors: \")\n",
    "for rank, index in enumerate(indices[0][:k], start = 1):\n",
    "    print (str(rank) + \" ==>\", j[index])"
   ]
  },
  {
   "cell_type": "code",
   "execution_count": 10,
   "metadata": {},
   "outputs": [
    {
     "data": {
      "image/png": "[encoded data removed]",
      "text/plain": [
       "<matplotlib.figure.Figure at 0xb9c05c0>"
      ]
     },
     "metadata": {},
     "output_type": "display_data"
    }
   ],
   "source": [
    "# print the nearest neighbors\n",
    "# visualize the nearest neighbors along with the test datapoint\n",
    "plt.figure()\n",
    "plt.title(\"Nearest neighbors\")\n",
    "plt.scatter(j[:,0], j[:,1], marker = 'o', s = 75, color = 'k')\n",
    "plt.scatter(j[indices][0][:][:,0], x[indices][0][:][:,1], marker = 'o', s = 250,\n",
    "             color = 'k', facecolor = 'none')\n",
    "plt.scatter(test_datapoint[0], test_datapoint[1], marker = 'x', s = 75, color = 'k')\n",
    "plt.show()"
   ]
  },
  {
   "cell_type": "code",
   "execution_count": 11,
   "metadata": {},
   "outputs": [
    {
     "data": {
      "image/png": "[encoded data removed]",
      "text/plain": [
       "<matplotlib.figure.Figure at 0xba1bac8>"
      ]
     },
     "metadata": {},
     "output_type": "display_data"
    },
    {
     "name": "stdout",
     "output_type": "stream",
     "text": [
      "\n",
      "K Nearest Neighbors: \n",
      "1 ==> [ 4.5  2.3  1.3  0.3]\n",
      "2 ==> [ 4.4  2.9  1.4  0.2]\n",
      "3 ==> [ 4.3  3.   1.1  0.1]\n",
      "4 ==> [ 4.4  3.   1.3  0.2]\n",
      "5 ==> [ 4.4  3.2  1.3  0.2]\n"
     ]
    }
   ],
   "source": [
    "# define the number of nearest neighbor you want to extract\n",
    "# number of nearest neighbors k = 5\n",
    "\n",
    "test_datapoint = [4.3,2.7]\n",
    "k = 5\n",
    "\n",
    "plt.figure()\n",
    "plt.title(\"input data\")\n",
    "plt.scatter(x[:,0], x[:,1], marker = 'o', s = 75, color = 'black')\n",
    "plt.scatter(x[:,1], x[:,2], marker = '<', s = 75, color = 'green')\n",
    "plt.scatter(x[:,2], x[:,3], marker = '>', s = 75, color = 'red')\n",
    "\n",
    "\n",
    "plt.show()\n",
    "data_point = [1.1, 1.2,1.5, 1.6]\n",
    "\n",
    "# building K nearest Neighbors model\n",
    "knn_model = NearestNeighbors(n_neighbors = k, algorithm = 'ball_tree').fit(x)\n",
    "distances, indices = knn_model.kneighbors(data_point)\n",
    "\n",
    "print (\"\\nK Nearest Neighbors: \")\n",
    "for rank, index in enumerate(indices[0][:k], start = 1):\n",
    "    print (str(rank) + \" ==>\", x[index])"
   ]
  },
  {
   "cell_type": "code",
   "execution_count": 12,
   "metadata": {},
   "outputs": [
    {
     "data": {
      "text/plain": [
       "KNeighborsClassifier(algorithm='auto', leaf_size=30, metric='minkowski',\n",
       "           metric_params=None, n_jobs=1, n_neighbors=12, p=2,\n",
       "           weights='distance')"
      ]
     },
     "execution_count": 12,
     "metadata": {},
     "output_type": "execute_result"
    }
   ],
   "source": [
    "import matplotlib.cm as cm\n",
    "from sklearn import neighbors, datasets\n",
    "\n",
    "n_neighbors = 12\n",
    "step_size = 0.01\n",
    "\n",
    "# create k nearest Neighbors classifier model\n",
    "classifier = neighbors.KNeighborsClassifier(n_neighbors, weights = 'distance')\n",
    "classifier.fit(x, y)"
   ]
  },
  {
   "cell_type": "code",
   "execution_count": 13,
   "metadata": {},
   "outputs": [
    {
     "name": "stdout",
     "output_type": "stream",
     "text": [
      "[array([ 3.3 ,  3.31,  3.32, ...,  8.87,  8.88,  8.89]), array([ 1.  ,  1.  ,  1.  , ...,  5.39,  5.39,  5.39])]\n"
     ]
    }
   ],
   "source": [
    "# create the mesh grid of values that will be used to visualize the grid\n",
    "\n",
    "x_min, x_max = x[:,0].min() - 1, x[:,0].max() + 1\n",
    "y_min, y_max = x[:,1].min() - 1, x[:,1].max() + 1 \n",
    "x_values, y_values = np.meshgrid(np.arange(x_min, x_max, step_size), np.arange(y_min, y_max, step_size))\n",
    "\n",
    "# evaluate the classifier on all the points on the grid\n",
    "value = [x_values.ravel(), y_values.ravel()]\n",
    "print (value)\n",
    "#np.c_[value]\n",
    "#output = classifier.predict(np.c_[value])\n"
   ]
  },
  {
   "cell_type": "code",
   "execution_count": null,
   "metadata": {},
   "outputs": [],
   "source": [
    "# choosing a color mesh to visualize the output\n",
    "\n",
    "output = output.reshape(x_values.shape)\n",
    "plt.figure()\n",
    "plt.pcolormesh(x_values, y_values, output, cmap = cm.Paired)\n",
    "plt.xlim(x_values.min(), x_values.max())\n",
    "plt.ylim(y_values.min(), y_values.max())\n",
    "plt.title('K Nearest Neighbors classifier model bouncaries')\n",
    "\n",
    "# define a test datapoint to see how the classifier performs\n",
    "test_datapoint = [5.1, 3.6]\n",
    "plt.figure()\n",
    "plt.title(\"Test datapoint\")\n",
    "for i in range(x.shape[0]):\n",
    "    plt.scatter(x[i, 0], x[i,1], marker = mapper[i], s = 75, edgecolors = 'black', \n",
    "               facecolors = 'black')\n",
    "    \n",
    "# extract the k nearest neighbors\n",
    "_, indices = classifier.kneighbors([test_datapoint])\n",
    "indices = indices.astype(np.int)[0]\n",
    " \n",
    "plt.figure()\n",
    "plt.title(\"K nearest Neighbors\")\n",
    "....."
   ]
  },
  {
   "cell_type": "code",
   "execution_count": null,
   "metadata": {},
   "outputs": [],
   "source": [
    "# computing similarity scores\n",
    "\n",
    "import argparse\n",
    "import json\n",
    "import numpy as np\n",
    "# build an argument parser to process the input arguments. It will accept two users and they\n",
    "# type of score that it needs to use to compute the similarity score.\n",
    "\n",
    "def build_arg_parser():\n",
    "    parser = argparse.ArgumentParser(description = 'compute similarity score')\n",
    "    parser.add_argument(\"--user1\", dest = 'user1', required = True, help = 'First user')\n",
    "    parser.add_argument(\"--user2\", dest = 'user2', required = True, help = 'Second user')\n",
    "    parser.add_argument(\"--score-type\", )"
   ]
  },
  {
   "cell_type": "code",
   "execution_count": null,
   "metadata": {},
   "outputs": [],
   "source": [
    "# Define the function to compute the Euclidean score between the input users,\n",
    "# if the users are not in the dataset, raise an error.\n",
    "\n",
    "\n",
    "def euclidean_score(dataset, user1, user2):\n",
    "    if user1 not in dataset:\n",
    "        raise TypeError(\"cannot find \" + user1 + \" in the dataset\")\n",
    "    \n",
    "    if user2 not in dataset:\n",
    "        raise TypeError(\"cannot find \" + user2 + \" in the dataset\")\n",
    "        \n",
    "# define a variable to track the movies that have been rated by both the users.\n",
    "common_movies = {}\n",
    "\n",
    "# extract movies rated by both users\n",
    "for item in dataset[user1]:\n",
    "    if item in dataset[user2]:\n",
    "        common_movies[item] = 1\n",
    "        \n",
    "        \n",
    "if len(common_movies) == 0:\n",
    "    return 0\n",
    "\n",
    "# compute the sqauared difference between the ratings and use it to compute the \n",
    "# Euclidean score\n",
    "squared_diff = []\n",
    "for item in dataset[user1]:\n",
    "    if item in dataset[user2]:\n",
    "        squared_diff.append(np.square(dataset[user1][item] - dataset[user2][item]))\n",
    "        return 1 / (1+ np.sqrt(np.sum(squared_diff)))\n",
    "    \n",
    "\n",
    "    \n",
    "# definde a function to compute the Pearson score between the input users in the given\n",
    "# dataset. if the user is not found in the dataset, raise an error\n",
    "\n",
    "if user1 not in dataset:\n",
    "    raise TypeError(\"cannot find \" + user1 + \" in the dataset\")\n",
    "if user2 not in dataset:\n",
    "    raise TypeError(\"Cannot find \" + user2 + \" in the dataset\")\n",
    "    \n",
    "# movies rated by both user1 and user2\n",
    "common_movies = {}\n",
    "\n",
    "for item in dataset[user1]:\n",
    "    if item in dataset[user2]:\n",
    "        common_movies[item] = 1\n",
    "        \n",
    "num_ratings = len(common_movies)\n",
    "if num_ratings == 0:\n",
    "    return 0\n",
    "\n",
    "# calculate the sum of ratings of all the movies that have been rated by both users\n",
    "user1_sum = np.sum([dataset[user1][item] for item in common_movies])\n",
    "user2_sum = np.sum([dataset[user2][item] for item in common_movies])\n",
    "\n",
    "# calculate the sum of squres of ratings of all the common movies\n",
    "user1_squared_sum = np.sum([np.square([dataset[user1][item] for item in common_movies])])\n",
    "user2_squared_sum = np.sum([np.square([dataset[user2][item] for item in common_movies])])\n",
    "\n",
    "\n",
    "# calculate the sum of products of the ratings of the common movies \n",
    "sum_of_product = np.sum([dataset[user1][item] * dataset[user2][item] for item in common_movies])\n",
    "\n",
    "# calculate the various parameter used to compute the Pearson score\n",
    "sxy = sum_of_products - (user1_sum * user2_sum / num_ratings)\n",
    "sxx = user1_squared_num - np.square(user1_sum) /  num_ratings\n",
    "syy = user_2_squred_sum - np.square(user2_sum) / num_ratings\n",
    "\n",
    "if sxx * syy == 0:\n",
    "    return 0 \n",
    "\n",
    "# return the pearson score\n",
    "return sxy / np.sqrt(sxx * syy)\n",
    "\n",
    "if __name__ == '__main__':\n",
    "    args = build_arg_parser().parse_args()\n",
    "    user1 = args.user1\n",
    "    user2 = args.user2\n",
    "    score_type = args.score_type\n",
    "    \n",
    "# load the ratings for the file ratings.json \n",
    "ratings_file = 'ratings.json'\n",
    "with open(ratings_file, 'r') as f:\n",
    "    data = json.loads(f.read())\n",
    "    \n",
    "# compute the similarity score based on the input arguments\n",
    "if score_type == 'Euclidean':\n",
    "    print (\"\\nEuclidean score: \")\n",
    "    print (euclidean_score(data, user1, user2))\n",
    "    \n",
    "else:\n",
    "    print (\"\\nPearson score: \")\n",
    "    print (pearson_score(data, user1, user2))\n",
    "    \n",
    "    "
   ]
  },
  {
   "cell_type": "code",
   "execution_count": 2,
   "metadata": {},
   "outputs": [],
   "source": [
    "# finding similar users using collaborative filtering\n",
    "\n"
   ]
  },
  {
   "cell_type": "code",
   "execution_count": null,
   "metadata": {},
   "outputs": [],
   "source": []
  }
 ],
 "metadata": {
  "kernelspec": {
   "display_name": "Python 3",
   "language": "python",
   "name": "python3"
  },
  "language_info": {
   "codemirror_mode": {
    "name": "ipython",
    "version": 3
   },
   "file_extension": ".py",
   "mimetype": "text/x-python",
   "name": "python",
   "nbconvert_exporter": "python",
   "pygments_lexer": "ipython3",
   "version": "3.6.1"
  }
 },
 "nbformat": 4,
 "nbformat_minor": 2
}
