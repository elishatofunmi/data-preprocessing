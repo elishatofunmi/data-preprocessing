{
 "cells": [
  {
   "cell_type": "code",
   "execution_count": 1,
   "metadata": {},
   "outputs": [],
   "source": [
    "import os, sys\n",
    "import pandas as pd\n",
    "import matplotlib.pyplot as plt\n",
    "import sklearn as sk\n",
    "import numpy as np\n",
    "import warnings\n",
    "warnings.filterwarnings('ignore')"
   ]
  },
  {
   "cell_type": "code",
   "execution_count": 2,
   "metadata": {},
   "outputs": [
    {
     "data": {
      "text/plain": [
       "'C:\\\\SPB_Data\\\\Artificial neural network\\\\data mining the water table'"
      ]
     },
     "execution_count": 2,
     "metadata": {},
     "output_type": "execute_result"
    }
   ],
   "source": [
    "os.getcwd()"
   ]
  },
  {
   "cell_type": "code",
   "execution_count": 3,
   "metadata": {},
   "outputs": [
    {
     "data": {
      "text/plain": [
       "<module 'ntpath' from 'C:\\\\Users\\\\ACER\\\\Anaconda3\\\\lib\\\\ntpath.py'>"
      ]
     },
     "execution_count": 3,
     "metadata": {},
     "output_type": "execute_result"
    }
   ],
   "source": [
    "os.path"
   ]
  },
  {
   "cell_type": "code",
   "execution_count": 4,
   "metadata": {},
   "outputs": [
    {
     "data": {
      "text/plain": [
       "['.ipynb_checkpoints',\n",
       " '0bf8bc6e-30d0-4c50-956a-603fc693d966.csv',\n",
       " '4910797b-ee55-40a7-8668-10efd5c1b960.csv',\n",
       " '702ddfc5-68cd-4d1d-a0de-f5f566f76d91.csv',\n",
       " 'data mining the water table.png',\n",
       " 'data mining water table.ipynb',\n",
       " 'hist results.png',\n",
       " 'longitude_Latitude_plot',\n",
       " 'longitude_latitude_plot1',\n",
       " 'SubmissionFormat.csv']"
      ]
     },
     "execution_count": 4,
     "metadata": {},
     "output_type": "execute_result"
    }
   ],
   "source": [
    "os.listdir(os.getcwd())"
   ]
  },
  {
   "cell_type": "code",
   "execution_count": 5,
   "metadata": {},
   "outputs": [],
   "source": [
    "Affirm = pd.read_csv(\"0bf8bc6e-30d0-4c50-956a-603fc693d966.csv\")\n",
    "train = pd.read_csv(\"4910797b-ee55-40a7-8668-10efd5c1b960.csv\")\n",
    "test = pd.read_csv(\"702ddfc5-68cd-4d1d-a0de-f5f566f76d91.csv\")"
   ]
  },
  {
   "cell_type": "code",
   "execution_count": 82,
   "metadata": {},
   "outputs": [
    {
     "data": {
      "text/plain": [
       "Index(['id', 'status_group'], dtype='object')"
      ]
     },
     "execution_count": 82,
     "metadata": {},
     "output_type": "execute_result"
    }
   ],
   "source": [
    "Affirm.keys()"
   ]
  },
  {
   "cell_type": "code",
   "execution_count": 6,
   "metadata": {},
   "outputs": [
    {
     "data": {
      "text/plain": [
       "((59400, 2), (59400, 40), (14850, 40))"
      ]
     },
     "execution_count": 6,
     "metadata": {},
     "output_type": "execute_result"
    }
   ],
   "source": [
    "Affirm.shape, train.shape, test.shape"
   ]
  },
  {
   "cell_type": "code",
   "execution_count": 7,
   "metadata": {},
   "outputs": [
    {
     "data": {
      "text/plain": [
       "Index(['id', 'status_group'], dtype='object')"
      ]
     },
     "execution_count": 7,
     "metadata": {},
     "output_type": "execute_result"
    }
   ],
   "source": [
    "Affirm.keys()"
   ]
  },
  {
   "cell_type": "code",
   "execution_count": 8,
   "metadata": {},
   "outputs": [
    {
     "data": {
      "text/plain": [
       "False"
      ]
     },
     "execution_count": 8,
     "metadata": {},
     "output_type": "execute_result"
    }
   ],
   "source": [
    "# check if 'status_group' is in the training set\n",
    "'status_group' in train.keys()"
   ]
  },
  {
   "cell_type": "code",
   "execution_count": 9,
   "metadata": {},
   "outputs": [
    {
     "data": {
      "text/plain": [
       "59400"
      ]
     },
     "execution_count": 9,
     "metadata": {},
     "output_type": "execute_result"
    }
   ],
   "source": [
    "# check if 'id' in Affirm is the same 'id' in training set\n",
    "np.sum(train['id'] == Affirm['id'])"
   ]
  },
  {
   "cell_type": "code",
   "execution_count": 10,
   "metadata": {},
   "outputs": [
    {
     "data": {
      "text/plain": [
       "(59400, 41)"
      ]
     },
     "execution_count": 10,
     "metadata": {},
     "output_type": "execute_result"
    }
   ],
   "source": [
    "# since 'id' in Affirm is the same as 'id' in training set, then Affirm is the predicted class of the training\n",
    "# set, so we can merge them together\n",
    "train['status_group'] = Affirm['status_group']\n",
    "train.shape"
   ]
  },
  {
   "cell_type": "code",
   "execution_count": 11,
   "metadata": {},
   "outputs": [
    {
     "data": {
      "text/plain": [
       "id                           0\n",
       "amount_tsh                   0\n",
       "date_recorded                0\n",
       "funder                    3635\n",
       "gps_height                   0\n",
       "installer                 3655\n",
       "longitude                    0\n",
       "latitude                     0\n",
       "wpt_name                     0\n",
       "num_private                  0\n",
       "basin                        0\n",
       "subvillage                 371\n",
       "region                       0\n",
       "region_code                  0\n",
       "district_code                0\n",
       "lga                          0\n",
       "ward                         0\n",
       "population                   0\n",
       "public_meeting            3334\n",
       "recorded_by                  0\n",
       "scheme_management         3877\n",
       "scheme_name              28166\n",
       "permit                    3056\n",
       "construction_year            0\n",
       "extraction_type              0\n",
       "extraction_type_group        0\n",
       "extraction_type_class        0\n",
       "management                   0\n",
       "management_group             0\n",
       "payment                      0\n",
       "payment_type                 0\n",
       "water_quality                0\n",
       "quality_group                0\n",
       "quantity                     0\n",
       "quantity_group               0\n",
       "source                       0\n",
       "source_type                  0\n",
       "source_class                 0\n",
       "waterpoint_type              0\n",
       "waterpoint_type_group        0\n",
       "status_group                 0\n",
       "dtype: int64"
      ]
     },
     "execution_count": 11,
     "metadata": {},
     "output_type": "execute_result"
    }
   ],
   "source": [
    "np.sum(train.isnull())"
   ]
  },
  {
   "cell_type": "code",
   "execution_count": 63,
   "metadata": {},
   "outputs": [
    {
     "data": {
      "text/plain": [
       "('Government Of Tanzania', 12719)"
      ]
     },
     "execution_count": 63,
     "metadata": {},
     "output_type": "execute_result"
    }
   ],
   "source": [
    "def find_max(name):\n",
    "    dict_k = {}\n",
    "    for k in train[str(name)]:\n",
    "        if k not in dict_k.keys():\n",
    "            dict_k.setdefault(k, 1)\n",
    "        else:\n",
    "            dict_k[k] = dict_k.get(k) + 1\n",
    "\n",
    "    max_value = max(dict_k.values())\n",
    "    solution = ()\n",
    "    for k in dict_k.keys():\n",
    "        if dict_k[k] == max_value:\n",
    "            solution = k, max_value\n",
    "        else:\n",
    "            pass\n",
    "    return solution\n",
    "\n",
    "solution = find_max('funder')\n",
    "solution"
   ]
  },
  {
   "cell_type": "code",
   "execution_count": 13,
   "metadata": {},
   "outputs": [],
   "source": [
    "train['funder'] = train['funder'].fillna(solution[0])"
   ]
  },
  {
   "cell_type": "code",
   "execution_count": 14,
   "metadata": {},
   "outputs": [
    {
     "data": {
      "text/plain": [
       "0"
      ]
     },
     "execution_count": 14,
     "metadata": {},
     "output_type": "execute_result"
    }
   ],
   "source": [
    "installer_solution = find_max('installer')\n",
    "train['installer'] = train['installer'].fillna(installer_solution[0])\n",
    "np.sum(train['installer'].isnull())"
   ]
  },
  {
   "cell_type": "code",
   "execution_count": 15,
   "metadata": {},
   "outputs": [
    {
     "data": {
      "text/plain": [
       "0"
      ]
     },
     "execution_count": 15,
     "metadata": {},
     "output_type": "execute_result"
    }
   ],
   "source": [
    "sub_vil_solution = find_max('subvillage')\n",
    "train['subvillage'] = train['subvillage'].fillna(sub_vil_solution[0])\n",
    "np.sum(train['subvillage'].isnull())"
   ]
  },
  {
   "cell_type": "code",
   "execution_count": 16,
   "metadata": {},
   "outputs": [],
   "source": [
    "train = train.drop('scheme_name', axis = 1)"
   ]
  },
  {
   "cell_type": "code",
   "execution_count": 17,
   "metadata": {},
   "outputs": [],
   "source": [
    "def fix(name):\n",
    "    check_solution = find_max(name)\n",
    "    train[name] = train[name].fillna(check_solution[0])\n",
    "    return np.sum(train[name].isnull())\n",
    "#train = train.applymap(fix)\n",
    "#train.info()"
   ]
  },
  {
   "cell_type": "code",
   "execution_count": 18,
   "metadata": {},
   "outputs": [
    {
     "data": {
      "text/plain": [
       "0"
      ]
     },
     "execution_count": 18,
     "metadata": {},
     "output_type": "execute_result"
    }
   ],
   "source": [
    "public_meet = find_max('public_meeting')\n",
    "train['public_meeting'] = train['public_meeting'].fillna(public_meet[0])\n",
    "np.sum(train['public_meeting'].isnull())"
   ]
  },
  {
   "cell_type": "code",
   "execution_count": 19,
   "metadata": {},
   "outputs": [
    {
     "data": {
      "text/plain": [
       "0"
      ]
     },
     "execution_count": 19,
     "metadata": {},
     "output_type": "execute_result"
    }
   ],
   "source": [
    "recorded_solution = find_max('scheme_management')\n",
    "train['scheme_management'] = train['scheme_management'].fillna(recorded_solution[0])\n",
    "np.sum(train['scheme_management'].isnull())"
   ]
  },
  {
   "cell_type": "code",
   "execution_count": 20,
   "metadata": {},
   "outputs": [
    {
     "name": "stdout",
     "output_type": "stream",
     "text": [
      "<class 'pandas.core.frame.DataFrame'>\n",
      "RangeIndex: 59400 entries, 0 to 59399\n",
      "Data columns (total 40 columns):\n",
      "id                       59400 non-null int64\n",
      "amount_tsh               59400 non-null float64\n",
      "date_recorded            59400 non-null object\n",
      "funder                   59400 non-null object\n",
      "gps_height               59400 non-null int64\n",
      "installer                59400 non-null object\n",
      "longitude                59400 non-null float64\n",
      "latitude                 59400 non-null float64\n",
      "wpt_name                 59400 non-null object\n",
      "num_private              59400 non-null int64\n",
      "basin                    59400 non-null object\n",
      "subvillage               59400 non-null object\n",
      "region                   59400 non-null object\n",
      "region_code              59400 non-null int64\n",
      "district_code            59400 non-null int64\n",
      "lga                      59400 non-null object\n",
      "ward                     59400 non-null object\n",
      "population               59400 non-null int64\n",
      "public_meeting           59400 non-null bool\n",
      "recorded_by              59400 non-null object\n",
      "scheme_management        59400 non-null object\n",
      "permit                   59400 non-null bool\n",
      "construction_year        59400 non-null int64\n",
      "extraction_type          59400 non-null object\n",
      "extraction_type_group    59400 non-null object\n",
      "extraction_type_class    59400 non-null object\n",
      "management               59400 non-null object\n",
      "management_group         59400 non-null object\n",
      "payment                  59400 non-null object\n",
      "payment_type             59400 non-null object\n",
      "water_quality            59400 non-null object\n",
      "quality_group            59400 non-null object\n",
      "quantity                 59400 non-null object\n",
      "quantity_group           59400 non-null object\n",
      "source                   59400 non-null object\n",
      "source_type              59400 non-null object\n",
      "source_class             59400 non-null object\n",
      "waterpoint_type          59400 non-null object\n",
      "waterpoint_type_group    59400 non-null object\n",
      "status_group             59400 non-null object\n",
      "dtypes: bool(2), float64(3), int64(7), object(28)\n",
      "memory usage: 17.3+ MB\n"
     ]
    }
   ],
   "source": [
    "permit = find_max('permit')\n",
    "train['permit'] = train['permit'].fillna(permit[0])\n",
    "train.info()"
   ]
  },
  {
   "cell_type": "code",
   "execution_count": 21,
   "metadata": {},
   "outputs": [],
   "source": [
    "train = train.drop(['date_recorded'], axis = 1)"
   ]
  },
  {
   "cell_type": "code",
   "execution_count": 22,
   "metadata": {},
   "outputs": [
    {
     "data": {
      "image/png": "[encoded data removed]",
      "text/plain": [
       "<matplotlib.figure.Figure at 0xa9f35c0>"
      ]
     },
     "metadata": {},
     "output_type": "display_data"
    }
   ],
   "source": [
    "plt.scatter(train['longitude'], train['latitude'], alpha = 0.1)\n",
    "plt.grid()\n",
    "plt.show()\n",
    "plt.xlabel('longitude')\n",
    "plt.ylabel('latitude')\n",
    "plt.savefig(\"longitude_Latitude_plot\", format = 'png', dpi = 300)"
   ]
  },
  {
   "cell_type": "code",
   "execution_count": 23,
   "metadata": {},
   "outputs": [
    {
     "data": {
      "text/html": [
       "<div>\n",
       "<style>\n",
       "    .dataframe thead tr:only-child th {\n",
       "        text-align: right;\n",
       "    }\n",
       "\n",
       "    .dataframe thead th {\n",
       "        text-align: left;\n",
       "    }\n",
       "\n",
       "    .dataframe tbody tr th {\n",
       "        vertical-align: top;\n",
       "    }\n",
       "</style>\n",
       "<table border=\"1\" class=\"dataframe\">\n",
       "  <thead>\n",
       "    <tr style=\"text-align: right;\">\n",
       "      <th></th>\n",
       "      <th>id</th>\n",
       "      <th>amount_tsh</th>\n",
       "      <th>funder</th>\n",
       "      <th>gps_height</th>\n",
       "      <th>installer</th>\n",
       "      <th>longitude</th>\n",
       "      <th>latitude</th>\n",
       "      <th>wpt_name</th>\n",
       "      <th>num_private</th>\n",
       "      <th>basin</th>\n",
       "      <th>...</th>\n",
       "      <th>water_quality</th>\n",
       "      <th>quality_group</th>\n",
       "      <th>quantity</th>\n",
       "      <th>quantity_group</th>\n",
       "      <th>source</th>\n",
       "      <th>source_type</th>\n",
       "      <th>source_class</th>\n",
       "      <th>waterpoint_type</th>\n",
       "      <th>waterpoint_type_group</th>\n",
       "      <th>status_group</th>\n",
       "    </tr>\n",
       "  </thead>\n",
       "  <tbody>\n",
       "    <tr>\n",
       "      <th>0</th>\n",
       "      <td>69572</td>\n",
       "      <td>6000.0</td>\n",
       "      <td>Roman</td>\n",
       "      <td>1390</td>\n",
       "      <td>Roman</td>\n",
       "      <td>34.938093</td>\n",
       "      <td>-9.856322</td>\n",
       "      <td>none</td>\n",
       "      <td>0</td>\n",
       "      <td>Lake Nyasa</td>\n",
       "      <td>...</td>\n",
       "      <td>soft</td>\n",
       "      <td>good</td>\n",
       "      <td>enough</td>\n",
       "      <td>enough</td>\n",
       "      <td>spring</td>\n",
       "      <td>spring</td>\n",
       "      <td>groundwater</td>\n",
       "      <td>communal standpipe</td>\n",
       "      <td>communal standpipe</td>\n",
       "      <td>functional</td>\n",
       "    </tr>\n",
       "    <tr>\n",
       "      <th>1</th>\n",
       "      <td>8776</td>\n",
       "      <td>0.0</td>\n",
       "      <td>Grumeti</td>\n",
       "      <td>1399</td>\n",
       "      <td>GRUMETI</td>\n",
       "      <td>34.698766</td>\n",
       "      <td>-2.147466</td>\n",
       "      <td>Zahanati</td>\n",
       "      <td>0</td>\n",
       "      <td>Lake Victoria</td>\n",
       "      <td>...</td>\n",
       "      <td>soft</td>\n",
       "      <td>good</td>\n",
       "      <td>insufficient</td>\n",
       "      <td>insufficient</td>\n",
       "      <td>rainwater harvesting</td>\n",
       "      <td>rainwater harvesting</td>\n",
       "      <td>surface</td>\n",
       "      <td>communal standpipe</td>\n",
       "      <td>communal standpipe</td>\n",
       "      <td>functional</td>\n",
       "    </tr>\n",
       "    <tr>\n",
       "      <th>2</th>\n",
       "      <td>34310</td>\n",
       "      <td>25.0</td>\n",
       "      <td>Lottery Club</td>\n",
       "      <td>686</td>\n",
       "      <td>World vision</td>\n",
       "      <td>37.460664</td>\n",
       "      <td>-3.821329</td>\n",
       "      <td>Kwa Mahundi</td>\n",
       "      <td>0</td>\n",
       "      <td>Pangani</td>\n",
       "      <td>...</td>\n",
       "      <td>soft</td>\n",
       "      <td>good</td>\n",
       "      <td>enough</td>\n",
       "      <td>enough</td>\n",
       "      <td>dam</td>\n",
       "      <td>dam</td>\n",
       "      <td>surface</td>\n",
       "      <td>communal standpipe multiple</td>\n",
       "      <td>communal standpipe</td>\n",
       "      <td>functional</td>\n",
       "    </tr>\n",
       "    <tr>\n",
       "      <th>3</th>\n",
       "      <td>67743</td>\n",
       "      <td>0.0</td>\n",
       "      <td>Unicef</td>\n",
       "      <td>263</td>\n",
       "      <td>UNICEF</td>\n",
       "      <td>38.486161</td>\n",
       "      <td>-11.155298</td>\n",
       "      <td>Zahanati Ya Nanyumbu</td>\n",
       "      <td>0</td>\n",
       "      <td>Ruvuma / Southern Coast</td>\n",
       "      <td>...</td>\n",
       "      <td>soft</td>\n",
       "      <td>good</td>\n",
       "      <td>dry</td>\n",
       "      <td>dry</td>\n",
       "      <td>machine dbh</td>\n",
       "      <td>borehole</td>\n",
       "      <td>groundwater</td>\n",
       "      <td>communal standpipe multiple</td>\n",
       "      <td>communal standpipe</td>\n",
       "      <td>non functional</td>\n",
       "    </tr>\n",
       "    <tr>\n",
       "      <th>4</th>\n",
       "      <td>19728</td>\n",
       "      <td>0.0</td>\n",
       "      <td>Action In A</td>\n",
       "      <td>0</td>\n",
       "      <td>Artisan</td>\n",
       "      <td>31.130847</td>\n",
       "      <td>-1.825359</td>\n",
       "      <td>Shuleni</td>\n",
       "      <td>0</td>\n",
       "      <td>Lake Victoria</td>\n",
       "      <td>...</td>\n",
       "      <td>soft</td>\n",
       "      <td>good</td>\n",
       "      <td>seasonal</td>\n",
       "      <td>seasonal</td>\n",
       "      <td>rainwater harvesting</td>\n",
       "      <td>rainwater harvesting</td>\n",
       "      <td>surface</td>\n",
       "      <td>communal standpipe</td>\n",
       "      <td>communal standpipe</td>\n",
       "      <td>functional</td>\n",
       "    </tr>\n",
       "  </tbody>\n",
       "</table>\n",
       "<p>5 rows × 39 columns</p>\n",
       "</div>"
      ],
      "text/plain": [
       "      id  amount_tsh        funder  gps_height     installer  longitude  \\\n",
       "0  69572      6000.0         Roman        1390         Roman  34.938093   \n",
       "1   8776         0.0       Grumeti        1399       GRUMETI  34.698766   \n",
       "2  34310        25.0  Lottery Club         686  World vision  37.460664   \n",
       "3  67743         0.0        Unicef         263        UNICEF  38.486161   \n",
       "4  19728         0.0   Action In A           0       Artisan  31.130847   \n",
       "\n",
       "    latitude              wpt_name  num_private                    basin  \\\n",
       "0  -9.856322                  none            0               Lake Nyasa   \n",
       "1  -2.147466              Zahanati            0            Lake Victoria   \n",
       "2  -3.821329           Kwa Mahundi            0                  Pangani   \n",
       "3 -11.155298  Zahanati Ya Nanyumbu            0  Ruvuma / Southern Coast   \n",
       "4  -1.825359               Shuleni            0            Lake Victoria   \n",
       "\n",
       "        ...       water_quality quality_group      quantity  quantity_group  \\\n",
       "0       ...                soft          good        enough          enough   \n",
       "1       ...                soft          good  insufficient    insufficient   \n",
       "2       ...                soft          good        enough          enough   \n",
       "3       ...                soft          good           dry             dry   \n",
       "4       ...                soft          good      seasonal        seasonal   \n",
       "\n",
       "                 source           source_type  source_class  \\\n",
       "0                spring                spring   groundwater   \n",
       "1  rainwater harvesting  rainwater harvesting       surface   \n",
       "2                   dam                   dam       surface   \n",
       "3           machine dbh              borehole   groundwater   \n",
       "4  rainwater harvesting  rainwater harvesting       surface   \n",
       "\n",
       "               waterpoint_type waterpoint_type_group    status_group  \n",
       "0           communal standpipe    communal standpipe      functional  \n",
       "1           communal standpipe    communal standpipe      functional  \n",
       "2  communal standpipe multiple    communal standpipe      functional  \n",
       "3  communal standpipe multiple    communal standpipe  non functional  \n",
       "4           communal standpipe    communal standpipe      functional  \n",
       "\n",
       "[5 rows x 39 columns]"
      ]
     },
     "execution_count": 23,
     "metadata": {},
     "output_type": "execute_result"
    }
   ],
   "source": [
    "train.head()"
   ]
  },
  {
   "cell_type": "code",
   "execution_count": 24,
   "metadata": {},
   "outputs": [
    {
     "data": {
      "image/png": "[encoded data removed]",
      "text/plain": [
       "<matplotlib.figure.Figure at 0x5bc6898>"
      ]
     },
     "metadata": {},
     "output_type": "display_data"
    },
    {
     "data": {
      "image/png": "[encoded data removed]",
      "text/plain": [
       "<matplotlib.figure.Figure at 0xa9332b0>"
      ]
     },
     "metadata": {},
     "output_type": "display_data"
    }
   ],
   "source": [
    "train.plot(kind = 'scatter', x = 'longitude', y = 'latitude', s = train['population']/100, label = 'population', c = 'gps_height',\n",
    "           cmap = plt.get_cmap('jet'),colorbar = True, alpha = 0.4, figsize = (10,7))\n",
    "plt.grid()\n",
    "plt.legend()\n",
    "plt.savefig('longitude_latitude_plot1', format = 'png')\n",
    "plt.show()\n"
   ]
  },
  {
   "cell_type": "code",
   "execution_count": 25,
   "metadata": {},
   "outputs": [
    {
     "data": {
      "text/html": [
       "<div>\n",
       "<style>\n",
       "    .dataframe thead tr:only-child th {\n",
       "        text-align: right;\n",
       "    }\n",
       "\n",
       "    .dataframe thead th {\n",
       "        text-align: left;\n",
       "    }\n",
       "\n",
       "    .dataframe tbody tr th {\n",
       "        vertical-align: top;\n",
       "    }\n",
       "</style>\n",
       "<table border=\"1\" class=\"dataframe\">\n",
       "  <thead>\n",
       "    <tr style=\"text-align: right;\">\n",
       "      <th></th>\n",
       "      <th>id</th>\n",
       "      <th>amount_tsh</th>\n",
       "      <th>funder</th>\n",
       "      <th>gps_height</th>\n",
       "      <th>installer</th>\n",
       "      <th>wpt_name</th>\n",
       "      <th>num_private</th>\n",
       "      <th>basin</th>\n",
       "      <th>subvillage</th>\n",
       "      <th>region</th>\n",
       "      <th>...</th>\n",
       "      <th>water_quality</th>\n",
       "      <th>quality_group</th>\n",
       "      <th>quantity</th>\n",
       "      <th>quantity_group</th>\n",
       "      <th>source</th>\n",
       "      <th>source_type</th>\n",
       "      <th>source_class</th>\n",
       "      <th>waterpoint_type</th>\n",
       "      <th>waterpoint_type_group</th>\n",
       "      <th>status_group</th>\n",
       "    </tr>\n",
       "  </thead>\n",
       "  <tbody>\n",
       "    <tr>\n",
       "      <th>0</th>\n",
       "      <td>69572</td>\n",
       "      <td>6000.0</td>\n",
       "      <td>Roman</td>\n",
       "      <td>1390</td>\n",
       "      <td>Roman</td>\n",
       "      <td>none</td>\n",
       "      <td>0</td>\n",
       "      <td>Lake Nyasa</td>\n",
       "      <td>Mnyusi B</td>\n",
       "      <td>Iringa</td>\n",
       "      <td>...</td>\n",
       "      <td>soft</td>\n",
       "      <td>good</td>\n",
       "      <td>enough</td>\n",
       "      <td>enough</td>\n",
       "      <td>spring</td>\n",
       "      <td>spring</td>\n",
       "      <td>groundwater</td>\n",
       "      <td>communal standpipe</td>\n",
       "      <td>communal standpipe</td>\n",
       "      <td>functional</td>\n",
       "    </tr>\n",
       "    <tr>\n",
       "      <th>1</th>\n",
       "      <td>8776</td>\n",
       "      <td>0.0</td>\n",
       "      <td>Grumeti</td>\n",
       "      <td>1399</td>\n",
       "      <td>GRUMETI</td>\n",
       "      <td>Zahanati</td>\n",
       "      <td>0</td>\n",
       "      <td>Lake Victoria</td>\n",
       "      <td>Nyamara</td>\n",
       "      <td>Mara</td>\n",
       "      <td>...</td>\n",
       "      <td>soft</td>\n",
       "      <td>good</td>\n",
       "      <td>insufficient</td>\n",
       "      <td>insufficient</td>\n",
       "      <td>rainwater harvesting</td>\n",
       "      <td>rainwater harvesting</td>\n",
       "      <td>surface</td>\n",
       "      <td>communal standpipe</td>\n",
       "      <td>communal standpipe</td>\n",
       "      <td>functional</td>\n",
       "    </tr>\n",
       "    <tr>\n",
       "      <th>2</th>\n",
       "      <td>34310</td>\n",
       "      <td>25.0</td>\n",
       "      <td>Lottery Club</td>\n",
       "      <td>686</td>\n",
       "      <td>World vision</td>\n",
       "      <td>Kwa Mahundi</td>\n",
       "      <td>0</td>\n",
       "      <td>Pangani</td>\n",
       "      <td>Majengo</td>\n",
       "      <td>Manyara</td>\n",
       "      <td>...</td>\n",
       "      <td>soft</td>\n",
       "      <td>good</td>\n",
       "      <td>enough</td>\n",
       "      <td>enough</td>\n",
       "      <td>dam</td>\n",
       "      <td>dam</td>\n",
       "      <td>surface</td>\n",
       "      <td>communal standpipe multiple</td>\n",
       "      <td>communal standpipe</td>\n",
       "      <td>functional</td>\n",
       "    </tr>\n",
       "    <tr>\n",
       "      <th>3</th>\n",
       "      <td>67743</td>\n",
       "      <td>0.0</td>\n",
       "      <td>Unicef</td>\n",
       "      <td>263</td>\n",
       "      <td>UNICEF</td>\n",
       "      <td>Zahanati Ya Nanyumbu</td>\n",
       "      <td>0</td>\n",
       "      <td>Ruvuma / Southern Coast</td>\n",
       "      <td>Mahakamani</td>\n",
       "      <td>Mtwara</td>\n",
       "      <td>...</td>\n",
       "      <td>soft</td>\n",
       "      <td>good</td>\n",
       "      <td>dry</td>\n",
       "      <td>dry</td>\n",
       "      <td>machine dbh</td>\n",
       "      <td>borehole</td>\n",
       "      <td>groundwater</td>\n",
       "      <td>communal standpipe multiple</td>\n",
       "      <td>communal standpipe</td>\n",
       "      <td>non functional</td>\n",
       "    </tr>\n",
       "    <tr>\n",
       "      <th>4</th>\n",
       "      <td>19728</td>\n",
       "      <td>0.0</td>\n",
       "      <td>Action In A</td>\n",
       "      <td>0</td>\n",
       "      <td>Artisan</td>\n",
       "      <td>Shuleni</td>\n",
       "      <td>0</td>\n",
       "      <td>Lake Victoria</td>\n",
       "      <td>Kyanyamisa</td>\n",
       "      <td>Kagera</td>\n",
       "      <td>...</td>\n",
       "      <td>soft</td>\n",
       "      <td>good</td>\n",
       "      <td>seasonal</td>\n",
       "      <td>seasonal</td>\n",
       "      <td>rainwater harvesting</td>\n",
       "      <td>rainwater harvesting</td>\n",
       "      <td>surface</td>\n",
       "      <td>communal standpipe</td>\n",
       "      <td>communal standpipe</td>\n",
       "      <td>functional</td>\n",
       "    </tr>\n",
       "  </tbody>\n",
       "</table>\n",
       "<p>5 rows × 37 columns</p>\n",
       "</div>"
      ],
      "text/plain": [
       "      id  amount_tsh        funder  gps_height     installer  \\\n",
       "0  69572      6000.0         Roman        1390         Roman   \n",
       "1   8776         0.0       Grumeti        1399       GRUMETI   \n",
       "2  34310        25.0  Lottery Club         686  World vision   \n",
       "3  67743         0.0        Unicef         263        UNICEF   \n",
       "4  19728         0.0   Action In A           0       Artisan   \n",
       "\n",
       "               wpt_name  num_private                    basin  subvillage  \\\n",
       "0                  none            0               Lake Nyasa    Mnyusi B   \n",
       "1              Zahanati            0            Lake Victoria     Nyamara   \n",
       "2           Kwa Mahundi            0                  Pangani     Majengo   \n",
       "3  Zahanati Ya Nanyumbu            0  Ruvuma / Southern Coast  Mahakamani   \n",
       "4               Shuleni            0            Lake Victoria  Kyanyamisa   \n",
       "\n",
       "    region       ...        water_quality  quality_group      quantity  \\\n",
       "0   Iringa       ...                 soft           good        enough   \n",
       "1     Mara       ...                 soft           good  insufficient   \n",
       "2  Manyara       ...                 soft           good        enough   \n",
       "3   Mtwara       ...                 soft           good           dry   \n",
       "4   Kagera       ...                 soft           good      seasonal   \n",
       "\n",
       "  quantity_group                source           source_type source_class  \\\n",
       "0         enough                spring                spring  groundwater   \n",
       "1   insufficient  rainwater harvesting  rainwater harvesting      surface   \n",
       "2         enough                   dam                   dam      surface   \n",
       "3            dry           machine dbh              borehole  groundwater   \n",
       "4       seasonal  rainwater harvesting  rainwater harvesting      surface   \n",
       "\n",
       "               waterpoint_type  waterpoint_type_group    status_group  \n",
       "0           communal standpipe     communal standpipe      functional  \n",
       "1           communal standpipe     communal standpipe      functional  \n",
       "2  communal standpipe multiple     communal standpipe      functional  \n",
       "3  communal standpipe multiple     communal standpipe  non functional  \n",
       "4           communal standpipe     communal standpipe      functional  \n",
       "\n",
       "[5 rows x 37 columns]"
      ]
     },
     "execution_count": 25,
     "metadata": {},
     "output_type": "execute_result"
    }
   ],
   "source": [
    "train_file = train.drop(['latitude', 'longitude'], axis = 1)\n",
    "train_file.head()"
   ]
  },
  {
   "cell_type": "code",
   "execution_count": 26,
   "metadata": {},
   "outputs": [
    {
     "data": {
      "text/plain": [
       "Index(['id', 'amount_tsh', 'funder', 'gps_height', 'installer', 'wpt_name',\n",
       "       'num_private', 'basin', 'subvillage', 'region', 'region_code',\n",
       "       'district_code', 'lga', 'ward', 'population', 'public_meeting',\n",
       "       'recorded_by', 'scheme_management', 'permit', 'construction_year',\n",
       "       'extraction_type', 'extraction_type_group', 'extraction_type_class',\n",
       "       'management', 'management_group', 'payment', 'payment_type',\n",
       "       'water_quality', 'quality_group', 'quantity', 'quantity_group',\n",
       "       'source', 'source_type', 'source_class', 'waterpoint_type',\n",
       "       'waterpoint_type_group', 'status_group'],\n",
       "      dtype='object')"
      ]
     },
     "execution_count": 26,
     "metadata": {},
     "output_type": "execute_result"
    }
   ],
   "source": [
    "train_file.keys()"
   ]
  },
  {
   "cell_type": "code",
   "execution_count": 27,
   "metadata": {},
   "outputs": [],
   "source": [
    "categorical_column = [ 'basin', 'region',\n",
    "                     'lga', 'scheme_management','extraction_type','extraction_type_group',\n",
    "                     'extraction_type_class','management','source','source_type', 'source_class',\n",
    "                     'waterpoint_type', 'waterpoint_type_group']\n",
    "boolean_column = ['public_meeting','permit']\n",
    "ordinal_column = ['recorded_by','management_group','payment', 'payment_type','water_quality', 'quality_group',\n",
    "                 'quantity', 'quantity_group', 'status_group']\n",
    "drop_column = ['funder', 'installer','wpt_name', 'subvillage','ward']"
   ]
  },
  {
   "cell_type": "code",
   "execution_count": 28,
   "metadata": {},
   "outputs": [],
   "source": [
    "train_file['public_meeting'] = train_file['public_meeting'][train_file['public_meeting'] == True] = 1\n",
    "train_file['public_meeting'] = train_file['public_meeting'][train_file['public_meeting'] == False] = 0\n",
    "\n",
    "train_file['permit'] = train_file['permit'][train_file['permit'] == True] = 1\n",
    "train_file['permit'] = train_file['permit'][train_file['permit'] == False] = 0"
   ]
  },
  {
   "cell_type": "code",
   "execution_count": 29,
   "metadata": {},
   "outputs": [
    {
     "data": {
      "text/plain": [
       "(59400, 274)"
      ]
     },
     "execution_count": 29,
     "metadata": {},
     "output_type": "execute_result"
    }
   ],
   "source": [
    "categorical_file = pd.get_dummies(train_file,columns = categorical_column)\n",
    "categorical_file.shape"
   ]
  },
  {
   "cell_type": "code",
   "execution_count": 30,
   "metadata": {},
   "outputs": [
    {
     "name": "stdout",
     "output_type": "stream",
     "text": [
      "9 basin\n",
      "21 region\n",
      "125 lga\n",
      "12 scheme_management\n",
      "18 extraction_type\n",
      "13 extraction_type_group\n",
      "7 extraction_type_class\n",
      "12 management\n",
      "10 source\n",
      "7 source_type\n",
      "3 source_class\n",
      "7 waterpoint_type\n",
      "6 waterpoint_type_group\n"
     ]
    }
   ],
   "source": [
    "for key in categorical_column:\n",
    "    re_count = {}\n",
    "    re_count = train_file[key].value_counts()\n",
    "    print (len(re_count.keys()) ,key)\n",
    "    "
   ]
  },
  {
   "cell_type": "code",
   "execution_count": 31,
   "metadata": {},
   "outputs": [],
   "source": [
    "adjust_ordinal = ordinal_column\n",
    "categorize = categorical_file.drop(drop_column, axis = 1)"
   ]
  },
  {
   "cell_type": "code",
   "execution_count": 32,
   "metadata": {},
   "outputs": [
    {
     "data": {
      "text/html": [
       "<div>\n",
       "<style>\n",
       "    .dataframe thead tr:only-child th {\n",
       "        text-align: right;\n",
       "    }\n",
       "\n",
       "    .dataframe thead th {\n",
       "        text-align: left;\n",
       "    }\n",
       "\n",
       "    .dataframe tbody tr th {\n",
       "        vertical-align: top;\n",
       "    }\n",
       "</style>\n",
       "<table border=\"1\" class=\"dataframe\">\n",
       "  <thead>\n",
       "    <tr style=\"text-align: right;\">\n",
       "      <th></th>\n",
       "      <th>id</th>\n",
       "      <th>amount_tsh</th>\n",
       "      <th>gps_height</th>\n",
       "      <th>num_private</th>\n",
       "      <th>region_code</th>\n",
       "      <th>district_code</th>\n",
       "      <th>population</th>\n",
       "      <th>public_meeting</th>\n",
       "      <th>recorded_by</th>\n",
       "      <th>permit</th>\n",
       "      <th>...</th>\n",
       "      <th>waterpoint_type_dam</th>\n",
       "      <th>waterpoint_type_hand pump</th>\n",
       "      <th>waterpoint_type_improved spring</th>\n",
       "      <th>waterpoint_type_other</th>\n",
       "      <th>waterpoint_type_group_cattle trough</th>\n",
       "      <th>waterpoint_type_group_communal standpipe</th>\n",
       "      <th>waterpoint_type_group_dam</th>\n",
       "      <th>waterpoint_type_group_hand pump</th>\n",
       "      <th>waterpoint_type_group_improved spring</th>\n",
       "      <th>waterpoint_type_group_other</th>\n",
       "    </tr>\n",
       "  </thead>\n",
       "  <tbody>\n",
       "    <tr>\n",
       "      <th>0</th>\n",
       "      <td>69572</td>\n",
       "      <td>6000.0</td>\n",
       "      <td>1390</td>\n",
       "      <td>0</td>\n",
       "      <td>11</td>\n",
       "      <td>5</td>\n",
       "      <td>109</td>\n",
       "      <td>0</td>\n",
       "      <td>0</td>\n",
       "      <td>0</td>\n",
       "      <td>...</td>\n",
       "      <td>0</td>\n",
       "      <td>0</td>\n",
       "      <td>0</td>\n",
       "      <td>0</td>\n",
       "      <td>0</td>\n",
       "      <td>1</td>\n",
       "      <td>0</td>\n",
       "      <td>0</td>\n",
       "      <td>0</td>\n",
       "      <td>0</td>\n",
       "    </tr>\n",
       "    <tr>\n",
       "      <th>1</th>\n",
       "      <td>8776</td>\n",
       "      <td>0.0</td>\n",
       "      <td>1399</td>\n",
       "      <td>0</td>\n",
       "      <td>20</td>\n",
       "      <td>2</td>\n",
       "      <td>280</td>\n",
       "      <td>0</td>\n",
       "      <td>0</td>\n",
       "      <td>0</td>\n",
       "      <td>...</td>\n",
       "      <td>0</td>\n",
       "      <td>0</td>\n",
       "      <td>0</td>\n",
       "      <td>0</td>\n",
       "      <td>0</td>\n",
       "      <td>1</td>\n",
       "      <td>0</td>\n",
       "      <td>0</td>\n",
       "      <td>0</td>\n",
       "      <td>0</td>\n",
       "    </tr>\n",
       "    <tr>\n",
       "      <th>2</th>\n",
       "      <td>34310</td>\n",
       "      <td>25.0</td>\n",
       "      <td>686</td>\n",
       "      <td>0</td>\n",
       "      <td>21</td>\n",
       "      <td>4</td>\n",
       "      <td>250</td>\n",
       "      <td>0</td>\n",
       "      <td>0</td>\n",
       "      <td>0</td>\n",
       "      <td>...</td>\n",
       "      <td>0</td>\n",
       "      <td>0</td>\n",
       "      <td>0</td>\n",
       "      <td>0</td>\n",
       "      <td>0</td>\n",
       "      <td>1</td>\n",
       "      <td>0</td>\n",
       "      <td>0</td>\n",
       "      <td>0</td>\n",
       "      <td>0</td>\n",
       "    </tr>\n",
       "    <tr>\n",
       "      <th>3</th>\n",
       "      <td>67743</td>\n",
       "      <td>0.0</td>\n",
       "      <td>263</td>\n",
       "      <td>0</td>\n",
       "      <td>90</td>\n",
       "      <td>63</td>\n",
       "      <td>58</td>\n",
       "      <td>0</td>\n",
       "      <td>0</td>\n",
       "      <td>0</td>\n",
       "      <td>...</td>\n",
       "      <td>0</td>\n",
       "      <td>0</td>\n",
       "      <td>0</td>\n",
       "      <td>0</td>\n",
       "      <td>0</td>\n",
       "      <td>1</td>\n",
       "      <td>0</td>\n",
       "      <td>0</td>\n",
       "      <td>0</td>\n",
       "      <td>0</td>\n",
       "    </tr>\n",
       "    <tr>\n",
       "      <th>4</th>\n",
       "      <td>19728</td>\n",
       "      <td>0.0</td>\n",
       "      <td>0</td>\n",
       "      <td>0</td>\n",
       "      <td>18</td>\n",
       "      <td>1</td>\n",
       "      <td>0</td>\n",
       "      <td>0</td>\n",
       "      <td>0</td>\n",
       "      <td>0</td>\n",
       "      <td>...</td>\n",
       "      <td>0</td>\n",
       "      <td>0</td>\n",
       "      <td>0</td>\n",
       "      <td>0</td>\n",
       "      <td>0</td>\n",
       "      <td>1</td>\n",
       "      <td>0</td>\n",
       "      <td>0</td>\n",
       "      <td>0</td>\n",
       "      <td>0</td>\n",
       "    </tr>\n",
       "  </tbody>\n",
       "</table>\n",
       "<p>5 rows × 269 columns</p>\n",
       "</div>"
      ],
      "text/plain": [
       "      id  amount_tsh  gps_height  num_private  region_code  district_code  \\\n",
       "0  69572      6000.0        1390            0           11              5   \n",
       "1   8776         0.0        1399            0           20              2   \n",
       "2  34310        25.0         686            0           21              4   \n",
       "3  67743         0.0         263            0           90             63   \n",
       "4  19728         0.0           0            0           18              1   \n",
       "\n",
       "   population  public_meeting  recorded_by  permit  \\\n",
       "0         109               0            0       0   \n",
       "1         280               0            0       0   \n",
       "2         250               0            0       0   \n",
       "3          58               0            0       0   \n",
       "4           0               0            0       0   \n",
       "\n",
       "              ...               waterpoint_type_dam  \\\n",
       "0             ...                                 0   \n",
       "1             ...                                 0   \n",
       "2             ...                                 0   \n",
       "3             ...                                 0   \n",
       "4             ...                                 0   \n",
       "\n",
       "   waterpoint_type_hand pump  waterpoint_type_improved spring  \\\n",
       "0                          0                                0   \n",
       "1                          0                                0   \n",
       "2                          0                                0   \n",
       "3                          0                                0   \n",
       "4                          0                                0   \n",
       "\n",
       "   waterpoint_type_other  waterpoint_type_group_cattle trough  \\\n",
       "0                      0                                    0   \n",
       "1                      0                                    0   \n",
       "2                      0                                    0   \n",
       "3                      0                                    0   \n",
       "4                      0                                    0   \n",
       "\n",
       "   waterpoint_type_group_communal standpipe  waterpoint_type_group_dam  \\\n",
       "0                                         1                          0   \n",
       "1                                         1                          0   \n",
       "2                                         1                          0   \n",
       "3                                         1                          0   \n",
       "4                                         1                          0   \n",
       "\n",
       "   waterpoint_type_group_hand pump  waterpoint_type_group_improved spring  \\\n",
       "0                                0                                      0   \n",
       "1                                0                                      0   \n",
       "2                                0                                      0   \n",
       "3                                0                                      0   \n",
       "4                                0                                      0   \n",
       "\n",
       "   waterpoint_type_group_other  \n",
       "0                            0  \n",
       "1                            0  \n",
       "2                            0  \n",
       "3                            0  \n",
       "4                            0  \n",
       "\n",
       "[5 rows x 269 columns]"
      ]
     },
     "execution_count": 32,
     "metadata": {},
     "output_type": "execute_result"
    }
   ],
   "source": [
    "ordinal_dict = {}\n",
    "for value in adjust_ordinal:\n",
    "    ordinal_dict = dict(categorize[value].value_counts())\n",
    "    count = 0\n",
    "    for k in ordinal_dict.keys():\n",
    "        ordinal_dict[k] = count\n",
    "        count += 1\n",
    "    categorize[value] = categorize[value].map(ordinal_dict)\n",
    "    \n",
    "categorize.head()"
   ]
  },
  {
   "cell_type": "code",
   "execution_count": 33,
   "metadata": {},
   "outputs": [
    {
     "data": {
      "text/plain": [
       "0    32259\n",
       "1    22824\n",
       "2     4317\n",
       "Name: status_group, dtype: int64"
      ]
     },
     "execution_count": 33,
     "metadata": {},
     "output_type": "execute_result"
    }
   ],
   "source": [
    "categorize['status_group'].value_counts()"
   ]
  },
  {
   "cell_type": "code",
   "execution_count": 34,
   "metadata": {},
   "outputs": [],
   "source": [
    "import sklearn as sk\n",
    "from sklearn.preprocessing import MinMaxScaler\n",
    "from sklearn.preprocessing import StandardScaler\n",
    "\n",
    "from sklearn.cross_validation import train_test_split"
   ]
  },
  {
   "cell_type": "code",
   "execution_count": 35,
   "metadata": {},
   "outputs": [],
   "source": [
    "drop_status = categorize.drop(['status_group'], axis = 1)"
   ]
  },
  {
   "cell_type": "code",
   "execution_count": 36,
   "metadata": {},
   "outputs": [
    {
     "data": {
      "text/plain": [
       "(59400, 50)"
      ]
     },
     "execution_count": 36,
     "metadata": {},
     "output_type": "execute_result"
    }
   ],
   "source": [
    "from sklearn.decomposition import PCA\n",
    "pca = PCA(n_components = 50)\n",
    "drop_pca = pca.fit_transform(drop_status)\n",
    "drop_pca.shape"
   ]
  },
  {
   "cell_type": "code",
   "execution_count": 37,
   "metadata": {},
   "outputs": [],
   "source": [
    "x = drop_status\n",
    "y = categorize['status_group']\n",
    "\n",
    "x_train, x_test, y_train, y_test = train_test_split(x, y, test_size = 0.30, random_state = 100)"
   ]
  },
  {
   "cell_type": "code",
   "execution_count": 38,
   "metadata": {},
   "outputs": [],
   "source": [
    "scale = MinMaxScaler()\n",
    "std_scale = StandardScaler()\n",
    "x_train_std = std_scale.fit_transform(x_train)\n",
    "x_test_std = std_scale.fit_transform(x_test)\n",
    "\n",
    "x_train_scale = scale.fit_transform(x_train_std)\n",
    "x_test_scale = scale.fit_transform(x_test_std)"
   ]
  },
  {
   "cell_type": "code",
   "execution_count": 39,
   "metadata": {},
   "outputs": [],
   "source": [
    "# Applying principal component analysis\n",
    "cov_train = np.cov(x_train_scale.T)\n",
    "cov_test = np.cov(x_test_scale.T)\n",
    "\n",
    "eigen_val_train, eigen_vec_train = np.linalg.eig(cov_train)\n",
    "eigen_val_test, eigen_vec_test = np.linalg.eig(cov_test)\n",
    "\n"
   ]
  },
  {
   "cell_type": "code",
   "execution_count": 40,
   "metadata": {},
   "outputs": [
    {
     "data": {
      "text/plain": [
       "((0.21128579440124964+0j), (0.21163540261285596+0j))"
      ]
     },
     "execution_count": 40,
     "metadata": {},
     "output_type": "execute_result"
    }
   ],
   "source": [
    "tot_train = sum(eigen_val_train)\n",
    "tot_test = sum(eigen_val_test)\n",
    "\n",
    "var_exp_train = [x/ tot_train for x in sorted(eigen_val_train, reverse = True)]\n",
    "var_exp_test = [x/tot_test for x in sorted(eigen_val_test, reverse = True)]\n",
    "max(var_exp_train), max(var_exp_test)"
   ]
  },
  {
   "cell_type": "code",
   "execution_count": 41,
   "metadata": {},
   "outputs": [],
   "source": [
    "cum_var_exp_train = np.cumsum(var_exp_train)\n",
    "cum_var_exp_test = np.cumsum(var_exp_test)"
   ]
  },
  {
   "cell_type": "code",
   "execution_count": 42,
   "metadata": {},
   "outputs": [
    {
     "data": {
      "image/png": "[encoded data removed]",
      "text/plain": [
       "<matplotlib.figure.Figure at 0xbd92d68>"
      ]
     },
     "metadata": {},
     "output_type": "display_data"
    }
   ],
   "source": [
    "plt.bar([i for i in range(1,269)], var_exp_train, alpha = 0.5, align = 'center', \n",
    "       label = 'individual explained variance')\n",
    "plt.step([i for i in range(1,269)], cum_var_exp_train, where = 'mid', \n",
    "        label = 'cumulative explained ratio')\n",
    "plt.ylabel(\"Explained variance ratio\")\n",
    "plt.xlabel(\"principal components\")\n",
    "plt.legend(loc = 'best')\n",
    "plt.show()"
   ]
  },
  {
   "cell_type": "code",
   "execution_count": 43,
   "metadata": {},
   "outputs": [],
   "source": [
    "eigen_pairs = [(np.abs(eigen_val_train[i], eigen_vec_train[:,i]) for i in range(len(eigen_val_train)))]\n",
    "eigen_pairs.sort(reverse = True)"
   ]
  },
  {
   "cell_type": "code",
   "execution_count": null,
   "metadata": {},
   "outputs": [],
   "source": [
    "w = np.hstack((eigen_pairs[0][1][:, np.newaxis], eigen_pairs[1][1][:, np.newaxis]))\n",
    "final = np.array([])\n",
    "for i in range(2,50):\n",
    "    new = np.hstack((eigen_pairs[0][i][:, np.newaxis], eigen_pairs[1][i][:, np.newaxis]))\n",
    "    final = np.hstack((w[:, np.newaxis], new[:, np.newaxis]))\n",
    "np.shape(final)\n"
   ]
  },
  {
   "cell_type": "code",
   "execution_count": 45,
   "metadata": {},
   "outputs": [],
   "source": [
    "from matplotlib.colors import ListedColormap\n",
    "\n",
    "def plot_decision_regions(X, y, classifier, resolution = 0.02):\n",
    "    \n",
    "    # setup marker generator and color map\n",
    "    markers = ('s', 'x', 'o', '^', 'v')\n",
    "    colors = ('red', 'blue', 'lightgreen', 'gray', 'cyan')\n",
    "    cmap = ListedColormap(colors[:len(np.unique(y))])\n",
    "    \n",
    "    # plot the decision surface\n",
    "    \n",
    "    x1_min, x1_max = min(X[:, 0]), max(X[:,0]) + 1\n",
    "    x2_min, x2_max = min(X[:, 1]), max(X[:,1]) + 1\n",
    "    xx1, xx2 = np.meshgrid(np.arange(x1_min, x1_max, resolution), \n",
    "                          np.arange(x2_min, x2_max, resolution))\n",
    "    print(xx1.shape, xx2.shape)\n",
    "    \n",
    "    z = classifier.predict(np.array([xx1.ravel(), xx2.ravel()]).T)\n",
    "    z = z.reshape(xx1.shape)\n",
    "    plt.contourf(xx1, xx2, alpha = 0.4, cmap = cmap)\n",
    "    plt.xlim(xx1.min(), xx1.max())\n",
    "    \n",
    "    \n",
    "    # plot class samples\n",
    "    for idx, cl in enumerate(np.unique(y)):\n",
    "        plt.scatter(x = X[y == c1, 0], y = X[y == c1, 1], \n",
    "                   alpha = 0.8, c = cmap(idx), marker = markers[idx], label = c1)\n",
    "        \n"
   ]
  },
  {
   "cell_type": "code",
   "execution_count": 46,
   "metadata": {},
   "outputs": [
    {
     "data": {
      "text/plain": [
       "LogisticRegression(C=1.0, class_weight=None, dual=False, fit_intercept=True,\n",
       "          intercept_scaling=1, max_iter=100, multi_class='ovr', n_jobs=1,\n",
       "          penalty='l2', random_state=None, solver='liblinear', tol=0.0001,\n",
       "          verbose=0, warm_start=False)"
      ]
     },
     "execution_count": 46,
     "metadata": {},
     "output_type": "execute_result"
    }
   ],
   "source": [
    "from sklearn.linear_model import LogisticRegression\n",
    "from sklearn.decomposition import PCA\n",
    "\n",
    "pca = PCA(n_components = 50)\n",
    "lr = LogisticRegression()\n",
    "x_train_pca = pca.fit_transform(x_train_scale)\n",
    "x_test_pca = pca.fit_transform(x_test_scale)\n",
    "lr.fit(x_train_pca, y_train)\n"
   ]
  },
  {
   "cell_type": "code",
   "execution_count": null,
   "metadata": {},
   "outputs": [],
   "source": [
    "plot_decision_regions(x_train_pca, y_train, classifier = lr)\n",
    "plt.xlabel(\"PC1\")\n",
    "plt.ylabel('PC2')\n",
    "plt.legend(loc = 'lower left')\n",
    "plt.show()"
   ]
  },
  {
   "cell_type": "code",
   "execution_count": 60,
   "metadata": {},
   "outputs": [
    {
     "name": "stdout",
     "output_type": "stream",
     "text": [
      "[ 0.68053821  0.68134986  0.43712575] [ 0.84114871  0.57446809  0.02413223] [ 0.75236742  0.62336066  0.04573935]\n"
     ]
    }
   ],
   "source": [
    "from sklearn.model_selection import cross_val_predict\n",
    "from sklearn.metrics import precision_score, recall_score, f1_score\n",
    "y_train_pred = cross_val_predict(lr, x_train_pca, y_train, cv = 10)\n",
    "precision = precision_score(y_train, y_train_pred, average = None)\n",
    "recall = recall_score(y_train, y_train_pred, average = None)\n",
    "f1 = f1_score(y_train, y_train_pred, average = None)\n",
    "print (precision, recall, f1)"
   ]
  },
  {
   "cell_type": "code",
   "execution_count": 61,
   "metadata": {},
   "outputs": [
    {
     "name": "stdout",
     "output_type": "stream",
     "text": [
      "\n",
      "Model Report\n",
      "Accuracy : 0.681\n",
      "CV Score : Mean - 0.6799426 | Std - 0.004541652 | Min - 0.6734399 | Max - 0.68635\n",
      "             precision    recall  f1-score   support\n",
      "\n",
      "          0       0.68      0.84      0.75     22669\n",
      "          1       0.68      0.58      0.63     15886\n",
      "          2       0.45      0.02      0.05      3025\n",
      "\n",
      "avg / total       0.67      0.68      0.65     41580\n",
      "\n"
     ]
    }
   ],
   "source": [
    "from sklearn.ensemble import GradientBoostingClassifier\n",
    "from sklearn import cross_validation, metrics   #Additional scklearn functions\n",
    "from sklearn.grid_search import GridSearchCV   #Perforing grid search\n",
    "from sklearn.metrics import classification_report\n",
    "\n",
    "dtrain_predictions = lr.predict(x_train_pca)\n",
    "dtrain_predprob = lr.predict_proba(x_train_pca)[:,1]\n",
    "cv_score = cross_validation.cross_val_score(lr,x_train_pca, y_train, cv=5, scoring='accuracy')\n",
    "    \n",
    "#Print model report:\n",
    "print (\"\\nModel Report\")\n",
    "print (\"Accuracy : %.4g\" % metrics.accuracy_score(y_train, dtrain_predictions))\n",
    "#print (\"AUC Score (Train): %f\" % metrics.roc_auc_score(y_train, dtrain_predprob))\n",
    "    \n",
    "print (\"CV Score : Mean - %.7g | Std - %.7g | Min - %.7g | Max - %.7g\" % (np.mean(cv_score),np.std(cv_score),np.min(cv_score),np.max(cv_score)))\n",
    "print (classification_report(y_train, dtrain_predictions))"
   ]
  },
  {
   "cell_type": "code",
   "execution_count": 80,
   "metadata": {},
   "outputs": [
    {
     "data": {
      "text/plain": [
       "KNeighborsClassifier(algorithm='auto', leaf_size=30, metric='minkowski',\n",
       "           metric_params=None, n_jobs=1, n_neighbors=7, p=2,\n",
       "           weights='uniform')"
      ]
     },
     "execution_count": 80,
     "metadata": {},
     "output_type": "execute_result"
    }
   ],
   "source": [
    "from sklearn.neighbors import KNeighborsClassifier\n",
    "from sklearn.metrics import mean_squared_error\n",
    "\n",
    "knn = KNeighborsClassifier(n_neighbors = 7)\n",
    "\n",
    "knn.fit(x_train_pca, y_train)\n",
    "#y_pred = knn.predict(x_test_pca)\n",
    "#mse = mean_squared_error(y_pred, y_test)\n",
    "#print (knn.score(x_train_pca, y_train),knn.score(x_test_pca, y_test), mse)\n"
   ]
  },
  {
   "cell_type": "code",
   "execution_count": 83,
   "metadata": {},
   "outputs": [
    {
     "name": "stdout",
     "output_type": "stream",
     "text": [
      "1.0         0.585129068462        1\n",
      "0.852693602694         0.631200897868        2\n",
      "0.845646945647         0.623344556678        3\n",
      "0.819264069264         0.63771043771        4\n",
      "0.811207311207         0.637991021324        5\n",
      "0.799975949976         0.644893378227        6\n",
      "0.795238095238         0.642424242424        7\n",
      "0.788985088985         0.649382716049        8\n",
      "0.785618085618         0.648765432099        9\n",
      "0.780158730159         0.651851851852        10\n"
     ]
    }
   ],
   "source": [
    "for n in [1,2,3,4,5,6,7,8,9,10]:\n",
    "    knn = KNeighborsClassifier(n_neighbors = n)\n",
    "    knn.fit(x_train_pca, y_train)\n",
    "    print (knn.score(x_train_pca, y_train), \"       \",knn.score(x_test_pca, y_test), \"      \", n)"
   ]
  },
  {
   "cell_type": "code",
   "execution_count": 84,
   "metadata": {},
   "outputs": [
    {
     "name": "stdout",
     "output_type": "stream",
     "text": [
      "0.644805194805       0.64214365881       0.0001\n",
      "0.658658008658       0.654601571268       0.001\n",
      "0.679918229918       0.66531986532       0.01\n",
      "0.680832130832       0.664141414141       0.1\n",
      "0.680663780664       0.663692480359       1\n",
      "0.680663780664       0.663692480359       1.0\n",
      "0.680808080808       0.663636363636       10\n",
      "0.680808080808       0.663636363636       100\n"
     ]
    }
   ],
   "source": [
    "for C in [0.0001,0.001,0.01,0.1,1,1.0,10,100]:\n",
    "    lr = LogisticRegression(C = C)\n",
    "    lr.fit(x_train_pca, y_train)\n",
    "    print (lr.score(x_train_pca, y_train), \"     \", lr.score(x_test_pca, y_test), \"     \", C)"
   ]
  },
  {
   "cell_type": "code",
   "execution_count": 93,
   "metadata": {},
   "outputs": [
    {
     "name": "stdout",
     "output_type": "stream",
     "text": [
      "0.50241301908 0.665432098765\n"
     ]
    }
   ],
   "source": [
    "from sklearn.metrics import accuracy_score, mean_squared_error\n",
    "from sklearn.linear_model import SGDClassifier\n",
    "sgd = SGDClassifier(alpha = 0.0010, n_iter = 10)\n",
    "sgd.fit(x_train_pca, y_train)\n",
    "sgd.score(x_train_pca, y_train),sgd.score(x_test_pca, y_test)\n",
    "y_pred = sgd.predict(x_test_pca)\n",
    "mse = mean_squared_error(y_pred, y_test)\n",
    "print (mse ,accuracy_score(y_test, y_pred))"
   ]
  },
  {
   "cell_type": "code",
   "execution_count": 94,
   "metadata": {},
   "outputs": [
    {
     "name": "stdout",
     "output_type": "stream",
     "text": [
      "1e-05 3 0.813075196409 0.594332210999\n",
      "1e-05 5 0.582210998878 0.627384960718\n",
      "1e-05 10 0.539169472503 0.660830527497\n",
      "1e-05 20 0.434848484848 0.699494949495\n",
      "0.0001 3 0.496857463524 0.690347923681\n",
      "0.0001 5 0.446857463524 0.705836139169\n",
      "0.0001 10 0.465095398429 0.705611672278\n",
      "0.0001 20 0.457912457912 0.706060606061\n",
      "0.001 3 0.462738496072 0.698709315376\n",
      "0.001 5 0.474354657688 0.695847362514\n",
      "0.001 10 0.465207631874 0.698765432099\n",
      "0.001 20 0.482828282828 0.693434343434\n",
      "0.01 3 0.566947250281 0.631369248036\n",
      "0.01 5 0.564197530864 0.633782267116\n",
      "0.01 10 0.564029180696 0.634455667789\n",
      "0.01 20 0.564365881033 0.633613916947\n",
      "0.1 3 0.679349046016 0.538159371493\n",
      "0.1 5 0.679349046016 0.538159371493\n",
      "0.1 10 0.679349046016 0.538159371493\n",
      "0.1 20 0.679349046016 0.538159371493\n",
      "1 3 0.679349046016 0.538159371493\n",
      "1 5 0.679349046016 0.538159371493\n",
      "1 10 0.679349046016 0.538159371493\n",
      "1 20 0.679349046016 0.538159371493\n",
      "10 3 0.679349046016 0.538159371493\n",
      "10 5 0.679349046016 0.538159371493\n",
      "10 10 0.679349046016 0.538159371493\n",
      "10 20 0.679349046016 0.538159371493\n",
      "100 3 2.54197530864 0.0725028058361\n",
      "100 5 0.679349046016 0.538159371493\n",
      "100 10 0.679349046016 0.538159371493\n",
      "100 20 0.679349046016 0.538159371493\n"
     ]
    }
   ],
   "source": [
    "for i in [0.00001,0.0001,0.001,0.01,0.1,1,10,100]:\n",
    "    for k in [3,5,10,20]:\n",
    "        sgd = SGDClassifier(alpha = i, n_iter = k, penalty = 'L1')\n",
    "        sgd.fit(x_train_scale, y_train)\n",
    "        y_pred = sgd.predict(x_test_scale)\n",
    "        mse = mean_squared_error(y_pred, y_test)\n",
    "        print (i, k, mse ,accuracy_score(y_test, y_pred))"
   ]
  },
  {
   "cell_type": "code",
   "execution_count": 37,
   "metadata": {},
   "outputs": [
    {
     "name": "stdout",
     "output_type": "stream",
     "text": [
      "\n",
      "Model Report\n",
      "Accuracy : 0.7566\n",
      "CV Score : Mean - 0.7516114 | Std - 0.001944493 | Min - 0.7489177 | Max - 0.7539683\n",
      "             precision    recall  f1-score   support\n",
      "\n",
      "          0       0.73      0.93      0.81     22669\n",
      "          1       0.84      0.63      0.72     15886\n",
      "          2       0.68      0.12      0.21      3025\n",
      "\n",
      "avg / total       0.76      0.76      0.73     41580\n",
      "\n"
     ]
    }
   ],
   "source": [
    "from sklearn.ensemble import GradientBoostingClassifier\n",
    "from sklearn import cross_validation, metrics   #Additional scklearn functions\n",
    "from sklearn.grid_search import GridSearchCV   #Perforing grid search\n",
    "from sklearn.metrics import classification_report\n",
    "\n",
    "gbrt = GradientBoostingClassifier(random_state = 32)\n",
    "def modelfit(alg, x, y_train, performCV=True, printFeatureImportance=False, cv_folds=5):\n",
    "    #Fit the algorithm on the data\n",
    "    alg.fit(x, y_train)\n",
    "        \n",
    "    #Predict training set:\n",
    "    dtrain_predictions = alg.predict(x)\n",
    "    dtrain_predprob = alg.predict_proba(x)[:,1]\n",
    "    \n",
    "    #Perform cross-validation:\n",
    "    if performCV:\n",
    "        cv_score = cross_validation.cross_val_score(alg,x, y_train, cv=cv_folds, scoring='accuracy')\n",
    "    \n",
    "    #Print model report:\n",
    "    print (\"\\nModel Report\")\n",
    "    print (\"Accuracy : %.4g\" % metrics.accuracy_score(y_train, dtrain_predictions))\n",
    "    #print (\"AUC Score (Train): %f\" % metrics.roc_auc_score(y_train, dtrain_predprob))\n",
    "    \n",
    "    if performCV:\n",
    "        print (\"CV Score : Mean - %.7g | Std - %.7g | Min - %.7g | Max - %.7g\" % (np.mean(cv_score),np.std(cv_score),np.min(cv_score),np.max(cv_score)))\n",
    "        print (classification_report(y_train, dtrain_predictions))\n",
    "        \n",
    "    #Print Feature Importance:\n",
    "    if printFeatureImportance:\n",
    "        feat_imp = pd.Series(alg.feature_importances_,y_train).sort_values(ascending=False)\n",
    "        feat_imp.plot(kind='bar', title='Feature Importances')\n",
    "        plt.ylabel('Feature Importance Score')\n",
    "        plt.show()\n",
    "modelfit(gbrt, x_train_pca, y_train)"
   ]
  },
  {
   "cell_type": "code",
   "execution_count": 64,
   "metadata": {},
   "outputs": [],
   "source": [
    "test['funder'] = test['funder'].fillna(solution[0])"
   ]
  },
  {
   "cell_type": "code",
   "execution_count": 65,
   "metadata": {},
   "outputs": [
    {
     "data": {
      "text/plain": [
       "0"
      ]
     },
     "execution_count": 65,
     "metadata": {},
     "output_type": "execute_result"
    }
   ],
   "source": [
    "installer_solution = find_max('installer')\n",
    "test['installer'] =test['installer'].fillna(installer_solution[0])\n",
    "np.sum(test['installer'].isnull())"
   ]
  },
  {
   "cell_type": "code",
   "execution_count": 66,
   "metadata": {},
   "outputs": [
    {
     "data": {
      "text/plain": [
       "0"
      ]
     },
     "execution_count": 66,
     "metadata": {},
     "output_type": "execute_result"
    }
   ],
   "source": [
    "sub_vil_solution = find_max('subvillage')\n",
    "test['subvillage'] = test['subvillage'].fillna(sub_vil_solution[0])\n",
    "np.sum(test['subvillage'].isnull())"
   ]
  },
  {
   "cell_type": "code",
   "execution_count": 67,
   "metadata": {},
   "outputs": [],
   "source": [
    "test = test.drop('scheme_name', axis = 1)"
   ]
  },
  {
   "cell_type": "code",
   "execution_count": 68,
   "metadata": {},
   "outputs": [
    {
     "data": {
      "text/plain": [
       "0"
      ]
     },
     "execution_count": 68,
     "metadata": {},
     "output_type": "execute_result"
    }
   ],
   "source": [
    "public_meet = find_max('public_meeting')\n",
    "test['public_meeting'] = test['public_meeting'].fillna(public_meet[0])\n",
    "np.sum(test['public_meeting'].isnull())"
   ]
  },
  {
   "cell_type": "code",
   "execution_count": 69,
   "metadata": {},
   "outputs": [
    {
     "data": {
      "text/plain": [
       "0"
      ]
     },
     "execution_count": 69,
     "metadata": {},
     "output_type": "execute_result"
    }
   ],
   "source": [
    "recorded_solution = find_max('scheme_management')\n",
    "test['scheme_management'] = test['scheme_management'].fillna(recorded_solution[0])\n",
    "np.sum(test['scheme_management'].isnull())"
   ]
  },
  {
   "cell_type": "code",
   "execution_count": 70,
   "metadata": {},
   "outputs": [
    {
     "name": "stdout",
     "output_type": "stream",
     "text": [
      "<class 'pandas.core.frame.DataFrame'>\n",
      "RangeIndex: 14850 entries, 0 to 14849\n",
      "Data columns (total 39 columns):\n",
      "id                       14850 non-null int64\n",
      "amount_tsh               14850 non-null float64\n",
      "date_recorded            14850 non-null object\n",
      "funder                   14850 non-null object\n",
      "gps_height               14850 non-null int64\n",
      "installer                14850 non-null object\n",
      "longitude                14850 non-null float64\n",
      "latitude                 14850 non-null float64\n",
      "wpt_name                 14850 non-null object\n",
      "num_private              14850 non-null int64\n",
      "basin                    14850 non-null object\n",
      "subvillage               14850 non-null object\n",
      "region                   14850 non-null object\n",
      "region_code              14850 non-null int64\n",
      "district_code            14850 non-null int64\n",
      "lga                      14850 non-null object\n",
      "ward                     14850 non-null object\n",
      "population               14850 non-null int64\n",
      "public_meeting           14850 non-null bool\n",
      "recorded_by              14850 non-null object\n",
      "scheme_management        14850 non-null object\n",
      "permit                   14850 non-null bool\n",
      "construction_year        14850 non-null int64\n",
      "extraction_type          14850 non-null object\n",
      "extraction_type_group    14850 non-null object\n",
      "extraction_type_class    14850 non-null object\n",
      "management               14850 non-null object\n",
      "management_group         14850 non-null object\n",
      "payment                  14850 non-null object\n",
      "payment_type             14850 non-null object\n",
      "water_quality            14850 non-null object\n",
      "quality_group            14850 non-null object\n",
      "quantity                 14850 non-null object\n",
      "quantity_group           14850 non-null object\n",
      "source                   14850 non-null object\n",
      "source_type              14850 non-null object\n",
      "source_class             14850 non-null object\n",
      "waterpoint_type          14850 non-null object\n",
      "waterpoint_type_group    14850 non-null object\n",
      "dtypes: bool(2), float64(3), int64(7), object(27)\n",
      "memory usage: 4.2+ MB\n"
     ]
    }
   ],
   "source": [
    "permit = find_max('permit')\n",
    "test['permit'] = test['permit'].fillna(permit[0])\n",
    "test.info()"
   ]
  },
  {
   "cell_type": "code",
   "execution_count": 71,
   "metadata": {},
   "outputs": [],
   "source": [
    "test = test.drop(['date_recorded'], axis = 1)"
   ]
  },
  {
   "cell_type": "code",
   "execution_count": 72,
   "metadata": {},
   "outputs": [
    {
     "data": {
      "text/html": [
       "<div>\n",
       "<style>\n",
       "    .dataframe thead tr:only-child th {\n",
       "        text-align: right;\n",
       "    }\n",
       "\n",
       "    .dataframe thead th {\n",
       "        text-align: left;\n",
       "    }\n",
       "\n",
       "    .dataframe tbody tr th {\n",
       "        vertical-align: top;\n",
       "    }\n",
       "</style>\n",
       "<table border=\"1\" class=\"dataframe\">\n",
       "  <thead>\n",
       "    <tr style=\"text-align: right;\">\n",
       "      <th></th>\n",
       "      <th>id</th>\n",
       "      <th>amount_tsh</th>\n",
       "      <th>funder</th>\n",
       "      <th>gps_height</th>\n",
       "      <th>installer</th>\n",
       "      <th>wpt_name</th>\n",
       "      <th>num_private</th>\n",
       "      <th>basin</th>\n",
       "      <th>subvillage</th>\n",
       "      <th>region</th>\n",
       "      <th>...</th>\n",
       "      <th>payment_type</th>\n",
       "      <th>water_quality</th>\n",
       "      <th>quality_group</th>\n",
       "      <th>quantity</th>\n",
       "      <th>quantity_group</th>\n",
       "      <th>source</th>\n",
       "      <th>source_type</th>\n",
       "      <th>source_class</th>\n",
       "      <th>waterpoint_type</th>\n",
       "      <th>waterpoint_type_group</th>\n",
       "    </tr>\n",
       "  </thead>\n",
       "  <tbody>\n",
       "    <tr>\n",
       "      <th>0</th>\n",
       "      <td>50785</td>\n",
       "      <td>0.0</td>\n",
       "      <td>Dmdd</td>\n",
       "      <td>1996</td>\n",
       "      <td>DMDD</td>\n",
       "      <td>Dinamu Secondary School</td>\n",
       "      <td>0</td>\n",
       "      <td>Internal</td>\n",
       "      <td>Magoma</td>\n",
       "      <td>Manyara</td>\n",
       "      <td>...</td>\n",
       "      <td>never pay</td>\n",
       "      <td>soft</td>\n",
       "      <td>good</td>\n",
       "      <td>seasonal</td>\n",
       "      <td>seasonal</td>\n",
       "      <td>rainwater harvesting</td>\n",
       "      <td>rainwater harvesting</td>\n",
       "      <td>surface</td>\n",
       "      <td>other</td>\n",
       "      <td>other</td>\n",
       "    </tr>\n",
       "    <tr>\n",
       "      <th>1</th>\n",
       "      <td>51630</td>\n",
       "      <td>0.0</td>\n",
       "      <td>Government Of Tanzania</td>\n",
       "      <td>1569</td>\n",
       "      <td>DWE</td>\n",
       "      <td>Kimnyak</td>\n",
       "      <td>0</td>\n",
       "      <td>Pangani</td>\n",
       "      <td>Kimnyak</td>\n",
       "      <td>Arusha</td>\n",
       "      <td>...</td>\n",
       "      <td>never pay</td>\n",
       "      <td>soft</td>\n",
       "      <td>good</td>\n",
       "      <td>insufficient</td>\n",
       "      <td>insufficient</td>\n",
       "      <td>spring</td>\n",
       "      <td>spring</td>\n",
       "      <td>groundwater</td>\n",
       "      <td>communal standpipe</td>\n",
       "      <td>communal standpipe</td>\n",
       "    </tr>\n",
       "    <tr>\n",
       "      <th>2</th>\n",
       "      <td>17168</td>\n",
       "      <td>0.0</td>\n",
       "      <td>Government Of Tanzania</td>\n",
       "      <td>1567</td>\n",
       "      <td>DWE</td>\n",
       "      <td>Puma Secondary</td>\n",
       "      <td>0</td>\n",
       "      <td>Internal</td>\n",
       "      <td>Msatu</td>\n",
       "      <td>Singida</td>\n",
       "      <td>...</td>\n",
       "      <td>never pay</td>\n",
       "      <td>soft</td>\n",
       "      <td>good</td>\n",
       "      <td>insufficient</td>\n",
       "      <td>insufficient</td>\n",
       "      <td>rainwater harvesting</td>\n",
       "      <td>rainwater harvesting</td>\n",
       "      <td>surface</td>\n",
       "      <td>other</td>\n",
       "      <td>other</td>\n",
       "    </tr>\n",
       "    <tr>\n",
       "      <th>3</th>\n",
       "      <td>45559</td>\n",
       "      <td>0.0</td>\n",
       "      <td>Finn Water</td>\n",
       "      <td>267</td>\n",
       "      <td>FINN WATER</td>\n",
       "      <td>Kwa Mzee Pange</td>\n",
       "      <td>0</td>\n",
       "      <td>Ruvuma / Southern Coast</td>\n",
       "      <td>Kipindimbi</td>\n",
       "      <td>Lindi</td>\n",
       "      <td>...</td>\n",
       "      <td>unknown</td>\n",
       "      <td>soft</td>\n",
       "      <td>good</td>\n",
       "      <td>dry</td>\n",
       "      <td>dry</td>\n",
       "      <td>shallow well</td>\n",
       "      <td>shallow well</td>\n",
       "      <td>groundwater</td>\n",
       "      <td>other</td>\n",
       "      <td>other</td>\n",
       "    </tr>\n",
       "    <tr>\n",
       "      <th>4</th>\n",
       "      <td>49871</td>\n",
       "      <td>500.0</td>\n",
       "      <td>Bruder</td>\n",
       "      <td>1260</td>\n",
       "      <td>BRUDER</td>\n",
       "      <td>Kwa Mzee Turuka</td>\n",
       "      <td>0</td>\n",
       "      <td>Ruvuma / Southern Coast</td>\n",
       "      <td>Losonga</td>\n",
       "      <td>Ruvuma</td>\n",
       "      <td>...</td>\n",
       "      <td>monthly</td>\n",
       "      <td>soft</td>\n",
       "      <td>good</td>\n",
       "      <td>enough</td>\n",
       "      <td>enough</td>\n",
       "      <td>spring</td>\n",
       "      <td>spring</td>\n",
       "      <td>groundwater</td>\n",
       "      <td>communal standpipe</td>\n",
       "      <td>communal standpipe</td>\n",
       "    </tr>\n",
       "  </tbody>\n",
       "</table>\n",
       "<p>5 rows × 36 columns</p>\n",
       "</div>"
      ],
      "text/plain": [
       "      id  amount_tsh                  funder  gps_height   installer  \\\n",
       "0  50785         0.0                    Dmdd        1996        DMDD   \n",
       "1  51630         0.0  Government Of Tanzania        1569         DWE   \n",
       "2  17168         0.0  Government Of Tanzania        1567         DWE   \n",
       "3  45559         0.0              Finn Water         267  FINN WATER   \n",
       "4  49871       500.0                  Bruder        1260      BRUDER   \n",
       "\n",
       "                  wpt_name  num_private                    basin  subvillage  \\\n",
       "0  Dinamu Secondary School            0                 Internal      Magoma   \n",
       "1                  Kimnyak            0                  Pangani     Kimnyak   \n",
       "2           Puma Secondary            0                 Internal       Msatu   \n",
       "3           Kwa Mzee Pange            0  Ruvuma / Southern Coast  Kipindimbi   \n",
       "4          Kwa Mzee Turuka            0  Ruvuma / Southern Coast     Losonga   \n",
       "\n",
       "    region          ...            payment_type  water_quality quality_group  \\\n",
       "0  Manyara          ...               never pay           soft          good   \n",
       "1   Arusha          ...               never pay           soft          good   \n",
       "2  Singida          ...               never pay           soft          good   \n",
       "3    Lindi          ...                 unknown           soft          good   \n",
       "4   Ruvuma          ...                 monthly           soft          good   \n",
       "\n",
       "       quantity  quantity_group                source           source_type  \\\n",
       "0      seasonal        seasonal  rainwater harvesting  rainwater harvesting   \n",
       "1  insufficient    insufficient                spring                spring   \n",
       "2  insufficient    insufficient  rainwater harvesting  rainwater harvesting   \n",
       "3           dry             dry          shallow well          shallow well   \n",
       "4        enough          enough                spring                spring   \n",
       "\n",
       "  source_class     waterpoint_type  waterpoint_type_group  \n",
       "0      surface               other                  other  \n",
       "1  groundwater  communal standpipe     communal standpipe  \n",
       "2      surface               other                  other  \n",
       "3  groundwater               other                  other  \n",
       "4  groundwater  communal standpipe     communal standpipe  \n",
       "\n",
       "[5 rows x 36 columns]"
      ]
     },
     "execution_count": 72,
     "metadata": {},
     "output_type": "execute_result"
    }
   ],
   "source": [
    "test_file = test.drop(['latitude', 'longitude'], axis = 1)\n",
    "test_file.head()"
   ]
  },
  {
   "cell_type": "code",
   "execution_count": 73,
   "metadata": {},
   "outputs": [],
   "source": [
    "test_file['public_meeting'] = test_file['public_meeting'][test_file['public_meeting'] == True] = 1\n",
    "test_file['public_meeting'] = test_file['public_meeting'][test_file['public_meeting'] == False] = 0\n",
    "\n",
    "test_file['permit'] = test_file['permit'][test_file['permit'] == True] = 1\n",
    "test_file['permit'] = test_file['permit'][test_file['permit'] == False] = 0"
   ]
  },
  {
   "cell_type": "code",
   "execution_count": 74,
   "metadata": {},
   "outputs": [
    {
     "data": {
      "text/plain": [
       "(14850, 271)"
      ]
     },
     "execution_count": 74,
     "metadata": {},
     "output_type": "execute_result"
    }
   ],
   "source": [
    "categorical_file = pd.get_dummies(test_file,columns = categorical_column)\n",
    "categorical_file.shape"
   ]
  },
  {
   "cell_type": "code",
   "execution_count": 75,
   "metadata": {},
   "outputs": [],
   "source": [
    "adjust_ordinal = ordinal_column.remove('status_group')\n",
    "categorize = categorical_file.drop(drop_column, axis = 1)"
   ]
  },
  {
   "cell_type": "code",
   "execution_count": 76,
   "metadata": {},
   "outputs": [
    {
     "data": {
      "text/html": [
       "<div>\n",
       "<style>\n",
       "    .dataframe thead tr:only-child th {\n",
       "        text-align: right;\n",
       "    }\n",
       "\n",
       "    .dataframe thead th {\n",
       "        text-align: left;\n",
       "    }\n",
       "\n",
       "    .dataframe tbody tr th {\n",
       "        vertical-align: top;\n",
       "    }\n",
       "</style>\n",
       "<table border=\"1\" class=\"dataframe\">\n",
       "  <thead>\n",
       "    <tr style=\"text-align: right;\">\n",
       "      <th></th>\n",
       "      <th>id</th>\n",
       "      <th>amount_tsh</th>\n",
       "      <th>gps_height</th>\n",
       "      <th>num_private</th>\n",
       "      <th>region_code</th>\n",
       "      <th>district_code</th>\n",
       "      <th>population</th>\n",
       "      <th>public_meeting</th>\n",
       "      <th>recorded_by</th>\n",
       "      <th>permit</th>\n",
       "      <th>...</th>\n",
       "      <th>waterpoint_type_dam</th>\n",
       "      <th>waterpoint_type_hand pump</th>\n",
       "      <th>waterpoint_type_improved spring</th>\n",
       "      <th>waterpoint_type_other</th>\n",
       "      <th>waterpoint_type_group_cattle trough</th>\n",
       "      <th>waterpoint_type_group_communal standpipe</th>\n",
       "      <th>waterpoint_type_group_dam</th>\n",
       "      <th>waterpoint_type_group_hand pump</th>\n",
       "      <th>waterpoint_type_group_improved spring</th>\n",
       "      <th>waterpoint_type_group_other</th>\n",
       "    </tr>\n",
       "  </thead>\n",
       "  <tbody>\n",
       "    <tr>\n",
       "      <th>0</th>\n",
       "      <td>50785</td>\n",
       "      <td>0.0</td>\n",
       "      <td>1996</td>\n",
       "      <td>0</td>\n",
       "      <td>21</td>\n",
       "      <td>3</td>\n",
       "      <td>321</td>\n",
       "      <td>0</td>\n",
       "      <td>0</td>\n",
       "      <td>0</td>\n",
       "      <td>...</td>\n",
       "      <td>0</td>\n",
       "      <td>0</td>\n",
       "      <td>0</td>\n",
       "      <td>1</td>\n",
       "      <td>0</td>\n",
       "      <td>0</td>\n",
       "      <td>0</td>\n",
       "      <td>0</td>\n",
       "      <td>0</td>\n",
       "      <td>1</td>\n",
       "    </tr>\n",
       "    <tr>\n",
       "      <th>1</th>\n",
       "      <td>51630</td>\n",
       "      <td>0.0</td>\n",
       "      <td>1569</td>\n",
       "      <td>0</td>\n",
       "      <td>2</td>\n",
       "      <td>2</td>\n",
       "      <td>300</td>\n",
       "      <td>0</td>\n",
       "      <td>0</td>\n",
       "      <td>0</td>\n",
       "      <td>...</td>\n",
       "      <td>0</td>\n",
       "      <td>0</td>\n",
       "      <td>0</td>\n",
       "      <td>0</td>\n",
       "      <td>0</td>\n",
       "      <td>1</td>\n",
       "      <td>0</td>\n",
       "      <td>0</td>\n",
       "      <td>0</td>\n",
       "      <td>0</td>\n",
       "    </tr>\n",
       "    <tr>\n",
       "      <th>2</th>\n",
       "      <td>17168</td>\n",
       "      <td>0.0</td>\n",
       "      <td>1567</td>\n",
       "      <td>0</td>\n",
       "      <td>13</td>\n",
       "      <td>2</td>\n",
       "      <td>500</td>\n",
       "      <td>0</td>\n",
       "      <td>0</td>\n",
       "      <td>0</td>\n",
       "      <td>...</td>\n",
       "      <td>0</td>\n",
       "      <td>0</td>\n",
       "      <td>0</td>\n",
       "      <td>1</td>\n",
       "      <td>0</td>\n",
       "      <td>0</td>\n",
       "      <td>0</td>\n",
       "      <td>0</td>\n",
       "      <td>0</td>\n",
       "      <td>1</td>\n",
       "    </tr>\n",
       "    <tr>\n",
       "      <th>3</th>\n",
       "      <td>45559</td>\n",
       "      <td>0.0</td>\n",
       "      <td>267</td>\n",
       "      <td>0</td>\n",
       "      <td>80</td>\n",
       "      <td>43</td>\n",
       "      <td>250</td>\n",
       "      <td>0</td>\n",
       "      <td>0</td>\n",
       "      <td>0</td>\n",
       "      <td>...</td>\n",
       "      <td>0</td>\n",
       "      <td>0</td>\n",
       "      <td>0</td>\n",
       "      <td>1</td>\n",
       "      <td>0</td>\n",
       "      <td>0</td>\n",
       "      <td>0</td>\n",
       "      <td>0</td>\n",
       "      <td>0</td>\n",
       "      <td>1</td>\n",
       "    </tr>\n",
       "    <tr>\n",
       "      <th>4</th>\n",
       "      <td>49871</td>\n",
       "      <td>500.0</td>\n",
       "      <td>1260</td>\n",
       "      <td>0</td>\n",
       "      <td>10</td>\n",
       "      <td>3</td>\n",
       "      <td>60</td>\n",
       "      <td>0</td>\n",
       "      <td>0</td>\n",
       "      <td>0</td>\n",
       "      <td>...</td>\n",
       "      <td>0</td>\n",
       "      <td>0</td>\n",
       "      <td>0</td>\n",
       "      <td>0</td>\n",
       "      <td>0</td>\n",
       "      <td>1</td>\n",
       "      <td>0</td>\n",
       "      <td>0</td>\n",
       "      <td>0</td>\n",
       "      <td>0</td>\n",
       "    </tr>\n",
       "  </tbody>\n",
       "</table>\n",
       "<p>5 rows × 266 columns</p>\n",
       "</div>"
      ],
      "text/plain": [
       "      id  amount_tsh  gps_height  num_private  region_code  district_code  \\\n",
       "0  50785         0.0        1996            0           21              3   \n",
       "1  51630         0.0        1569            0            2              2   \n",
       "2  17168         0.0        1567            0           13              2   \n",
       "3  45559         0.0         267            0           80             43   \n",
       "4  49871       500.0        1260            0           10              3   \n",
       "\n",
       "   population  public_meeting  recorded_by  permit  \\\n",
       "0         321               0            0       0   \n",
       "1         300               0            0       0   \n",
       "2         500               0            0       0   \n",
       "3         250               0            0       0   \n",
       "4          60               0            0       0   \n",
       "\n",
       "              ...               waterpoint_type_dam  \\\n",
       "0             ...                                 0   \n",
       "1             ...                                 0   \n",
       "2             ...                                 0   \n",
       "3             ...                                 0   \n",
       "4             ...                                 0   \n",
       "\n",
       "   waterpoint_type_hand pump  waterpoint_type_improved spring  \\\n",
       "0                          0                                0   \n",
       "1                          0                                0   \n",
       "2                          0                                0   \n",
       "3                          0                                0   \n",
       "4                          0                                0   \n",
       "\n",
       "   waterpoint_type_other  waterpoint_type_group_cattle trough  \\\n",
       "0                      1                                    0   \n",
       "1                      0                                    0   \n",
       "2                      1                                    0   \n",
       "3                      1                                    0   \n",
       "4                      0                                    0   \n",
       "\n",
       "   waterpoint_type_group_communal standpipe  waterpoint_type_group_dam  \\\n",
       "0                                         0                          0   \n",
       "1                                         1                          0   \n",
       "2                                         0                          0   \n",
       "3                                         0                          0   \n",
       "4                                         1                          0   \n",
       "\n",
       "   waterpoint_type_group_hand pump  waterpoint_type_group_improved spring  \\\n",
       "0                                0                                      0   \n",
       "1                                0                                      0   \n",
       "2                                0                                      0   \n",
       "3                                0                                      0   \n",
       "4                                0                                      0   \n",
       "\n",
       "   waterpoint_type_group_other  \n",
       "0                            1  \n",
       "1                            0  \n",
       "2                            1  \n",
       "3                            1  \n",
       "4                            0  \n",
       "\n",
       "[5 rows x 266 columns]"
      ]
     },
     "execution_count": 76,
     "metadata": {},
     "output_type": "execute_result"
    }
   ],
   "source": [
    "ordinal_dict = {}\n",
    "for value in ordinal_column:\n",
    "    ordinal_dict = dict(categorize[value].value_counts())\n",
    "    count = 0\n",
    "    for k in ordinal_dict.keys():\n",
    "        ordinal_dict[k] = count\n",
    "        count += 1\n",
    "    categorize[value] = categorize[value].map(ordinal_dict)\n",
    "    \n",
    "categorize.head()"
   ]
  },
  {
   "cell_type": "code",
   "execution_count": 77,
   "metadata": {},
   "outputs": [],
   "source": [
    "scale = MinMaxScaler()\n",
    "std_scale = StandardScaler()\n",
    "categorize_std = std_scale.fit_transform(categorize)\n",
    "\n",
    "categorize_scale = scale.fit_transform(categorize_std)"
   ]
  },
  {
   "cell_type": "code",
   "execution_count": 78,
   "metadata": {},
   "outputs": [
    {
     "data": {
      "text/plain": [
       "(14850, 50)"
      ]
     },
     "execution_count": 78,
     "metadata": {},
     "output_type": "execute_result"
    }
   ],
   "source": [
    "categorize_scale_pca = pca.fit_transform(categorize_scale)\n",
    "np.shape(categorize_scale_pca)"
   ]
  },
  {
   "cell_type": "code",
   "execution_count": 81,
   "metadata": {},
   "outputs": [],
   "source": [
    "lr_predict = lr.predict(categorize_scale_pca)\n",
    "knn_predict = knn.predict(categorize_scale_pca)"
   ]
  },
  {
   "cell_type": "code",
   "execution_count": null,
   "metadata": {},
   "outputs": [],
   "source": [
    "help (pd.DataFrame)"
   ]
  },
  {
   "cell_type": "code",
   "execution_count": 95,
   "metadata": {},
   "outputs": [],
   "source": [
    "submit_frame = {}\n",
    "submit_frame['id'] = test['id']\n",
    "submit_frame['status_group'] = lr_predict\n",
    "\n",
    "submit_frame = pd.DataFrame(submit_frame, dtype = None)\n",
    "submit_frame.get('dtype')"
   ]
  },
  {
   "cell_type": "code",
   "execution_count": null,
   "metadata": {},
   "outputs": [],
   "source": [
    "help (submit_frame.to_csv)"
   ]
  },
  {
   "cell_type": "code",
   "execution_count": 96,
   "metadata": {},
   "outputs": [],
   "source": [
    "submit_frame.to_csv(r\"C:\\Users\\ACER\\Desktop\\Terragon recruitment\\data mining the water table submission\\lr_first_this.csv\", index = False)"
   ]
  },
  {
   "cell_type": "code",
   "execution_count": 97,
   "metadata": {},
   "outputs": [
    {
     "data": {
      "text/plain": [
       "GridSearchCV(cv=5, error_score='raise',\n",
       "       estimator=GradientBoostingClassifier(criterion='friedman_mse', init=None,\n",
       "              learning_rate=0.1, loss='deviance', max_depth=8,\n",
       "              max_features='sqrt', max_leaf_nodes=None,\n",
       "              min_impurity_split=1e-07, min_samples_leaf=50,\n",
       "              min_samples_split=500, min_weight_fraction_leaf=0.0,\n",
       "              n_estimators=100, presort='auto', random_state=32,\n",
       "              subsample=0.8, verbose=0, warm_start=False),\n",
       "       fit_params={}, iid=True, n_jobs=1,\n",
       "       param_grid={'n_estimators': [350, 400]}, pre_dispatch='2*n_jobs',\n",
       "       refit=True, scoring='accuracy', verbose=0)"
      ]
     },
     "execution_count": 97,
     "metadata": {},
     "output_type": "execute_result"
    }
   ],
   "source": [
    "#Choose all predictors except target & IDcols\n",
    "\n",
    "predictors = [x for x in train.columns if x not in ['id']]\n",
    "param_test1 = {'n_estimators':[350,400]}\n",
    "gsearch1 = GridSearchCV(estimator = GradientBoostingClassifier(learning_rate=0.1, min_samples_split=500,min_samples_leaf=50,max_depth=8,max_features='sqrt',subsample=0.8,random_state=32), \n",
    "param_grid = param_test1, scoring='accuracy', cv=5)\n",
    "gsearch1.fit(x_train_pca,y_train)"
   ]
  },
  {
   "cell_type": "code",
   "execution_count": 113,
   "metadata": {},
   "outputs": [
    {
     "data": {
      "text/plain": [
       "[mean: 0.76659, std: 0.00093, params: {'n_estimators': 350},\n",
       " mean: 0.76712, std: 0.00157, params: {'n_estimators': 400}]"
      ]
     },
     "execution_count": 113,
     "metadata": {},
     "output_type": "execute_result"
    }
   ],
   "source": [
    "gsearch1.grid_scores_"
   ]
  },
  {
   "cell_type": "code",
   "execution_count": 114,
   "metadata": {},
   "outputs": [
    {
     "data": {
      "text/plain": [
       "{'n_estimators': 400}"
      ]
     },
     "execution_count": 114,
     "metadata": {},
     "output_type": "execute_result"
    }
   ],
   "source": [
    "gsearch1.best_params_"
   ]
  },
  {
   "cell_type": "code",
   "execution_count": 115,
   "metadata": {},
   "outputs": [
    {
     "data": {
      "text/plain": [
       "0.7671236171236171"
      ]
     },
     "execution_count": 115,
     "metadata": {},
     "output_type": "execute_result"
    }
   ],
   "source": [
    "gsearch1.best_score_"
   ]
  },
  {
   "cell_type": "code",
   "execution_count": null,
   "metadata": {},
   "outputs": [],
   "source": [
    "param_test2 = {'max_depth':[14, 16,18,20,22], 'min_samples_split':[200,300,400,500,600,700,800,900,1000]}\n",
    "gsearch2 = GridSearchCV(estimator = GradientBoostingClassifier(learning_rate=0.1, n_estimators=400, max_features='sqrt', subsample=0.8, random_state=32),\n",
    "                        param_grid = param_test2, scoring='accuracy', cv=5)\n",
    "gsearch2.fit(x_train_pca,y_train)\n",
    "gsearch2.grid_scores_"
   ]
  },
  {
   "cell_type": "code",
   "execution_count": null,
   "metadata": {},
   "outputs": [],
   "source": [
    "gsearch2.best_params_"
   ]
  },
  {
   "cell_type": "code",
   "execution_count": null,
   "metadata": {},
   "outputs": [],
   "source": [
    "gsearch2.best_score_"
   ]
  },
  {
   "cell_type": "code",
   "execution_count": null,
   "metadata": {},
   "outputs": [],
   "source": []
  },
  {
   "cell_type": "code",
   "execution_count": null,
   "metadata": {},
   "outputs": [],
   "source": []
  }
 ],
 "metadata": {
  "kernelspec": {
   "display_name": "Python 3",
   "language": "python",
   "name": "python3"
  },
  "language_info": {
   "codemirror_mode": {
    "name": "ipython",
    "version": 3
   },
   "file_extension": ".py",
   "mimetype": "text/x-python",
   "name": "python",
   "nbconvert_exporter": "python",
   "pygments_lexer": "ipython3",
   "version": "3.6.1"
  }
 },
 "nbformat": 4,
 "nbformat_minor": 2
}
