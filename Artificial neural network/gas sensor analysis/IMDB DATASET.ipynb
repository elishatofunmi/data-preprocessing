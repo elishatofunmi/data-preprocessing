{
 "cells": [
  {
   "cell_type": "code",
   "execution_count": 1,
   "metadata": {},
   "outputs": [
    {
     "name": "stderr",
     "output_type": "stream",
     "text": [
      "Using TensorFlow backend.\n"
     ]
    }
   ],
   "source": [
    "import keras\n",
    "import pandas as pd\n",
    "import numpy as np\n",
    "import scipy as sp\n",
    "import seaborn as sns"
   ]
  },
  {
   "cell_type": "code",
   "execution_count": 2,
   "metadata": {},
   "outputs": [],
   "source": [
    "from keras.datasets import imdb\n",
    "(train_data, train_labels), (test_data, test_labels) = imdb.load_data(num_words = 10000)"
   ]
  },
  {
   "cell_type": "code",
   "execution_count": 3,
   "metadata": {},
   "outputs": [
    {
     "data": {
      "text/plain": [
       "9999"
      ]
     },
     "execution_count": 3,
     "metadata": {},
     "output_type": "execute_result"
    }
   ],
   "source": [
    "max([max(sequence) for sequence in train_data])"
   ]
  },
  {
   "cell_type": "code",
   "execution_count": 5,
   "metadata": {},
   "outputs": [],
   "source": [
    "word_index = imdb.get_word_index()\n",
    "reverse_word_index = dict([(value, key) for (key, value) in word_index.items()])\n",
    "decode_review = ' '.join([reverse_word_index.get(i -3, '?') for i in train_data[0]])"
   ]
  },
  {
   "cell_type": "code",
   "execution_count": 9,
   "metadata": {},
   "outputs": [
    {
     "data": {
      "text/plain": [
       "\"? this film was just brilliant casting location scenery story direction everyone's really suited the part they played and you could just imagine being there robert ? is an amazing actor and now the same being director ? father came from the same scottish island as myself so i loved the fact there was a real connection with this film the witty remarks throughout the film were great it was just brilliant so much that i bought the film as soon as it was released for ? and would recommend it to everyone to watch and the fly fishing was amazing really cried at the end it was so sad and you know what they say if you cry at a film it must have been good and this definitely was also ? to the two little boy's that played the ? of norman and paul they were just brilliant children are often left out of the ? list i think because the stars that play them all grown up are such a big profile for the whole film but these children are amazing and should be praised for what they have done don't you think the whole story was so lovely because it was true and was someone's life after all that was shared with us all\""
      ]
     },
     "execution_count": 9,
     "metadata": {},
     "output_type": "execute_result"
    }
   ],
   "source": [
    "decode_review"
   ]
  },
  {
   "cell_type": "code",
   "execution_count": 26,
   "metadata": {},
   "outputs": [],
   "source": [
    "# you can't feed lists of integers into a neural network. You have to turn your lists into \n",
    "# tensors.\n",
    "\n",
    "# lets vectorize the data\n",
    "\n",
    "import numpy as np\n",
    "def vectorize_sequences(sequences, dimension= 10000):\n",
    "    results = np.zeros((len(sequences), dimension), dtype = np.int)\n",
    "    for i, sequence in enumerate(sequences):\n",
    "        results[i, sequence] = 1\n",
    "    return results\n",
    "x_train = vectorize_sequences(train_data)\n",
    "x_text = vectorize_sequences(test_data)"
   ]
  },
  {
   "cell_type": "code",
   "execution_count": 28,
   "metadata": {},
   "outputs": [
    {
     "data": {
      "text/plain": [
       "array([0, 1, 1, ..., 0, 0, 0])"
      ]
     },
     "execution_count": 28,
     "metadata": {},
     "output_type": "execute_result"
    }
   ],
   "source": [
    "x_train[0]"
   ]
  },
  {
   "cell_type": "code",
   "execution_count": 29,
   "metadata": {},
   "outputs": [],
   "source": [
    "y_train = np.asarray(train_labels).astype('float32')\n",
    "y_test = np.asarray(test_labels).astype('float32')"
   ]
  },
  {
   "cell_type": "code",
   "execution_count": 31,
   "metadata": {},
   "outputs": [
    {
     "data": {
      "text/plain": [
       "array([ 0.,  1.,  1., ...,  0.,  0.,  0.], dtype=float32)"
      ]
     },
     "execution_count": 31,
     "metadata": {},
     "output_type": "execute_result"
    }
   ],
   "source": [
    "y_test"
   ]
  },
  {
   "cell_type": "code",
   "execution_count": 32,
   "metadata": {},
   "outputs": [],
   "source": [
    "# building your network\n",
    "# the input data is vector, and the labels are scalers (1s and 0s)\n",
    "# a type of network that performs well on such a problem is a simple stack of fully connected\n",
    "# (Dense) layers with relu activatioins: Dense (16, activation = 'relu')\n",
    "\n",
    "# The argument being passed to each dense layer (16) is the number of hidden unit of the\n",
    "# layer. A hidden unit is a dimension in the representation space of the layer."
   ]
  },
  {
   "cell_type": "code",
   "execution_count": 33,
   "metadata": {},
   "outputs": [],
   "source": [
    "# the model defination\n",
    "from keras import models\n",
    "from keras import layers\n",
    "\n",
    "model = models.Sequential()\n",
    "model.add(layers.Dense(16, activation = 'relu', input_shape = (10000,)))\n",
    "model.add(layers.Dense(16, activation = 'relu'))\n",
    "model.add(layers.Dense(1, activation = 'sigmoid'))"
   ]
  },
  {
   "cell_type": "code",
   "execution_count": 34,
   "metadata": {},
   "outputs": [],
   "source": [
    "# A relu (rectified linear unit) is a function meant to zero out negative values whereas\n",
    "# a sigmoid \"squashes\" arbitrary values into the [0,1] interval, outputing something that can\n",
    "# be interpreted as a probability."
   ]
  },
  {
   "cell_type": "code",
   "execution_count": 35,
   "metadata": {},
   "outputs": [],
   "source": [
    "# compiling the model\n",
    "# we will have to use a loss function and an optimizer. Because it is a binary classification\n",
    "# problem and the output of your network is a probability (you end your network with a single-unit\n",
    "# layer with a sigmoid activation).\n",
    "model.compile(optimizer = 'rmsprop', loss = 'binary_crossentropy', metrics = ['accuracy'])"
   ]
  },
  {
   "cell_type": "code",
   "execution_count": 36,
   "metadata": {},
   "outputs": [],
   "source": [
    "# configuring the optimizer\n",
    "from keras import optimizers\n",
    "model.compile(optimizer = optimizers.RMSprop(lr = 0.001), loss = 'binary_crossentropy', metrics = ['accuracy'])"
   ]
  },
  {
   "cell_type": "code",
   "execution_count": 37,
   "metadata": {},
   "outputs": [],
   "source": [
    "# using custom losses and metrics\n",
    "from keras import losses\n",
    "from keras import metrics\n",
    "model.compile(optimizer = optimizers.RMSprop(lr = 0.001), loss = losses.binary_crossentropy,\n",
    "             metrics = [metrics.binary_accuracy])\n"
   ]
  },
  {
   "cell_type": "code",
   "execution_count": 38,
   "metadata": {},
   "outputs": [
    {
     "name": "stdout",
     "output_type": "stream",
     "text": [
      "Train on 15000 samples, validate on 10000 samples\n",
      "Epoch 1/20\n",
      " 1024/15000 [=>............................] - ETA: 33:09 - loss: 0.6917 - acc: 0.5342"
     ]
    },
    {
     "name": "stderr",
     "output_type": "stream",
     "text": [
      "C:\\Users\\ACER\\Anaconda3\\lib\\site-packages\\keras\\callbacks.py:120: UserWarning: Method on_batch_end() is slow compared to the batch update (0.126251). Check your callbacks.\n",
      "  % delta_t_median)\n"
     ]
    },
    {
     "name": "stdout",
     "output_type": "stream",
     "text": [
      "15000/15000 [==============================] - 1160s 77ms/step - loss: 0.5103 - acc: 0.7787 - val_loss: 0.3834 - val_acc: 0.8659\n",
      "Epoch 2/20\n",
      "15000/15000 [==============================] - 5s 314us/step - loss: 0.3013 - acc: 0.9042 - val_loss: 0.2995 - val_acc: 0.8909\n",
      "Epoch 3/20\n",
      "15000/15000 [==============================] - 4s 262us/step - loss: 0.2161 - acc: 0.9289 - val_loss: 0.3073 - val_acc: 0.8725\n",
      "Epoch 4/20\n",
      "15000/15000 [==============================] - 4s 251us/step - loss: 0.1728 - acc: 0.9435 - val_loss: 0.2834 - val_acc: 0.8844\n",
      "Epoch 5/20\n",
      "15000/15000 [==============================] - 5s 312us/step - loss: 0.1396 - acc: 0.9555 - val_loss: 0.2855 - val_acc: 0.8866\n",
      "Epoch 6/20\n",
      "15000/15000 [==============================] - 5s 306us/step - loss: 0.1118 - acc: 0.9661 - val_loss: 0.3160 - val_acc: 0.8786\n",
      "Epoch 7/20\n",
      "15000/15000 [==============================] - 4s 296us/step - loss: 0.0947 - acc: 0.9723 - val_loss: 0.3161 - val_acc: 0.8845\n",
      "Epoch 8/20\n",
      "15000/15000 [==============================] - 4s 270us/step - loss: 0.0773 - acc: 0.9774 - val_loss: 0.3913 - val_acc: 0.8647\n",
      "Epoch 9/20\n",
      "15000/15000 [==============================] - 5s 325us/step - loss: 0.0627 - acc: 0.9827 - val_loss: 0.3707 - val_acc: 0.8762\n",
      "Epoch 10/20\n",
      "15000/15000 [==============================] - 5s 329us/step - loss: 0.0534 - acc: 0.9853 - val_loss: 0.3913 - val_acc: 0.8785\n",
      "Epoch 11/20\n",
      "15000/15000 [==============================] - 4s 256us/step - loss: 0.0401 - acc: 0.9911 - val_loss: 0.4244 - val_acc: 0.8764\n",
      "Epoch 12/20\n",
      "15000/15000 [==============================] - 4s 265us/step - loss: 0.0354 - acc: 0.9925 - val_loss: 0.4655 - val_acc: 0.8675\n",
      "Epoch 13/20\n",
      "15000/15000 [==============================] - 5s 320us/step - loss: 0.0277 - acc: 0.9939 - val_loss: 0.4795 - val_acc: 0.8736\n",
      "Epoch 14/20\n",
      "15000/15000 [==============================] - 5s 333us/step - loss: 0.0212 - acc: 0.9962 - val_loss: 0.5110 - val_acc: 0.8722\n",
      "Epoch 15/20\n",
      "15000/15000 [==============================] - 5s 328us/step - loss: 0.0163 - acc: 0.9979 - val_loss: 0.5403 - val_acc: 0.8697\n",
      "Epoch 16/20\n",
      "15000/15000 [==============================] - 5s 356us/step - loss: 0.0144 - acc: 0.9983 - val_loss: 0.5784 - val_acc: 0.8696\n",
      "Epoch 17/20\n",
      "15000/15000 [==============================] - 5s 338us/step - loss: 0.0131 - acc: 0.9975 - val_loss: 0.6066 - val_acc: 0.8689\n",
      "Epoch 18/20\n",
      "15000/15000 [==============================] - 4s 266us/step - loss: 0.0066 - acc: 0.9996 - val_loss: 0.6477 - val_acc: 0.8677\n",
      "Epoch 19/20\n",
      "15000/15000 [==============================] - 5s 335us/step - loss: 0.0109 - acc: 0.9979 - val_loss: 0.6667 - val_acc: 0.8676\n",
      "Epoch 20/20\n",
      "15000/15000 [==============================] - 5s 331us/step - loss: 0.0036 - acc: 0.9999 - val_loss: 0.6925 - val_acc: 0.8677\n"
     ]
    }
   ],
   "source": [
    "# validating your approach\n",
    "# Setting aside a validation set\n",
    "\n",
    "\n",
    "x_val = x_train[:10000]\n",
    "partial_x_train = x_train[10000:]\n",
    "\n",
    "y_val = y_train[:10000]\n",
    "partial_y_train =  y_train[10000:]\n",
    "\n",
    "# you'll now train the model for 20 epochs (20 iterations over all samples in the x_train and y_train tensors)\n",
    "#  in mini-batches of 512 samples\n",
    "\n",
    "# training your model\n",
    "model.compile(optimizer = 'rmsprop', loss = 'binary_crossentropy', metrics = ['acc'])\n",
    "history = model.fit(partial_x_train, partial_y_train, epochs = 20, batch_size = 512, validation_data = (x_val, y_val))\n"
   ]
  },
  {
   "cell_type": "code",
   "execution_count": 40,
   "metadata": {},
   "outputs": [
    {
     "data": {
      "text/plain": [
       "dict_keys(['val_loss', 'val_acc', 'loss', 'acc'])"
      ]
     },
     "execution_count": 40,
     "metadata": {},
     "output_type": "execute_result"
    }
   ],
   "source": [
    "history_dict = history.history\n",
    "history_dict.keys()"
   ]
  },
  {
   "cell_type": "code",
   "execution_count": 43,
   "metadata": {},
   "outputs": [
    {
     "data": {
      "image/png": "[encoded data removed]",
      "text/plain": [
       "<matplotlib.figure.Figure at 0xf4d85c0>"
      ]
     },
     "metadata": {},
     "output_type": "display_data"
    }
   ],
   "source": [
    "# plotting the training and validation loss\n",
    "import matplotlib.pyplot as plt\n",
    "loss_values = history_dict['loss']\n",
    "val_loss_values = history_dict['val_loss']\n",
    "\n",
    "epochs = range(1, 21)\n",
    "plt.plot(epochs, loss_values, 'bo', label = 'Training loss')\n",
    "plt.plot(epochs, val_loss_values, 'b', label = 'validation loss')\n",
    "plt.title('Training and validation loss')\n",
    "plt.xlabel('Epochs')\n",
    "plt.ylabel('Loss')\n",
    "plt.legend()\n",
    "plt.show()"
   ]
  },
  {
   "cell_type": "code",
   "execution_count": 46,
   "metadata": {},
   "outputs": [
    {
     "data": {
      "image/png": "[encoded data removed]",
      "text/plain": [
       "<matplotlib.figure.Figure at 0xfe78dd8>"
      ]
     },
     "metadata": {},
     "output_type": "display_data"
    }
   ],
   "source": [
    "# plotting the training and validation accuracy\n",
    "plt.clf()\n",
    "acc_values = history_dict['acc']\n",
    "val_acc_values = history_dict['val_acc']\n",
    "\n",
    "plt.plot(epochs, history_dict['acc'], 'bo', label = 'Training acc')\n",
    "plt.plot(epochs, history_dict['val_acc'], 'b', label = 'validation acc')\n",
    "plt.title('Training and validation accuracy')\n",
    "plt.xlabel('Epochs')\n",
    "plt.ylabel('Loss')\n",
    "plt.legend()\n",
    "plt.show()"
   ]
  },
  {
   "cell_type": "code",
   "execution_count": 50,
   "metadata": {},
   "outputs": [
    {
     "name": "stdout",
     "output_type": "stream",
     "text": [
      "Epoch 1/4\n",
      "25000/25000 [==============================] - 7s 290us/step - loss: 0.4579 - acc: 0.8133\n",
      "Epoch 2/4\n",
      "25000/25000 [==============================] - 6s 229us/step - loss: 0.2627 - acc: 0.9094\n",
      "Epoch 3/4\n",
      "25000/25000 [==============================] - 6s 248us/step - loss: 0.2004 - acc: 0.9282\n",
      "Epoch 4/4\n",
      "25000/25000 [==============================] - 5s 217us/step - loss: 0.1692 - acc: 0.9384\n",
      "25000/25000 [==============================] - 642s 26ms/step\n"
     ]
    },
    {
     "data": {
      "text/plain": [
       "[0.2965703438282013, 0.88307999999999998]"
      ]
     },
     "execution_count": 50,
     "metadata": {},
     "output_type": "execute_result"
    }
   ],
   "source": [
    "# training a new network from scratch using 4 epochs\n",
    "\n",
    "model = models.Sequential()\n",
    "model.add(layers.Dense(16, activation = 'relu', input_shape = (10000,)))\n",
    "model.add(layers.Dense(16, activation = 'relu'))\n",
    "model.add(layers.Dense(1, activation = 'sigmoid'))\n",
    "\n",
    "model.compile(optimizer = 'rmsprop', loss = 'binary_crossentropy', metrics = ['accuracy'])\n",
    "model.fit(x_train, y_train, epochs = 4, batch_size = 512)\n",
    "results = model.evaluate(x_text, y_test)\n",
    "results"
   ]
  },
  {
   "cell_type": "code",
   "execution_count": 52,
   "metadata": {},
   "outputs": [],
   "source": [
    "# using a trained network to generate predictions on new data\n",
    "y_pred = model.predict(x_text)\n",
    "import sklearn\n"
   ]
  },
  {
   "cell_type": "code",
   "execution_count": 56,
   "metadata": {},
   "outputs": [],
   "source": [
    "y_pred[y_pred >= 0.5] =1\n",
    "y_pred[y_pred < 0.5] = 0"
   ]
  },
  {
   "cell_type": "code",
   "execution_count": 58,
   "metadata": {},
   "outputs": [],
   "source": [
    "from sklearn.metrics import accuracy_score\n",
    "value = accuracy_score(y_pred, y_test)"
   ]
  },
  {
   "cell_type": "code",
   "execution_count": 59,
   "metadata": {},
   "outputs": [
    {
     "data": {
      "text/plain": [
       "0.88307999999999998"
      ]
     },
     "execution_count": 59,
     "metadata": {},
     "output_type": "execute_result"
    }
   ],
   "source": [
    "value"
   ]
  },
  {
   "cell_type": "code",
   "execution_count": null,
   "metadata": {},
   "outputs": [],
   "source": []
  }
 ],
 "metadata": {
  "kernelspec": {
   "display_name": "Python 3",
   "language": "python",
   "name": "python3"
  },
  "language_info": {
   "codemirror_mode": {
    "name": "ipython",
    "version": 3
   },
   "file_extension": ".py",
   "mimetype": "text/x-python",
   "name": "python",
   "nbconvert_exporter": "python",
   "pygments_lexer": "ipython3",
   "version": "3.6.1"
  }
 },
 "nbformat": 4,
 "nbformat_minor": 2
}
