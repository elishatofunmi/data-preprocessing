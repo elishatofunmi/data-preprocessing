{
 "cells": [
  {
   "cell_type": "code",
   "execution_count": 3,
   "metadata": {},
   "outputs": [
    {
     "name": "stdout",
     "output_type": "stream",
     "text": [
      "Downloading data from https://s3.amazonaws.com/text-datasets/reuters.npz\n",
      "2113536/2110848 [==============================] - 32s 15us/step\n"
     ]
    }
   ],
   "source": [
    "#  Reuters dataset is a set of short newswires and their topics, published by Reuters in 1986\n",
    "# loading the reuters dataset\n",
    "\n",
    "\n",
    "from keras.datasets import reuters\n",
    "(train_data, train_labels), (test_data, test_labels) = reuters.load_data(num_words = 10000)"
   ]
  },
  {
   "cell_type": "code",
   "execution_count": 4,
   "metadata": {},
   "outputs": [
    {
     "data": {
      "text/plain": [
       "(8982, 2246)"
      ]
     },
     "execution_count": 4,
     "metadata": {},
     "output_type": "execute_result"
    }
   ],
   "source": [
    "len(train_data), len(test_data)"
   ]
  },
  {
   "cell_type": "code",
   "execution_count": 6,
   "metadata": {},
   "outputs": [
    {
     "name": "stdout",
     "output_type": "stream",
     "text": [
      "Downloading data from https://s3.amazonaws.com/text-datasets/reuters_word_index.json\n",
      "557056/550378 [==============================] - 1s 2us/step\n"
     ]
    }
   ],
   "source": [
    "# decoding newswire back to text\n",
    "word_index = reuters.get_word_index()\n",
    "reverse_word_index = dict([(value, key) for (key, value) in word_index.items()])\n",
    "decoded_newswire = ' '.join([reverse_word_index.get(i - 3, '?') for i in train_data[0]])"
   ]
  },
  {
   "cell_type": "code",
   "execution_count": 12,
   "metadata": {},
   "outputs": [],
   "source": [
    "# preparing the data\n",
    "import numpy as np\n",
    "def vectorized_sequences(sequences, dimension = 10000):\n",
    "    results = np.zeros((len(sequences), dimension))\n",
    "    for i, sequence in enumerate(sequences):\n",
    "        results[i, sequence] = 1\n",
    "    return results\n",
    "\n",
    "x_train = vectorized_sequences(train_data)\n",
    "x_test = vectorized_sequences(test_data)"
   ]
  },
  {
   "cell_type": "code",
   "execution_count": 13,
   "metadata": {},
   "outputs": [],
   "source": [
    "# vectorization by one-hot encoding\n",
    "def to_one_hot(labels, dimension = 46):\n",
    "    results = np.zeros((len(labels), dimension))\n",
    "    for i, label in enumerate(labels):\n",
    "        results[i, label] = 1\n",
    "    return results\n",
    "\n",
    "\n",
    "one_hot_train_labels = to_one_hot(train_labels)\n",
    "one_hot_test_labels = to_one_hot(test_labels)"
   ]
  },
  {
   "cell_type": "code",
   "execution_count": 14,
   "metadata": {},
   "outputs": [],
   "source": [
    "# there is a built in way to do it in keras, which is\n",
    "from keras.utils.np_utils import to_categorical\n",
    "one_hot_train_labels_ke = to_categorical(train_labels)\n",
    "one_hot_test_labels_ke = to_categorical(test_labels)"
   ]
  },
  {
   "cell_type": "code",
   "execution_count": 18,
   "metadata": {},
   "outputs": [
    {
     "data": {
      "text/plain": [
       "(2246, 46)"
      ]
     },
     "execution_count": 18,
     "metadata": {},
     "output_type": "execute_result"
    }
   ],
   "source": [
    "one_hot_test_labels.shape"
   ]
  },
  {
   "cell_type": "code",
   "execution_count": 20,
   "metadata": {},
   "outputs": [],
   "source": [
    "# building your network\n",
    "\n",
    "# 16 dimensional space may be too limited to separate 46 different classes; such\n",
    "# small layers may act as information bottlenecks, permanently dropping relevant\n",
    "# information. for this reason let's use 64 units\n",
    "\n",
    "# model defination\n",
    "from keras import models\n",
    "from keras import layers\n",
    "model = models.Sequential()\n",
    "model.add(layers.Dense(64, activation = 'relu', input_shape = (10000,)))\n",
    "model.add(layers.Dense(64, activation = 'relu'))\n",
    "model.add(layers.Dense(46, activation = 'softmax'))\n",
    "\n"
   ]
  },
  {
   "cell_type": "code",
   "execution_count": 21,
   "metadata": {},
   "outputs": [],
   "source": [
    "# The best loss function to use in this case is categorical_crossentropy. It measures\n",
    "# the distance between two probability distrbutions.\n",
    "\n",
    "# compiling the model\n",
    "\n",
    "model.compile(optimizer = 'rmsprop', loss = 'categorical_crossentropy', metrics = ['accuracy'])"
   ]
  },
  {
   "cell_type": "code",
   "execution_count": 23,
   "metadata": {},
   "outputs": [],
   "source": [
    "# validating your approach\n",
    "# Setting aside a validation set\n",
    "x_val = x_train[:1000]\n",
    "partial_x_train = x_train[1000:]\n",
    "\n",
    "y_val = one_hot_train_labels[:1000]\n",
    "partial_y_train = one_hot_train_labels[1000:]\n"
   ]
  },
  {
   "cell_type": "code",
   "execution_count": 26,
   "metadata": {},
   "outputs": [
    {
     "name": "stdout",
     "output_type": "stream",
     "text": [
      "Train on 7982 samples, validate on 1000 samples\n",
      "Epoch 1/20\n",
      "7982/7982 [==============================] - 12s 2ms/step - loss: 2.5241 - acc: 0.4977 - val_loss: 1.7183 - val_acc: 0.6120\n",
      "Epoch 2/20\n",
      "7982/7982 [==============================] - 3s 428us/step - loss: 1.4443 - acc: 0.6889 - val_loss: 1.3496 - val_acc: 0.7090\n",
      "Epoch 3/20\n",
      "7982/7982 [==============================] - 4s 438us/step - loss: 1.0993 - acc: 0.7641 - val_loss: 1.1745 - val_acc: 0.7430\n",
      "Epoch 4/20\n",
      "7982/7982 [==============================] - 3s 397us/step - loss: 0.8729 - acc: 0.8157 - val_loss: 1.0842 - val_acc: 0.7580\n",
      "Epoch 5/20\n",
      "7982/7982 [==============================] - 3s 402us/step - loss: 0.7061 - acc: 0.8492 - val_loss: 0.9869 - val_acc: 0.7830\n",
      "Epoch 6/20\n",
      "7982/7982 [==============================] - 4s 489us/step - loss: 0.5696 - acc: 0.8790 - val_loss: 0.9418 - val_acc: 0.8040\n",
      "Epoch 7/20\n",
      "7982/7982 [==============================] - 4s 448us/step - loss: 0.4626 - acc: 0.9034 - val_loss: 0.9092 - val_acc: 0.8030\n",
      "Epoch 8/20\n",
      "7982/7982 [==============================] - 4s 465us/step - loss: 0.3728 - acc: 0.9221 - val_loss: 0.9330 - val_acc: 0.7910\n",
      "Epoch 9/20\n",
      "7982/7982 [==============================] - 4s 522us/step - loss: 0.3052 - acc: 0.9315 - val_loss: 0.8901 - val_acc: 0.8060\n",
      "Epoch 10/20\n",
      "7982/7982 [==============================] - 4s 475us/step - loss: 0.2547 - acc: 0.9415 - val_loss: 0.9053 - val_acc: 0.8140\n",
      "Epoch 11/20\n",
      "7982/7982 [==============================] - 4s 464us/step - loss: 0.2191 - acc: 0.9473 - val_loss: 0.9172 - val_acc: 0.8110\n",
      "Epoch 12/20\n",
      "7982/7982 [==============================] - 4s 470us/step - loss: 0.1877 - acc: 0.9513 - val_loss: 0.9061 - val_acc: 0.8130\n",
      "Epoch 13/20\n",
      "7982/7982 [==============================] - 4s 486us/step - loss: 0.1704 - acc: 0.9523 - val_loss: 0.9317 - val_acc: 0.8090\n",
      "Epoch 14/20\n",
      "7982/7982 [==============================] - 5s 570us/step - loss: 0.1534 - acc: 0.9555 - val_loss: 0.9633 - val_acc: 0.8050\n",
      "Epoch 15/20\n",
      "7982/7982 [==============================] - 4s 475us/step - loss: 0.1393 - acc: 0.9562 - val_loss: 0.9672 - val_acc: 0.8130\n",
      "Epoch 16/20\n",
      "7982/7982 [==============================] - 4s 470us/step - loss: 0.1315 - acc: 0.9559 - val_loss: 1.0246 - val_acc: 0.8030\n",
      "Epoch 17/20\n",
      "7982/7982 [==============================] - 4s 486us/step - loss: 0.1221 - acc: 0.9575 - val_loss: 1.0279 - val_acc: 0.7980\n",
      "Epoch 18/20\n",
      "7982/7982 [==============================] - 4s 552us/step - loss: 0.1199 - acc: 0.9572 - val_loss: 1.0402 - val_acc: 0.8040\n",
      "Epoch 19/20\n",
      "7982/7982 [==============================] - 4s 481us/step - loss: 0.1140 - acc: 0.9593 - val_loss: 1.0959 - val_acc: 0.7940\n",
      "Epoch 20/20\n",
      "7982/7982 [==============================] - 4s 457us/step - loss: 0.1112 - acc: 0.9597 - val_loss: 1.0679 - val_acc: 0.7980\n"
     ]
    }
   ],
   "source": [
    "# training the network for 20 epochs\n",
    "history = model.fit(partial_x_train, partial_y_train, epochs = 20, batch_size = 512, validation_data = (x_val, y_val))"
   ]
  },
  {
   "cell_type": "code",
   "execution_count": 32,
   "metadata": {},
   "outputs": [
    {
     "data": {
      "image/png": "[encoded data removed]",
      "text/plain": [
       "<matplotlib.figure.Figure at 0xda18668>"
      ]
     },
     "metadata": {},
     "output_type": "display_data"
    }
   ],
   "source": [
    "# plotting the training and validation loss\n",
    "import matplotlib.pyplot as plt\n",
    "loss = history.history['loss']\n",
    "val_loss = history.history['val_loss']\n",
    "epochs = range(1, len(loss) + 1)\n",
    "plt.plot(epochs, loss, 'bo', label = 'Training loss')\n",
    "plt.plot (epochs, val_loss, 'b', label = 'validation loss')\n",
    "plt.title('Training and validation loss')\n",
    "plt.xlabel('Epochs')\n",
    "plt.ylabel('Loss')\n",
    "plt.grid()\n",
    "plt.legend()\n",
    "plt.show()"
   ]
  },
  {
   "cell_type": "code",
   "execution_count": 34,
   "metadata": {},
   "outputs": [
    {
     "data": {
      "image/png": "[encoded data removed]",
      "text/plain": [
       "<matplotlib.figure.Figure at 0xecd8eb8>"
      ]
     },
     "metadata": {},
     "output_type": "display_data"
    }
   ],
   "source": [
    "# plotting the training and validation accuracy\n",
    "plt.clf() # clears figure\n",
    "acc = history.history['acc']\n",
    "val_acc = history.history['val_acc']\n",
    "\n",
    "plt.plot(epochs, acc, 'bo', label = 'Training acc')\n",
    "plt.plot(epochs, val_acc, 'b', label = 'Validation acc')\n",
    "plt.title('Training and validation accuracy')\n",
    "plt.xlabel('Epochs')\n",
    "plt.ylabel('Loss')\n",
    "plt.legend()\n",
    "plt.grid()\n",
    "plt.show()\n"
   ]
  },
  {
   "cell_type": "code",
   "execution_count": 35,
   "metadata": {},
   "outputs": [
    {
     "name": "stdout",
     "output_type": "stream",
     "text": [
      "Train on 7982 samples, validate on 1000 samples\n",
      "Epoch 1/9\n",
      "7982/7982 [==============================] - 4s 502us/step - loss: 2.2893 - acc: 0.5598 - val_loss: 1.5325 - val_acc: 0.6480\n",
      "Epoch 2/9\n",
      "7982/7982 [==============================] - 3s 409us/step - loss: 1.2221 - acc: 0.7325 - val_loss: 1.1819 - val_acc: 0.7350\n",
      "Epoch 3/9\n",
      "7982/7982 [==============================] - 4s 493us/step - loss: 0.9037 - acc: 0.7982 - val_loss: 1.0443 - val_acc: 0.7730\n",
      "Epoch 4/9\n",
      "7982/7982 [==============================] - 4s 486us/step - loss: 0.6890 - acc: 0.8522 - val_loss: 1.0953 - val_acc: 0.7430\n",
      "Epoch 5/9\n",
      "7982/7982 [==============================] - 4s 483us/step - loss: 0.5360 - acc: 0.8847 - val_loss: 0.9471 - val_acc: 0.8210\n",
      "Epoch 6/9\n",
      "7982/7982 [==============================] - 4s 475us/step - loss: 0.4169 - acc: 0.9127 - val_loss: 0.8999 - val_acc: 0.8210\n",
      "Epoch 7/9\n",
      "7982/7982 [==============================] - 5s 610us/step - loss: 0.3273 - acc: 0.9293 - val_loss: 0.9057 - val_acc: 0.8330\n",
      "Epoch 8/9\n",
      "7982/7982 [==============================] - 4s 504us/step - loss: 0.2670 - acc: 0.9416 - val_loss: 0.9457 - val_acc: 0.8100\n",
      "Epoch 9/9\n",
      "7982/7982 [==============================] - 4s 482us/step - loss: 0.2247 - acc: 0.9451 - val_loss: 1.2281 - val_acc: 0.7250\n",
      "2246/2246 [==============================] - 1s 594us/step\n"
     ]
    },
    {
     "data": {
      "text/plain": [
       "[1.2992881730742891, 0.71593944796046716]"
      ]
     },
     "execution_count": 35,
     "metadata": {},
     "output_type": "execute_result"
    }
   ],
   "source": [
    "# Retraining a model from scratch\n",
    "model = models.Sequential()\n",
    "model.add(layers.Dense(64, activation = 'relu', input_shape = (10000,)))\n",
    "model.add(layers.Dense(64, activation = 'relu'))\n",
    "model.add(layers.Dense(46, activation = 'softmax'))\n",
    "\n",
    "model.compile(optimizer = 'rmsprop', loss = 'categorical_crossentropy', metrics = ['accuracy'])\n",
    "model.fit(partial_x_train, partial_y_train, epochs = 9, batch_size = 346, validation_data = [x_val, y_val])\n",
    "results = model.evaluate(x_test, one_hot_test_labels)\n",
    "results"
   ]
  },
  {
   "cell_type": "code",
   "execution_count": 36,
   "metadata": {},
   "outputs": [
    {
     "name": "stdout",
     "output_type": "stream",
     "text": [
      "Train on 7982 samples, validate on 1000 samples\n",
      "Epoch 1/9\n",
      "7982/7982 [==============================] - 4s 469us/step - loss: 2.6135 - acc: 0.4644 - val_loss: 1.7289 - val_acc: 0.6350\n",
      "Epoch 2/9\n",
      "7982/7982 [==============================] - 3s 375us/step - loss: 1.4074 - acc: 0.7082 - val_loss: 1.2747 - val_acc: 0.7310\n",
      "Epoch 3/9\n",
      "7982/7982 [==============================] - 3s 385us/step - loss: 1.0425 - acc: 0.7786 - val_loss: 1.1035 - val_acc: 0.7630\n",
      "Epoch 4/9\n",
      "7982/7982 [==============================] - 4s 455us/step - loss: 0.8180 - acc: 0.8324 - val_loss: 1.0271 - val_acc: 0.7820\n",
      "Epoch 5/9\n",
      "7982/7982 [==============================] - 4s 451us/step - loss: 0.6507 - acc: 0.8628 - val_loss: 0.9517 - val_acc: 0.8070\n",
      "Epoch 6/9\n",
      "7982/7982 [==============================] - 4s 455us/step - loss: 0.5297 - acc: 0.8904 - val_loss: 0.9205 - val_acc: 0.8120\n",
      "Epoch 7/9\n",
      "7982/7982 [==============================] - 4s 457us/step - loss: 0.4211 - acc: 0.9110 - val_loss: 0.9006 - val_acc: 0.8150\n",
      "Epoch 8/9\n",
      "7982/7982 [==============================] - 4s 484us/step - loss: 0.3483 - acc: 0.9258 - val_loss: 0.8913 - val_acc: 0.8150\n",
      "Epoch 9/9\n",
      "7982/7982 [==============================] - 4s 448us/step - loss: 0.2858 - acc: 0.9357 - val_loss: 0.8846 - val_acc: 0.8230\n",
      "2246/2246 [==============================] - 1s 521us/step\n"
     ]
    },
    {
     "data": {
      "text/plain": [
       "[0.98449164209680051, 0.78628673202101929]"
      ]
     },
     "execution_count": 36,
     "metadata": {},
     "output_type": "execute_result"
    }
   ],
   "source": [
    "model = models.Sequential()\n",
    "model.add(layers.Dense(64, activation = 'relu', input_shape = (10000,)))\n",
    "model.add(layers.Dense(64, activation = 'relu'))\n",
    "model.add(layers.Dense(46, activation = 'softmax'))\n",
    "\n",
    "model.compile(optimizer = 'rmsprop', loss = 'categorical_crossentropy', metrics = ['accuracy'])\n",
    "model.fit(partial_x_train, partial_y_train, epochs = 9, batch_size = 512, validation_data = [x_val, y_val])\n",
    "results = model.evaluate(x_test, one_hot_test_labels)\n",
    "results"
   ]
  },
  {
   "cell_type": "code",
   "execution_count": 37,
   "metadata": {},
   "outputs": [
    {
     "name": "stdout",
     "output_type": "stream",
     "text": [
      "Train on 7982 samples, validate on 1000 samples\n",
      "Epoch 1/9\n",
      "7982/7982 [==============================] - 4s 494us/step - loss: 2.4630 - acc: 0.5309 - val_loss: 1.6389 - val_acc: 0.6570\n",
      "Epoch 2/9\n",
      "7982/7982 [==============================] - 4s 450us/step - loss: 1.3466 - acc: 0.7200 - val_loss: 1.2642 - val_acc: 0.7180\n",
      "Epoch 3/9\n",
      "7982/7982 [==============================] - 4s 443us/step - loss: 1.0076 - acc: 0.7881 - val_loss: 1.1167 - val_acc: 0.7570\n",
      "Epoch 4/9\n",
      "7982/7982 [==============================] - 3s 438us/step - loss: 0.7969 - acc: 0.8327 - val_loss: 1.0108 - val_acc: 0.7930\n",
      "Epoch 5/9\n",
      "7982/7982 [==============================] - 3s 438us/step - loss: 0.6289 - acc: 0.8671 - val_loss: 0.9566 - val_acc: 0.8040\n",
      "Epoch 6/9\n",
      "7982/7982 [==============================] - 4s 495us/step - loss: 0.5033 - acc: 0.8930 - val_loss: 0.9291 - val_acc: 0.8040\n",
      "Epoch 7/9\n",
      "7982/7982 [==============================] - 4s 449us/step - loss: 0.4008 - acc: 0.9139 - val_loss: 0.9079 - val_acc: 0.8090\n",
      "Epoch 8/9\n",
      "7982/7982 [==============================] - 4s 460us/step - loss: 0.3294 - acc: 0.9276 - val_loss: 0.8849 - val_acc: 0.8150\n",
      "Epoch 9/9\n",
      "7982/7982 [==============================] - 4s 451us/step - loss: 0.2674 - acc: 0.9425 - val_loss: 0.9161 - val_acc: 0.8180\n",
      "2246/2246 [==============================] - 1s 500us/step\n"
     ]
    },
    {
     "data": {
      "text/plain": [
       "[0.97942513667995768, 0.78539626004434759]"
      ]
     },
     "execution_count": 37,
     "metadata": {},
     "output_type": "execute_result"
    }
   ],
   "source": [
    "model = models.Sequential()\n",
    "model.add(layers.Dense(64, activation = 'relu', input_shape = (10000,)))\n",
    "model.add(layers.Dense(64, activation = 'relu'))\n",
    "model.add(layers.Dense(46, activation = 'softmax'))\n",
    "\n",
    "model.compile(optimizer = 'rmsprop', loss = 'categorical_crossentropy', metrics = ['accuracy'])\n",
    "model.fit(partial_x_train, partial_y_train, epochs = 9, batch_size = 500, validation_data = [x_val, y_val])\n",
    "results = model.evaluate(x_test, one_hot_test_labels)\n",
    "results"
   ]
  },
  {
   "cell_type": "code",
   "execution_count": 38,
   "metadata": {},
   "outputs": [
    {
     "data": {
      "text/plain": [
       "0.1767586821015138"
      ]
     },
     "execution_count": 38,
     "metadata": {},
     "output_type": "execute_result"
    }
   ],
   "source": [
    "import copy\n",
    "test_labels_copy = copy.copy(test_labels)\n",
    "np.random.shuffle(test_labels_copy)\n",
    "hits_array = np.array(test_labels) == np.array(test_labels_copy)\n",
    "float(np.sum(hits_array))/ len(test_labels)"
   ]
  },
  {
   "cell_type": "code",
   "execution_count": 39,
   "metadata": {},
   "outputs": [
    {
     "data": {
      "text/plain": [
       "(46,)"
      ]
     },
     "execution_count": 39,
     "metadata": {},
     "output_type": "execute_result"
    }
   ],
   "source": [
    "# generating predictions on new data\n",
    "predictions =model.predict(x_test)\n",
    "predictions[0].shape"
   ]
  },
  {
   "cell_type": "code",
   "execution_count": 40,
   "metadata": {},
   "outputs": [
    {
     "data": {
      "text/plain": [
       "0.99999982"
      ]
     },
     "execution_count": 40,
     "metadata": {},
     "output_type": "execute_result"
    }
   ],
   "source": [
    "np.sum(predictions[0])"
   ]
  },
  {
   "cell_type": "code",
   "execution_count": 41,
   "metadata": {},
   "outputs": [
    {
     "data": {
      "text/plain": [
       "3"
      ]
     },
     "execution_count": 41,
     "metadata": {},
     "output_type": "execute_result"
    }
   ],
   "source": [
    "# the largest entry is the predicted class\n",
    "np.argmax(predictions[0])"
   ]
  },
  {
   "cell_type": "code",
   "execution_count": 42,
   "metadata": {},
   "outputs": [],
   "source": [
    "# Another way to encode labels is to cast them as an integer tensor, like this\n",
    "y_train = np.array(train_labels)\n",
    "y_test = np.array(test_labels)"
   ]
  },
  {
   "cell_type": "code",
   "execution_count": 43,
   "metadata": {},
   "outputs": [],
   "source": [
    "# the ony thing this approach would change is the choice of the loss function.\n",
    "# The loss function used intially (categorical_crossentropy) expects the labels to follow\n",
    "# a categorical encoding. With integer labels, we should use sparse_categorical_crossentropy\n",
    "model.compile(optimizer = 'rmsprop', loss = 'sparse_categorical_crossentropy', metrics = ['acc'])"
   ]
  },
  {
   "cell_type": "code",
   "execution_count": 44,
   "metadata": {},
   "outputs": [
    {
     "name": "stdout",
     "output_type": "stream",
     "text": [
      "Train on 7982 samples, validate on 1000 samples\n",
      "Epoch 1/9\n",
      "7982/7982 [==============================] - 5s 636us/step - loss: 2.6235 - acc: 0.5059 - val_loss: 1.7752 - val_acc: 0.6400\n",
      "Epoch 2/9\n",
      "7982/7982 [==============================] - 4s 491us/step - loss: 1.4096 - acc: 0.7111 - val_loss: 1.2743 - val_acc: 0.7280\n",
      "Epoch 3/9\n",
      "7982/7982 [==============================] - 3s 426us/step - loss: 1.0268 - acc: 0.7863 - val_loss: 1.1040 - val_acc: 0.7640\n",
      "Epoch 4/9\n",
      "7982/7982 [==============================] - 4s 478us/step - loss: 0.8006 - acc: 0.8311 - val_loss: 1.0084 - val_acc: 0.7990\n",
      "Epoch 5/9\n",
      "7982/7982 [==============================] - 4s 503us/step - loss: 0.6297 - acc: 0.8680 - val_loss: 0.9542 - val_acc: 0.7970\n",
      "Epoch 6/9\n",
      "7982/7982 [==============================] - 4s 473us/step - loss: 0.5011 - acc: 0.8950 - val_loss: 0.9090 - val_acc: 0.8070\n",
      "Epoch 7/9\n",
      "7982/7982 [==============================] - 4s 480us/step - loss: 0.3956 - acc: 0.9203 - val_loss: 0.8917 - val_acc: 0.8170\n",
      "Epoch 8/9\n",
      "7982/7982 [==============================] - 5s 570us/step - loss: 0.3200 - acc: 0.9345 - val_loss: 0.9560 - val_acc: 0.7970\n",
      "Epoch 9/9\n",
      "7982/7982 [==============================] - 4s 527us/step - loss: 0.2649 - acc: 0.9415 - val_loss: 0.9286 - val_acc: 0.8100\n"
     ]
    },
    {
     "data": {
      "text/plain": [
       "<keras.callbacks.History at 0x14f44a58>"
      ]
     },
     "execution_count": 44,
     "metadata": {},
     "output_type": "execute_result"
    }
   ],
   "source": [
    "# the new loss function is still mathematically the same as categorical_crossentropy\n",
    "\n",
    "# the importance of having sufficiently large intermediate layers\n",
    "# now let's see what happens when you introduce an information bottleneck by having\n",
    "# intermediate layers that are significantly less than 46-dimensional: for exampel, 33-dimensional.\n",
    "\n",
    "model = models.Sequential()\n",
    "model.add(layers.Dense(64, activation = 'relu', input_shape = (10000,)))\n",
    "model.add(layers.Dense(33, activation = 'relu'))\n",
    "model.add(layers.Dense(46, activation = 'softmax'))\n",
    "\n",
    "model.compile(optimizer = 'rmsprop', loss = 'categorical_crossentropy', metrics = ['accuracy'])\n",
    "model.fit(partial_x_train, partial_y_train, epochs = 9, batch_size = 346, validation_data = [x_val, y_val])"
   ]
  },
  {
   "cell_type": "code",
   "execution_count": 45,
   "metadata": {},
   "outputs": [
    {
     "name": "stdout",
     "output_type": "stream",
     "text": [
      "2246/2246 [==============================] - 1s 423us/step\n"
     ]
    },
    {
     "data": {
      "text/plain": [
       "[1.0375779859741565, 0.78183437221727514]"
      ]
     },
     "execution_count": 45,
     "metadata": {},
     "output_type": "execute_result"
    }
   ],
   "source": [
    "results = model.evaluate(x_test, one_hot_test_labels)\n",
    "results"
   ]
  }
 ],
 "metadata": {
  "kernelspec": {
   "display_name": "Python 3",
   "language": "python",
   "name": "python3"
  },
  "language_info": {
   "codemirror_mode": {
    "name": "ipython",
    "version": 3
   },
   "file_extension": ".py",
   "mimetype": "text/x-python",
   "name": "python",
   "nbconvert_exporter": "python",
   "pygments_lexer": "ipython3",
   "version": "3.6.1"
  }
 },
 "nbformat": 4,
 "nbformat_minor": 2
}
