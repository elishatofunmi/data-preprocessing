{
 "cells": [
  {
   "cell_type": "code",
   "execution_count": 1,
   "metadata": {
    "collapsed": true
   },
   "outputs": [],
   "source": [
    "import pandas as pd\n",
    "import numpy as np\n",
    "import sklearn as sk\n",
    "import matplotlib.pyplot as plt\n",
    "import seaborn as sns"
   ]
  },
  {
   "cell_type": "code",
   "execution_count": 2,
   "metadata": {},
   "outputs": [
    {
     "data": {
      "text/html": [
       "<div>\n",
       "<style>\n",
       "    .dataframe thead tr:only-child th {\n",
       "        text-align: right;\n",
       "    }\n",
       "\n",
       "    .dataframe thead th {\n",
       "        text-align: left;\n",
       "    }\n",
       "\n",
       "    .dataframe tbody tr th {\n",
       "        vertical-align: top;\n",
       "    }\n",
       "</style>\n",
       "<table border=\"1\" class=\"dataframe\">\n",
       "  <thead>\n",
       "    <tr style=\"text-align: right;\">\n",
       "      <th></th>\n",
       "      <th>Quest No</th>\n",
       "      <th>Age</th>\n",
       "      <th>Gender</th>\n",
       "      <th>Employment Category</th>\n",
       "      <th>Education</th>\n",
       "      <th>Income</th>\n",
       "      <th>Location</th>\n",
       "      <th>Bank</th>\n",
       "      <th>No of Years</th>\n",
       "      <th>Most frequently used Bank</th>\n",
       "      <th>...</th>\n",
       "      <th>Payint</th>\n",
       "      <th>Paycab</th>\n",
       "      <th>Mig1</th>\n",
       "      <th>Mig2</th>\n",
       "      <th>Mig3</th>\n",
       "      <th>Rec</th>\n",
       "      <th>Changeplan</th>\n",
       "      <th>FromBank</th>\n",
       "      <th>ToBank</th>\n",
       "      <th>ChangeReasons</th>\n",
       "    </tr>\n",
       "  </thead>\n",
       "  <tbody>\n",
       "    <tr>\n",
       "      <th>0</th>\n",
       "      <td>ABJ/2015/002/196</td>\n",
       "      <td>31-35</td>\n",
       "      <td>No Response</td>\n",
       "      <td>Civil/Public Servant</td>\n",
       "      <td>OND/HND</td>\n",
       "      <td>N50,000 - N100,000</td>\n",
       "      <td>Abuja</td>\n",
       "      <td>Bank A</td>\n",
       "      <td>12.0</td>\n",
       "      <td>Bank A</td>\n",
       "      <td>...</td>\n",
       "      <td>NaN</td>\n",
       "      <td>NaN</td>\n",
       "      <td>NaN</td>\n",
       "      <td>NaN</td>\n",
       "      <td>NaN</td>\n",
       "      <td>Sometimes will</td>\n",
       "      <td>No</td>\n",
       "      <td>NaN</td>\n",
       "      <td>NaN</td>\n",
       "      <td>NaN</td>\n",
       "    </tr>\n",
       "    <tr>\n",
       "      <th>1</th>\n",
       "      <td>ABJ/2015/002/196</td>\n",
       "      <td>31-35</td>\n",
       "      <td>No Response</td>\n",
       "      <td>Civil/Public Servant</td>\n",
       "      <td>OND/HND</td>\n",
       "      <td>N50,000 - N100,000</td>\n",
       "      <td>Abuja</td>\n",
       "      <td>Bank M</td>\n",
       "      <td>6.0</td>\n",
       "      <td>Bank A</td>\n",
       "      <td>...</td>\n",
       "      <td>NaN</td>\n",
       "      <td>NaN</td>\n",
       "      <td>NaN</td>\n",
       "      <td>NaN</td>\n",
       "      <td>NaN</td>\n",
       "      <td>0</td>\n",
       "      <td>No</td>\n",
       "      <td>NaN</td>\n",
       "      <td>NaN</td>\n",
       "      <td>NaN</td>\n",
       "    </tr>\n",
       "    <tr>\n",
       "      <th>2</th>\n",
       "      <td>KAN/2015/001/228</td>\n",
       "      <td>31-35</td>\n",
       "      <td>No Response</td>\n",
       "      <td>Self Employed</td>\n",
       "      <td>Bachelor's Decree</td>\n",
       "      <td>Below N50,000</td>\n",
       "      <td>Kano</td>\n",
       "      <td>Bank J</td>\n",
       "      <td>2.0</td>\n",
       "      <td>Bank B</td>\n",
       "      <td>...</td>\n",
       "      <td>NaN</td>\n",
       "      <td>NaN</td>\n",
       "      <td>Yes</td>\n",
       "      <td>NaN</td>\n",
       "      <td>NaN</td>\n",
       "      <td>Absolutely will</td>\n",
       "      <td>No</td>\n",
       "      <td>NaN</td>\n",
       "      <td>NaN</td>\n",
       "      <td>NaN</td>\n",
       "    </tr>\n",
       "    <tr>\n",
       "      <th>3</th>\n",
       "      <td>KAN/2015/001/228</td>\n",
       "      <td>31-35</td>\n",
       "      <td>No Response</td>\n",
       "      <td>Self Employed</td>\n",
       "      <td>Bachelor's Decree</td>\n",
       "      <td>Below N50,000</td>\n",
       "      <td>Kano</td>\n",
       "      <td>Bank B</td>\n",
       "      <td>NaN</td>\n",
       "      <td>Bank B</td>\n",
       "      <td>...</td>\n",
       "      <td>NaN</td>\n",
       "      <td>NaN</td>\n",
       "      <td>Yes</td>\n",
       "      <td>NaN</td>\n",
       "      <td>NaN</td>\n",
       "      <td>Often will</td>\n",
       "      <td>No</td>\n",
       "      <td>NaN</td>\n",
       "      <td>NaN</td>\n",
       "      <td>NaN</td>\n",
       "    </tr>\n",
       "    <tr>\n",
       "      <th>4</th>\n",
       "      <td>KAN/2015/04/061</td>\n",
       "      <td>21-30</td>\n",
       "      <td>Male</td>\n",
       "      <td>Private Sector Employee</td>\n",
       "      <td>Bachelor's Decree</td>\n",
       "      <td>Below N50,000</td>\n",
       "      <td>Kano</td>\n",
       "      <td>Bank C</td>\n",
       "      <td>5.0</td>\n",
       "      <td>Bank C</td>\n",
       "      <td>...</td>\n",
       "      <td>Yes</td>\n",
       "      <td>NaN</td>\n",
       "      <td>Yes</td>\n",
       "      <td>NaN</td>\n",
       "      <td>NaN</td>\n",
       "      <td>Often will</td>\n",
       "      <td>No</td>\n",
       "      <td>NaN</td>\n",
       "      <td>NaN</td>\n",
       "      <td>NaN</td>\n",
       "    </tr>\n",
       "  </tbody>\n",
       "</table>\n",
       "<p>5 rows × 152 columns</p>\n",
       "</div>"
      ],
      "text/plain": [
       "           Quest No    Age       Gender      Employment Category  \\\n",
       "0  ABJ/2015/002/196  31-35  No Response     Civil/Public Servant   \n",
       "1  ABJ/2015/002/196  31-35  No Response     Civil/Public Servant   \n",
       "2  KAN/2015/001/228  31-35  No Response            Self Employed   \n",
       "3  KAN/2015/001/228  31-35  No Response            Self Employed   \n",
       "4   KAN/2015/04/061  21-30         Male  Private Sector Employee   \n",
       "\n",
       "           Education              Income Location    Bank  No of Years   \\\n",
       "0            OND/HND  N50,000 - N100,000    Abuja  Bank A          12.0   \n",
       "1            OND/HND  N50,000 - N100,000    Abuja  Bank M           6.0   \n",
       "2  Bachelor's Decree       Below N50,000     Kano  Bank J           2.0   \n",
       "3  Bachelor's Decree       Below N50,000     Kano  Bank B           NaN   \n",
       "4  Bachelor's Decree       Below N50,000     Kano  Bank C           5.0   \n",
       "\n",
       "  Most frequently used Bank      ...      Payint Paycab Mig1 Mig2 Mig3  \\\n",
       "0                    Bank A      ...         NaN    NaN  NaN  NaN  NaN   \n",
       "1                    Bank A      ...         NaN    NaN  NaN  NaN  NaN   \n",
       "2                    Bank B      ...         NaN    NaN  Yes  NaN  NaN   \n",
       "3                    Bank B      ...         NaN    NaN  Yes  NaN  NaN   \n",
       "4                    Bank C      ...         Yes    NaN  Yes  NaN  NaN   \n",
       "\n",
       "               Rec Changeplan FromBank ToBank ChangeReasons  \n",
       "0   Sometimes will         No      NaN    NaN           NaN  \n",
       "1                0         No      NaN    NaN           NaN  \n",
       "2  Absolutely will         No      NaN    NaN           NaN  \n",
       "3       Often will         No      NaN    NaN           NaN  \n",
       "4       Often will         No      NaN    NaN           NaN  \n",
       "\n",
       "[5 rows x 152 columns]"
      ]
     },
     "execution_count": 2,
     "metadata": {},
     "output_type": "execute_result"
    }
   ],
   "source": [
    "file = pd.read_csv(r'C:\\bootcamp\\Data Science Bootcamp Data_2.0.csv')\n",
    "file.head()"
   ]
  },
  {
   "cell_type": "code",
   "execution_count": 3,
   "metadata": {},
   "outputs": [
    {
     "name": "stdout",
     "output_type": "stream",
     "text": [
      "{'Never': 20059, 'Rarely': 6752, 'At least once a week': 5130, 'No Response': 4578, 'Monthly': 3144, 'At Least once a day': 2989}\n"
     ]
    }
   ],
   "source": [
    "# exploring the internet colunm and classfying\n",
    "# freqUSSD\n",
    "internet_dict = dict(file['FreqUSSD'].value_counts())\n",
    "print (internet_dict)"
   ]
  },
  {
   "cell_type": "code",
   "execution_count": 4,
   "metadata": {},
   "outputs": [
    {
     "name": "stderr",
     "output_type": "stream",
     "text": [
      "C:\\Users\\ACER\\Anaconda3\\lib\\site-packages\\ipykernel_launcher.py:2: SettingWithCopyWarning: \n",
      "A value is trying to be set on a copy of a slice from a DataFrame\n",
      "\n",
      "See the caveats in the documentation: http://pandas.pydata.org/pandas-docs/stable/indexing.html#indexing-view-versus-copy\n",
      "  \n",
      "C:\\Users\\ACER\\Anaconda3\\lib\\site-packages\\ipykernel_launcher.py:3: SettingWithCopyWarning: \n",
      "A value is trying to be set on a copy of a slice from a DataFrame\n",
      "\n",
      "See the caveats in the documentation: http://pandas.pydata.org/pandas-docs/stable/indexing.html#indexing-view-versus-copy\n",
      "  This is separate from the ipykernel package so we can avoid doing imports until\n",
      "C:\\Users\\ACER\\Anaconda3\\lib\\site-packages\\ipykernel_launcher.py:4: SettingWithCopyWarning: \n",
      "A value is trying to be set on a copy of a slice from a DataFrame\n",
      "\n",
      "See the caveats in the documentation: http://pandas.pydata.org/pandas-docs/stable/indexing.html#indexing-view-versus-copy\n",
      "  after removing the cwd from sys.path.\n",
      "C:\\Users\\ACER\\Anaconda3\\lib\\site-packages\\ipykernel_launcher.py:5: SettingWithCopyWarning: \n",
      "A value is trying to be set on a copy of a slice from a DataFrame\n",
      "\n",
      "See the caveats in the documentation: http://pandas.pydata.org/pandas-docs/stable/indexing.html#indexing-view-versus-copy\n",
      "  \"\"\"\n",
      "C:\\Users\\ACER\\Anaconda3\\lib\\site-packages\\ipykernel_launcher.py:6: SettingWithCopyWarning: \n",
      "A value is trying to be set on a copy of a slice from a DataFrame\n",
      "\n",
      "See the caveats in the documentation: http://pandas.pydata.org/pandas-docs/stable/indexing.html#indexing-view-versus-copy\n",
      "  \n",
      "C:\\Users\\ACER\\Anaconda3\\lib\\site-packages\\ipykernel_launcher.py:7: SettingWithCopyWarning: \n",
      "A value is trying to be set on a copy of a slice from a DataFrame\n",
      "\n",
      "See the caveats in the documentation: http://pandas.pydata.org/pandas-docs/stable/indexing.html#indexing-view-versus-copy\n",
      "  import sys\n"
     ]
    },
    {
     "data": {
      "text/plain": [
       "0    31389\n",
       "1    11263\n",
       "Name: FreqUSSD, dtype: int64"
      ]
     },
     "execution_count": 4,
     "metadata": {},
     "output_type": "execute_result"
    }
   ],
   "source": [
    "# classfying internet users into '0' and '1'\n",
    "file['FreqUSSD'][file['FreqUSSD'] == 'Never'] = 0\n",
    "file['FreqUSSD'][file['FreqUSSD'] == 'No Response'] = 0\n",
    "file['FreqUSSD'][file['FreqUSSD'] == 'At least once a week'] = 1\n",
    "file['FreqUSSD'][file['FreqUSSD'] == 'Rarely'] = 0\n",
    "file['FreqUSSD'][file['FreqUSSD'] == 'Monthly'] = 1\n",
    "file['FreqUSSD'][file['FreqUSSD'] == 'At Least once a day'] = 1\n",
    "file['FreqUSSD'].value_counts()"
   ]
  },
  {
   "cell_type": "code",
   "execution_count": 5,
   "metadata": {},
   "outputs": [
    {
     "name": "stdout",
     "output_type": "stream",
     "text": [
      "Bachelor's Decree                       17163\n",
      "OND/HND                                 11187\n",
      "Secondary school leaving certificate     7880\n",
      "Master's Degree                          4232\n",
      "No Response                               645\n",
      "Primary School leaving certificate        636\n",
      "PHD                                       546\n",
      "No Formal Education                       324\n",
      "Others                                     39\n",
      "Name: Education, dtype: int64\n"
     ]
    }
   ],
   "source": [
    "Education_dict = (file['Education'].value_counts())\n",
    "print (Education_dict)"
   ]
  },
  {
   "cell_type": "code",
   "execution_count": 6,
   "metadata": {},
   "outputs": [
    {
     "data": {
      "text/plain": [
       "Float64Index([ 5.0,  3.0,  2.0,  4.0,  1.0, 10.0,  6.0,  7.0,  8.0,  9.0, 12.0,\n",
       "              15.0, 11.0, 20.0, 13.0, 14.0, 16.0, 17.0, 18.0, 25.0, 30.0, 22.0,\n",
       "              21.0, 19.0, 23.0, 35.0, 28.0, 26.0, 24.0, 27.0, 40.0, 33.0, 32.0,\n",
       "              31.0, 37.0, 29.0, 38.0, 34.0, 36.0, 39.0,  0.0,  1.5, 42.0, 51.0,\n",
       "              45.0, 50.0, 41.0, 55.0],\n",
       "             dtype='float64')"
      ]
     },
     "execution_count": 6,
     "metadata": {},
     "output_type": "execute_result"
    }
   ],
   "source": [
    "No_of_years_dict = (file['No of Years '].value_counts())\n",
    "No_of_years_dict.keys()\n"
   ]
  },
  {
   "cell_type": "code",
   "execution_count": 7,
   "metadata": {},
   "outputs": [
    {
     "data": {
      "text/html": [
       "<div>\n",
       "<style>\n",
       "    .dataframe thead tr:only-child th {\n",
       "        text-align: right;\n",
       "    }\n",
       "\n",
       "    .dataframe thead th {\n",
       "        text-align: left;\n",
       "    }\n",
       "\n",
       "    .dataframe tbody tr th {\n",
       "        vertical-align: top;\n",
       "    }\n",
       "</style>\n",
       "<table border=\"1\" class=\"dataframe\">\n",
       "  <thead>\n",
       "    <tr style=\"text-align: right;\">\n",
       "      <th></th>\n",
       "      <th>FreqUSSD</th>\n",
       "      <th>No of Years</th>\n",
       "      <th>Education</th>\n",
       "      <th>Bank</th>\n",
       "      <th>Balenq</th>\n",
       "    </tr>\n",
       "  </thead>\n",
       "  <tbody>\n",
       "    <tr>\n",
       "      <th>0</th>\n",
       "      <td>0</td>\n",
       "      <td>12.0</td>\n",
       "      <td>OND/HND</td>\n",
       "      <td>Bank A</td>\n",
       "      <td>ATM</td>\n",
       "    </tr>\n",
       "    <tr>\n",
       "      <th>1</th>\n",
       "      <td>0</td>\n",
       "      <td>6.0</td>\n",
       "      <td>OND/HND</td>\n",
       "      <td>Bank M</td>\n",
       "      <td>ATM</td>\n",
       "    </tr>\n",
       "    <tr>\n",
       "      <th>2</th>\n",
       "      <td>1</td>\n",
       "      <td>2.0</td>\n",
       "      <td>Bachelor's Decree</td>\n",
       "      <td>Bank J</td>\n",
       "      <td>ATM</td>\n",
       "    </tr>\n",
       "    <tr>\n",
       "      <th>3</th>\n",
       "      <td>1</td>\n",
       "      <td>NaN</td>\n",
       "      <td>Bachelor's Decree</td>\n",
       "      <td>Bank B</td>\n",
       "      <td>ATM</td>\n",
       "    </tr>\n",
       "    <tr>\n",
       "      <th>4</th>\n",
       "      <td>0</td>\n",
       "      <td>5.0</td>\n",
       "      <td>Bachelor's Decree</td>\n",
       "      <td>Bank C</td>\n",
       "      <td>ATM</td>\n",
       "    </tr>\n",
       "  </tbody>\n",
       "</table>\n",
       "</div>"
      ],
      "text/plain": [
       "  FreqUSSD  No of Years           Education    Bank Balenq\n",
       "0        0          12.0            OND/HND  Bank A    ATM\n",
       "1        0           6.0            OND/HND  Bank M    ATM\n",
       "2        1           2.0  Bachelor's Decree  Bank J    ATM\n",
       "3        1           NaN  Bachelor's Decree  Bank B    ATM\n",
       "4        0           5.0  Bachelor's Decree  Bank C    ATM"
      ]
     },
     "execution_count": 7,
     "metadata": {},
     "output_type": "execute_result"
    }
   ],
   "source": [
    "# create a new dataframe for the classification\n",
    "new_frame = file[['FreqUSSD', 'No of Years ', 'Education', 'Bank', 'Balenq']]\n",
    "new_frame.head()"
   ]
  },
  {
   "cell_type": "code",
   "execution_count": 8,
   "metadata": {},
   "outputs": [
    {
     "name": "stderr",
     "output_type": "stream",
     "text": [
      "C:\\Users\\ACER\\Anaconda3\\lib\\site-packages\\ipykernel_launcher.py:1: SettingWithCopyWarning: \n",
      "A value is trying to be set on a copy of a slice from a DataFrame\n",
      "\n",
      "See the caveats in the documentation: http://pandas.pydata.org/pandas-docs/stable/indexing.html#indexing-view-versus-copy\n",
      "  \"\"\"Entry point for launching an IPython kernel.\n",
      "C:\\Users\\ACER\\Anaconda3\\lib\\site-packages\\ipykernel_launcher.py:2: SettingWithCopyWarning: \n",
      "A value is trying to be set on a copy of a slice from a DataFrame\n",
      "\n",
      "See the caveats in the documentation: http://pandas.pydata.org/pandas-docs/stable/indexing.html#indexing-view-versus-copy\n",
      "  \n",
      "C:\\Users\\ACER\\Anaconda3\\lib\\site-packages\\ipykernel_launcher.py:3: SettingWithCopyWarning: \n",
      "A value is trying to be set on a copy of a slice from a DataFrame\n",
      "\n",
      "See the caveats in the documentation: http://pandas.pydata.org/pandas-docs/stable/indexing.html#indexing-view-versus-copy\n",
      "  This is separate from the ipykernel package so we can avoid doing imports until\n",
      "C:\\Users\\ACER\\Anaconda3\\lib\\site-packages\\ipykernel_launcher.py:4: SettingWithCopyWarning: \n",
      "A value is trying to be set on a copy of a slice from a DataFrame\n",
      "\n",
      "See the caveats in the documentation: http://pandas.pydata.org/pandas-docs/stable/indexing.html#indexing-view-versus-copy\n",
      "  after removing the cwd from sys.path.\n",
      "C:\\Users\\ACER\\Anaconda3\\lib\\site-packages\\ipykernel_launcher.py:5: SettingWithCopyWarning: \n",
      "A value is trying to be set on a copy of a slice from a DataFrame\n",
      "\n",
      "See the caveats in the documentation: http://pandas.pydata.org/pandas-docs/stable/indexing.html#indexing-view-versus-copy\n",
      "  \"\"\"\n",
      "C:\\Users\\ACER\\Anaconda3\\lib\\site-packages\\ipykernel_launcher.py:6: SettingWithCopyWarning: \n",
      "A value is trying to be set on a copy of a slice from a DataFrame\n",
      "\n",
      "See the caveats in the documentation: http://pandas.pydata.org/pandas-docs/stable/indexing.html#indexing-view-versus-copy\n",
      "  \n",
      "C:\\Users\\ACER\\Anaconda3\\lib\\site-packages\\ipykernel_launcher.py:7: SettingWithCopyWarning: \n",
      "A value is trying to be set on a copy of a slice from a DataFrame\n",
      "\n",
      "See the caveats in the documentation: http://pandas.pydata.org/pandas-docs/stable/indexing.html#indexing-view-versus-copy\n",
      "  import sys\n",
      "C:\\Users\\ACER\\Anaconda3\\lib\\site-packages\\ipykernel_launcher.py:8: SettingWithCopyWarning: \n",
      "A value is trying to be set on a copy of a slice from a DataFrame\n",
      "\n",
      "See the caveats in the documentation: http://pandas.pydata.org/pandas-docs/stable/indexing.html#indexing-view-versus-copy\n",
      "  \n",
      "C:\\Users\\ACER\\Anaconda3\\lib\\site-packages\\ipykernel_launcher.py:9: SettingWithCopyWarning: \n",
      "A value is trying to be set on a copy of a slice from a DataFrame\n",
      "\n",
      "See the caveats in the documentation: http://pandas.pydata.org/pandas-docs/stable/indexing.html#indexing-view-versus-copy\n",
      "  if __name__ == '__main__':\n"
     ]
    },
    {
     "data": {
      "text/plain": [
       "1    33128\n",
       "0     9524\n",
       "Name: Education, dtype: int64"
      ]
     },
     "execution_count": 8,
     "metadata": {},
     "output_type": "execute_result"
    }
   ],
   "source": [
    "file['Education'][file['Education'] == \"Bachelor's Decree\"] = 1\n",
    "file['Education'][file['Education'] == \"OND/HND\"] = 1\n",
    "file['Education'][file['Education'] == \"Secondary school leaving certificate\"] = 0\n",
    "file['Education'][file['Education'] == \"Master's Degree\"] = 1\n",
    "file['Education'][file['Education'] == \"No Response\"] = 0\n",
    "file['Education'][file['Education'] == \"Primary School leaving certificate\"] = 0\n",
    "file['Education'][file['Education'] == \"PHD\"] = 1\n",
    "file['Education'][file['Education'] == \"No Formal Education\"] = 0\n",
    "file['Education'][file['Education'] == \"Others\"] = 0\n",
    "\n",
    "file['Education'].value_counts()"
   ]
  },
  {
   "cell_type": "code",
   "execution_count": 9,
   "metadata": {},
   "outputs": [
    {
     "name": "stderr",
     "output_type": "stream",
     "text": [
      "C:\\Users\\ACER\\Anaconda3\\lib\\site-packages\\ipykernel_launcher.py:2: SettingWithCopyWarning: \n",
      "A value is trying to be set on a copy of a slice from a DataFrame\n",
      "\n",
      "See the caveats in the documentation: http://pandas.pydata.org/pandas-docs/stable/indexing.html#indexing-view-versus-copy\n",
      "  \n",
      "C:\\Users\\ACER\\Anaconda3\\lib\\site-packages\\ipykernel_launcher.py:3: SettingWithCopyWarning: \n",
      "A value is trying to be set on a copy of a slice from a DataFrame\n",
      "\n",
      "See the caveats in the documentation: http://pandas.pydata.org/pandas-docs/stable/indexing.html#indexing-view-versus-copy\n",
      "  This is separate from the ipykernel package so we can avoid doing imports until\n"
     ]
    },
    {
     "data": {
      "text/plain": [
       "0.0    33231\n",
       "1.0     8155\n",
       "Name: No of Years , dtype: int64"
      ]
     },
     "execution_count": 9,
     "metadata": {},
     "output_type": "execute_result"
    }
   ],
   "source": [
    "# classifying members of 10 years experience and above as 1 and less years as 0\n",
    "file['No of Years '][file['No of Years '] < 10.0] = 0\n",
    "file['No of Years '][file['No of Years '] >= 10.0] = 1\n",
    "file['No of Years '].value_counts()"
   ]
  },
  {
   "cell_type": "code",
   "execution_count": 23,
   "metadata": {},
   "outputs": [],
   "source": [
    "#new_frame['FreqUSSD'].astype(int)\n",
    "# create a new dataframe for the classification\n",
    "new_frame = file[['FreqUSSD', 'No of Years ', 'Education', 'Bank', 'Balenq']]\n",
    "new_frame.head()\n",
    "final_frame =new_frame.dropna()\n"
   ]
  },
  {
   "cell_type": "code",
   "execution_count": 24,
   "metadata": {},
   "outputs": [
    {
     "data": {
      "text/plain": [
       "(42653, 152)"
      ]
     },
     "execution_count": 24,
     "metadata": {},
     "output_type": "execute_result"
    }
   ],
   "source": [
    "file.shape"
   ]
  },
  {
   "cell_type": "code",
   "execution_count": 25,
   "metadata": {},
   "outputs": [
    {
     "data": {
      "text/plain": [
       "(41133, 5)"
      ]
     },
     "execution_count": 25,
     "metadata": {},
     "output_type": "execute_result"
    }
   ],
   "source": [
    "final_frame.shape"
   ]
  },
  {
   "cell_type": "code",
   "execution_count": 29,
   "metadata": {
    "scrolled": false
   },
   "outputs": [
    {
     "name": "stderr",
     "output_type": "stream",
     "text": [
      "C:\\Users\\ACER\\Anaconda3\\lib\\site-packages\\ipykernel_launcher.py:2: SettingWithCopyWarning: \n",
      "A value is trying to be set on a copy of a slice from a DataFrame.\n",
      "Try using .loc[row_indexer,col_indexer] = value instead\n",
      "\n",
      "See the caveats in the documentation: http://pandas.pydata.org/pandas-docs/stable/indexing.html#indexing-view-versus-copy\n",
      "  \n"
     ]
    },
    {
     "data": {
      "text/html": [
       "<div>\n",
       "<style>\n",
       "    .dataframe thead tr:only-child th {\n",
       "        text-align: right;\n",
       "    }\n",
       "\n",
       "    .dataframe thead th {\n",
       "        text-align: left;\n",
       "    }\n",
       "\n",
       "    .dataframe tbody tr th {\n",
       "        vertical-align: top;\n",
       "    }\n",
       "</style>\n",
       "<table border=\"1\" class=\"dataframe\">\n",
       "  <thead>\n",
       "    <tr style=\"text-align: right;\">\n",
       "      <th></th>\n",
       "      <th>FreqUSSD</th>\n",
       "      <th>No of Years</th>\n",
       "      <th>Education</th>\n",
       "      <th>Bank</th>\n",
       "      <th>Balenq</th>\n",
       "    </tr>\n",
       "  </thead>\n",
       "  <tbody>\n",
       "    <tr>\n",
       "      <th>0</th>\n",
       "      <td>0</td>\n",
       "      <td>1</td>\n",
       "      <td>1</td>\n",
       "      <td>Bank A</td>\n",
       "      <td>ATM</td>\n",
       "    </tr>\n",
       "    <tr>\n",
       "      <th>1</th>\n",
       "      <td>0</td>\n",
       "      <td>0</td>\n",
       "      <td>1</td>\n",
       "      <td>Bank M</td>\n",
       "      <td>ATM</td>\n",
       "    </tr>\n",
       "    <tr>\n",
       "      <th>2</th>\n",
       "      <td>1</td>\n",
       "      <td>0</td>\n",
       "      <td>1</td>\n",
       "      <td>Bank J</td>\n",
       "      <td>ATM</td>\n",
       "    </tr>\n",
       "    <tr>\n",
       "      <th>4</th>\n",
       "      <td>0</td>\n",
       "      <td>0</td>\n",
       "      <td>1</td>\n",
       "      <td>Bank C</td>\n",
       "      <td>ATM</td>\n",
       "    </tr>\n",
       "    <tr>\n",
       "      <th>5</th>\n",
       "      <td>0</td>\n",
       "      <td>0</td>\n",
       "      <td>0</td>\n",
       "      <td>Bank D</td>\n",
       "      <td>ATM</td>\n",
       "    </tr>\n",
       "  </tbody>\n",
       "</table>\n",
       "</div>"
      ],
      "text/plain": [
       "  FreqUSSD  No of Years  Education    Bank Balenq\n",
       "0        0             1         1  Bank A    ATM\n",
       "1        0             0         1  Bank M    ATM\n",
       "2        1             0         1  Bank J    ATM\n",
       "4        0             0         1  Bank C    ATM\n",
       "5        0             0         0  Bank D    ATM"
      ]
     },
     "execution_count": 29,
     "metadata": {},
     "output_type": "execute_result"
    }
   ],
   "source": [
    "final_frame['No of Years '] =final_frame['No of Years '].astype(int)\n",
    "final_frame.head()"
   ]
  },
  {
   "cell_type": "code",
   "execution_count": 61,
   "metadata": {},
   "outputs": [
    {
     "data": {
      "text/plain": [
       "{(0, 0, 0): 7,\n",
       " (0, 0, 1): 6,\n",
       " (0, 1, 0): 5,\n",
       " (0, 1, 1): 4,\n",
       " (1, 0, 0): 3,\n",
       " (1, 0, 1): 2,\n",
       " (1, 1, 0): 1,\n",
       " (1, 1, 1): 0}"
      ]
     },
     "execution_count": 61,
     "metadata": {},
     "output_type": "execute_result"
    }
   ],
   "source": [
    "his"
   ]
  },
  {
   "cell_type": "code",
   "execution_count": 64,
   "metadata": {},
   "outputs": [
    {
     "name": "stderr",
     "output_type": "stream",
     "text": [
      "C:\\Users\\ACER\\Anaconda3\\lib\\site-packages\\ipykernel_launcher.py:3: SettingWithCopyWarning: \n",
      "A value is trying to be set on a copy of a slice from a DataFrame\n",
      "\n",
      "See the caveats in the documentation: http://pandas.pydata.org/pandas-docs/stable/indexing.html#indexing-view-versus-copy\n",
      "  This is separate from the ipykernel package so we can avoid doing imports until\n",
      "C:\\Users\\ACER\\Anaconda3\\lib\\site-packages\\IPython\\core\\interactiveshell.py:2881: SettingWithCopyWarning: \n",
      "A value is trying to be set on a copy of a slice from a DataFrame\n",
      "\n",
      "See the caveats in the documentation: http://pandas.pydata.org/pandas-docs/stable/indexing.html#indexing-view-versus-copy\n",
      "  exec(code_obj, self.user_global_ns, self.user_ns)\n"
     ]
    }
   ],
   "source": [
    "for i in range(len(workfile)):\n",
    "    try:\n",
    "        workfile['Balenq'][i] = his[(workfile['FreqUSSD'][i], workfile['No of Years '][i], workfile['Education'][i])]\n",
    "    except KeyError:\n",
    "        pass"
   ]
  },
  {
   "cell_type": "code",
   "execution_count": 66,
   "metadata": {
    "scrolled": true
   },
   "outputs": [
    {
     "data": {
      "text/plain": [
       "6                          16971\n",
       "2                           7060\n",
       "7                           6083\n",
       "4                           4923\n",
       "0                           1821\n",
       "3                           1615\n",
       "5                            994\n",
       "ATM                          732\n",
       "Internet/Mobile Banking      390\n",
       "Branch                       230\n",
       "1                            167\n",
       "No Response                   89\n",
       "Mobile payments               29\n",
       "Call Center                   15\n",
       "POS                           14\n",
       "Name: Balenq, dtype: int64"
      ]
     },
     "execution_count": 66,
     "metadata": {},
     "output_type": "execute_result"
    }
   ],
   "source": [
    "workfile['Balenq'].value_counts()"
   ]
  },
  {
   "cell_type": "code",
   "execution_count": 108,
   "metadata": {},
   "outputs": [
    {
     "name": "stdout",
     "output_type": "stream",
     "text": [
      "0.412588432645 6\n",
      "0.171638343909 2\n",
      "0.147886125495 7\n",
      "0.119684924513 4\n",
      "0.044271023266 0\n",
      "0.0392628789536 3\n",
      "0.0241655118761 5\n",
      "0.017795930275 ATM\n",
      "0.00948143826125 Internet/Mobile Banking\n",
      "0.00559161743612 Branch\n",
      "0.00406000048623 1\n",
      "0.00216371283398 No Response\n",
      "0.000705030024554 Mobile payments\n",
      "0.000364670702356 Call Center\n",
      "0.000340359322199 POS\n"
     ]
    }
   ],
   "source": [
    "last_dic = dict(workfile['Balenq'].value_counts())\n",
    "for i in last_dic.keys():\n",
    "    division = last_dic[i]/len(workfile['Balenq'])\n",
    "    print (division, i)"
   ]
  },
  {
   "cell_type": "code",
   "execution_count": 93,
   "metadata": {},
   "outputs": [
    {
     "data": {
      "text/plain": [
       "Bank C    6523\n",
       "Bank B    5891\n",
       "Bank A    4242\n",
       "Bank D    4076\n",
       "Bank H    3825\n",
       "Bank L    2561\n",
       "Bank N    2446\n",
       "Bank G    1953\n",
       "Bank F    1857\n",
       "Bank J    1781\n",
       "Bank I    1127\n",
       "Bank K    1028\n",
       "Bank E     984\n",
       "Bank O     907\n",
       "Bank Q     796\n",
       "Bank P     580\n",
       "Bank M     556\n",
       "Name: Bank, dtype: int64"
      ]
     },
     "execution_count": 93,
     "metadata": {},
     "output_type": "execute_result"
    }
   ],
   "source": [
    "workfile['Bank'].value_counts()\n"
   ]
  },
  {
   "cell_type": "code",
   "execution_count": 98,
   "metadata": {},
   "outputs": [],
   "source": [
    "counter = 0\n",
    "list1 = []\n",
    "for i in workfile['Bank']:\n",
    "    try:\n",
    "        if  i == 'Bank C':\n",
    "            name = workfile['Balenq'][counter]\n",
    "            list1.append(name)\n",
    "            counter += 1\n",
    "    except KeyError:\n",
    "        pass\n",
    "    counter += 1\n",
    "        \n",
    "      "
   ]
  },
  {
   "cell_type": "code",
   "execution_count": 105,
   "metadata": {},
   "outputs": [
    {
     "name": "stdout",
     "output_type": "stream",
     "text": [
      "249 0\n",
      "26 1\n",
      "976 2\n",
      "217 3\n",
      "704 4\n",
      "139 5\n",
      "2461 6\n"
     ]
    }
   ],
   "source": [
    "for i in range(7):\n",
    "    print (list1.count(i), i)\n",
    "    "
   ]
  },
  {
   "cell_type": "code",
   "execution_count": 91,
   "metadata": {},
   "outputs": [
    {
     "data": {
      "text/plain": [
       "[]"
      ]
     },
     "execution_count": 91,
     "metadata": {},
     "output_type": "execute_result"
    }
   ],
   "source": [
    "counter = 0\n",
    "def runthis():\n",
    "    try:\n",
    "        counter =0\n",
    "        fileList =[]\n",
    "        for i in workfile['Bank']:\n",
    "            if i == 'Bank C':\n",
    "                value = workfile['Balenq'][counter]\n",
    "                fileList.append(value)\n",
    "                counter += 1\n",
    "            else:\n",
    "                counter += 1\n",
    "    except KeyError:\n",
    "        counter += 1\n",
    "    return fileList\n",
    "runthis()"
   ]
  },
  {
   "cell_type": "code",
   "execution_count": 78,
   "metadata": {},
   "outputs": [
    {
     "data": {
      "text/plain": [
       "pandas.core.series.Series"
      ]
     },
     "execution_count": 78,
     "metadata": {},
     "output_type": "execute_result"
    }
   ],
   "source": [
    "type(workfile['Balenq'])"
   ]
  },
  {
   "cell_type": "code",
   "execution_count": 76,
   "metadata": {},
   "outputs": [
    {
     "data": {
      "image/png": "[encoded data removed]",
      "text/plain": [
       "<matplotlib.figure.Figure at 0x51e3ac8>"
      ]
     },
     "metadata": {},
     "output_type": "display_data"
    }
   ],
   "source": [
    "plt.pie(workfile['Balenq'].value_counts())\n",
    "plt.show()"
   ]
  },
  {
   "cell_type": "code",
   "execution_count": 111,
   "metadata": {},
   "outputs": [],
   "source": [
    "solution_file = file.dropna()\n"
   ]
  },
  {
   "cell_type": "code",
   "execution_count": 114,
   "metadata": {},
   "outputs": [
    {
     "name": "stdout",
     "output_type": "stream",
     "text": [
      "Series([], Name: Location, dtype: object)\n"
     ]
    }
   ],
   "source": [
    "print (solution_file['Location'])"
   ]
  },
  {
   "cell_type": "code",
   "execution_count": 79,
   "metadata": {},
   "outputs": [
    {
     "ename": "KeyError",
     "evalue": "3",
     "output_type": "error",
     "traceback": [
      "\u001b[1;31m---------------------------------------------------------------------------\u001b[0m",
      "\u001b[1;31mKeyError\u001b[0m                                  Traceback (most recent call last)",
      "\u001b[1;32m<ipython-input-79-51f24e1979c2>\u001b[0m in \u001b[0;36m<module>\u001b[1;34m()\u001b[0m\n\u001b[0;32m      9\u001b[0m             \u001b[1;32mpass\u001b[0m\u001b[1;33m\u001b[0m\u001b[0m\n\u001b[0;32m     10\u001b[0m     \u001b[1;32melse\u001b[0m\u001b[1;33m:\u001b[0m\u001b[1;33m\u001b[0m\u001b[0m\n\u001b[1;32m---> 11\u001b[1;33m         \u001b[0mthis\u001b[0m \u001b[1;33m=\u001b[0m \u001b[0mhis\u001b[0m\u001b[1;33m[\u001b[0m\u001b[1;33m(\u001b[0m\u001b[0mworkfile\u001b[0m\u001b[1;33m[\u001b[0m\u001b[1;34m'FreqUSSD'\u001b[0m\u001b[1;33m]\u001b[0m\u001b[1;33m[\u001b[0m\u001b[0mi\u001b[0m\u001b[1;33m]\u001b[0m\u001b[1;33m,\u001b[0m \u001b[0mworkfile\u001b[0m\u001b[1;33m[\u001b[0m\u001b[1;34m'No of Years '\u001b[0m\u001b[1;33m]\u001b[0m\u001b[1;33m[\u001b[0m\u001b[0mi\u001b[0m\u001b[1;33m]\u001b[0m\u001b[1;33m,\u001b[0m \u001b[0mworkfile\u001b[0m\u001b[1;33m[\u001b[0m\u001b[1;34m'Education'\u001b[0m\u001b[1;33m]\u001b[0m\u001b[1;33m[\u001b[0m\u001b[0mi\u001b[0m\u001b[1;33m]\u001b[0m\u001b[1;33m)\u001b[0m\u001b[1;33m]\u001b[0m\u001b[1;33m\u001b[0m\u001b[0m\n\u001b[0m\u001b[0;32m     12\u001b[0m         \u001b[0mfinal\u001b[0m \u001b[1;33m=\u001b[0m \u001b[1;33m(\u001b[0m\u001b[0mthis\u001b[0m\u001b[1;33m,\u001b[0m \u001b[0mi\u001b[0m\u001b[1;33m)\u001b[0m\u001b[1;33m\u001b[0m\u001b[0m\n\u001b[0;32m     13\u001b[0m         \u001b[0mnewlist\u001b[0m\u001b[1;33m.\u001b[0m\u001b[0mappend\u001b[0m\u001b[1;33m(\u001b[0m\u001b[0mfinal\u001b[0m\u001b[1;33m)\u001b[0m\u001b[1;33m\u001b[0m\u001b[0m\n",
      "\u001b[1;32mC:\\Users\\ACER\\Anaconda3\\lib\\site-packages\\pandas\\core\\series.py\u001b[0m in \u001b[0;36m__getitem__\u001b[1;34m(self, key)\u001b[0m\n\u001b[0;32m    599\u001b[0m         \u001b[0mkey\u001b[0m \u001b[1;33m=\u001b[0m \u001b[0mcom\u001b[0m\u001b[1;33m.\u001b[0m\u001b[0m_apply_if_callable\u001b[0m\u001b[1;33m(\u001b[0m\u001b[0mkey\u001b[0m\u001b[1;33m,\u001b[0m \u001b[0mself\u001b[0m\u001b[1;33m)\u001b[0m\u001b[1;33m\u001b[0m\u001b[0m\n\u001b[0;32m    600\u001b[0m         \u001b[1;32mtry\u001b[0m\u001b[1;33m:\u001b[0m\u001b[1;33m\u001b[0m\u001b[0m\n\u001b[1;32m--> 601\u001b[1;33m             \u001b[0mresult\u001b[0m \u001b[1;33m=\u001b[0m \u001b[0mself\u001b[0m\u001b[1;33m.\u001b[0m\u001b[0mindex\u001b[0m\u001b[1;33m.\u001b[0m\u001b[0mget_value\u001b[0m\u001b[1;33m(\u001b[0m\u001b[0mself\u001b[0m\u001b[1;33m,\u001b[0m \u001b[0mkey\u001b[0m\u001b[1;33m)\u001b[0m\u001b[1;33m\u001b[0m\u001b[0m\n\u001b[0m\u001b[0;32m    602\u001b[0m \u001b[1;33m\u001b[0m\u001b[0m\n\u001b[0;32m    603\u001b[0m             \u001b[1;32mif\u001b[0m \u001b[1;32mnot\u001b[0m \u001b[0mis_scalar\u001b[0m\u001b[1;33m(\u001b[0m\u001b[0mresult\u001b[0m\u001b[1;33m)\u001b[0m\u001b[1;33m:\u001b[0m\u001b[1;33m\u001b[0m\u001b[0m\n",
      "\u001b[1;32mC:\\Users\\ACER\\Anaconda3\\lib\\site-packages\\pandas\\core\\indexes\\base.py\u001b[0m in \u001b[0;36mget_value\u001b[1;34m(self, series, key)\u001b[0m\n\u001b[0;32m   2426\u001b[0m         \u001b[1;32mtry\u001b[0m\u001b[1;33m:\u001b[0m\u001b[1;33m\u001b[0m\u001b[0m\n\u001b[0;32m   2427\u001b[0m             return self._engine.get_value(s, k,\n\u001b[1;32m-> 2428\u001b[1;33m                                           tz=getattr(series.dtype, 'tz', None))\n\u001b[0m\u001b[0;32m   2429\u001b[0m         \u001b[1;32mexcept\u001b[0m \u001b[0mKeyError\u001b[0m \u001b[1;32mas\u001b[0m \u001b[0me1\u001b[0m\u001b[1;33m:\u001b[0m\u001b[1;33m\u001b[0m\u001b[0m\n\u001b[0;32m   2430\u001b[0m             \u001b[1;32mif\u001b[0m \u001b[0mlen\u001b[0m\u001b[1;33m(\u001b[0m\u001b[0mself\u001b[0m\u001b[1;33m)\u001b[0m \u001b[1;33m>\u001b[0m \u001b[1;36m0\u001b[0m \u001b[1;32mand\u001b[0m \u001b[0mself\u001b[0m\u001b[1;33m.\u001b[0m\u001b[0minferred_type\u001b[0m \u001b[1;32min\u001b[0m \u001b[1;33m[\u001b[0m\u001b[1;34m'integer'\u001b[0m\u001b[1;33m,\u001b[0m \u001b[1;34m'boolean'\u001b[0m\u001b[1;33m]\u001b[0m\u001b[1;33m:\u001b[0m\u001b[1;33m\u001b[0m\u001b[0m\n",
      "\u001b[1;32mpandas\\_libs\\index.pyx\u001b[0m in \u001b[0;36mpandas._libs.index.IndexEngine.get_value (pandas\\_libs\\index.c:4363)\u001b[1;34m()\u001b[0m\n",
      "\u001b[1;32mpandas\\_libs\\index.pyx\u001b[0m in \u001b[0;36mpandas._libs.index.IndexEngine.get_value (pandas\\_libs\\index.c:4046)\u001b[1;34m()\u001b[0m\n",
      "\u001b[1;32mpandas\\_libs\\index.pyx\u001b[0m in \u001b[0;36mpandas._libs.index.IndexEngine.get_loc (pandas\\_libs\\index.c:5085)\u001b[1;34m()\u001b[0m\n",
      "\u001b[1;32mpandas\\_libs\\hashtable_class_helper.pxi\u001b[0m in \u001b[0;36mpandas._libs.hashtable.Int64HashTable.get_item (pandas\\_libs\\hashtable.c:13913)\u001b[1;34m()\u001b[0m\n",
      "\u001b[1;32mpandas\\_libs\\hashtable_class_helper.pxi\u001b[0m in \u001b[0;36mpandas._libs.hashtable.Int64HashTable.get_item (pandas\\_libs\\hashtable.c:13857)\u001b[1;34m()\u001b[0m\n",
      "\u001b[1;31mKeyError\u001b[0m: 3"
     ]
    }
   ],
   "source": [
    "workfile['Balenq'].astype(str)\n",
    "i = 0\n",
    "newlist = []\n",
    "for i in workfile['Balenq']:\n",
    "    if i == 'ATM':\n",
    "        try:\n",
    "            workfile['Balenq'][i] = his[(workfile['FreqUSSD'][i], workfile['No of Years '][i], workfile['Education'][i])]\n",
    "        except KeyError:\n",
    "            pass\n",
    "    else:\n",
    "        this = his[(workfile['FreqUSSD'][i], workfile['No of Years '][i], workfile['Education'][i])]\n",
    "        final = (this, i)\n",
    "        newlist.append(final)\n",
    "#workfile['Balenq'].value_counts()"
   ]
  },
  {
   "cell_type": "code",
   "execution_count": null,
   "metadata": {
    "collapsed": true
   },
   "outputs": [],
   "source": []
  }
 ],
 "metadata": {
  "kernelspec": {
   "display_name": "Python 3",
   "language": "python",
   "name": "python3"
  },
  "language_info": {
   "codemirror_mode": {
    "name": "ipython",
    "version": 3
   },
   "file_extension": ".py",
   "mimetype": "text/x-python",
   "name": "python",
   "nbconvert_exporter": "python",
   "pygments_lexer": "ipython3",
   "version": "3.6.1"
  }
 },
 "nbformat": 4,
 "nbformat_minor": 2
}
