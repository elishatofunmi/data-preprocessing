{
 "cells": [
  {
   "cell_type": "code",
   "execution_count": 1,
   "metadata": {
    "collapsed": true
   },
   "outputs": [],
   "source": [
    "import pandas as pd\n",
    "import numpy as np\n",
    "import sklearn as sk\n",
    "import matplotlib.pyplot as plt\n",
    "import seaborn as sns"
   ]
  },
  {
   "cell_type": "code",
   "execution_count": 2,
   "metadata": {
    "collapsed": true
   },
   "outputs": [],
   "source": [
    "file = pd.read_csv(r'C:\\bootcamp\\Data Science Bootcamp Data_2.0.csv')"
   ]
  },
  {
   "cell_type": "code",
   "execution_count": 3,
   "metadata": {},
   "outputs": [
    {
     "name": "stdout",
     "output_type": "stream",
     "text": [
      "Quest No <class 'str'>\n",
      "Age <class 'str'>\n",
      "Gender <class 'str'>\n",
      "Employment Category <class 'str'>\n",
      "Education <class 'str'>\n",
      "Income <class 'str'>\n",
      "Location <class 'str'>\n",
      "Bank <class 'str'>\n",
      "No of Years  <class 'str'>\n",
      "Most frequently used Bank <class 'str'>\n",
      "RatQOS <class 'str'>\n",
      "RatFS <class 'str'>\n",
      "RatIR <class 'str'>\n",
      "RatERSA <class 'str'>\n",
      "RatPOBR <class 'str'>\n",
      "RatRFF <class 'str'>\n",
      "FreqBra <class 'str'>\n",
      "FreqATM <class 'str'>\n",
      "FreqPOS <class 'str'>\n",
      "FreqInt <class 'str'>\n",
      "FreqMob <class 'str'>\n",
      "FreqUSSD <class 'str'>\n",
      "FreqTel <class 'str'>\n",
      "MostfreqATM <class 'str'>\n",
      "ATMproximity <class 'str'>\n",
      "ATMqon <class 'str'>\n",
      "ATMsecurity <class 'str'>\n",
      "ATMros <class 'str'>\n",
      "Device1 <class 'str'>\n",
      "Device2 <class 'str'>\n",
      "Device3 <class 'str'>\n",
      "Device4 <class 'str'>\n",
      "Cshwit <class 'str'>\n",
      "Cshdep <class 'str'>\n",
      "Fndtrf <class 'str'>\n",
      "Balenq <class 'str'>\n",
      "Mkgcmp <class 'str'>\n",
      "Mkgpay <class 'str'>\n",
      "Gtloan <class 'str'>\n",
      "Gtfnad <class 'str'>\n",
      "Bkfxdp <class 'str'>\n",
      "Cshwit2 <class 'str'>\n",
      "Cshdep2 <class 'str'>\n",
      "Fndtrf2 <class 'str'>\n",
      "Balenq2 <class 'str'>\n",
      "mkgcmp2 <class 'str'>\n",
      "Mkgpay2 <class 'str'>\n",
      "Gtloan2 <class 'str'>\n",
      "Gtfnad2 <class 'str'>\n",
      "Bkfxdp2 <class 'str'>\n",
      "impcc1a <class 'str'>\n",
      "cc1a <class 'str'>\n",
      "impcc1b <class 'str'>\n",
      "cc1b <class 'str'>\n",
      "impcc2 <class 'str'>\n",
      "cc2 <class 'str'>\n",
      "impcc3 <class 'str'>\n",
      "cc3 <class 'str'>\n",
      "impcc4 <class 'str'>\n",
      "cc4 <class 'str'>\n",
      "impcc4b <class 'str'>\n",
      "cc4b <class 'str'>\n",
      "qosbrn1i <class 'str'>\n",
      "qosbrn1 <class 'str'>\n",
      "qosbrn2i <class 'str'>\n",
      "qosbrn2 <class 'str'>\n",
      "qosbrn3i <class 'str'>\n",
      "qosbrn3 <class 'str'>\n",
      "tat1i <class 'str'>\n",
      "tat1 <class 'str'>\n",
      "tat2i <class 'str'>\n",
      "tat2 <class 'str'>\n",
      "tat3i <class 'str'>\n",
      "tat3 <class 'str'>\n",
      "qosatm1 <class 'str'>\n",
      "qosatm1i <class 'str'>\n",
      "qosatm2i <class 'str'>\n",
      "qosatm2 <class 'str'>\n",
      "qosatm3i <class 'str'>\n",
      "qosatm3 <class 'str'>\n",
      "qosatm4i <class 'str'>\n",
      "qosatm4 <class 'str'>\n",
      "qosmob1i <class 'str'>\n",
      "qosmob1 <class 'str'>\n",
      "qosmob2i <class 'str'>\n",
      "qosmob2 <class 'str'>\n",
      "qosmob3i <class 'str'>\n",
      "qosmob3 <class 'str'>\n",
      "qosmob4i <class 'str'>\n",
      "qosmob4 <class 'str'>\n",
      "qosmob5i <class 'str'>\n",
      "qosmob5 <class 'str'>\n",
      "qosmob6i <class 'str'>\n",
      "qosmob6 <class 'str'>\n",
      "qosint1i <class 'str'>\n",
      "qosint1 <class 'str'>\n",
      "qosint2i <class 'str'>\n",
      "qosint2 <class 'str'>\n",
      "qosint3i <class 'str'>\n",
      "qosint3 <class 'str'>\n",
      "qosint4i <class 'str'>\n",
      "qosint4 <class 'str'>\n",
      "qosint5i <class 'str'>\n",
      "qosint5 <class 'str'>\n",
      "qosint6i <class 'str'>\n",
      "qosint6 <class 'str'>\n",
      "qoscct1i <class 'str'>\n",
      "qoscct1 <class 'str'>\n",
      "qoscct2i <class 'str'>\n",
      "qoscct2 <class 'str'>\n",
      "qoscct3i <class 'str'>\n",
      "qoscct3 <class 'str'>\n",
      "qossm1i <class 'str'>\n",
      "qossm1 <class 'str'>\n",
      "qossm2i <class 'str'>\n",
      "qossm2 <class 'str'>\n",
      "qoscad1i <class 'str'>\n",
      "qoscad1 <class 'str'>\n",
      "qoscad2i <class 'str'>\n",
      "qoscad2 <class 'str'>\n",
      "qoscad3i <class 'str'>\n",
      "qoscad3 <class 'str'>\n",
      "qoscad4i <class 'str'>\n",
      "qoscad4 <class 'str'>\n",
      "acci <class 'str'>\n",
      "acc <class 'str'>\n",
      "infi <class 'str'>\n",
      "inf <class 'str'>\n",
      "prd1i <class 'str'>\n",
      "prd1 <class 'str'>\n",
      "prd2i <class 'str'>\n",
      "prd2 <class 'str'>\n",
      "eas1i <class 'str'>\n",
      "eas1 <class 'str'>\n",
      "eas2i <class 'str'>\n",
      "eas2 <class 'str'>\n",
      "qosci <class 'str'>\n",
      "qosc <class 'str'>\n",
      "Payuticash <class 'str'>\n",
      "Payintcash <class 'str'>\n",
      "Paycabcash <class 'str'>\n",
      "Payuti <class 'str'>\n",
      "Payint <class 'str'>\n",
      "Paycab <class 'str'>\n",
      "Mig1 <class 'str'>\n",
      "Mig2 <class 'str'>\n",
      "Mig3 <class 'str'>\n",
      "Rec <class 'str'>\n",
      "Changeplan <class 'str'>\n",
      "FromBank <class 'str'>\n",
      "ToBank <class 'str'>\n",
      "ChangeReasons <class 'str'>\n"
     ]
    }
   ],
   "source": [
    "for i in file.keys():\n",
    "    print (i, type(i))\n",
    "# implying that all entries are strings"
   ]
  },
  {
   "cell_type": "code",
   "execution_count": 4,
   "metadata": {},
   "outputs": [
    {
     "name": "stdout",
     "output_type": "stream",
     "text": [
      "<class 'pandas.core.frame.DataFrame'>\n",
      "RangeIndex: 42653 entries, 0 to 42652\n",
      "Columns: 152 entries, Quest No to ChangeReasons\n",
      "dtypes: float64(89), object(63)\n",
      "memory usage: 49.5+ MB\n"
     ]
    }
   ],
   "source": [
    "file.info()"
   ]
  },
  {
   "cell_type": "code",
   "execution_count": 5,
   "metadata": {
    "scrolled": true
   },
   "outputs": [
    {
     "name": "stdout",
     "output_type": "stream",
     "text": [
      "Quest No Questionnaire number\n",
      "Age Age\n",
      "Gender Gender\n",
      "Employment Category Employment category\n",
      "Education Education\n",
      "Income Income\n",
      "Location Location\n",
      "Bank Banks you use\n",
      "No of Years  Number of years of banking relationship\n",
      "Most frequently used Bank Most Frequently Used Bank\n",
      "RatQOS nan\n",
      "RatFS Quality of service experience\n",
      "RatIR Financial stability\n",
      "RatERSA Image and reputation\n",
      "RatPOBR Employer requirements (Salary account)\n",
      "RatRFF Proximity of branches\n",
      "FreqBra Recommendations from family and friends \n",
      "FreqATM nan\n",
      "FreqPOS Branch\n",
      "FreqInt ATM\n",
      "FreqMob POS\n",
      "FreqUSSD Internet banking\n",
      "FreqTel Mobile (App)\n",
      "MostfreqATM USSD Banking\n",
      "ATMproximity Call Centre\n",
      "ATMqon nan\n",
      "ATMsecurity Most Frequently used Bank's ATM\n",
      "ATMros nan\n",
      "Device1 Proximity\n",
      "Device2 Quality of notes\n",
      "Device3 Secure environment\n",
      "Device4 Reliability of service\n",
      "Cshwit nan\n",
      "Cshdep Desktop\n",
      "Fndtrf Laptop\n",
      "Balenq Tablet\n",
      "Mkgcmp Smart phones\n",
      "Mkgpay nan\n",
      "Gtloan Cash Withdrawal\n",
      "Gtfnad Cash Deposits\n",
      "Bkfxdp Funds Transfer\n",
      "Cshwit2 Balance Enquiry\n",
      "Cshdep2 Making Complaints\n",
      "Fndtrf2 Making a Payment\n",
      "Balenq2 Getting a Loan\n",
      "mkgcmp2 Getting Financial Advice\n",
      "Mkgpay2 Booking Fixed Deposit/Treasury Bills\n",
      "Gtloan2 nan\n",
      "Gtfnad2 Cash Withdrawal\n",
      "Bkfxdp2 Cash deposits\n",
      "impcc1a Funds Transfer\n",
      "cc1a Balance Enquiry\n",
      "impcc1b Making Complaints\n",
      "cc1b Making a payment\n",
      "impcc2 Getting a loan\n",
      "cc2 Getting Financial Advice\n",
      "impcc3 Booking Fixed Deposit/Treasury Bills\n",
      "cc3 nan\n",
      "impcc4 1- Not at all important, 2-, 3-, 4-, 5-, 6-, 7-, 8-, 9-, 10- Extremely important\n",
      "cc4 1- Extremely dissatisfied, 2- Very dissatisfied, 3- Dissatisfied, 4- Neutral, 5- Satisfied, 6- Very satisfied, 7- Extremely satisfied\n",
      "impcc4b nan\n",
      "cc4b nan\n",
      "qosbrn1i Relationship managers  professionalism\n",
      "qosbrn1 Relationship managers  professionalism\n",
      "qosbrn2i Branch staff professionalism\n",
      "qosbrn2 Branch staff professionalism\n",
      "qosbrn3i Staff knowledge and understanding of the bank’s products / services\n",
      "qosbrn3 Staff knowledge and understanding of the bank’s products / services\n",
      "tat1i Staff ability to understand your needs and proactively offer alternatives/ useful advice\n",
      "tat1 Staff ability to understand your needs and proactively offer alternatives/ useful advice\n",
      "tat2i nan\n",
      "tat2 Prompt attention and response to your enquiries/ complaints\n",
      "tat3i Prompt attention and response to your enquiries/ complaints\n",
      "tat3 Quality of feedback on enquiries/ resolution of complaints\n",
      "qosatm1 Quality of feedback on enquiries/ resolution of complaints\n",
      "qosatm1i nan\n",
      "qosatm2i Ambience – look and feel\n",
      "qosatm2 Ambience – look and feel\n",
      "qosatm3i Absence of long queues at branches\n",
      "qosatm3 Absence of long queues at branches\n",
      "qosatm4i Access to branches\n",
      "qosatm4 Access to branches\n",
      "qosmob1i Timeliness of cash deposit and withdrawals\n",
      "qosmob1 Timeliness of cash deposit and withdrawals\n",
      "qosmob2i Timeliness of funds transfers\n",
      "qosmob2 Timeliness of funds transfers\n",
      "qosmob3i Timeliness of account opening process\n",
      "qosmob3 Timeliness of account opening process\n",
      "qosmob4i nan\n",
      "qosmob4 Cash availability\n",
      "qosmob5i Cash availability\n",
      "qosmob5 ATM uptime (available service on ATMs)\n",
      "qosmob6i ATM uptime (available service on ATMs)\n",
      "qosmob6 Security of ATM locations\n",
      "qosint1i Security of ATM locations\n",
      "qosint1 Access to ATMs\n",
      "qosint2i Access to ATMs\n",
      "qosint2 nan\n",
      "qosint3i Ease of enrolment/sign-up (Mobile Banking)\n",
      "qosint3 Ease of enrolment/sign-up (Mobile Banking)\n",
      "qosint4i Ease of navigation (Mobile Banking)\n",
      "qosint4 Ease of navigation (Mobile Banking)\n",
      "qosint5i Variety of features (Mobile Banking)\n",
      "qosint5 Variety of features (Mobile Banking)\n",
      "qosint6i Visual design – look and feel (Mobile Banking)\n",
      "qosint6 Visual design – look and feel (Mobile Banking)\n",
      "qoscct1i Security (Mobile Banking)\n",
      "qoscct1 Security (Mobile Banking)\n",
      "qoscct2i Mobile banking system availability\n",
      "qoscct2 Mobile banking system availability\n",
      "qoscct3i nan\n",
      "qoscct3 Ease of enrolment/sign-up (Internet Banking)\n",
      "qossm1i Ease of enrolment/sign-up (Internet Banking)\n",
      "qossm1 Ease of navigation (Internet Banking)\n",
      "qossm2i Ease of navigation (Internet Banking)\n",
      "qossm2 Variety of features (Internet Banking)\n",
      "qoscad1i Variety of features (Internet Banking)\n",
      "qoscad1 Visual design – look and feel (Internet Banking)\n",
      "qoscad2i Visual design – look and feel (Internet Banking)\n",
      "qoscad2 Security (Internet Banking)\n",
      "qoscad3i Security (Internet Banking)\n",
      "qoscad3 Internet banking system availability\n",
      "qoscad4i Internet banking system availability\n",
      "qoscad4 nan\n",
      "acci Professional/ communication skills of call centre agents\n",
      "acc Professional/ communication skills of call centre agents\n",
      "infi Length of wait times\n",
      "inf Length of wait times\n",
      "prd1i How well  issues are resolved\n",
      "prd1 How well  issues are resolved\n",
      "prd2i nan\n",
      "prd2 Quality and relevance of content/ communication\n",
      "eas1i Quality and relevance of content/ communication\n",
      "eas1 Response time to queries\n",
      "eas2i Response time to queries\n",
      "eas2 nan\n",
      "qosci Issuance of cards\n",
      "qosc Issuance of cards\n",
      "Payuticash Renewal of cards\n",
      "Payintcash Renewal of cards\n",
      "Paycabcash Hotlisting/ replacing a lost, stolen or damaged debit/credit card)\n",
      "Payuti Hotlisting/ replacing a lost, stolen or damaged debit/credit card)\n",
      "Payint Customisation\n",
      "Paycab Customisation\n",
      "Mig1 nan\n",
      "Mig2 Accuracy and completeness of information provided i.e. bank statements, advice slips, basis of bank charges/fees etc.\n",
      "Mig3 Accuracy and completeness of information provided i.e. bank statements, advice slips, basis of bank charges/fees etc.\n",
      "Rec Information (e.g. alerts, statements) provided in a timely manner and easy-to-understand format\n",
      "Changeplan Information (e.g. alerts, statements) provided in a timely manner and easy-to-understand format\n",
      "FromBank nan\n",
      "ToBank Suitability of products to your needs\n",
      "ChangeReasons Suitability of products to your needs\n"
     ]
    }
   ],
   "source": [
    "# knowing what each column stands for so as to select cutomer segements\n",
    "file_excel = pd.read_excel(r'C:\\bootcamp\\Data Science Bootcamp Data_2.0.xlsx')\n",
    "\n",
    "create = {}\n",
    "for i, j in zip(file.keys(), file_excel['Description']):\n",
    "    print (i, j)\n",
    "    \n",
    "#print (create)"
   ]
  },
  {
   "cell_type": "code",
   "execution_count": 6,
   "metadata": {
    "collapsed": true
   },
   "outputs": [],
   "source": [
    "# select the columns that could be of importance\n",
    "# Data cleaning\n",
    "# check data of each column using heat map, search for outliers, using boxplot\n",
    "# Data statistics\n",
    "# Data grouping/ category\n",
    "# Data visualization, correlation and exploration\n",
    "# Analysis conclusion and inferences."
   ]
  },
  {
   "cell_type": "markdown",
   "metadata": {},
   "source": [
    "\n",
    "# customer:\n",
    "quest No, age, gender, employment Category, Education, Income, Location, Bank, NO of years, Most frequently used bank, image and reputation, \n",
    "proximity of branches (RatRFF), FreqBra (recommendations from family and friends), FreqPOS (branch), FreqInt (ATM), freqMob (POS),\n",
    "freqUSSD (internet banking), freqTel Mobile (App), reliablility of service (Device4), desktop, Laptop, Tablet, smart phones,\n",
    "cash withdrawal, cash deposits, funds transfer, Balance Enquiry, making complaints, making payment, getting loan, getting financial\n",
    "advice.\n",
    "\n",
    "# Bank services: \n",
    "qosbrn3i, tatli, tat2, tat3, tat3i, qosatmli.\n",
    " \n",
    "# selected customer segements:\n",
    "internet bankers, \n",
    "non-internet bankers, \n",
    "Educated bankers, \n",
    "non-educated bankers, \n",
    "reputable/loan bankers.\n",
    "\n",
    "# major segments:\n",
    "quest No, age, gender,employment category, education, income, location, bank, No of years.\n",
    "\n",
    "## internet bankers:\n",
    "freqUSSD, freqtel, desktop, laptop, tablet, smart phones.\n",
    "\n",
    "## non - internet bankers:\n",
    "freqPOS, freqInt freqMob, cash withdrawal, cash deposits, getting loan, getting financial advice.\n",
    "## users statistics of both internet and non-internet banking\n",
    "funds tranfer, balance enquiry, making complaints\n",
    "\n",
    "## Educated bankers/non-educated bankers\n",
    "education, employment category\n",
    "\n",
    "## reputable/loan bankers\n",
    "getting loan, getting financial advice"
   ]
  },
  {
   "cell_type": "code",
   "execution_count": 7,
   "metadata": {},
   "outputs": [
    {
     "name": "stdout",
     "output_type": "stream",
     "text": [
      "{'Never': 20059, 'Rarely': 6752, 'At least once a week': 5130, 'No Response': 4578, 'Monthly': 3144, 'At Least once a day': 2989}\n"
     ]
    }
   ],
   "source": [
    "# exploring the internet colunm and classfying\n",
    "# freqUSSD\n",
    "internet_dict = dict(file['FreqUSSD'].value_counts())\n",
    "print (internet_dict)"
   ]
  },
  {
   "cell_type": "code",
   "execution_count": 8,
   "metadata": {},
   "outputs": [
    {
     "name": "stderr",
     "output_type": "stream",
     "text": [
      "C:\\Users\\ACER\\Anaconda3\\lib\\site-packages\\ipykernel_launcher.py:2: SettingWithCopyWarning: \n",
      "A value is trying to be set on a copy of a slice from a DataFrame\n",
      "\n",
      "See the caveats in the documentation: http://pandas.pydata.org/pandas-docs/stable/indexing.html#indexing-view-versus-copy\n",
      "  \n",
      "C:\\Users\\ACER\\Anaconda3\\lib\\site-packages\\ipykernel_launcher.py:3: SettingWithCopyWarning: \n",
      "A value is trying to be set on a copy of a slice from a DataFrame\n",
      "\n",
      "See the caveats in the documentation: http://pandas.pydata.org/pandas-docs/stable/indexing.html#indexing-view-versus-copy\n",
      "  This is separate from the ipykernel package so we can avoid doing imports until\n",
      "C:\\Users\\ACER\\Anaconda3\\lib\\site-packages\\ipykernel_launcher.py:4: SettingWithCopyWarning: \n",
      "A value is trying to be set on a copy of a slice from a DataFrame\n",
      "\n",
      "See the caveats in the documentation: http://pandas.pydata.org/pandas-docs/stable/indexing.html#indexing-view-versus-copy\n",
      "  after removing the cwd from sys.path.\n",
      "C:\\Users\\ACER\\Anaconda3\\lib\\site-packages\\ipykernel_launcher.py:5: SettingWithCopyWarning: \n",
      "A value is trying to be set on a copy of a slice from a DataFrame\n",
      "\n",
      "See the caveats in the documentation: http://pandas.pydata.org/pandas-docs/stable/indexing.html#indexing-view-versus-copy\n",
      "  \"\"\"\n",
      "C:\\Users\\ACER\\Anaconda3\\lib\\site-packages\\ipykernel_launcher.py:6: SettingWithCopyWarning: \n",
      "A value is trying to be set on a copy of a slice from a DataFrame\n",
      "\n",
      "See the caveats in the documentation: http://pandas.pydata.org/pandas-docs/stable/indexing.html#indexing-view-versus-copy\n",
      "  \n",
      "C:\\Users\\ACER\\Anaconda3\\lib\\site-packages\\ipykernel_launcher.py:7: SettingWithCopyWarning: \n",
      "A value is trying to be set on a copy of a slice from a DataFrame\n",
      "\n",
      "See the caveats in the documentation: http://pandas.pydata.org/pandas-docs/stable/indexing.html#indexing-view-versus-copy\n",
      "  import sys\n"
     ]
    },
    {
     "data": {
      "text/plain": [
       "0    31389\n",
       "1    11263\n",
       "Name: FreqUSSD, dtype: int64"
      ]
     },
     "execution_count": 8,
     "metadata": {},
     "output_type": "execute_result"
    }
   ],
   "source": [
    "# classfying internet users into '0' and '1'\n",
    "file['FreqUSSD'][file['FreqUSSD'] == 'Never'] = 0\n",
    "file['FreqUSSD'][file['FreqUSSD'] == 'No Response'] = 0\n",
    "file['FreqUSSD'][file['FreqUSSD'] == 'At least once a week'] = 1\n",
    "file['FreqUSSD'][file['FreqUSSD'] == 'Rarely'] = 0\n",
    "file['FreqUSSD'][file['FreqUSSD'] == 'Monthly'] = 1\n",
    "file['FreqUSSD'][file['FreqUSSD'] == 'At Least once a day'] = 1\n",
    "file['FreqUSSD'].value_counts()"
   ]
  },
  {
   "cell_type": "code",
   "execution_count": 9,
   "metadata": {},
   "outputs": [
    {
     "name": "stdout",
     "output_type": "stream",
     "text": [
      "Bachelor's Decree                       17163\n",
      "OND/HND                                 11187\n",
      "Secondary school leaving certificate     7880\n",
      "Master's Degree                          4232\n",
      "No Response                               645\n",
      "Primary School leaving certificate        636\n",
      "PHD                                       546\n",
      "No Formal Education                       324\n",
      "Others                                     39\n",
      "Name: Education, dtype: int64\n"
     ]
    }
   ],
   "source": [
    "Education_dict = (file['Education'].value_counts())\n",
    "print (Education_dict)"
   ]
  },
  {
   "cell_type": "code",
   "execution_count": 10,
   "metadata": {},
   "outputs": [
    {
     "name": "stderr",
     "output_type": "stream",
     "text": [
      "C:\\Users\\ACER\\Anaconda3\\lib\\site-packages\\ipykernel_launcher.py:1: SettingWithCopyWarning: \n",
      "A value is trying to be set on a copy of a slice from a DataFrame\n",
      "\n",
      "See the caveats in the documentation: http://pandas.pydata.org/pandas-docs/stable/indexing.html#indexing-view-versus-copy\n",
      "  \"\"\"Entry point for launching an IPython kernel.\n",
      "C:\\Users\\ACER\\Anaconda3\\lib\\site-packages\\ipykernel_launcher.py:2: SettingWithCopyWarning: \n",
      "A value is trying to be set on a copy of a slice from a DataFrame\n",
      "\n",
      "See the caveats in the documentation: http://pandas.pydata.org/pandas-docs/stable/indexing.html#indexing-view-versus-copy\n",
      "  \n",
      "C:\\Users\\ACER\\Anaconda3\\lib\\site-packages\\ipykernel_launcher.py:3: SettingWithCopyWarning: \n",
      "A value is trying to be set on a copy of a slice from a DataFrame\n",
      "\n",
      "See the caveats in the documentation: http://pandas.pydata.org/pandas-docs/stable/indexing.html#indexing-view-versus-copy\n",
      "  This is separate from the ipykernel package so we can avoid doing imports until\n",
      "C:\\Users\\ACER\\Anaconda3\\lib\\site-packages\\ipykernel_launcher.py:4: SettingWithCopyWarning: \n",
      "A value is trying to be set on a copy of a slice from a DataFrame\n",
      "\n",
      "See the caveats in the documentation: http://pandas.pydata.org/pandas-docs/stable/indexing.html#indexing-view-versus-copy\n",
      "  after removing the cwd from sys.path.\n",
      "C:\\Users\\ACER\\Anaconda3\\lib\\site-packages\\ipykernel_launcher.py:5: SettingWithCopyWarning: \n",
      "A value is trying to be set on a copy of a slice from a DataFrame\n",
      "\n",
      "See the caveats in the documentation: http://pandas.pydata.org/pandas-docs/stable/indexing.html#indexing-view-versus-copy\n",
      "  \"\"\"\n",
      "C:\\Users\\ACER\\Anaconda3\\lib\\site-packages\\ipykernel_launcher.py:6: SettingWithCopyWarning: \n",
      "A value is trying to be set on a copy of a slice from a DataFrame\n",
      "\n",
      "See the caveats in the documentation: http://pandas.pydata.org/pandas-docs/stable/indexing.html#indexing-view-versus-copy\n",
      "  \n",
      "C:\\Users\\ACER\\Anaconda3\\lib\\site-packages\\ipykernel_launcher.py:7: SettingWithCopyWarning: \n",
      "A value is trying to be set on a copy of a slice from a DataFrame\n",
      "\n",
      "See the caveats in the documentation: http://pandas.pydata.org/pandas-docs/stable/indexing.html#indexing-view-versus-copy\n",
      "  import sys\n",
      "C:\\Users\\ACER\\Anaconda3\\lib\\site-packages\\ipykernel_launcher.py:8: SettingWithCopyWarning: \n",
      "A value is trying to be set on a copy of a slice from a DataFrame\n",
      "\n",
      "See the caveats in the documentation: http://pandas.pydata.org/pandas-docs/stable/indexing.html#indexing-view-versus-copy\n",
      "  \n",
      "C:\\Users\\ACER\\Anaconda3\\lib\\site-packages\\ipykernel_launcher.py:9: SettingWithCopyWarning: \n",
      "A value is trying to be set on a copy of a slice from a DataFrame\n",
      "\n",
      "See the caveats in the documentation: http://pandas.pydata.org/pandas-docs/stable/indexing.html#indexing-view-versus-copy\n",
      "  if __name__ == '__main__':\n"
     ]
    },
    {
     "data": {
      "text/plain": [
       "1    33128\n",
       "0     9524\n",
       "Name: Education, dtype: int64"
      ]
     },
     "execution_count": 10,
     "metadata": {},
     "output_type": "execute_result"
    }
   ],
   "source": [
    "file['Education'][file['Education'] == \"Bachelor's Decree\"] = 1\n",
    "file['Education'][file['Education'] == \"OND/HND\"] = 1\n",
    "file['Education'][file['Education'] == \"Secondary school leaving certificate\"] = 0\n",
    "file['Education'][file['Education'] == \"Master's Degree\"] = 1\n",
    "file['Education'][file['Education'] == \"No Response\"] = 0\n",
    "file['Education'][file['Education'] == \"Primary School leaving certificate\"] = 0\n",
    "file['Education'][file['Education'] == \"PHD\"] = 1\n",
    "file['Education'][file['Education'] == \"No Formal Education\"] = 0\n",
    "file['Education'][file['Education'] == \"Others\"] = 0\n",
    "\n",
    "file['Education'].value_counts()"
   ]
  },
  {
   "cell_type": "code",
   "execution_count": 11,
   "metadata": {},
   "outputs": [
    {
     "data": {
      "text/plain": [
       "Float64Index([ 5.0,  3.0,  2.0,  4.0,  1.0, 10.0,  6.0,  7.0,  8.0,  9.0, 12.0,\n",
       "              15.0, 11.0, 20.0, 13.0, 14.0, 16.0, 17.0, 18.0, 25.0, 30.0, 22.0,\n",
       "              21.0, 19.0, 23.0, 35.0, 28.0, 26.0, 24.0, 27.0, 40.0, 33.0, 32.0,\n",
       "              31.0, 37.0, 29.0, 38.0, 34.0, 36.0, 39.0,  0.0,  1.5, 42.0, 51.0,\n",
       "              45.0, 50.0, 41.0, 55.0],\n",
       "             dtype='float64')"
      ]
     },
     "execution_count": 11,
     "metadata": {},
     "output_type": "execute_result"
    }
   ],
   "source": [
    "No_of_years_dict = (file['No of Years '].value_counts())\n",
    "No_of_years_dict.keys()\n"
   ]
  },
  {
   "cell_type": "code",
   "execution_count": 12,
   "metadata": {},
   "outputs": [
    {
     "name": "stderr",
     "output_type": "stream",
     "text": [
      "C:\\Users\\ACER\\Anaconda3\\lib\\site-packages\\ipykernel_launcher.py:2: SettingWithCopyWarning: \n",
      "A value is trying to be set on a copy of a slice from a DataFrame\n",
      "\n",
      "See the caveats in the documentation: http://pandas.pydata.org/pandas-docs/stable/indexing.html#indexing-view-versus-copy\n",
      "  \n",
      "C:\\Users\\ACER\\Anaconda3\\lib\\site-packages\\ipykernel_launcher.py:3: SettingWithCopyWarning: \n",
      "A value is trying to be set on a copy of a slice from a DataFrame\n",
      "\n",
      "See the caveats in the documentation: http://pandas.pydata.org/pandas-docs/stable/indexing.html#indexing-view-versus-copy\n",
      "  This is separate from the ipykernel package so we can avoid doing imports until\n"
     ]
    },
    {
     "data": {
      "text/plain": [
       "0.0    33231\n",
       "1.0     8155\n",
       "Name: No of Years , dtype: int64"
      ]
     },
     "execution_count": 12,
     "metadata": {},
     "output_type": "execute_result"
    }
   ],
   "source": [
    "# classifying members of 10 years experience and above as 1 and less years as 0\n",
    "file['No of Years '][file['No of Years '] < 10.0] = 0\n",
    "file['No of Years '][file['No of Years '] >= 10.0] = 1\n",
    "file['No of Years '].value_counts()"
   ]
  },
  {
   "cell_type": "code",
   "execution_count": 13,
   "metadata": {
    "scrolled": true
   },
   "outputs": [
    {
     "data": {
      "text/html": [
       "<div>\n",
       "<style>\n",
       "    .dataframe thead tr:only-child th {\n",
       "        text-align: right;\n",
       "    }\n",
       "\n",
       "    .dataframe thead th {\n",
       "        text-align: left;\n",
       "    }\n",
       "\n",
       "    .dataframe tbody tr th {\n",
       "        vertical-align: top;\n",
       "    }\n",
       "</style>\n",
       "<table border=\"1\" class=\"dataframe\">\n",
       "  <thead>\n",
       "    <tr style=\"text-align: right;\">\n",
       "      <th></th>\n",
       "      <th>FreqUSSD</th>\n",
       "      <th>No of Years</th>\n",
       "      <th>Education</th>\n",
       "      <th>Bank</th>\n",
       "      <th>Balenq</th>\n",
       "    </tr>\n",
       "  </thead>\n",
       "  <tbody>\n",
       "    <tr>\n",
       "      <th>0</th>\n",
       "      <td>0</td>\n",
       "      <td>1.0</td>\n",
       "      <td>1</td>\n",
       "      <td>Bank A</td>\n",
       "      <td>ATM</td>\n",
       "    </tr>\n",
       "    <tr>\n",
       "      <th>1</th>\n",
       "      <td>0</td>\n",
       "      <td>0.0</td>\n",
       "      <td>1</td>\n",
       "      <td>Bank M</td>\n",
       "      <td>ATM</td>\n",
       "    </tr>\n",
       "    <tr>\n",
       "      <th>2</th>\n",
       "      <td>1</td>\n",
       "      <td>0.0</td>\n",
       "      <td>1</td>\n",
       "      <td>Bank J</td>\n",
       "      <td>ATM</td>\n",
       "    </tr>\n",
       "    <tr>\n",
       "      <th>3</th>\n",
       "      <td>1</td>\n",
       "      <td>NaN</td>\n",
       "      <td>1</td>\n",
       "      <td>Bank B</td>\n",
       "      <td>ATM</td>\n",
       "    </tr>\n",
       "    <tr>\n",
       "      <th>4</th>\n",
       "      <td>0</td>\n",
       "      <td>0.0</td>\n",
       "      <td>1</td>\n",
       "      <td>Bank C</td>\n",
       "      <td>ATM</td>\n",
       "    </tr>\n",
       "  </tbody>\n",
       "</table>\n",
       "</div>"
      ],
      "text/plain": [
       "  FreqUSSD  No of Years  Education    Bank Balenq\n",
       "0        0           1.0         1  Bank A    ATM\n",
       "1        0           0.0         1  Bank M    ATM\n",
       "2        1           0.0         1  Bank J    ATM\n",
       "3        1           NaN         1  Bank B    ATM\n",
       "4        0           0.0         1  Bank C    ATM"
      ]
     },
     "execution_count": 13,
     "metadata": {},
     "output_type": "execute_result"
    }
   ],
   "source": [
    "# create a new dataframe for the classification\n",
    "new_frame = file[['FreqUSSD', 'No of Years ', 'Education', 'Bank', 'Balenq']]\n",
    "new_frame.head()"
   ]
  },
  {
   "cell_type": "code",
   "execution_count": 14,
   "metadata": {},
   "outputs": [
    {
     "data": {
      "text/plain": [
       "pandas.core.series.Series"
      ]
     },
     "execution_count": 14,
     "metadata": {},
     "output_type": "execute_result"
    }
   ],
   "source": [
    "type(new_frame['No of Years '])"
   ]
  },
  {
   "cell_type": "code",
   "execution_count": 15,
   "metadata": {
    "scrolled": true
   },
   "outputs": [
    {
     "data": {
      "image/png": "[encoded data removed]",
      "text/plain": [
       "<matplotlib.figure.Figure at 0xb603978>"
      ]
     },
     "metadata": {},
     "output_type": "display_data"
    },
    {
     "data": {
      "image/png": "[encoded data removed]",
      "text/plain": [
       "<matplotlib.figure.Figure at 0xb5d42b0>"
      ]
     },
     "metadata": {},
     "output_type": "display_data"
    },
    {
     "data": {
      "image/png": "[encoded data removed]",
      "text/plain": [
       "<matplotlib.figure.Figure at 0xb93af60>"
      ]
     },
     "metadata": {},
     "output_type": "display_data"
    },
    {
     "ename": "TypeError",
     "evalue": "unsupported operand type(s) for /: 'str' and 'int'",
     "output_type": "error",
     "traceback": [
      "\u001b[1;31m---------------------------------------------------------------------------\u001b[0m",
      "\u001b[1;31mTypeError\u001b[0m                                 Traceback (most recent call last)",
      "\u001b[1;32m<ipython-input-15-fed270b3eedc>\u001b[0m in \u001b[0;36m<module>\u001b[1;34m()\u001b[0m\n\u001b[0;32m      4\u001b[0m \u001b[1;32mfor\u001b[0m \u001b[0mi\u001b[0m \u001b[1;32min\u001b[0m \u001b[0mbox_plot_of_experiment\u001b[0m\u001b[1;33m:\u001b[0m\u001b[1;33m\u001b[0m\u001b[0m\n\u001b[0;32m      5\u001b[0m     \u001b[0msns\u001b[0m\u001b[1;33m.\u001b[0m\u001b[0mset_style\u001b[0m\u001b[1;33m(\u001b[0m\u001b[1;34m'whitegrid'\u001b[0m\u001b[1;33m)\u001b[0m\u001b[1;33m\u001b[0m\u001b[0m\n\u001b[1;32m----> 6\u001b[1;33m     \u001b[0msns\u001b[0m\u001b[1;33m.\u001b[0m\u001b[0mboxplot\u001b[0m\u001b[1;33m(\u001b[0m\u001b[0mbox_plot_of_experiment\u001b[0m\u001b[1;33m[\u001b[0m\u001b[0mi\u001b[0m\u001b[1;33m]\u001b[0m\u001b[1;33m)\u001b[0m\u001b[1;33m\u001b[0m\u001b[0m\n\u001b[0m\u001b[0;32m      7\u001b[0m     \u001b[0mplt\u001b[0m\u001b[1;33m.\u001b[0m\u001b[0mshow\u001b[0m\u001b[1;33m(\u001b[0m\u001b[1;33m)\u001b[0m\u001b[1;33m\u001b[0m\u001b[0m\n",
      "\u001b[1;32mC:\\Users\\ACER\\Anaconda3\\lib\\site-packages\\seaborn\\categorical.py\u001b[0m in \u001b[0;36mboxplot\u001b[1;34m(x, y, hue, data, order, hue_order, orient, color, palette, saturation, width, fliersize, linewidth, whis, notch, ax, **kwargs)\u001b[0m\n\u001b[0;32m   2179\u001b[0m     \u001b[0mkwargs\u001b[0m\u001b[1;33m.\u001b[0m\u001b[0mupdate\u001b[0m\u001b[1;33m(\u001b[0m\u001b[0mdict\u001b[0m\u001b[1;33m(\u001b[0m\u001b[0mwhis\u001b[0m\u001b[1;33m=\u001b[0m\u001b[0mwhis\u001b[0m\u001b[1;33m,\u001b[0m \u001b[0mnotch\u001b[0m\u001b[1;33m=\u001b[0m\u001b[0mnotch\u001b[0m\u001b[1;33m)\u001b[0m\u001b[1;33m)\u001b[0m\u001b[1;33m\u001b[0m\u001b[0m\n\u001b[0;32m   2180\u001b[0m \u001b[1;33m\u001b[0m\u001b[0m\n\u001b[1;32m-> 2181\u001b[1;33m     \u001b[0mplotter\u001b[0m\u001b[1;33m.\u001b[0m\u001b[0mplot\u001b[0m\u001b[1;33m(\u001b[0m\u001b[0max\u001b[0m\u001b[1;33m,\u001b[0m \u001b[0mkwargs\u001b[0m\u001b[1;33m)\u001b[0m\u001b[1;33m\u001b[0m\u001b[0m\n\u001b[0m\u001b[0;32m   2182\u001b[0m     \u001b[1;32mreturn\u001b[0m \u001b[0max\u001b[0m\u001b[1;33m\u001b[0m\u001b[0m\n\u001b[0;32m   2183\u001b[0m \u001b[1;33m\u001b[0m\u001b[0m\n",
      "\u001b[1;32mC:\\Users\\ACER\\Anaconda3\\lib\\site-packages\\seaborn\\categorical.py\u001b[0m in \u001b[0;36mplot\u001b[1;34m(self, ax, boxplot_kws)\u001b[0m\n\u001b[0;32m    526\u001b[0m     \u001b[1;32mdef\u001b[0m \u001b[0mplot\u001b[0m\u001b[1;33m(\u001b[0m\u001b[0mself\u001b[0m\u001b[1;33m,\u001b[0m \u001b[0max\u001b[0m\u001b[1;33m,\u001b[0m \u001b[0mboxplot_kws\u001b[0m\u001b[1;33m)\u001b[0m\u001b[1;33m:\u001b[0m\u001b[1;33m\u001b[0m\u001b[0m\n\u001b[0;32m    527\u001b[0m         \u001b[1;34m\"\"\"Make the plot.\"\"\"\u001b[0m\u001b[1;33m\u001b[0m\u001b[0m\n\u001b[1;32m--> 528\u001b[1;33m         \u001b[0mself\u001b[0m\u001b[1;33m.\u001b[0m\u001b[0mdraw_boxplot\u001b[0m\u001b[1;33m(\u001b[0m\u001b[0max\u001b[0m\u001b[1;33m,\u001b[0m \u001b[0mboxplot_kws\u001b[0m\u001b[1;33m)\u001b[0m\u001b[1;33m\u001b[0m\u001b[0m\n\u001b[0m\u001b[0;32m    529\u001b[0m         \u001b[0mself\u001b[0m\u001b[1;33m.\u001b[0m\u001b[0mannotate_axes\u001b[0m\u001b[1;33m(\u001b[0m\u001b[0max\u001b[0m\u001b[1;33m)\u001b[0m\u001b[1;33m\u001b[0m\u001b[0m\n\u001b[0;32m    530\u001b[0m         \u001b[1;32mif\u001b[0m \u001b[0mself\u001b[0m\u001b[1;33m.\u001b[0m\u001b[0morient\u001b[0m \u001b[1;33m==\u001b[0m \u001b[1;34m\"h\"\u001b[0m\u001b[1;33m:\u001b[0m\u001b[1;33m\u001b[0m\u001b[0m\n",
      "\u001b[1;32mC:\\Users\\ACER\\Anaconda3\\lib\\site-packages\\seaborn\\categorical.py\u001b[0m in \u001b[0;36mdraw_boxplot\u001b[1;34m(self, ax, kws)\u001b[0m\n\u001b[0;32m    463\u001b[0m                                          \u001b[0mpositions\u001b[0m\u001b[1;33m=\u001b[0m\u001b[1;33m[\u001b[0m\u001b[0mi\u001b[0m\u001b[1;33m]\u001b[0m\u001b[1;33m,\u001b[0m\u001b[1;33m\u001b[0m\u001b[0m\n\u001b[0;32m    464\u001b[0m                                          \u001b[0mwidths\u001b[0m\u001b[1;33m=\u001b[0m\u001b[0mself\u001b[0m\u001b[1;33m.\u001b[0m\u001b[0mwidth\u001b[0m\u001b[1;33m,\u001b[0m\u001b[1;33m\u001b[0m\u001b[0m\n\u001b[1;32m--> 465\u001b[1;33m                                          **kws)\n\u001b[0m\u001b[0;32m    466\u001b[0m                 \u001b[0mcolor\u001b[0m \u001b[1;33m=\u001b[0m \u001b[0mself\u001b[0m\u001b[1;33m.\u001b[0m\u001b[0mcolors\u001b[0m\u001b[1;33m[\u001b[0m\u001b[0mi\u001b[0m\u001b[1;33m]\u001b[0m\u001b[1;33m\u001b[0m\u001b[0m\n\u001b[0;32m    467\u001b[0m                 \u001b[0mself\u001b[0m\u001b[1;33m.\u001b[0m\u001b[0mrestyle_boxplot\u001b[0m\u001b[1;33m(\u001b[0m\u001b[0martist_dict\u001b[0m\u001b[1;33m,\u001b[0m \u001b[0mcolor\u001b[0m\u001b[1;33m,\u001b[0m \u001b[0mprops\u001b[0m\u001b[1;33m)\u001b[0m\u001b[1;33m\u001b[0m\u001b[0m\n",
      "\u001b[1;32mC:\\Users\\ACER\\Anaconda3\\lib\\site-packages\\matplotlib\\__init__.py\u001b[0m in \u001b[0;36minner\u001b[1;34m(ax, *args, **kwargs)\u001b[0m\n\u001b[0;32m   1895\u001b[0m                     warnings.warn(msg % (label_namer, func.__name__),\n\u001b[0;32m   1896\u001b[0m                                   RuntimeWarning, stacklevel=2)\n\u001b[1;32m-> 1897\u001b[1;33m             \u001b[1;32mreturn\u001b[0m \u001b[0mfunc\u001b[0m\u001b[1;33m(\u001b[0m\u001b[0max\u001b[0m\u001b[1;33m,\u001b[0m \u001b[1;33m*\u001b[0m\u001b[0margs\u001b[0m\u001b[1;33m,\u001b[0m \u001b[1;33m**\u001b[0m\u001b[0mkwargs\u001b[0m\u001b[1;33m)\u001b[0m\u001b[1;33m\u001b[0m\u001b[0m\n\u001b[0m\u001b[0;32m   1898\u001b[0m         \u001b[0mpre_doc\u001b[0m \u001b[1;33m=\u001b[0m \u001b[0minner\u001b[0m\u001b[1;33m.\u001b[0m\u001b[0m__doc__\u001b[0m\u001b[1;33m\u001b[0m\u001b[0m\n\u001b[0;32m   1899\u001b[0m         \u001b[1;32mif\u001b[0m \u001b[0mpre_doc\u001b[0m \u001b[1;32mis\u001b[0m \u001b[1;32mNone\u001b[0m\u001b[1;33m:\u001b[0m\u001b[1;33m\u001b[0m\u001b[0m\n",
      "\u001b[1;32mC:\\Users\\ACER\\Anaconda3\\lib\\site-packages\\matplotlib\\axes\\_axes.py\u001b[0m in \u001b[0;36mboxplot\u001b[1;34m(self, x, notch, sym, vert, whis, positions, widths, patch_artist, bootstrap, usermedians, conf_intervals, meanline, showmeans, showcaps, showbox, showfliers, boxprops, labels, flierprops, medianprops, meanprops, capprops, whiskerprops, manage_xticks, autorange, zorder)\u001b[0m\n\u001b[0;32m   3272\u001b[0m             \u001b[0mbootstrap\u001b[0m \u001b[1;33m=\u001b[0m \u001b[0mrcParams\u001b[0m\u001b[1;33m[\u001b[0m\u001b[1;34m'boxplot.bootstrap'\u001b[0m\u001b[1;33m]\u001b[0m\u001b[1;33m\u001b[0m\u001b[0m\n\u001b[0;32m   3273\u001b[0m         bxpstats = cbook.boxplot_stats(x, whis=whis, bootstrap=bootstrap,\n\u001b[1;32m-> 3274\u001b[1;33m                                        labels=labels, autorange=autorange)\n\u001b[0m\u001b[0;32m   3275\u001b[0m         \u001b[1;32mif\u001b[0m \u001b[0mnotch\u001b[0m \u001b[1;32mis\u001b[0m \u001b[1;32mNone\u001b[0m\u001b[1;33m:\u001b[0m\u001b[1;33m\u001b[0m\u001b[0m\n\u001b[0;32m   3276\u001b[0m             \u001b[0mnotch\u001b[0m \u001b[1;33m=\u001b[0m \u001b[0mrcParams\u001b[0m\u001b[1;33m[\u001b[0m\u001b[1;34m'boxplot.notch'\u001b[0m\u001b[1;33m]\u001b[0m\u001b[1;33m\u001b[0m\u001b[0m\n",
      "\u001b[1;32mC:\\Users\\ACER\\Anaconda3\\lib\\site-packages\\matplotlib\\cbook.py\u001b[0m in \u001b[0;36mboxplot_stats\u001b[1;34m(X, whis, bootstrap, labels, autorange)\u001b[0m\n\u001b[0;32m   2032\u001b[0m \u001b[1;33m\u001b[0m\u001b[0m\n\u001b[0;32m   2033\u001b[0m         \u001b[1;31m# arithmetic mean\u001b[0m\u001b[1;33m\u001b[0m\u001b[1;33m\u001b[0m\u001b[0m\n\u001b[1;32m-> 2034\u001b[1;33m         \u001b[0mstats\u001b[0m\u001b[1;33m[\u001b[0m\u001b[1;34m'mean'\u001b[0m\u001b[1;33m]\u001b[0m \u001b[1;33m=\u001b[0m \u001b[0mnp\u001b[0m\u001b[1;33m.\u001b[0m\u001b[0mmean\u001b[0m\u001b[1;33m(\u001b[0m\u001b[0mx\u001b[0m\u001b[1;33m)\u001b[0m\u001b[1;33m\u001b[0m\u001b[0m\n\u001b[0m\u001b[0;32m   2035\u001b[0m \u001b[1;33m\u001b[0m\u001b[0m\n\u001b[0;32m   2036\u001b[0m         \u001b[1;31m# medians and quartiles\u001b[0m\u001b[1;33m\u001b[0m\u001b[1;33m\u001b[0m\u001b[0m\n",
      "\u001b[1;32mC:\\Users\\ACER\\Anaconda3\\lib\\site-packages\\numpy\\core\\fromnumeric.py\u001b[0m in \u001b[0;36mmean\u001b[1;34m(a, axis, dtype, out, keepdims)\u001b[0m\n\u001b[0;32m   2887\u001b[0m \u001b[1;33m\u001b[0m\u001b[0m\n\u001b[0;32m   2888\u001b[0m     return _methods._mean(a, axis=axis, dtype=dtype,\n\u001b[1;32m-> 2889\u001b[1;33m                           out=out, **kwargs)\n\u001b[0m\u001b[0;32m   2890\u001b[0m \u001b[1;33m\u001b[0m\u001b[0m\n\u001b[0;32m   2891\u001b[0m \u001b[1;33m\u001b[0m\u001b[0m\n",
      "\u001b[1;32mC:\\Users\\ACER\\Anaconda3\\lib\\site-packages\\numpy\\core\\_methods.py\u001b[0m in \u001b[0;36m_mean\u001b[1;34m(a, axis, dtype, out, keepdims)\u001b[0m\n\u001b[0;32m     80\u001b[0m             \u001b[0mret\u001b[0m \u001b[1;33m=\u001b[0m \u001b[0mret\u001b[0m\u001b[1;33m.\u001b[0m\u001b[0mdtype\u001b[0m\u001b[1;33m.\u001b[0m\u001b[0mtype\u001b[0m\u001b[1;33m(\u001b[0m\u001b[0mret\u001b[0m \u001b[1;33m/\u001b[0m \u001b[0mrcount\u001b[0m\u001b[1;33m)\u001b[0m\u001b[1;33m\u001b[0m\u001b[0m\n\u001b[0;32m     81\u001b[0m     \u001b[1;32melse\u001b[0m\u001b[1;33m:\u001b[0m\u001b[1;33m\u001b[0m\u001b[0m\n\u001b[1;32m---> 82\u001b[1;33m         \u001b[0mret\u001b[0m \u001b[1;33m=\u001b[0m \u001b[0mret\u001b[0m \u001b[1;33m/\u001b[0m \u001b[0mrcount\u001b[0m\u001b[1;33m\u001b[0m\u001b[0m\n\u001b[0m\u001b[0;32m     83\u001b[0m \u001b[1;33m\u001b[0m\u001b[0m\n\u001b[0;32m     84\u001b[0m     \u001b[1;32mreturn\u001b[0m \u001b[0mret\u001b[0m\u001b[1;33m\u001b[0m\u001b[0m\n",
      "\u001b[1;31mTypeError\u001b[0m: unsupported operand type(s) for /: 'str' and 'int'"
     ]
    }
   ],
   "source": [
    "# plotting box plot of datasets\n",
    "# to figure out extreme values or outliers\n",
    "box_plot_of_experiment = new_frame\n",
    "for i in box_plot_of_experiment:\n",
    "    sns.set_style('whitegrid')\n",
    "    sns.boxplot(box_plot_of_experiment[i])\n",
    "    plt.show()"
   ]
  },
  {
   "cell_type": "code",
   "execution_count": 16,
   "metadata": {
    "collapsed": true
   },
   "outputs": [],
   "source": [
    "review_internet = new_frame[new_frame['FreqUSSD'] <1] \n",
    "review_years = new_frame[new_frame['No of Years '] <1] \n",
    "review_education = new_frame[new_frame['Education'] <1] \n"
   ]
  },
  {
   "cell_type": "code",
   "execution_count": 17,
   "metadata": {},
   "outputs": [
    {
     "data": {
      "text/html": [
       "<div>\n",
       "<style>\n",
       "    .dataframe thead tr:only-child th {\n",
       "        text-align: right;\n",
       "    }\n",
       "\n",
       "    .dataframe thead th {\n",
       "        text-align: left;\n",
       "    }\n",
       "\n",
       "    .dataframe tbody tr th {\n",
       "        vertical-align: top;\n",
       "    }\n",
       "</style>\n",
       "<table border=\"1\" class=\"dataframe\">\n",
       "  <thead>\n",
       "    <tr style=\"text-align: right;\">\n",
       "      <th></th>\n",
       "      <th>FreqUSSD</th>\n",
       "      <th>No of Years</th>\n",
       "      <th>Education</th>\n",
       "      <th>Bank</th>\n",
       "      <th>Balenq</th>\n",
       "    </tr>\n",
       "  </thead>\n",
       "  <tbody>\n",
       "    <tr>\n",
       "      <th>0</th>\n",
       "      <td>0</td>\n",
       "      <td>1.0</td>\n",
       "      <td>1</td>\n",
       "      <td>Bank A</td>\n",
       "      <td>ATM</td>\n",
       "    </tr>\n",
       "    <tr>\n",
       "      <th>1</th>\n",
       "      <td>0</td>\n",
       "      <td>0.0</td>\n",
       "      <td>1</td>\n",
       "      <td>Bank M</td>\n",
       "      <td>ATM</td>\n",
       "    </tr>\n",
       "    <tr>\n",
       "      <th>2</th>\n",
       "      <td>1</td>\n",
       "      <td>0.0</td>\n",
       "      <td>1</td>\n",
       "      <td>Bank J</td>\n",
       "      <td>ATM</td>\n",
       "    </tr>\n",
       "    <tr>\n",
       "      <th>3</th>\n",
       "      <td>1</td>\n",
       "      <td>NaN</td>\n",
       "      <td>1</td>\n",
       "      <td>Bank B</td>\n",
       "      <td>ATM</td>\n",
       "    </tr>\n",
       "    <tr>\n",
       "      <th>4</th>\n",
       "      <td>0</td>\n",
       "      <td>0.0</td>\n",
       "      <td>1</td>\n",
       "      <td>Bank C</td>\n",
       "      <td>ATM</td>\n",
       "    </tr>\n",
       "  </tbody>\n",
       "</table>\n",
       "</div>"
      ],
      "text/plain": [
       "  FreqUSSD  No of Years  Education    Bank Balenq\n",
       "0        0           1.0         1  Bank A    ATM\n",
       "1        0           0.0         1  Bank M    ATM\n",
       "2        1           0.0         1  Bank J    ATM\n",
       "3        1           NaN         1  Bank B    ATM\n",
       "4        0           0.0         1  Bank C    ATM"
      ]
     },
     "execution_count": 17,
     "metadata": {},
     "output_type": "execute_result"
    }
   ],
   "source": [
    "# interpolating missing datas with the function interpolate\n",
    "new_frame.interpolate()\n",
    "new_frame.head()"
   ]
  },
  {
   "cell_type": "code",
   "execution_count": 18,
   "metadata": {
    "collapsed": true
   },
   "outputs": [],
   "source": [
    "# grand data frame: since all entries are bank users\n",
    "\n",
    "\n",
    "# first category: internet users, educated, long time relationship with the bank = 0\n",
    "# second category: internet users, educated, less time relationship = 1\n",
    "# third category: internet users, non-educated, long time relationship = 2\n",
    "# forth category: internet users, non-educated, less time relationship = 3\n",
    "# fifth category: non-internet users, educated, long time relationship with the bank = 4\n",
    "# sixth category: non-internet users, educated, less time relationship = 5\n",
    "# seventh category: non-internet users, non-educated, long time relationship = 6\n",
    "# eight category: non-internet users, non-educated, less time relationship = 7\n"
   ]
  },
  {
   "cell_type": "code",
   "execution_count": 19,
   "metadata": {},
   "outputs": [
    {
     "name": "stderr",
     "output_type": "stream",
     "text": [
      "C:\\Users\\ACER\\Anaconda3\\lib\\site-packages\\ipykernel_launcher.py:4: SettingWithCopyWarning: \n",
      "A value is trying to be set on a copy of a slice from a DataFrame\n",
      "\n",
      "See the caveats in the documentation: http://pandas.pydata.org/pandas-docs/stable/indexing.html#indexing-view-versus-copy\n",
      "  after removing the cwd from sys.path.\n",
      "C:\\Users\\ACER\\Anaconda3\\lib\\site-packages\\IPython\\core\\interactiveshell.py:2881: SettingWithCopyWarning: \n",
      "A value is trying to be set on a copy of a slice from a DataFrame\n",
      "\n",
      "See the caveats in the documentation: http://pandas.pydata.org/pandas-docs/stable/indexing.html#indexing-view-versus-copy\n",
      "  exec(code_obj, self.user_global_ns, self.user_ns)\n",
      "C:\\Users\\ACER\\Anaconda3\\lib\\site-packages\\ipykernel_launcher.py:5: SettingWithCopyWarning: \n",
      "A value is trying to be set on a copy of a slice from a DataFrame\n",
      "\n",
      "See the caveats in the documentation: http://pandas.pydata.org/pandas-docs/stable/indexing.html#indexing-view-versus-copy\n",
      "  \"\"\"\n"
     ]
    },
    {
     "ename": "KeyError",
     "evalue": "(nan, 0, nan)",
     "output_type": "error",
     "traceback": [
      "\u001b[1;31m---------------------------------------------------------------------------\u001b[0m",
      "\u001b[1;31mKeyError\u001b[0m                                  Traceback (most recent call last)",
      "\u001b[1;32m<ipython-input-19-000ef0171983>\u001b[0m in \u001b[0;36m<module>\u001b[1;34m()\u001b[0m\n\u001b[0;32m      3\u001b[0m \u001b[1;32mfor\u001b[0m \u001b[0mcounter\u001b[0m \u001b[1;32min\u001b[0m \u001b[0mrange\u001b[0m\u001b[1;33m(\u001b[0m\u001b[0mlen\u001b[0m\u001b[1;33m(\u001b[0m\u001b[0mnew_frame\u001b[0m\u001b[1;33m)\u001b[0m\u001b[1;33m)\u001b[0m\u001b[1;33m:\u001b[0m\u001b[1;33m\u001b[0m\u001b[0m\n\u001b[1;32m----> 4\u001b[1;33m     \u001b[1;32mtry\u001b[0m\u001b[1;33m:\u001b[0m \u001b[0mnew_frame\u001b[0m\u001b[1;33m[\u001b[0m\u001b[1;34m'Balenq'\u001b[0m\u001b[1;33m]\u001b[0m\u001b[1;33m[\u001b[0m\u001b[0mcounter\u001b[0m\u001b[1;33m]\u001b[0m\u001b[1;33m=\u001b[0m \u001b[0mhis\u001b[0m\u001b[1;33m[\u001b[0m\u001b[1;33m(\u001b[0m\u001b[0mfloat\u001b[0m\u001b[1;33m(\u001b[0m\u001b[0mnew_frame\u001b[0m\u001b[1;33m[\u001b[0m\u001b[1;34m'FreqUSSD'\u001b[0m\u001b[1;33m]\u001b[0m\u001b[1;33m[\u001b[0m\u001b[0mcounter\u001b[0m\u001b[1;33m]\u001b[0m\u001b[1;33m)\u001b[0m\u001b[1;33m,\u001b[0m \u001b[1;33m(\u001b[0m\u001b[0mnew_frame\u001b[0m\u001b[1;33m[\u001b[0m\u001b[1;34m'No of Years '\u001b[0m\u001b[1;33m]\u001b[0m\u001b[1;33m[\u001b[0m\u001b[0mcounter\u001b[0m\u001b[1;33m]\u001b[0m\u001b[1;33m)\u001b[0m\u001b[1;33m,\u001b[0m \u001b[0mfloat\u001b[0m\u001b[1;33m(\u001b[0m\u001b[0mnew_frame\u001b[0m\u001b[1;33m[\u001b[0m\u001b[1;34m'Education'\u001b[0m\u001b[1;33m]\u001b[0m\u001b[1;33m[\u001b[0m\u001b[0mcounter\u001b[0m\u001b[1;33m]\u001b[0m\u001b[1;33m)\u001b[0m\u001b[1;33m)\u001b[0m\u001b[1;33m]\u001b[0m\u001b[1;33m\u001b[0m\u001b[0m\n\u001b[0m\u001b[0;32m      5\u001b[0m     \u001b[1;32mexcept\u001b[0m\u001b[1;33m:\u001b[0m \u001b[0mnew_frame\u001b[0m\u001b[1;33m[\u001b[0m\u001b[1;34m'Balenq'\u001b[0m\u001b[1;33m]\u001b[0m\u001b[1;33m[\u001b[0m\u001b[0mcounter\u001b[0m\u001b[1;33m]\u001b[0m\u001b[1;33m=\u001b[0m \u001b[0mhis\u001b[0m\u001b[1;33m[\u001b[0m\u001b[1;33m(\u001b[0m\u001b[0mfloat\u001b[0m\u001b[1;33m(\u001b[0m\u001b[0mnew_frame\u001b[0m\u001b[1;33m[\u001b[0m\u001b[1;34m'FreqUSSD'\u001b[0m\u001b[1;33m]\u001b[0m\u001b[1;33m[\u001b[0m\u001b[0mcounter\u001b[0m\u001b[1;33m]\u001b[0m\u001b[1;33m)\u001b[0m\u001b[1;33m,\u001b[0m \u001b[1;36m0\u001b[0m\u001b[1;33m,\u001b[0m \u001b[0mfloat\u001b[0m\u001b[1;33m(\u001b[0m\u001b[0mnew_frame\u001b[0m\u001b[1;33m[\u001b[0m\u001b[1;34m'Education'\u001b[0m\u001b[1;33m]\u001b[0m\u001b[1;33m[\u001b[0m\u001b[0mcounter\u001b[0m\u001b[1;33m]\u001b[0m\u001b[1;33m)\u001b[0m\u001b[1;33m)\u001b[0m\u001b[1;33m]\u001b[0m\u001b[1;33m\u001b[0m\u001b[0m\n",
      "\u001b[1;31mKeyError\u001b[0m: (nan, nan, nan)",
      "\nDuring handling of the above exception, another exception occurred:\n",
      "\u001b[1;31mKeyError\u001b[0m                                  Traceback (most recent call last)",
      "\u001b[1;32m<ipython-input-19-000ef0171983>\u001b[0m in \u001b[0;36m<module>\u001b[1;34m()\u001b[0m\n\u001b[0;32m      3\u001b[0m \u001b[1;32mfor\u001b[0m \u001b[0mcounter\u001b[0m \u001b[1;32min\u001b[0m \u001b[0mrange\u001b[0m\u001b[1;33m(\u001b[0m\u001b[0mlen\u001b[0m\u001b[1;33m(\u001b[0m\u001b[0mnew_frame\u001b[0m\u001b[1;33m)\u001b[0m\u001b[1;33m)\u001b[0m\u001b[1;33m:\u001b[0m\u001b[1;33m\u001b[0m\u001b[0m\n\u001b[0;32m      4\u001b[0m     \u001b[1;32mtry\u001b[0m\u001b[1;33m:\u001b[0m \u001b[0mnew_frame\u001b[0m\u001b[1;33m[\u001b[0m\u001b[1;34m'Balenq'\u001b[0m\u001b[1;33m]\u001b[0m\u001b[1;33m[\u001b[0m\u001b[0mcounter\u001b[0m\u001b[1;33m]\u001b[0m\u001b[1;33m=\u001b[0m \u001b[0mhis\u001b[0m\u001b[1;33m[\u001b[0m\u001b[1;33m(\u001b[0m\u001b[0mfloat\u001b[0m\u001b[1;33m(\u001b[0m\u001b[0mnew_frame\u001b[0m\u001b[1;33m[\u001b[0m\u001b[1;34m'FreqUSSD'\u001b[0m\u001b[1;33m]\u001b[0m\u001b[1;33m[\u001b[0m\u001b[0mcounter\u001b[0m\u001b[1;33m]\u001b[0m\u001b[1;33m)\u001b[0m\u001b[1;33m,\u001b[0m \u001b[1;33m(\u001b[0m\u001b[0mnew_frame\u001b[0m\u001b[1;33m[\u001b[0m\u001b[1;34m'No of Years '\u001b[0m\u001b[1;33m]\u001b[0m\u001b[1;33m[\u001b[0m\u001b[0mcounter\u001b[0m\u001b[1;33m]\u001b[0m\u001b[1;33m)\u001b[0m\u001b[1;33m,\u001b[0m \u001b[0mfloat\u001b[0m\u001b[1;33m(\u001b[0m\u001b[0mnew_frame\u001b[0m\u001b[1;33m[\u001b[0m\u001b[1;34m'Education'\u001b[0m\u001b[1;33m]\u001b[0m\u001b[1;33m[\u001b[0m\u001b[0mcounter\u001b[0m\u001b[1;33m]\u001b[0m\u001b[1;33m)\u001b[0m\u001b[1;33m)\u001b[0m\u001b[1;33m]\u001b[0m\u001b[1;33m\u001b[0m\u001b[0m\n\u001b[1;32m----> 5\u001b[1;33m     \u001b[1;32mexcept\u001b[0m\u001b[1;33m:\u001b[0m \u001b[0mnew_frame\u001b[0m\u001b[1;33m[\u001b[0m\u001b[1;34m'Balenq'\u001b[0m\u001b[1;33m]\u001b[0m\u001b[1;33m[\u001b[0m\u001b[0mcounter\u001b[0m\u001b[1;33m]\u001b[0m\u001b[1;33m=\u001b[0m \u001b[0mhis\u001b[0m\u001b[1;33m[\u001b[0m\u001b[1;33m(\u001b[0m\u001b[0mfloat\u001b[0m\u001b[1;33m(\u001b[0m\u001b[0mnew_frame\u001b[0m\u001b[1;33m[\u001b[0m\u001b[1;34m'FreqUSSD'\u001b[0m\u001b[1;33m]\u001b[0m\u001b[1;33m[\u001b[0m\u001b[0mcounter\u001b[0m\u001b[1;33m]\u001b[0m\u001b[1;33m)\u001b[0m\u001b[1;33m,\u001b[0m \u001b[1;36m0\u001b[0m\u001b[1;33m,\u001b[0m \u001b[0mfloat\u001b[0m\u001b[1;33m(\u001b[0m\u001b[0mnew_frame\u001b[0m\u001b[1;33m[\u001b[0m\u001b[1;34m'Education'\u001b[0m\u001b[1;33m]\u001b[0m\u001b[1;33m[\u001b[0m\u001b[0mcounter\u001b[0m\u001b[1;33m]\u001b[0m\u001b[1;33m)\u001b[0m\u001b[1;33m)\u001b[0m\u001b[1;33m]\u001b[0m\u001b[1;33m\u001b[0m\u001b[0m\n\u001b[0m",
      "\u001b[1;31mKeyError\u001b[0m: (nan, 0, nan)"
     ]
    }
   ],
   "source": [
    "counter = 0\n",
    "his = {(0.0,0.0,0.0):7, (0.0,0.0,1.0):6, (0.0,1.0,0.0):5, (0.0,1.0,1.0):4, (1.0,0.0,0.0):3, (1.0,0.0,1.0):2, (1.0,1.0,0.0):1, (1.0,1.0,1.0):0}\n",
    "for counter in range(len(new_frame)):\n",
    "    try: new_frame['Balenq'][counter]= his[(float(new_frame['FreqUSSD'][counter]), (new_frame['No of Years '][counter]), float(new_frame['Education'][counter]))]\n",
    "    except: new_frame['Balenq'][counter]= his[(float(new_frame['FreqUSSD'][counter]), 0, float(new_frame['Education'][counter]))]"
   ]
  },
  {
   "cell_type": "code",
   "execution_count": null,
   "metadata": {
    "collapsed": true,
    "scrolled": false
   },
   "outputs": [],
   "source": [
    "count = \n",
    "while count < len(new_frame):\n",
    "    if new_frame.iloc([i],[0])==1& new_frame.iloc([i],[1])==1.0 & new_frame.iloc([i],[2])== 1:\n",
    "        new_frame['Balenq'][i]= 0\n",
    "        count += 1\n",
    "    \n",
    "    elif new_frame.iloc([i],[0])==1& new_frame.iloc([i],[1])==1.0 & new_frame.iloc([i],[2])== 0:\n",
    "        new_frame['Balenq'][i]= 1\n",
    "        count += 1\n",
    "    \n",
    "    elif new_frame.iloc([i],[0])==1& new_frame.iloc([i],[1])==0.0 & new_frame.iloc([i],[2])== 1:\n",
    "        new_frame['Balenq'][i]= 2\n",
    "        count += 1\n",
    "   \n",
    "    elif new_frame.iloc([i],[0])==1& new_frame.iloc([i],[1])==0.0 & new_frame.iloc([i],[2])== 0:\n",
    "        new_frame['Balenq'][i]= 3\n",
    "        count += 1\n",
    "   \n",
    "    elif new_frame.iloc([i],[0])==0& new_frame.iloc([i],[1])==1.0 & new_frame.iloc([i],[2])== 1:\n",
    "        new_frame['Balenq'][i]= 4\n",
    "        count += 1\n",
    " \n",
    "    elif new_frame.iloc([i],[0])==0& new_frame.iloc([i],[1])==1.0 & new_frame.iloc([i],[2])== 0:\n",
    "        new_frame['Balenq'][i]= 5\n",
    "        count += 1\n",
    "  \n",
    "    if new_frame.iloc([i],[0])==0& new_frame.iloc([i],[1])==0.0 & new_frame.iloc([i],[2])== 1:\n",
    "        new_frame['Balenq'][i]= 6\n",
    "        count += 1\n",
    "   \n",
    "    if new_frame.iloc([i],[0])==0& new_frame.iloc([i],[1])==0.0 & new_frame.iloc([i],[2])== 0:\n",
    "        new_frame['Balenq'][i]= 7\n",
    "        count += 1\n",
    "    else:\n",
    "        pass"
   ]
  },
  {
   "cell_type": "code",
   "execution_count": null,
   "metadata": {
    "collapsed": true
   },
   "outputs": [],
   "source": [
    "new_frame['FreqUSSD'][0]\n"
   ]
  },
  {
   "cell_type": "code",
   "execution_count": null,
   "metadata": {
    "collapsed": true
   },
   "outputs": [],
   "source": [
    "help(new_frame.loc)"
   ]
  },
  {
   "cell_type": "code",
   "execution_count": null,
   "metadata": {
    "collapsed": true
   },
   "outputs": [],
   "source": [
    "new_frame['Balenq'].value_counts()"
   ]
  },
  {
   "cell_type": "code",
   "execution_count": null,
   "metadata": {
    "collapsed": true
   },
   "outputs": [],
   "source": [
    "plt.hist(new_frame['Balenq'], bins = 50)\n",
    "plt.show()"
   ]
  },
  {
   "cell_type": "code",
   "execution_count": null,
   "metadata": {
    "collapsed": true
   },
   "outputs": [],
   "source": [
    "# working with the internet_bankers dataframe\n",
    "\n",
    "for i in Internet_bankers.keys():\n",
    "    new = dict(Internet_bankers[i].value_counts())\n",
    "    print ('value counts in column ', i)\n",
    "    print (new)\n",
    "    print ('')\n",
    "    print ('')\n",
    "    "
   ]
  },
  {
   "cell_type": "code",
   "execution_count": null,
   "metadata": {
    "collapsed": true
   },
   "outputs": [],
   "source": [
    "# applying string encoding or one-hot encoding"
   ]
  },
  {
   "cell_type": "code",
   "execution_count": null,
   "metadata": {
    "collapsed": true
   },
   "outputs": [],
   "source": [
    "# to build the clustering model we have to create a numpy array of each rows and set to X\n",
    "# then create a numpy array showing their area of classification"
   ]
  },
  {
   "cell_type": "code",
   "execution_count": null,
   "metadata": {
    "collapsed": true
   },
   "outputs": [],
   "source": [
    "# general segment: age, gender,employment category, education, income, location, bank, No of years.\n",
    "# banking: freqUSSD, freqtel, desktop, laptop, tablet, smart phones.\n",
    "# internet and non-internet bankers: funds tranfer, balance enquiry, making complaints\n",
    "# eduacted bankers:  education, employment category\n",
    "# loan bankers: getting loan, getting financial advice"
   ]
  },
  {
   "cell_type": "code",
   "execution_count": 20,
   "metadata": {
    "collapsed": true
   },
   "outputs": [],
   "source": [
    "# analysing the general segment"
   ]
  },
  {
   "cell_type": "code",
   "execution_count": 21,
   "metadata": {},
   "outputs": [
    {
     "name": "stdout",
     "output_type": "stream",
     "text": [
      "Help on module warnings:\n",
      "\n",
      "NAME\n",
      "    warnings - Python part of the warnings subsystem.\n",
      "\n",
      "CLASSES\n",
      "    builtins.object\n",
      "        catch_warnings\n",
      "    \n",
      "    class catch_warnings(builtins.object)\n",
      "     |  A context manager that copies and restores the warnings filter upon\n",
      "     |  exiting the context.\n",
      "     |  \n",
      "     |  The 'record' argument specifies whether warnings should be captured by a\n",
      "     |  custom implementation of warnings.showwarning() and be appended to a list\n",
      "     |  returned by the context manager. Otherwise None is returned by the context\n",
      "     |  manager. The objects appended to the list are arguments whose attributes\n",
      "     |  mirror the arguments to showwarning().\n",
      "     |  \n",
      "     |  The 'module' argument is to specify an alternative module to the module\n",
      "     |  named 'warnings' and imported under that name. This argument is only useful\n",
      "     |  when testing the warnings module itself.\n",
      "     |  \n",
      "     |  Methods defined here:\n",
      "     |  \n",
      "     |  __enter__(self)\n",
      "     |  \n",
      "     |  __exit__(self, *exc_info)\n",
      "     |  \n",
      "     |  __init__(self, *, record=False, module=None)\n",
      "     |      Specify whether to record warnings and if an alternative module\n",
      "     |      should be used other than sys.modules['warnings'].\n",
      "     |      \n",
      "     |      For compatibility with Python 3.0, please consider all arguments to be\n",
      "     |      keyword-only.\n",
      "     |  \n",
      "     |  __repr__(self)\n",
      "     |      Return repr(self).\n",
      "     |  \n",
      "     |  ----------------------------------------------------------------------\n",
      "     |  Data descriptors defined here:\n",
      "     |  \n",
      "     |  __dict__\n",
      "     |      dictionary for instance variables (if defined)\n",
      "     |  \n",
      "     |  __weakref__\n",
      "     |      list of weak references to the object (if defined)\n",
      "\n",
      "FUNCTIONS\n",
      "    filterwarnings(action, message='', category=<class 'Warning'>, module='', lineno=0, append=False)\n",
      "        Insert an entry into the list of warnings filters (at the front).\n",
      "        \n",
      "        'action' -- one of \"error\", \"ignore\", \"always\", \"default\", \"module\",\n",
      "                    or \"once\"\n",
      "        'message' -- a regex that the warning message must match\n",
      "        'category' -- a class that the warning must be a subclass of\n",
      "        'module' -- a regex that the module name must match\n",
      "        'lineno' -- an integer line number, 0 matches all warnings\n",
      "        'append' -- if true, append to the list of filters\n",
      "    \n",
      "    formatwarning(message, category, filename, lineno, line=None)\n",
      "        Function to format a warning the standard way.\n",
      "    \n",
      "    resetwarnings()\n",
      "        Clear the list of warning filters, so that no filters are active.\n",
      "    \n",
      "    showwarning(message, category, filename, lineno, file=None, line=None)\n",
      "        Hook to write a warning to a file; replace if you like.\n",
      "    \n",
      "    simplefilter(action, category=<class 'Warning'>, lineno=0, append=False)\n",
      "        Insert a simple entry into the list of warnings filters (at the front).\n",
      "        \n",
      "        A simple filter matches all modules and messages.\n",
      "        'action' -- one of \"error\", \"ignore\", \"always\", \"default\", \"module\",\n",
      "                    or \"once\"\n",
      "        'category' -- a class that the warning must be a subclass of\n",
      "        'lineno' -- an integer line number, 0 matches all warnings\n",
      "        'append' -- if true, append to the list of filters\n",
      "    \n",
      "    warn(...)\n",
      "        Issue a warning, or maybe ignore it or raise an exception.\n",
      "    \n",
      "    warn_explicit(...)\n",
      "        Low-level inferface to warnings functionality.\n",
      "\n",
      "DATA\n",
      "    __all__ = ['warn', 'warn_explicit', 'showwarning', 'formatwarning', 'f...\n",
      "\n",
      "FILE\n",
      "    c:\\users\\acer\\anaconda3\\lib\\warnings.py\n",
      "\n",
      "\n"
     ]
    }
   ],
   "source": [
    "import warnings\n",
    "help (warnings)"
   ]
  },
  {
   "cell_type": "code",
   "execution_count": null,
   "metadata": {
    "collapsed": true
   },
   "outputs": [],
   "source": []
  }
 ],
 "metadata": {
  "kernelspec": {
   "display_name": "Python 3",
   "language": "python",
   "name": "python3"
  },
  "language_info": {
   "codemirror_mode": {
    "name": "ipython",
    "version": 3
   },
   "file_extension": ".py",
   "mimetype": "text/x-python",
   "name": "python",
   "nbconvert_exporter": "python",
   "pygments_lexer": "ipython3",
   "version": "3.6.1"
  }
 },
 "nbformat": 4,
 "nbformat_minor": 2
}
