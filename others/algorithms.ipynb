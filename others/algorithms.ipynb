{
 "cells": [
  {
   "cell_type": "code",
   "execution_count": 45,
   "metadata": {
    "collapsed": true
   },
   "outputs": [],
   "source": [
    "import numpy as np\n",
    "import pandas as pd\n",
    "import sklearn as sk\n",
    "import seaborn as sns\n",
    "import matplotlib.pyplot as plt"
   ]
  },
  {
   "cell_type": "code",
   "execution_count": 46,
   "metadata": {
    "collapsed": true
   },
   "outputs": [],
   "source": [
    "train_file = pd.read_csv('C:\\\\Users\\\\ACER\\\\Downloads\\\\train.csv')"
   ]
  },
  {
   "cell_type": "code",
   "execution_count": 47,
   "metadata": {
    "collapsed": true
   },
   "outputs": [],
   "source": [
    "from sklearn.model_selection import train_test_split"
   ]
  },
  {
   "cell_type": "code",
   "execution_count": 48,
   "metadata": {},
   "outputs": [],
   "source": [
    "X_train, X_test, y_train, y_test = train_test_split(train_file['Age'],train_file['Scores'],random_state = 0)"
   ]
  },
  {
   "cell_type": "code",
   "execution_count": 49,
   "metadata": {},
   "outputs": [],
   "source": [
    "from sklearn.linear_model import LinearRegression\n",
    "lr = LinearRegression(normalize = True)"
   ]
  },
  {
   "cell_type": "code",
   "execution_count": 50,
   "metadata": {},
   "outputs": [],
   "source": [
    "from sklearn.metrics import accuracy_score"
   ]
  },
  {
   "cell_type": "code",
   "execution_count": 51,
   "metadata": {},
   "outputs": [],
   "source": [
    "from sklearn.tree import DecisionTreeClassifier"
   ]
  },
  {
   "cell_type": "code",
   "execution_count": 52,
   "metadata": {},
   "outputs": [
    {
     "ename": "ValueError",
     "evalue": "The least populated class in y has only 1 member, which is too few. The minimum number of groups for any class cannot be less than 2.",
     "output_type": "error",
     "traceback": [
      "\u001b[1;31m---------------------------------------------------------------------------\u001b[0m",
      "\u001b[1;31mValueError\u001b[0m                                Traceback (most recent call last)",
      "\u001b[1;32m<ipython-input-52-057c02bca295>\u001b[0m in \u001b[0;36m<module>\u001b[1;34m()\u001b[0m\n\u001b[1;32m----> 1\u001b[1;33m \u001b[0mX_train\u001b[0m\u001b[1;33m,\u001b[0m \u001b[0mX_test\u001b[0m\u001b[1;33m,\u001b[0m \u001b[0my_train\u001b[0m\u001b[1;33m,\u001b[0m \u001b[0my_test\u001b[0m \u001b[1;33m=\u001b[0m \u001b[0mtrain_test_split\u001b[0m\u001b[1;33m(\u001b[0m\u001b[0mtrain_file\u001b[0m\u001b[1;33m[\u001b[0m\u001b[1;34m'failures'\u001b[0m\u001b[1;33m]\u001b[0m\u001b[1;33m,\u001b[0m \u001b[0mtrain_file\u001b[0m\u001b[1;33m[\u001b[0m\u001b[1;34m'Scores'\u001b[0m\u001b[1;33m]\u001b[0m\u001b[1;33m,\u001b[0m \u001b[0mstratify\u001b[0m \u001b[1;33m=\u001b[0m \u001b[0mtrain_file\u001b[0m\u001b[1;33m[\u001b[0m\u001b[1;34m'Scores'\u001b[0m\u001b[1;33m]\u001b[0m\u001b[1;33m,\u001b[0m \u001b[0mrandom_state\u001b[0m \u001b[1;33m=\u001b[0m \u001b[1;36m3\u001b[0m\u001b[1;33m)\u001b[0m\u001b[1;33m\u001b[0m\u001b[0m\n\u001b[0m\u001b[0;32m      2\u001b[0m \u001b[0mtree\u001b[0m \u001b[1;33m=\u001b[0m \u001b[0mDecisionTreeClassifier\u001b[0m\u001b[1;33m(\u001b[0m\u001b[0mrandom_state\u001b[0m \u001b[1;33m=\u001b[0m \u001b[1;36m2\u001b[0m\u001b[1;33m)\u001b[0m\u001b[1;33m\u001b[0m\u001b[0m\n\u001b[0;32m      3\u001b[0m \u001b[0mtree\u001b[0m\u001b[1;33m.\u001b[0m\u001b[0mfit\u001b[0m\u001b[1;33m(\u001b[0m\u001b[0mX_train\u001b[0m\u001b[1;33m,\u001b[0m \u001b[0my_train\u001b[0m\u001b[1;33m)\u001b[0m\u001b[1;33m\u001b[0m\u001b[0m\n",
      "\u001b[1;32mC:\\Users\\ACER\\Anaconda3\\lib\\site-packages\\sklearn\\model_selection\\_split.py\u001b[0m in \u001b[0;36mtrain_test_split\u001b[1;34m(*arrays, **options)\u001b[0m\n\u001b[0;32m   1698\u001b[0m                  random_state=random_state)\n\u001b[0;32m   1699\u001b[0m \u001b[1;33m\u001b[0m\u001b[0m\n\u001b[1;32m-> 1700\u001b[1;33m     \u001b[0mtrain\u001b[0m\u001b[1;33m,\u001b[0m \u001b[0mtest\u001b[0m \u001b[1;33m=\u001b[0m \u001b[0mnext\u001b[0m\u001b[1;33m(\u001b[0m\u001b[0mcv\u001b[0m\u001b[1;33m.\u001b[0m\u001b[0msplit\u001b[0m\u001b[1;33m(\u001b[0m\u001b[0mX\u001b[0m\u001b[1;33m=\u001b[0m\u001b[0marrays\u001b[0m\u001b[1;33m[\u001b[0m\u001b[1;36m0\u001b[0m\u001b[1;33m]\u001b[0m\u001b[1;33m,\u001b[0m \u001b[0my\u001b[0m\u001b[1;33m=\u001b[0m\u001b[0mstratify\u001b[0m\u001b[1;33m)\u001b[0m\u001b[1;33m)\u001b[0m\u001b[1;33m\u001b[0m\u001b[0m\n\u001b[0m\u001b[0;32m   1701\u001b[0m     return list(chain.from_iterable((safe_indexing(a, train),\n\u001b[0;32m   1702\u001b[0m                                      safe_indexing(a, test)) for a in arrays))\n",
      "\u001b[1;32mC:\\Users\\ACER\\Anaconda3\\lib\\site-packages\\sklearn\\model_selection\\_split.py\u001b[0m in \u001b[0;36msplit\u001b[1;34m(self, X, y, groups)\u001b[0m\n\u001b[0;32m    951\u001b[0m         \"\"\"\n\u001b[0;32m    952\u001b[0m         \u001b[0mX\u001b[0m\u001b[1;33m,\u001b[0m \u001b[0my\u001b[0m\u001b[1;33m,\u001b[0m \u001b[0mgroups\u001b[0m \u001b[1;33m=\u001b[0m \u001b[0mindexable\u001b[0m\u001b[1;33m(\u001b[0m\u001b[0mX\u001b[0m\u001b[1;33m,\u001b[0m \u001b[0my\u001b[0m\u001b[1;33m,\u001b[0m \u001b[0mgroups\u001b[0m\u001b[1;33m)\u001b[0m\u001b[1;33m\u001b[0m\u001b[0m\n\u001b[1;32m--> 953\u001b[1;33m         \u001b[1;32mfor\u001b[0m \u001b[0mtrain\u001b[0m\u001b[1;33m,\u001b[0m \u001b[0mtest\u001b[0m \u001b[1;32min\u001b[0m \u001b[0mself\u001b[0m\u001b[1;33m.\u001b[0m\u001b[0m_iter_indices\u001b[0m\u001b[1;33m(\u001b[0m\u001b[0mX\u001b[0m\u001b[1;33m,\u001b[0m \u001b[0my\u001b[0m\u001b[1;33m,\u001b[0m \u001b[0mgroups\u001b[0m\u001b[1;33m)\u001b[0m\u001b[1;33m:\u001b[0m\u001b[1;33m\u001b[0m\u001b[0m\n\u001b[0m\u001b[0;32m    954\u001b[0m             \u001b[1;32myield\u001b[0m \u001b[0mtrain\u001b[0m\u001b[1;33m,\u001b[0m \u001b[0mtest\u001b[0m\u001b[1;33m\u001b[0m\u001b[0m\n\u001b[0;32m    955\u001b[0m \u001b[1;33m\u001b[0m\u001b[0m\n",
      "\u001b[1;32mC:\\Users\\ACER\\Anaconda3\\lib\\site-packages\\sklearn\\model_selection\\_split.py\u001b[0m in \u001b[0;36m_iter_indices\u001b[1;34m(self, X, y, groups)\u001b[0m\n\u001b[0;32m   1257\u001b[0m         \u001b[0mclass_counts\u001b[0m \u001b[1;33m=\u001b[0m \u001b[0mbincount\u001b[0m\u001b[1;33m(\u001b[0m\u001b[0my_indices\u001b[0m\u001b[1;33m)\u001b[0m\u001b[1;33m\u001b[0m\u001b[0m\n\u001b[0;32m   1258\u001b[0m         \u001b[1;32mif\u001b[0m \u001b[0mnp\u001b[0m\u001b[1;33m.\u001b[0m\u001b[0mmin\u001b[0m\u001b[1;33m(\u001b[0m\u001b[0mclass_counts\u001b[0m\u001b[1;33m)\u001b[0m \u001b[1;33m<\u001b[0m \u001b[1;36m2\u001b[0m\u001b[1;33m:\u001b[0m\u001b[1;33m\u001b[0m\u001b[0m\n\u001b[1;32m-> 1259\u001b[1;33m             raise ValueError(\"The least populated class in y has only 1\"\n\u001b[0m\u001b[0;32m   1260\u001b[0m                              \u001b[1;34m\" member, which is too few. The minimum\"\u001b[0m\u001b[1;33m\u001b[0m\u001b[0m\n\u001b[0;32m   1261\u001b[0m                              \u001b[1;34m\" number of groups for any class cannot\"\u001b[0m\u001b[1;33m\u001b[0m\u001b[0m\n",
      "\u001b[1;31mValueError\u001b[0m: The least populated class in y has only 1 member, which is too few. The minimum number of groups for any class cannot be less than 2."
     ]
    }
   ],
   "source": [
    "X_train, X_test, y_train, y_test = train_test_split(train_file['failures'], train_file['Scores'], stratify = train_file['Scores'], random_state = 3)\n",
    "tree = DecisionTreeClassifier(random_state = 2)\n",
    "tree.fit(X_train, y_train)"
   ]
  },
  {
   "cell_type": "code",
   "execution_count": 53,
   "metadata": {},
   "outputs": [
    {
     "data": {
      "text/plain": [
       "Index(['S/N', 'Gender ', 'Age', 'Location ', 'famsize', 'Pstatus', 'Medu',\n",
       "       'Fedu', 'traveltime', 'studytime', 'failures', 'schoolsup', 'famsup',\n",
       "       'paid', 'activities', 'nursery', 'higher', 'internet', 'famrel',\n",
       "       'freetime', 'health', 'absences', 'Scores'],\n",
       "      dtype='object')"
      ]
     },
     "execution_count": 53,
     "metadata": {},
     "output_type": "execute_result"
    }
   ],
   "source": [
    "# wisulizing the data\n",
    "train_file.keys()"
   ]
  },
  {
   "cell_type": "code",
   "execution_count": 54,
   "metadata": {},
   "outputs": [
    {
     "data": {
      "image/png": "[encoded data removed]",
      "text/plain": [
       "<matplotlib.figure.Figure at 0xc552588>"
      ]
     },
     "metadata": {},
     "output_type": "display_data"
    }
   ],
   "source": [
    "# keynotes 'studytime' 'failures' \n",
    "plt.scatter(train_file['freetime'],train_file['studytime'], marker = '.', linestyle= 'None')\n",
    "plt.show()"
   ]
  },
  {
   "cell_type": "code",
   "execution_count": 55,
   "metadata": {},
   "outputs": [
    {
     "data": {
      "image/png": "[encoded data removed]",
      "text/plain": [
       "<matplotlib.figure.Figure at 0xc0349b0>"
      ]
     },
     "metadata": {},
     "output_type": "display_data"
    }
   ],
   "source": [
    "plt.hist(train_file['freetime'], bins = 30)\n",
    "plt.show()"
   ]
  },
  {
   "cell_type": "code",
   "execution_count": 70,
   "metadata": {},
   "outputs": [
    {
     "data": {
      "text/plain": [
       "Index(['S/N', 'Gender ', 'Age', 'Location ', 'famsize', 'Pstatus', 'Medu',\n",
       "       'Fedu', 'traveltime', 'studytime', 'failures', 'schoolsup', 'famsup',\n",
       "       'paid', 'activities', 'nursery', 'higher', 'internet', 'famrel',\n",
       "       'freetime', 'health', 'absences', 'Scores'],\n",
       "      dtype='object')"
      ]
     },
     "execution_count": 70,
     "metadata": {},
     "output_type": "execute_result"
    }
   ],
   "source": [
    "train_file.keys()"
   ]
  },
  {
   "cell_type": "code",
   "execution_count": 66,
   "metadata": {},
   "outputs": [
    {
     "name": "stdout",
     "output_type": "stream",
     "text": [
      "168\n"
     ]
    }
   ],
   "source": [
    "count = 0\n",
    "for U in train_file['Location ']:\n",
    "    if U == 'U':\n",
    "        count += 1\n",
    "    else:\n",
    "        pass\n",
    "print (count)"
   ]
  },
  {
   "cell_type": "code",
   "execution_count": 69,
   "metadata": {},
   "outputs": [],
   "source": [
    "def ecdf(data):\n",
    "    n = len(data)\n",
    "    x = np.sort(data)\n",
    "    y = np.arange(1,n+1)/n\n",
    "    return x,y"
   ]
  },
  {
   "cell_type": "code",
   "execution_count": 71,
   "metadata": {
    "collapsed": true
   },
   "outputs": [],
   "source": [
    "# consider the following 'Age', 'studytime', 'failures'\n",
    "#'freetime','scores'"
   ]
  },
  {
   "cell_type": "code",
   "execution_count": 73,
   "metadata": {},
   "outputs": [
    {
     "data": {
      "image/png": "[encoded data removed]",
      "text/plain": [
       "<matplotlib.figure.Figure at 0xc4d2f98>"
      ]
     },
     "metadata": {},
     "output_type": "display_data"
    }
   ],
   "source": [
    "plt.plot(train_file['failures'], train_file['Scores'], marker = '.', linestyle = 'None')\n",
    "plt.show()"
   ]
  },
  {
   "cell_type": "code",
   "execution_count": 75,
   "metadata": {},
   "outputs": [
    {
     "data": {
      "image/png": "[encoded data removed]",
      "text/plain": [
       "<matplotlib.figure.Figure at 0xc4f4048>"
      ]
     },
     "metadata": {},
     "output_type": "display_data"
    }
   ],
   "source": [
    "x_fail, y_fail = ecdf(train_file['failures'])\n",
    "plt.plot(x_fail,y_fail, marker = '.', linestyle = 'None')\n",
    "plt.show()"
   ]
  },
  {
   "cell_type": "code",
   "execution_count": 78,
   "metadata": {},
   "outputs": [
    {
     "data": {
      "image/png": "[encoded data removed]",
      "text/plain": [
       "<matplotlib.figure.Figure at 0xc70aa20>"
      ]
     },
     "metadata": {},
     "output_type": "display_data"
    }
   ],
   "source": [
    "x_scores, y_scores = ecdf(train_file['Scores'])\n",
    "plt.plot(x_scores, y_scores, marker = '.', linestyle ='None')\n",
    "plt.show()"
   ]
  },
  {
   "cell_type": "code",
   "execution_count": 79,
   "metadata": {},
   "outputs": [
    {
     "name": "stdout",
     "output_type": "stream",
     "text": [
      "The mean Score is:  32.155\n"
     ]
    }
   ],
   "source": [
    "# compute the mean: mean_score\n",
    "mean_score = np.mean(train_file['Scores'])\n",
    "print ('The mean Score is: ', mean_score)"
   ]
  },
  {
   "cell_type": "code",
   "execution_count": 80,
   "metadata": {},
   "outputs": [
    {
     "name": "stdout",
     "output_type": "stream",
     "text": [
      "[  8.975  25.     32.     41.     54.   ]\n"
     ]
    }
   ],
   "source": [
    "# Specify array of percentile\n",
    "percentiles = np.array([2.5,25,50,75,97.5])\n",
    "ptiles_vers = np.percentile(train_file['Scores'], percentiles)\n",
    "print (ptiles_vers)"
   ]
  },
  {
   "cell_type": "code",
   "execution_count": 81,
   "metadata": {},
   "outputs": [
    {
     "name": "stdout",
     "output_type": "stream",
     "text": [
      "134.0309750000001\n",
      "11.577174741706203\n"
     ]
    }
   ],
   "source": [
    "variance_scores = np.var(train_file['Scores'])\n",
    "standard_dev_scores = np.std(train_file['Scores'])\n",
    "print (variance_scores)\n",
    "print (standard_dev_scores)"
   ]
  },
  {
   "cell_type": "code",
   "execution_count": 87,
   "metadata": {},
   "outputs": [
    {
     "data": {
      "text/plain": [
       "Index(['S/N', 'Gender ', 'Age', 'Location ', 'famsize', 'Pstatus', 'Medu',\n",
       "       'Fedu', 'traveltime', 'studytime', 'failures', 'schoolsup', 'famsup',\n",
       "       'paid', 'activities', 'nursery', 'higher', 'internet', 'famrel',\n",
       "       'freetime', 'health', 'absences', 'Scores'],\n",
       "      dtype='object')"
      ]
     },
     "execution_count": 87,
     "metadata": {},
     "output_type": "execute_result"
    }
   ],
   "source": [
    "train_file.keys()"
   ]
  },
  {
   "cell_type": "code",
   "execution_count": 93,
   "metadata": {},
   "outputs": [
    {
     "name": "stdout",
     "output_type": "stream",
     "text": [
      "[[ 134.70449749   -4.28801508]\n",
      " [  -4.28801508    0.70530151]]\n",
      "-4.28801507538\n"
     ]
    }
   ],
   "source": [
    "covariance1 = np.cov(train_file['Scores'], train_file['failures'])\n",
    "print (covariance1)\n",
    "\n",
    "both_cov = covariance1[0,1]\n",
    "print (both_cov)"
   ]
  },
  {
   "cell_type": "code",
   "execution_count": 96,
   "metadata": {},
   "outputs": [
    {
     "name": "stdout",
     "output_type": "stream",
     "text": [
      "-0.439924196431\n"
     ]
    }
   ],
   "source": [
    "def pearson_r(x,y):\n",
    "    corr_mat = np.corrcoef(x,y)\n",
    "    return corr_mat[0,1]\n",
    "\n",
    "new = pearson_r(train_file['failures'],train_file['Scores'])\n",
    "print (new)"
   ]
  },
  {
   "cell_type": "code",
   "execution_count": 98,
   "metadata": {},
   "outputs": [
    {
     "name": "stdout",
     "output_type": "stream",
     "text": [
      "Slope =  -6.07969078408\n",
      "Intercept =  34.3740871362\n"
     ]
    },
    {
     "data": {
      "image/png": "[encoded data removed]",
      "text/plain": [
       "<matplotlib.figure.Figure at 0xc4225f8>"
      ]
     },
     "metadata": {},
     "output_type": "display_data"
    }
   ],
   "source": [
    "plt.plot(train_file['Scores'],train_file['failures'], marker = '.', linestyle = 'None')\n",
    "plt.margins(0.02)\n",
    "a, b = np.polyfit(train_file['failures'], train_file['Scores'],1)\n",
    "print ('Slope = ', a)\n",
    "print ('Intercept = ', b)\n",
    "x = np.array([0,100])\n",
    "y = a*x + b\n",
    "_ = plt.plot(x,y)\n",
    "plt.show()"
   ]
  },
  {
   "cell_type": "code",
   "execution_count": 99,
   "metadata": {
    "collapsed": true
   },
   "outputs": [],
   "source": [
    "from sklearn.linear_model import LinearRegression\n",
    "lr = LinearRegression(normalize = True)"
   ]
  },
  {
   "cell_type": "code",
   "execution_count": 101,
   "metadata": {},
   "outputs": [
    {
     "data": {
      "text/plain": [
       "Index(['S/N', 'Gender ', 'Age', 'Location ', 'famsize', 'Pstatus', 'Medu',\n",
       "       'Fedu', 'traveltime', 'studytime', 'failures', 'schoolsup', 'famsup',\n",
       "       'paid', 'activities', 'nursery', 'higher', 'internet', 'famrel',\n",
       "       'freetime', 'health', 'absences', 'Scores'],\n",
       "      dtype='object')"
      ]
     },
     "execution_count": 101,
     "metadata": {},
     "output_type": "execute_result"
    }
   ],
   "source": [
    "train_file.keys()"
   ]
  },
  {
   "cell_type": "code",
   "execution_count": 105,
   "metadata": {},
   "outputs": [],
   "source": [
    "from sklearn.model_selection import train_test_split\n",
    "X_train, X_test, Y_train, Y_test = train_test_split(train_file['Scores'],train_file['failures'], random_state = 0)"
   ]
  },
  {
   "cell_type": "code",
   "execution_count": 108,
   "metadata": {},
   "outputs": [],
   "source": [
    "#from sklearn.linear_model import Ridge\n",
    "#ridge = Ridge().fit(X_train, Y_train)\n",
    "#print (\"training set score: %f\" % ridge.score(X_train,Y_train))\n",
    "#print ('test set socre: %f' % ridge.score(X_test, Y_test))"
   ]
  },
  {
   "cell_type": "code",
   "execution_count": 116,
   "metadata": {},
   "outputs": [
    {
     "data": {
      "image/png": "[encoded data removed]",
      "text/plain": [
       "<matplotlib.figure.Figure at 0xc1602e8>"
      ]
     },
     "metadata": {},
     "output_type": "display_data"
    }
   ],
   "source": [
    "plt.plot(train_file['studytime'], train_file['failures'], marker = '.', linestyle = 'None')\n",
    "plt.show()"
   ]
  },
  {
   "cell_type": "code",
   "execution_count": 117,
   "metadata": {},
   "outputs": [],
   "source": [
    "from sklearn.model_selection import train_test_split\n",
    "X_train, X_test, Y_train, Y_test = train_test_split(train_file['studytime'],train_file['failures'], random_state = 0)"
   ]
  },
  {
   "cell_type": "code",
   "execution_count": null,
   "metadata": {},
   "outputs": [],
   "source": [
    "#from sklearn.linear_model import Ridge\n",
    "#ridge = Ridge().fit(X_train, Y_train)\n",
    "#print (\"training set score: %f\" % ridge.score(X_train,Y_train))\n",
    "#print ('test set socre: %f' % ridge.score(X_test, Y_test))"
   ]
  },
  {
   "cell_type": "code",
   "execution_count": null,
   "metadata": {
    "collapsed": true
   },
   "outputs": [],
   "source": [
    "from sklearn.linear_model import LogisticRegression\n",
    "from sklearn.svm import LinearSVC"
   ]
  },
  {
   "cell_type": "code",
   "execution_count": null,
   "metadata": {
    "collapsed": true
   },
   "outputs": [],
   "source": [
    "#fig, axes = plt.subplots(1,2 figsize = (10,3))\n",
    "#plt.suptitle('linear_classifiers')\n",
    "\n",
    "#for model, ax in zip([LinearSVC(), LogisticRegression()], axes):\n",
    " #   clf = model.fit(train_file['failures'], train_file['Scores'])\n",
    "    "
   ]
  },
  {
   "cell_type": "code",
   "execution_count": null,
   "metadata": {
    "collapsed": true
   },
   "outputs": [],
   "source": [
    "#X, y = mglearn.datasets.train_file(n_samples = 12)\n",
    "#X_train, X_test, y_train, y_test = train_test_split(X, y, random_state = 42)\n",
    "#lr = LinearRegression().fit(X_train, y_train)\n",
    "#print ('lr.coef_: %s' % lr.coef_)\n",
    "#print (\"lr.intercept_: %s' % lr.intercept_)\n",
    "\n",
    "# lets look at the training set and test set performance\n",
    "#print (\"training set score: %f\" % lr.score(X_train, y_train))\n",
    "#print (\"test set score: %f\" % lr.score(X_test, y_test))"
   ]
  },
  {
   "cell_type": "code",
   "execution_count": null,
   "metadata": {
    "collapsed": true
   },
   "outputs": [],
   "source": [
    "# ridge regression\n",
    "#from sklearn.linear_model import Ridge\n",
    "\n",
    "#ridge = Ridge().fit(X_train, y_train)\n",
    "#print (\"training set score: %f\" % ridge.score(X_train, y_train))\n",
    "#print (\"test set score: %f\" % ridge.score(X_test, y_test))"
   ]
  },
  {
   "cell_type": "code",
   "execution_count": null,
   "metadata": {
    "collapsed": true
   },
   "outputs": [],
   "source": [
    "# Above, we used the default parameter alpha = 1.0. increasing \n",
    "# alpha forces coefficients to move more towards zero, which\n",
    "# decreases training set performance, but might help generalization.\n",
    "\n",
    "##ridge10 = Ridge(alpha = 10).fit(X_train, y_train)\n",
    "#print (\"training set score: %f\" % ridge.score(X_train, y_train))\n",
    "#print (\"test set Score: %f\" % ridge10.score(X_test, y_test))\n",
    "\n",
    "# we could try to decrease or increase (imporve) alpha to improve gerneralization.\n",
    "# A higher value of alpha means a more restricted model"
   ]
  },
  {
   "cell_type": "code",
   "execution_count": null,
   "metadata": {
    "collapsed": true
   },
   "outputs": [],
   "source": [
    "# Applying Lasso an alternative to ridge for regularizing linear models\n",
    "\n",
    "\n",
    "#from sklearn.linear_model import Lasso\n",
    "#lasso = Lasso().fit(X_train, y_train)\n",
    "#print (\"training set score: %f\" % lasso.score(X_train, y_train))\n",
    "#print (\"test set score: %f\" % lasso.score(X_test, y_test))\n",
    "#print (\"number of features used: %d\" % np.sum(lasso.coef_ != 0))\n",
    "\n",
    "\n",
    "# To diminish underfitting, let's try decreasing alpha\n",
    "#lasso001 = Lasso(alpha = 0.01).fit(X_train,y_train)\n",
    "#print (\"training set score: %f\" % lasso001.score(X_train, y_train))\n",
    "#print (\"test set score: %f\" % lasso001.score(X_test, y_test))\n",
    "#print (\"number of features used: %d\" % np.sum(lasso001.coef_ != 0))"
   ]
  },
  {
   "cell_type": "code",
   "execution_count": null,
   "metadata": {
    "collapsed": true
   },
   "outputs": [],
   "source": [
    "# from sklearn.linear_model import LogisticRegression\n",
    "# from sklearn.svm import LinearSVC\n",
    "\n",
    "#X, y = mglearn.datasets.make_forge()\n",
    "#fig, axes = plt.subplots(1,2, figsize = (10,3))\n",
    "#plt.suptitle(\"linear_classifiers\")\n",
    "\n",
    "#for model, ax in zip([LinearSVC(), LogisticRegression()], axes):\n",
    "#    clf = model.fit(X, y)\n",
    "#    mglearn.plots.plot_2d_separator(clf, fill = False, eps = 0.5,ax = ax, alpha = .7)\n",
    "#    ax.scatter(X[:,0], X[:,1], c = y, s = 60, cmap = mglearn.cm2)\n",
    "#    ax.set_title('%s' % clf._class_._name_)\n",
    "    \n"
   ]
  },
  {
   "cell_type": "code",
   "execution_count": null,
   "metadata": {
    "collapsed": true
   },
   "outputs": [],
   "source": [
    "# logistic regression\n",
    "#X_train, X_test, y_train, y_test = train_test_split(train_file['studytime'], train_file['Scores'], stratify = train_file['Scores'], random = 42)\n",
    "#logisticregression = LogisticRegression().fit(X_train, y_train)\n",
    "#print (\"training set score: %f\" % logisticregression.score(X_train, y_train))\n",
    "#print (\"test set score: %f\" % logisticregression.score(X_test, y_test))\n",
    "\n",
    "# By default C = 1 provides quite good performance. "
   ]
  },
  {
   "cell_type": "code",
   "execution_count": null,
   "metadata": {
    "collapsed": true
   },
   "outputs": [],
   "source": [
    "# taking C to be 100\n",
    "#logisticregression100 = LogisticRegression(C=100).fit(X_train, y_train)\n",
    "#print(\"training set score: %f\" % logisticregression100.score(X_train, y_train))\n",
    "#print(\"test set score: %f\" % logisticregression100.score(X_test, y_test))\n",
    "#training set score: 0.971831\n",
    "#test set score: 0.965035"
   ]
  },
  {
   "cell_type": "code",
   "execution_count": null,
   "metadata": {
    "collapsed": true
   },
   "outputs": [],
   "source": [
    "# finally looking at the coefficient learned by the model\n",
    "\n",
    "#plt.plot(logisticregression.coef_.T, 'o', label=\"C=1\")\n",
    "#plt.plot(logisticregression100.coef_.T, 'o', label=\"C=100\")\n",
    "#plt.plot(logisticregression001.coef_.T, 'o', label=\"C=0.001\")\n",
    "#plt.xticks(range(cancer.data.shape[1]), cancer.feature_names, rotation=90)\n",
    "#plt.ylim(-5, 5)\n",
    "#plt.legend()"
   ]
  },
  {
   "cell_type": "code",
   "execution_count": null,
   "metadata": {
    "collapsed": true
   },
   "outputs": [],
   "source": []
  }
 ],
 "metadata": {
  "kernelspec": {
   "display_name": "Python 3",
   "language": "python",
   "name": "python3"
  },
  "language_info": {
   "codemirror_mode": {
    "name": "ipython",
    "version": 3
   },
   "file_extension": ".py",
   "mimetype": "text/x-python",
   "name": "python",
   "nbconvert_exporter": "python",
   "pygments_lexer": "ipython3",
   "version": "3.6.1"
  }
 },
 "nbformat": 4,
 "nbformat_minor": 2
}
