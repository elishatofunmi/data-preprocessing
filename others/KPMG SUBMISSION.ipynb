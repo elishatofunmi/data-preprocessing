{
 "cells": [
  {
   "cell_type": "code",
   "execution_count": 5,
   "metadata": {},
   "outputs": [],
   "source": [
    "import pandas as pd\n",
    "import numpy as np\n",
    "import sklearn as sk\n",
    "import matplotlib.pyplot as plt\n",
    "import seaborn as sns"
   ]
  },
  {
   "cell_type": "code",
   "execution_count": 6,
   "metadata": {},
   "outputs": [
    {
     "data": {
      "text/html": [
       "<div>\n",
       "<style>\n",
       "    .dataframe thead tr:only-child th {\n",
       "        text-align: right;\n",
       "    }\n",
       "\n",
       "    .dataframe thead th {\n",
       "        text-align: left;\n",
       "    }\n",
       "\n",
       "    .dataframe tbody tr th {\n",
       "        vertical-align: top;\n",
       "    }\n",
       "</style>\n",
       "<table border=\"1\" class=\"dataframe\">\n",
       "  <thead>\n",
       "    <tr style=\"text-align: right;\">\n",
       "      <th></th>\n",
       "      <th>Quest No</th>\n",
       "      <th>Age</th>\n",
       "      <th>Gender</th>\n",
       "      <th>Employment Category</th>\n",
       "      <th>Education</th>\n",
       "      <th>Income</th>\n",
       "      <th>Location</th>\n",
       "      <th>Bank</th>\n",
       "      <th>No of Years</th>\n",
       "      <th>Most frequently used Bank</th>\n",
       "      <th>...</th>\n",
       "      <th>Payint</th>\n",
       "      <th>Paycab</th>\n",
       "      <th>Mig1</th>\n",
       "      <th>Mig2</th>\n",
       "      <th>Mig3</th>\n",
       "      <th>Rec</th>\n",
       "      <th>Changeplan</th>\n",
       "      <th>FromBank</th>\n",
       "      <th>ToBank</th>\n",
       "      <th>ChangeReasons</th>\n",
       "    </tr>\n",
       "  </thead>\n",
       "  <tbody>\n",
       "    <tr>\n",
       "      <th>0</th>\n",
       "      <td>ABJ/2015/002/196</td>\n",
       "      <td>31-35</td>\n",
       "      <td>No Response</td>\n",
       "      <td>Civil/Public Servant</td>\n",
       "      <td>OND/HND</td>\n",
       "      <td>N50,000 - N100,000</td>\n",
       "      <td>Abuja</td>\n",
       "      <td>Bank A</td>\n",
       "      <td>12.0</td>\n",
       "      <td>Bank A</td>\n",
       "      <td>...</td>\n",
       "      <td>NaN</td>\n",
       "      <td>NaN</td>\n",
       "      <td>NaN</td>\n",
       "      <td>NaN</td>\n",
       "      <td>NaN</td>\n",
       "      <td>Sometimes will</td>\n",
       "      <td>No</td>\n",
       "      <td>NaN</td>\n",
       "      <td>NaN</td>\n",
       "      <td>NaN</td>\n",
       "    </tr>\n",
       "    <tr>\n",
       "      <th>1</th>\n",
       "      <td>ABJ/2015/002/196</td>\n",
       "      <td>31-35</td>\n",
       "      <td>No Response</td>\n",
       "      <td>Civil/Public Servant</td>\n",
       "      <td>OND/HND</td>\n",
       "      <td>N50,000 - N100,000</td>\n",
       "      <td>Abuja</td>\n",
       "      <td>Bank M</td>\n",
       "      <td>6.0</td>\n",
       "      <td>Bank A</td>\n",
       "      <td>...</td>\n",
       "      <td>NaN</td>\n",
       "      <td>NaN</td>\n",
       "      <td>NaN</td>\n",
       "      <td>NaN</td>\n",
       "      <td>NaN</td>\n",
       "      <td>0</td>\n",
       "      <td>No</td>\n",
       "      <td>NaN</td>\n",
       "      <td>NaN</td>\n",
       "      <td>NaN</td>\n",
       "    </tr>\n",
       "    <tr>\n",
       "      <th>2</th>\n",
       "      <td>KAN/2015/001/228</td>\n",
       "      <td>31-35</td>\n",
       "      <td>No Response</td>\n",
       "      <td>Self Employed</td>\n",
       "      <td>Bachelor's Decree</td>\n",
       "      <td>Below N50,000</td>\n",
       "      <td>Kano</td>\n",
       "      <td>Bank J</td>\n",
       "      <td>2.0</td>\n",
       "      <td>Bank B</td>\n",
       "      <td>...</td>\n",
       "      <td>NaN</td>\n",
       "      <td>NaN</td>\n",
       "      <td>Yes</td>\n",
       "      <td>NaN</td>\n",
       "      <td>NaN</td>\n",
       "      <td>Absolutely will</td>\n",
       "      <td>No</td>\n",
       "      <td>NaN</td>\n",
       "      <td>NaN</td>\n",
       "      <td>NaN</td>\n",
       "    </tr>\n",
       "    <tr>\n",
       "      <th>3</th>\n",
       "      <td>KAN/2015/001/228</td>\n",
       "      <td>31-35</td>\n",
       "      <td>No Response</td>\n",
       "      <td>Self Employed</td>\n",
       "      <td>Bachelor's Decree</td>\n",
       "      <td>Below N50,000</td>\n",
       "      <td>Kano</td>\n",
       "      <td>Bank B</td>\n",
       "      <td>NaN</td>\n",
       "      <td>Bank B</td>\n",
       "      <td>...</td>\n",
       "      <td>NaN</td>\n",
       "      <td>NaN</td>\n",
       "      <td>Yes</td>\n",
       "      <td>NaN</td>\n",
       "      <td>NaN</td>\n",
       "      <td>Often will</td>\n",
       "      <td>No</td>\n",
       "      <td>NaN</td>\n",
       "      <td>NaN</td>\n",
       "      <td>NaN</td>\n",
       "    </tr>\n",
       "    <tr>\n",
       "      <th>4</th>\n",
       "      <td>KAN/2015/04/061</td>\n",
       "      <td>21-30</td>\n",
       "      <td>Male</td>\n",
       "      <td>Private Sector Employee</td>\n",
       "      <td>Bachelor's Decree</td>\n",
       "      <td>Below N50,000</td>\n",
       "      <td>Kano</td>\n",
       "      <td>Bank C</td>\n",
       "      <td>5.0</td>\n",
       "      <td>Bank C</td>\n",
       "      <td>...</td>\n",
       "      <td>Yes</td>\n",
       "      <td>NaN</td>\n",
       "      <td>Yes</td>\n",
       "      <td>NaN</td>\n",
       "      <td>NaN</td>\n",
       "      <td>Often will</td>\n",
       "      <td>No</td>\n",
       "      <td>NaN</td>\n",
       "      <td>NaN</td>\n",
       "      <td>NaN</td>\n",
       "    </tr>\n",
       "  </tbody>\n",
       "</table>\n",
       "<p>5 rows × 152 columns</p>\n",
       "</div>"
      ],
      "text/plain": [
       "           Quest No    Age       Gender      Employment Category  \\\n",
       "0  ABJ/2015/002/196  31-35  No Response     Civil/Public Servant   \n",
       "1  ABJ/2015/002/196  31-35  No Response     Civil/Public Servant   \n",
       "2  KAN/2015/001/228  31-35  No Response            Self Employed   \n",
       "3  KAN/2015/001/228  31-35  No Response            Self Employed   \n",
       "4   KAN/2015/04/061  21-30         Male  Private Sector Employee   \n",
       "\n",
       "           Education              Income Location    Bank  No of Years   \\\n",
       "0            OND/HND  N50,000 - N100,000    Abuja  Bank A          12.0   \n",
       "1            OND/HND  N50,000 - N100,000    Abuja  Bank M           6.0   \n",
       "2  Bachelor's Decree       Below N50,000     Kano  Bank J           2.0   \n",
       "3  Bachelor's Decree       Below N50,000     Kano  Bank B           NaN   \n",
       "4  Bachelor's Decree       Below N50,000     Kano  Bank C           5.0   \n",
       "\n",
       "  Most frequently used Bank      ...      Payint Paycab Mig1 Mig2 Mig3  \\\n",
       "0                    Bank A      ...         NaN    NaN  NaN  NaN  NaN   \n",
       "1                    Bank A      ...         NaN    NaN  NaN  NaN  NaN   \n",
       "2                    Bank B      ...         NaN    NaN  Yes  NaN  NaN   \n",
       "3                    Bank B      ...         NaN    NaN  Yes  NaN  NaN   \n",
       "4                    Bank C      ...         Yes    NaN  Yes  NaN  NaN   \n",
       "\n",
       "               Rec Changeplan FromBank ToBank ChangeReasons  \n",
       "0   Sometimes will         No      NaN    NaN           NaN  \n",
       "1                0         No      NaN    NaN           NaN  \n",
       "2  Absolutely will         No      NaN    NaN           NaN  \n",
       "3       Often will         No      NaN    NaN           NaN  \n",
       "4       Often will         No      NaN    NaN           NaN  \n",
       "\n",
       "[5 rows x 152 columns]"
      ]
     },
     "execution_count": 6,
     "metadata": {},
     "output_type": "execute_result"
    }
   ],
   "source": [
    "file = pd.read_csv(r'C:\\bootcamp\\Data Science Bootcamp Data_2.0.csv')\n",
    "file.head()"
   ]
  },
  {
   "cell_type": "code",
   "execution_count": 7,
   "metadata": {},
   "outputs": [
    {
     "name": "stdout",
     "output_type": "stream",
     "text": [
      "{'Never': 20059, 'Rarely': 6752, 'At least once a week': 5130, 'No Response': 4578, 'Monthly': 3144, 'At Least once a day': 2989}\n"
     ]
    }
   ],
   "source": [
    "# exploring the internet colunm and classfying\n",
    "# freqUSSD\n",
    "internet_dict = dict(file['FreqUSSD'].value_counts())\n",
    "print (internet_dict)"
   ]
  },
  {
   "cell_type": "code",
   "execution_count": 10,
   "metadata": {},
   "outputs": [
    {
     "name": "stderr",
     "output_type": "stream",
     "text": [
      "C:\\Users\\ACER\\Anaconda3\\lib\\site-packages\\ipykernel_launcher.py:2: SettingWithCopyWarning: \n",
      "A value is trying to be set on a copy of a slice from a DataFrame\n",
      "\n",
      "See the caveats in the documentation: http://pandas.pydata.org/pandas-docs/stable/indexing.html#indexing-view-versus-copy\n",
      "  \n",
      "C:\\Users\\ACER\\Anaconda3\\lib\\site-packages\\ipykernel_launcher.py:3: SettingWithCopyWarning: \n",
      "A value is trying to be set on a copy of a slice from a DataFrame\n",
      "\n",
      "See the caveats in the documentation: http://pandas.pydata.org/pandas-docs/stable/indexing.html#indexing-view-versus-copy\n",
      "  This is separate from the ipykernel package so we can avoid doing imports until\n",
      "C:\\Users\\ACER\\Anaconda3\\lib\\site-packages\\ipykernel_launcher.py:4: SettingWithCopyWarning: \n",
      "A value is trying to be set on a copy of a slice from a DataFrame\n",
      "\n",
      "See the caveats in the documentation: http://pandas.pydata.org/pandas-docs/stable/indexing.html#indexing-view-versus-copy\n",
      "  after removing the cwd from sys.path.\n",
      "C:\\Users\\ACER\\Anaconda3\\lib\\site-packages\\ipykernel_launcher.py:5: SettingWithCopyWarning: \n",
      "A value is trying to be set on a copy of a slice from a DataFrame\n",
      "\n",
      "See the caveats in the documentation: http://pandas.pydata.org/pandas-docs/stable/indexing.html#indexing-view-versus-copy\n",
      "  \"\"\"\n",
      "C:\\Users\\ACER\\Anaconda3\\lib\\site-packages\\ipykernel_launcher.py:6: SettingWithCopyWarning: \n",
      "A value is trying to be set on a copy of a slice from a DataFrame\n",
      "\n",
      "See the caveats in the documentation: http://pandas.pydata.org/pandas-docs/stable/indexing.html#indexing-view-versus-copy\n",
      "  \n",
      "C:\\Users\\ACER\\Anaconda3\\lib\\site-packages\\ipykernel_launcher.py:7: SettingWithCopyWarning: \n",
      "A value is trying to be set on a copy of a slice from a DataFrame\n",
      "\n",
      "See the caveats in the documentation: http://pandas.pydata.org/pandas-docs/stable/indexing.html#indexing-view-versus-copy\n",
      "  import sys\n"
     ]
    },
    {
     "data": {
      "text/plain": [
       "0    31389\n",
       "1    11263\n",
       "Name: FreqUSSD, dtype: int64"
      ]
     },
     "execution_count": 10,
     "metadata": {},
     "output_type": "execute_result"
    }
   ],
   "source": [
    "# classfying internet users into '0' and '1'\n",
    "file['FreqUSSD'][file['FreqUSSD'] == 'Never'] = 0\n",
    "file['FreqUSSD'][file['FreqUSSD'] == 'No Response'] = 0\n",
    "file['FreqUSSD'][file['FreqUSSD'] == 'At least once a week'] = 1\n",
    "file['FreqUSSD'][file['FreqUSSD'] == 'Rarely'] = 0\n",
    "file['FreqUSSD'][file['FreqUSSD'] == 'Monthly'] = 1\n",
    "file['FreqUSSD'][file['FreqUSSD'] == 'At Least once a day'] = 1\n",
    "file['FreqUSSD'].value_counts()"
   ]
  },
  {
   "cell_type": "code",
   "execution_count": 11,
   "metadata": {},
   "outputs": [
    {
     "name": "stdout",
     "output_type": "stream",
     "text": [
      "Bachelor's Decree                       17163\n",
      "OND/HND                                 11187\n",
      "Secondary school leaving certificate     7880\n",
      "Master's Degree                          4232\n",
      "No Response                               645\n",
      "Primary School leaving certificate        636\n",
      "PHD                                       546\n",
      "No Formal Education                       324\n",
      "Others                                     39\n",
      "Name: Education, dtype: int64\n"
     ]
    }
   ],
   "source": [
    "Education_dict = (file['Education'].value_counts())\n",
    "print (Education_dict)"
   ]
  },
  {
   "cell_type": "code",
   "execution_count": 12,
   "metadata": {},
   "outputs": [
    {
     "name": "stderr",
     "output_type": "stream",
     "text": [
      "C:\\Users\\ACER\\Anaconda3\\lib\\site-packages\\ipykernel_launcher.py:1: SettingWithCopyWarning: \n",
      "A value is trying to be set on a copy of a slice from a DataFrame\n",
      "\n",
      "See the caveats in the documentation: http://pandas.pydata.org/pandas-docs/stable/indexing.html#indexing-view-versus-copy\n",
      "  \"\"\"Entry point for launching an IPython kernel.\n",
      "C:\\Users\\ACER\\Anaconda3\\lib\\site-packages\\ipykernel_launcher.py:2: SettingWithCopyWarning: \n",
      "A value is trying to be set on a copy of a slice from a DataFrame\n",
      "\n",
      "See the caveats in the documentation: http://pandas.pydata.org/pandas-docs/stable/indexing.html#indexing-view-versus-copy\n",
      "  \n",
      "C:\\Users\\ACER\\Anaconda3\\lib\\site-packages\\ipykernel_launcher.py:3: SettingWithCopyWarning: \n",
      "A value is trying to be set on a copy of a slice from a DataFrame\n",
      "\n",
      "See the caveats in the documentation: http://pandas.pydata.org/pandas-docs/stable/indexing.html#indexing-view-versus-copy\n",
      "  This is separate from the ipykernel package so we can avoid doing imports until\n",
      "C:\\Users\\ACER\\Anaconda3\\lib\\site-packages\\ipykernel_launcher.py:4: SettingWithCopyWarning: \n",
      "A value is trying to be set on a copy of a slice from a DataFrame\n",
      "\n",
      "See the caveats in the documentation: http://pandas.pydata.org/pandas-docs/stable/indexing.html#indexing-view-versus-copy\n",
      "  after removing the cwd from sys.path.\n",
      "C:\\Users\\ACER\\Anaconda3\\lib\\site-packages\\ipykernel_launcher.py:5: SettingWithCopyWarning: \n",
      "A value is trying to be set on a copy of a slice from a DataFrame\n",
      "\n",
      "See the caveats in the documentation: http://pandas.pydata.org/pandas-docs/stable/indexing.html#indexing-view-versus-copy\n",
      "  \"\"\"\n",
      "C:\\Users\\ACER\\Anaconda3\\lib\\site-packages\\ipykernel_launcher.py:6: SettingWithCopyWarning: \n",
      "A value is trying to be set on a copy of a slice from a DataFrame\n",
      "\n",
      "See the caveats in the documentation: http://pandas.pydata.org/pandas-docs/stable/indexing.html#indexing-view-versus-copy\n",
      "  \n",
      "C:\\Users\\ACER\\Anaconda3\\lib\\site-packages\\ipykernel_launcher.py:7: SettingWithCopyWarning: \n",
      "A value is trying to be set on a copy of a slice from a DataFrame\n",
      "\n",
      "See the caveats in the documentation: http://pandas.pydata.org/pandas-docs/stable/indexing.html#indexing-view-versus-copy\n",
      "  import sys\n",
      "C:\\Users\\ACER\\Anaconda3\\lib\\site-packages\\ipykernel_launcher.py:8: SettingWithCopyWarning: \n",
      "A value is trying to be set on a copy of a slice from a DataFrame\n",
      "\n",
      "See the caveats in the documentation: http://pandas.pydata.org/pandas-docs/stable/indexing.html#indexing-view-versus-copy\n",
      "  \n",
      "C:\\Users\\ACER\\Anaconda3\\lib\\site-packages\\ipykernel_launcher.py:9: SettingWithCopyWarning: \n",
      "A value is trying to be set on a copy of a slice from a DataFrame\n",
      "\n",
      "See the caveats in the documentation: http://pandas.pydata.org/pandas-docs/stable/indexing.html#indexing-view-versus-copy\n",
      "  if __name__ == '__main__':\n"
     ]
    },
    {
     "data": {
      "text/plain": [
       "1    33128\n",
       "0     9524\n",
       "Name: Education, dtype: int64"
      ]
     },
     "execution_count": 12,
     "metadata": {},
     "output_type": "execute_result"
    }
   ],
   "source": [
    "file['Education'][file['Education'] == \"Bachelor's Decree\"] = 1\n",
    "file['Education'][file['Education'] == \"OND/HND\"] = 1\n",
    "file['Education'][file['Education'] == \"Secondary school leaving certificate\"] = 0\n",
    "file['Education'][file['Education'] == \"Master's Degree\"] = 1\n",
    "file['Education'][file['Education'] == \"No Response\"] = 0\n",
    "file['Education'][file['Education'] == \"Primary School leaving certificate\"] = 0\n",
    "file['Education'][file['Education'] == \"PHD\"] = 1\n",
    "file['Education'][file['Education'] == \"No Formal Education\"] = 0\n",
    "file['Education'][file['Education'] == \"Others\"] = 0\n",
    "\n",
    "file['Education'].value_counts()"
   ]
  },
  {
   "cell_type": "code",
   "execution_count": 13,
   "metadata": {},
   "outputs": [
    {
     "data": {
      "text/plain": [
       "Float64Index([ 5.0,  3.0,  2.0,  4.0,  1.0, 10.0,  6.0,  7.0,  8.0,  9.0, 12.0,\n",
       "              15.0, 11.0, 20.0, 13.0, 14.0, 16.0, 17.0, 18.0, 25.0, 30.0, 22.0,\n",
       "              21.0, 19.0, 23.0, 35.0, 28.0, 26.0, 24.0, 27.0, 40.0, 33.0, 32.0,\n",
       "              31.0, 37.0, 29.0, 38.0, 34.0, 36.0, 39.0,  0.0,  1.5, 42.0, 51.0,\n",
       "              45.0, 50.0, 41.0, 55.0],\n",
       "             dtype='float64')"
      ]
     },
     "execution_count": 13,
     "metadata": {},
     "output_type": "execute_result"
    }
   ],
   "source": [
    "No_of_years_dict = (file['No of Years '].value_counts())\n",
    "No_of_years_dict.keys()\n"
   ]
  },
  {
   "cell_type": "code",
   "execution_count": 14,
   "metadata": {},
   "outputs": [
    {
     "name": "stderr",
     "output_type": "stream",
     "text": [
      "C:\\Users\\ACER\\Anaconda3\\lib\\site-packages\\ipykernel_launcher.py:2: SettingWithCopyWarning: \n",
      "A value is trying to be set on a copy of a slice from a DataFrame\n",
      "\n",
      "See the caveats in the documentation: http://pandas.pydata.org/pandas-docs/stable/indexing.html#indexing-view-versus-copy\n",
      "  \n",
      "C:\\Users\\ACER\\Anaconda3\\lib\\site-packages\\ipykernel_launcher.py:3: SettingWithCopyWarning: \n",
      "A value is trying to be set on a copy of a slice from a DataFrame\n",
      "\n",
      "See the caveats in the documentation: http://pandas.pydata.org/pandas-docs/stable/indexing.html#indexing-view-versus-copy\n",
      "  This is separate from the ipykernel package so we can avoid doing imports until\n"
     ]
    },
    {
     "data": {
      "text/plain": [
       "0.0    33231\n",
       "1.0     8155\n",
       "Name: No of Years , dtype: int64"
      ]
     },
     "execution_count": 14,
     "metadata": {},
     "output_type": "execute_result"
    }
   ],
   "source": [
    "# classifying members of 10 years experience and above as 1 and less years as 0\n",
    "file['No of Years '][file['No of Years '] < 10.0] = 0\n",
    "file['No of Years '][file['No of Years '] >= 10.0] = 1\n",
    "file['No of Years '].value_counts()"
   ]
  },
  {
   "cell_type": "code",
   "execution_count": 38,
   "metadata": {},
   "outputs": [
    {
     "data": {
      "text/html": [
       "<div>\n",
       "<style>\n",
       "    .dataframe thead tr:only-child th {\n",
       "        text-align: right;\n",
       "    }\n",
       "\n",
       "    .dataframe thead th {\n",
       "        text-align: left;\n",
       "    }\n",
       "\n",
       "    .dataframe tbody tr th {\n",
       "        vertical-align: top;\n",
       "    }\n",
       "</style>\n",
       "<table border=\"1\" class=\"dataframe\">\n",
       "  <thead>\n",
       "    <tr style=\"text-align: right;\">\n",
       "      <th></th>\n",
       "      <th>FreqUSSD</th>\n",
       "      <th>No of Years</th>\n",
       "      <th>Education</th>\n",
       "      <th>Bank</th>\n",
       "      <th>Balenq</th>\n",
       "    </tr>\n",
       "  </thead>\n",
       "  <tbody>\n",
       "    <tr>\n",
       "      <th>0</th>\n",
       "      <td>0</td>\n",
       "      <td>1.0</td>\n",
       "      <td>1</td>\n",
       "      <td>Bank A</td>\n",
       "      <td>ATM</td>\n",
       "    </tr>\n",
       "    <tr>\n",
       "      <th>1</th>\n",
       "      <td>0</td>\n",
       "      <td>0.0</td>\n",
       "      <td>1</td>\n",
       "      <td>Bank M</td>\n",
       "      <td>ATM</td>\n",
       "    </tr>\n",
       "    <tr>\n",
       "      <th>2</th>\n",
       "      <td>1</td>\n",
       "      <td>0.0</td>\n",
       "      <td>1</td>\n",
       "      <td>Bank J</td>\n",
       "      <td>ATM</td>\n",
       "    </tr>\n",
       "    <tr>\n",
       "      <th>3</th>\n",
       "      <td>1</td>\n",
       "      <td>NaN</td>\n",
       "      <td>1</td>\n",
       "      <td>Bank B</td>\n",
       "      <td>ATM</td>\n",
       "    </tr>\n",
       "    <tr>\n",
       "      <th>4</th>\n",
       "      <td>0</td>\n",
       "      <td>0.0</td>\n",
       "      <td>1</td>\n",
       "      <td>Bank C</td>\n",
       "      <td>ATM</td>\n",
       "    </tr>\n",
       "  </tbody>\n",
       "</table>\n",
       "</div>"
      ],
      "text/plain": [
       "  FreqUSSD  No of Years  Education    Bank Balenq\n",
       "0        0           1.0         1  Bank A    ATM\n",
       "1        0           0.0         1  Bank M    ATM\n",
       "2        1           0.0         1  Bank J    ATM\n",
       "3        1           NaN         1  Bank B    ATM\n",
       "4        0           0.0         1  Bank C    ATM"
      ]
     },
     "execution_count": 38,
     "metadata": {},
     "output_type": "execute_result"
    }
   ],
   "source": [
    "# create a new dataframe for the classification\n",
    "new_frame = file[['FreqUSSD', 'No of Years ', 'Education', 'Bank', 'Balenq']]\n",
    "new_frame.head()"
   ]
  },
  {
   "cell_type": "code",
   "execution_count": 44,
   "metadata": {},
   "outputs": [],
   "source": [
    "workfile = new_frame.head(1000)"
   ]
  },
  {
   "cell_type": "code",
   "execution_count": 54,
   "metadata": {},
   "outputs": [
    {
     "name": "stderr",
     "output_type": "stream",
     "text": [
      "C:\\Users\\ACER\\Anaconda3\\lib\\site-packages\\ipykernel_launcher.py:7: SettingWithCopyWarning: \n",
      "A value is trying to be set on a copy of a slice from a DataFrame\n",
      "\n",
      "See the caveats in the documentation: http://pandas.pydata.org/pandas-docs/stable/indexing.html#indexing-view-versus-copy\n",
      "  import sys\n",
      "C:\\Users\\ACER\\Anaconda3\\lib\\site-packages\\ipykernel_launcher.py:13: SettingWithCopyWarning: \n",
      "A value is trying to be set on a copy of a slice from a DataFrame\n",
      "\n",
      "See the caveats in the documentation: http://pandas.pydata.org/pandas-docs/stable/indexing.html#indexing-view-versus-copy\n",
      "  del sys.path[0]\n",
      "C:\\Users\\ACER\\Anaconda3\\lib\\site-packages\\ipykernel_launcher.py:10: SettingWithCopyWarning: \n",
      "A value is trying to be set on a copy of a slice from a DataFrame\n",
      "\n",
      "See the caveats in the documentation: http://pandas.pydata.org/pandas-docs/stable/indexing.html#indexing-view-versus-copy\n",
      "  # Remove the CWD from sys.path while we load stuff.\n",
      "C:\\Users\\ACER\\Anaconda3\\lib\\site-packages\\ipykernel_launcher.py:8: SettingWithCopyWarning: \n",
      "A value is trying to be set on a copy of a slice from a DataFrame\n",
      "\n",
      "See the caveats in the documentation: http://pandas.pydata.org/pandas-docs/stable/indexing.html#indexing-view-versus-copy\n",
      "  \n"
     ]
    },
    {
     "data": {
      "text/html": [
       "<div>\n",
       "<style>\n",
       "    .dataframe thead tr:only-child th {\n",
       "        text-align: right;\n",
       "    }\n",
       "\n",
       "    .dataframe thead th {\n",
       "        text-align: left;\n",
       "    }\n",
       "\n",
       "    .dataframe tbody tr th {\n",
       "        vertical-align: top;\n",
       "    }\n",
       "</style>\n",
       "<table border=\"1\" class=\"dataframe\">\n",
       "  <thead>\n",
       "    <tr style=\"text-align: right;\">\n",
       "      <th></th>\n",
       "      <th>FreqUSSD</th>\n",
       "      <th>No of Years</th>\n",
       "      <th>Education</th>\n",
       "      <th>Bank</th>\n",
       "      <th>Balenq</th>\n",
       "    </tr>\n",
       "  </thead>\n",
       "  <tbody>\n",
       "    <tr>\n",
       "      <th>0</th>\n",
       "      <td>0</td>\n",
       "      <td>1.0</td>\n",
       "      <td>1</td>\n",
       "      <td>Bank A</td>\n",
       "      <td>7</td>\n",
       "    </tr>\n",
       "    <tr>\n",
       "      <th>1</th>\n",
       "      <td>0</td>\n",
       "      <td>0.0</td>\n",
       "      <td>1</td>\n",
       "      <td>Bank M</td>\n",
       "      <td>7</td>\n",
       "    </tr>\n",
       "    <tr>\n",
       "      <th>2</th>\n",
       "      <td>1</td>\n",
       "      <td>0.0</td>\n",
       "      <td>1</td>\n",
       "      <td>Bank J</td>\n",
       "      <td>7</td>\n",
       "    </tr>\n",
       "    <tr>\n",
       "      <th>3</th>\n",
       "      <td>1</td>\n",
       "      <td>NaN</td>\n",
       "      <td>1</td>\n",
       "      <td>Bank B</td>\n",
       "      <td>2</td>\n",
       "    </tr>\n",
       "    <tr>\n",
       "      <th>4</th>\n",
       "      <td>0</td>\n",
       "      <td>0.0</td>\n",
       "      <td>1</td>\n",
       "      <td>Bank C</td>\n",
       "      <td>7</td>\n",
       "    </tr>\n",
       "  </tbody>\n",
       "</table>\n",
       "</div>"
      ],
      "text/plain": [
       "  FreqUSSD  No of Years  Education    Bank Balenq\n",
       "0        0           1.0         1  Bank A      7\n",
       "1        0           0.0         1  Bank M      7\n",
       "2        1           0.0         1  Bank J      7\n",
       "3        1           NaN         1  Bank B      2\n",
       "4        0           0.0         1  Bank C      7"
      ]
     },
     "execution_count": 54,
     "metadata": {},
     "output_type": "execute_result"
    }
   ],
   "source": [
    "# filling the Balenq column by passing each entry to its classification\n",
    "# create a dictionary that has each corresponding entry and determine the classification for the corresponding balenq column\n",
    "his = {(0.0,0.0,0.0):7, (0.0,0.0,1.0):6, (0.0,1.0,0.0):5, (0.0,1.0,1.0):4, (1.0,0.0,0.0):3, (1.0,0.0,1.0):2, (1.0,1.0,0.0):1, (1.0,1.0,1.0):0}\n",
    "def Process(workfile):\n",
    "    his = {(0.0,0.0,0.0):7, (0.0,0.0,1.0):6, (0.0,1.0,0.0):5, (0.0,1.0,1.0):4, (1.0,0.0,0.0):3, (1.0,0.0,1.0):2, (1.0,1.0,0.0):1, (1.0,1.0,1.0):0}\n",
    "    for counter in range(len(workfile)):\n",
    "        try: workfile['Balenq'][counter]= his[(float(workfile['FreqUSSD'][counter]), (workfile['No of Years '][counter]), float(workfile['Education'][counter]))]\n",
    "        except: workfile['Balenq'][counter]= his[(float(workfile['FreqUSSD'][counter]), 0, float(workfile['Education'][counter]))]\n",
    "        else:\n",
    "            workfile['Balenq'][counter] = 7\n",
    "\n",
    "namefile = workfile.head(5)\n",
    "Process(namefile)\n",
    "workfile.head()    "
   ]
  },
  {
   "cell_type": "code",
   "execution_count": null,
   "metadata": {},
   "outputs": [
    {
     "name": "stderr",
     "output_type": "stream",
     "text": [
      "C:\\Users\\ACER\\Anaconda3\\lib\\site-packages\\ipykernel_launcher.py:7: SettingWithCopyWarning: \n",
      "A value is trying to be set on a copy of a slice from a DataFrame\n",
      "\n",
      "See the caveats in the documentation: http://pandas.pydata.org/pandas-docs/stable/indexing.html#indexing-view-versus-copy\n",
      "  import sys\n",
      "C:\\Users\\ACER\\Anaconda3\\lib\\site-packages\\ipykernel_launcher.py:1: SettingWithCopyWarning: \n",
      "A value is trying to be set on a copy of a slice from a DataFrame\n",
      "\n",
      "See the caveats in the documentation: http://pandas.pydata.org/pandas-docs/stable/indexing.html#indexing-view-versus-copy\n",
      "  \"\"\"Entry point for launching an IPython kernel.\n",
      "C:\\Users\\ACER\\Anaconda3\\lib\\site-packages\\ipykernel_launcher.py:10: SettingWithCopyWarning: \n",
      "A value is trying to be set on a copy of a slice from a DataFrame\n",
      "\n",
      "See the caveats in the documentation: http://pandas.pydata.org/pandas-docs/stable/indexing.html#indexing-view-versus-copy\n",
      "  # Remove the CWD from sys.path while we load stuff.\n",
      "C:\\Users\\ACER\\Anaconda3\\lib\\site-packages\\ipykernel_launcher.py:8: SettingWithCopyWarning: \n",
      "A value is trying to be set on a copy of a slice from a DataFrame\n",
      "\n",
      "See the caveats in the documentation: http://pandas.pydata.org/pandas-docs/stable/indexing.html#indexing-view-versus-copy\n",
      "  \n"
     ]
    }
   ],
   "source": [
    "Process(new_frame)"
   ]
  },
  {
   "cell_type": "code",
   "execution_count": null,
   "metadata": {},
   "outputs": [],
   "source": [
    "new_frame['Balenq'].value_counts()"
   ]
  },
  {
   "cell_type": "code",
   "execution_count": null,
   "metadata": {},
   "outputs": [],
   "source": []
  },
  {
   "cell_type": "code",
   "execution_count": null,
   "metadata": {
    "collapsed": true
   },
   "outputs": [],
   "source": []
  }
 ],
 "metadata": {
  "kernelspec": {
   "display_name": "Python 3",
   "language": "python",
   "name": "python3"
  },
  "language_info": {
   "codemirror_mode": {
    "name": "ipython",
    "version": 3
   },
   "file_extension": ".py",
   "mimetype": "text/x-python",
   "name": "python",
   "nbconvert_exporter": "python",
   "pygments_lexer": "ipython3",
   "version": "3.6.1"
  }
 },
 "nbformat": 4,
 "nbformat_minor": 2
}
