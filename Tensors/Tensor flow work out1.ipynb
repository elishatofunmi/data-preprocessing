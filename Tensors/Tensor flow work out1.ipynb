{
 "cells": [
  {
   "cell_type": "code",
   "execution_count": 1,
   "metadata": {},
   "outputs": [],
   "source": [
    "import tensorflow as tf"
   ]
  },
  {
   "cell_type": "code",
   "execution_count": 2,
   "metadata": {},
   "outputs": [
    {
     "name": "stdout",
     "output_type": "stream",
     "text": [
      "42\n"
     ]
    }
   ],
   "source": [
    "# for any evaluation of a function, we need to open a tensorflow session\n",
    "#and use to initialze the variables and evaluate the function.\n",
    "x = tf.Variable(3, name = \"X\")\n",
    "y = tf.Variable(4, name = \"y\")\n",
    "f = x*x*y + y + 2\n",
    "\n",
    "sess = tf.Session()\n",
    "sess.run(x.initializer)\n",
    "sess.run(y.initializer)\n",
    "result = sess.run(f)\n",
    "print (result)"
   ]
  },
  {
   "cell_type": "code",
   "execution_count": 3,
   "metadata": {},
   "outputs": [],
   "source": [
    "# the better way\n",
    "with tf.Session() as sess:\n",
    "    x.initializer.run()\n",
    "    y.initializer.run()\n",
    "    result = f.eval()\n",
    "    \n",
    "    \n",
    "# instead of manually running the initializer for every single variable\n",
    "# you can use the global_variable_initializer() function.\n",
    "\n",
    "init = tf.global_variables_initializer() # prepare an init node\n",
    "with tf.Session() as sess:\n",
    "    init.run() # actually initialize all the variables\n",
    "    result = f.eval()"
   ]
  },
  {
   "cell_type": "code",
   "execution_count": 4,
   "metadata": {},
   "outputs": [
    {
     "name": "stdout",
     "output_type": "stream",
     "text": [
      "42\n"
     ]
    }
   ],
   "source": [
    "# creating interactive session\n",
    "# the only difference between interactive session and regular session\n",
    "# is that when an interactive session is created it automatically sets\n",
    "# itself as the default session so the with block is not needed to close it\n",
    "\n",
    "sess = tf.InteractiveSession()\n",
    "init.run()\n",
    "result = f.eval()\n",
    "print (result)\n",
    "sess.close()"
   ]
  },
  {
   "cell_type": "code",
   "execution_count": 5,
   "metadata": {},
   "outputs": [
    {
     "data": {
      "text/plain": [
       "True"
      ]
     },
     "execution_count": 5,
     "metadata": {},
     "output_type": "execute_result"
    }
   ],
   "source": [
    "# managing graphs\n",
    "# any node created is automatically added to the default graph\n",
    "\n",
    "x1 = tf.Variable(1)\n",
    "x1.graph is tf.get_default_graph()"
   ]
  },
  {
   "cell_type": "code",
   "execution_count": 6,
   "metadata": {},
   "outputs": [
    {
     "data": {
      "text/plain": [
       "True"
      ]
     },
     "execution_count": 6,
     "metadata": {},
     "output_type": "execute_result"
    }
   ],
   "source": [
    "graph = tf.Graph()\n",
    "with graph.as_default():\n",
    "    x2 = tf.Variable(2)\n",
    "    \n",
    "x2.graph is graph"
   ]
  },
  {
   "cell_type": "code",
   "execution_count": 7,
   "metadata": {},
   "outputs": [
    {
     "data": {
      "text/plain": [
       "False"
      ]
     },
     "execution_count": 7,
     "metadata": {},
     "output_type": "execute_result"
    }
   ],
   "source": [
    "x2.graph is tf.get_default_graph()"
   ]
  },
  {
   "cell_type": "code",
   "execution_count": 8,
   "metadata": {},
   "outputs": [
    {
     "name": "stdout",
     "output_type": "stream",
     "text": [
      "10\n",
      "15\n"
     ]
    }
   ],
   "source": [
    "w = tf.constant(3)\n",
    "x = w+ 2\n",
    "y = x + 5\n",
    "z = x* 3\n",
    "\n",
    "with tf.Session() as sess:\n",
    "    y_val, z_val = sess.run([y, z])\n",
    "    print (y_val)\n",
    "    print (z_val)"
   ]
  },
  {
   "cell_type": "code",
   "execution_count": 9,
   "metadata": {},
   "outputs": [],
   "source": [
    "# linear regression with tensorflow\n",
    "import sklearn as sk\n",
    "\n",
    "import numpy as np\n",
    "from sklearn.datasets import load_iris\n",
    "iris_data = load_iris()"
   ]
  },
  {
   "cell_type": "code",
   "execution_count": 10,
   "metadata": {},
   "outputs": [
    {
     "data": {
      "text/plain": [
       "(150, 4)"
      ]
     },
     "execution_count": 10,
     "metadata": {},
     "output_type": "execute_result"
    }
   ],
   "source": [
    "x = iris_data.data\n",
    "y = iris_data.target\n",
    "x.shape"
   ]
  },
  {
   "cell_type": "code",
   "execution_count": 11,
   "metadata": {},
   "outputs": [],
   "source": [
    "m, n = x.shape\n",
    "iris_data_plus_bias = np.c_[np.ones((m, 1)), x]"
   ]
  },
  {
   "cell_type": "code",
   "execution_count": 12,
   "metadata": {},
   "outputs": [],
   "source": [
    "X = tf.constant(iris_data_plus_bias, dtype = tf.float32, name = \"X\")\n",
    "Y = tf.constant(y.reshape(-1,1), dtype = tf.float32,name = \"y\")\n",
    "XT = tf.transpose(X)\n",
    "theta = tf.matmul(tf.matmul(tf.matrix_inverse(tf.matmul(XT, X)), XT), Y)\n",
    "\n",
    "with tf.Session() as sess:\n",
    "    theta_value = theta.eval()"
   ]
  },
  {
   "cell_type": "code",
   "execution_count": 13,
   "metadata": {},
   "outputs": [
    {
     "name": "stdout",
     "output_type": "stream",
     "text": [
      "Epoch 0 MSE =  3.98892\n",
      "Epoch 100 MSE =  0.187382\n",
      "Epoch 200 MSE =  0.097204\n",
      "Epoch 300 MSE =  0.0854662\n",
      "Epoch 400 MSE =  0.0782897\n",
      "Epoch 500 MSE =  0.0732414\n",
      "Epoch 600 MSE =  0.0696228\n",
      "Epoch 700 MSE =  0.0669795\n",
      "Epoch 800 MSE =  0.0650042\n",
      "Epoch 900 MSE =  0.0634883\n"
     ]
    }
   ],
   "source": [
    "# implementing gradient descent\n",
    "\n",
    "n_epoachs = 1000\n",
    "learning_rate = 0.01\n",
    "from sklearn.preprocessing import MinMaxScaler\n",
    "scale = MinMaxScaler()\n",
    "scaled_iris_data_plus_bias = scale.fit_transform(iris_data_plus_bias)\n",
    "\n",
    "X = tf.constant(scaled_iris_data_plus_bias, dtype = tf.float32, name = 'X')\n",
    "Y = tf.constant(y.reshape(-1,1), dtype = tf.float32, name = 'Y')\n",
    "theta = tf.Variable(tf.random_uniform([n+1, 1], -1.0,1.0), name = 'theta')\n",
    "\n",
    "y_pred = tf.matmul(X, theta, name = 'predictions')\n",
    "error = y_pred - Y\n",
    "mse = tf.reduce_mean(tf.square(error), name = 'mse')\n",
    "gradients = 2/m * tf.matmul(tf.transpose(X), error)\n",
    "\n",
    "training_op = tf.assign(theta, theta- learning_rate * gradients)\n",
    "\n",
    "init = tf.global_variables_initializer()\n",
    "\n",
    "with tf.Session() as sess:\n",
    "    sess.run(init)\n",
    "    \n",
    "    for epoch in range(n_epoachs):\n",
    "        if epoch % 100 == 0:\n",
    "            print (\"Epoch\", epoch, \"MSE = \", mse.eval())\n",
    "        sess.run(training_op)\n",
    "    best_theta = theta.eval()\n"
   ]
  },
  {
   "cell_type": "code",
   "execution_count": 14,
   "metadata": {},
   "outputs": [
    {
     "name": "stdout",
     "output_type": "stream",
     "text": [
      "Epoch 0 MSE =  2.14705\n",
      "Epoch 100 MSE =  0.214926\n",
      "Epoch 200 MSE =  0.136261\n",
      "Epoch 300 MSE =  0.107502\n",
      "Epoch 400 MSE =  0.0884958\n",
      "Epoch 500 MSE =  0.0756143\n",
      "Epoch 600 MSE =  0.0668703\n",
      "Epoch 700 MSE =  0.060928\n",
      "Epoch 800 MSE =  0.0568832\n",
      "Epoch 900 MSE =  0.0541239\n"
     ]
    }
   ],
   "source": [
    "# using tensorflow autodiff feature to implement gradient descent\n",
    "\n",
    "# implementing gradient descent\n",
    "\n",
    "n_epoachs = 1000\n",
    "learning_rate = 0.01\n",
    "from sklearn.preprocessing import MinMaxScaler\n",
    "scale = MinMaxScaler()\n",
    "scaled_iris_data_plus_bias = scale.fit_transform(iris_data_plus_bias)\n",
    "\n",
    "X = tf.constant(scaled_iris_data_plus_bias, dtype = tf.float32, name = 'X')\n",
    "Y = tf.constant(y.reshape(-1,1), dtype = tf.float32, name = 'Y')\n",
    "theta = tf.Variable(tf.random_uniform([n+1, 1], -1.0,1.0), name = 'theta')\n",
    "\n",
    "y_pred = tf.matmul(X, theta, name = 'predictions')\n",
    "error = y_pred - Y\n",
    "mse = tf.reduce_mean(tf.square(error), name = 'mse')\n",
    "gradients = tf.gradients(mse, [theta])[0]\n",
    "\n",
    "training_op = tf.assign(theta, theta- learning_rate * gradients)\n",
    "\n",
    "init = tf.global_variables_initializer()\n",
    "\n",
    "with tf.Session() as sess:\n",
    "    sess.run(init)\n",
    "    \n",
    "    for epoch in range(n_epoachs):\n",
    "        if epoch % 100 == 0:\n",
    "            print (\"Epoch\", epoch, \"MSE = \", mse.eval())\n",
    "        sess.run(training_op)\n",
    "    best_theta = theta.eval()\n"
   ]
  },
  {
   "cell_type": "code",
   "execution_count": 15,
   "metadata": {},
   "outputs": [
    {
     "name": "stdout",
     "output_type": "stream",
     "text": [
      "Epoch 0 MSE =  2.4262\n",
      "Epoch 100 MSE =  0.23988\n",
      "Epoch 200 MSE =  0.152016\n",
      "Epoch 300 MSE =  0.120196\n",
      "Epoch 400 MSE =  0.0991039\n",
      "Epoch 500 MSE =  0.0847354\n",
      "Epoch 600 MSE =  0.0749116\n",
      "Epoch 700 MSE =  0.068168\n",
      "Epoch 800 MSE =  0.0635132\n",
      "Epoch 900 MSE =  0.0602761\n"
     ]
    }
   ],
   "source": [
    "# using optimizers implemented in tensorflow\n",
    "# that is the gradient descent optimizer\n",
    "\n",
    "# implementing gradient descent\n",
    "\n",
    "n_epoachs = 1000\n",
    "learning_rate = 0.01\n",
    "from sklearn.preprocessing import MinMaxScaler\n",
    "scale = MinMaxScaler()\n",
    "scaled_iris_data_plus_bias = scale.fit_transform(iris_data_plus_bias)\n",
    "\n",
    "X = tf.constant(scaled_iris_data_plus_bias, dtype = tf.float32, name = 'X')\n",
    "Y = tf.constant(y.reshape(-1,1), dtype = tf.float32, name = 'Y')\n",
    "theta = tf.Variable(tf.random_uniform([n+1, 1], -1.0,1.0), name = 'theta')\n",
    "\n",
    "y_pred = tf.matmul(X, theta, name = 'predictions')\n",
    "error = y_pred - Y\n",
    "mse = tf.reduce_mean(tf.square(error), name = 'mse')\n",
    "optimizer = tf.train.GradientDescentOptimizer(learning_rate = learning_rate)\n",
    "\n",
    "training_op = optimizer.minimize(mse)\n",
    "\n",
    "init = tf.global_variables_initializer()\n",
    "\n",
    "with tf.Session() as sess:\n",
    "    sess.run(init)\n",
    "    \n",
    "    for epoch in range(n_epoachs):\n",
    "        if epoch % 100 == 0:\n",
    "            print (\"Epoch\", epoch, \"MSE = \", mse.eval())\n",
    "        sess.run(training_op)\n",
    "    best_theta = theta.eval()\n"
   ]
  },
  {
   "cell_type": "code",
   "execution_count": 16,
   "metadata": {},
   "outputs": [
    {
     "name": "stdout",
     "output_type": "stream",
     "text": [
      "[[ 6.  7.  8.]]\n",
      "[[  9.  10.  11.]\n",
      " [ 12.  13.  14.]]\n"
     ]
    }
   ],
   "source": [
    "# feeding data to the training algorithm\n",
    "\n",
    "# for this we need a way to replace x and y at every iteration witht eh\n",
    "# next-batch. The simplest way to do this is to use placeholder nodes.\n",
    "\n",
    "# to create a placeholder node, you must call the placeholder() function\n",
    "# and specify the ouput tensor's data type. If you specify none for\n",
    "# a dimension, it means \"any sizer\".\n",
    "\n",
    "A = tf.placeholder(tf.float32, shape = (None, 3))\n",
    "B = A + 5\n",
    "with tf.Session() as sess:\n",
    "    B_val_1 = B.eval(feed_dict = {A:[[1,2,3]]})\n",
    "    B_val_2 = B.eval(feed_dict = {A:[[4,5,6], [7,8,9]]})\n",
    "    \n",
    "print (B_val_1)\n",
    "print (B_val_2)"
   ]
  },
  {
   "cell_type": "code",
   "execution_count": 28,
   "metadata": {},
   "outputs": [],
   "source": [
    "# to implement Mini-batch Gradient Descent, we only need to tweek existing code\n",
    "#slightly. First change the definiation of x and y in the construcion\n",
    "# phase to make them placeholder nodes:\n",
    "\n",
    "x = tf.placeholder(tf.float32, shape = (None, n), name = \"X\")\n",
    "y = tf.placeholder(tf.float32, shape = (150, ), name = \"y\")\n",
    "\n",
    "# then define the batch size and compute the total number of batches\n",
    "batch_size = 100\n",
    "n_batches = int(np.ceil(m/batch_size))"
   ]
  },
  {
   "cell_type": "code",
   "execution_count": 29,
   "metadata": {},
   "outputs": [
    {
     "data": {
      "text/plain": [
       "((150, 4), (150,))"
      ]
     },
     "execution_count": 29,
     "metadata": {},
     "output_type": "execute_result"
    }
   ],
   "source": [
    "from sklearn.datasets import load_iris\n",
    "iris_data = load_iris()\n",
    "x_batch, y_batch = iris_data.data, iris_data.target\n",
    "x_batch.shape, y_batch.shape"
   ]
  },
  {
   "cell_type": "code",
   "execution_count": 30,
   "metadata": {},
   "outputs": [],
   "source": [
    "# finally, in the execution pahse, fetch the mini-batches one by one,\n",
    "# then provice the value of x and y via the feed_dict parameter when evaluating\n",
    "#a node that depends on either of them.\n",
    "\n",
    "def fetch_batch(epoch, batch_index, batch_size):\n",
    "    from sklearn.datasets import load_iris\n",
    "    iris_data = load_iris()\n",
    "    x_batch, y_batch = iris_data.data, iris_data.target\n",
    "    return x_batch, y_batch\n",
    "\n",
    "with tf.Session() as sess:\n",
    "    sess.run(init)\n",
    "    \n",
    "    for epoch in range(n_epoachs):\n",
    "        for batch_index in range(n_batches):\n",
    "            a_batch, b_batch = fetch_batch(epoch, batch_index, batch_size)\n",
    "            sess.run(training_op, feed_dict = {x: a_batch, y:b_batch})\n",
    "            best_theta = theta.eval()"
   ]
  },
  {
   "cell_type": "code",
   "execution_count": 32,
   "metadata": {},
   "outputs": [],
   "source": [
    "# saving and restoring models\n",
    "\n",
    "saver = tf.train.Saver()\n",
    "\n",
    "with tf.Session() as sess:\n",
    "    sess.run(init)\n",
    "    \n",
    "    for epoch in range(n_epoachs):\n",
    "        if epoch % 100 == 0: # checkpoint every 100 epochs\n",
    "            save_path = saver.save(sess, r\"C:\\Users\\ACER\\Desktop\\pyreach\\Life Data\\my_model.ckpt\")\n",
    " \n",
    "        sess.run(training_op)\n",
    "\n",
    "    best_theta = theta.eval()\n",
    "    save_path = saver.save(sess, r\"C:\\Users\\ACER\\Desktop\\pyreach\\Life Data\\my_model.ckpt\")"
   ]
  },
  {
   "cell_type": "code",
   "execution_count": null,
   "metadata": {},
   "outputs": [],
   "source": [
    "# to restore a model\n",
    "    \n",
    "# we can also specify what variable to be restored or saved\n",
    "# e.g\n",
    "\n",
    "saver = tf.train.Saver({\"weights\":theta})\n",
    "# this implies we save or restore the theta variable under the name weights\n",
    "\n",
    "# by default the save() method also saves the struture of the graph in a seconde\n",
    "# file with the same name plus a .meta extension. you can load this graph\n",
    "# structure using tf.train.import_meta_graph().\n",
    "\n",
    "saver = tf.train.import_meta_graph(r\"C:\\Users\\ACER\\Desktop\\pyreach\\Life Data\\my_model.ckpt.meta\")\n",
    "\n",
    "with tf.Session() as sess:\n",
    "    saver.restore(sess, r\"C:\\Users\\ACER\\Desktop\\pyreach\\Life Data\\my_model.ckpt.meta\")"
   ]
  },
  {
   "cell_type": "code",
   "execution_count": null,
   "metadata": {},
   "outputs": [],
   "source": [
    "# visualizing the graph and training curves using TensorBoard\n",
    "\n",
    "from datetime import datetime\n",
    "now = datetime.utcnow().strftime(\"%Y%m%d%H%M%S\")\n",
    "root_logdir = 'tf_logs'\n",
    "logdir = \"{}/run-{}/\".format(root_logdir, now)\n",
    "\n",
    "mse_summary= tf.summary.scaler(\"MSE\",mse) # creates node in the graph\n",
    "# that will evaluate the MSE value and write it to a tensorBoard-compatible\n",
    "# binary log string called a summary.\n",
    "\n",
    "file_writer = tf.summary.FileWriter(logdir, tf.get_default_graph())\n"
   ]
  },
  {
   "cell_type": "code",
   "execution_count": null,
   "metadata": {},
   "outputs": [],
   "source": [
    "#  to updatet the execution phase to evaluate the mse_summary node regularly\n",
    "# during trianing (e.g. every 10 mini-batches)\n",
    "\n",
    "for batch_index in range(n_batches):\n",
    "    x_batch, y_batch = fetch_batch(epoch, batch_index, batch_size)\n",
    "    if batch_index % 10 == 0:\n",
    "        summary_str = mse_summary.eval(feed_dict = {X:x_batch, y:y_batch})\n",
    "        step = epoch * n_batches + batch_index\n",
    "        file_writer.add_summary(summary_str, step)\n",
    "    sess.run(training_op, feed_dict = {X:x_batch, y:y_batch})\n",
    "    \n",
    "# finally closing the filewriter at the end of the file\n",
    "file_writer.close()"
   ]
  }
 ],
 "metadata": {
  "kernelspec": {
   "display_name": "Python 3",
   "language": "python",
   "name": "python3"
  },
  "language_info": {
   "codemirror_mode": {
    "name": "ipython",
    "version": 3
   },
   "file_extension": ".py",
   "mimetype": "text/x-python",
   "name": "python",
   "nbconvert_exporter": "python",
   "pygments_lexer": "ipython3",
   "version": "3.6.1"
  }
 },
 "nbformat": 4,
 "nbformat_minor": 2
}
