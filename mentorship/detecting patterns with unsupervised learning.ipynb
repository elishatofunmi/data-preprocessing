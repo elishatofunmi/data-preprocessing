{
 "cells": [
  {
   "cell_type": "code",
   "execution_count": 1,
   "metadata": {},
   "outputs": [],
   "source": [
    "import tensorflow as tf"
   ]
  },
  {
   "cell_type": "code",
   "execution_count": 2,
   "metadata": {},
   "outputs": [],
   "source": [
    "import pandas as pd\n",
    "import numpy as np\n",
    "import warnings\n",
    "warnings.filterwarnings(\"ignore\")\n",
    "import sklearn as sk\n",
    "import matplotlib.pyplot as plt\n",
    "import sys, os, seaborn as sns"
   ]
  },
  {
   "cell_type": "code",
   "execution_count": 3,
   "metadata": {},
   "outputs": [],
   "source": [
    "os.chdir(r\"C:\\Users\\ACER\\Downloads\\set 1\")"
   ]
  },
  {
   "cell_type": "code",
   "execution_count": 4,
   "metadata": {},
   "outputs": [],
   "source": [
    "train_file = pd.read_csv(\"train.csv\")\n",
    "test_file = pd.read_csv(\"test.csv\")"
   ]
  },
  {
   "cell_type": "code",
   "execution_count": 5,
   "metadata": {},
   "outputs": [
    {
     "name": "stdout",
     "output_type": "stream",
     "text": [
      "<class 'pandas.core.frame.DataFrame'>\n",
      "RangeIndex: 182080 entries, 0 to 182079\n",
      "Data columns (total 16 columns):\n",
      "id                                              182080 non-null object\n",
      "teacher_id                                      182080 non-null object\n",
      "teacher_prefix                                  182076 non-null object\n",
      "school_state                                    182080 non-null object\n",
      "project_submitted_datetime                      182080 non-null object\n",
      "project_grade_category                          182080 non-null object\n",
      "project_subject_categories                      182080 non-null object\n",
      "project_subject_subcategories                   182080 non-null object\n",
      "project_title                                   182080 non-null object\n",
      "project_essay_1                                 182080 non-null object\n",
      "project_essay_2                                 182080 non-null object\n",
      "project_essay_3                                 6374 non-null object\n",
      "project_essay_4                                 6374 non-null object\n",
      "project_resource_summary                        182080 non-null object\n",
      "teacher_number_of_previously_posted_projects    182080 non-null int64\n",
      "project_is_approved                             182080 non-null int64\n",
      "dtypes: int64(2), object(14)\n",
      "memory usage: 22.2+ MB\n"
     ]
    }
   ],
   "source": [
    "train_file.info()"
   ]
  },
  {
   "cell_type": "code",
   "execution_count": 6,
   "metadata": {},
   "outputs": [
    {
     "data": {
      "text/html": [
       "<div>\n",
       "<style>\n",
       "    .dataframe thead tr:only-child th {\n",
       "        text-align: right;\n",
       "    }\n",
       "\n",
       "    .dataframe thead th {\n",
       "        text-align: left;\n",
       "    }\n",
       "\n",
       "    .dataframe tbody tr th {\n",
       "        vertical-align: top;\n",
       "    }\n",
       "</style>\n",
       "<table border=\"1\" class=\"dataframe\">\n",
       "  <thead>\n",
       "    <tr style=\"text-align: right;\">\n",
       "      <th></th>\n",
       "      <th>id</th>\n",
       "      <th>teacher_id</th>\n",
       "      <th>teacher_prefix</th>\n",
       "      <th>school_state</th>\n",
       "      <th>project_submitted_datetime</th>\n",
       "      <th>project_grade_category</th>\n",
       "      <th>project_subject_categories</th>\n",
       "      <th>project_subject_subcategories</th>\n",
       "      <th>project_title</th>\n",
       "      <th>project_essay_1</th>\n",
       "      <th>project_essay_2</th>\n",
       "      <th>project_essay_3</th>\n",
       "      <th>project_essay_4</th>\n",
       "      <th>project_resource_summary</th>\n",
       "      <th>teacher_number_of_previously_posted_projects</th>\n",
       "      <th>project_is_approved</th>\n",
       "    </tr>\n",
       "  </thead>\n",
       "  <tbody>\n",
       "    <tr>\n",
       "      <th>0</th>\n",
       "      <td>p036502</td>\n",
       "      <td>484aaf11257089a66cfedc9461c6bd0a</td>\n",
       "      <td>Ms.</td>\n",
       "      <td>NV</td>\n",
       "      <td>2016-11-18 14:45:59</td>\n",
       "      <td>Grades PreK-2</td>\n",
       "      <td>Literacy &amp; Language</td>\n",
       "      <td>Literacy</td>\n",
       "      <td>Super Sight Word Centers</td>\n",
       "      <td>Most of my kindergarten students come from low...</td>\n",
       "      <td>I currently have a differentiated sight word c...</td>\n",
       "      <td>NaN</td>\n",
       "      <td>NaN</td>\n",
       "      <td>My students need 6 Ipod Nano's to create and d...</td>\n",
       "      <td>26</td>\n",
       "      <td>1</td>\n",
       "    </tr>\n",
       "    <tr>\n",
       "      <th>1</th>\n",
       "      <td>p039565</td>\n",
       "      <td>df72a3ba8089423fa8a94be88060f6ed</td>\n",
       "      <td>Mrs.</td>\n",
       "      <td>GA</td>\n",
       "      <td>2017-04-26 15:57:28</td>\n",
       "      <td>Grades 3-5</td>\n",
       "      <td>Music &amp; The Arts, Health &amp; Sports</td>\n",
       "      <td>Performing Arts, Team Sports</td>\n",
       "      <td>Keep Calm and Dance On</td>\n",
       "      <td>Our elementary school is a culturally rich sch...</td>\n",
       "      <td>We strive to provide our diverse population of...</td>\n",
       "      <td>NaN</td>\n",
       "      <td>NaN</td>\n",
       "      <td>My students need matching shirts to wear for d...</td>\n",
       "      <td>1</td>\n",
       "      <td>0</td>\n",
       "    </tr>\n",
       "    <tr>\n",
       "      <th>2</th>\n",
       "      <td>p233823</td>\n",
       "      <td>a9b876a9252e08a55e3d894150f75ba3</td>\n",
       "      <td>Ms.</td>\n",
       "      <td>UT</td>\n",
       "      <td>2017-01-01 22:57:44</td>\n",
       "      <td>Grades 3-5</td>\n",
       "      <td>Math &amp; Science, Literacy &amp; Language</td>\n",
       "      <td>Applied Sciences, Literature &amp; Writing</td>\n",
       "      <td>Lets 3Doodle to Learn</td>\n",
       "      <td>Hello;\\r\\nMy name is Mrs. Brotherton. I teach ...</td>\n",
       "      <td>We are looking to add some 3Doodler to our cla...</td>\n",
       "      <td>NaN</td>\n",
       "      <td>NaN</td>\n",
       "      <td>My students need the 3doodler. We are an SEM s...</td>\n",
       "      <td>5</td>\n",
       "      <td>1</td>\n",
       "    </tr>\n",
       "    <tr>\n",
       "      <th>3</th>\n",
       "      <td>p185307</td>\n",
       "      <td>525fdbb6ec7f538a48beebaa0a51b24f</td>\n",
       "      <td>Mr.</td>\n",
       "      <td>NC</td>\n",
       "      <td>2016-08-12 15:42:11</td>\n",
       "      <td>Grades 3-5</td>\n",
       "      <td>Health &amp; Sports</td>\n",
       "      <td>Health &amp; Wellness</td>\n",
       "      <td>\\\"Kid Inspired\\\" Equipment to Increase Activit...</td>\n",
       "      <td>My students are the greatest students but are ...</td>\n",
       "      <td>The student's project which is totally \\\"kid-i...</td>\n",
       "      <td>NaN</td>\n",
       "      <td>NaN</td>\n",
       "      <td>My students need balls and other activity equi...</td>\n",
       "      <td>16</td>\n",
       "      <td>0</td>\n",
       "    </tr>\n",
       "    <tr>\n",
       "      <th>4</th>\n",
       "      <td>p013780</td>\n",
       "      <td>a63b5547a7239eae4c1872670848e61a</td>\n",
       "      <td>Mr.</td>\n",
       "      <td>CA</td>\n",
       "      <td>2016-08-06 09:09:11</td>\n",
       "      <td>Grades 6-8</td>\n",
       "      <td>Health &amp; Sports</td>\n",
       "      <td>Health &amp; Wellness</td>\n",
       "      <td>We need clean water for our culinary arts class!</td>\n",
       "      <td>My students are athletes and students who are ...</td>\n",
       "      <td>For some reason in our kitchen the water comes...</td>\n",
       "      <td>NaN</td>\n",
       "      <td>NaN</td>\n",
       "      <td>My students need a water filtration system for...</td>\n",
       "      <td>42</td>\n",
       "      <td>1</td>\n",
       "    </tr>\n",
       "  </tbody>\n",
       "</table>\n",
       "</div>"
      ],
      "text/plain": [
       "        id                        teacher_id teacher_prefix school_state  \\\n",
       "0  p036502  484aaf11257089a66cfedc9461c6bd0a            Ms.           NV   \n",
       "1  p039565  df72a3ba8089423fa8a94be88060f6ed           Mrs.           GA   \n",
       "2  p233823  a9b876a9252e08a55e3d894150f75ba3            Ms.           UT   \n",
       "3  p185307  525fdbb6ec7f538a48beebaa0a51b24f            Mr.           NC   \n",
       "4  p013780  a63b5547a7239eae4c1872670848e61a            Mr.           CA   \n",
       "\n",
       "  project_submitted_datetime project_grade_category  \\\n",
       "0        2016-11-18 14:45:59          Grades PreK-2   \n",
       "1        2017-04-26 15:57:28             Grades 3-5   \n",
       "2        2017-01-01 22:57:44             Grades 3-5   \n",
       "3        2016-08-12 15:42:11             Grades 3-5   \n",
       "4        2016-08-06 09:09:11             Grades 6-8   \n",
       "\n",
       "            project_subject_categories  \\\n",
       "0                  Literacy & Language   \n",
       "1    Music & The Arts, Health & Sports   \n",
       "2  Math & Science, Literacy & Language   \n",
       "3                      Health & Sports   \n",
       "4                      Health & Sports   \n",
       "\n",
       "            project_subject_subcategories  \\\n",
       "0                                Literacy   \n",
       "1            Performing Arts, Team Sports   \n",
       "2  Applied Sciences, Literature & Writing   \n",
       "3                       Health & Wellness   \n",
       "4                       Health & Wellness   \n",
       "\n",
       "                                       project_title  \\\n",
       "0                           Super Sight Word Centers   \n",
       "1                             Keep Calm and Dance On   \n",
       "2                              Lets 3Doodle to Learn   \n",
       "3  \\\"Kid Inspired\\\" Equipment to Increase Activit...   \n",
       "4   We need clean water for our culinary arts class!   \n",
       "\n",
       "                                     project_essay_1  \\\n",
       "0  Most of my kindergarten students come from low...   \n",
       "1  Our elementary school is a culturally rich sch...   \n",
       "2  Hello;\\r\\nMy name is Mrs. Brotherton. I teach ...   \n",
       "3  My students are the greatest students but are ...   \n",
       "4  My students are athletes and students who are ...   \n",
       "\n",
       "                                     project_essay_2 project_essay_3  \\\n",
       "0  I currently have a differentiated sight word c...             NaN   \n",
       "1  We strive to provide our diverse population of...             NaN   \n",
       "2  We are looking to add some 3Doodler to our cla...             NaN   \n",
       "3  The student's project which is totally \\\"kid-i...             NaN   \n",
       "4  For some reason in our kitchen the water comes...             NaN   \n",
       "\n",
       "  project_essay_4                           project_resource_summary  \\\n",
       "0             NaN  My students need 6 Ipod Nano's to create and d...   \n",
       "1             NaN  My students need matching shirts to wear for d...   \n",
       "2             NaN  My students need the 3doodler. We are an SEM s...   \n",
       "3             NaN  My students need balls and other activity equi...   \n",
       "4             NaN  My students need a water filtration system for...   \n",
       "\n",
       "   teacher_number_of_previously_posted_projects  project_is_approved  \n",
       "0                                            26                    1  \n",
       "1                                             1                    0  \n",
       "2                                             5                    1  \n",
       "3                                            16                    0  \n",
       "4                                            42                    1  "
      ]
     },
     "execution_count": 6,
     "metadata": {},
     "output_type": "execute_result"
    }
   ],
   "source": [
    "train_file.head()"
   ]
  },
  {
   "cell_type": "code",
   "execution_count": 7,
   "metadata": {},
   "outputs": [
    {
     "name": "stdout",
     "output_type": "stream",
     "text": [
      "<class 'pandas.core.frame.DataFrame'>\n",
      "RangeIndex: 182080 entries, 0 to 182079\n",
      "Data columns (total 14 columns):\n",
      "id                                              182080 non-null object\n",
      "teacher_id                                      182080 non-null object\n",
      "teacher_prefix                                  182076 non-null object\n",
      "school_state                                    182080 non-null object\n",
      "project_submitted_datetime                      182080 non-null object\n",
      "project_grade_category                          182080 non-null object\n",
      "project_subject_categories                      182080 non-null object\n",
      "project_subject_subcategories                   182080 non-null object\n",
      "project_title                                   182080 non-null object\n",
      "project_essay_1                                 182080 non-null object\n",
      "project_essay_2                                 182080 non-null object\n",
      "project_resource_summary                        182080 non-null object\n",
      "teacher_number_of_previously_posted_projects    182080 non-null int64\n",
      "project_is_approved                             182080 non-null int64\n",
      "dtypes: int64(2), object(12)\n",
      "memory usage: 19.4+ MB\n"
     ]
    }
   ],
   "source": [
    "update_train_file = train_file.drop(['project_essay_3', 'project_essay_4'], axis = 1)\n",
    "update_train_file.info()"
   ]
  },
  {
   "cell_type": "code",
   "execution_count": 13,
   "metadata": {},
   "outputs": [
    {
     "name": "stdout",
     "output_type": "stream",
     "text": [
      "================================================================================================================================================================\n",
      "teacher_prefix\n",
      "================================================================================================================================================================\n",
      "{'Mrs.': 95405, 'Ms.': 65066, 'Mr.': 17667, 'Teacher': 3912, 'Dr.': 26}\n",
      "================================================================================================================================================================\n",
      "school_state\n",
      "================================================================================================================================================================\n",
      "{'CA': 25695, 'TX': 12304, 'NY': 12157, 'FL': 10359, 'NC': 8463, 'IL': 7332, 'GA': 6636, 'SC': 6463, 'MI': 5324, 'PA': 5093, 'IN': 4314, 'MO': 4247, 'OH': 4139, 'MA': 4054, 'LA': 3946, 'WA': 3903, 'OK': 3829, 'NJ': 3671, 'AZ': 3614, 'VA': 3446, 'WI': 2983, 'AL': 2955, 'TN': 2836, 'UT': 2814, 'CT': 2766, 'MD': 2480, 'NV': 2297, 'MS': 2222, 'KY': 2172, 'OR': 2119, 'MN': 2055, 'CO': 1887, 'AR': 1757, 'ID': 1113, 'IA': 1079, 'KS': 1060, 'NM': 916, 'DC': 902, 'HI': 869, 'WV': 839, 'ME': 827, 'DE': 589, 'NH': 587, 'AK': 557, 'SD': 494, 'NE': 493, 'RI': 475, 'MT': 384, 'ND': 248, 'WY': 177, 'VT': 139}\n",
      "================================================================================================================================================================\n",
      "project_grade_category\n",
      "================================================================================================================================================================\n",
      "{'Grades PreK-2': 73890, 'Grades 3-5': 61682, 'Grades 6-8': 28197, 'Grades 9-12': 18311}\n",
      "================================================================================================================================================================\n",
      "project_subject_categories\n",
      "================================================================================================================================================================\n",
      "{'Literacy & Language': 39257, 'Math & Science': 28555, 'Literacy & Language, Math & Science': 24499, 'Health & Sports': 16951, 'Music & The Arts': 8527, 'Special Needs': 7065, 'Literacy & Language, Special Needs': 6685, 'Applied Learning': 6310, 'Math & Science, Literacy & Language': 3843, 'Applied Learning, Literacy & Language': 3725, 'History & Civics': 3065, 'Math & Science, Special Needs': 3010, 'Literacy & Language, Music & The Arts': 2878, 'Math & Science, Music & The Arts': 2761, 'Applied Learning, Special Needs': 2481, 'Health & Sports, Special Needs': 2368, 'History & Civics, Literacy & Language': 2288, 'Warmth, Care & Hunger': 2191, 'Math & Science, Applied Learning': 2071, 'Applied Learning, Math & Science': 1711, 'Literacy & Language, History & Civics': 1315, 'Health & Sports, Literacy & Language': 1308, 'Applied Learning, Music & The Arts': 1241, 'Math & Science, History & Civics': 1087, 'Literacy & Language, Applied Learning': 1038, 'Applied Learning, Health & Sports': 1018, 'Math & Science, Health & Sports': 697, 'History & Civics, Music & The Arts': 544, 'History & Civics, Math & Science': 525, 'Special Needs, Music & The Arts': 521, 'Health & Sports, Math & Science': 470, 'History & Civics, Special Needs': 417, 'Applied Learning, History & Civics': 303, 'Health & Sports, Applied Learning': 297, 'Health & Sports, Music & The Arts': 262, 'Music & The Arts, Special Needs': 235, 'Literacy & Language, Health & Sports': 127, 'Health & Sports, History & Civics': 67, 'History & Civics, Applied Learning': 65, 'Special Needs, Health & Sports': 64, 'Special Needs, Warmth, Care & Hunger': 35, 'Music & The Arts, Health & Sports': 32, 'Health & Sports, Warmth, Care & Hunger': 31, 'Music & The Arts, History & Civics': 29, 'Literacy & Language, Warmth, Care & Hunger': 25, 'Applied Learning, Warmth, Care & Hunger': 22, 'Music & The Arts, Applied Learning': 21, 'History & Civics, Health & Sports': 20, 'Math & Science, Warmth, Care & Hunger': 19, 'Music & The Arts, Warmth, Care & Hunger': 3, 'History & Civics, Warmth, Care & Hunger': 1}\n",
      "================================================================================================================================================================\n",
      "project_subject_subcategories\n",
      "================================================================================================================================================================\n",
      "{'Literacy': 15775, 'Literacy, Mathematics': 13863, 'Literature & Writing, Mathematics': 9976, 'Literacy, Literature & Writing': 9282, 'Mathematics': 9041, 'Literature & Writing': 7474, 'Special Needs': 7065, 'Health & Wellness': 5924, 'Applied Sciences, Mathematics': 5651, 'Literacy, Special Needs': 4091, 'Applied Sciences': 4037, 'Gym & Fitness, Health & Wellness': 3864, 'Visual Arts': 3671, 'ESL, Literacy': 3624, 'Music': 2427, 'Literature & Writing, Special Needs': 2244, 'Warmth, Care & Hunger': 2191, 'Health & Wellness, Special Needs': 2045, 'Gym & Fitness': 1960, 'Mathematics, Special Needs': 1948, 'Environmental Science': 1825, 'Team Sports': 1752, 'Environmental Science, Health & Life Science': 1672, 'Applied Sciences, Environmental Science': 1663, 'Music, Performing Arts': 1507, 'Early Development': 1498, 'Health & Life Science': 1439, 'Other': 1397, 'Environmental Science, Mathematics': 1387, 'Early Development, Special Needs': 1321, 'Health & Wellness, Nutrition Education': 1297, 'Early Development, Literacy': 1249, 'ESL, Literature & Writing': 1203, 'Literature & Writing, Visual Arts': 1118, 'Applied Sciences, Visual Arts': 1065, 'Gym & Fitness, Team Sports': 981, 'History & Geography, Literature & Writing': 954, 'Applied Sciences, Health & Life Science': 935, 'Health & Life Science, Mathematics': 905, 'Applied Sciences, Literacy': 894, 'History & Geography': 885, 'History & Geography, Literacy': 882, 'Literacy, Visual Arts': 877, 'Mathematics, Visual Arts': 785, 'Health & Wellness, Literacy': 740, 'Environmental Science, Literacy': 739, 'College & Career Prep': 737, 'Applied Sciences, College & Career Prep': 707, 'ESL': 703, 'Applied Sciences, Literature & Writing': 695, 'Performing Arts': 689, 'Literacy, Social Sciences': 661, 'Applied Sciences, Special Needs': 595, 'Foreign Languages': 595, 'Health & Wellness, Team Sports': 588, 'Character Education, Literacy': 572, 'Character Education': 549, 'Literature & Writing, Social Sciences': 528, 'History & Geography, Social Sciences': 524, 'Special Needs, Visual Arts': 521, 'Early Development, Health & Wellness': 515, 'College & Career Prep, Literature & Writing': 512, 'Health & Life Science, Literacy': 507, 'Environmental Science, Literature & Writing': 504, 'Early Development, Mathematics': 484, 'College & Career Prep, Mathematics': 482, 'Other, Special Needs': 480, 'Health & Wellness, Literature & Writing': 467, 'ESL, Mathematics': 466, 'Nutrition Education': 457, 'Civics & Government, History & Geography': 420, 'College & Career Prep, Literacy': 417, 'Early Development, Literature & Writing': 387, 'Health & Wellness, Mathematics': 382, 'Foreign Languages, Literacy': 371, 'Social Sciences': 354, 'Health & Life Science, Literature & Writing': 338, 'Environmental Science, Visual Arts': 336, 'Character Education, Special Needs': 334, 'ESL, Special Needs': 319, 'Literacy, Other': 311, 'Applied Sciences, Early Development': 298, 'History & Geography, Visual Arts': 290, 'Character Education, Literature & Writing': 287, 'Character Education, Early Development': 285, 'Financial Literacy': 273, 'Environmental Science, History & Geography': 267, 'Health & Life Science, Health & Wellness': 263, 'Early Development, Visual Arts': 263, 'Gym & Fitness, Special Needs': 261, 'Health & Wellness, Other': 256, 'Literacy, Parent Involvement': 254, 'Literacy, Music': 245, 'Environmental Science, Special Needs': 244, 'Civics & Government, Literacy': 227, 'Financial Literacy, Mathematics': 226, 'Applied Sciences, Extracurricular': 224, 'Extracurricular': 223, 'Health & Life Science, Special Needs': 223, 'Early Development, Other': 222, 'College & Career Prep, Special Needs': 219, 'Applied Sciences, Other': 210, 'History & Geography, Special Needs': 210, 'Literature & Writing, Other': 208, 'Literacy, Performing Arts': 205, 'College & Career Prep, Visual Arts': 205, 'Music, Special Needs': 200, 'Literature & Writing, Performing Arts': 195, 'Character Education, College & Career Prep': 194, 'Character Education, Health & Wellness': 193, 'History & Geography, Mathematics': 182, 'Mathematics, Other': 182, 'Health & Life Science, Visual Arts': 179, 'Character Education, Other': 166, 'Applied Sciences, History & Geography': 165, 'Extracurricular, Visual Arts': 164, 'Character Education, Mathematics': 164, 'College & Career Prep, Other': 160, 'Performing Arts, Visual Arts': 157, 'Economics, Financial Literacy': 153, 'Civics & Government': 140, 'Applied Sciences, ESL': 139, 'Foreign Languages, Literature & Writing': 135, 'Health & Life Science, Social Sciences': 134, 'Character Education, Visual Arts': 131, 'Mathematics, Social Sciences': 129, 'Civics & Government, Literature & Writing': 129, 'Environmental Science, Social Sciences': 124, 'Mathematics, Parent Involvement': 121, 'Civics & Government, Social Sciences': 119, 'Applied Sciences, Music': 117, 'ESL, Early Development': 115, 'Applied Sciences, Social Sciences': 115, 'Mathematics, Music': 113, 'Social Sciences, Visual Arts': 110, 'Character Education, Community Service': 109, 'Health & Life Science, History & Geography': 108, 'Gym & Fitness, Nutrition Education': 108, 'Applied Sciences, Parent Involvement': 107, 'Other, Visual Arts': 102, 'Character Education, Extracurricular': 98, 'Social Sciences, Special Needs': 97, 'ESL, Foreign Languages': 95, 'Early Development, Environmental Science': 93, 'Literature & Writing, Parent Involvement': 92, 'Extracurricular, Mathematics': 91, 'Applied Sciences, Character Education': 91, 'Community Service, Environmental Science': 89, 'Environmental Science, Health & Wellness': 88, 'Health & Life Science, Nutrition Education': 84, 'Financial Literacy, Special Needs': 83, 'Community Service': 79, 'Music, Visual Arts': 76, 'Parent Involvement': 76, 'ESL, Visual Arts': 74, 'Literature & Writing, Music': 74, 'Applied Sciences, Health & Wellness': 74, 'Environmental Science, Nutrition Education': 72, 'College & Career Prep, Health & Life Science': 72, 'Health & Wellness, Music': 70, 'Gym & Fitness, Literacy': 70, 'Extracurricular, Literacy': 68, 'College & Career Prep, Extracurricular': 68, 'Gym & Fitness, Mathematics': 67, 'Early Development, Parent Involvement': 67, 'Health & Wellness, Visual Arts': 67, 'ESL, Environmental Science': 66, 'Early Development, Health & Life Science': 65, 'Special Needs, Team Sports': 64, 'Nutrition Education, Special Needs': 62, 'Foreign Languages, Mathematics': 62, 'ESL, Health & Life Science': 61, 'Extracurricular, Other': 60, 'Early Development, Gym & Fitness': 59, 'Applied Sciences, Performing Arts': 58, 'Parent Involvement, Special Needs': 57, 'College & Career Prep, Environmental Science': 57, 'ESL, History & Geography': 54, 'Character Education, Parent Involvement': 54, 'Mathematics, Performing Arts': 53, 'Parent Involvement, Visual Arts': 53, 'History & Geography, Music': 52, 'Economics': 51, 'College & Career Prep, Parent Involvement': 48, 'College & Career Prep, Social Sciences': 48, 'Community Service, Visual Arts': 47, 'ESL, Health & Wellness': 46, 'Gym & Fitness, Music': 46, 'College & Career Prep, Community Service': 45, 'Extracurricular, Team Sports': 45, 'Civics & Government, Economics': 45, 'College & Career Prep, History & Geography': 43, 'Community Service, Literature & Writing': 43, 'College & Career Prep, Early Development': 42, 'Community Service, Special Needs': 41, 'Early Development, Music': 41, 'Extracurricular, Literature & Writing': 40, 'Early Development, Performing Arts': 40, 'Financial Literacy, Literacy': 38, 'Economics, History & Geography': 37, 'College & Career Prep, Financial Literacy': 36, 'College & Career Prep, Health & Wellness': 36, 'Performing Arts, Special Needs': 35, 'Character Education, Environmental Science': 35, 'Special Needs, Warmth, Care & Hunger': 35, 'Health & Wellness, History & Geography': 34, 'Economics, Mathematics': 34, 'Extracurricular, Music': 34, 'College & Career Prep, Foreign Languages': 34, 'History & Geography, Performing Arts': 34, 'Community Service, Literacy': 34, 'Character Education, Music': 33, 'College & Career Prep, Performing Arts': 32, 'Character Education, Health & Life Science': 32, 'Character Education, Team Sports': 32, 'Gym & Fitness, Literature & Writing': 31, 'Foreign Languages, Special Needs': 31, 'Character Education, ESL': 30, 'Character Education, Social Sciences': 30, 'Extracurricular, Performing Arts': 29, 'Applied Sciences, Community Service': 29, 'Extracurricular, Special Needs': 29, 'Extracurricular, Health & Wellness': 28, 'Civics & Government, Environmental Science': 27, 'ESL, Social Sciences': 26, 'Community Service, Mathematics': 26, 'Foreign Languages, History & Geography': 26, 'Health & Wellness, Performing Arts': 25, 'Literacy, Team Sports': 25, 'Community Service, Extracurricular': 25, 'Foreign Languages, Visual Arts': 25, 'Mathematics, Nutrition Education': 25, 'College & Career Prep, ESL': 24, 'Health & Wellness, Warmth, Care & Hunger': 24, 'Financial Literacy, Literature & Writing': 24, 'College & Career Prep, Music': 24, 'Environmental Science, Other': 23, 'Environmental Science, Performing Arts': 23, 'Civics & Government, Health & Life Science': 23, 'Economics, Social Sciences': 23, 'Civics & Government, Financial Literacy': 23, 'Character Education, History & Geography': 23, 'Civics & Government, Special Needs': 22, 'Community Service, Parent Involvement': 22, 'Health & Wellness, Social Sciences': 22, 'Early Development, Social Sciences': 22, 'Other, Parent Involvement': 21, 'Performing Arts, Team Sports': 21, 'Gym & Fitness, Health & Life Science': 21, 'Health & Life Science, Parent Involvement': 21, 'ESL, Music': 21, 'Health & Life Science, Other': 21, 'ESL, Other': 21, 'Community Service, Health & Wellness': 21, 'Gym & Fitness, Visual Arts': 21, 'Mathematics, Team Sports': 20, 'Civics & Government, Visual Arts': 20, 'Early Development, Extracurricular': 20, 'ESL, Performing Arts': 20, 'Nutrition Education, Team Sports': 20, 'Economics, Literacy': 19, 'Character Education, Performing Arts': 19, 'Environmental Science, Parent Involvement': 19, 'Environmental Science, Extracurricular': 18, 'ESL, Parent Involvement': 18, 'Gym & Fitness, Performing Arts': 18, 'Applied Sciences, Gym & Fitness': 18, 'Applied Sciences, Civics & Government': 18, 'Foreign Languages, Music': 17, 'History & Geography, Other': 17, 'Community Service, Early Development': 17, 'Performing Arts, Social Sciences': 16, 'Early Development, Nutrition Education': 16, 'Gym & Fitness, Other': 15, 'Applied Sciences, Foreign Languages': 15, 'Civics & Government, College & Career Prep': 15, 'College & Career Prep, Nutrition Education': 15, 'Character Education, Foreign Languages': 15, 'Health & Life Science, Team Sports': 15, 'Applied Sciences, Team Sports': 14, 'Community Service, Other': 14, 'Financial Literacy, History & Geography': 14, 'Environmental Science, Music': 14, 'Community Service, Health & Life Science': 14, 'Extracurricular, Parent Involvement': 14, 'Civics & Government, Mathematics': 14, 'Literacy, Nutrition Education': 13, 'Literacy, Warmth, Care & Hunger': 13, 'Music, Social Sciences': 13, 'Foreign Languages, Health & Wellness': 13, 'Civics & Government, Community Service': 13, 'Applied Sciences, Financial Literacy': 13, 'Financial Literacy, Visual Arts': 12, 'Literature & Writing, Warmth, Care & Hunger': 12, 'Nutrition Education, Other': 12, 'Environmental Science, Foreign Languages': 12, 'Literature & Writing, Team Sports': 12, 'Economics, Visual Arts': 12, 'Parent Involvement, Performing Arts': 12, 'Foreign Languages, Social Sciences': 11, 'Music, Other': 11, 'Character Education, Gym & Fitness': 11, 'Music, Parent Involvement': 10, 'Health & Wellness, Parent Involvement': 10, 'Environmental Science, Gym & Fitness': 10, 'Extracurricular, Gym & Fitness': 10, 'Community Service, Social Sciences': 10, 'Music, Team Sports': 10, 'Economics, Environmental Science': 10, 'Applied Sciences, Nutrition Education': 10, 'Team Sports, Visual Arts': 9, 'Character Education, Civics & Government': 9, 'Parent Involvement, Social Sciences': 9, 'Civics & Government, Performing Arts': 9, 'Health & Life Science, Music': 9, 'Character Education, Financial Literacy': 9, 'Health & Life Science, Performing Arts': 9, 'Community Service, History & Geography': 8, 'ESL, Financial Literacy': 8, 'ESL, Extracurricular': 8, 'Environmental Science, Financial Literacy': 8, 'Extracurricular, History & Geography': 8, 'College & Career Prep, Economics': 8, 'Foreign Languages, Other': 8, 'Other, Team Sports': 7, 'Early Development, Financial Literacy': 7, 'Early Development, Foreign Languages': 7, 'Environmental Science, Warmth, Care & Hunger': 7, 'Extracurricular, Health & Life Science': 7, 'Character Education, Warmth, Care & Hunger': 7, 'Foreign Languages, Performing Arts': 7, 'Civics & Government, ESL': 6, 'Gym & Fitness, History & Geography': 6, 'Financial Literacy, Other': 6, 'Nutrition Education, Warmth, Care & Hunger': 6, 'Community Service, Nutrition Education': 6, 'Other, Social Sciences': 6, 'Applied Sciences, Economics': 6, 'Nutrition Education, Visual Arts': 6, 'Economics, Special Needs': 5, 'Extracurricular, Nutrition Education': 5, 'Early Development, Team Sports': 5, 'Extracurricular, Social Sciences': 5, 'College & Career Prep, Team Sports': 5, 'Literature & Writing, Nutrition Education': 5, 'Community Service, Economics': 5, 'Other, Performing Arts': 5, 'Economics, Literature & Writing': 5, 'ESL, Nutrition Education': 5, 'History & Geography, Parent Involvement': 5, 'Civics & Government, Health & Wellness': 5, 'Mathematics, Warmth, Care & Hunger': 5, 'Other, Warmth, Care & Hunger': 5, 'Foreign Languages, Health & Life Science': 5, 'Economics, Health & Life Science': 5, 'Early Development, History & Geography': 5, 'Early Development, Warmth, Care & Hunger': 4, 'Community Service, Music': 4, 'Financial Literacy, Social Sciences': 4, 'Community Service, ESL': 4, 'Character Education, Economics': 4, 'Financial Literacy, Health & Life Science': 4, 'Health & Life Science, Warmth, Care & Hunger': 4, 'Extracurricular, Financial Literacy': 4, 'History & Geography, Team Sports': 4, 'Environmental Science, Team Sports': 4, 'Social Sciences, Team Sports': 4, 'Nutrition Education, Social Sciences': 4, 'Community Service, Performing Arts': 3, 'ESL, Gym & Fitness': 3, 'Applied Sciences, Warmth, Care & Hunger': 3, 'Civics & Government, Team Sports': 3, 'Visual Arts, Warmth, Care & Hunger': 3, 'Civics & Government, Extracurricular': 3, 'Character Education, Nutrition Education': 3, 'College & Career Prep, Gym & Fitness': 3, 'College & Career Prep, Warmth, Care & Hunger': 3, 'Foreign Languages, Gym & Fitness': 3, 'Foreign Languages, Parent Involvement': 3, 'Civics & Government, Foreign Languages': 2, 'ESL, Team Sports': 2, 'Nutrition Education, Parent Involvement': 2, 'Financial Literacy, Music': 2, 'Financial Literacy, Performing Arts': 2, 'Financial Literacy, Parent Involvement': 2, 'Community Service, Gym & Fitness': 2, 'Early Development, Economics': 2, 'Extracurricular, Foreign Languages': 2, 'Parent Involvement, Warmth, Care & Hunger': 2, 'Community Service, Financial Literacy': 2, 'Financial Literacy, Health & Wellness': 2, 'Gym & Fitness, Parent Involvement': 2, 'Economics, Other': 2, 'Economics, Foreign Languages': 1, 'Gym & Fitness, Warmth, Care & Hunger': 1, 'Gym & Fitness, Social Sciences': 1, 'Parent Involvement, Team Sports': 1, 'Economics, Music': 1, 'Economics, Extracurricular': 1, 'ESL, Economics': 1, 'Civics & Government, Parent Involvement': 1, 'Civics & Government, Nutrition Education': 1, 'Extracurricular, Warmth, Care & Hunger': 1, 'Economics, Nutrition Education': 1, 'Music, Nutrition Education': 1, 'Financial Literacy, Foreign Languages': 1, 'History & Geography, Warmth, Care & Hunger': 1}\n"
     ]
    }
   ],
   "source": [
    "array_dict,train_array = {},{}\n",
    "numpy_array_file = np.array([])\n",
    "for key in ['teacher_prefix', 'school_state','project_grade_category', 'project_subject_categories', 'project_subject_subcategories']:\n",
    "    numpy_array_file = update_train_file[key]\n",
    "    array_dict = dict(numpy_array_file.value_counts())\n",
    "    train_array[key] = array_dict\n",
    "    print (\"==\" * 80)\n",
    "    print (key)\n",
    "    print (\"==\" * 80)\n",
    "    print (array_dict)"
   ]
  },
  {
   "cell_type": "code",
   "execution_count": 14,
   "metadata": {},
   "outputs": [],
   "source": [
    "from sklearn import preprocessing"
   ]
  },
  {
   "cell_type": "code",
   "execution_count": 26,
   "metadata": {},
   "outputs": [
    {
     "data": {
      "text/plain": [
       "array([[1, 0, 0, ..., 0, 0, 0],\n",
       "       [0, 0, 0, ..., 0, 0, 0],\n",
       "       [0, 0, 0, ..., 0, 0, 0],\n",
       "       ..., \n",
       "       [0, 0, 0, ..., 0, 0, 0],\n",
       "       [0, 0, 0, ..., 0, 0, 0],\n",
       "       [1, 0, 0, ..., 0, 0, 0]])"
      ]
     },
     "execution_count": 26,
     "metadata": {},
     "output_type": "execute_result"
    }
   ],
   "source": [
    "binarize_subcategories = update_train_file['project_subject_subcategories']\n",
    "binarize_dict = binarize_subcategories.value_counts()\n",
    "binarized_class = preprocessing.label_binarize(binarize_subcategories, binarize_dict.keys())\n",
    "binarized_class[:10]"
   ]
  },
  {
   "cell_type": "code",
   "execution_count": 27,
   "metadata": {},
   "outputs": [
    {
     "data": {
      "text/plain": [
       "(182080, 407)"
      ]
     },
     "execution_count": 27,
     "metadata": {},
     "output_type": "execute_result"
    }
   ],
   "source": [
    "binarized_class.shape"
   ]
  },
  {
   "cell_type": "code",
   "execution_count": 28,
   "metadata": {},
   "outputs": [],
   "source": [
    "import seaborn as sns"
   ]
  },
  {
   "cell_type": "code",
   "execution_count": 30,
   "metadata": {},
   "outputs": [],
   "source": [
    "wprking_file =  train_file.head(500)"
   ]
  },
  {
   "cell_type": "code",
   "execution_count": null,
   "metadata": {},
   "outputs": [],
   "source": []
  }
 ],
 "metadata": {
  "kernelspec": {
   "display_name": "Python 3",
   "language": "python",
   "name": "python3"
  },
  "language_info": {
   "codemirror_mode": {
    "name": "ipython",
    "version": 3
   },
   "file_extension": ".py",
   "mimetype": "text/x-python",
   "name": "python",
   "nbconvert_exporter": "python",
   "pygments_lexer": "ipython3",
   "version": "3.6.1"
  }
 },
 "nbformat": 4,
 "nbformat_minor": 2
}
