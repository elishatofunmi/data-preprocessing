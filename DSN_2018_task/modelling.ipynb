{
 "cells": [
  {
   "cell_type": "code",
   "execution_count": 97,
   "metadata": {
    "collapsed": true
   },
   "outputs": [],
   "source": [
    "import pandas as pd\n",
    "import numpy as np\n",
    "import scipy as sp\n",
    "import matplotlib.pyplot as plt"
   ]
  },
  {
   "cell_type": "code",
   "execution_count": 98,
   "metadata": {},
   "outputs": [
    {
     "data": {
      "text/html": [
       "<div>\n",
       "<style>\n",
       "    .dataframe thead tr:only-child th {\n",
       "        text-align: right;\n",
       "    }\n",
       "\n",
       "    .dataframe thead th {\n",
       "        text-align: left;\n",
       "    }\n",
       "\n",
       "    .dataframe tbody tr th {\n",
       "        vertical-align: top;\n",
       "    }\n",
       "</style>\n",
       "<table border=\"1\" class=\"dataframe\">\n",
       "  <thead>\n",
       "    <tr style=\"text-align: right;\">\n",
       "      <th></th>\n",
       "      <th>Unnamed: 0</th>\n",
       "      <th>systemloanid</th>\n",
       "      <th>loannumber</th>\n",
       "      <th>loanamount</th>\n",
       "      <th>totaldue</th>\n",
       "      <th>termdays</th>\n",
       "      <th>good_bad_flag</th>\n",
       "      <th>bank_account_type</th>\n",
       "      <th>birthdate</th>\n",
       "      <th>bank_name_clients_Access Bank</th>\n",
       "      <th>...</th>\n",
       "      <th>bank_name_clients_Keystone Bank</th>\n",
       "      <th>bank_name_clients_Skye Bank</th>\n",
       "      <th>bank_name_clients_Stanbic IBTC</th>\n",
       "      <th>bank_name_clients_Standard Chartered</th>\n",
       "      <th>bank_name_clients_Sterling Bank</th>\n",
       "      <th>bank_name_clients_UBA</th>\n",
       "      <th>bank_name_clients_Union Bank</th>\n",
       "      <th>bank_name_clients_Unity Bank</th>\n",
       "      <th>bank_name_clients_Wema Bank</th>\n",
       "      <th>bank_name_clients_Zenith Bank</th>\n",
       "    </tr>\n",
       "  </thead>\n",
       "  <tbody>\n",
       "    <tr>\n",
       "      <th>0</th>\n",
       "      <td>0</td>\n",
       "      <td>301994762</td>\n",
       "      <td>12</td>\n",
       "      <td>30000.0</td>\n",
       "      <td>34500.0</td>\n",
       "      <td>30</td>\n",
       "      <td>1</td>\n",
       "      <td>3.0</td>\n",
       "      <td>46.0</td>\n",
       "      <td>0</td>\n",
       "      <td>...</td>\n",
       "      <td>0</td>\n",
       "      <td>0</td>\n",
       "      <td>0</td>\n",
       "      <td>0</td>\n",
       "      <td>0</td>\n",
       "      <td>0</td>\n",
       "      <td>0</td>\n",
       "      <td>0</td>\n",
       "      <td>0</td>\n",
       "      <td>0</td>\n",
       "    </tr>\n",
       "    <tr>\n",
       "      <th>1</th>\n",
       "      <td>1</td>\n",
       "      <td>301965204</td>\n",
       "      <td>2</td>\n",
       "      <td>15000.0</td>\n",
       "      <td>17250.0</td>\n",
       "      <td>30</td>\n",
       "      <td>1</td>\n",
       "      <td>2.0</td>\n",
       "      <td>33.0</td>\n",
       "      <td>0</td>\n",
       "      <td>...</td>\n",
       "      <td>0</td>\n",
       "      <td>0</td>\n",
       "      <td>0</td>\n",
       "      <td>0</td>\n",
       "      <td>0</td>\n",
       "      <td>0</td>\n",
       "      <td>0</td>\n",
       "      <td>0</td>\n",
       "      <td>0</td>\n",
       "      <td>0</td>\n",
       "    </tr>\n",
       "    <tr>\n",
       "      <th>2</th>\n",
       "      <td>2</td>\n",
       "      <td>301966580</td>\n",
       "      <td>7</td>\n",
       "      <td>20000.0</td>\n",
       "      <td>22250.0</td>\n",
       "      <td>15</td>\n",
       "      <td>1</td>\n",
       "      <td>3.0</td>\n",
       "      <td>34.0</td>\n",
       "      <td>0</td>\n",
       "      <td>...</td>\n",
       "      <td>0</td>\n",
       "      <td>0</td>\n",
       "      <td>0</td>\n",
       "      <td>0</td>\n",
       "      <td>0</td>\n",
       "      <td>0</td>\n",
       "      <td>0</td>\n",
       "      <td>0</td>\n",
       "      <td>0</td>\n",
       "      <td>0</td>\n",
       "    </tr>\n",
       "    <tr>\n",
       "      <th>3</th>\n",
       "      <td>3</td>\n",
       "      <td>301999343</td>\n",
       "      <td>3</td>\n",
       "      <td>10000.0</td>\n",
       "      <td>11500.0</td>\n",
       "      <td>15</td>\n",
       "      <td>1</td>\n",
       "      <td>2.0</td>\n",
       "      <td>41.0</td>\n",
       "      <td>0</td>\n",
       "      <td>...</td>\n",
       "      <td>0</td>\n",
       "      <td>0</td>\n",
       "      <td>0</td>\n",
       "      <td>0</td>\n",
       "      <td>0</td>\n",
       "      <td>0</td>\n",
       "      <td>0</td>\n",
       "      <td>0</td>\n",
       "      <td>0</td>\n",
       "      <td>0</td>\n",
       "    </tr>\n",
       "    <tr>\n",
       "      <th>4</th>\n",
       "      <td>4</td>\n",
       "      <td>301962360</td>\n",
       "      <td>9</td>\n",
       "      <td>40000.0</td>\n",
       "      <td>44000.0</td>\n",
       "      <td>30</td>\n",
       "      <td>1</td>\n",
       "      <td>3.0</td>\n",
       "      <td>32.0</td>\n",
       "      <td>0</td>\n",
       "      <td>...</td>\n",
       "      <td>0</td>\n",
       "      <td>0</td>\n",
       "      <td>0</td>\n",
       "      <td>0</td>\n",
       "      <td>0</td>\n",
       "      <td>0</td>\n",
       "      <td>0</td>\n",
       "      <td>0</td>\n",
       "      <td>0</td>\n",
       "      <td>0</td>\n",
       "    </tr>\n",
       "  </tbody>\n",
       "</table>\n",
       "<p>5 rows × 27 columns</p>\n",
       "</div>"
      ],
      "text/plain": [
       "   Unnamed: 0  systemloanid  loannumber  loanamount  totaldue  termdays  \\\n",
       "0           0     301994762          12     30000.0   34500.0        30   \n",
       "1           1     301965204           2     15000.0   17250.0        30   \n",
       "2           2     301966580           7     20000.0   22250.0        15   \n",
       "3           3     301999343           3     10000.0   11500.0        15   \n",
       "4           4     301962360           9     40000.0   44000.0        30   \n",
       "\n",
       "   good_bad_flag  bank_account_type  birthdate  bank_name_clients_Access Bank  \\\n",
       "0              1                3.0       46.0                              0   \n",
       "1              1                2.0       33.0                              0   \n",
       "2              1                3.0       34.0                              0   \n",
       "3              1                2.0       41.0                              0   \n",
       "4              1                3.0       32.0                              0   \n",
       "\n",
       "               ...                bank_name_clients_Keystone Bank  \\\n",
       "0              ...                                              0   \n",
       "1              ...                                              0   \n",
       "2              ...                                              0   \n",
       "3              ...                                              0   \n",
       "4              ...                                              0   \n",
       "\n",
       "   bank_name_clients_Skye Bank  bank_name_clients_Stanbic IBTC  \\\n",
       "0                            0                               0   \n",
       "1                            0                               0   \n",
       "2                            0                               0   \n",
       "3                            0                               0   \n",
       "4                            0                               0   \n",
       "\n",
       "   bank_name_clients_Standard Chartered  bank_name_clients_Sterling Bank  \\\n",
       "0                                     0                                0   \n",
       "1                                     0                                0   \n",
       "2                                     0                                0   \n",
       "3                                     0                                0   \n",
       "4                                     0                                0   \n",
       "\n",
       "   bank_name_clients_UBA  bank_name_clients_Union Bank  \\\n",
       "0                      0                             0   \n",
       "1                      0                             0   \n",
       "2                      0                             0   \n",
       "3                      0                             0   \n",
       "4                      0                             0   \n",
       "\n",
       "   bank_name_clients_Unity Bank  bank_name_clients_Wema Bank  \\\n",
       "0                             0                            0   \n",
       "1                             0                            0   \n",
       "2                             0                            0   \n",
       "3                             0                            0   \n",
       "4                             0                            0   \n",
       "\n",
       "   bank_name_clients_Zenith Bank  \n",
       "0                              0  \n",
       "1                              0  \n",
       "2                              0  \n",
       "3                              0  \n",
       "4                              0  \n",
       "\n",
       "[5 rows x 27 columns]"
      ]
     },
     "execution_count": 98,
     "metadata": {},
     "output_type": "execute_result"
    }
   ],
   "source": [
    "model_data = pd.read_csv('modelled_data.csv')\n",
    "model_data.head()"
   ]
  },
  {
   "cell_type": "code",
   "execution_count": 99,
   "metadata": {},
   "outputs": [
    {
     "data": {
      "text/html": [
       "<div>\n",
       "<style>\n",
       "    .dataframe thead tr:only-child th {\n",
       "        text-align: right;\n",
       "    }\n",
       "\n",
       "    .dataframe thead th {\n",
       "        text-align: left;\n",
       "    }\n",
       "\n",
       "    .dataframe tbody tr th {\n",
       "        vertical-align: top;\n",
       "    }\n",
       "</style>\n",
       "<table border=\"1\" class=\"dataframe\">\n",
       "  <thead>\n",
       "    <tr style=\"text-align: right;\">\n",
       "      <th></th>\n",
       "      <th>loannumber</th>\n",
       "      <th>loanamount</th>\n",
       "      <th>totaldue</th>\n",
       "      <th>termdays</th>\n",
       "      <th>good_bad_flag</th>\n",
       "      <th>bank_account_type</th>\n",
       "      <th>birthdate</th>\n",
       "      <th>bank_name_clients_Access Bank</th>\n",
       "      <th>bank_name_clients_Diamond Bank</th>\n",
       "      <th>bank_name_clients_EcoBank</th>\n",
       "      <th>...</th>\n",
       "      <th>bank_name_clients_Keystone Bank</th>\n",
       "      <th>bank_name_clients_Skye Bank</th>\n",
       "      <th>bank_name_clients_Stanbic IBTC</th>\n",
       "      <th>bank_name_clients_Standard Chartered</th>\n",
       "      <th>bank_name_clients_Sterling Bank</th>\n",
       "      <th>bank_name_clients_UBA</th>\n",
       "      <th>bank_name_clients_Union Bank</th>\n",
       "      <th>bank_name_clients_Unity Bank</th>\n",
       "      <th>bank_name_clients_Wema Bank</th>\n",
       "      <th>bank_name_clients_Zenith Bank</th>\n",
       "    </tr>\n",
       "  </thead>\n",
       "  <tbody>\n",
       "    <tr>\n",
       "      <th>0</th>\n",
       "      <td>12</td>\n",
       "      <td>30000.0</td>\n",
       "      <td>34500.0</td>\n",
       "      <td>30</td>\n",
       "      <td>1</td>\n",
       "      <td>3.0</td>\n",
       "      <td>46.0</td>\n",
       "      <td>0</td>\n",
       "      <td>1</td>\n",
       "      <td>0</td>\n",
       "      <td>...</td>\n",
       "      <td>0</td>\n",
       "      <td>0</td>\n",
       "      <td>0</td>\n",
       "      <td>0</td>\n",
       "      <td>0</td>\n",
       "      <td>0</td>\n",
       "      <td>0</td>\n",
       "      <td>0</td>\n",
       "      <td>0</td>\n",
       "      <td>0</td>\n",
       "    </tr>\n",
       "    <tr>\n",
       "      <th>1</th>\n",
       "      <td>2</td>\n",
       "      <td>15000.0</td>\n",
       "      <td>17250.0</td>\n",
       "      <td>30</td>\n",
       "      <td>1</td>\n",
       "      <td>2.0</td>\n",
       "      <td>33.0</td>\n",
       "      <td>0</td>\n",
       "      <td>0</td>\n",
       "      <td>0</td>\n",
       "      <td>...</td>\n",
       "      <td>0</td>\n",
       "      <td>0</td>\n",
       "      <td>0</td>\n",
       "      <td>0</td>\n",
       "      <td>0</td>\n",
       "      <td>0</td>\n",
       "      <td>0</td>\n",
       "      <td>0</td>\n",
       "      <td>0</td>\n",
       "      <td>0</td>\n",
       "    </tr>\n",
       "    <tr>\n",
       "      <th>2</th>\n",
       "      <td>7</td>\n",
       "      <td>20000.0</td>\n",
       "      <td>22250.0</td>\n",
       "      <td>15</td>\n",
       "      <td>1</td>\n",
       "      <td>3.0</td>\n",
       "      <td>34.0</td>\n",
       "      <td>0</td>\n",
       "      <td>0</td>\n",
       "      <td>1</td>\n",
       "      <td>...</td>\n",
       "      <td>0</td>\n",
       "      <td>0</td>\n",
       "      <td>0</td>\n",
       "      <td>0</td>\n",
       "      <td>0</td>\n",
       "      <td>0</td>\n",
       "      <td>0</td>\n",
       "      <td>0</td>\n",
       "      <td>0</td>\n",
       "      <td>0</td>\n",
       "    </tr>\n",
       "    <tr>\n",
       "      <th>3</th>\n",
       "      <td>3</td>\n",
       "      <td>10000.0</td>\n",
       "      <td>11500.0</td>\n",
       "      <td>15</td>\n",
       "      <td>1</td>\n",
       "      <td>2.0</td>\n",
       "      <td>41.0</td>\n",
       "      <td>0</td>\n",
       "      <td>0</td>\n",
       "      <td>0</td>\n",
       "      <td>...</td>\n",
       "      <td>0</td>\n",
       "      <td>0</td>\n",
       "      <td>0</td>\n",
       "      <td>0</td>\n",
       "      <td>0</td>\n",
       "      <td>0</td>\n",
       "      <td>0</td>\n",
       "      <td>0</td>\n",
       "      <td>0</td>\n",
       "      <td>0</td>\n",
       "    </tr>\n",
       "    <tr>\n",
       "      <th>4</th>\n",
       "      <td>9</td>\n",
       "      <td>40000.0</td>\n",
       "      <td>44000.0</td>\n",
       "      <td>30</td>\n",
       "      <td>1</td>\n",
       "      <td>3.0</td>\n",
       "      <td>32.0</td>\n",
       "      <td>0</td>\n",
       "      <td>0</td>\n",
       "      <td>0</td>\n",
       "      <td>...</td>\n",
       "      <td>0</td>\n",
       "      <td>0</td>\n",
       "      <td>0</td>\n",
       "      <td>0</td>\n",
       "      <td>0</td>\n",
       "      <td>0</td>\n",
       "      <td>0</td>\n",
       "      <td>0</td>\n",
       "      <td>0</td>\n",
       "      <td>0</td>\n",
       "    </tr>\n",
       "  </tbody>\n",
       "</table>\n",
       "<p>5 rows × 25 columns</p>\n",
       "</div>"
      ],
      "text/plain": [
       "   loannumber  loanamount  totaldue  termdays  good_bad_flag  \\\n",
       "0          12     30000.0   34500.0        30              1   \n",
       "1           2     15000.0   17250.0        30              1   \n",
       "2           7     20000.0   22250.0        15              1   \n",
       "3           3     10000.0   11500.0        15              1   \n",
       "4           9     40000.0   44000.0        30              1   \n",
       "\n",
       "   bank_account_type  birthdate  bank_name_clients_Access Bank  \\\n",
       "0                3.0       46.0                              0   \n",
       "1                2.0       33.0                              0   \n",
       "2                3.0       34.0                              0   \n",
       "3                2.0       41.0                              0   \n",
       "4                3.0       32.0                              0   \n",
       "\n",
       "   bank_name_clients_Diamond Bank  bank_name_clients_EcoBank  \\\n",
       "0                               1                          0   \n",
       "1                               0                          0   \n",
       "2                               0                          1   \n",
       "3                               0                          0   \n",
       "4                               0                          0   \n",
       "\n",
       "               ...                bank_name_clients_Keystone Bank  \\\n",
       "0              ...                                              0   \n",
       "1              ...                                              0   \n",
       "2              ...                                              0   \n",
       "3              ...                                              0   \n",
       "4              ...                                              0   \n",
       "\n",
       "   bank_name_clients_Skye Bank  bank_name_clients_Stanbic IBTC  \\\n",
       "0                            0                               0   \n",
       "1                            0                               0   \n",
       "2                            0                               0   \n",
       "3                            0                               0   \n",
       "4                            0                               0   \n",
       "\n",
       "   bank_name_clients_Standard Chartered  bank_name_clients_Sterling Bank  \\\n",
       "0                                     0                                0   \n",
       "1                                     0                                0   \n",
       "2                                     0                                0   \n",
       "3                                     0                                0   \n",
       "4                                     0                                0   \n",
       "\n",
       "   bank_name_clients_UBA  bank_name_clients_Union Bank  \\\n",
       "0                      0                             0   \n",
       "1                      0                             0   \n",
       "2                      0                             0   \n",
       "3                      0                             0   \n",
       "4                      0                             0   \n",
       "\n",
       "   bank_name_clients_Unity Bank  bank_name_clients_Wema Bank  \\\n",
       "0                             0                            0   \n",
       "1                             0                            0   \n",
       "2                             0                            0   \n",
       "3                             0                            0   \n",
       "4                             0                            0   \n",
       "\n",
       "   bank_name_clients_Zenith Bank  \n",
       "0                              0  \n",
       "1                              0  \n",
       "2                              0  \n",
       "3                              0  \n",
       "4                              0  \n",
       "\n",
       "[5 rows x 25 columns]"
      ]
     },
     "execution_count": 99,
     "metadata": {},
     "output_type": "execute_result"
    }
   ],
   "source": [
    "check_data = model_data\n",
    "data = check_data.drop(['Unnamed: 0', 'systemloanid'], axis = 1)\n",
    "data.head()"
   ]
  },
  {
   "cell_type": "code",
   "execution_count": 100,
   "metadata": {},
   "outputs": [
    {
     "name": "stdout",
     "output_type": "stream",
     "text": [
      "there are  0  nan values in the column loannumber in our data\n",
      "there are  0  nan values in the column loanamount in our data\n",
      "there are  0  nan values in the column totaldue in our data\n",
      "there are  0  nan values in the column termdays in our data\n",
      "there are  0  nan values in the column good_bad_flag in our data\n",
      "there are  1099  nan values in the column bank_account_type in our data\n",
      "there are  1099  nan values in the column birthdate in our data\n",
      "there are  0  nan values in the column bank_name_clients_Access Bank in our data\n",
      "there are  0  nan values in the column bank_name_clients_Diamond Bank in our data\n",
      "there are  0  nan values in the column bank_name_clients_EcoBank in our data\n",
      "there are  0  nan values in the column bank_name_clients_FCMB in our data\n",
      "there are  0  nan values in the column bank_name_clients_Fidelity Bank in our data\n",
      "there are  0  nan values in the column bank_name_clients_First Bank in our data\n",
      "there are  0  nan values in the column bank_name_clients_GT Bank in our data\n",
      "there are  0  nan values in the column bank_name_clients_Heritage Bank in our data\n",
      "there are  0  nan values in the column bank_name_clients_Keystone Bank in our data\n",
      "there are  0  nan values in the column bank_name_clients_Skye Bank in our data\n",
      "there are  0  nan values in the column bank_name_clients_Stanbic IBTC in our data\n",
      "there are  0  nan values in the column bank_name_clients_Standard Chartered in our data\n",
      "there are  0  nan values in the column bank_name_clients_Sterling Bank in our data\n",
      "there are  0  nan values in the column bank_name_clients_UBA in our data\n",
      "there are  0  nan values in the column bank_name_clients_Union Bank in our data\n",
      "there are  0  nan values in the column bank_name_clients_Unity Bank in our data\n",
      "there are  0  nan values in the column bank_name_clients_Wema Bank in our data\n",
      "there are  0  nan values in the column bank_name_clients_Zenith Bank in our data\n"
     ]
    }
   ],
   "source": [
    "def report_nan(data,list_column = ['bank_account_type', 'bank_name_clients','birthdate']):\n",
    "    for k in list_column:\n",
    "        nan_values = sum([1 if np.isnan(l) else 0 for l in data[k]])\n",
    "        print ('there are ', nan_values, ' nan values in the column', k, 'in our data')\n",
    "    return\n",
    "\n",
    "report_nan(data, list_column = data.keys())"
   ]
  },
  {
   "cell_type": "code",
   "execution_count": 101,
   "metadata": {},
   "outputs": [],
   "source": [
    "data = data.drop(['bank_account_type','birthdate','bank_name_clients_Keystone Bank'], axis = 1)"
   ]
  },
  {
   "cell_type": "markdown",
   "metadata": {},
   "source": [
    "# scaling,spliting and normalizing our data"
   ]
  },
  {
   "cell_type": "code",
   "execution_count": 102,
   "metadata": {
    "collapsed": true
   },
   "outputs": [],
   "source": [
    "from sklearn.preprocessing import MinMaxScaler, StandardScaler, normalize"
   ]
  },
  {
   "cell_type": "code",
   "execution_count": 103,
   "metadata": {
    "collapsed": true
   },
   "outputs": [],
   "source": [
    "minmax = MinMaxScaler()\n",
    "std_scale = StandardScaler()"
   ]
  },
  {
   "cell_type": "code",
   "execution_count": 104,
   "metadata": {
    "collapsed": true
   },
   "outputs": [],
   "source": [
    "from sklearn.model_selection import train_test_split\n",
    "x,y = data.drop('good_bad_flag',axis = 1), data['good_bad_flag']"
   ]
  },
  {
   "cell_type": "code",
   "execution_count": 105,
   "metadata": {},
   "outputs": [],
   "source": [
    "x_scaled = minmax.fit_transform(x)\n",
    "x_standard = std_scale.fit_transform(x_scaled)\n",
    "x_norm = normalize(x_standard)"
   ]
  },
  {
   "cell_type": "code",
   "execution_count": 106,
   "metadata": {},
   "outputs": [
    {
     "data": {
      "text/plain": [
       "((3500, 21), (3500,))"
      ]
     },
     "execution_count": 106,
     "metadata": {},
     "output_type": "execute_result"
    }
   ],
   "source": [
    "x_train, x_test,y_train, y_test = train_test_split(x_norm, y, train_size = 0.80, random_state = 42)\n",
    "x_train.shape, y_train.shape"
   ]
  },
  {
   "cell_type": "markdown",
   "metadata": {},
   "source": [
    "# logistic regression"
   ]
  },
  {
   "cell_type": "code",
   "execution_count": 107,
   "metadata": {},
   "outputs": [
    {
     "data": {
      "text/plain": [
       "LogisticRegression(C=1.0, class_weight=None, dual=False, fit_intercept=True,\n",
       "          intercept_scaling=1, max_iter=100, multi_class='ovr', n_jobs=1,\n",
       "          penalty='l2', random_state=None, solver='liblinear', tol=0.0001,\n",
       "          verbose=0, warm_start=False)"
      ]
     },
     "execution_count": 107,
     "metadata": {},
     "output_type": "execute_result"
    }
   ],
   "source": [
    "from sklearn.linear_model import LogisticRegression\n",
    "logreg = LogisticRegression()\n",
    "logreg.fit(x_train, y_train)"
   ]
  },
  {
   "cell_type": "code",
   "execution_count": 108,
   "metadata": {},
   "outputs": [
    {
     "data": {
      "text/plain": [
       "0.78228571428571425"
      ]
     },
     "execution_count": 108,
     "metadata": {},
     "output_type": "execute_result"
    }
   ],
   "source": [
    "logreg.score(x_train, y_train)"
   ]
  },
  {
   "cell_type": "code",
   "execution_count": 109,
   "metadata": {},
   "outputs": [
    {
     "data": {
      "text/plain": [
       "GridSearchCV(cv=20, error_score='raise',\n",
       "       estimator=LogisticRegression(C=1.0, class_weight=None, dual=False, fit_intercept=True,\n",
       "          intercept_scaling=1, max_iter=100, multi_class='ovr', n_jobs=1,\n",
       "          penalty='l2', random_state=None, solver='liblinear', tol=0.0001,\n",
       "          verbose=0, warm_start=False),\n",
       "       fit_params={}, iid=True, n_jobs=1,\n",
       "       param_grid={'C': [1000, 100, 10, 1, 0.1, 0.01, 0.001]},\n",
       "       pre_dispatch='2*n_jobs', refit=True, return_train_score=True,\n",
       "       scoring=None, verbose=0)"
      ]
     },
     "execution_count": 109,
     "metadata": {},
     "output_type": "execute_result"
    }
   ],
   "source": [
    "from sklearn.model_selection import GridSearchCV\n",
    "param_grid = {'C':[1000,100,10,1,0.1,0.01,0.001]}\n",
    "clf = GridSearchCV(logreg, param_grid,cv = 20)\n",
    "clf.fit(x_train, y_train)\n"
   ]
  },
  {
   "cell_type": "code",
   "execution_count": 110,
   "metadata": {},
   "outputs": [
    {
     "data": {
      "text/plain": [
       "0.78228571428571425"
      ]
     },
     "execution_count": 110,
     "metadata": {},
     "output_type": "execute_result"
    }
   ],
   "source": [
    "clf.score(x_train, y_train)"
   ]
  },
  {
   "cell_type": "code",
   "execution_count": 111,
   "metadata": {
    "scrolled": true
   },
   "outputs": [
    {
     "data": {
      "text/plain": [
       "{'mean_fit_time': array([ 0.10895212,  0.07718048,  0.03871022,  0.02244006,  0.01673005,\n",
       "         0.0101801 ,  0.01251022]),\n",
       " 'mean_score_time': array([  9.29987431e-04,   5.00082970e-05,   3.16998959e-03,\n",
       "          1.60999298e-03,   8.29982758e-04,   3.21999788e-03,\n",
       "          1.66001320e-03]),\n",
       " 'mean_test_score': array([ 0.78228571,  0.78228571,  0.78228571,  0.78228571,  0.78228571,\n",
       "         0.78228571,  0.78228571]),\n",
       " 'mean_train_score': array([ 0.78228572,  0.78228572,  0.78228572,  0.78228572,  0.78228572,\n",
       "         0.78228572,  0.78228572]),\n",
       " 'param_C': masked_array(data = [1000 100 10 1 0.1 0.01 0.001],\n",
       "              mask = [False False False False False False False],\n",
       "        fill_value = ?),\n",
       " 'params': ({'C': 1000},\n",
       "  {'C': 100},\n",
       "  {'C': 10},\n",
       "  {'C': 1},\n",
       "  {'C': 0.1},\n",
       "  {'C': 0.01},\n",
       "  {'C': 0.001}),\n",
       " 'rank_test_score': array([1, 1, 1, 1, 1, 1, 1]),\n",
       " 'split0_test_score': array([ 0.77840909,  0.77840909,  0.77840909,  0.77840909,  0.77840909,\n",
       "         0.77840909,  0.77840909]),\n",
       " 'split0_train_score': array([ 0.78249097,  0.78249097,  0.78249097,  0.78249097,  0.78249097,\n",
       "         0.78249097,  0.78249097]),\n",
       " 'split10_test_score': array([ 0.78285714,  0.78285714,  0.78285714,  0.78285714,  0.78285714,\n",
       "         0.78285714,  0.78285714]),\n",
       " 'split10_train_score': array([ 0.78225564,  0.78225564,  0.78225564,  0.78225564,  0.78225564,\n",
       "         0.78225564,  0.78225564]),\n",
       " 'split11_test_score': array([ 0.78285714,  0.78285714,  0.78285714,  0.78285714,  0.78285714,\n",
       "         0.78285714,  0.78285714]),\n",
       " 'split11_train_score': array([ 0.78225564,  0.78225564,  0.78225564,  0.78225564,  0.78225564,\n",
       "         0.78225564,  0.78225564]),\n",
       " 'split12_test_score': array([ 0.78285714,  0.78285714,  0.78285714,  0.78285714,  0.78285714,\n",
       "         0.78285714,  0.78285714]),\n",
       " 'split12_train_score': array([ 0.78225564,  0.78225564,  0.78225564,  0.78225564,  0.78225564,\n",
       "         0.78225564,  0.78225564]),\n",
       " 'split13_test_score': array([ 0.78285714,  0.78285714,  0.78285714,  0.78285714,  0.78285714,\n",
       "         0.78285714,  0.78285714]),\n",
       " 'split13_train_score': array([ 0.78225564,  0.78225564,  0.78225564,  0.78225564,  0.78225564,\n",
       "         0.78225564,  0.78225564]),\n",
       " 'split14_test_score': array([ 0.78285714,  0.78285714,  0.78285714,  0.78285714,  0.78285714,\n",
       "         0.78285714,  0.78285714]),\n",
       " 'split14_train_score': array([ 0.78225564,  0.78225564,  0.78225564,  0.78225564,  0.78225564,\n",
       "         0.78225564,  0.78225564]),\n",
       " 'split15_test_score': array([ 0.78285714,  0.78285714,  0.78285714,  0.78285714,  0.78285714,\n",
       "         0.78285714,  0.78285714]),\n",
       " 'split15_train_score': array([ 0.78225564,  0.78225564,  0.78225564,  0.78225564,  0.78225564,\n",
       "         0.78225564,  0.78225564]),\n",
       " 'split16_test_score': array([ 0.78285714,  0.78285714,  0.78285714,  0.78285714,  0.78285714,\n",
       "         0.78285714,  0.78285714]),\n",
       " 'split16_train_score': array([ 0.78225564,  0.78225564,  0.78225564,  0.78225564,  0.78225564,\n",
       "         0.78225564,  0.78225564]),\n",
       " 'split17_test_score': array([ 0.78285714,  0.78285714,  0.78285714,  0.78285714,  0.78285714,\n",
       "         0.78285714,  0.78285714]),\n",
       " 'split17_train_score': array([ 0.78225564,  0.78225564,  0.78225564,  0.78225564,  0.78225564,\n",
       "         0.78225564,  0.78225564]),\n",
       " 'split18_test_score': array([ 0.7816092,  0.7816092,  0.7816092,  0.7816092,  0.7816092,\n",
       "         0.7816092,  0.7816092]),\n",
       " 'split18_train_score': array([ 0.78232111,  0.78232111,  0.78232111,  0.78232111,  0.78232111,\n",
       "         0.78232111,  0.78232111]),\n",
       " 'split19_test_score': array([ 0.7816092,  0.7816092,  0.7816092,  0.7816092,  0.7816092,\n",
       "         0.7816092,  0.7816092]),\n",
       " 'split19_train_score': array([ 0.78232111,  0.78232111,  0.78232111,  0.78232111,  0.78232111,\n",
       "         0.78232111,  0.78232111]),\n",
       " 'split1_test_score': array([ 0.77840909,  0.77840909,  0.77840909,  0.77840909,  0.77840909,\n",
       "         0.77840909,  0.77840909]),\n",
       " 'split1_train_score': array([ 0.78249097,  0.78249097,  0.78249097,  0.78249097,  0.78249097,\n",
       "         0.78249097,  0.78249097]),\n",
       " 'split2_test_score': array([ 0.78285714,  0.78285714,  0.78285714,  0.78285714,  0.78285714,\n",
       "         0.78285714,  0.78285714]),\n",
       " 'split2_train_score': array([ 0.78225564,  0.78225564,  0.78225564,  0.78225564,  0.78225564,\n",
       "         0.78225564,  0.78225564]),\n",
       " 'split3_test_score': array([ 0.78285714,  0.78285714,  0.78285714,  0.78285714,  0.78285714,\n",
       "         0.78285714,  0.78285714]),\n",
       " 'split3_train_score': array([ 0.78225564,  0.78225564,  0.78225564,  0.78225564,  0.78225564,\n",
       "         0.78225564,  0.78225564]),\n",
       " 'split4_test_score': array([ 0.78285714,  0.78285714,  0.78285714,  0.78285714,  0.78285714,\n",
       "         0.78285714,  0.78285714]),\n",
       " 'split4_train_score': array([ 0.78225564,  0.78225564,  0.78225564,  0.78225564,  0.78225564,\n",
       "         0.78225564,  0.78225564]),\n",
       " 'split5_test_score': array([ 0.78285714,  0.78285714,  0.78285714,  0.78285714,  0.78285714,\n",
       "         0.78285714,  0.78285714]),\n",
       " 'split5_train_score': array([ 0.78225564,  0.78225564,  0.78225564,  0.78225564,  0.78225564,\n",
       "         0.78225564,  0.78225564]),\n",
       " 'split6_test_score': array([ 0.78285714,  0.78285714,  0.78285714,  0.78285714,  0.78285714,\n",
       "         0.78285714,  0.78285714]),\n",
       " 'split6_train_score': array([ 0.78225564,  0.78225564,  0.78225564,  0.78225564,  0.78225564,\n",
       "         0.78225564,  0.78225564]),\n",
       " 'split7_test_score': array([ 0.78285714,  0.78285714,  0.78285714,  0.78285714,  0.78285714,\n",
       "         0.78285714,  0.78285714]),\n",
       " 'split7_train_score': array([ 0.78225564,  0.78225564,  0.78225564,  0.78225564,  0.78225564,\n",
       "         0.78225564,  0.78225564]),\n",
       " 'split8_test_score': array([ 0.78285714,  0.78285714,  0.78285714,  0.78285714,  0.78285714,\n",
       "         0.78285714,  0.78285714]),\n",
       " 'split8_train_score': array([ 0.78225564,  0.78225564,  0.78225564,  0.78225564,  0.78225564,\n",
       "         0.78225564,  0.78225564]),\n",
       " 'split9_test_score': array([ 0.78285714,  0.78285714,  0.78285714,  0.78285714,  0.78285714,\n",
       "         0.78285714,  0.78285714]),\n",
       " 'split9_train_score': array([ 0.78225564,  0.78225564,  0.78225564,  0.78225564,  0.78225564,\n",
       "         0.78225564,  0.78225564]),\n",
       " 'std_fit_time': array([ 0.05123485,  0.02028842,  0.00804659,  0.0076301 ,  0.00365261,\n",
       "         0.00763657,  0.01542848]),\n",
       " 'std_score_time': array([ 0.00338418,  0.00021798,  0.00621873,  0.00466838,  0.00339539,\n",
       "         0.00619705,  0.00482088]),\n",
       " 'std_test_score': array([ 0.00134838,  0.00134838,  0.00134838,  0.00134838,  0.00134838,\n",
       "         0.00134838,  0.00134838]),\n",
       " 'std_train_score': array([  7.11481476e-05,   7.11481476e-05,   7.11481476e-05,\n",
       "          7.11481476e-05,   7.11481476e-05,   7.11481476e-05,\n",
       "          7.11481476e-05])}"
      ]
     },
     "execution_count": 111,
     "metadata": {},
     "output_type": "execute_result"
    }
   ],
   "source": [
    "clf.cv_results_"
   ]
  },
  {
   "cell_type": "code",
   "execution_count": 112,
   "metadata": {},
   "outputs": [
    {
     "data": {
      "text/plain": [
       "LogisticRegression(C=1000, class_weight=None, dual=False, fit_intercept=True,\n",
       "          intercept_scaling=1, max_iter=100, multi_class='ovr', n_jobs=1,\n",
       "          penalty='l2', random_state=None, solver='liblinear', tol=0.0001,\n",
       "          verbose=0, warm_start=False)"
      ]
     },
     "execution_count": 112,
     "metadata": {},
     "output_type": "execute_result"
    }
   ],
   "source": [
    "clf.best_estimator_"
   ]
  },
  {
   "cell_type": "code",
   "execution_count": 113,
   "metadata": {},
   "outputs": [
    {
     "data": {
      "text/plain": [
       "0.78228571428571425"
      ]
     },
     "execution_count": 113,
     "metadata": {},
     "output_type": "execute_result"
    }
   ],
   "source": [
    "clf.best_score_"
   ]
  },
  {
   "cell_type": "code",
   "execution_count": 114,
   "metadata": {},
   "outputs": [
    {
     "data": {
      "text/plain": [
       "{'C': 1000}"
      ]
     },
     "execution_count": 114,
     "metadata": {},
     "output_type": "execute_result"
    }
   ],
   "source": [
    "clf.best_params_"
   ]
  },
  {
   "cell_type": "code",
   "execution_count": 115,
   "metadata": {},
   "outputs": [
    {
     "data": {
      "text/plain": [
       "0"
      ]
     },
     "execution_count": 115,
     "metadata": {},
     "output_type": "execute_result"
    }
   ],
   "source": [
    "clf.best_index_"
   ]
  },
  {
   "cell_type": "code",
   "execution_count": 116,
   "metadata": {},
   "outputs": [
    {
     "data": {
      "text/plain": [
       "<function sklearn.metrics.scorer._passthrough_scorer>"
      ]
     },
     "execution_count": 116,
     "metadata": {},
     "output_type": "execute_result"
    }
   ],
   "source": [
    "clf.scorer_"
   ]
  },
  {
   "cell_type": "code",
   "execution_count": 117,
   "metadata": {},
   "outputs": [
    {
     "data": {
      "text/plain": [
       "20"
      ]
     },
     "execution_count": 117,
     "metadata": {},
     "output_type": "execute_result"
    }
   ],
   "source": [
    "clf.n_splits_"
   ]
  },
  {
   "cell_type": "markdown",
   "metadata": {},
   "source": [
    "# loading the the preprocessed test set and predicting"
   ]
  },
  {
   "cell_type": "code",
   "execution_count": 118,
   "metadata": {
    "collapsed": true
   },
   "outputs": [],
   "source": [
    "modelled_test_data = pd.read_csv('modelled_test_data.csv')\n",
    "customerid = modelled_test_data['customerid']\n",
    "fit_to_model = modelled_test_data.drop('customerid', axis = 1)"
   ]
  },
  {
   "cell_type": "code",
   "execution_count": 119,
   "metadata": {},
   "outputs": [
    {
     "data": {
      "text/plain": [
       "((1450, 25), (1450,), (1450, 24))"
      ]
     },
     "execution_count": 119,
     "metadata": {},
     "output_type": "execute_result"
    }
   ],
   "source": [
    "modelled_test_data.shape, customerid.shape, fit_to_model.shape"
   ]
  },
  {
   "cell_type": "code",
   "execution_count": 120,
   "metadata": {},
   "outputs": [
    {
     "data": {
      "text/plain": [
       "Index(['Unnamed: 0', 'customerid', 'systemloanid', 'loannumber', 'loanamount',\n",
       "       'totaldue', 'termdays', 'birthdate', 'bank_account_type',\n",
       "       'bank_name_clients_Access Bank', 'bank_name_clients_Diamond Bank',\n",
       "       'bank_name_clients_EcoBank', 'bank_name_clients_FCMB',\n",
       "       'bank_name_clients_Fidelity Bank', 'bank_name_clients_First Bank',\n",
       "       'bank_name_clients_GT Bank', 'bank_name_clients_Heritage Bank',\n",
       "       'bank_name_clients_Skye Bank', 'bank_name_clients_Stanbic IBTC',\n",
       "       'bank_name_clients_Sterling Bank', 'bank_name_clients_UBA',\n",
       "       'bank_name_clients_Union Bank', 'bank_name_clients_Unity Bank',\n",
       "       'bank_name_clients_Wema Bank', 'bank_name_clients_Zenith Bank'],\n",
       "      dtype='object')"
      ]
     },
     "execution_count": 120,
     "metadata": {},
     "output_type": "execute_result"
    }
   ],
   "source": [
    "modelled_test_data.keys()"
   ]
  },
  {
   "cell_type": "code",
   "execution_count": 121,
   "metadata": {},
   "outputs": [],
   "source": [
    "modelled_test_data = modelled_test_data.drop(['Unnamed: 0','customerid'],axis = 1)"
   ]
  },
  {
   "cell_type": "code",
   "execution_count": 122,
   "metadata": {},
   "outputs": [
    {
     "name": "stdout",
     "output_type": "stream",
     "text": [
      "there are  0  nan values in the column systemloanid in our data\n",
      "there are  0  nan values in the column loannumber in our data\n",
      "there are  0  nan values in the column loanamount in our data\n",
      "there are  0  nan values in the column totaldue in our data\n",
      "there are  0  nan values in the column termdays in our data\n",
      "there are  1065  nan values in the column birthdate in our data\n",
      "there are  1065  nan values in the column bank_account_type in our data\n",
      "there are  0  nan values in the column bank_name_clients_Access Bank in our data\n",
      "there are  0  nan values in the column bank_name_clients_Diamond Bank in our data\n",
      "there are  0  nan values in the column bank_name_clients_EcoBank in our data\n",
      "there are  0  nan values in the column bank_name_clients_FCMB in our data\n",
      "there are  0  nan values in the column bank_name_clients_Fidelity Bank in our data\n",
      "there are  0  nan values in the column bank_name_clients_First Bank in our data\n",
      "there are  0  nan values in the column bank_name_clients_GT Bank in our data\n",
      "there are  0  nan values in the column bank_name_clients_Heritage Bank in our data\n",
      "there are  0  nan values in the column bank_name_clients_Skye Bank in our data\n",
      "there are  0  nan values in the column bank_name_clients_Stanbic IBTC in our data\n",
      "there are  0  nan values in the column bank_name_clients_Sterling Bank in our data\n",
      "there are  0  nan values in the column bank_name_clients_UBA in our data\n",
      "there are  0  nan values in the column bank_name_clients_Union Bank in our data\n",
      "there are  0  nan values in the column bank_name_clients_Unity Bank in our data\n",
      "there are  0  nan values in the column bank_name_clients_Wema Bank in our data\n",
      "there are  0  nan values in the column bank_name_clients_Zenith Bank in our data\n"
     ]
    }
   ],
   "source": [
    "def report_nan(data,list_column = ['bank_account_type', 'bank_name_clients','birthdate']):\n",
    "    for k in list_column:\n",
    "        nan_values = sum([1 if np.isnan(l) else 0 for l in data[k]])\n",
    "        print ('there are ', nan_values, ' nan values in the column', k, 'in our data')\n",
    "    return\n",
    "\n",
    "report_nan(modelled_test_data, list_column = modelled_test_data.keys())"
   ]
  },
  {
   "cell_type": "code",
   "execution_count": 123,
   "metadata": {},
   "outputs": [
    {
     "data": {
      "text/plain": [
       "(22, 23)"
      ]
     },
     "execution_count": 123,
     "metadata": {},
     "output_type": "execute_result"
    }
   ],
   "source": [
    "len(data.keys()), len(modelled_test_data.keys())"
   ]
  },
  {
   "cell_type": "code",
   "execution_count": 124,
   "metadata": {},
   "outputs": [
    {
     "data": {
      "text/html": [
       "<div>\n",
       "<style>\n",
       "    .dataframe thead tr:only-child th {\n",
       "        text-align: right;\n",
       "    }\n",
       "\n",
       "    .dataframe thead th {\n",
       "        text-align: left;\n",
       "    }\n",
       "\n",
       "    .dataframe tbody tr th {\n",
       "        vertical-align: top;\n",
       "    }\n",
       "</style>\n",
       "<table border=\"1\" class=\"dataframe\">\n",
       "  <thead>\n",
       "    <tr style=\"text-align: right;\">\n",
       "      <th></th>\n",
       "      <th>loannumber</th>\n",
       "      <th>loanamount</th>\n",
       "      <th>totaldue</th>\n",
       "      <th>termdays</th>\n",
       "      <th>good_bad_flag</th>\n",
       "      <th>bank_name_clients_Access Bank</th>\n",
       "      <th>bank_name_clients_Diamond Bank</th>\n",
       "      <th>bank_name_clients_EcoBank</th>\n",
       "      <th>bank_name_clients_FCMB</th>\n",
       "      <th>bank_name_clients_Fidelity Bank</th>\n",
       "      <th>...</th>\n",
       "      <th>bank_name_clients_Heritage Bank</th>\n",
       "      <th>bank_name_clients_Skye Bank</th>\n",
       "      <th>bank_name_clients_Stanbic IBTC</th>\n",
       "      <th>bank_name_clients_Standard Chartered</th>\n",
       "      <th>bank_name_clients_Sterling Bank</th>\n",
       "      <th>bank_name_clients_UBA</th>\n",
       "      <th>bank_name_clients_Union Bank</th>\n",
       "      <th>bank_name_clients_Unity Bank</th>\n",
       "      <th>bank_name_clients_Wema Bank</th>\n",
       "      <th>bank_name_clients_Zenith Bank</th>\n",
       "    </tr>\n",
       "  </thead>\n",
       "  <tbody>\n",
       "    <tr>\n",
       "      <th>0</th>\n",
       "      <td>12</td>\n",
       "      <td>30000.0</td>\n",
       "      <td>34500.0</td>\n",
       "      <td>30</td>\n",
       "      <td>1</td>\n",
       "      <td>0</td>\n",
       "      <td>1</td>\n",
       "      <td>0</td>\n",
       "      <td>0</td>\n",
       "      <td>0</td>\n",
       "      <td>...</td>\n",
       "      <td>0</td>\n",
       "      <td>0</td>\n",
       "      <td>0</td>\n",
       "      <td>0</td>\n",
       "      <td>0</td>\n",
       "      <td>0</td>\n",
       "      <td>0</td>\n",
       "      <td>0</td>\n",
       "      <td>0</td>\n",
       "      <td>0</td>\n",
       "    </tr>\n",
       "    <tr>\n",
       "      <th>1</th>\n",
       "      <td>2</td>\n",
       "      <td>15000.0</td>\n",
       "      <td>17250.0</td>\n",
       "      <td>30</td>\n",
       "      <td>1</td>\n",
       "      <td>0</td>\n",
       "      <td>0</td>\n",
       "      <td>0</td>\n",
       "      <td>0</td>\n",
       "      <td>0</td>\n",
       "      <td>...</td>\n",
       "      <td>0</td>\n",
       "      <td>0</td>\n",
       "      <td>0</td>\n",
       "      <td>0</td>\n",
       "      <td>0</td>\n",
       "      <td>0</td>\n",
       "      <td>0</td>\n",
       "      <td>0</td>\n",
       "      <td>0</td>\n",
       "      <td>0</td>\n",
       "    </tr>\n",
       "    <tr>\n",
       "      <th>2</th>\n",
       "      <td>7</td>\n",
       "      <td>20000.0</td>\n",
       "      <td>22250.0</td>\n",
       "      <td>15</td>\n",
       "      <td>1</td>\n",
       "      <td>0</td>\n",
       "      <td>0</td>\n",
       "      <td>1</td>\n",
       "      <td>0</td>\n",
       "      <td>0</td>\n",
       "      <td>...</td>\n",
       "      <td>0</td>\n",
       "      <td>0</td>\n",
       "      <td>0</td>\n",
       "      <td>0</td>\n",
       "      <td>0</td>\n",
       "      <td>0</td>\n",
       "      <td>0</td>\n",
       "      <td>0</td>\n",
       "      <td>0</td>\n",
       "      <td>0</td>\n",
       "    </tr>\n",
       "    <tr>\n",
       "      <th>3</th>\n",
       "      <td>3</td>\n",
       "      <td>10000.0</td>\n",
       "      <td>11500.0</td>\n",
       "      <td>15</td>\n",
       "      <td>1</td>\n",
       "      <td>0</td>\n",
       "      <td>0</td>\n",
       "      <td>0</td>\n",
       "      <td>0</td>\n",
       "      <td>0</td>\n",
       "      <td>...</td>\n",
       "      <td>0</td>\n",
       "      <td>0</td>\n",
       "      <td>0</td>\n",
       "      <td>0</td>\n",
       "      <td>0</td>\n",
       "      <td>0</td>\n",
       "      <td>0</td>\n",
       "      <td>0</td>\n",
       "      <td>0</td>\n",
       "      <td>0</td>\n",
       "    </tr>\n",
       "    <tr>\n",
       "      <th>4</th>\n",
       "      <td>9</td>\n",
       "      <td>40000.0</td>\n",
       "      <td>44000.0</td>\n",
       "      <td>30</td>\n",
       "      <td>1</td>\n",
       "      <td>0</td>\n",
       "      <td>0</td>\n",
       "      <td>0</td>\n",
       "      <td>0</td>\n",
       "      <td>0</td>\n",
       "      <td>...</td>\n",
       "      <td>0</td>\n",
       "      <td>0</td>\n",
       "      <td>0</td>\n",
       "      <td>0</td>\n",
       "      <td>0</td>\n",
       "      <td>0</td>\n",
       "      <td>0</td>\n",
       "      <td>0</td>\n",
       "      <td>0</td>\n",
       "      <td>0</td>\n",
       "    </tr>\n",
       "  </tbody>\n",
       "</table>\n",
       "<p>5 rows × 22 columns</p>\n",
       "</div>"
      ],
      "text/plain": [
       "   loannumber  loanamount  totaldue  termdays  good_bad_flag  \\\n",
       "0          12     30000.0   34500.0        30              1   \n",
       "1           2     15000.0   17250.0        30              1   \n",
       "2           7     20000.0   22250.0        15              1   \n",
       "3           3     10000.0   11500.0        15              1   \n",
       "4           9     40000.0   44000.0        30              1   \n",
       "\n",
       "   bank_name_clients_Access Bank  bank_name_clients_Diamond Bank  \\\n",
       "0                              0                               1   \n",
       "1                              0                               0   \n",
       "2                              0                               0   \n",
       "3                              0                               0   \n",
       "4                              0                               0   \n",
       "\n",
       "   bank_name_clients_EcoBank  bank_name_clients_FCMB  \\\n",
       "0                          0                       0   \n",
       "1                          0                       0   \n",
       "2                          1                       0   \n",
       "3                          0                       0   \n",
       "4                          0                       0   \n",
       "\n",
       "   bank_name_clients_Fidelity Bank              ...                \\\n",
       "0                                0              ...                 \n",
       "1                                0              ...                 \n",
       "2                                0              ...                 \n",
       "3                                0              ...                 \n",
       "4                                0              ...                 \n",
       "\n",
       "   bank_name_clients_Heritage Bank  bank_name_clients_Skye Bank  \\\n",
       "0                                0                            0   \n",
       "1                                0                            0   \n",
       "2                                0                            0   \n",
       "3                                0                            0   \n",
       "4                                0                            0   \n",
       "\n",
       "   bank_name_clients_Stanbic IBTC  bank_name_clients_Standard Chartered  \\\n",
       "0                               0                                     0   \n",
       "1                               0                                     0   \n",
       "2                               0                                     0   \n",
       "3                               0                                     0   \n",
       "4                               0                                     0   \n",
       "\n",
       "   bank_name_clients_Sterling Bank  bank_name_clients_UBA  \\\n",
       "0                                0                      0   \n",
       "1                                0                      0   \n",
       "2                                0                      0   \n",
       "3                                0                      0   \n",
       "4                                0                      0   \n",
       "\n",
       "   bank_name_clients_Union Bank  bank_name_clients_Unity Bank  \\\n",
       "0                             0                             0   \n",
       "1                             0                             0   \n",
       "2                             0                             0   \n",
       "3                             0                             0   \n",
       "4                             0                             0   \n",
       "\n",
       "   bank_name_clients_Wema Bank  bank_name_clients_Zenith Bank  \n",
       "0                            0                              0  \n",
       "1                            0                              0  \n",
       "2                            0                              0  \n",
       "3                            0                              0  \n",
       "4                            0                              0  \n",
       "\n",
       "[5 rows x 22 columns]"
      ]
     },
     "execution_count": 124,
     "metadata": {},
     "output_type": "execute_result"
    }
   ],
   "source": [
    "data.head()"
   ]
  },
  {
   "cell_type": "code",
   "execution_count": 125,
   "metadata": {},
   "outputs": [
    {
     "data": {
      "text/html": [
       "<div>\n",
       "<style>\n",
       "    .dataframe thead tr:only-child th {\n",
       "        text-align: right;\n",
       "    }\n",
       "\n",
       "    .dataframe thead th {\n",
       "        text-align: left;\n",
       "    }\n",
       "\n",
       "    .dataframe tbody tr th {\n",
       "        vertical-align: top;\n",
       "    }\n",
       "</style>\n",
       "<table border=\"1\" class=\"dataframe\">\n",
       "  <thead>\n",
       "    <tr style=\"text-align: right;\">\n",
       "      <th></th>\n",
       "      <th>systemloanid</th>\n",
       "      <th>loannumber</th>\n",
       "      <th>loanamount</th>\n",
       "      <th>totaldue</th>\n",
       "      <th>termdays</th>\n",
       "      <th>birthdate</th>\n",
       "      <th>bank_account_type</th>\n",
       "      <th>bank_name_clients_Access Bank</th>\n",
       "      <th>bank_name_clients_Diamond Bank</th>\n",
       "      <th>bank_name_clients_EcoBank</th>\n",
       "      <th>...</th>\n",
       "      <th>bank_name_clients_GT Bank</th>\n",
       "      <th>bank_name_clients_Heritage Bank</th>\n",
       "      <th>bank_name_clients_Skye Bank</th>\n",
       "      <th>bank_name_clients_Stanbic IBTC</th>\n",
       "      <th>bank_name_clients_Sterling Bank</th>\n",
       "      <th>bank_name_clients_UBA</th>\n",
       "      <th>bank_name_clients_Union Bank</th>\n",
       "      <th>bank_name_clients_Unity Bank</th>\n",
       "      <th>bank_name_clients_Wema Bank</th>\n",
       "      <th>bank_name_clients_Zenith Bank</th>\n",
       "    </tr>\n",
       "  </thead>\n",
       "  <tbody>\n",
       "    <tr>\n",
       "      <th>0</th>\n",
       "      <td>301998974</td>\n",
       "      <td>4</td>\n",
       "      <td>10000</td>\n",
       "      <td>12250.0</td>\n",
       "      <td>30</td>\n",
       "      <td>NaN</td>\n",
       "      <td>NaN</td>\n",
       "      <td>0</td>\n",
       "      <td>0</td>\n",
       "      <td>0</td>\n",
       "      <td>...</td>\n",
       "      <td>0</td>\n",
       "      <td>0</td>\n",
       "      <td>0</td>\n",
       "      <td>0</td>\n",
       "      <td>0</td>\n",
       "      <td>0</td>\n",
       "      <td>0</td>\n",
       "      <td>0</td>\n",
       "      <td>0</td>\n",
       "      <td>0</td>\n",
       "    </tr>\n",
       "    <tr>\n",
       "      <th>1</th>\n",
       "      <td>301963615</td>\n",
       "      <td>10</td>\n",
       "      <td>40000</td>\n",
       "      <td>44000.0</td>\n",
       "      <td>30</td>\n",
       "      <td>NaN</td>\n",
       "      <td>NaN</td>\n",
       "      <td>0</td>\n",
       "      <td>0</td>\n",
       "      <td>0</td>\n",
       "      <td>...</td>\n",
       "      <td>0</td>\n",
       "      <td>0</td>\n",
       "      <td>0</td>\n",
       "      <td>0</td>\n",
       "      <td>0</td>\n",
       "      <td>0</td>\n",
       "      <td>0</td>\n",
       "      <td>0</td>\n",
       "      <td>0</td>\n",
       "      <td>0</td>\n",
       "    </tr>\n",
       "    <tr>\n",
       "      <th>2</th>\n",
       "      <td>301982236</td>\n",
       "      <td>6</td>\n",
       "      <td>20000</td>\n",
       "      <td>24500.0</td>\n",
       "      <td>30</td>\n",
       "      <td>37.0</td>\n",
       "      <td>2.0</td>\n",
       "      <td>0</td>\n",
       "      <td>0</td>\n",
       "      <td>0</td>\n",
       "      <td>...</td>\n",
       "      <td>0</td>\n",
       "      <td>0</td>\n",
       "      <td>0</td>\n",
       "      <td>0</td>\n",
       "      <td>0</td>\n",
       "      <td>1</td>\n",
       "      <td>0</td>\n",
       "      <td>0</td>\n",
       "      <td>0</td>\n",
       "      <td>0</td>\n",
       "    </tr>\n",
       "    <tr>\n",
       "      <th>3</th>\n",
       "      <td>301971730</td>\n",
       "      <td>8</td>\n",
       "      <td>30000</td>\n",
       "      <td>34500.0</td>\n",
       "      <td>30</td>\n",
       "      <td>NaN</td>\n",
       "      <td>NaN</td>\n",
       "      <td>0</td>\n",
       "      <td>0</td>\n",
       "      <td>0</td>\n",
       "      <td>...</td>\n",
       "      <td>0</td>\n",
       "      <td>0</td>\n",
       "      <td>0</td>\n",
       "      <td>0</td>\n",
       "      <td>0</td>\n",
       "      <td>0</td>\n",
       "      <td>0</td>\n",
       "      <td>0</td>\n",
       "      <td>0</td>\n",
       "      <td>0</td>\n",
       "    </tr>\n",
       "    <tr>\n",
       "      <th>4</th>\n",
       "      <td>301959177</td>\n",
       "      <td>4</td>\n",
       "      <td>20000</td>\n",
       "      <td>24500.0</td>\n",
       "      <td>30</td>\n",
       "      <td>43.0</td>\n",
       "      <td>2.0</td>\n",
       "      <td>0</td>\n",
       "      <td>0</td>\n",
       "      <td>0</td>\n",
       "      <td>...</td>\n",
       "      <td>0</td>\n",
       "      <td>0</td>\n",
       "      <td>0</td>\n",
       "      <td>0</td>\n",
       "      <td>0</td>\n",
       "      <td>1</td>\n",
       "      <td>0</td>\n",
       "      <td>0</td>\n",
       "      <td>0</td>\n",
       "      <td>0</td>\n",
       "    </tr>\n",
       "  </tbody>\n",
       "</table>\n",
       "<p>5 rows × 23 columns</p>\n",
       "</div>"
      ],
      "text/plain": [
       "   systemloanid  loannumber  loanamount  totaldue  termdays  birthdate  \\\n",
       "0     301998974           4       10000   12250.0        30        NaN   \n",
       "1     301963615          10       40000   44000.0        30        NaN   \n",
       "2     301982236           6       20000   24500.0        30       37.0   \n",
       "3     301971730           8       30000   34500.0        30        NaN   \n",
       "4     301959177           4       20000   24500.0        30       43.0   \n",
       "\n",
       "   bank_account_type  bank_name_clients_Access Bank  \\\n",
       "0                NaN                              0   \n",
       "1                NaN                              0   \n",
       "2                2.0                              0   \n",
       "3                NaN                              0   \n",
       "4                2.0                              0   \n",
       "\n",
       "   bank_name_clients_Diamond Bank  bank_name_clients_EcoBank  \\\n",
       "0                               0                          0   \n",
       "1                               0                          0   \n",
       "2                               0                          0   \n",
       "3                               0                          0   \n",
       "4                               0                          0   \n",
       "\n",
       "               ...                bank_name_clients_GT Bank  \\\n",
       "0              ...                                        0   \n",
       "1              ...                                        0   \n",
       "2              ...                                        0   \n",
       "3              ...                                        0   \n",
       "4              ...                                        0   \n",
       "\n",
       "   bank_name_clients_Heritage Bank  bank_name_clients_Skye Bank  \\\n",
       "0                                0                            0   \n",
       "1                                0                            0   \n",
       "2                                0                            0   \n",
       "3                                0                            0   \n",
       "4                                0                            0   \n",
       "\n",
       "   bank_name_clients_Stanbic IBTC  bank_name_clients_Sterling Bank  \\\n",
       "0                               0                                0   \n",
       "1                               0                                0   \n",
       "2                               0                                0   \n",
       "3                               0                                0   \n",
       "4                               0                                0   \n",
       "\n",
       "   bank_name_clients_UBA  bank_name_clients_Union Bank  \\\n",
       "0                      0                             0   \n",
       "1                      0                             0   \n",
       "2                      1                             0   \n",
       "3                      0                             0   \n",
       "4                      1                             0   \n",
       "\n",
       "   bank_name_clients_Unity Bank  bank_name_clients_Wema Bank  \\\n",
       "0                             0                            0   \n",
       "1                             0                            0   \n",
       "2                             0                            0   \n",
       "3                             0                            0   \n",
       "4                             0                            0   \n",
       "\n",
       "   bank_name_clients_Zenith Bank  \n",
       "0                              0  \n",
       "1                              0  \n",
       "2                              0  \n",
       "3                              0  \n",
       "4                              0  \n",
       "\n",
       "[5 rows x 23 columns]"
      ]
     },
     "execution_count": 125,
     "metadata": {},
     "output_type": "execute_result"
    }
   ],
   "source": [
    "modelled_test_data.head()"
   ]
  },
  {
   "cell_type": "code",
   "execution_count": 126,
   "metadata": {},
   "outputs": [
    {
     "data": {
      "text/plain": [
       "Index(['loannumber', 'loanamount', 'totaldue', 'termdays', 'good_bad_flag',\n",
       "       'bank_name_clients_Access Bank', 'bank_name_clients_Diamond Bank',\n",
       "       'bank_name_clients_EcoBank', 'bank_name_clients_FCMB',\n",
       "       'bank_name_clients_Fidelity Bank', 'bank_name_clients_First Bank',\n",
       "       'bank_name_clients_GT Bank', 'bank_name_clients_Heritage Bank',\n",
       "       'bank_name_clients_Skye Bank', 'bank_name_clients_Stanbic IBTC',\n",
       "       'bank_name_clients_Standard Chartered',\n",
       "       'bank_name_clients_Sterling Bank', 'bank_name_clients_UBA',\n",
       "       'bank_name_clients_Union Bank', 'bank_name_clients_Unity Bank',\n",
       "       'bank_name_clients_Wema Bank', 'bank_name_clients_Zenith Bank'],\n",
       "      dtype='object')"
      ]
     },
     "execution_count": 126,
     "metadata": {},
     "output_type": "execute_result"
    }
   ],
   "source": [
    "data.keys()"
   ]
  },
  {
   "cell_type": "code",
   "execution_count": 127,
   "metadata": {},
   "outputs": [
    {
     "data": {
      "text/plain": [
       "Index(['systemloanid', 'loannumber', 'loanamount', 'totaldue', 'termdays',\n",
       "       'birthdate', 'bank_account_type', 'bank_name_clients_Access Bank',\n",
       "       'bank_name_clients_Diamond Bank', 'bank_name_clients_EcoBank',\n",
       "       'bank_name_clients_FCMB', 'bank_name_clients_Fidelity Bank',\n",
       "       'bank_name_clients_First Bank', 'bank_name_clients_GT Bank',\n",
       "       'bank_name_clients_Heritage Bank', 'bank_name_clients_Skye Bank',\n",
       "       'bank_name_clients_Stanbic IBTC', 'bank_name_clients_Sterling Bank',\n",
       "       'bank_name_clients_UBA', 'bank_name_clients_Union Bank',\n",
       "       'bank_name_clients_Unity Bank', 'bank_name_clients_Wema Bank',\n",
       "       'bank_name_clients_Zenith Bank'],\n",
       "      dtype='object')"
      ]
     },
     "execution_count": 127,
     "metadata": {},
     "output_type": "execute_result"
    }
   ],
   "source": [
    "modelled_test_data.keys()"
   ]
  },
  {
   "cell_type": "code",
   "execution_count": 128,
   "metadata": {
    "collapsed": true
   },
   "outputs": [],
   "source": [
    "modelled_test_data = modelled_test_data.drop(['bank_account_type','birthdate'], axis = 1)"
   ]
  },
  {
   "cell_type": "code",
   "execution_count": 129,
   "metadata": {
    "collapsed": true
   },
   "outputs": [],
   "source": [
    "# scaling our test data\n",
    "x_scaled = minmax.fit_transform(modelled_test_data)\n",
    "x_standard = std_scale.fit_transform(x_scaled)\n",
    "x_norm = normalize(x_standard)"
   ]
  },
  {
   "cell_type": "code",
   "execution_count": 130,
   "metadata": {},
   "outputs": [],
   "source": [
    "predicted_data = clf.predict(x_norm)"
   ]
  },
  {
   "cell_type": "code",
   "execution_count": 144,
   "metadata": {},
   "outputs": [
    {
     "data": {
      "text/plain": [
       "array([0, 1], dtype=int64)"
      ]
     },
     "execution_count": 144,
     "metadata": {},
     "output_type": "execute_result"
    }
   ],
   "source": [
    "np.unique(predicted_data)"
   ]
  },
  {
   "cell_type": "markdown",
   "metadata": {},
   "source": [
    "# checking sample submission"
   ]
  },
  {
   "cell_type": "code",
   "execution_count": 131,
   "metadata": {},
   "outputs": [
    {
     "data": {
      "text/plain": [
       "(1450, 2)"
      ]
     },
     "execution_count": 131,
     "metadata": {},
     "output_type": "execute_result"
    }
   ],
   "source": [
    "sample_submission = pd.read_csv('SampleSubmission.csv')\n",
    "sample_submission.shape"
   ]
  },
  {
   "cell_type": "code",
   "execution_count": 142,
   "metadata": {},
   "outputs": [
    {
     "data": {
      "text/plain": [
       "2"
      ]
     },
     "execution_count": 142,
     "metadata": {},
     "output_type": "execute_result"
    }
   ],
   "source": [
    "np.sum([sample_submission['customerid'] == customerid])"
   ]
  },
  {
   "cell_type": "code",
   "execution_count": 132,
   "metadata": {},
   "outputs": [
    {
     "data": {
      "text/plain": [
       "Index(['customerid', 'Good_Bad_flag'], dtype='object')"
      ]
     },
     "execution_count": 132,
     "metadata": {},
     "output_type": "execute_result"
    }
   ],
   "source": [
    "sample_submission.keys()"
   ]
  },
  {
   "cell_type": "markdown",
   "metadata": {},
   "source": [
    "# preparing my submission"
   ]
  },
  {
   "cell_type": "code",
   "execution_count": 137,
   "metadata": {
    "collapsed": true
   },
   "outputs": [],
   "source": [
    "dicted_submission = {'customerid': sample_submission['customerid'], 'Good_Bad_flag': predicted_data}"
   ]
  },
  {
   "cell_type": "code",
   "execution_count": 138,
   "metadata": {
    "collapsed": true
   },
   "outputs": [],
   "source": [
    "my_submission = pd.DataFrame(dicted_submission)"
   ]
  },
  {
   "cell_type": "code",
   "execution_count": 139,
   "metadata": {
    "collapsed": true
   },
   "outputs": [],
   "source": [
    "my_submission.to_csv('My_Frist_submission_logistic_regression.csv')"
   ]
  },
  {
   "cell_type": "code",
   "execution_count": 140,
   "metadata": {},
   "outputs": [
    {
     "data": {
      "text/plain": [
       "(1450, 2)"
      ]
     },
     "execution_count": 140,
     "metadata": {},
     "output_type": "execute_result"
    }
   ],
   "source": [
    "my_submission.shape"
   ]
  },
  {
   "cell_type": "code",
   "execution_count": null,
   "metadata": {
    "collapsed": true
   },
   "outputs": [],
   "source": []
  }
 ],
 "metadata": {
  "kernelspec": {
   "display_name": "Python 3",
   "language": "python",
   "name": "python3"
  },
  "language_info": {
   "codemirror_mode": {
    "name": "ipython",
    "version": 3
   },
   "file_extension": ".py",
   "mimetype": "text/x-python",
   "name": "python",
   "nbconvert_exporter": "python",
   "pygments_lexer": "ipython3",
   "version": "3.6.1"
  }
 },
 "nbformat": 4,
 "nbformat_minor": 2
}
