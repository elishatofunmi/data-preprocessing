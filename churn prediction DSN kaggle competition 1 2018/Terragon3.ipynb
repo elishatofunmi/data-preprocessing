{
 "cells": [
  {
   "cell_type": "code",
   "execution_count": 1,
   "metadata": {},
   "outputs": [],
   "source": [
    "import pandas as pd\n",
    "import numpy as np\n",
    "import sklearn as sk\n",
    "import warnings\n",
    "warnings.filterwarnings(\"ignore\")\n",
    "import os, sys\n",
    "os.chdir(r\"C:\\Users\\ACER\\Desktop\\Terragon recruitment\")"
   ]
  },
  {
   "cell_type": "code",
   "execution_count": 2,
   "metadata": {},
   "outputs": [],
   "source": [
    "train_set = pd.read_csv(r\"Train.csv\")\n",
    "test_set = pd.read_csv(r\"Test.csv\")"
   ]
  },
  {
   "cell_type": "code",
   "execution_count": 3,
   "metadata": {},
   "outputs": [
    {
     "data": {
      "text/html": [
       "<div>\n",
       "<style>\n",
       "    .dataframe thead tr:only-child th {\n",
       "        text-align: right;\n",
       "    }\n",
       "\n",
       "    .dataframe thead th {\n",
       "        text-align: left;\n",
       "    }\n",
       "\n",
       "    .dataframe tbody tr th {\n",
       "        vertical-align: top;\n",
       "    }\n",
       "</style>\n",
       "<table border=\"1\" class=\"dataframe\">\n",
       "  <thead>\n",
       "    <tr style=\"text-align: right;\">\n",
       "      <th></th>\n",
       "      <th>customer_id</th>\n",
       "      <th>age</th>\n",
       "      <th>job</th>\n",
       "      <th>marital</th>\n",
       "      <th>education</th>\n",
       "      <th>default</th>\n",
       "      <th>balance</th>\n",
       "      <th>housing</th>\n",
       "      <th>loan</th>\n",
       "      <th>contact</th>\n",
       "      <th>day</th>\n",
       "      <th>month</th>\n",
       "      <th>duration</th>\n",
       "      <th>campaign</th>\n",
       "      <th>pdays</th>\n",
       "      <th>previous</th>\n",
       "      <th>poutcome</th>\n",
       "      <th>deposit</th>\n",
       "    </tr>\n",
       "  </thead>\n",
       "  <tbody>\n",
       "    <tr>\n",
       "      <th>0</th>\n",
       "      <td>RGD002844</td>\n",
       "      <td>31</td>\n",
       "      <td>management</td>\n",
       "      <td>married</td>\n",
       "      <td>tertiary</td>\n",
       "      <td>no</td>\n",
       "      <td>81</td>\n",
       "      <td>yes</td>\n",
       "      <td>no</td>\n",
       "      <td>cellular</td>\n",
       "      <td>29</td>\n",
       "      <td>oct</td>\n",
       "      <td>164</td>\n",
       "      <td>2</td>\n",
       "      <td>-1</td>\n",
       "      <td>0</td>\n",
       "      <td>unknown</td>\n",
       "      <td>1</td>\n",
       "    </tr>\n",
       "    <tr>\n",
       "      <th>1</th>\n",
       "      <td>RGD003806</td>\n",
       "      <td>62</td>\n",
       "      <td>retired</td>\n",
       "      <td>married</td>\n",
       "      <td>secondary</td>\n",
       "      <td>no</td>\n",
       "      <td>569</td>\n",
       "      <td>no</td>\n",
       "      <td>no</td>\n",
       "      <td>cellular</td>\n",
       "      <td>3</td>\n",
       "      <td>aug</td>\n",
       "      <td>187</td>\n",
       "      <td>2</td>\n",
       "      <td>180</td>\n",
       "      <td>6</td>\n",
       "      <td>success</td>\n",
       "      <td>1</td>\n",
       "    </tr>\n",
       "    <tr>\n",
       "      <th>2</th>\n",
       "      <td>RGD008310</td>\n",
       "      <td>35</td>\n",
       "      <td>technician</td>\n",
       "      <td>married</td>\n",
       "      <td>tertiary</td>\n",
       "      <td>no</td>\n",
       "      <td>432</td>\n",
       "      <td>no</td>\n",
       "      <td>no</td>\n",
       "      <td>cellular</td>\n",
       "      <td>12</td>\n",
       "      <td>aug</td>\n",
       "      <td>104</td>\n",
       "      <td>8</td>\n",
       "      <td>-1</td>\n",
       "      <td>0</td>\n",
       "      <td>unknown</td>\n",
       "      <td>0</td>\n",
       "    </tr>\n",
       "    <tr>\n",
       "      <th>3</th>\n",
       "      <td>RGD001840</td>\n",
       "      <td>43</td>\n",
       "      <td>management</td>\n",
       "      <td>married</td>\n",
       "      <td>tertiary</td>\n",
       "      <td>no</td>\n",
       "      <td>1429</td>\n",
       "      <td>yes</td>\n",
       "      <td>no</td>\n",
       "      <td>cellular</td>\n",
       "      <td>7</td>\n",
       "      <td>may</td>\n",
       "      <td>1030</td>\n",
       "      <td>1</td>\n",
       "      <td>169</td>\n",
       "      <td>3</td>\n",
       "      <td>success</td>\n",
       "      <td>1</td>\n",
       "    </tr>\n",
       "    <tr>\n",
       "      <th>4</th>\n",
       "      <td>RGD005881</td>\n",
       "      <td>29</td>\n",
       "      <td>blue-collar</td>\n",
       "      <td>married</td>\n",
       "      <td>primary</td>\n",
       "      <td>no</td>\n",
       "      <td>25</td>\n",
       "      <td>yes</td>\n",
       "      <td>no</td>\n",
       "      <td>unknown</td>\n",
       "      <td>4</td>\n",
       "      <td>jun</td>\n",
       "      <td>188</td>\n",
       "      <td>2</td>\n",
       "      <td>-1</td>\n",
       "      <td>0</td>\n",
       "      <td>unknown</td>\n",
       "      <td>0</td>\n",
       "    </tr>\n",
       "  </tbody>\n",
       "</table>\n",
       "</div>"
      ],
      "text/plain": [
       "  customer_id  age          job  marital  education default  balance housing  \\\n",
       "0   RGD002844   31   management  married   tertiary      no       81     yes   \n",
       "1   RGD003806   62      retired  married  secondary      no      569      no   \n",
       "2   RGD008310   35   technician  married   tertiary      no      432      no   \n",
       "3   RGD001840   43   management  married   tertiary      no     1429     yes   \n",
       "4   RGD005881   29  blue-collar  married    primary      no       25     yes   \n",
       "\n",
       "  loan   contact  day month  duration  campaign  pdays  previous poutcome  \\\n",
       "0   no  cellular   29   oct       164         2     -1         0  unknown   \n",
       "1   no  cellular    3   aug       187         2    180         6  success   \n",
       "2   no  cellular   12   aug       104         8     -1         0  unknown   \n",
       "3   no  cellular    7   may      1030         1    169         3  success   \n",
       "4   no   unknown    4   jun       188         2     -1         0  unknown   \n",
       "\n",
       "   deposit  \n",
       "0        1  \n",
       "1        1  \n",
       "2        0  \n",
       "3        1  \n",
       "4        0  "
      ]
     },
     "execution_count": 3,
     "metadata": {},
     "output_type": "execute_result"
    }
   ],
   "source": [
    "train_sample = train_set\n",
    "train_sample.head()"
   ]
  },
  {
   "cell_type": "code",
   "execution_count": 4,
   "metadata": {},
   "outputs": [
    {
     "name": "stdout",
     "output_type": "stream",
     "text": [
      "<class 'pandas.core.frame.DataFrame'>\n",
      "RangeIndex: 8929 entries, 0 to 8928\n",
      "Data columns (total 18 columns):\n",
      "customer_id    8929 non-null object\n",
      "age            8929 non-null int64\n",
      "job            8929 non-null object\n",
      "marital        8929 non-null object\n",
      "education      8929 non-null object\n",
      "default        8929 non-null object\n",
      "balance        8929 non-null int64\n",
      "housing        8929 non-null object\n",
      "loan           8929 non-null object\n",
      "contact        8929 non-null object\n",
      "day            8929 non-null int64\n",
      "month          8929 non-null object\n",
      "duration       8929 non-null int64\n",
      "campaign       8929 non-null int64\n",
      "pdays          8929 non-null int64\n",
      "previous       8929 non-null int64\n",
      "poutcome       8929 non-null object\n",
      "deposit        8929 non-null int64\n",
      "dtypes: int64(8), object(10)\n",
      "memory usage: 1.2+ MB\n"
     ]
    }
   ],
   "source": [
    "train_sample.info()"
   ]
  },
  {
   "cell_type": "code",
   "execution_count": 5,
   "metadata": {},
   "outputs": [],
   "source": [
    "categorical_column = ['job','marital', 'education', 'default','housing', 'loan', 'contact', 'month', 'poutcome']\n",
    "discard_numeric = 'duration'"
   ]
  },
  {
   "cell_type": "code",
   "execution_count": 6,
   "metadata": {},
   "outputs": [],
   "source": [
    "check_train = pd.get_dummies(train_sample, columns = categorical_column)"
   ]
  },
  {
   "cell_type": "code",
   "execution_count": 7,
   "metadata": {},
   "outputs": [],
   "source": [
    "re_valuate = check_train.drop('duration', axis = 1)"
   ]
  },
  {
   "cell_type": "code",
   "execution_count": 8,
   "metadata": {},
   "outputs": [
    {
     "data": {
      "text/html": [
       "<div>\n",
       "<style>\n",
       "    .dataframe thead tr:only-child th {\n",
       "        text-align: right;\n",
       "    }\n",
       "\n",
       "    .dataframe thead th {\n",
       "        text-align: left;\n",
       "    }\n",
       "\n",
       "    .dataframe tbody tr th {\n",
       "        vertical-align: top;\n",
       "    }\n",
       "</style>\n",
       "<table border=\"1\" class=\"dataframe\">\n",
       "  <thead>\n",
       "    <tr style=\"text-align: right;\">\n",
       "      <th></th>\n",
       "      <th>age</th>\n",
       "      <th>balance</th>\n",
       "      <th>day</th>\n",
       "      <th>campaign</th>\n",
       "      <th>pdays</th>\n",
       "      <th>previous</th>\n",
       "      <th>deposit</th>\n",
       "      <th>job_admin.</th>\n",
       "      <th>job_blue-collar</th>\n",
       "      <th>job_entrepreneur</th>\n",
       "      <th>...</th>\n",
       "      <th>month_jun</th>\n",
       "      <th>month_mar</th>\n",
       "      <th>month_may</th>\n",
       "      <th>month_nov</th>\n",
       "      <th>month_oct</th>\n",
       "      <th>month_sep</th>\n",
       "      <th>poutcome_failure</th>\n",
       "      <th>poutcome_other</th>\n",
       "      <th>poutcome_success</th>\n",
       "      <th>poutcome_unknown</th>\n",
       "    </tr>\n",
       "  </thead>\n",
       "  <tbody>\n",
       "    <tr>\n",
       "      <th>count</th>\n",
       "      <td>8929.000000</td>\n",
       "      <td>8929.000000</td>\n",
       "      <td>8929.000000</td>\n",
       "      <td>8929.000000</td>\n",
       "      <td>8929.000000</td>\n",
       "      <td>8929.000000</td>\n",
       "      <td>8929.000000</td>\n",
       "      <td>8929.000000</td>\n",
       "      <td>8929.000000</td>\n",
       "      <td>8929.000000</td>\n",
       "      <td>...</td>\n",
       "      <td>8929.000000</td>\n",
       "      <td>8929.000000</td>\n",
       "      <td>8929.000000</td>\n",
       "      <td>8929.000000</td>\n",
       "      <td>8929.000000</td>\n",
       "      <td>8929.000000</td>\n",
       "      <td>8929.000000</td>\n",
       "      <td>8929.000000</td>\n",
       "      <td>8929.000000</td>\n",
       "      <td>8929.000000</td>\n",
       "    </tr>\n",
       "    <tr>\n",
       "      <th>mean</th>\n",
       "      <td>41.270915</td>\n",
       "      <td>1545.323440</td>\n",
       "      <td>15.646657</td>\n",
       "      <td>2.520887</td>\n",
       "      <td>51.094523</td>\n",
       "      <td>0.835144</td>\n",
       "      <td>0.471833</td>\n",
       "      <td>0.120282</td>\n",
       "      <td>0.175160</td>\n",
       "      <td>0.029455</td>\n",
       "      <td>...</td>\n",
       "      <td>0.107739</td>\n",
       "      <td>0.025087</td>\n",
       "      <td>0.257252</td>\n",
       "      <td>0.084332</td>\n",
       "      <td>0.034718</td>\n",
       "      <td>0.029903</td>\n",
       "      <td>0.108859</td>\n",
       "      <td>0.048606</td>\n",
       "      <td>0.094523</td>\n",
       "      <td>0.748012</td>\n",
       "    </tr>\n",
       "    <tr>\n",
       "      <th>std</th>\n",
       "      <td>11.944464</td>\n",
       "      <td>3335.891813</td>\n",
       "      <td>8.390010</td>\n",
       "      <td>2.787669</td>\n",
       "      <td>108.388595</td>\n",
       "      <td>2.319982</td>\n",
       "      <td>0.499234</td>\n",
       "      <td>0.325309</td>\n",
       "      <td>0.380125</td>\n",
       "      <td>0.169086</td>\n",
       "      <td>...</td>\n",
       "      <td>0.310068</td>\n",
       "      <td>0.156398</td>\n",
       "      <td>0.437144</td>\n",
       "      <td>0.277901</td>\n",
       "      <td>0.183076</td>\n",
       "      <td>0.170328</td>\n",
       "      <td>0.311479</td>\n",
       "      <td>0.215054</td>\n",
       "      <td>0.292572</td>\n",
       "      <td>0.434179</td>\n",
       "    </tr>\n",
       "    <tr>\n",
       "      <th>min</th>\n",
       "      <td>18.000000</td>\n",
       "      <td>-6847.000000</td>\n",
       "      <td>1.000000</td>\n",
       "      <td>1.000000</td>\n",
       "      <td>-1.000000</td>\n",
       "      <td>0.000000</td>\n",
       "      <td>0.000000</td>\n",
       "      <td>0.000000</td>\n",
       "      <td>0.000000</td>\n",
       "      <td>0.000000</td>\n",
       "      <td>...</td>\n",
       "      <td>0.000000</td>\n",
       "      <td>0.000000</td>\n",
       "      <td>0.000000</td>\n",
       "      <td>0.000000</td>\n",
       "      <td>0.000000</td>\n",
       "      <td>0.000000</td>\n",
       "      <td>0.000000</td>\n",
       "      <td>0.000000</td>\n",
       "      <td>0.000000</td>\n",
       "      <td>0.000000</td>\n",
       "    </tr>\n",
       "    <tr>\n",
       "      <th>25%</th>\n",
       "      <td>32.000000</td>\n",
       "      <td>122.000000</td>\n",
       "      <td>8.000000</td>\n",
       "      <td>1.000000</td>\n",
       "      <td>-1.000000</td>\n",
       "      <td>0.000000</td>\n",
       "      <td>0.000000</td>\n",
       "      <td>0.000000</td>\n",
       "      <td>0.000000</td>\n",
       "      <td>0.000000</td>\n",
       "      <td>...</td>\n",
       "      <td>0.000000</td>\n",
       "      <td>0.000000</td>\n",
       "      <td>0.000000</td>\n",
       "      <td>0.000000</td>\n",
       "      <td>0.000000</td>\n",
       "      <td>0.000000</td>\n",
       "      <td>0.000000</td>\n",
       "      <td>0.000000</td>\n",
       "      <td>0.000000</td>\n",
       "      <td>0.000000</td>\n",
       "    </tr>\n",
       "    <tr>\n",
       "      <th>50%</th>\n",
       "      <td>39.000000</td>\n",
       "      <td>553.000000</td>\n",
       "      <td>15.000000</td>\n",
       "      <td>2.000000</td>\n",
       "      <td>-1.000000</td>\n",
       "      <td>0.000000</td>\n",
       "      <td>0.000000</td>\n",
       "      <td>0.000000</td>\n",
       "      <td>0.000000</td>\n",
       "      <td>0.000000</td>\n",
       "      <td>...</td>\n",
       "      <td>0.000000</td>\n",
       "      <td>0.000000</td>\n",
       "      <td>0.000000</td>\n",
       "      <td>0.000000</td>\n",
       "      <td>0.000000</td>\n",
       "      <td>0.000000</td>\n",
       "      <td>0.000000</td>\n",
       "      <td>0.000000</td>\n",
       "      <td>0.000000</td>\n",
       "      <td>1.000000</td>\n",
       "    </tr>\n",
       "    <tr>\n",
       "      <th>75%</th>\n",
       "      <td>49.000000</td>\n",
       "      <td>1723.000000</td>\n",
       "      <td>21.000000</td>\n",
       "      <td>3.000000</td>\n",
       "      <td>8.000000</td>\n",
       "      <td>1.000000</td>\n",
       "      <td>1.000000</td>\n",
       "      <td>0.000000</td>\n",
       "      <td>0.000000</td>\n",
       "      <td>0.000000</td>\n",
       "      <td>...</td>\n",
       "      <td>0.000000</td>\n",
       "      <td>0.000000</td>\n",
       "      <td>1.000000</td>\n",
       "      <td>0.000000</td>\n",
       "      <td>0.000000</td>\n",
       "      <td>0.000000</td>\n",
       "      <td>0.000000</td>\n",
       "      <td>0.000000</td>\n",
       "      <td>0.000000</td>\n",
       "      <td>1.000000</td>\n",
       "    </tr>\n",
       "    <tr>\n",
       "      <th>max</th>\n",
       "      <td>95.000000</td>\n",
       "      <td>81204.000000</td>\n",
       "      <td>31.000000</td>\n",
       "      <td>63.000000</td>\n",
       "      <td>842.000000</td>\n",
       "      <td>58.000000</td>\n",
       "      <td>1.000000</td>\n",
       "      <td>1.000000</td>\n",
       "      <td>1.000000</td>\n",
       "      <td>1.000000</td>\n",
       "      <td>...</td>\n",
       "      <td>1.000000</td>\n",
       "      <td>1.000000</td>\n",
       "      <td>1.000000</td>\n",
       "      <td>1.000000</td>\n",
       "      <td>1.000000</td>\n",
       "      <td>1.000000</td>\n",
       "      <td>1.000000</td>\n",
       "      <td>1.000000</td>\n",
       "      <td>1.000000</td>\n",
       "      <td>1.000000</td>\n",
       "    </tr>\n",
       "  </tbody>\n",
       "</table>\n",
       "<p>8 rows × 51 columns</p>\n",
       "</div>"
      ],
      "text/plain": [
       "               age       balance          day     campaign        pdays  \\\n",
       "count  8929.000000   8929.000000  8929.000000  8929.000000  8929.000000   \n",
       "mean     41.270915   1545.323440    15.646657     2.520887    51.094523   \n",
       "std      11.944464   3335.891813     8.390010     2.787669   108.388595   \n",
       "min      18.000000  -6847.000000     1.000000     1.000000    -1.000000   \n",
       "25%      32.000000    122.000000     8.000000     1.000000    -1.000000   \n",
       "50%      39.000000    553.000000    15.000000     2.000000    -1.000000   \n",
       "75%      49.000000   1723.000000    21.000000     3.000000     8.000000   \n",
       "max      95.000000  81204.000000    31.000000    63.000000   842.000000   \n",
       "\n",
       "          previous      deposit   job_admin.  job_blue-collar  \\\n",
       "count  8929.000000  8929.000000  8929.000000      8929.000000   \n",
       "mean      0.835144     0.471833     0.120282         0.175160   \n",
       "std       2.319982     0.499234     0.325309         0.380125   \n",
       "min       0.000000     0.000000     0.000000         0.000000   \n",
       "25%       0.000000     0.000000     0.000000         0.000000   \n",
       "50%       0.000000     0.000000     0.000000         0.000000   \n",
       "75%       1.000000     1.000000     0.000000         0.000000   \n",
       "max      58.000000     1.000000     1.000000         1.000000   \n",
       "\n",
       "       job_entrepreneur        ...           month_jun    month_mar  \\\n",
       "count       8929.000000        ...         8929.000000  8929.000000   \n",
       "mean           0.029455        ...            0.107739     0.025087   \n",
       "std            0.169086        ...            0.310068     0.156398   \n",
       "min            0.000000        ...            0.000000     0.000000   \n",
       "25%            0.000000        ...            0.000000     0.000000   \n",
       "50%            0.000000        ...            0.000000     0.000000   \n",
       "75%            0.000000        ...            0.000000     0.000000   \n",
       "max            1.000000        ...            1.000000     1.000000   \n",
       "\n",
       "         month_may    month_nov    month_oct    month_sep  poutcome_failure  \\\n",
       "count  8929.000000  8929.000000  8929.000000  8929.000000       8929.000000   \n",
       "mean      0.257252     0.084332     0.034718     0.029903          0.108859   \n",
       "std       0.437144     0.277901     0.183076     0.170328          0.311479   \n",
       "min       0.000000     0.000000     0.000000     0.000000          0.000000   \n",
       "25%       0.000000     0.000000     0.000000     0.000000          0.000000   \n",
       "50%       0.000000     0.000000     0.000000     0.000000          0.000000   \n",
       "75%       1.000000     0.000000     0.000000     0.000000          0.000000   \n",
       "max       1.000000     1.000000     1.000000     1.000000          1.000000   \n",
       "\n",
       "       poutcome_other  poutcome_success  poutcome_unknown  \n",
       "count     8929.000000       8929.000000       8929.000000  \n",
       "mean         0.048606          0.094523          0.748012  \n",
       "std          0.215054          0.292572          0.434179  \n",
       "min          0.000000          0.000000          0.000000  \n",
       "25%          0.000000          0.000000          0.000000  \n",
       "50%          0.000000          0.000000          1.000000  \n",
       "75%          0.000000          0.000000          1.000000  \n",
       "max          1.000000          1.000000          1.000000  \n",
       "\n",
       "[8 rows x 51 columns]"
      ]
     },
     "execution_count": 8,
     "metadata": {},
     "output_type": "execute_result"
    }
   ],
   "source": [
    "re_valuate.describe()"
   ]
  },
  {
   "cell_type": "code",
   "execution_count": 9,
   "metadata": {},
   "outputs": [],
   "source": [
    "preprocess_train = re_valuate\n",
    "first_preprocess_train =preprocess_train.drop(['customer_id', 'deposit'], axis = 1)"
   ]
  },
  {
   "cell_type": "code",
   "execution_count": 10,
   "metadata": {},
   "outputs": [
    {
     "name": "stdout",
     "output_type": "stream",
     "text": [
      "(8929, 50)\n"
     ]
    }
   ],
   "source": [
    "first_preprocess_train.head()\n",
    "print (first_preprocess_train.shape)"
   ]
  },
  {
   "cell_type": "code",
   "execution_count": 52,
   "metadata": {},
   "outputs": [
    {
     "name": "stdout",
     "output_type": "stream",
     "text": [
      "1\n"
     ]
    }
   ],
   "source": [
    "# applying dimensionality reduction\n",
    "# choosing the right number of dimensions\n",
    "\n",
    "from sklearn.decomposition import PCA\n",
    "pca = PCA()\n",
    "pca.fit(first_preprocess_train)\n",
    "cumsum = np.cumsum(pca.explained_variance_ratio_)\n",
    "d = np.argmax(cumsum <= 0.95) + 1\n",
    "print (d)"
   ]
  },
  {
   "cell_type": "code",
   "execution_count": 55,
   "metadata": {},
   "outputs": [
    {
     "data": {
      "text/plain": [
       "array([ 0.99892511])"
      ]
     },
     "execution_count": 55,
     "metadata": {},
     "output_type": "execute_result"
    }
   ],
   "source": [
    "pca = PCA(n_components = 1)\n",
    "pca.fit(first_preprocess_train)\n",
    "pca.explained_variance_ratio_"
   ]
  },
  {
   "cell_type": "code",
   "execution_count": 56,
   "metadata": {},
   "outputs": [
    {
     "name": "stdout",
     "output_type": "stream",
     "text": [
      "(8929, 1)\n"
     ]
    }
   ],
   "source": [
    "pca = PCA(n_components = 0.95)\n",
    "x_reduced = pca.fit_transform(first_preprocess_train)\n",
    "print (x_reduced.shape)"
   ]
  },
  {
   "cell_type": "code",
   "execution_count": 57,
   "metadata": {},
   "outputs": [],
   "source": [
    "import sklearn as sk\n",
    "from sklearn.preprocessing import MinMaxScaler\n",
    "from sklearn.preprocessing import StandardScaler\n",
    "\n",
    "from sklearn.cross_validation import train_test_split"
   ]
  },
  {
   "cell_type": "code",
   "execution_count": 58,
   "metadata": {},
   "outputs": [],
   "source": [
    "x = x_reduced\n",
    "y = re_valuate['deposit']\n",
    "\n",
    "x_train, x_test, y_train, y_test = train_test_split(x, y, test_size = 0.20, random_state = 42)"
   ]
  },
  {
   "cell_type": "code",
   "execution_count": 59,
   "metadata": {},
   "outputs": [],
   "source": [
    "scale = MinMaxScaler()\n",
    "std_scale = StandardScaler()\n",
    "x_train_std = std_scale.fit_transform(x_train)\n",
    "x_test_std = std_scale.fit_transform(x_test)\n",
    "\n",
    "x_train_scale = scale.fit_transform(x_train_std)\n",
    "x_test_scale = scale.fit_transform(x_test_std)"
   ]
  },
  {
   "cell_type": "code",
   "execution_count": 60,
   "metadata": {},
   "outputs": [
    {
     "data": {
      "text/plain": [
       "(0.65826683466330671, 0.53303471444568873)"
      ]
     },
     "execution_count": 60,
     "metadata": {},
     "output_type": "execute_result"
    }
   ],
   "source": [
    "from sklearn.neighbors import KNeighborsClassifier\n",
    "from sklearn.metrics import mean_squared_error\n",
    "\n",
    "knn = KNeighborsClassifier(n_neighbors = 10)\n",
    "\n",
    "knn.fit(x_train_scale, y_train)\n",
    "y_pred = knn.predict(x_test_scale)\n",
    "mse = mean_squared_error(y_pred, y_test)\n",
    "mse\n",
    "knn.score(x_train_scale, y_train),knn.score(x_test_scale, y_test)\n"
   ]
  },
  {
   "cell_type": "code",
   "execution_count": 61,
   "metadata": {},
   "outputs": [
    {
     "name": "stdout",
     "output_type": "stream",
     "text": [
      "1.0         0.556550951848        1\n",
      "0.778384432311         0.53751399776        2\n",
      "0.77446451071         0.552631578947        3\n",
      "0.717625647487         0.535274356103        4\n",
      "0.718745625087         0.545352743561        5\n",
      "0.688926221476         0.542553191489        6\n",
      "0.688366232675         0.54647256439        7\n",
      "0.671286574269         0.541993281075        8\n",
      "0.671426571469         0.538073908175        9\n",
      "0.658266834663         0.533034714446        10\n"
     ]
    }
   ],
   "source": [
    "for n in [1,2,3,4,5,6,7,8,9,10]:\n",
    "    knn =  KNeighborsClassifier(n_neighbors = n)\n",
    "    knn.fit(x_train_scale, y_train)\n",
    "    print (knn.score(x_train_scale, y_train), \"       \",knn.score(x_test_scale, y_test), \"      \", n)"
   ]
  },
  {
   "cell_type": "code",
   "execution_count": 62,
   "metadata": {},
   "outputs": [
    {
     "name": "stdout",
     "output_type": "stream",
     "text": [
      "0.565587745588\n"
     ]
    }
   ],
   "source": [
    "from sklearn.cross_validation import cross_val_score\n",
    "score = cross_val_score(knn, x_train_scale, y_train, cv = 10)\n",
    "print (np.mean(score))"
   ]
  },
  {
   "cell_type": "code",
   "execution_count": 63,
   "metadata": {},
   "outputs": [
    {
     "name": "stdout",
     "output_type": "stream",
     "text": [
      "0.466965285554 0.533034714446\n"
     ]
    }
   ],
   "source": [
    "from sklearn.metrics import accuracy_score\n",
    "y_pred = knn.predict(x_test_scale)\n",
    "mse = mean_squared_error(y_pred, y_test)\n",
    "print (mse ,accuracy_score(y_test, y_pred))"
   ]
  },
  {
   "cell_type": "code",
   "execution_count": 64,
   "metadata": {},
   "outputs": [
    {
     "data": {
      "text/plain": [
       "(0.54500909981800361, 0.55151175811870101)"
      ]
     },
     "execution_count": 64,
     "metadata": {},
     "output_type": "execute_result"
    }
   ],
   "source": [
    "from sklearn.linear_model import LogisticRegression\n",
    "lr = LogisticRegression(C = 100)\n",
    "lr.fit(x_train_scale, y_train)\n",
    "lr.score(x_train_scale, y_train), lr.score(x_test_scale, y_test)"
   ]
  },
  {
   "cell_type": "code",
   "execution_count": 65,
   "metadata": {},
   "outputs": [
    {
     "name": "stdout",
     "output_type": "stream",
     "text": [
      "0.529609407812       0.522396416573       1e-05\n",
      "0.529609407812       0.522396416573       0.0001\n",
      "0.529609407812       0.522396416573       0.001\n",
      "0.529609407812       0.522396416573       0.01\n",
      "0.528909421812       0.525755879059       0.1\n",
      "0.539269214616       0.541993281075       1\n",
      "0.539269214616       0.541993281075       1.0\n",
      "0.544729105418       0.54647256439       10\n",
      "0.545009099818       0.551511758119       100\n"
     ]
    }
   ],
   "source": [
    "for C in [0.00001,0.0001,0.001,0.01,0.1,1,1.0,10,100]:\n",
    "    lr = LogisticRegression(C = C)\n",
    "    lr.fit(x_train_scale, y_train)\n",
    "    print (lr.score(x_train_scale, y_train), \"     \", lr.score(x_test_scale, y_test), \"     \", C)"
   ]
  },
  {
   "cell_type": "code",
   "execution_count": 66,
   "metadata": {},
   "outputs": [
    {
     "name": "stdout",
     "output_type": "stream",
     "text": [
      "0.544729192376\n"
     ]
    }
   ],
   "source": [
    "score = cross_val_score(lr, x_train_scale, y_train, cv = 10)\n",
    "print (np.mean(score))"
   ]
  },
  {
   "cell_type": "code",
   "execution_count": 67,
   "metadata": {},
   "outputs": [
    {
     "name": "stdout",
     "output_type": "stream",
     "text": [
      "0.448488241881 0.551511758119\n"
     ]
    }
   ],
   "source": [
    "y_pred = lr.predict(x_test_scale)\n",
    "mse = mean_squared_error(y_pred, y_test)\n",
    "print (mse ,accuracy_score(y_test, y_pred))"
   ]
  },
  {
   "cell_type": "code",
   "execution_count": 68,
   "metadata": {},
   "outputs": [],
   "source": [
    "from keras import models\n",
    "from keras import layers\n",
    "\n",
    "model = models.Sequential()\n",
    "model.add(layers.Dense(70, activation = 'relu', input_shape = (7143,50)))\n",
    "model.add(layers.Dense(1, activation = 'sigmoid'))"
   ]
  },
  {
   "cell_type": "code",
   "execution_count": 69,
   "metadata": {},
   "outputs": [],
   "source": [
    "from keras import optimizers\n",
    "model.compile(optimizer = optimizers.RMSprop(lr = 0.001),\n",
    "             loss = 'mse', metrics = ['accuracy'])"
   ]
  },
  {
   "cell_type": "code",
   "execution_count": 70,
   "metadata": {},
   "outputs": [
    {
     "data": {
      "text/plain": [
       "array([0, 0, 0, ..., 0, 0, 0], dtype=int64)"
      ]
     },
     "execution_count": 70,
     "metadata": {},
     "output_type": "execute_result"
    }
   ],
   "source": [
    "# implementing confusion matrix\n",
    "# cross val predict performs kfold cross_validation, but instead of\n",
    "# returning the evaluation scores, it returns the predictions made on each\n",
    "# test fold.\n",
    "\n",
    "from sklearn.model_selection import cross_val_predict\n",
    "y_train_predict = cross_val_predict(lr, x_train_scale, y_train, cv = 10)\n",
    "y_train_predict"
   ]
  },
  {
   "cell_type": "code",
   "execution_count": 71,
   "metadata": {},
   "outputs": [
    {
     "data": {
      "text/plain": [
       "array([[3458,  325],\n",
       "       [2927,  433]])"
      ]
     },
     "execution_count": 71,
     "metadata": {},
     "output_type": "execute_result"
    }
   ],
   "source": [
    "from sklearn.metrics import confusion_matrix\n",
    "confusion_matrix(y_train, y_train_predict)"
   ]
  },
  {
   "cell_type": "code",
   "execution_count": 72,
   "metadata": {},
   "outputs": [
    {
     "data": {
      "text/plain": [
       "0.5712401055408971"
      ]
     },
     "execution_count": 72,
     "metadata": {},
     "output_type": "execute_result"
    }
   ],
   "source": [
    "from sklearn.metrics import precision_score, recall_score\n",
    "precision_score(y_train, y_train_predict)"
   ]
  },
  {
   "cell_type": "code",
   "execution_count": 73,
   "metadata": {},
   "outputs": [
    {
     "data": {
      "text/plain": [
       "0.12886904761904761"
      ]
     },
     "execution_count": 73,
     "metadata": {},
     "output_type": "execute_result"
    }
   ],
   "source": [
    "recall_score(y_train, y_train_predict)"
   ]
  },
  {
   "cell_type": "code",
   "execution_count": 74,
   "metadata": {},
   "outputs": [
    {
     "data": {
      "text/plain": [
       "0.21029626032054394"
      ]
     },
     "execution_count": 74,
     "metadata": {},
     "output_type": "execute_result"
    }
   ],
   "source": [
    "from sklearn.metrics import f1_score\n",
    "f1_score(y_train, y_train_predict)"
   ]
  },
  {
   "cell_type": "code",
   "execution_count": 75,
   "metadata": {},
   "outputs": [
    {
     "name": "stdout",
     "output_type": "stream",
     "text": [
      "0.5522995523 0.403869047619 0.466563520715\n"
     ]
    }
   ],
   "source": [
    "from sklearn.model_selection import cross_val_predict\n",
    "confusion_value, precision, recall, f1 = np.array((2,2)), 0, 0, 0\n",
    "y_train_predict = cross_val_predict(knn, x_train_scale, y_train, cv = 10)\n",
    "from sklearn.metrics import confusion_matrix\n",
    "confusion_value = confusion_matrix(y_train, y_train_predict)\n",
    "from sklearn.metrics import precision_score, recall_score, f1_score\n",
    "precision = precision_score(y_train, y_train_predict)\n",
    "recall = recall_score(y_train, y_train_predict)\n",
    "f1 = f1_score(y_train, y_train_predict)\n",
    "print (precision, recall, f1)"
   ]
  },
  {
   "cell_type": "code",
   "execution_count": 76,
   "metadata": {},
   "outputs": [
    {
     "name": "stdout",
     "output_type": "stream",
     "text": [
      "0.472004479283 0.527995520717\n"
     ]
    }
   ],
   "source": [
    "from sklearn.linear_model import SGDClassifier\n",
    "sgd = SGDClassifier()\n",
    "sgd.fit(x_train_scale, y_train)\n",
    "sgd.score(x_train_scale, y_train),sgd.score(x_test_scale, y_test)\n",
    "y_pred = sgd.predict(x_test_scale)\n",
    "mse = mean_squared_error(y_pred, y_test)\n",
    "print (mse ,accuracy_score(y_test, y_pred))\n"
   ]
  },
  {
   "cell_type": "code",
   "execution_count": 77,
   "metadata": {},
   "outputs": [
    {
     "name": "stdout",
     "output_type": "stream",
     "text": [
      "0.493424513414 0.279166666667 0.356586200342\n"
     ]
    }
   ],
   "source": [
    "from sklearn.model_selection import cross_val_predict\n",
    "confusion_value, precision, recall, f1 = np.array((2,2)), 0, 0, 0\n",
    "y_train_predict = cross_val_predict(sgd, x_train_scale, y_train, cv = 10)\n",
    "from sklearn.metrics import confusion_matrix\n",
    "confusion_value = confusion_matrix(y_train, y_train_predict)\n",
    "from sklearn.metrics import precision_score, recall_score, f1_score\n",
    "precision = precision_score(y_train, y_train_predict)\n",
    "recall = recall_score(y_train, y_train_predict)\n",
    "f1 = f1_score(y_train, y_train_predict)\n",
    "print (precision, recall, f1)"
   ]
  },
  {
   "cell_type": "code",
   "execution_count": 78,
   "metadata": {},
   "outputs": [
    {
     "name": "stdout",
     "output_type": "stream",
     "text": [
      "0.437849944009 0.562150055991\n"
     ]
    }
   ],
   "source": [
    "from sklearn.tree import DecisionTreeClassifier\n",
    "dtc = DecisionTreeClassifier(max_depth = 9)\n",
    "dtc.fit(x_train_scale, y_train)\n",
    "dtc.score(x_train_scale, y_train),dtc.score(x_test_scale, y_test)\n",
    "y_pred = dtc.predict(x_test_scale)\n",
    "mse = mean_squared_error(y_pred, y_test)\n",
    "print (mse ,accuracy_score(y_test, y_pred))"
   ]
  },
  {
   "cell_type": "code",
   "execution_count": 79,
   "metadata": {},
   "outputs": [
    {
     "name": "stdout",
     "output_type": "stream",
     "text": [
      "1 0.433930571109 0.566069428891\n",
      "2 0.43673012318 0.56326987682\n",
      "3 0.43673012318 0.56326987682\n",
      "4 0.440649496081 0.559350503919\n",
      "5 0.435610302352 0.564389697648\n",
      "6 0.436170212766 0.563829787234\n",
      "7 0.437849944009 0.562150055991\n",
      "8 0.436170212766 0.563829787234\n",
      "9 0.437849944009 0.562150055991\n",
      "10 0.432250839866 0.567749160134\n"
     ]
    }
   ],
   "source": [
    "for i in range(1,11):\n",
    "    dtc = DecisionTreeClassifier(max_depth = i)\n",
    "    dtc.fit(x_train_scale, y_train)\n",
    "    dtc.score(x_train_scale, y_train),dtc.score(x_test_scale, y_test)\n",
    "    y_pred = dtc.predict(x_test_scale)\n",
    "    mse = mean_squared_error(y_pred, y_test)\n",
    "    print (i, mse ,accuracy_score(y_test, y_pred))"
   ]
  },
  {
   "cell_type": "code",
   "execution_count": 80,
   "metadata": {},
   "outputs": [
    {
     "name": "stdout",
     "output_type": "stream",
     "text": [
      "0.563407930899 0.427083333333 0.485864228881\n"
     ]
    }
   ],
   "source": [
    "from sklearn.model_selection import cross_val_predict\n",
    "confusion_value, precision, recall, f1 = np.array((2,2)), 0, 0, 0\n",
    "y_train_predict = cross_val_predict(dtc, x_train_scale, y_train, cv = 10)\n",
    "from sklearn.metrics import confusion_matrix\n",
    "confusion_value = confusion_matrix(y_train, y_train_predict)\n",
    "from sklearn.metrics import precision_score, recall_score, f1_score\n",
    "precision = precision_score(y_train, y_train_predict)\n",
    "recall = recall_score(y_train, y_train_predict)\n",
    "f1 = f1_score(y_train, y_train_predict)\n",
    "print (precision, recall, f1)"
   ]
  },
  {
   "cell_type": "code",
   "execution_count": 81,
   "metadata": {},
   "outputs": [
    {
     "name": "stdout",
     "output_type": "stream",
     "text": [
      "0.442889137738 0.557110862262\n"
     ]
    }
   ],
   "source": [
    "from sklearn.ensemble import RandomForestClassifier\n",
    "rand = RandomForestClassifier(max_depth = 10, n_estimators = 60)\n",
    "rand.fit(x_train_scale, y_train)\n",
    "rand.score(x_train_scale, y_train),rand.score(x_test_scale, y_test)\n",
    "y_pred = rand.predict(x_test_scale)\n",
    "mse = mean_squared_error(y_pred, y_test)\n",
    "print (mse ,accuracy_score(y_test, y_pred))"
   ]
  },
  {
   "cell_type": "code",
   "execution_count": 82,
   "metadata": {},
   "outputs": [
    {
     "data": {
      "text/plain": [
       "{'bootstrap': True,\n",
       " 'class_weight': None,\n",
       " 'criterion': 'gini',\n",
       " 'max_depth': 10,\n",
       " 'max_features': 'auto',\n",
       " 'max_leaf_nodes': None,\n",
       " 'min_impurity_split': 1e-07,\n",
       " 'min_samples_leaf': 1,\n",
       " 'min_samples_split': 2,\n",
       " 'min_weight_fraction_leaf': 0.0,\n",
       " 'n_estimators': 60,\n",
       " 'n_jobs': 1,\n",
       " 'oob_score': False,\n",
       " 'random_state': None,\n",
       " 'verbose': 0,\n",
       " 'warm_start': False}"
      ]
     },
     "execution_count": 82,
     "metadata": {},
     "output_type": "execute_result"
    }
   ],
   "source": [
    "rand.get_params()"
   ]
  },
  {
   "cell_type": "code",
   "execution_count": 83,
   "metadata": {},
   "outputs": [
    {
     "name": "stdout",
     "output_type": "stream",
     "text": [
      "1 0.43673012318 0.56326987682 5\n",
      "1 0.437290033595 0.562709966405 10\n",
      "1 0.437290033595 0.562709966405 20\n",
      "1 0.438969764838 0.561030235162 30\n",
      "1 0.437290033595 0.562709966405 40\n",
      "1 0.43673012318 0.56326987682 50\n",
      "1 0.437290033595 0.562709966405 60\n",
      "1 0.437290033595 0.562709966405 70\n",
      "1 0.437290033595 0.562709966405 80\n",
      "2 0.437290033595 0.562709966405 5\n",
      "2 0.43673012318 0.56326987682 10\n",
      "2 0.436170212766 0.563829787234 20\n",
      "2 0.435610302352 0.564389697648 30\n",
      "2 0.436170212766 0.563829787234 40\n",
      "2 0.43673012318 0.56326987682 50\n",
      "2 0.435610302352 0.564389697648 60\n",
      "2 0.435610302352 0.564389697648 70\n",
      "2 0.434490481523 0.565509518477 80\n",
      "3 0.438969764838 0.561030235162 5\n",
      "3 0.441209406495 0.558790593505 10\n",
      "3 0.438409854423 0.561590145577 20\n",
      "3 0.438409854423 0.561590145577 30\n",
      "3 0.438409854423 0.561590145577 40\n",
      "3 0.437849944009 0.562150055991 50\n",
      "3 0.438969764838 0.561030235162 60\n",
      "3 0.439529675252 0.560470324748 70\n",
      "3 0.441769316909 0.558230683091 80\n",
      "4 0.440089585666 0.559910414334 5\n",
      "4 0.440649496081 0.559350503919 10\n",
      "4 0.441209406495 0.558790593505 20\n",
      "4 0.438969764838 0.561030235162 30\n",
      "4 0.439529675252 0.560470324748 40\n",
      "4 0.439529675252 0.560470324748 50\n",
      "4 0.438969764838 0.561030235162 60\n",
      "4 0.440089585666 0.559910414334 70\n",
      "4 0.439529675252 0.560470324748 80\n",
      "5 0.441209406495 0.558790593505 5\n",
      "5 0.442889137738 0.557110862262 10\n",
      "5 0.43673012318 0.56326987682 20\n",
      "5 0.440089585666 0.559910414334 30\n",
      "5 0.440089585666 0.559910414334 40\n",
      "5 0.439529675252 0.560470324748 50\n",
      "5 0.438969764838 0.561030235162 60\n",
      "5 0.440649496081 0.559350503919 70\n",
      "5 0.440649496081 0.559350503919 80\n",
      "6 0.447928331467 0.552071668533 5\n",
      "6 0.439529675252 0.560470324748 10\n",
      "6 0.440649496081 0.559350503919 20\n",
      "6 0.440089585666 0.559910414334 30\n",
      "6 0.432250839866 0.567749160134 40\n",
      "6 0.441769316909 0.558230683091 50\n",
      "6 0.441209406495 0.558790593505 60\n",
      "6 0.440089585666 0.559910414334 70\n",
      "6 0.444008958567 0.555991041433 80\n",
      "7 0.438409854423 0.561590145577 5\n",
      "7 0.441769316909 0.558230683091 10\n",
      "7 0.442329227324 0.557670772676 20\n",
      "7 0.440649496081 0.559350503919 30\n",
      "7 0.437290033595 0.562709966405 40\n",
      "7 0.435050391937 0.564949608063 50\n",
      "7 0.441769316909 0.558230683091 60\n",
      "7 0.438969764838 0.561030235162 70\n",
      "7 0.445128779395 0.554871220605 80\n",
      "8 0.455767077268 0.544232922732 5\n",
      "8 0.436170212766 0.563829787234 10\n",
      "8 0.446248600224 0.553751399776 20\n",
      "8 0.442329227324 0.557670772676 30\n",
      "8 0.439529675252 0.560470324748 40\n",
      "8 0.438409854423 0.561590145577 50\n",
      "8 0.438969764838 0.561030235162 60\n",
      "8 0.438969764838 0.561030235162 70\n",
      "8 0.440089585666 0.559910414334 80\n",
      "9 0.436170212766 0.563829787234 5\n",
      "9 0.447928331467 0.552071668533 10\n",
      "9 0.431131019037 0.568868980963 20\n",
      "9 0.447928331467 0.552071668533 30\n",
      "9 0.438409854423 0.561590145577 40\n",
      "9 0.440649496081 0.559350503919 50\n",
      "9 0.441209406495 0.558790593505 60\n",
      "9 0.442889137738 0.557110862262 70\n",
      "9 0.440649496081 0.559350503919 80\n",
      "10 0.432250839866 0.567749160134 5\n",
      "10 0.451287793953 0.548712206047 10\n",
      "10 0.442329227324 0.557670772676 20\n",
      "10 0.43673012318 0.56326987682 30\n",
      "10 0.448488241881 0.551511758119 40\n",
      "10 0.439529675252 0.560470324748 50\n",
      "10 0.443449048152 0.556550951848 60\n",
      "10 0.440089585666 0.559910414334 70\n",
      "10 0.43281075028 0.56718924972 80\n"
     ]
    }
   ],
   "source": [
    "for i in range(1,11):\n",
    "    for nam in [5, 10, 20, 30, 40, 50, 60, 70,80]:\n",
    "        rand = RandomForestClassifier(max_depth = i, n_estimators = nam)\n",
    "        rand.fit(x_train_scale, y_train)\n",
    "        rand.score(x_train_scale, y_train),rand.score(x_test_scale, y_test)\n",
    "        y_pred = rand.predict(x_test_scale)\n",
    "        mse = mean_squared_error(y_pred, y_test)\n",
    "        print (i, mse ,accuracy_score(y_test, y_pred), nam)"
   ]
  },
  {
   "cell_type": "code",
   "execution_count": 84,
   "metadata": {},
   "outputs": [
    {
     "name": "stdout",
     "output_type": "stream",
     "text": [
      "0.555555555556 0.482142857143 0.516252390057\n"
     ]
    }
   ],
   "source": [
    "from sklearn.model_selection import cross_val_predict\n",
    "confusion_value, precision, recall, f1 = np.array((2,2)), 0, 0, 0\n",
    "y_train_predict = cross_val_predict(rand, x_train_scale, y_train, cv = 10)\n",
    "from sklearn.metrics import confusion_matrix\n",
    "confusion_value = confusion_matrix(y_train, y_train_predict)\n",
    "from sklearn.metrics import precision_score, recall_score, f1_score\n",
    "precision = precision_score(y_train, y_train_predict)\n",
    "recall = recall_score(y_train, y_train_predict)\n",
    "f1 = f1_score(y_train, y_train_predict)\n",
    "print (precision, recall, f1)"
   ]
  },
  {
   "cell_type": "code",
   "execution_count": 85,
   "metadata": {},
   "outputs": [],
   "source": [
    "from sklearn.metrics import precision_recall_curve\n",
    "precisions, recalls, threshold = precision_recall_curve(y_train, y_train_predict)"
   ]
  },
  {
   "cell_type": "code",
   "execution_count": 86,
   "metadata": {},
   "outputs": [
    {
     "data": {
      "text/plain": [
       "0.55555555555555558"
      ]
     },
     "execution_count": 86,
     "metadata": {},
     "output_type": "execute_result"
    }
   ],
   "source": [
    "precision_score(y_train, y_train_predict)"
   ]
  },
  {
   "cell_type": "code",
   "execution_count": 87,
   "metadata": {},
   "outputs": [
    {
     "data": {
      "text/plain": [
       "0.48214285714285715"
      ]
     },
     "execution_count": 87,
     "metadata": {},
     "output_type": "execute_result"
    }
   ],
   "source": [
    "recall_score(y_train, y_train_predict)"
   ]
  },
  {
   "cell_type": "code",
   "execution_count": 89,
   "metadata": {},
   "outputs": [],
   "source": [
    "from sklearn.ensemble import GradientBoostingClassifier\n",
    "val_i, val_j, val_k, val_mse = [],[],[],[]\n",
    "for i in range(1,11):\n",
    "    for j in [0.001,0.01,0.1,1, 10,100,1000]:\n",
    "        for k in [5,10,20,30,40,50,60,70,80,90,100]:\n",
    "            gbrt = GradientBoostingClassifier(random_state = 1, max_depth = i, learning_rate = j, n_estimators = k)\n",
    "            gbrt.fit(x_train_scale, y_train)\n",
    "            gbrt.score(x_train_scale, y_train),gbrt.score(x_test_scale, y_test)\n",
    "            y_pred = gbrt.predict(x_test_scale)\n",
    "            mse = mean_squared_error(y_pred, y_test)\n",
    "            val_i.append(i)\n",
    "            val_j.append(j)\n",
    "            val_k.append(k)\n",
    "            val_mse.append(mse)        "
   ]
  },
  {
   "cell_type": "code",
   "execution_count": 90,
   "metadata": {},
   "outputs": [],
   "source": [
    "from sklearn.metrics import roc_curve\n",
    "fpr, tpr, thresholds = roc_curve(y_train, y_train_predict)\n",
    "\n"
   ]
  },
  {
   "cell_type": "code",
   "execution_count": 91,
   "metadata": {},
   "outputs": [
    {
     "ename": "NameError",
     "evalue": "name 'plt' is not defined",
     "output_type": "error",
     "traceback": [
      "\u001b[1;31m---------------------------------------------------------------------------\u001b[0m",
      "\u001b[1;31mNameError\u001b[0m                                 Traceback (most recent call last)",
      "\u001b[1;32m<ipython-input-91-6afc494687e8>\u001b[0m in \u001b[0;36m<module>\u001b[1;34m()\u001b[0m\n\u001b[0;32m      6\u001b[0m     \u001b[0mplt\u001b[0m\u001b[1;33m.\u001b[0m\u001b[0mylabel\u001b[0m\u001b[1;33m(\u001b[0m\u001b[1;34m'True positive Rate'\u001b[0m\u001b[1;33m)\u001b[0m\u001b[1;33m\u001b[0m\u001b[0m\n\u001b[0;32m      7\u001b[0m \u001b[1;33m\u001b[0m\u001b[0m\n\u001b[1;32m----> 8\u001b[1;33m \u001b[0mplot_roc_curve\u001b[0m\u001b[1;33m(\u001b[0m\u001b[0mfpr\u001b[0m\u001b[1;33m,\u001b[0m \u001b[0mtpr\u001b[0m\u001b[1;33m)\u001b[0m\u001b[1;33m\u001b[0m\u001b[0m\n\u001b[0m\u001b[0;32m      9\u001b[0m \u001b[0mplt\u001b[0m\u001b[1;33m.\u001b[0m\u001b[0mgrid\u001b[0m\u001b[1;33m(\u001b[0m\u001b[1;33m)\u001b[0m\u001b[1;33m\u001b[0m\u001b[0m\n\u001b[0;32m     10\u001b[0m \u001b[0mplt\u001b[0m\u001b[1;33m.\u001b[0m\u001b[0mshow\u001b[0m\u001b[1;33m(\u001b[0m\u001b[1;33m)\u001b[0m\u001b[1;33m\u001b[0m\u001b[0m\n",
      "\u001b[1;32m<ipython-input-91-6afc494687e8>\u001b[0m in \u001b[0;36mplot_roc_curve\u001b[1;34m(fpr, tpr, label)\u001b[0m\n\u001b[0;32m      1\u001b[0m \u001b[1;32mdef\u001b[0m \u001b[0mplot_roc_curve\u001b[0m\u001b[1;33m(\u001b[0m\u001b[0mfpr\u001b[0m\u001b[1;33m,\u001b[0m \u001b[0mtpr\u001b[0m\u001b[1;33m,\u001b[0m \u001b[0mlabel\u001b[0m \u001b[1;33m=\u001b[0m \u001b[1;32mNone\u001b[0m\u001b[1;33m)\u001b[0m\u001b[1;33m:\u001b[0m\u001b[1;33m\u001b[0m\u001b[0m\n\u001b[1;32m----> 2\u001b[1;33m     \u001b[0mplt\u001b[0m\u001b[1;33m.\u001b[0m\u001b[0mplot\u001b[0m\u001b[1;33m(\u001b[0m\u001b[0mfpr\u001b[0m\u001b[1;33m,\u001b[0m \u001b[0mtpr\u001b[0m\u001b[1;33m,\u001b[0m \u001b[0mlinewidth\u001b[0m \u001b[1;33m=\u001b[0m \u001b[1;36m2\u001b[0m\u001b[1;33m,\u001b[0m \u001b[0mlabel\u001b[0m \u001b[1;33m=\u001b[0m \u001b[0mlabel\u001b[0m\u001b[1;33m)\u001b[0m\u001b[1;33m\u001b[0m\u001b[0m\n\u001b[0m\u001b[0;32m      3\u001b[0m     \u001b[0mplt\u001b[0m\u001b[1;33m.\u001b[0m\u001b[0mplot\u001b[0m\u001b[1;33m(\u001b[0m\u001b[1;33m[\u001b[0m\u001b[1;36m0\u001b[0m\u001b[1;33m,\u001b[0m\u001b[1;36m1\u001b[0m\u001b[1;33m]\u001b[0m\u001b[1;33m,\u001b[0m \u001b[1;33m[\u001b[0m\u001b[1;36m0\u001b[0m\u001b[1;33m,\u001b[0m\u001b[1;36m1\u001b[0m\u001b[1;33m]\u001b[0m\u001b[1;33m,\u001b[0m \u001b[1;34m'k--'\u001b[0m\u001b[1;33m)\u001b[0m\u001b[1;33m\u001b[0m\u001b[0m\n\u001b[0;32m      4\u001b[0m     \u001b[0mplt\u001b[0m\u001b[1;33m.\u001b[0m\u001b[0maxis\u001b[0m\u001b[1;33m(\u001b[0m\u001b[1;33m[\u001b[0m\u001b[1;36m0\u001b[0m\u001b[1;33m,\u001b[0m\u001b[1;36m1\u001b[0m\u001b[1;33m,\u001b[0m\u001b[1;36m0\u001b[0m\u001b[1;33m,\u001b[0m\u001b[1;36m1\u001b[0m\u001b[1;33m]\u001b[0m\u001b[1;33m)\u001b[0m\u001b[1;33m\u001b[0m\u001b[0m\n\u001b[0;32m      5\u001b[0m     \u001b[0mplt\u001b[0m\u001b[1;33m.\u001b[0m\u001b[0mxlabel\u001b[0m\u001b[1;33m(\u001b[0m\u001b[1;34m'False positive Rate'\u001b[0m\u001b[1;33m)\u001b[0m\u001b[1;33m\u001b[0m\u001b[0m\n",
      "\u001b[1;31mNameError\u001b[0m: name 'plt' is not defined"
     ]
    }
   ],
   "source": [
    "def plot_roc_curve(fpr, tpr, label = None):\n",
    "    plt.plot(fpr, tpr, linewidth = 2, label = label)\n",
    "    plt.plot([0,1], [0,1], 'k--')\n",
    "    plt.axis([0,1,0,1])\n",
    "    plt.xlabel('False positive Rate')\n",
    "    plt.ylabel('True positive Rate')\n",
    "    \n",
    "plot_roc_curve(fpr, tpr)\n",
    "plt.grid()\n",
    "plt.show()"
   ]
  },
  {
   "cell_type": "code",
   "execution_count": null,
   "metadata": {},
   "outputs": [],
   "source": [
    "from sklearn.metrics import roc_auc_score\n",
    "roc_auc_score(y_train, y_train_predict)"
   ]
  },
  {
   "cell_type": "code",
   "execution_count": null,
   "metadata": {},
   "outputs": [],
   "source": []
  },
  {
   "cell_type": "code",
   "execution_count": null,
   "metadata": {},
   "outputs": [],
   "source": []
  }
 ],
 "metadata": {
  "kernelspec": {
   "display_name": "Python 3",
   "language": "python",
   "name": "python3"
  },
  "language_info": {
   "codemirror_mode": {
    "name": "ipython",
    "version": 3
   },
   "file_extension": ".py",
   "mimetype": "text/x-python",
   "name": "python",
   "nbconvert_exporter": "python",
   "pygments_lexer": "ipython3",
   "version": "3.6.1"
  }
 },
 "nbformat": 4,
 "nbformat_minor": 2
}
