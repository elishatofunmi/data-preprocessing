{
 "cells": [
  {
   "cell_type": "code",
   "execution_count": 12,
   "metadata": {},
   "outputs": [],
   "source": [
    "import pandas as pd\n",
    "import numpy as np\n",
    "import sklearn as sk\n",
    "import warnings\n",
    "warnings.filterwarnings(\"ignore\")\n",
    "import os, sys\n",
    "os.chdir(r\"C:\\Users\\ACER\\Desktop\\Terragon recruitment\")"
   ]
  },
  {
   "cell_type": "code",
   "execution_count": 13,
   "metadata": {},
   "outputs": [],
   "source": [
    "train_set = pd.read_csv(r\"Train.csv\")\n",
    "test_set = pd.read_csv(r\"Test.csv\")"
   ]
  },
  {
   "cell_type": "code",
   "execution_count": 14,
   "metadata": {},
   "outputs": [
    {
     "data": {
      "text/html": [
       "<div>\n",
       "<style>\n",
       "    .dataframe thead tr:only-child th {\n",
       "        text-align: right;\n",
       "    }\n",
       "\n",
       "    .dataframe thead th {\n",
       "        text-align: left;\n",
       "    }\n",
       "\n",
       "    .dataframe tbody tr th {\n",
       "        vertical-align: top;\n",
       "    }\n",
       "</style>\n",
       "<table border=\"1\" class=\"dataframe\">\n",
       "  <thead>\n",
       "    <tr style=\"text-align: right;\">\n",
       "      <th></th>\n",
       "      <th>customer_id</th>\n",
       "      <th>age</th>\n",
       "      <th>job</th>\n",
       "      <th>marital</th>\n",
       "      <th>education</th>\n",
       "      <th>default</th>\n",
       "      <th>balance</th>\n",
       "      <th>housing</th>\n",
       "      <th>loan</th>\n",
       "      <th>contact</th>\n",
       "      <th>day</th>\n",
       "      <th>month</th>\n",
       "      <th>duration</th>\n",
       "      <th>campaign</th>\n",
       "      <th>pdays</th>\n",
       "      <th>previous</th>\n",
       "      <th>poutcome</th>\n",
       "      <th>deposit</th>\n",
       "    </tr>\n",
       "  </thead>\n",
       "  <tbody>\n",
       "    <tr>\n",
       "      <th>0</th>\n",
       "      <td>RGD002844</td>\n",
       "      <td>31</td>\n",
       "      <td>management</td>\n",
       "      <td>married</td>\n",
       "      <td>tertiary</td>\n",
       "      <td>no</td>\n",
       "      <td>81</td>\n",
       "      <td>yes</td>\n",
       "      <td>no</td>\n",
       "      <td>cellular</td>\n",
       "      <td>29</td>\n",
       "      <td>oct</td>\n",
       "      <td>164</td>\n",
       "      <td>2</td>\n",
       "      <td>-1</td>\n",
       "      <td>0</td>\n",
       "      <td>unknown</td>\n",
       "      <td>1</td>\n",
       "    </tr>\n",
       "    <tr>\n",
       "      <th>1</th>\n",
       "      <td>RGD003806</td>\n",
       "      <td>62</td>\n",
       "      <td>retired</td>\n",
       "      <td>married</td>\n",
       "      <td>secondary</td>\n",
       "      <td>no</td>\n",
       "      <td>569</td>\n",
       "      <td>no</td>\n",
       "      <td>no</td>\n",
       "      <td>cellular</td>\n",
       "      <td>3</td>\n",
       "      <td>aug</td>\n",
       "      <td>187</td>\n",
       "      <td>2</td>\n",
       "      <td>180</td>\n",
       "      <td>6</td>\n",
       "      <td>success</td>\n",
       "      <td>1</td>\n",
       "    </tr>\n",
       "    <tr>\n",
       "      <th>2</th>\n",
       "      <td>RGD008310</td>\n",
       "      <td>35</td>\n",
       "      <td>technician</td>\n",
       "      <td>married</td>\n",
       "      <td>tertiary</td>\n",
       "      <td>no</td>\n",
       "      <td>432</td>\n",
       "      <td>no</td>\n",
       "      <td>no</td>\n",
       "      <td>cellular</td>\n",
       "      <td>12</td>\n",
       "      <td>aug</td>\n",
       "      <td>104</td>\n",
       "      <td>8</td>\n",
       "      <td>-1</td>\n",
       "      <td>0</td>\n",
       "      <td>unknown</td>\n",
       "      <td>0</td>\n",
       "    </tr>\n",
       "    <tr>\n",
       "      <th>3</th>\n",
       "      <td>RGD001840</td>\n",
       "      <td>43</td>\n",
       "      <td>management</td>\n",
       "      <td>married</td>\n",
       "      <td>tertiary</td>\n",
       "      <td>no</td>\n",
       "      <td>1429</td>\n",
       "      <td>yes</td>\n",
       "      <td>no</td>\n",
       "      <td>cellular</td>\n",
       "      <td>7</td>\n",
       "      <td>may</td>\n",
       "      <td>1030</td>\n",
       "      <td>1</td>\n",
       "      <td>169</td>\n",
       "      <td>3</td>\n",
       "      <td>success</td>\n",
       "      <td>1</td>\n",
       "    </tr>\n",
       "    <tr>\n",
       "      <th>4</th>\n",
       "      <td>RGD005881</td>\n",
       "      <td>29</td>\n",
       "      <td>blue-collar</td>\n",
       "      <td>married</td>\n",
       "      <td>primary</td>\n",
       "      <td>no</td>\n",
       "      <td>25</td>\n",
       "      <td>yes</td>\n",
       "      <td>no</td>\n",
       "      <td>unknown</td>\n",
       "      <td>4</td>\n",
       "      <td>jun</td>\n",
       "      <td>188</td>\n",
       "      <td>2</td>\n",
       "      <td>-1</td>\n",
       "      <td>0</td>\n",
       "      <td>unknown</td>\n",
       "      <td>0</td>\n",
       "    </tr>\n",
       "  </tbody>\n",
       "</table>\n",
       "</div>"
      ],
      "text/plain": [
       "  customer_id  age          job  marital  education default  balance housing  \\\n",
       "0   RGD002844   31   management  married   tertiary      no       81     yes   \n",
       "1   RGD003806   62      retired  married  secondary      no      569      no   \n",
       "2   RGD008310   35   technician  married   tertiary      no      432      no   \n",
       "3   RGD001840   43   management  married   tertiary      no     1429     yes   \n",
       "4   RGD005881   29  blue-collar  married    primary      no       25     yes   \n",
       "\n",
       "  loan   contact  day month  duration  campaign  pdays  previous poutcome  \\\n",
       "0   no  cellular   29   oct       164         2     -1         0  unknown   \n",
       "1   no  cellular    3   aug       187         2    180         6  success   \n",
       "2   no  cellular   12   aug       104         8     -1         0  unknown   \n",
       "3   no  cellular    7   may      1030         1    169         3  success   \n",
       "4   no   unknown    4   jun       188         2     -1         0  unknown   \n",
       "\n",
       "   deposit  \n",
       "0        1  \n",
       "1        1  \n",
       "2        0  \n",
       "3        1  \n",
       "4        0  "
      ]
     },
     "execution_count": 14,
     "metadata": {},
     "output_type": "execute_result"
    }
   ],
   "source": [
    "train_sample = train_set\n",
    "train_sample.head()"
   ]
  },
  {
   "cell_type": "code",
   "execution_count": 15,
   "metadata": {},
   "outputs": [],
   "source": [
    "check_train = pd.get_dummies(train_sample, columns = ['job', 'marital', 'education','default', 'housing','loan', 'contact','month','poutcome'])"
   ]
  },
  {
   "cell_type": "code",
   "execution_count": 16,
   "metadata": {},
   "outputs": [],
   "source": [
    "preprocess_train = check_train\n",
    "first_preprocess_train =preprocess_train.drop(['customer_id', 'deposit'], axis = 1)"
   ]
  },
  {
   "cell_type": "code",
   "execution_count": 17,
   "metadata": {},
   "outputs": [],
   "source": [
    "import sklearn as sk\n",
    "from sklearn.preprocessing import MinMaxScaler\n",
    "from sklearn.preprocessing import StandardScaler\n",
    "\n",
    "from sklearn.cross_validation import train_test_split"
   ]
  },
  {
   "cell_type": "code",
   "execution_count": 18,
   "metadata": {},
   "outputs": [],
   "source": [
    "x = first_preprocess_train\n",
    "y = check_train['deposit']\n",
    "\n",
    "x_train, x_test, y_train, y_test = train_test_split(x, y, test_size = 0.30, random_state =80)"
   ]
  },
  {
   "cell_type": "code",
   "execution_count": 19,
   "metadata": {},
   "outputs": [],
   "source": [
    "scale = MinMaxScaler()\n",
    "std_scale = StandardScaler()\n",
    "x_train_std = std_scale.fit_transform(x_train)\n",
    "x_test_std = std_scale.fit_transform(x_test)\n",
    "\n",
    "x_train_scale = scale.fit_transform(x_train_std)\n",
    "x_test_scale = scale.fit_transform(x_test_std)"
   ]
  },
  {
   "cell_type": "code",
   "execution_count": 20,
   "metadata": {},
   "outputs": [
    {
     "name": "stdout",
     "output_type": "stream",
     "text": [
      "\n",
      "Model Report\n",
      "Accuracy : 0.8637\n",
      "AUC Score (Train): 0.938255\n",
      "CV Score : Mean - 0.9187887 | Std - 0.00769786 | Min - 0.9090413 | Max - 0.9310501\n"
     ]
    }
   ],
   "source": [
    "from sklearn.ensemble import GradientBoostingClassifier\n",
    "from sklearn import cross_validation, metrics   #Additional scklearn functions\n",
    "from sklearn.grid_search import GridSearchCV   #Perforing grid search\n",
    "\n",
    "gbrt = GradientBoostingClassifier(random_state = 32)\n",
    "def modelfit(alg, x_train_scale, y_train, performCV=True, printFeatureImportance=False, cv_folds=5):\n",
    "    #Fit the algorithm on the data\n",
    "    alg.fit(x_train_scale, y_train)\n",
    "        \n",
    "    #Predict training set:\n",
    "    dtrain_predictions = alg.predict(x_train_scale)\n",
    "    dtrain_predprob = alg.predict_proba(x_train_scale)[:,1]\n",
    "    \n",
    "    #Perform cross-validation:\n",
    "    if performCV:\n",
    "        cv_score = cross_validation.cross_val_score(alg,x_train_scale, y_train, cv=cv_folds, scoring='roc_auc')\n",
    "    \n",
    "    #Print model report:\n",
    "    print (\"\\nModel Report\")\n",
    "    print (\"Accuracy : %.4g\" % metrics.accuracy_score(y_train, dtrain_predictions))\n",
    "    print (\"AUC Score (Train): %f\" % metrics.roc_auc_score(y_train, dtrain_predprob))\n",
    "    \n",
    "    if performCV:\n",
    "        print (\"CV Score : Mean - %.7g | Std - %.7g | Min - %.7g | Max - %.7g\" % (np.mean(cv_score),np.std(cv_score),np.min(cv_score),np.max(cv_score)))\n",
    "        \n",
    "    #Print Feature Importance:\n",
    "    if printFeatureImportance:\n",
    "        feat_imp = pd.Series(alg.feature_importances_,y_train).sort_values(ascending=False)\n",
    "        feat_imp.plot(kind='bar', title='Feature Importances')\n",
    "        plt.ylabel('Feature Importance Score')\n",
    "        plt.show()\n",
    "modelfit(gbrt, x_train_scale, y_train)"
   ]
  },
  {
   "cell_type": "code",
   "execution_count": 41,
   "metadata": {},
   "outputs": [
    {
     "data": {
      "text/plain": [
       "GridSearchCV(cv=5, error_score='raise',\n",
       "       estimator=GradientBoostingClassifier(criterion='friedman_mse', init=None,\n",
       "              learning_rate=0.1, loss='deviance', max_depth=8,\n",
       "              max_features='sqrt', max_leaf_nodes=None,\n",
       "              min_impurity_split=1e-07, min_samples_leaf=50,\n",
       "              min_samples_split=500, min_weight_fraction_leaf=0.0,\n",
       "              n_estimators=100, presort='auto', random_state=32,\n",
       "              subsample=0.8, verbose=0, warm_start=False),\n",
       "       fit_params={}, iid=False, n_jobs=4,\n",
       "       param_grid={'n_estimators': [260, 270, 280, 290, 300]},\n",
       "       pre_dispatch='2*n_jobs', refit=True, scoring='roc_auc', verbose=0)"
      ]
     },
     "execution_count": 41,
     "metadata": {},
     "output_type": "execute_result"
    }
   ],
   "source": [
    "#Choose all predictors except target & IDcols\n",
    "\n",
    "predictors = [x for x in train_set.columns if x not in ['deposit', 'customer_id']]\n",
    "param_test1 = {'n_estimators':[260, 270,280,290,300]}\n",
    "gsearch1 = GridSearchCV(estimator = GradientBoostingClassifier(learning_rate=0.1, min_samples_split=500,min_samples_leaf=50,max_depth=8,max_features='sqrt',subsample=0.8,random_state=32), \n",
    "param_grid = param_test1, scoring='roc_auc',n_jobs=4,iid=False, cv=5)\n",
    "gsearch1.fit(x_train_scale,y_train)"
   ]
  },
  {
   "cell_type": "code",
   "execution_count": 42,
   "metadata": {},
   "outputs": [
    {
     "data": {
      "text/plain": [
       "[mean: 0.92534, std: 0.00946, params: {'n_estimators': 260},\n",
       " mean: 0.92556, std: 0.00938, params: {'n_estimators': 270},\n",
       " mean: 0.92552, std: 0.00927, params: {'n_estimators': 280},\n",
       " mean: 0.92566, std: 0.00936, params: {'n_estimators': 290},\n",
       " mean: 0.92573, std: 0.00935, params: {'n_estimators': 300}]"
      ]
     },
     "execution_count": 42,
     "metadata": {},
     "output_type": "execute_result"
    }
   ],
   "source": [
    "gsearch1.grid_scores_"
   ]
  },
  {
   "cell_type": "code",
   "execution_count": 43,
   "metadata": {},
   "outputs": [
    {
     "name": "stdout",
     "output_type": "stream",
     "text": [
      "AUC Score (Train): 0.971938\n"
     ]
    }
   ],
   "source": [
    "dtrain_predprob = gsearch1.predict_proba(x_train_scale)[:,1] \n",
    "print (\"AUC Score (Train): %f\" % metrics.roc_auc_score(y_train, dtrain_predprob))"
   ]
  },
  {
   "cell_type": "code",
   "execution_count": 44,
   "metadata": {},
   "outputs": [
    {
     "data": {
      "text/plain": [
       "{'n_estimators': 300}"
      ]
     },
     "execution_count": 44,
     "metadata": {},
     "output_type": "execute_result"
    }
   ],
   "source": [
    "gsearch1.best_params_"
   ]
  },
  {
   "cell_type": "code",
   "execution_count": 45,
   "metadata": {},
   "outputs": [
    {
     "data": {
      "text/plain": [
       "0.925725122269155"
      ]
     },
     "execution_count": 45,
     "metadata": {},
     "output_type": "execute_result"
    }
   ],
   "source": [
    "gsearch1.best_score_"
   ]
  },
  {
   "cell_type": "markdown",
   "metadata": {},
   "source": [
    "## start below"
   ]
  },
  {
   "cell_type": "code",
   "execution_count": 52,
   "metadata": {},
   "outputs": [
    {
     "data": {
      "text/plain": [
       "[mean: 0.91777, std: 0.00807, params: {'max_depth': 2, 'min_samples_split': 100},\n",
       " mean: 0.91715, std: 0.00797, params: {'max_depth': 2, 'min_samples_split': 200},\n",
       " mean: 0.91688, std: 0.00846, params: {'max_depth': 2, 'min_samples_split': 300},\n",
       " mean: 0.91536, std: 0.00957, params: {'max_depth': 2, 'min_samples_split': 400},\n",
       " mean: 0.92740, std: 0.00796, params: {'max_depth': 4, 'min_samples_split': 100},\n",
       " mean: 0.92739, std: 0.00789, params: {'max_depth': 4, 'min_samples_split': 200},\n",
       " mean: 0.92608, std: 0.00834, params: {'max_depth': 4, 'min_samples_split': 300},\n",
       " mean: 0.92540, std: 0.00863, params: {'max_depth': 4, 'min_samples_split': 400},\n",
       " mean: 0.93038, std: 0.00785, params: {'max_depth': 6, 'min_samples_split': 100},\n",
       " mean: 0.92951, std: 0.00817, params: {'max_depth': 6, 'min_samples_split': 200},\n",
       " mean: 0.92880, std: 0.00879, params: {'max_depth': 6, 'min_samples_split': 300},\n",
       " mean: 0.92768, std: 0.00977, params: {'max_depth': 6, 'min_samples_split': 400},\n",
       " mean: 0.92903, std: 0.00882, params: {'max_depth': 8, 'min_samples_split': 100},\n",
       " mean: 0.92959, std: 0.00851, params: {'max_depth': 8, 'min_samples_split': 200},\n",
       " mean: 0.92813, std: 0.00890, params: {'max_depth': 8, 'min_samples_split': 300},\n",
       " mean: 0.92873, std: 0.00948, params: {'max_depth': 8, 'min_samples_split': 400},\n",
       " mean: 0.92664, std: 0.00899, params: {'max_depth': 10, 'min_samples_split': 100},\n",
       " mean: 0.92729, std: 0.00998, params: {'max_depth': 10, 'min_samples_split': 200},\n",
       " mean: 0.92837, std: 0.00861, params: {'max_depth': 10, 'min_samples_split': 300},\n",
       " mean: 0.92921, std: 0.00713, params: {'max_depth': 10, 'min_samples_split': 400}]"
      ]
     },
     "execution_count": 52,
     "metadata": {},
     "output_type": "execute_result"
    }
   ],
   "source": [
    "param_test2 = {'max_depth':[2,4,6,8,10], 'min_samples_split':[100,200,300,400]}\n",
    "gsearch2 = GridSearchCV(estimator = GradientBoostingClassifier(learning_rate=0.1, n_estimators=300, max_features='sqrt', subsample=0.8, random_state=32),\n",
    "                        param_grid = param_test2, scoring='roc_auc',n_jobs=4,iid=False, cv=5)\n",
    "gsearch2.fit(x_train_scale,y_train)\n",
    "gsearch2.grid_scores_"
   ]
  },
  {
   "cell_type": "code",
   "execution_count": 53,
   "metadata": {},
   "outputs": [
    {
     "name": "stdout",
     "output_type": "stream",
     "text": [
      "AUC Score (Train): 0.988163\n"
     ]
    }
   ],
   "source": [
    "dtrain_predprob = gsearch2.predict_proba(x_train_scale)[:,1] \n",
    "print (\"AUC Score (Train): %f\" % metrics.roc_auc_score(y_train, dtrain_predprob))"
   ]
  },
  {
   "cell_type": "code",
   "execution_count": 54,
   "metadata": {},
   "outputs": [
    {
     "data": {
      "text/plain": [
       "{'max_depth': 6, 'min_samples_split': 100}"
      ]
     },
     "execution_count": 54,
     "metadata": {},
     "output_type": "execute_result"
    }
   ],
   "source": [
    "gsearch2.best_params_ "
   ]
  },
  {
   "cell_type": "code",
   "execution_count": 55,
   "metadata": {},
   "outputs": [
    {
     "data": {
      "text/plain": [
       "0.9303827314366192"
      ]
     },
     "execution_count": 55,
     "metadata": {},
     "output_type": "execute_result"
    }
   ],
   "source": [
    "gsearch2.best_score_"
   ]
  },
  {
   "cell_type": "code",
   "execution_count": 59,
   "metadata": {},
   "outputs": [
    {
     "data": {
      "text/plain": [
       "[mean: 0.92866, std: 0.00888, params: {'min_samples_leaf': 10},\n",
       " mean: 0.92877, std: 0.00873, params: {'min_samples_leaf': 20},\n",
       " mean: 0.92837, std: 0.00821, params: {'min_samples_leaf': 30}]"
      ]
     },
     "execution_count": 59,
     "metadata": {},
     "output_type": "execute_result"
    }
   ],
   "source": [
    "param_test3 = {'min_samples_leaf':[10,20,30]}\n",
    "gsearch3 = GridSearchCV(estimator = GradientBoostingClassifier(learning_rate=0.1,min_samples_split = 100, n_estimators=300,max_depth=6,max_features='sqrt', subsample=0.8, random_state=32), \n",
    "                    param_grid = param_test3, scoring='roc_auc',n_jobs=4,iid=False, cv=5)\n",
    "gsearch3.fit(x_train_scale,y_train)\n",
    "gsearch3.grid_scores_"
   ]
  },
  {
   "cell_type": "code",
   "execution_count": 60,
   "metadata": {},
   "outputs": [
    {
     "name": "stdout",
     "output_type": "stream",
     "text": [
      "AUC Score (Train): 0.984700\n"
     ]
    }
   ],
   "source": [
    "dtrain_predprob = gsearch3.predict_proba(x_train_scale)[:,1] \n",
    "print (\"AUC Score (Train): %f\" % metrics.roc_auc_score(y_train, dtrain_predprob))"
   ]
  },
  {
   "cell_type": "code",
   "execution_count": 61,
   "metadata": {},
   "outputs": [
    {
     "data": {
      "text/plain": [
       "{'min_samples_leaf': 20}"
      ]
     },
     "execution_count": 61,
     "metadata": {},
     "output_type": "execute_result"
    }
   ],
   "source": [
    "gsearch3.best_params_"
   ]
  },
  {
   "cell_type": "code",
   "execution_count": 62,
   "metadata": {},
   "outputs": [
    {
     "data": {
      "text/plain": [
       "0.9287740536569421"
      ]
     },
     "execution_count": 62,
     "metadata": {},
     "output_type": "execute_result"
    }
   ],
   "source": [
    "gsearch3.best_score_"
   ]
  },
  {
   "cell_type": "code",
   "execution_count": 36,
   "metadata": {},
   "outputs": [
    {
     "name": "stdout",
     "output_type": "stream",
     "text": [
      "\n",
      "Model Report\n",
      "Accuracy : 0.8915\n",
      "AUC Score (Train): 0.959910\n",
      "CV Score : Mean - 0.922666 | Std - 0.003433451 | Min - 0.9188114 | Max - 0.928373\n"
     ]
    }
   ],
   "source": [
    "modelfit(gsearch3.best_estimator_, x_train_scale, y_train)"
   ]
  },
  {
   "cell_type": "code",
   "execution_count": 63,
   "metadata": {},
   "outputs": [
    {
     "data": {
      "text/plain": [
       "[mean: 0.92767, std: 0.00833, params: {'max_features': 16},\n",
       " mean: 0.92910, std: 0.00787, params: {'max_features': 18},\n",
       " mean: 0.92755, std: 0.00740, params: {'max_features': 20}]"
      ]
     },
     "execution_count": 63,
     "metadata": {},
     "output_type": "execute_result"
    }
   ],
   "source": [
    "param_test4 = {'max_features':[16,18,20]}\n",
    "gsearch4 = GridSearchCV(estimator = GradientBoostingClassifier(learning_rate=0.1, n_estimators=300,max_depth=6, min_samples_split=100, min_samples_leaf=20, subsample=0.8, random_state=32),\n",
    "                        param_grid = param_test4, scoring='roc_auc',n_jobs=4,iid=False, cv=5)\n",
    "gsearch4.fit(x_train_scale,y_train)\n",
    "gsearch4.grid_scores_"
   ]
  },
  {
   "cell_type": "code",
   "execution_count": 66,
   "metadata": {},
   "outputs": [
    {
     "name": "stdout",
     "output_type": "stream",
     "text": [
      "AUC Score (Train): 0.991748\n"
     ]
    }
   ],
   "source": [
    "dtrain_predprob = gsearch4.predict_proba(x_train_scale)[:,1] \n",
    "print (\"AUC Score (Train): %f\" % metrics.roc_auc_score(y_train, dtrain_predprob))"
   ]
  },
  {
   "cell_type": "code",
   "execution_count": 67,
   "metadata": {},
   "outputs": [
    {
     "data": {
      "text/plain": [
       "{'max_features': 18}"
      ]
     },
     "execution_count": 67,
     "metadata": {},
     "output_type": "execute_result"
    }
   ],
   "source": [
    "gsearch4.best_params_"
   ]
  },
  {
   "cell_type": "code",
   "execution_count": 68,
   "metadata": {},
   "outputs": [
    {
     "data": {
      "text/plain": [
       "0.9291018869665404"
      ]
     },
     "execution_count": 68,
     "metadata": {},
     "output_type": "execute_result"
    }
   ],
   "source": [
    "gsearch4.best_score_"
   ]
  },
  {
   "cell_type": "code",
   "execution_count": 72,
   "metadata": {},
   "outputs": [
    {
     "data": {
      "text/plain": [
       "[mean: 0.92821, std: 0.00775, params: {'subsample': 0.84},\n",
       " mean: 0.92811, std: 0.00724, params: {'subsample': 0.86},\n",
       " mean: 0.92889, std: 0.00783, params: {'subsample': 0.88},\n",
       " mean: 0.92942, std: 0.00747, params: {'subsample': 0.9}]"
      ]
     },
     "execution_count": 72,
     "metadata": {},
     "output_type": "execute_result"
    }
   ],
   "source": [
    "param_test5 = {'subsample':[0.84,0.86,0.88,0.9]}\n",
    "gsearch5 = GridSearchCV(estimator = GradientBoostingClassifier(learning_rate=0.1, n_estimators=300,max_depth=6,min_samples_split=100, min_samples_leaf=20, random_state=32,max_features=18),\n",
    "                        param_grid = param_test5, scoring='roc_auc',n_jobs=4,iid=False, cv=5)\n",
    "gsearch5.fit(x_train_scale,y_train)\n",
    "gsearch5.grid_scores_"
   ]
  },
  {
   "cell_type": "code",
   "execution_count": 73,
   "metadata": {},
   "outputs": [
    {
     "name": "stdout",
     "output_type": "stream",
     "text": [
      "AUC Score (Train): 0.992441\n"
     ]
    }
   ],
   "source": [
    "dtrain_predprob = gsearch5.predict_proba(x_train_scale)[:,1] \n",
    "print (\"AUC Score (Train): %f\" % metrics.roc_auc_score(y_train, dtrain_predprob))"
   ]
  },
  {
   "cell_type": "code",
   "execution_count": 74,
   "metadata": {},
   "outputs": [
    {
     "data": {
      "text/plain": [
       "{'subsample': 0.9}"
      ]
     },
     "execution_count": 74,
     "metadata": {},
     "output_type": "execute_result"
    }
   ],
   "source": [
    "gsearch5.best_params_"
   ]
  },
  {
   "cell_type": "code",
   "execution_count": 75,
   "metadata": {},
   "outputs": [
    {
     "data": {
      "text/plain": [
       "0.9294220315969592"
      ]
     },
     "execution_count": 75,
     "metadata": {},
     "output_type": "execute_result"
    }
   ],
   "source": [
    "gsearch5.best_score_"
   ]
  },
  {
   "cell_type": "code",
   "execution_count": 76,
   "metadata": {},
   "outputs": [
    {
     "name": "stdout",
     "output_type": "stream",
     "text": [
      "\n",
      "Model Report\n",
      "Accuracy : 0.917\n",
      "AUC Score (Train): 0.977143\n",
      "CV Score : Mean - 0.929112 | Std - 0.007140326 | Min - 0.9200552 | Max - 0.9401718\n"
     ]
    }
   ],
   "source": [
    "predictors = [x for x in train_set.columns if x not in ['deposit', 'id_column']]\n",
    "gbm_tuned_1 = GradientBoostingClassifier(learning_rate=0.05, n_estimators=300,max_depth=6, min_samples_split=100, min_samples_leaf =20,subsample = 0.9, random_state = 32, max_features = 18)\n",
    "modelfit(gbm_tuned_1, x_train_scale,y_train)"
   ]
  },
  {
   "cell_type": "code",
   "execution_count": 77,
   "metadata": {},
   "outputs": [
    {
     "name": "stdout",
     "output_type": "stream",
     "text": [
      "\n",
      "Model Report\n",
      "Accuracy : 0.9427\n",
      "AUC Score (Train): 0.990311\n"
     ]
    }
   ],
   "source": [
    "predictors = [x for x in train_set.columns if x not in ['deposit', 'id_column']]\n",
    "gbm_tuned_3 = GradientBoostingClassifier(learning_rate=0.01, n_estimators=1500,max_depth=8, min_samples_split=100, min_samples_leaf=20, subsample=0.9, random_state=32, max_features=18,warm_start=True)\n",
    "modelfit(gbm_tuned_3, x_train_scale, y_train, performCV=False)"
   ]
  },
  {
   "cell_type": "code",
   "execution_count": 78,
   "metadata": {},
   "outputs": [
    {
     "name": "stdout",
     "output_type": "stream",
     "text": [
      "\n",
      "Model Report\n",
      "Accuracy : 0.9426\n",
      "AUC Score (Train): 0.990514\n"
     ]
    }
   ],
   "source": [
    "predictors = [x for x in train_set.columns if x not in ['deposit', 'id_column']]\n",
    "gbm_tuned_4 = GradientBoostingClassifier(learning_rate=0.005, n_estimators=3000,max_depth=8, min_samples_split=100, min_samples_leaf=20, subsample=0.9, random_state=32, max_features=18,warm_start=True)\n",
    "modelfit(gbm_tuned_4, x_train_scale, y_train, performCV=False)"
   ]
  },
  {
   "cell_type": "code",
   "execution_count": 80,
   "metadata": {},
   "outputs": [
    {
     "name": "stdout",
     "output_type": "stream",
     "text": [
      "0.838489091501 0.87704359673 0.85733311137\n"
     ]
    }
   ],
   "source": [
    "from sklearn.model_selection import cross_val_predict\n",
    "confusion_value, precision, recall, f1 = np.array((2,2)), 0, 0, 0\n",
    "y_train_predict = cross_val_predict(gbm_tuned_4, x_train_scale, y_train, cv = 5)\n",
    "from sklearn.metrics import confusion_matrix\n",
    "confusion_value = confusion_matrix(y_train, y_train_predict)\n",
    "from sklearn.metrics import precision_score, recall_score, f1_score\n",
    "precision = precision_score(y_train, y_train_predict)\n",
    "recall = recall_score(y_train, y_train_predict)\n",
    "f1 = f1_score(y_train, y_train_predict)\n",
    "print (precision, recall, f1)"
   ]
  },
  {
   "cell_type": "code",
   "execution_count": 81,
   "metadata": {},
   "outputs": [
    {
     "name": "stdout",
     "output_type": "stream",
     "text": [
      "0.83835078534 0.872615803815 0.855140186916\n"
     ]
    }
   ],
   "source": [
    "from sklearn.model_selection import cross_val_predict\n",
    "confusion_value, precision, recall, f1 = np.array((2,2)), 0, 0, 0\n",
    "y_train_predict = cross_val_predict(gsearch5, x_train_scale, y_train, cv = 5)\n",
    "from sklearn.metrics import confusion_matrix\n",
    "confusion_value = confusion_matrix(y_train, y_train_predict)\n",
    "from sklearn.metrics import precision_score, recall_score, f1_score\n",
    "precision = precision_score(y_train, y_train_predict)\n",
    "recall = recall_score(y_train, y_train_predict)\n",
    "f1 = f1_score(y_train, y_train_predict)\n",
    "print (precision, recall, f1)"
   ]
  },
  {
   "cell_type": "code",
   "execution_count": 82,
   "metadata": {},
   "outputs": [],
   "source": [
    "check_test = pd.get_dummies(test_set, columns = ['job', 'marital', 'education','default', 'housing','loan', 'contact','month','poutcome'])"
   ]
  },
  {
   "cell_type": "code",
   "execution_count": 83,
   "metadata": {},
   "outputs": [],
   "source": [
    "preprocess_test = check_test\n",
    "first_preprocess_test =preprocess_test.drop('customer_id', axis = 1)"
   ]
  },
  {
   "cell_type": "code",
   "execution_count": 84,
   "metadata": {},
   "outputs": [
    {
     "data": {
      "text/plain": [
       "array([[-0.26097789, -0.46829201, -0.9018059 , ..., -0.21990181,\n",
       "        -0.3363934 ,  0.59648841],\n",
       "       [-0.85485552,  0.07397407, -1.01886977, ..., -0.21990181,\n",
       "        -0.3363934 , -1.67647851],\n",
       "       [ 1.43581533, -0.40877054, -0.55061431, ..., -0.21990181,\n",
       "        -0.3363934 ,  0.59648841],\n",
       "       ..., \n",
       "       [-1.02453484, -0.14840979,  0.85415205, ..., -0.21990181,\n",
       "        -0.3363934 , -1.67647851],\n",
       "       [ 1.43581533, -0.67314808, -1.25299749, ..., -0.21990181,\n",
       "         2.97270994, -1.67647851],\n",
       "       [-0.6851762 , -0.2831547 , -0.19942272, ...,  4.5474841 ,\n",
       "        -0.3363934 , -1.67647851]])"
      ]
     },
     "execution_count": 84,
     "metadata": {},
     "output_type": "execute_result"
    }
   ],
   "source": [
    "first_preprocess_scale = scale.fit_transform(first_preprocess_test)\n",
    "first_preprocess_scaled = std_scale.fit_transform(first_preprocess_scale)\n",
    "first_preprocess_scaled"
   ]
  },
  {
   "cell_type": "code",
   "execution_count": 89,
   "metadata": {},
   "outputs": [],
   "source": [
    "gbm_tuned_result =gbm_tuned_4.predict(first_preprocess_scaled)\n",
    "dict_gbm_tuned = {'customer_id': test_set['customer_id'], 'deposit': gbm_tuned_result}\n",
    "to_pd_gbm_tuned = pd.DataFrame(dict_gbm_tuned)\n",
    "to_pd_gbm_tuned.to_csv(r\"C:\\Users\\ACER\\Desktop\\Terragon recruitment\\gbm_tuned_4.csv\", index = False)"
   ]
  },
  {
   "cell_type": "code",
   "execution_count": 90,
   "metadata": {},
   "outputs": [],
   "source": [
    "gsearch_result =gsearch5.predict(first_preprocess_scaled)\n",
    "gsearch_tuned = {'customer_id': test_set['customer_id'], 'deposit': gsearch_result}\n",
    "to_pd_gsearch_tuned = pd.DataFrame(gsearch_tuned)\n",
    "to_pd_gsearch_tuned.to_csv(r\"C:\\Users\\ACER\\Desktop\\Terragon recruitment\\gsearch.csv\", index =False )"
   ]
  },
  {
   "cell_type": "code",
   "execution_count": 88,
   "metadata": {},
   "outputs": [
    {
     "name": "stdout",
     "output_type": "stream",
     "text": [
      "Help on method to_csv in module pandas.core.frame:\n",
      "\n",
      "to_csv(path_or_buf=None, sep=',', na_rep='', float_format=None, columns=None, header=True, index=True, index_label=None, mode='w', encoding=None, compression=None, quoting=None, quotechar='\"', line_terminator='\\n', chunksize=None, tupleize_cols=False, date_format=None, doublequote=True, escapechar=None, decimal='.') method of pandas.core.frame.DataFrame instance\n",
      "    Write DataFrame to a comma-separated values (csv) file\n",
      "    \n",
      "    Parameters\n",
      "    ----------\n",
      "    path_or_buf : string or file handle, default None\n",
      "        File path or object, if None is provided the result is returned as\n",
      "        a string.\n",
      "    sep : character, default ','\n",
      "        Field delimiter for the output file.\n",
      "    na_rep : string, default ''\n",
      "        Missing data representation\n",
      "    float_format : string, default None\n",
      "        Format string for floating point numbers\n",
      "    columns : sequence, optional\n",
      "        Columns to write\n",
      "    header : boolean or list of string, default True\n",
      "        Write out column names. If a list of string is given it is assumed\n",
      "        to be aliases for the column names\n",
      "    index : boolean, default True\n",
      "        Write row names (index)\n",
      "    index_label : string or sequence, or False, default None\n",
      "        Column label for index column(s) if desired. If None is given, and\n",
      "        `header` and `index` are True, then the index names are used. A\n",
      "        sequence should be given if the DataFrame uses MultiIndex.  If\n",
      "        False do not print fields for index names. Use index_label=False\n",
      "        for easier importing in R\n",
      "    mode : str\n",
      "        Python write mode, default 'w'\n",
      "    encoding : string, optional\n",
      "        A string representing the encoding to use in the output file,\n",
      "        defaults to 'ascii' on Python 2 and 'utf-8' on Python 3.\n",
      "    compression : string, optional\n",
      "        a string representing the compression to use in the output file,\n",
      "        allowed values are 'gzip', 'bz2', 'xz',\n",
      "        only used when the first argument is a filename\n",
      "    line_terminator : string, default ``'\\n'``\n",
      "        The newline character or character sequence to use in the output\n",
      "        file\n",
      "    quoting : optional constant from csv module\n",
      "        defaults to csv.QUOTE_MINIMAL. If you have set a `float_format`\n",
      "        then floats are converted to strings and thus csv.QUOTE_NONNUMERIC\n",
      "        will treat them as non-numeric\n",
      "    quotechar : string (length 1), default '\\\"'\n",
      "        character used to quote fields\n",
      "    doublequote : boolean, default True\n",
      "        Control quoting of `quotechar` inside a field\n",
      "    escapechar : string (length 1), default None\n",
      "        character used to escape `sep` and `quotechar` when appropriate\n",
      "    chunksize : int or None\n",
      "        rows to write at a time\n",
      "    tupleize_cols : boolean, default False\n",
      "        write multi_index columns as a list of tuples (if True)\n",
      "        or new (expanded format) if False)\n",
      "    date_format : string, default None\n",
      "        Format string for datetime objects\n",
      "    decimal: string, default '.'\n",
      "        Character recognized as decimal separator. E.g. use ',' for\n",
      "        European data\n",
      "    \n",
      "        .. versionadded:: 0.16.0\n",
      "\n"
     ]
    }
   ],
   "source": [
    "help (to_pd_gsearch_tuned.to_csv)"
   ]
  },
  {
   "cell_type": "code",
   "execution_count": 1,
   "metadata": {},
   "outputs": [],
   "source": [
    "from sklearn.linear_model import LogisticRegression\n",
    "lr = LogisticRegression()"
   ]
  },
  {
   "cell_type": "code",
   "execution_count": 10,
   "metadata": {},
   "outputs": [
    {
     "data": {
      "text/plain": [
       "{'C': 1.0,\n",
       " 'class_weight': None,\n",
       " 'dual': False,\n",
       " 'fit_intercept': True,\n",
       " 'intercept_scaling': 1,\n",
       " 'max_iter': 100,\n",
       " 'multi_class': 'ovr',\n",
       " 'n_jobs': 1,\n",
       " 'penalty': 'l2',\n",
       " 'random_state': None,\n",
       " 'solver': 'liblinear',\n",
       " 'tol': 0.0001,\n",
       " 'verbose': 0,\n",
       " 'warm_start': False}"
      ]
     },
     "execution_count": 10,
     "metadata": {},
     "output_type": "execute_result"
    }
   ],
   "source": [
    "from sklearn import cross_validation, metrics   #Additional scklearn functions\n",
    "from sklearn.grid_search import GridSearchCV   #Perforing grid search\n",
    "\n",
    "lr.get_params()"
   ]
  },
  {
   "cell_type": "code",
   "execution_count": 91,
   "metadata": {},
   "outputs": [
    {
     "name": "stdout",
     "output_type": "stream",
     "text": [
      "AUC Score (Train): 0.992441\n"
     ]
    }
   ],
   "source": [
    "dtrain_predprob = gsearch5.predict_proba(x_train_scale)[:,1] \n",
    "print (\"AUC Score (Train): %f\" % metrics.roc_auc_score(y_train, dtrain_predprob))"
   ]
  },
  {
   "cell_type": "code",
   "execution_count": 92,
   "metadata": {},
   "outputs": [
    {
     "name": "stdout",
     "output_type": "stream",
     "text": [
      "AUC Score (Train): 0.990514\n"
     ]
    }
   ],
   "source": [
    "dtrain_predprob = gbm_tuned_4.predict_proba(x_train_scale)[:,1] \n",
    "print (\"AUC Score (Train): %f\" % metrics.roc_auc_score(y_train, dtrain_predprob))"
   ]
  },
  {
   "cell_type": "code",
   "execution_count": null,
   "metadata": {},
   "outputs": [],
   "source": []
  }
 ],
 "metadata": {
  "kernelspec": {
   "display_name": "Python 3",
   "language": "python",
   "name": "python3"
  },
  "language_info": {
   "codemirror_mode": {
    "name": "ipython",
    "version": 3
   },
   "file_extension": ".py",
   "mimetype": "text/x-python",
   "name": "python",
   "nbconvert_exporter": "python",
   "pygments_lexer": "ipython3",
   "version": "3.6.1"
  }
 },
 "nbformat": 4,
 "nbformat_minor": 2
}
