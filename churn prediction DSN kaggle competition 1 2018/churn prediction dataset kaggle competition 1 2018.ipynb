{
 "cells": [
  {
   "cell_type": "code",
   "execution_count": 1,
   "metadata": {
    "collapsed": true
   },
   "outputs": [],
   "source": [
    "import pandas as pd\n",
    "import numpy as np\n",
    "import scipy as sp\n",
    "import matplotlib.pyplot as plt\n",
    "import mglearn as mg\n",
    "import sklearn as sk\n",
    "import seaborn as sns\n",
    "import warnings\n",
    "warnings.filterwarnings(\"ignore\")"
   ]
  },
  {
   "cell_type": "code",
   "execution_count": 118,
   "metadata": {
    "collapsed": true
   },
   "outputs": [],
   "source": [
    "# load test and train data\n",
    "\n",
    "load_test = pd.read_csv(r\"C:\\Users\\ACER\\Desktop\\pyreach\\to pc\\churn prediction\\TEST.csv\")\n",
    "load_train = pd.read_csv(r\"C:\\Users\\ACER\\Desktop\\pyreach\\to pc\\churn prediction\\TRAIN.csv\")"
   ]
  },
  {
   "cell_type": "code",
   "execution_count": 3,
   "metadata": {},
   "outputs": [
    {
     "data": {
      "text/plain": [
       "((600, 15), (1401, 16))"
      ]
     },
     "execution_count": 3,
     "metadata": {},
     "output_type": "execute_result"
    }
   ],
   "source": [
    "load_test.shape, load_train.shape"
   ]
  },
  {
   "cell_type": "code",
   "execution_count": 4,
   "metadata": {},
   "outputs": [
    {
     "data": {
      "text/html": [
       "<div>\n",
       "<style>\n",
       "    .dataframe thead tr:only-child th {\n",
       "        text-align: right;\n",
       "    }\n",
       "\n",
       "    .dataframe thead th {\n",
       "        text-align: left;\n",
       "    }\n",
       "\n",
       "    .dataframe tbody tr th {\n",
       "        vertical-align: top;\n",
       "    }\n",
       "</style>\n",
       "<table border=\"1\" class=\"dataframe\">\n",
       "  <thead>\n",
       "    <tr style=\"text-align: right;\">\n",
       "      <th></th>\n",
       "      <th>Customer ID</th>\n",
       "      <th>network_age</th>\n",
       "      <th>Customer tenure in month</th>\n",
       "      <th>Total Spend in Months 1 and 2 of 2017</th>\n",
       "      <th>Total SMS Spend</th>\n",
       "      <th>Total Data Spend</th>\n",
       "      <th>Total Data Consumption</th>\n",
       "      <th>Total Unique Calls</th>\n",
       "      <th>Total Onnet spend</th>\n",
       "      <th>Total Offnet spend</th>\n",
       "      <th>Total Call centre complaint calls</th>\n",
       "      <th>Network type subscription in Month 1</th>\n",
       "      <th>Network type subscription in Month 2</th>\n",
       "      <th>Most Loved Competitor network in in Month 1</th>\n",
       "      <th>Most Loved Competitor network in in Month 2</th>\n",
       "      <th>Churn Status</th>\n",
       "    </tr>\n",
       "  </thead>\n",
       "  <tbody>\n",
       "    <tr>\n",
       "      <th>0</th>\n",
       "      <td>ADF0039</td>\n",
       "      <td>123.0</td>\n",
       "      <td>4.10</td>\n",
       "      <td>76.7140</td>\n",
       "      <td>0.00</td>\n",
       "      <td>1.25</td>\n",
       "      <td>1.4951</td>\n",
       "      <td>14.0</td>\n",
       "      <td>564.0</td>\n",
       "      <td>6408.0</td>\n",
       "      <td>2.0</td>\n",
       "      <td>2G</td>\n",
       "      <td>2G</td>\n",
       "      <td>Uxaa</td>\n",
       "      <td>Mango</td>\n",
       "      <td>0.0</td>\n",
       "    </tr>\n",
       "    <tr>\n",
       "      <th>1</th>\n",
       "      <td>ADF0041</td>\n",
       "      <td>1316.0</td>\n",
       "      <td>43.87</td>\n",
       "      <td>98.8904</td>\n",
       "      <td>4.14</td>\n",
       "      <td>1.25</td>\n",
       "      <td>1.0244</td>\n",
       "      <td>27.0</td>\n",
       "      <td>1626.0</td>\n",
       "      <td>4373.0</td>\n",
       "      <td>1.0</td>\n",
       "      <td>2G</td>\n",
       "      <td>2G</td>\n",
       "      <td>Uxaa</td>\n",
       "      <td>Mango</td>\n",
       "      <td>0.0</td>\n",
       "    </tr>\n",
       "    <tr>\n",
       "      <th>2</th>\n",
       "      <td>ADF0051</td>\n",
       "      <td>2385.0</td>\n",
       "      <td>79.50</td>\n",
       "      <td>372.6300</td>\n",
       "      <td>3.51</td>\n",
       "      <td>1.25</td>\n",
       "      <td>6.0898</td>\n",
       "      <td>119.0</td>\n",
       "      <td>10411.0</td>\n",
       "      <td>22039.0</td>\n",
       "      <td>1.0</td>\n",
       "      <td>2G</td>\n",
       "      <td>2G</td>\n",
       "      <td>Weematel</td>\n",
       "      <td>Mango</td>\n",
       "      <td>0.0</td>\n",
       "    </tr>\n",
       "    <tr>\n",
       "      <th>3</th>\n",
       "      <td>ADF0059</td>\n",
       "      <td>1614.0</td>\n",
       "      <td>53.80</td>\n",
       "      <td>530.2000</td>\n",
       "      <td>6.85</td>\n",
       "      <td>1.25</td>\n",
       "      <td>3.3447</td>\n",
       "      <td>69.0</td>\n",
       "      <td>6822.0</td>\n",
       "      <td>6274.0</td>\n",
       "      <td>1.0</td>\n",
       "      <td>2G</td>\n",
       "      <td>2G</td>\n",
       "      <td>0</td>\n",
       "      <td>Mango</td>\n",
       "      <td>0.0</td>\n",
       "    </tr>\n",
       "    <tr>\n",
       "      <th>4</th>\n",
       "      <td>ADF0060</td>\n",
       "      <td>2175.0</td>\n",
       "      <td>72.50</td>\n",
       "      <td>554.1300</td>\n",
       "      <td>6.99</td>\n",
       "      <td>153.75</td>\n",
       "      <td>673204.0342</td>\n",
       "      <td>33.0</td>\n",
       "      <td>3387.0</td>\n",
       "      <td>7241.0</td>\n",
       "      <td>1.0</td>\n",
       "      <td>2G</td>\n",
       "      <td>3G</td>\n",
       "      <td>Weematel</td>\n",
       "      <td>Mango</td>\n",
       "      <td>0.0</td>\n",
       "    </tr>\n",
       "  </tbody>\n",
       "</table>\n",
       "</div>"
      ],
      "text/plain": [
       "  Customer ID  network_age  Customer tenure in month  \\\n",
       "0     ADF0039        123.0                      4.10   \n",
       "1     ADF0041       1316.0                     43.87   \n",
       "2     ADF0051       2385.0                     79.50   \n",
       "3     ADF0059       1614.0                     53.80   \n",
       "4     ADF0060       2175.0                     72.50   \n",
       "\n",
       "   Total Spend in Months 1 and 2 of 2017  Total SMS Spend  Total Data Spend  \\\n",
       "0                                76.7140             0.00              1.25   \n",
       "1                                98.8904             4.14              1.25   \n",
       "2                               372.6300             3.51              1.25   \n",
       "3                               530.2000             6.85              1.25   \n",
       "4                               554.1300             6.99            153.75   \n",
       "\n",
       "   Total Data Consumption  Total Unique Calls  Total Onnet spend   \\\n",
       "0                  1.4951                14.0               564.0   \n",
       "1                  1.0244                27.0              1626.0   \n",
       "2                  6.0898               119.0             10411.0   \n",
       "3                  3.3447                69.0              6822.0   \n",
       "4             673204.0342                33.0              3387.0   \n",
       "\n",
       "   Total Offnet spend  Total Call centre complaint calls  \\\n",
       "0              6408.0                                2.0   \n",
       "1              4373.0                                1.0   \n",
       "2             22039.0                                1.0   \n",
       "3              6274.0                                1.0   \n",
       "4              7241.0                                1.0   \n",
       "\n",
       "  Network type subscription in Month 1 Network type subscription in Month 2  \\\n",
       "0                                   2G                                   2G   \n",
       "1                                   2G                                   2G   \n",
       "2                                   2G                                   2G   \n",
       "3                                   2G                                   2G   \n",
       "4                                   2G                                   3G   \n",
       "\n",
       "  Most Loved Competitor network in in Month 1  \\\n",
       "0                                        Uxaa   \n",
       "1                                        Uxaa   \n",
       "2                                    Weematel   \n",
       "3                                           0   \n",
       "4                                    Weematel   \n",
       "\n",
       "  Most Loved Competitor network in in Month 2  Churn Status  \n",
       "0                                       Mango           0.0  \n",
       "1                                       Mango           0.0  \n",
       "2                                       Mango           0.0  \n",
       "3                                       Mango           0.0  \n",
       "4                                       Mango           0.0  "
      ]
     },
     "execution_count": 4,
     "metadata": {},
     "output_type": "execute_result"
    }
   ],
   "source": [
    "load_train.head()"
   ]
  },
  {
   "cell_type": "code",
   "execution_count": 5,
   "metadata": {},
   "outputs": [
    {
     "data": {
      "text/plain": [
       "1.0    700\n",
       "0.0    700\n",
       "Name: Churn Status, dtype: int64"
      ]
     },
     "execution_count": 5,
     "metadata": {},
     "output_type": "execute_result"
    }
   ],
   "source": [
    "load_train['Churn Status'].value_counts()"
   ]
  },
  {
   "cell_type": "code",
   "execution_count": 6,
   "metadata": {},
   "outputs": [
    {
     "data": {
      "text/plain": [
       "PQza        340\n",
       "Uxaa        324\n",
       "Mango       204\n",
       "ToCall      202\n",
       "Zintel      152\n",
       "Weematel    139\n",
       "0            38\n",
       "Name: Most Loved Competitor network in in Month 1, dtype: int64"
      ]
     },
     "execution_count": 6,
     "metadata": {},
     "output_type": "execute_result"
    }
   ],
   "source": [
    "load_train['Most Loved Competitor network in in Month 1'].value_counts()"
   ]
  },
  {
   "cell_type": "code",
   "execution_count": 7,
   "metadata": {},
   "outputs": [
    {
     "data": {
      "text/plain": [
       "Uxaa        829\n",
       "PQza        308\n",
       "Mango       101\n",
       "ToCall       64\n",
       "Weematel     51\n",
       "Zintel       46\n",
       "Name: Most Loved Competitor network in in Month 2, dtype: int64"
      ]
     },
     "execution_count": 7,
     "metadata": {},
     "output_type": "execute_result"
    }
   ],
   "source": [
    "load_train['Most Loved Competitor network in in Month 2'].value_counts()"
   ]
  },
  {
   "cell_type": "code",
   "execution_count": 8,
   "metadata": {},
   "outputs": [
    {
     "data": {
      "text/plain": [
       "3G       636\n",
       "2G       304\n",
       "Other    285\n",
       "Name: Network type subscription in Month 1, dtype: int64"
      ]
     },
     "execution_count": 8,
     "metadata": {},
     "output_type": "execute_result"
    }
   ],
   "source": [
    "load_train['Network type subscription in Month 1'].value_counts()"
   ]
  },
  {
   "cell_type": "code",
   "execution_count": 9,
   "metadata": {},
   "outputs": [
    {
     "data": {
      "text/plain": [
       "3G       687\n",
       "Other    285\n",
       "2G       284\n",
       "Name: Network type subscription in Month 2, dtype: int64"
      ]
     },
     "execution_count": 9,
     "metadata": {},
     "output_type": "execute_result"
    }
   ],
   "source": [
    "load_train['Network type subscription in Month 2'].value_counts()"
   ]
  },
  {
   "cell_type": "code",
   "execution_count": 10,
   "metadata": {
    "collapsed": true
   },
   "outputs": [],
   "source": [
    "# mapping categorical variables load_train['Most Loved Competitor network in in month 2].values_counts()\n",
    "\n",
    "mapped_dict = {'Uxaa':1, 'PQza':2, 'Mango':3, 'ToCall': 4, 'Weematel': 5, 'Zintel':6, '0': 0}\n",
    "load_train['Most Loved Competitor network in in Month 2'] = load_train['Most Loved Competitor network in in Month 2'].map(mapped_dict)\n",
    "load_train['Most Loved Competitor network in in Month 1'] = load_train['Most Loved Competitor network in in Month 1'].map(mapped_dict)"
   ]
  },
  {
   "cell_type": "code",
   "execution_count": 11,
   "metadata": {},
   "outputs": [
    {
     "data": {
      "text/html": [
       "<div>\n",
       "<style>\n",
       "    .dataframe thead tr:only-child th {\n",
       "        text-align: right;\n",
       "    }\n",
       "\n",
       "    .dataframe thead th {\n",
       "        text-align: left;\n",
       "    }\n",
       "\n",
       "    .dataframe tbody tr th {\n",
       "        vertical-align: top;\n",
       "    }\n",
       "</style>\n",
       "<table border=\"1\" class=\"dataframe\">\n",
       "  <thead>\n",
       "    <tr style=\"text-align: right;\">\n",
       "      <th></th>\n",
       "      <th>Customer ID</th>\n",
       "      <th>network_age</th>\n",
       "      <th>Customer tenure in month</th>\n",
       "      <th>Total Spend in Months 1 and 2 of 2017</th>\n",
       "      <th>Total SMS Spend</th>\n",
       "      <th>Total Data Spend</th>\n",
       "      <th>Total Data Consumption</th>\n",
       "      <th>Total Unique Calls</th>\n",
       "      <th>Total Onnet spend</th>\n",
       "      <th>Total Offnet spend</th>\n",
       "      <th>Total Call centre complaint calls</th>\n",
       "      <th>Network type subscription in Month 1</th>\n",
       "      <th>Network type subscription in Month 2</th>\n",
       "      <th>Most Loved Competitor network in in Month 1</th>\n",
       "      <th>Most Loved Competitor network in in Month 2</th>\n",
       "      <th>Churn Status</th>\n",
       "    </tr>\n",
       "  </thead>\n",
       "  <tbody>\n",
       "    <tr>\n",
       "      <th>0</th>\n",
       "      <td>ADF0039</td>\n",
       "      <td>123.0</td>\n",
       "      <td>4.10</td>\n",
       "      <td>76.7140</td>\n",
       "      <td>0.00</td>\n",
       "      <td>1.25</td>\n",
       "      <td>1.4951</td>\n",
       "      <td>14.0</td>\n",
       "      <td>564.0</td>\n",
       "      <td>6408.0</td>\n",
       "      <td>2.0</td>\n",
       "      <td>2G</td>\n",
       "      <td>2G</td>\n",
       "      <td>1.0</td>\n",
       "      <td>3.0</td>\n",
       "      <td>0.0</td>\n",
       "    </tr>\n",
       "    <tr>\n",
       "      <th>1</th>\n",
       "      <td>ADF0041</td>\n",
       "      <td>1316.0</td>\n",
       "      <td>43.87</td>\n",
       "      <td>98.8904</td>\n",
       "      <td>4.14</td>\n",
       "      <td>1.25</td>\n",
       "      <td>1.0244</td>\n",
       "      <td>27.0</td>\n",
       "      <td>1626.0</td>\n",
       "      <td>4373.0</td>\n",
       "      <td>1.0</td>\n",
       "      <td>2G</td>\n",
       "      <td>2G</td>\n",
       "      <td>1.0</td>\n",
       "      <td>3.0</td>\n",
       "      <td>0.0</td>\n",
       "    </tr>\n",
       "    <tr>\n",
       "      <th>2</th>\n",
       "      <td>ADF0051</td>\n",
       "      <td>2385.0</td>\n",
       "      <td>79.50</td>\n",
       "      <td>372.6300</td>\n",
       "      <td>3.51</td>\n",
       "      <td>1.25</td>\n",
       "      <td>6.0898</td>\n",
       "      <td>119.0</td>\n",
       "      <td>10411.0</td>\n",
       "      <td>22039.0</td>\n",
       "      <td>1.0</td>\n",
       "      <td>2G</td>\n",
       "      <td>2G</td>\n",
       "      <td>5.0</td>\n",
       "      <td>3.0</td>\n",
       "      <td>0.0</td>\n",
       "    </tr>\n",
       "    <tr>\n",
       "      <th>3</th>\n",
       "      <td>ADF0059</td>\n",
       "      <td>1614.0</td>\n",
       "      <td>53.80</td>\n",
       "      <td>530.2000</td>\n",
       "      <td>6.85</td>\n",
       "      <td>1.25</td>\n",
       "      <td>3.3447</td>\n",
       "      <td>69.0</td>\n",
       "      <td>6822.0</td>\n",
       "      <td>6274.0</td>\n",
       "      <td>1.0</td>\n",
       "      <td>2G</td>\n",
       "      <td>2G</td>\n",
       "      <td>0.0</td>\n",
       "      <td>3.0</td>\n",
       "      <td>0.0</td>\n",
       "    </tr>\n",
       "    <tr>\n",
       "      <th>4</th>\n",
       "      <td>ADF0060</td>\n",
       "      <td>2175.0</td>\n",
       "      <td>72.50</td>\n",
       "      <td>554.1300</td>\n",
       "      <td>6.99</td>\n",
       "      <td>153.75</td>\n",
       "      <td>673204.0342</td>\n",
       "      <td>33.0</td>\n",
       "      <td>3387.0</td>\n",
       "      <td>7241.0</td>\n",
       "      <td>1.0</td>\n",
       "      <td>2G</td>\n",
       "      <td>3G</td>\n",
       "      <td>5.0</td>\n",
       "      <td>3.0</td>\n",
       "      <td>0.0</td>\n",
       "    </tr>\n",
       "  </tbody>\n",
       "</table>\n",
       "</div>"
      ],
      "text/plain": [
       "  Customer ID  network_age  Customer tenure in month  \\\n",
       "0     ADF0039        123.0                      4.10   \n",
       "1     ADF0041       1316.0                     43.87   \n",
       "2     ADF0051       2385.0                     79.50   \n",
       "3     ADF0059       1614.0                     53.80   \n",
       "4     ADF0060       2175.0                     72.50   \n",
       "\n",
       "   Total Spend in Months 1 and 2 of 2017  Total SMS Spend  Total Data Spend  \\\n",
       "0                                76.7140             0.00              1.25   \n",
       "1                                98.8904             4.14              1.25   \n",
       "2                               372.6300             3.51              1.25   \n",
       "3                               530.2000             6.85              1.25   \n",
       "4                               554.1300             6.99            153.75   \n",
       "\n",
       "   Total Data Consumption  Total Unique Calls  Total Onnet spend   \\\n",
       "0                  1.4951                14.0               564.0   \n",
       "1                  1.0244                27.0              1626.0   \n",
       "2                  6.0898               119.0             10411.0   \n",
       "3                  3.3447                69.0              6822.0   \n",
       "4             673204.0342                33.0              3387.0   \n",
       "\n",
       "   Total Offnet spend  Total Call centre complaint calls  \\\n",
       "0              6408.0                                2.0   \n",
       "1              4373.0                                1.0   \n",
       "2             22039.0                                1.0   \n",
       "3              6274.0                                1.0   \n",
       "4              7241.0                                1.0   \n",
       "\n",
       "  Network type subscription in Month 1 Network type subscription in Month 2  \\\n",
       "0                                   2G                                   2G   \n",
       "1                                   2G                                   2G   \n",
       "2                                   2G                                   2G   \n",
       "3                                   2G                                   2G   \n",
       "4                                   2G                                   3G   \n",
       "\n",
       "   Most Loved Competitor network in in Month 1  \\\n",
       "0                                          1.0   \n",
       "1                                          1.0   \n",
       "2                                          5.0   \n",
       "3                                          0.0   \n",
       "4                                          5.0   \n",
       "\n",
       "   Most Loved Competitor network in in Month 2  Churn Status  \n",
       "0                                          3.0           0.0  \n",
       "1                                          3.0           0.0  \n",
       "2                                          3.0           0.0  \n",
       "3                                          3.0           0.0  \n",
       "4                                          3.0           0.0  "
      ]
     },
     "execution_count": 11,
     "metadata": {},
     "output_type": "execute_result"
    }
   ],
   "source": [
    "load_train.head()"
   ]
  },
  {
   "cell_type": "code",
   "execution_count": 12,
   "metadata": {
    "collapsed": true
   },
   "outputs": [],
   "source": [
    "from sklearn.preprocessing import LabelEncoder\n",
    "label = LabelEncoder()"
   ]
  },
  {
   "cell_type": "code",
   "execution_count": 13,
   "metadata": {},
   "outputs": [
    {
     "data": {
      "text/html": [
       "<div>\n",
       "<style>\n",
       "    .dataframe thead tr:only-child th {\n",
       "        text-align: right;\n",
       "    }\n",
       "\n",
       "    .dataframe thead th {\n",
       "        text-align: left;\n",
       "    }\n",
       "\n",
       "    .dataframe tbody tr th {\n",
       "        vertical-align: top;\n",
       "    }\n",
       "</style>\n",
       "<table border=\"1\" class=\"dataframe\">\n",
       "  <thead>\n",
       "    <tr style=\"text-align: right;\">\n",
       "      <th></th>\n",
       "      <th>Network type subscription in Month 1</th>\n",
       "      <th>Network type subscription in Month 2</th>\n",
       "    </tr>\n",
       "  </thead>\n",
       "  <tbody>\n",
       "    <tr>\n",
       "      <th>0</th>\n",
       "      <td>2G</td>\n",
       "      <td>2G</td>\n",
       "    </tr>\n",
       "    <tr>\n",
       "      <th>1</th>\n",
       "      <td>2G</td>\n",
       "      <td>2G</td>\n",
       "    </tr>\n",
       "    <tr>\n",
       "      <th>2</th>\n",
       "      <td>2G</td>\n",
       "      <td>2G</td>\n",
       "    </tr>\n",
       "  </tbody>\n",
       "</table>\n",
       "</div>"
      ],
      "text/plain": [
       "  Network type subscription in Month 1 Network type subscription in Month 2\n",
       "0                                   2G                                   2G\n",
       "1                                   2G                                   2G\n",
       "2                                   2G                                   2G"
      ]
     },
     "execution_count": 13,
     "metadata": {},
     "output_type": "execute_result"
    }
   ],
   "source": [
    "load_train.iloc[:,11:13].head(3)"
   ]
  },
  {
   "cell_type": "code",
   "execution_count": 14,
   "metadata": {
    "collapsed": true
   },
   "outputs": [],
   "source": [
    "re_assign = pd.get_dummies(load_train[['Network type subscription in Month 1', 'Network type subscription in Month 2']])"
   ]
  },
  {
   "cell_type": "code",
   "execution_count": 15,
   "metadata": {
    "scrolled": true
   },
   "outputs": [
    {
     "data": {
      "text/html": [
       "<div>\n",
       "<style>\n",
       "    .dataframe thead tr:only-child th {\n",
       "        text-align: right;\n",
       "    }\n",
       "\n",
       "    .dataframe thead th {\n",
       "        text-align: left;\n",
       "    }\n",
       "\n",
       "    .dataframe tbody tr th {\n",
       "        vertical-align: top;\n",
       "    }\n",
       "</style>\n",
       "<table border=\"1\" class=\"dataframe\">\n",
       "  <thead>\n",
       "    <tr style=\"text-align: right;\">\n",
       "      <th></th>\n",
       "      <th>Network type subscription in Month 1_2G</th>\n",
       "      <th>Network type subscription in Month 1_3G</th>\n",
       "      <th>Network type subscription in Month 1_Other</th>\n",
       "      <th>Network type subscription in Month 2_2G</th>\n",
       "      <th>Network type subscription in Month 2_3G</th>\n",
       "      <th>Network type subscription in Month 2_Other</th>\n",
       "    </tr>\n",
       "  </thead>\n",
       "  <tbody>\n",
       "    <tr>\n",
       "      <th>0</th>\n",
       "      <td>1</td>\n",
       "      <td>0</td>\n",
       "      <td>0</td>\n",
       "      <td>1</td>\n",
       "      <td>0</td>\n",
       "      <td>0</td>\n",
       "    </tr>\n",
       "    <tr>\n",
       "      <th>1</th>\n",
       "      <td>1</td>\n",
       "      <td>0</td>\n",
       "      <td>0</td>\n",
       "      <td>1</td>\n",
       "      <td>0</td>\n",
       "      <td>0</td>\n",
       "    </tr>\n",
       "    <tr>\n",
       "      <th>2</th>\n",
       "      <td>1</td>\n",
       "      <td>0</td>\n",
       "      <td>0</td>\n",
       "      <td>1</td>\n",
       "      <td>0</td>\n",
       "      <td>0</td>\n",
       "    </tr>\n",
       "    <tr>\n",
       "      <th>3</th>\n",
       "      <td>1</td>\n",
       "      <td>0</td>\n",
       "      <td>0</td>\n",
       "      <td>1</td>\n",
       "      <td>0</td>\n",
       "      <td>0</td>\n",
       "    </tr>\n",
       "    <tr>\n",
       "      <th>4</th>\n",
       "      <td>1</td>\n",
       "      <td>0</td>\n",
       "      <td>0</td>\n",
       "      <td>0</td>\n",
       "      <td>1</td>\n",
       "      <td>0</td>\n",
       "    </tr>\n",
       "  </tbody>\n",
       "</table>\n",
       "</div>"
      ],
      "text/plain": [
       "   Network type subscription in Month 1_2G  \\\n",
       "0                                        1   \n",
       "1                                        1   \n",
       "2                                        1   \n",
       "3                                        1   \n",
       "4                                        1   \n",
       "\n",
       "   Network type subscription in Month 1_3G  \\\n",
       "0                                        0   \n",
       "1                                        0   \n",
       "2                                        0   \n",
       "3                                        0   \n",
       "4                                        0   \n",
       "\n",
       "   Network type subscription in Month 1_Other  \\\n",
       "0                                           0   \n",
       "1                                           0   \n",
       "2                                           0   \n",
       "3                                           0   \n",
       "4                                           0   \n",
       "\n",
       "   Network type subscription in Month 2_2G  \\\n",
       "0                                        1   \n",
       "1                                        1   \n",
       "2                                        1   \n",
       "3                                        1   \n",
       "4                                        0   \n",
       "\n",
       "   Network type subscription in Month 2_3G  \\\n",
       "0                                        0   \n",
       "1                                        0   \n",
       "2                                        0   \n",
       "3                                        0   \n",
       "4                                        1   \n",
       "\n",
       "   Network type subscription in Month 2_Other  \n",
       "0                                           0  \n",
       "1                                           0  \n",
       "2                                           0  \n",
       "3                                           0  \n",
       "4                                           0  "
      ]
     },
     "execution_count": 15,
     "metadata": {},
     "output_type": "execute_result"
    }
   ],
   "source": [
    "re_assign.head()"
   ]
  },
  {
   "cell_type": "code",
   "execution_count": 16,
   "metadata": {},
   "outputs": [
    {
     "data": {
      "text/plain": [
       "Index(['Customer ID', 'network_age', 'Customer tenure in month',\n",
       "       'Total Spend in Months 1 and 2 of 2017', 'Total SMS Spend',\n",
       "       'Total Data Spend', 'Total Data Consumption', 'Total Unique Calls',\n",
       "       'Total Onnet spend ', 'Total Offnet spend',\n",
       "       'Total Call centre complaint calls',\n",
       "       'Network type subscription in Month 1',\n",
       "       'Network type subscription in Month 2',\n",
       "       'Most Loved Competitor network in in Month 1',\n",
       "       'Most Loved Competitor network in in Month 2', 'Churn Status'],\n",
       "      dtype='object')"
      ]
     },
     "execution_count": 16,
     "metadata": {},
     "output_type": "execute_result"
    }
   ],
   "source": [
    "load_train.keys()"
   ]
  },
  {
   "cell_type": "code",
   "execution_count": 17,
   "metadata": {},
   "outputs": [
    {
     "data": {
      "text/plain": [
       "Index(['Network type subscription in Month 1_2G',\n",
       "       'Network type subscription in Month 1_3G',\n",
       "       'Network type subscription in Month 1_Other',\n",
       "       'Network type subscription in Month 2_2G',\n",
       "       'Network type subscription in Month 2_3G',\n",
       "       'Network type subscription in Month 2_Other'],\n",
       "      dtype='object')"
      ]
     },
     "execution_count": 17,
     "metadata": {},
     "output_type": "execute_result"
    }
   ],
   "source": [
    "re_assign.keys()"
   ]
  },
  {
   "cell_type": "code",
   "execution_count": 18,
   "metadata": {},
   "outputs": [
    {
     "data": {
      "text/plain": [
       "Index(['Customer ID', 'network_age', 'Customer tenure in month',\n",
       "       'Total Spend in Months 1 and 2 of 2017', 'Total SMS Spend',\n",
       "       'Total Data Spend', 'Total Data Consumption', 'Total Unique Calls',\n",
       "       'Total Onnet spend ', 'Total Offnet spend',\n",
       "       'Total Call centre complaint calls',\n",
       "       'Network type subscription in Month 1',\n",
       "       'Network type subscription in Month 2',\n",
       "       'Most Loved Competitor network in in Month 1',\n",
       "       'Most Loved Competitor network in in Month 2', 'Churn Status',\n",
       "       'Network type subscription in Month 1_2G',\n",
       "       'Network type subscription in Month 1_3G',\n",
       "       'Network type subscription in Month 1_Other',\n",
       "       'Network type subscription in Month 2_2G',\n",
       "       'Network type subscription in Month 2_3G',\n",
       "       'Network type subscription in Month 2_Other'],\n",
       "      dtype='object')"
      ]
     },
     "execution_count": 18,
     "metadata": {},
     "output_type": "execute_result"
    }
   ],
   "source": [
    "new_frame = load_train\n",
    "for i in re_assign.keys():\n",
    "    new_frame[i] = re_assign[i]\n",
    "final_frame = pd.DataFrame(new_frame)\n",
    "final_frame.keys()"
   ]
  },
  {
   "cell_type": "code",
   "execution_count": 19,
   "metadata": {
    "collapsed": true,
    "scrolled": true
   },
   "outputs": [],
   "source": [
    "final_frame = final_frame.drop(['Network type subscription in Month 1'], axis = 1)\n",
    "final_frame = final_frame.drop(['Network type subscription in Month 2'], axis = 1)"
   ]
  },
  {
   "cell_type": "code",
   "execution_count": 20,
   "metadata": {},
   "outputs": [
    {
     "data": {
      "text/html": [
       "<div>\n",
       "<style>\n",
       "    .dataframe thead tr:only-child th {\n",
       "        text-align: right;\n",
       "    }\n",
       "\n",
       "    .dataframe thead th {\n",
       "        text-align: left;\n",
       "    }\n",
       "\n",
       "    .dataframe tbody tr th {\n",
       "        vertical-align: top;\n",
       "    }\n",
       "</style>\n",
       "<table border=\"1\" class=\"dataframe\">\n",
       "  <thead>\n",
       "    <tr style=\"text-align: right;\">\n",
       "      <th></th>\n",
       "      <th>network_age</th>\n",
       "      <th>Customer tenure in month</th>\n",
       "      <th>Total Spend in Months 1 and 2 of 2017</th>\n",
       "      <th>Total SMS Spend</th>\n",
       "      <th>Total Data Spend</th>\n",
       "      <th>Total Data Consumption</th>\n",
       "      <th>Total Unique Calls</th>\n",
       "      <th>Total Onnet spend</th>\n",
       "      <th>Total Offnet spend</th>\n",
       "      <th>Total Call centre complaint calls</th>\n",
       "      <th>Most Loved Competitor network in in Month 1</th>\n",
       "      <th>Most Loved Competitor network in in Month 2</th>\n",
       "      <th>Churn Status</th>\n",
       "      <th>Network type subscription in Month 1_2G</th>\n",
       "      <th>Network type subscription in Month 1_3G</th>\n",
       "      <th>Network type subscription in Month 1_Other</th>\n",
       "      <th>Network type subscription in Month 2_2G</th>\n",
       "      <th>Network type subscription in Month 2_3G</th>\n",
       "      <th>Network type subscription in Month 2_Other</th>\n",
       "    </tr>\n",
       "  </thead>\n",
       "  <tbody>\n",
       "    <tr>\n",
       "      <th>count</th>\n",
       "      <td>1400.000000</td>\n",
       "      <td>1400.000000</td>\n",
       "      <td>1400.000000</td>\n",
       "      <td>1400.000000</td>\n",
       "      <td>1400.000000</td>\n",
       "      <td>1.400000e+03</td>\n",
       "      <td>1400.000000</td>\n",
       "      <td>1400.000000</td>\n",
       "      <td>1400.00000</td>\n",
       "      <td>1400.000000</td>\n",
       "      <td>1399.000000</td>\n",
       "      <td>1399.000000</td>\n",
       "      <td>1400.000000</td>\n",
       "      <td>1401.000000</td>\n",
       "      <td>1401.000000</td>\n",
       "      <td>1401.000000</td>\n",
       "      <td>1401.000000</td>\n",
       "      <td>1401.000000</td>\n",
       "      <td>1401.000000</td>\n",
       "    </tr>\n",
       "    <tr>\n",
       "      <th>mean</th>\n",
       "      <td>1450.634286</td>\n",
       "      <td>48.354479</td>\n",
       "      <td>805.641729</td>\n",
       "      <td>30.394286</td>\n",
       "      <td>58.482293</td>\n",
       "      <td>2.162307e+06</td>\n",
       "      <td>202.422143</td>\n",
       "      <td>6814.392143</td>\n",
       "      <td>15730.42000</td>\n",
       "      <td>1.922143</td>\n",
       "      <td>2.881344</td>\n",
       "      <td>1.812009</td>\n",
       "      <td>0.500000</td>\n",
       "      <td>0.216988</td>\n",
       "      <td>0.453961</td>\n",
       "      <td>0.203426</td>\n",
       "      <td>0.202712</td>\n",
       "      <td>0.490364</td>\n",
       "      <td>0.203426</td>\n",
       "    </tr>\n",
       "    <tr>\n",
       "      <th>std</th>\n",
       "      <td>1276.008188</td>\n",
       "      <td>42.533536</td>\n",
       "      <td>1251.742068</td>\n",
       "      <td>60.885095</td>\n",
       "      <td>289.613589</td>\n",
       "      <td>6.865958e+06</td>\n",
       "      <td>302.036220</td>\n",
       "      <td>16707.784943</td>\n",
       "      <td>37448.94212</td>\n",
       "      <td>2.345515</td>\n",
       "      <td>1.709249</td>\n",
       "      <td>1.291426</td>\n",
       "      <td>0.500179</td>\n",
       "      <td>0.412341</td>\n",
       "      <td>0.498054</td>\n",
       "      <td>0.402691</td>\n",
       "      <td>0.402164</td>\n",
       "      <td>0.500086</td>\n",
       "      <td>0.402691</td>\n",
       "    </tr>\n",
       "    <tr>\n",
       "      <th>min</th>\n",
       "      <td>-5.000000</td>\n",
       "      <td>-0.170000</td>\n",
       "      <td>4.910000</td>\n",
       "      <td>0.000000</td>\n",
       "      <td>0.000000</td>\n",
       "      <td>5.860000e-02</td>\n",
       "      <td>1.000000</td>\n",
       "      <td>0.000000</td>\n",
       "      <td>0.00000</td>\n",
       "      <td>1.000000</td>\n",
       "      <td>0.000000</td>\n",
       "      <td>1.000000</td>\n",
       "      <td>0.000000</td>\n",
       "      <td>0.000000</td>\n",
       "      <td>0.000000</td>\n",
       "      <td>0.000000</td>\n",
       "      <td>0.000000</td>\n",
       "      <td>0.000000</td>\n",
       "      <td>0.000000</td>\n",
       "    </tr>\n",
       "    <tr>\n",
       "      <th>25%</th>\n",
       "      <td>287.000000</td>\n",
       "      <td>9.567500</td>\n",
       "      <td>155.537500</td>\n",
       "      <td>2.620000</td>\n",
       "      <td>1.250000</td>\n",
       "      <td>1.384346e+03</td>\n",
       "      <td>18.000000</td>\n",
       "      <td>60.000000</td>\n",
       "      <td>1123.00000</td>\n",
       "      <td>1.000000</td>\n",
       "      <td>1.000000</td>\n",
       "      <td>1.000000</td>\n",
       "      <td>0.000000</td>\n",
       "      <td>0.000000</td>\n",
       "      <td>0.000000</td>\n",
       "      <td>0.000000</td>\n",
       "      <td>0.000000</td>\n",
       "      <td>0.000000</td>\n",
       "      <td>0.000000</td>\n",
       "    </tr>\n",
       "    <tr>\n",
       "      <th>50%</th>\n",
       "      <td>1171.000000</td>\n",
       "      <td>39.030000</td>\n",
       "      <td>606.575000</td>\n",
       "      <td>13.715000</td>\n",
       "      <td>11.250000</td>\n",
       "      <td>1.193487e+05</td>\n",
       "      <td>81.500000</td>\n",
       "      <td>1617.000000</td>\n",
       "      <td>4171.00000</td>\n",
       "      <td>1.000000</td>\n",
       "      <td>2.000000</td>\n",
       "      <td>1.000000</td>\n",
       "      <td>0.500000</td>\n",
       "      <td>0.000000</td>\n",
       "      <td>0.000000</td>\n",
       "      <td>0.000000</td>\n",
       "      <td>0.000000</td>\n",
       "      <td>0.000000</td>\n",
       "      <td>0.000000</td>\n",
       "    </tr>\n",
       "    <tr>\n",
       "      <th>75%</th>\n",
       "      <td>2242.000000</td>\n",
       "      <td>74.732500</td>\n",
       "      <td>1018.395500</td>\n",
       "      <td>31.205000</td>\n",
       "      <td>42.812500</td>\n",
       "      <td>1.206785e+06</td>\n",
       "      <td>254.250000</td>\n",
       "      <td>7177.750000</td>\n",
       "      <td>13151.50000</td>\n",
       "      <td>2.000000</td>\n",
       "      <td>4.000000</td>\n",
       "      <td>2.000000</td>\n",
       "      <td>1.000000</td>\n",
       "      <td>0.000000</td>\n",
       "      <td>1.000000</td>\n",
       "      <td>0.000000</td>\n",
       "      <td>0.000000</td>\n",
       "      <td>1.000000</td>\n",
       "      <td>0.000000</td>\n",
       "    </tr>\n",
       "    <tr>\n",
       "      <th>max</th>\n",
       "      <td>5451.000000</td>\n",
       "      <td>181.700000</td>\n",
       "      <td>24438.830000</td>\n",
       "      <td>873.980000</td>\n",
       "      <td>8295.000000</td>\n",
       "      <td>9.945640e+07</td>\n",
       "      <td>2596.000000</td>\n",
       "      <td>381174.000000</td>\n",
       "      <td>431440.00000</td>\n",
       "      <td>49.000000</td>\n",
       "      <td>6.000000</td>\n",
       "      <td>6.000000</td>\n",
       "      <td>1.000000</td>\n",
       "      <td>1.000000</td>\n",
       "      <td>1.000000</td>\n",
       "      <td>1.000000</td>\n",
       "      <td>1.000000</td>\n",
       "      <td>1.000000</td>\n",
       "      <td>1.000000</td>\n",
       "    </tr>\n",
       "  </tbody>\n",
       "</table>\n",
       "</div>"
      ],
      "text/plain": [
       "       network_age  Customer tenure in month  \\\n",
       "count  1400.000000               1400.000000   \n",
       "mean   1450.634286                 48.354479   \n",
       "std    1276.008188                 42.533536   \n",
       "min      -5.000000                 -0.170000   \n",
       "25%     287.000000                  9.567500   \n",
       "50%    1171.000000                 39.030000   \n",
       "75%    2242.000000                 74.732500   \n",
       "max    5451.000000                181.700000   \n",
       "\n",
       "       Total Spend in Months 1 and 2 of 2017  Total SMS Spend  \\\n",
       "count                            1400.000000      1400.000000   \n",
       "mean                              805.641729        30.394286   \n",
       "std                              1251.742068        60.885095   \n",
       "min                                 4.910000         0.000000   \n",
       "25%                               155.537500         2.620000   \n",
       "50%                               606.575000        13.715000   \n",
       "75%                              1018.395500        31.205000   \n",
       "max                             24438.830000       873.980000   \n",
       "\n",
       "       Total Data Spend  Total Data Consumption  Total Unique Calls  \\\n",
       "count       1400.000000            1.400000e+03         1400.000000   \n",
       "mean          58.482293            2.162307e+06          202.422143   \n",
       "std          289.613589            6.865958e+06          302.036220   \n",
       "min            0.000000            5.860000e-02            1.000000   \n",
       "25%            1.250000            1.384346e+03           18.000000   \n",
       "50%           11.250000            1.193487e+05           81.500000   \n",
       "75%           42.812500            1.206785e+06          254.250000   \n",
       "max         8295.000000            9.945640e+07         2596.000000   \n",
       "\n",
       "       Total Onnet spend   Total Offnet spend  \\\n",
       "count         1400.000000          1400.00000   \n",
       "mean          6814.392143         15730.42000   \n",
       "std          16707.784943         37448.94212   \n",
       "min              0.000000             0.00000   \n",
       "25%             60.000000          1123.00000   \n",
       "50%           1617.000000          4171.00000   \n",
       "75%           7177.750000         13151.50000   \n",
       "max         381174.000000        431440.00000   \n",
       "\n",
       "       Total Call centre complaint calls  \\\n",
       "count                        1400.000000   \n",
       "mean                            1.922143   \n",
       "std                             2.345515   \n",
       "min                             1.000000   \n",
       "25%                             1.000000   \n",
       "50%                             1.000000   \n",
       "75%                             2.000000   \n",
       "max                            49.000000   \n",
       "\n",
       "       Most Loved Competitor network in in Month 1  \\\n",
       "count                                  1399.000000   \n",
       "mean                                      2.881344   \n",
       "std                                       1.709249   \n",
       "min                                       0.000000   \n",
       "25%                                       1.000000   \n",
       "50%                                       2.000000   \n",
       "75%                                       4.000000   \n",
       "max                                       6.000000   \n",
       "\n",
       "       Most Loved Competitor network in in Month 2  Churn Status  \\\n",
       "count                                  1399.000000   1400.000000   \n",
       "mean                                      1.812009      0.500000   \n",
       "std                                       1.291426      0.500179   \n",
       "min                                       1.000000      0.000000   \n",
       "25%                                       1.000000      0.000000   \n",
       "50%                                       1.000000      0.500000   \n",
       "75%                                       2.000000      1.000000   \n",
       "max                                       6.000000      1.000000   \n",
       "\n",
       "       Network type subscription in Month 1_2G  \\\n",
       "count                              1401.000000   \n",
       "mean                                  0.216988   \n",
       "std                                   0.412341   \n",
       "min                                   0.000000   \n",
       "25%                                   0.000000   \n",
       "50%                                   0.000000   \n",
       "75%                                   0.000000   \n",
       "max                                   1.000000   \n",
       "\n",
       "       Network type subscription in Month 1_3G  \\\n",
       "count                              1401.000000   \n",
       "mean                                  0.453961   \n",
       "std                                   0.498054   \n",
       "min                                   0.000000   \n",
       "25%                                   0.000000   \n",
       "50%                                   0.000000   \n",
       "75%                                   1.000000   \n",
       "max                                   1.000000   \n",
       "\n",
       "       Network type subscription in Month 1_Other  \\\n",
       "count                                 1401.000000   \n",
       "mean                                     0.203426   \n",
       "std                                      0.402691   \n",
       "min                                      0.000000   \n",
       "25%                                      0.000000   \n",
       "50%                                      0.000000   \n",
       "75%                                      0.000000   \n",
       "max                                      1.000000   \n",
       "\n",
       "       Network type subscription in Month 2_2G  \\\n",
       "count                              1401.000000   \n",
       "mean                                  0.202712   \n",
       "std                                   0.402164   \n",
       "min                                   0.000000   \n",
       "25%                                   0.000000   \n",
       "50%                                   0.000000   \n",
       "75%                                   0.000000   \n",
       "max                                   1.000000   \n",
       "\n",
       "       Network type subscription in Month 2_3G  \\\n",
       "count                              1401.000000   \n",
       "mean                                  0.490364   \n",
       "std                                   0.500086   \n",
       "min                                   0.000000   \n",
       "25%                                   0.000000   \n",
       "50%                                   0.000000   \n",
       "75%                                   1.000000   \n",
       "max                                   1.000000   \n",
       "\n",
       "       Network type subscription in Month 2_Other  \n",
       "count                                 1401.000000  \n",
       "mean                                     0.203426  \n",
       "std                                      0.402691  \n",
       "min                                      0.000000  \n",
       "25%                                      0.000000  \n",
       "50%                                      0.000000  \n",
       "75%                                      0.000000  \n",
       "max                                      1.000000  "
      ]
     },
     "execution_count": 20,
     "metadata": {},
     "output_type": "execute_result"
    }
   ],
   "source": [
    "final_frame.describe()"
   ]
  },
  {
   "cell_type": "code",
   "execution_count": 21,
   "metadata": {
    "scrolled": true
   },
   "outputs": [
    {
     "data": {
      "image/png": "[encoded data removed]",
      "text/plain": [
       "<matplotlib.figure.Figure at 0x7d9bf28>"
      ]
     },
     "metadata": {},
     "output_type": "display_data"
    }
   ],
   "source": [
    "final_frame.boxplot(['network_age'])\n",
    "plt.show()"
   ]
  },
  {
   "cell_type": "code",
   "execution_count": 22,
   "metadata": {
    "scrolled": true
   },
   "outputs": [
    {
     "data": {
      "image/png": "[encoded data removed]",
      "text/plain": [
       "<matplotlib.figure.Figure at 0x8141e48>"
      ]
     },
     "metadata": {},
     "output_type": "display_data"
    }
   ],
   "source": [
    "final_frame.boxplot(['Customer tenure in month'])\n",
    "plt.show()"
   ]
  },
  {
   "cell_type": "code",
   "execution_count": 23,
   "metadata": {},
   "outputs": [
    {
     "data": {
      "image/png": "[encoded data removed]",
      "text/plain": [
       "<matplotlib.figure.Figure at 0x7f5c860>"
      ]
     },
     "metadata": {},
     "output_type": "display_data"
    }
   ],
   "source": [
    "final_frame.boxplot(['Total Spend in Months 1 and 2 of 2017'])\n",
    "plt.show()"
   ]
  },
  {
   "cell_type": "code",
   "execution_count": 24,
   "metadata": {},
   "outputs": [
    {
     "data": {
      "image/png": "[encoded data removed]",
      "text/plain": [
       "<matplotlib.figure.Figure at 0x82bd908>"
      ]
     },
     "metadata": {},
     "output_type": "display_data"
    }
   ],
   "source": [
    "final_frame.boxplot(['Total SMS Spend'])\n",
    "plt.show()"
   ]
  },
  {
   "cell_type": "code",
   "execution_count": 25,
   "metadata": {},
   "outputs": [
    {
     "data": {
      "image/png": "[encoded data removed]",
      "text/plain": [
       "<matplotlib.figure.Figure at 0xc2b8710>"
      ]
     },
     "metadata": {},
     "output_type": "display_data"
    }
   ],
   "source": [
    "final_frame.boxplot(['Total Data Spend'])\n",
    "plt.show()"
   ]
  },
  {
   "cell_type": "code",
   "execution_count": 26,
   "metadata": {},
   "outputs": [
    {
     "data": {
      "image/png": "[encoded data removed]",
      "text/plain": [
       "<matplotlib.figure.Figure at 0x8284828>"
      ]
     },
     "metadata": {},
     "output_type": "display_data"
    }
   ],
   "source": [
    "final_frame.boxplot(['Total Data Consumption'])\n",
    "plt.show()"
   ]
  },
  {
   "cell_type": "code",
   "execution_count": 27,
   "metadata": {},
   "outputs": [
    {
     "data": {
      "image/png": "[encoded data removed]",
      "text/plain": [
       "<matplotlib.figure.Figure at 0x81419b0>"
      ]
     },
     "metadata": {},
     "output_type": "display_data"
    }
   ],
   "source": [
    "final_frame.boxplot(['Total Unique Calls'])\n",
    "plt.show()"
   ]
  },
  {
   "cell_type": "code",
   "execution_count": 28,
   "metadata": {
    "scrolled": true
   },
   "outputs": [
    {
     "data": {
      "image/png": "[encoded data removed]",
      "text/plain": [
       "<matplotlib.figure.Figure at 0x7f480f0>"
      ]
     },
     "metadata": {},
     "output_type": "display_data"
    }
   ],
   "source": [
    "final_frame.boxplot(['Total Onnet spend '])\n",
    "plt.show()"
   ]
  },
  {
   "cell_type": "code",
   "execution_count": 29,
   "metadata": {},
   "outputs": [
    {
     "data": {
      "image/png": "[encoded data removed]",
      "text/plain": [
       "<matplotlib.figure.Figure at 0x81aa518>"
      ]
     },
     "metadata": {},
     "output_type": "display_data"
    }
   ],
   "source": [
    "final_frame.boxplot(['Total Offnet spend'])\n",
    "plt.show()"
   ]
  },
  {
   "cell_type": "code",
   "execution_count": 30,
   "metadata": {
    "scrolled": false
   },
   "outputs": [
    {
     "data": {
      "image/png": "[encoded data removed]",
      "text/plain": [
       "<matplotlib.figure.Figure at 0xc34e048>"
      ]
     },
     "metadata": {},
     "output_type": "display_data"
    }
   ],
   "source": [
    "final_frame.boxplot(['Total Call centre complaint calls'])\n",
    "plt.show()"
   ]
  },
  {
   "cell_type": "code",
   "execution_count": 31,
   "metadata": {},
   "outputs": [
    {
     "data": {
      "text/plain": [
       "Index(['Customer ID', 'network_age', 'Customer tenure in month',\n",
       "       'Total Spend in Months 1 and 2 of 2017', 'Total SMS Spend',\n",
       "       'Total Data Spend', 'Total Data Consumption', 'Total Unique Calls',\n",
       "       'Total Onnet spend ', 'Total Offnet spend',\n",
       "       'Total Call centre complaint calls',\n",
       "       'Most Loved Competitor network in in Month 1',\n",
       "       'Most Loved Competitor network in in Month 2', 'Churn Status',\n",
       "       'Network type subscription in Month 1_2G',\n",
       "       'Network type subscription in Month 1_3G',\n",
       "       'Network type subscription in Month 1_Other',\n",
       "       'Network type subscription in Month 2_2G',\n",
       "       'Network type subscription in Month 2_3G',\n",
       "       'Network type subscription in Month 2_Other'],\n",
       "      dtype='object')"
      ]
     },
     "execution_count": 31,
     "metadata": {},
     "output_type": "execute_result"
    }
   ],
   "source": [
    "final_frame.keys()"
   ]
  },
  {
   "cell_type": "code",
   "execution_count": 32,
   "metadata": {},
   "outputs": [
    {
     "data": {
      "text/plain": [
       "1149"
      ]
     },
     "execution_count": 32,
     "metadata": {},
     "output_type": "execute_result"
    }
   ],
   "source": [
    "# count outliers\n",
    "np.count_nonzero(final_frame['network_age'][final_frame['network_age'] <2700])"
   ]
  },
  {
   "cell_type": "code",
   "execution_count": 33,
   "metadata": {},
   "outputs": [
    {
     "data": {
      "text/plain": [
       "251"
      ]
     },
     "execution_count": 33,
     "metadata": {},
     "output_type": "execute_result"
    }
   ],
   "source": [
    "np.count_nonzero(final_frame['network_age'][final_frame['network_age'] >2700])"
   ]
  },
  {
   "cell_type": "code",
   "execution_count": 34,
   "metadata": {},
   "outputs": [
    {
     "data": {
      "text/plain": [
       "nan"
      ]
     },
     "execution_count": 34,
     "metadata": {},
     "output_type": "execute_result"
    }
   ],
   "source": [
    "np.median(final_frame['network_age'])"
   ]
  },
  {
   "cell_type": "code",
   "execution_count": 35,
   "metadata": {
    "collapsed": true
   },
   "outputs": [],
   "source": [
    "final_frame['network_age'] = final_frame['network_age'].fillna(np.median(final_frame['network_age']))\n",
    "final_frame['Customer tenure in month'] = final_frame['Customer tenure in month'].fillna(np.median(final_frame['Customer tenure in month']))\n",
    "final_frame['Total Spend in Months 1 and 2 of 2017'] = final_frame['Total Spend in Months 1 and 2 of 2017'].fillna(np.median(final_frame['Total Spend in Months 1 and 2 of 2017']))\n",
    "final_frame['Total SMS Spend'] = final_frame['Total SMS Spend'].fillna(np.median(final_frame['Total SMS Spend']))\n",
    "final_frame['Total Data Spend'] = final_frame['Total Data Spend'].fillna(np.median(final_frame['Total Data Spend']))\n",
    "final_frame['Total Data Consumption'] = final_frame['Total Data Consumption'].fillna(np.median(final_frame['Total Data Consumption']))\n",
    "final_frame['Total Unique Calls'] = final_frame['Total Unique Calls'].fillna(np.median(final_frame['Total Unique Calls']))\n",
    "final_frame['Total Onnet spend '] = final_frame['Total Onnet spend '].fillna(np.median(final_frame['Total Onnet spend ']))\n",
    "final_frame['Total Offnet spend'] = final_frame['Total Offnet spend'].fillna(np.median(final_frame['Total Offnet spend']))\n",
    "final_frame['Total Call centre complaints calls'] = final_frame['Total Call centre complaint calls'].fillna(np.median(final_frame['Total Call centre complaint calls']))"
   ]
  },
  {
   "cell_type": "code",
   "execution_count": 36,
   "metadata": {
    "scrolled": true
   },
   "outputs": [
    {
     "data": {
      "text/plain": [
       "0        123.0\n",
       "1       1316.0\n",
       "2       2385.0\n",
       "3       1614.0\n",
       "4       2175.0\n",
       "5        158.0\n",
       "6        110.0\n",
       "7        558.0\n",
       "8        115.0\n",
       "9       1868.0\n",
       "10      1196.0\n",
       "11       174.0\n",
       "12       122.0\n",
       "13       441.0\n",
       "14      2132.0\n",
       "15       180.0\n",
       "16       114.0\n",
       "17      3496.0\n",
       "18       422.0\n",
       "19      1914.0\n",
       "20      1822.0\n",
       "21       120.0\n",
       "22      2372.0\n",
       "23      3500.0\n",
       "24       121.0\n",
       "25      2417.0\n",
       "26       204.0\n",
       "27      3291.0\n",
       "28       847.0\n",
       "29      1038.0\n",
       "         ...  \n",
       "1370     105.0\n",
       "1371    1587.0\n",
       "1372     107.0\n",
       "1373      99.0\n",
       "1374     974.0\n",
       "1375     108.0\n",
       "1376    2848.0\n",
       "1377    1842.0\n",
       "1378    1268.0\n",
       "1379    1490.0\n",
       "1380     658.0\n",
       "1381    4639.0\n",
       "1382     266.0\n",
       "1383    2630.0\n",
       "1384     103.0\n",
       "1385     116.0\n",
       "1386    1774.0\n",
       "1387    4064.0\n",
       "1388    4149.0\n",
       "1389    1530.0\n",
       "1390    1687.0\n",
       "1391    3853.0\n",
       "1392    1276.0\n",
       "1393    1447.0\n",
       "1394     113.0\n",
       "1395     136.0\n",
       "1396    1795.0\n",
       "1397     203.0\n",
       "1398     109.0\n",
       "1399     904.0\n",
       "Name: network_age, Length: 1400, dtype: float64"
      ]
     },
     "execution_count": 36,
     "metadata": {},
     "output_type": "execute_result"
    }
   ],
   "source": [
    "final_frame['network_age'].dropna(axis = 0)"
   ]
  },
  {
   "cell_type": "code",
   "execution_count": 37,
   "metadata": {},
   "outputs": [
    {
     "data": {
      "text/plain": [
       "(1401, 21)"
      ]
     },
     "execution_count": 37,
     "metadata": {},
     "output_type": "execute_result"
    }
   ],
   "source": [
    "final_frame.shape"
   ]
  },
  {
   "cell_type": "code",
   "execution_count": 38,
   "metadata": {},
   "outputs": [
    {
     "data": {
      "text/plain": [
       "(1399, 21)"
      ]
     },
     "execution_count": 38,
     "metadata": {},
     "output_type": "execute_result"
    }
   ],
   "source": [
    "final_frame = final_frame.dropna(axis = 0)\n",
    "final_frame.shape"
   ]
  },
  {
   "cell_type": "code",
   "execution_count": 39,
   "metadata": {
    "collapsed": true
   },
   "outputs": [],
   "source": [
    "final_frame.keys()\n",
    "final_frame = final_frame.drop('Total Call centre complaints calls', axis = 1)"
   ]
  },
  {
   "cell_type": "code",
   "execution_count": 40,
   "metadata": {},
   "outputs": [
    {
     "name": "stdout",
     "output_type": "stream",
     "text": [
      "Customer ID False\n",
      "Customer tenure in month False\n",
      "Total SMS Spend False\n",
      "Total Data Consumption False\n",
      "Total Onnet spend  False\n",
      "Total Call centre complaint calls False\n",
      "Most Loved Competitor network in in Month 2 False\n",
      "Network type subscription in Month 1_2G False\n",
      "Network type subscription in Month 1_Other False\n",
      "Network type subscription in Month 2_3G False\n"
     ]
    }
   ],
   "source": [
    "check_list =list(final_frame.keys()) \n",
    "for i in check_list:\n",
    "    check_list.remove(i)\n",
    "    solution = i in check_list\n",
    "    print (i, solution)"
   ]
  },
  {
   "cell_type": "code",
   "execution_count": 41,
   "metadata": {
    "collapsed": true
   },
   "outputs": [],
   "source": [
    "x = np.array([2,3,4,5,6,7,2,4,6,7,8,4,6,8,4,2,5,7])"
   ]
  },
  {
   "cell_type": "code",
   "execution_count": 42,
   "metadata": {
    "collapsed": true
   },
   "outputs": [],
   "source": [
    "x[x >3] = 3"
   ]
  },
  {
   "cell_type": "code",
   "execution_count": 43,
   "metadata": {},
   "outputs": [
    {
     "data": {
      "text/plain": [
       "array([2, 3, 3, 3, 3, 3, 2, 3, 3, 3, 3, 3, 3, 3, 3, 2, 3, 3])"
      ]
     },
     "execution_count": 43,
     "metadata": {},
     "output_type": "execute_result"
    }
   ],
   "source": [
    "x"
   ]
  },
  {
   "cell_type": "code",
   "execution_count": 44,
   "metadata": {
    "collapsed": true
   },
   "outputs": [],
   "source": [
    "# network_age <2700, customer tenure <90, total spend in months 1 and 2 less than 1200, \n",
    "# total sms spend < 50, total_data spend <30, Total data consumption , total unique calls, total onnet spend, \n",
    "# total offnet spend, total call centre complaint calls, "
   ]
  },
  {
   "cell_type": "code",
   "execution_count": 45,
   "metadata": {},
   "outputs": [
    {
     "data": {
      "text/plain": [
       "0    117.0\n",
       "dtype: float64"
      ]
     },
     "execution_count": 45,
     "metadata": {},
     "output_type": "execute_result"
    }
   ],
   "source": [
    "final_frame['network_age'].mode()"
   ]
  },
  {
   "cell_type": "code",
   "execution_count": 46,
   "metadata": {
    "collapsed": true
   },
   "outputs": [],
   "source": [
    "final_frame['network_age'][final_frame['network_age'] > 2700] = final_frame['network_age'].mode()"
   ]
  },
  {
   "cell_type": "code",
   "execution_count": 47,
   "metadata": {},
   "outputs": [
    {
     "data": {
      "text/plain": [
       "Index(['Customer ID', 'network_age', 'Customer tenure in month',\n",
       "       'Total Spend in Months 1 and 2 of 2017', 'Total SMS Spend',\n",
       "       'Total Data Spend', 'Total Data Consumption', 'Total Unique Calls',\n",
       "       'Total Onnet spend ', 'Total Offnet spend',\n",
       "       'Total Call centre complaint calls',\n",
       "       'Most Loved Competitor network in in Month 1',\n",
       "       'Most Loved Competitor network in in Month 2', 'Churn Status',\n",
       "       'Network type subscription in Month 1_2G',\n",
       "       'Network type subscription in Month 1_3G',\n",
       "       'Network type subscription in Month 1_Other',\n",
       "       'Network type subscription in Month 2_2G',\n",
       "       'Network type subscription in Month 2_3G',\n",
       "       'Network type subscription in Month 2_Other'],\n",
       "      dtype='object')"
      ]
     },
     "execution_count": 47,
     "metadata": {},
     "output_type": "execute_result"
    }
   ],
   "source": [
    "final_frame.keys()"
   ]
  },
  {
   "cell_type": "code",
   "execution_count": 48,
   "metadata": {
    "collapsed": true
   },
   "outputs": [],
   "source": [
    "final_frame['Customer tenure in month'][final_frame['Customer tenure in month'] > 90] = final_frame['Customer tenure in month'].mode()"
   ]
  },
  {
   "cell_type": "code",
   "execution_count": 49,
   "metadata": {
    "collapsed": true
   },
   "outputs": [],
   "source": [
    "final_frame['Total Spend in Months 1 and 2 of 2017'][final_frame['Total Spend in Months 1 and 2 of 2017'] > 1200] = final_frame['Total Spend in Months 1 and 2 of 2017'].mode()"
   ]
  },
  {
   "cell_type": "code",
   "execution_count": 50,
   "metadata": {},
   "outputs": [
    {
     "data": {
      "text/plain": [
       "49.880000000000003"
      ]
     },
     "execution_count": 50,
     "metadata": {},
     "output_type": "execute_result"
    }
   ],
   "source": [
    "final_frame['Total SMS Spend'][final_frame['Total SMS Spend'] > 50] = final_frame['Total SMS Spend'].mode()\n",
    "final_frame['Total SMS Spend'].max()"
   ]
  },
  {
   "cell_type": "code",
   "execution_count": 51,
   "metadata": {},
   "outputs": [
    {
     "data": {
      "text/plain": [
       "30.0"
      ]
     },
     "execution_count": 51,
     "metadata": {},
     "output_type": "execute_result"
    }
   ],
   "source": [
    "final_frame['Total Data Spend'][final_frame['Total Data Spend'] > 30] = final_frame['Total Data Spend'].mode()\n",
    "final_frame['Total Data Spend'].max()"
   ]
  },
  {
   "cell_type": "code",
   "execution_count": 52,
   "metadata": {},
   "outputs": [
    {
     "data": {
      "image/png": "[encoded data removed]",
      "text/plain": [
       "<matplotlib.figure.Figure at 0xc4090b8>"
      ]
     },
     "metadata": {},
     "output_type": "display_data"
    },
    {
     "data": {
      "text/plain": [
       "0    64.0\n",
       "dtype: float64"
      ]
     },
     "execution_count": 52,
     "metadata": {},
     "output_type": "execute_result"
    }
   ],
   "source": [
    "final_frame.boxplot(['Total Data Consumption'])\n",
    "plt.show()\n",
    "final_frame['Total Data Consumption'].mode()"
   ]
  },
  {
   "cell_type": "code",
   "execution_count": 53,
   "metadata": {
    "collapsed": true
   },
   "outputs": [],
   "source": [
    "final_frame['Total Data Consumption'][final_frame['Total Data Consumption'] >final_frame['Total Data Consumption'].median()] = final_frame['Total Data Consumption'].median()"
   ]
  },
  {
   "cell_type": "code",
   "execution_count": 54,
   "metadata": {
    "collapsed": true
   },
   "outputs": [],
   "source": [
    "final_frame['Total Unique Calls'][final_frame['Total Unique Calls'] > 200] = final_frame['Total Unique Calls'].median()"
   ]
  },
  {
   "cell_type": "code",
   "execution_count": 55,
   "metadata": {
    "collapsed": true
   },
   "outputs": [],
   "source": [
    "final_frame['Total Onnet spend '][final_frame['Total Onnet spend '] > 1000] = final_frame['Total Onnet spend '].median()\n",
    "final_frame['Total Offnet spend'][final_frame['Total Offnet spend'] > 13000] = final_frame['Total Offnet spend'].median()\n",
    "final_frame['Total Call centre complaint calls'][final_frame['Total Call centre complaint calls'] > 2] = final_frame['Total Call centre complaint calls'].median()"
   ]
  },
  {
   "cell_type": "code",
   "execution_count": 56,
   "metadata": {},
   "outputs": [
    {
     "data": {
      "text/html": [
       "<div>\n",
       "<style>\n",
       "    .dataframe thead tr:only-child th {\n",
       "        text-align: right;\n",
       "    }\n",
       "\n",
       "    .dataframe thead th {\n",
       "        text-align: left;\n",
       "    }\n",
       "\n",
       "    .dataframe tbody tr th {\n",
       "        vertical-align: top;\n",
       "    }\n",
       "</style>\n",
       "<table border=\"1\" class=\"dataframe\">\n",
       "  <thead>\n",
       "    <tr style=\"text-align: right;\">\n",
       "      <th></th>\n",
       "      <th>network_age</th>\n",
       "      <th>Customer tenure in month</th>\n",
       "      <th>Total Spend in Months 1 and 2 of 2017</th>\n",
       "      <th>Total SMS Spend</th>\n",
       "      <th>Total Data Spend</th>\n",
       "      <th>Total Data Consumption</th>\n",
       "      <th>Total Unique Calls</th>\n",
       "      <th>Total Onnet spend</th>\n",
       "      <th>Total Offnet spend</th>\n",
       "      <th>Total Call centre complaint calls</th>\n",
       "      <th>Most Loved Competitor network in in Month 1</th>\n",
       "      <th>Most Loved Competitor network in in Month 2</th>\n",
       "      <th>Churn Status</th>\n",
       "      <th>Network type subscription in Month 1_2G</th>\n",
       "      <th>Network type subscription in Month 1_3G</th>\n",
       "      <th>Network type subscription in Month 1_Other</th>\n",
       "      <th>Network type subscription in Month 2_2G</th>\n",
       "      <th>Network type subscription in Month 2_3G</th>\n",
       "      <th>Network type subscription in Month 2_Other</th>\n",
       "    </tr>\n",
       "  </thead>\n",
       "  <tbody>\n",
       "    <tr>\n",
       "      <th>count</th>\n",
       "      <td>1148.000000</td>\n",
       "      <td>1148.000000</td>\n",
       "      <td>1184.000000</td>\n",
       "      <td>1188.000000</td>\n",
       "      <td>965.000000</td>\n",
       "      <td>1399.000000</td>\n",
       "      <td>1399.000000</td>\n",
       "      <td>1399.000000</td>\n",
       "      <td>1399.000000</td>\n",
       "      <td>1399.000000</td>\n",
       "      <td>1399.000000</td>\n",
       "      <td>1399.000000</td>\n",
       "      <td>1399.000000</td>\n",
       "      <td>1399.000000</td>\n",
       "      <td>1399.000000</td>\n",
       "      <td>1399.000000</td>\n",
       "      <td>1399.000000</td>\n",
       "      <td>1399.000000</td>\n",
       "      <td>1399.000000</td>\n",
       "    </tr>\n",
       "    <tr>\n",
       "      <th>mean</th>\n",
       "      <td>969.246516</td>\n",
       "      <td>32.308293</td>\n",
       "      <td>494.701842</td>\n",
       "      <td>13.419419</td>\n",
       "      <td>7.137938</td>\n",
       "      <td>67983.910886</td>\n",
       "      <td>64.625447</td>\n",
       "      <td>994.173695</td>\n",
       "      <td>3655.466047</td>\n",
       "      <td>1.191565</td>\n",
       "      <td>2.881344</td>\n",
       "      <td>1.812009</td>\n",
       "      <td>0.500357</td>\n",
       "      <td>0.216583</td>\n",
       "      <td>0.454610</td>\n",
       "      <td>0.203717</td>\n",
       "      <td>0.202287</td>\n",
       "      <td>0.491065</td>\n",
       "      <td>0.203717</td>\n",
       "    </tr>\n",
       "    <tr>\n",
       "      <th>std</th>\n",
       "      <td>783.795630</td>\n",
       "      <td>26.126617</td>\n",
       "      <td>376.669299</td>\n",
       "      <td>13.016995</td>\n",
       "      <td>8.675471</td>\n",
       "      <td>54638.176048</td>\n",
       "      <td>48.666287</td>\n",
       "      <td>731.405823</td>\n",
       "      <td>2914.267749</td>\n",
       "      <td>0.393674</td>\n",
       "      <td>1.709249</td>\n",
       "      <td>1.291426</td>\n",
       "      <td>0.500179</td>\n",
       "      <td>0.412064</td>\n",
       "      <td>0.498114</td>\n",
       "      <td>0.402905</td>\n",
       "      <td>0.401849</td>\n",
       "      <td>0.500099</td>\n",
       "      <td>0.402905</td>\n",
       "    </tr>\n",
       "    <tr>\n",
       "      <th>min</th>\n",
       "      <td>-5.000000</td>\n",
       "      <td>-0.170000</td>\n",
       "      <td>4.910000</td>\n",
       "      <td>0.000000</td>\n",
       "      <td>0.000000</td>\n",
       "      <td>0.058600</td>\n",
       "      <td>1.000000</td>\n",
       "      <td>0.000000</td>\n",
       "      <td>0.000000</td>\n",
       "      <td>1.000000</td>\n",
       "      <td>0.000000</td>\n",
       "      <td>1.000000</td>\n",
       "      <td>0.000000</td>\n",
       "      <td>0.000000</td>\n",
       "      <td>0.000000</td>\n",
       "      <td>0.000000</td>\n",
       "      <td>0.000000</td>\n",
       "      <td>0.000000</td>\n",
       "      <td>0.000000</td>\n",
       "    </tr>\n",
       "    <tr>\n",
       "      <th>25%</th>\n",
       "      <td>204.000000</td>\n",
       "      <td>6.800000</td>\n",
       "      <td>133.116300</td>\n",
       "      <td>1.750000</td>\n",
       "      <td>0.000000</td>\n",
       "      <td>1375.749050</td>\n",
       "      <td>18.000000</td>\n",
       "      <td>60.000000</td>\n",
       "      <td>1125.500000</td>\n",
       "      <td>1.000000</td>\n",
       "      <td>1.000000</td>\n",
       "      <td>1.000000</td>\n",
       "      <td>0.000000</td>\n",
       "      <td>0.000000</td>\n",
       "      <td>0.000000</td>\n",
       "      <td>0.000000</td>\n",
       "      <td>0.000000</td>\n",
       "      <td>0.000000</td>\n",
       "      <td>0.000000</td>\n",
       "    </tr>\n",
       "    <tr>\n",
       "      <th>50%</th>\n",
       "      <td>802.500000</td>\n",
       "      <td>26.750000</td>\n",
       "      <td>458.019600</td>\n",
       "      <td>10.070000</td>\n",
       "      <td>2.500000</td>\n",
       "      <td>118434.742200</td>\n",
       "      <td>82.000000</td>\n",
       "      <td>1626.000000</td>\n",
       "      <td>4174.000000</td>\n",
       "      <td>1.000000</td>\n",
       "      <td>2.000000</td>\n",
       "      <td>1.000000</td>\n",
       "      <td>1.000000</td>\n",
       "      <td>0.000000</td>\n",
       "      <td>0.000000</td>\n",
       "      <td>0.000000</td>\n",
       "      <td>0.000000</td>\n",
       "      <td>0.000000</td>\n",
       "      <td>0.000000</td>\n",
       "    </tr>\n",
       "    <tr>\n",
       "      <th>75%</th>\n",
       "      <td>1549.000000</td>\n",
       "      <td>51.632500</td>\n",
       "      <td>841.429100</td>\n",
       "      <td>21.577500</td>\n",
       "      <td>12.500000</td>\n",
       "      <td>118434.742200</td>\n",
       "      <td>82.000000</td>\n",
       "      <td>1626.000000</td>\n",
       "      <td>4174.000000</td>\n",
       "      <td>1.000000</td>\n",
       "      <td>4.000000</td>\n",
       "      <td>2.000000</td>\n",
       "      <td>1.000000</td>\n",
       "      <td>0.000000</td>\n",
       "      <td>1.000000</td>\n",
       "      <td>0.000000</td>\n",
       "      <td>0.000000</td>\n",
       "      <td>1.000000</td>\n",
       "      <td>0.000000</td>\n",
       "    </tr>\n",
       "    <tr>\n",
       "      <th>max</th>\n",
       "      <td>2699.000000</td>\n",
       "      <td>89.970000</td>\n",
       "      <td>1197.178400</td>\n",
       "      <td>49.880000</td>\n",
       "      <td>30.000000</td>\n",
       "      <td>118434.742200</td>\n",
       "      <td>200.000000</td>\n",
       "      <td>1626.000000</td>\n",
       "      <td>12974.000000</td>\n",
       "      <td>2.000000</td>\n",
       "      <td>6.000000</td>\n",
       "      <td>6.000000</td>\n",
       "      <td>1.000000</td>\n",
       "      <td>1.000000</td>\n",
       "      <td>1.000000</td>\n",
       "      <td>1.000000</td>\n",
       "      <td>1.000000</td>\n",
       "      <td>1.000000</td>\n",
       "      <td>1.000000</td>\n",
       "    </tr>\n",
       "  </tbody>\n",
       "</table>\n",
       "</div>"
      ],
      "text/plain": [
       "       network_age  Customer tenure in month  \\\n",
       "count  1148.000000               1148.000000   \n",
       "mean    969.246516                 32.308293   \n",
       "std     783.795630                 26.126617   \n",
       "min      -5.000000                 -0.170000   \n",
       "25%     204.000000                  6.800000   \n",
       "50%     802.500000                 26.750000   \n",
       "75%    1549.000000                 51.632500   \n",
       "max    2699.000000                 89.970000   \n",
       "\n",
       "       Total Spend in Months 1 and 2 of 2017  Total SMS Spend  \\\n",
       "count                            1184.000000      1188.000000   \n",
       "mean                              494.701842        13.419419   \n",
       "std                               376.669299        13.016995   \n",
       "min                                 4.910000         0.000000   \n",
       "25%                               133.116300         1.750000   \n",
       "50%                               458.019600        10.070000   \n",
       "75%                               841.429100        21.577500   \n",
       "max                              1197.178400        49.880000   \n",
       "\n",
       "       Total Data Spend  Total Data Consumption  Total Unique Calls  \\\n",
       "count        965.000000             1399.000000         1399.000000   \n",
       "mean           7.137938            67983.910886           64.625447   \n",
       "std            8.675471            54638.176048           48.666287   \n",
       "min            0.000000                0.058600            1.000000   \n",
       "25%            0.000000             1375.749050           18.000000   \n",
       "50%            2.500000           118434.742200           82.000000   \n",
       "75%           12.500000           118434.742200           82.000000   \n",
       "max           30.000000           118434.742200          200.000000   \n",
       "\n",
       "       Total Onnet spend   Total Offnet spend  \\\n",
       "count         1399.000000         1399.000000   \n",
       "mean           994.173695         3655.466047   \n",
       "std            731.405823         2914.267749   \n",
       "min              0.000000            0.000000   \n",
       "25%             60.000000         1125.500000   \n",
       "50%           1626.000000         4174.000000   \n",
       "75%           1626.000000         4174.000000   \n",
       "max           1626.000000        12974.000000   \n",
       "\n",
       "       Total Call centre complaint calls  \\\n",
       "count                        1399.000000   \n",
       "mean                            1.191565   \n",
       "std                             0.393674   \n",
       "min                             1.000000   \n",
       "25%                             1.000000   \n",
       "50%                             1.000000   \n",
       "75%                             1.000000   \n",
       "max                             2.000000   \n",
       "\n",
       "       Most Loved Competitor network in in Month 1  \\\n",
       "count                                  1399.000000   \n",
       "mean                                      2.881344   \n",
       "std                                       1.709249   \n",
       "min                                       0.000000   \n",
       "25%                                       1.000000   \n",
       "50%                                       2.000000   \n",
       "75%                                       4.000000   \n",
       "max                                       6.000000   \n",
       "\n",
       "       Most Loved Competitor network in in Month 2  Churn Status  \\\n",
       "count                                  1399.000000   1399.000000   \n",
       "mean                                      1.812009      0.500357   \n",
       "std                                       1.291426      0.500179   \n",
       "min                                       1.000000      0.000000   \n",
       "25%                                       1.000000      0.000000   \n",
       "50%                                       1.000000      1.000000   \n",
       "75%                                       2.000000      1.000000   \n",
       "max                                       6.000000      1.000000   \n",
       "\n",
       "       Network type subscription in Month 1_2G  \\\n",
       "count                              1399.000000   \n",
       "mean                                  0.216583   \n",
       "std                                   0.412064   \n",
       "min                                   0.000000   \n",
       "25%                                   0.000000   \n",
       "50%                                   0.000000   \n",
       "75%                                   0.000000   \n",
       "max                                   1.000000   \n",
       "\n",
       "       Network type subscription in Month 1_3G  \\\n",
       "count                              1399.000000   \n",
       "mean                                  0.454610   \n",
       "std                                   0.498114   \n",
       "min                                   0.000000   \n",
       "25%                                   0.000000   \n",
       "50%                                   0.000000   \n",
       "75%                                   1.000000   \n",
       "max                                   1.000000   \n",
       "\n",
       "       Network type subscription in Month 1_Other  \\\n",
       "count                                 1399.000000   \n",
       "mean                                     0.203717   \n",
       "std                                      0.402905   \n",
       "min                                      0.000000   \n",
       "25%                                      0.000000   \n",
       "50%                                      0.000000   \n",
       "75%                                      0.000000   \n",
       "max                                      1.000000   \n",
       "\n",
       "       Network type subscription in Month 2_2G  \\\n",
       "count                              1399.000000   \n",
       "mean                                  0.202287   \n",
       "std                                   0.401849   \n",
       "min                                   0.000000   \n",
       "25%                                   0.000000   \n",
       "50%                                   0.000000   \n",
       "75%                                   0.000000   \n",
       "max                                   1.000000   \n",
       "\n",
       "       Network type subscription in Month 2_3G  \\\n",
       "count                              1399.000000   \n",
       "mean                                  0.491065   \n",
       "std                                   0.500099   \n",
       "min                                   0.000000   \n",
       "25%                                   0.000000   \n",
       "50%                                   0.000000   \n",
       "75%                                   1.000000   \n",
       "max                                   1.000000   \n",
       "\n",
       "       Network type subscription in Month 2_Other  \n",
       "count                                 1399.000000  \n",
       "mean                                     0.203717  \n",
       "std                                      0.402905  \n",
       "min                                      0.000000  \n",
       "25%                                      0.000000  \n",
       "50%                                      0.000000  \n",
       "75%                                      0.000000  \n",
       "max                                      1.000000  "
      ]
     },
     "execution_count": 56,
     "metadata": {},
     "output_type": "execute_result"
    }
   ],
   "source": [
    "final_frame.describe()"
   ]
  },
  {
   "cell_type": "code",
   "execution_count": 57,
   "metadata": {
    "collapsed": true
   },
   "outputs": [],
   "source": [
    "from sklearn.preprocessing import MinMaxScaler\n",
    "scale = MinMaxScaler()\n",
    "from sklearn.preprocessing import StandardScaler\n",
    "stdScale = StandardScaler()"
   ]
  },
  {
   "cell_type": "code",
   "execution_count": 58,
   "metadata": {},
   "outputs": [
    {
     "data": {
      "text/plain": [
       "{'C': 0.1,\n",
       " 'class_weight': None,\n",
       " 'dual': False,\n",
       " 'fit_intercept': True,\n",
       " 'intercept_scaling': 1,\n",
       " 'max_iter': 100,\n",
       " 'multi_class': 'ovr',\n",
       " 'n_jobs': 1,\n",
       " 'penalty': 'l1',\n",
       " 'random_state': 50,\n",
       " 'solver': 'liblinear',\n",
       " 'tol': 0.0001,\n",
       " 'verbose': 0,\n",
       " 'warm_start': False}"
      ]
     },
     "execution_count": 58,
     "metadata": {},
     "output_type": "execute_result"
    }
   ],
   "source": [
    "from sklearn.linear_model import LogisticRegression\n",
    "lr = LogisticRegression(random_state = 50, penalty = 'l1',C = 0.1)\n",
    "lr.get_params()"
   ]
  },
  {
   "cell_type": "code",
   "execution_count": 59,
   "metadata": {},
   "outputs": [
    {
     "name": "stdout",
     "output_type": "stream",
     "text": [
      "[0.0001, 0.001, 0.01, 0.1, 1, 1.0, 10, 100, 1000] [0.51295799821268995, 0.51295799821268995, 0.6720285969615728, 0.70330652368185875, 0.7024128686327078, 0.7024128686327078, 0.70330652368185875, 0.7024128686327078, 0.7024128686327078] [0.44642857142857145, 0.44642857142857145, 0.625, 0.67500000000000004, 0.66785714285714282, 0.66785714285714282, 0.67500000000000004, 0.67500000000000004, 0.67500000000000004]\n"
     ]
    }
   ],
   "source": [
    "final_frame.dropna()\n",
    "\n",
    "for i in final_frame.keys():\n",
    "    if i != 'Customer ID':\n",
    "        final_frame[i] = final_frame[i].replace(np.nan,final_frame[i].median())\n",
    "    else:\n",
    "        pass\n",
    "final_frame.head()\n",
    "\n",
    "process_frame = {}\n",
    "\n",
    "for i in final_frame:\n",
    "    if i != 'Customer ID':\n",
    "        process_frame[i] = final_frame[i]\n",
    "    else: \n",
    "        pass\n",
    "process_frame = pd.DataFrame(process_frame)\n",
    "process_frame.head()\n",
    "x = {}\n",
    "\n",
    "for i in process_frame:\n",
    "    if i != 'Churn Status':\n",
    "        x[i] = process_frame[i]\n",
    "    else:\n",
    "        pass\n",
    "x = pd.DataFrame(x)\n",
    "y = process_frame['Churn Status']\n",
    "\n",
    "from sklearn.cross_validation import train_test_split\n",
    "x_train, x_test, y_train, y_test = train_test_split(x,y,test_size = 0.20, random_state = 50)\n",
    "x_train_scale = scale.fit_transform(x_train)\n",
    "y_train_scale = scale.fit_transform(y_train)\n",
    "x_test_scale = scale.fit_transform(x_test)\n",
    "y_test_scale = scale.fit_transform(y_test)\n",
    "\n",
    "x_train_std = stdScale.fit_transform(x_train)\n",
    "y_train_std = stdScale.fit_transform(y_train)\n",
    "x_test_std = stdScale.fit_transform(x_test)\n",
    "y_test_std = stdScale.fit_transform(y_test)\n",
    "\n",
    "\n",
    "x = [0.0001,0.001,0.01,0.1,1,1.0,10,100,1000]\n",
    "y = []\n",
    "z = []\n",
    "for i in x:\n",
    "    logreg = LogisticRegression(random_state = 50, penalty = 'l1', C = i)\n",
    "    logreg.fit(x_train_std, y_train)\n",
    "    train_score =  logreg.score(x_train_std, y_train)\n",
    "    test_score = logreg.score(x_test_std, y_test)\n",
    "    y.append(train_score)\n",
    "    z.append(test_score)\n",
    "\n",
    "print (x,y,z)\n"
   ]
  },
  {
   "cell_type": "code",
   "execution_count": 60,
   "metadata": {
    "collapsed": true
   },
   "outputs": [],
   "source": [
    "from sklearn.cross_validation import train_test_split"
   ]
  },
  {
   "cell_type": "code",
   "execution_count": 61,
   "metadata": {
    "scrolled": true
   },
   "outputs": [
    {
     "data": {
      "text/html": [
       "<div>\n",
       "<style>\n",
       "    .dataframe thead tr:only-child th {\n",
       "        text-align: right;\n",
       "    }\n",
       "\n",
       "    .dataframe thead th {\n",
       "        text-align: left;\n",
       "    }\n",
       "\n",
       "    .dataframe tbody tr th {\n",
       "        vertical-align: top;\n",
       "    }\n",
       "</style>\n",
       "<table border=\"1\" class=\"dataframe\">\n",
       "  <thead>\n",
       "    <tr style=\"text-align: right;\">\n",
       "      <th></th>\n",
       "      <th>Customer ID</th>\n",
       "      <th>network_age</th>\n",
       "      <th>Customer tenure in month</th>\n",
       "      <th>Total Spend in Months 1 and 2 of 2017</th>\n",
       "      <th>Total SMS Spend</th>\n",
       "      <th>Total Data Spend</th>\n",
       "      <th>Total Data Consumption</th>\n",
       "      <th>Total Unique Calls</th>\n",
       "      <th>Total Onnet spend</th>\n",
       "      <th>Total Offnet spend</th>\n",
       "      <th>Total Call centre complaint calls</th>\n",
       "      <th>Most Loved Competitor network in in Month 1</th>\n",
       "      <th>Most Loved Competitor network in in Month 2</th>\n",
       "      <th>Churn Status</th>\n",
       "      <th>Network type subscription in Month 1_2G</th>\n",
       "      <th>Network type subscription in Month 1_3G</th>\n",
       "      <th>Network type subscription in Month 1_Other</th>\n",
       "      <th>Network type subscription in Month 2_2G</th>\n",
       "      <th>Network type subscription in Month 2_3G</th>\n",
       "      <th>Network type subscription in Month 2_Other</th>\n",
       "    </tr>\n",
       "  </thead>\n",
       "  <tbody>\n",
       "    <tr>\n",
       "      <th>0</th>\n",
       "      <td>ADF0039</td>\n",
       "      <td>123.0</td>\n",
       "      <td>4.10</td>\n",
       "      <td>76.7140</td>\n",
       "      <td>0.00</td>\n",
       "      <td>1.25</td>\n",
       "      <td>1.4951</td>\n",
       "      <td>14.0</td>\n",
       "      <td>564.0</td>\n",
       "      <td>6408.0</td>\n",
       "      <td>2.0</td>\n",
       "      <td>1.0</td>\n",
       "      <td>3.0</td>\n",
       "      <td>0.0</td>\n",
       "      <td>1</td>\n",
       "      <td>0</td>\n",
       "      <td>0</td>\n",
       "      <td>1</td>\n",
       "      <td>0</td>\n",
       "      <td>0</td>\n",
       "    </tr>\n",
       "    <tr>\n",
       "      <th>1</th>\n",
       "      <td>ADF0041</td>\n",
       "      <td>1316.0</td>\n",
       "      <td>43.87</td>\n",
       "      <td>98.8904</td>\n",
       "      <td>4.14</td>\n",
       "      <td>1.25</td>\n",
       "      <td>1.0244</td>\n",
       "      <td>27.0</td>\n",
       "      <td>1626.0</td>\n",
       "      <td>4373.0</td>\n",
       "      <td>1.0</td>\n",
       "      <td>1.0</td>\n",
       "      <td>3.0</td>\n",
       "      <td>0.0</td>\n",
       "      <td>1</td>\n",
       "      <td>0</td>\n",
       "      <td>0</td>\n",
       "      <td>1</td>\n",
       "      <td>0</td>\n",
       "      <td>0</td>\n",
       "    </tr>\n",
       "    <tr>\n",
       "      <th>2</th>\n",
       "      <td>ADF0051</td>\n",
       "      <td>2385.0</td>\n",
       "      <td>79.50</td>\n",
       "      <td>372.6300</td>\n",
       "      <td>3.51</td>\n",
       "      <td>1.25</td>\n",
       "      <td>6.0898</td>\n",
       "      <td>119.0</td>\n",
       "      <td>1626.0</td>\n",
       "      <td>4174.0</td>\n",
       "      <td>1.0</td>\n",
       "      <td>5.0</td>\n",
       "      <td>3.0</td>\n",
       "      <td>0.0</td>\n",
       "      <td>1</td>\n",
       "      <td>0</td>\n",
       "      <td>0</td>\n",
       "      <td>1</td>\n",
       "      <td>0</td>\n",
       "      <td>0</td>\n",
       "    </tr>\n",
       "    <tr>\n",
       "      <th>3</th>\n",
       "      <td>ADF0059</td>\n",
       "      <td>1614.0</td>\n",
       "      <td>53.80</td>\n",
       "      <td>530.2000</td>\n",
       "      <td>6.85</td>\n",
       "      <td>1.25</td>\n",
       "      <td>3.3447</td>\n",
       "      <td>69.0</td>\n",
       "      <td>1626.0</td>\n",
       "      <td>6274.0</td>\n",
       "      <td>1.0</td>\n",
       "      <td>0.0</td>\n",
       "      <td>3.0</td>\n",
       "      <td>0.0</td>\n",
       "      <td>1</td>\n",
       "      <td>0</td>\n",
       "      <td>0</td>\n",
       "      <td>1</td>\n",
       "      <td>0</td>\n",
       "      <td>0</td>\n",
       "    </tr>\n",
       "    <tr>\n",
       "      <th>4</th>\n",
       "      <td>ADF0060</td>\n",
       "      <td>2175.0</td>\n",
       "      <td>72.50</td>\n",
       "      <td>554.1300</td>\n",
       "      <td>6.99</td>\n",
       "      <td>2.50</td>\n",
       "      <td>118434.7422</td>\n",
       "      <td>33.0</td>\n",
       "      <td>1626.0</td>\n",
       "      <td>7241.0</td>\n",
       "      <td>1.0</td>\n",
       "      <td>5.0</td>\n",
       "      <td>3.0</td>\n",
       "      <td>0.0</td>\n",
       "      <td>1</td>\n",
       "      <td>0</td>\n",
       "      <td>0</td>\n",
       "      <td>0</td>\n",
       "      <td>1</td>\n",
       "      <td>0</td>\n",
       "    </tr>\n",
       "  </tbody>\n",
       "</table>\n",
       "</div>"
      ],
      "text/plain": [
       "  Customer ID  network_age  Customer tenure in month  \\\n",
       "0     ADF0039        123.0                      4.10   \n",
       "1     ADF0041       1316.0                     43.87   \n",
       "2     ADF0051       2385.0                     79.50   \n",
       "3     ADF0059       1614.0                     53.80   \n",
       "4     ADF0060       2175.0                     72.50   \n",
       "\n",
       "   Total Spend in Months 1 and 2 of 2017  Total SMS Spend  Total Data Spend  \\\n",
       "0                                76.7140             0.00              1.25   \n",
       "1                                98.8904             4.14              1.25   \n",
       "2                               372.6300             3.51              1.25   \n",
       "3                               530.2000             6.85              1.25   \n",
       "4                               554.1300             6.99              2.50   \n",
       "\n",
       "   Total Data Consumption  Total Unique Calls  Total Onnet spend   \\\n",
       "0                  1.4951                14.0               564.0   \n",
       "1                  1.0244                27.0              1626.0   \n",
       "2                  6.0898               119.0              1626.0   \n",
       "3                  3.3447                69.0              1626.0   \n",
       "4             118434.7422                33.0              1626.0   \n",
       "\n",
       "   Total Offnet spend  Total Call centre complaint calls  \\\n",
       "0              6408.0                                2.0   \n",
       "1              4373.0                                1.0   \n",
       "2              4174.0                                1.0   \n",
       "3              6274.0                                1.0   \n",
       "4              7241.0                                1.0   \n",
       "\n",
       "   Most Loved Competitor network in in Month 1  \\\n",
       "0                                          1.0   \n",
       "1                                          1.0   \n",
       "2                                          5.0   \n",
       "3                                          0.0   \n",
       "4                                          5.0   \n",
       "\n",
       "   Most Loved Competitor network in in Month 2  Churn Status  \\\n",
       "0                                          3.0           0.0   \n",
       "1                                          3.0           0.0   \n",
       "2                                          3.0           0.0   \n",
       "3                                          3.0           0.0   \n",
       "4                                          3.0           0.0   \n",
       "\n",
       "   Network type subscription in Month 1_2G  \\\n",
       "0                                        1   \n",
       "1                                        1   \n",
       "2                                        1   \n",
       "3                                        1   \n",
       "4                                        1   \n",
       "\n",
       "   Network type subscription in Month 1_3G  \\\n",
       "0                                        0   \n",
       "1                                        0   \n",
       "2                                        0   \n",
       "3                                        0   \n",
       "4                                        0   \n",
       "\n",
       "   Network type subscription in Month 1_Other  \\\n",
       "0                                           0   \n",
       "1                                           0   \n",
       "2                                           0   \n",
       "3                                           0   \n",
       "4                                           0   \n",
       "\n",
       "   Network type subscription in Month 2_2G  \\\n",
       "0                                        1   \n",
       "1                                        1   \n",
       "2                                        1   \n",
       "3                                        1   \n",
       "4                                        0   \n",
       "\n",
       "   Network type subscription in Month 2_3G  \\\n",
       "0                                        0   \n",
       "1                                        0   \n",
       "2                                        0   \n",
       "3                                        0   \n",
       "4                                        1   \n",
       "\n",
       "   Network type subscription in Month 2_Other  \n",
       "0                                           0  \n",
       "1                                           0  \n",
       "2                                           0  \n",
       "3                                           0  \n",
       "4                                           0  "
      ]
     },
     "execution_count": 61,
     "metadata": {},
     "output_type": "execute_result"
    }
   ],
   "source": [
    "final_frame.dropna()\n",
    "\n",
    "for i in final_frame.keys():\n",
    "    if i != 'Customer ID':\n",
    "        final_frame[i] = final_frame[i].replace(np.nan,final_frame[i].median())\n",
    "    else:\n",
    "        pass\n",
    "final_frame.head()"
   ]
  },
  {
   "cell_type": "code",
   "execution_count": 62,
   "metadata": {},
   "outputs": [
    {
     "data": {
      "text/html": [
       "<div>\n",
       "<style>\n",
       "    .dataframe thead tr:only-child th {\n",
       "        text-align: right;\n",
       "    }\n",
       "\n",
       "    .dataframe thead th {\n",
       "        text-align: left;\n",
       "    }\n",
       "\n",
       "    .dataframe tbody tr th {\n",
       "        vertical-align: top;\n",
       "    }\n",
       "</style>\n",
       "<table border=\"1\" class=\"dataframe\">\n",
       "  <thead>\n",
       "    <tr style=\"text-align: right;\">\n",
       "      <th></th>\n",
       "      <th>Churn Status</th>\n",
       "      <th>Customer tenure in month</th>\n",
       "      <th>Most Loved Competitor network in in Month 1</th>\n",
       "      <th>Most Loved Competitor network in in Month 2</th>\n",
       "      <th>Network type subscription in Month 1_2G</th>\n",
       "      <th>Network type subscription in Month 1_3G</th>\n",
       "      <th>Network type subscription in Month 1_Other</th>\n",
       "      <th>Network type subscription in Month 2_2G</th>\n",
       "      <th>Network type subscription in Month 2_3G</th>\n",
       "      <th>Network type subscription in Month 2_Other</th>\n",
       "      <th>Total Call centre complaint calls</th>\n",
       "      <th>Total Data Consumption</th>\n",
       "      <th>Total Data Spend</th>\n",
       "      <th>Total Offnet spend</th>\n",
       "      <th>Total Onnet spend</th>\n",
       "      <th>Total SMS Spend</th>\n",
       "      <th>Total Spend in Months 1 and 2 of 2017</th>\n",
       "      <th>Total Unique Calls</th>\n",
       "      <th>network_age</th>\n",
       "    </tr>\n",
       "  </thead>\n",
       "  <tbody>\n",
       "    <tr>\n",
       "      <th>0</th>\n",
       "      <td>0.0</td>\n",
       "      <td>4.10</td>\n",
       "      <td>1.0</td>\n",
       "      <td>3.0</td>\n",
       "      <td>1</td>\n",
       "      <td>0</td>\n",
       "      <td>0</td>\n",
       "      <td>1</td>\n",
       "      <td>0</td>\n",
       "      <td>0</td>\n",
       "      <td>2.0</td>\n",
       "      <td>1.4951</td>\n",
       "      <td>1.25</td>\n",
       "      <td>6408.0</td>\n",
       "      <td>564.0</td>\n",
       "      <td>0.00</td>\n",
       "      <td>76.7140</td>\n",
       "      <td>14.0</td>\n",
       "      <td>123.0</td>\n",
       "    </tr>\n",
       "    <tr>\n",
       "      <th>1</th>\n",
       "      <td>0.0</td>\n",
       "      <td>43.87</td>\n",
       "      <td>1.0</td>\n",
       "      <td>3.0</td>\n",
       "      <td>1</td>\n",
       "      <td>0</td>\n",
       "      <td>0</td>\n",
       "      <td>1</td>\n",
       "      <td>0</td>\n",
       "      <td>0</td>\n",
       "      <td>1.0</td>\n",
       "      <td>1.0244</td>\n",
       "      <td>1.25</td>\n",
       "      <td>4373.0</td>\n",
       "      <td>1626.0</td>\n",
       "      <td>4.14</td>\n",
       "      <td>98.8904</td>\n",
       "      <td>27.0</td>\n",
       "      <td>1316.0</td>\n",
       "    </tr>\n",
       "    <tr>\n",
       "      <th>2</th>\n",
       "      <td>0.0</td>\n",
       "      <td>79.50</td>\n",
       "      <td>5.0</td>\n",
       "      <td>3.0</td>\n",
       "      <td>1</td>\n",
       "      <td>0</td>\n",
       "      <td>0</td>\n",
       "      <td>1</td>\n",
       "      <td>0</td>\n",
       "      <td>0</td>\n",
       "      <td>1.0</td>\n",
       "      <td>6.0898</td>\n",
       "      <td>1.25</td>\n",
       "      <td>4174.0</td>\n",
       "      <td>1626.0</td>\n",
       "      <td>3.51</td>\n",
       "      <td>372.6300</td>\n",
       "      <td>119.0</td>\n",
       "      <td>2385.0</td>\n",
       "    </tr>\n",
       "    <tr>\n",
       "      <th>3</th>\n",
       "      <td>0.0</td>\n",
       "      <td>53.80</td>\n",
       "      <td>0.0</td>\n",
       "      <td>3.0</td>\n",
       "      <td>1</td>\n",
       "      <td>0</td>\n",
       "      <td>0</td>\n",
       "      <td>1</td>\n",
       "      <td>0</td>\n",
       "      <td>0</td>\n",
       "      <td>1.0</td>\n",
       "      <td>3.3447</td>\n",
       "      <td>1.25</td>\n",
       "      <td>6274.0</td>\n",
       "      <td>1626.0</td>\n",
       "      <td>6.85</td>\n",
       "      <td>530.2000</td>\n",
       "      <td>69.0</td>\n",
       "      <td>1614.0</td>\n",
       "    </tr>\n",
       "    <tr>\n",
       "      <th>4</th>\n",
       "      <td>0.0</td>\n",
       "      <td>72.50</td>\n",
       "      <td>5.0</td>\n",
       "      <td>3.0</td>\n",
       "      <td>1</td>\n",
       "      <td>0</td>\n",
       "      <td>0</td>\n",
       "      <td>0</td>\n",
       "      <td>1</td>\n",
       "      <td>0</td>\n",
       "      <td>1.0</td>\n",
       "      <td>118434.7422</td>\n",
       "      <td>2.50</td>\n",
       "      <td>7241.0</td>\n",
       "      <td>1626.0</td>\n",
       "      <td>6.99</td>\n",
       "      <td>554.1300</td>\n",
       "      <td>33.0</td>\n",
       "      <td>2175.0</td>\n",
       "    </tr>\n",
       "  </tbody>\n",
       "</table>\n",
       "</div>"
      ],
      "text/plain": [
       "   Churn Status  Customer tenure in month  \\\n",
       "0           0.0                      4.10   \n",
       "1           0.0                     43.87   \n",
       "2           0.0                     79.50   \n",
       "3           0.0                     53.80   \n",
       "4           0.0                     72.50   \n",
       "\n",
       "   Most Loved Competitor network in in Month 1  \\\n",
       "0                                          1.0   \n",
       "1                                          1.0   \n",
       "2                                          5.0   \n",
       "3                                          0.0   \n",
       "4                                          5.0   \n",
       "\n",
       "   Most Loved Competitor network in in Month 2  \\\n",
       "0                                          3.0   \n",
       "1                                          3.0   \n",
       "2                                          3.0   \n",
       "3                                          3.0   \n",
       "4                                          3.0   \n",
       "\n",
       "   Network type subscription in Month 1_2G  \\\n",
       "0                                        1   \n",
       "1                                        1   \n",
       "2                                        1   \n",
       "3                                        1   \n",
       "4                                        1   \n",
       "\n",
       "   Network type subscription in Month 1_3G  \\\n",
       "0                                        0   \n",
       "1                                        0   \n",
       "2                                        0   \n",
       "3                                        0   \n",
       "4                                        0   \n",
       "\n",
       "   Network type subscription in Month 1_Other  \\\n",
       "0                                           0   \n",
       "1                                           0   \n",
       "2                                           0   \n",
       "3                                           0   \n",
       "4                                           0   \n",
       "\n",
       "   Network type subscription in Month 2_2G  \\\n",
       "0                                        1   \n",
       "1                                        1   \n",
       "2                                        1   \n",
       "3                                        1   \n",
       "4                                        0   \n",
       "\n",
       "   Network type subscription in Month 2_3G  \\\n",
       "0                                        0   \n",
       "1                                        0   \n",
       "2                                        0   \n",
       "3                                        0   \n",
       "4                                        1   \n",
       "\n",
       "   Network type subscription in Month 2_Other  \\\n",
       "0                                           0   \n",
       "1                                           0   \n",
       "2                                           0   \n",
       "3                                           0   \n",
       "4                                           0   \n",
       "\n",
       "   Total Call centre complaint calls  Total Data Consumption  \\\n",
       "0                                2.0                  1.4951   \n",
       "1                                1.0                  1.0244   \n",
       "2                                1.0                  6.0898   \n",
       "3                                1.0                  3.3447   \n",
       "4                                1.0             118434.7422   \n",
       "\n",
       "   Total Data Spend  Total Offnet spend  Total Onnet spend   Total SMS Spend  \\\n",
       "0              1.25              6408.0               564.0             0.00   \n",
       "1              1.25              4373.0              1626.0             4.14   \n",
       "2              1.25              4174.0              1626.0             3.51   \n",
       "3              1.25              6274.0              1626.0             6.85   \n",
       "4              2.50              7241.0              1626.0             6.99   \n",
       "\n",
       "   Total Spend in Months 1 and 2 of 2017  Total Unique Calls  network_age  \n",
       "0                                76.7140                14.0        123.0  \n",
       "1                                98.8904                27.0       1316.0  \n",
       "2                               372.6300               119.0       2385.0  \n",
       "3                               530.2000                69.0       1614.0  \n",
       "4                               554.1300                33.0       2175.0  "
      ]
     },
     "execution_count": 62,
     "metadata": {},
     "output_type": "execute_result"
    }
   ],
   "source": [
    "process_frame = {}\n",
    "\n",
    "for i in final_frame:\n",
    "    if i != 'Customer ID':\n",
    "        process_frame[i] = final_frame[i]\n",
    "    else: \n",
    "        pass\n",
    "process_frame = pd.DataFrame(process_frame)\n",
    "process_frame.head()"
   ]
  },
  {
   "cell_type": "code",
   "execution_count": 63,
   "metadata": {
    "collapsed": true
   },
   "outputs": [],
   "source": [
    "x = {}\n",
    "\n",
    "for i in process_frame:\n",
    "    if i != 'Churn Status':\n",
    "        x[i] = process_frame[i]\n",
    "    else:\n",
    "        pass\n",
    "x = pd.DataFrame(x)\n",
    "y = process_frame['Churn Status']"
   ]
  },
  {
   "cell_type": "code",
   "execution_count": 64,
   "metadata": {},
   "outputs": [
    {
     "data": {
      "text/plain": [
       "((1399, 18), (1399,))"
      ]
     },
     "execution_count": 64,
     "metadata": {},
     "output_type": "execute_result"
    }
   ],
   "source": [
    "x.shape, y.shape"
   ]
  },
  {
   "cell_type": "code",
   "execution_count": 65,
   "metadata": {
    "collapsed": true
   },
   "outputs": [],
   "source": [
    "x_train, x_test, y_train, y_test = train_test_split(x,y,test_size = 0.30, random_state = 50)"
   ]
  },
  {
   "cell_type": "code",
   "execution_count": 66,
   "metadata": {},
   "outputs": [
    {
     "data": {
      "text/plain": [
       "((979, 18), (420, 18), (979,), (420,))"
      ]
     },
     "execution_count": 66,
     "metadata": {},
     "output_type": "execute_result"
    }
   ],
   "source": [
    "x_train.shape, x_test.shape, y_train.shape, y_test.shape"
   ]
  },
  {
   "cell_type": "code",
   "execution_count": 67,
   "metadata": {
    "collapsed": true
   },
   "outputs": [],
   "source": [
    "x_train_scale = scale.fit_transform(x_train)\n",
    "y_train_scale = scale.fit_transform(y_train)\n",
    "x_test_scale = scale.fit_transform(x_test)\n",
    "y_test_scale = scale.fit_transform(y_test)"
   ]
  },
  {
   "cell_type": "code",
   "execution_count": 68,
   "metadata": {
    "collapsed": true
   },
   "outputs": [],
   "source": [
    "x_train_std = stdScale.fit_transform(x_train)\n",
    "y_train_std = stdScale.fit_transform(y_train)\n",
    "x_test_std = stdScale.fit_transform(x_test)\n",
    "y_test_std = stdScale.fit_transform(y_test)"
   ]
  },
  {
   "cell_type": "code",
   "execution_count": 69,
   "metadata": {},
   "outputs": [
    {
     "name": "stdout",
     "output_type": "stream",
     "text": [
      "Training accuracy:  0.712972420838\n",
      "Test accuracy:  0.67380952381\n"
     ]
    }
   ],
   "source": [
    "lr.fit(x_train_std, y_train)\n",
    "print(\"Training accuracy: \", lr.score(x_train_std, y_train))\n",
    "print(\"Test accuracy: \", lr.score(x_test_std, y_test))"
   ]
  },
  {
   "cell_type": "code",
   "execution_count": 70,
   "metadata": {},
   "outputs": [
    {
     "data": {
      "text/plain": [
       "array([ 0.])"
      ]
     },
     "execution_count": 70,
     "metadata": {},
     "output_type": "execute_result"
    }
   ],
   "source": [
    "lr.intercept_"
   ]
  },
  {
   "cell_type": "code",
   "execution_count": 71,
   "metadata": {},
   "outputs": [
    {
     "data": {
      "text/plain": [
       "array([[ 0.        ,  0.        ,  0.34109592,  0.        ,  0.        ,\n",
       "         0.05464358,  0.        ,  0.        ,  0.00240884, -0.16605379,\n",
       "        -0.07990892,  0.        , -0.01914397, -0.29834352,  0.48835489,\n",
       "        -0.64903756,  0.0281802 ,  0.        ]])"
      ]
     },
     "execution_count": 71,
     "metadata": {},
     "output_type": "execute_result"
    }
   ],
   "source": [
    "lr.coef_"
   ]
  },
  {
   "cell_type": "code",
   "execution_count": 72,
   "metadata": {},
   "outputs": [
    {
     "data": {
      "text/plain": [
       "(420,)"
      ]
     },
     "execution_count": 72,
     "metadata": {},
     "output_type": "execute_result"
    }
   ],
   "source": [
    "x_predict = lr.predict(x_test)\n",
    "x_predict.shape"
   ]
  },
  {
   "cell_type": "code",
   "execution_count": 99,
   "metadata": {
    "collapsed": true
   },
   "outputs": [],
   "source": [
    "from sklearn.ensemble import RandomForestClassifier\n",
    "randfore = RandomForestClassifier()"
   ]
  },
  {
   "cell_type": "code",
   "execution_count": 100,
   "metadata": {},
   "outputs": [
    {
     "data": {
      "text/plain": [
       "{'bootstrap': True,\n",
       " 'class_weight': None,\n",
       " 'criterion': 'gini',\n",
       " 'max_depth': None,\n",
       " 'max_features': 'auto',\n",
       " 'max_leaf_nodes': None,\n",
       " 'min_impurity_split': 1e-07,\n",
       " 'min_samples_leaf': 1,\n",
       " 'min_samples_split': 2,\n",
       " 'min_weight_fraction_leaf': 0.0,\n",
       " 'n_estimators': 10,\n",
       " 'n_jobs': 1,\n",
       " 'oob_score': False,\n",
       " 'random_state': None,\n",
       " 'verbose': 0,\n",
       " 'warm_start': False}"
      ]
     },
     "execution_count": 100,
     "metadata": {},
     "output_type": "execute_result"
    }
   ],
   "source": [
    "randfore.get_params()"
   ]
  },
  {
   "cell_type": "code",
   "execution_count": 146,
   "metadata": {},
   "outputs": [
    {
     "data": {
      "text/plain": [
       "RandomForestClassifier(bootstrap=True, class_weight=None, criterion='gini',\n",
       "            max_depth=None, max_features='auto', max_leaf_nodes=None,\n",
       "            min_impurity_split=1e-07, min_samples_leaf=1,\n",
       "            min_samples_split=2, min_weight_fraction_leaf=0.0,\n",
       "            n_estimators=100, n_jobs=1, oob_score=False, random_state=50,\n",
       "            verbose=0, warm_start=False)"
      ]
     },
     "execution_count": 146,
     "metadata": {},
     "output_type": "execute_result"
    }
   ],
   "source": [
    "forest = RandomForestClassifier(n_estimators = 100, random_state =50)\n",
    "forest.fit(x_train_std, y_train)"
   ]
  },
  {
   "cell_type": "code",
   "execution_count": 147,
   "metadata": {},
   "outputs": [
    {
     "name": "stdout",
     "output_type": "stream",
     "text": [
      "accuracy on training set: 1.000000\n",
      "accuracy on test set: 0.728571 \n"
     ]
    }
   ],
   "source": [
    "print (\"accuracy on training set: %f\" % forest.score(x_train_std, y_train))\n",
    "print (\"accuracy on test set: %f \" % forest.score(x_test_std, y_test))"
   ]
  },
  {
   "cell_type": "code",
   "execution_count": 148,
   "metadata": {},
   "outputs": [
    {
     "data": {
      "text/plain": [
       "(420,)"
      ]
     },
     "execution_count": 148,
     "metadata": {},
     "output_type": "execute_result"
    }
   ],
   "source": [
    "x_predict = lr.predict(x_test_std)\n",
    "x_predict.shape"
   ]
  },
  {
   "cell_type": "code",
   "execution_count": 149,
   "metadata": {},
   "outputs": [
    {
     "data": {
      "text/plain": [
       "0.67380952380952386"
      ]
     },
     "execution_count": 149,
     "metadata": {},
     "output_type": "execute_result"
    }
   ],
   "source": [
    "from sklearn.metrics import accuracy_score\n",
    "accuracy_score(x_predict, y_test)"
   ]
  },
  {
   "cell_type": "code",
   "execution_count": 106,
   "metadata": {
    "collapsed": true
   },
   "outputs": [],
   "source": [
    "from sklearn.cross_validation import cross_val_score"
   ]
  },
  {
   "cell_type": "code",
   "execution_count": 107,
   "metadata": {
    "collapsed": true
   },
   "outputs": [],
   "source": [
    "from sklearn.cross_validation import KFold\n",
    "import numpy as np\n",
    "\n",
    "crossvalidation = KFold(n = x.shape[0], n_folds = 5, shuffle = True, random_state=1)\n",
    "scores = cross_val_score(forest, x,y, scoring = 'mean_squared_error', cv = crossvalidation, n_jobs = 1)"
   ]
  },
  {
   "cell_type": "code",
   "execution_count": 108,
   "metadata": {},
   "outputs": [
    {
     "data": {
      "text/plain": [
       "array([-0.23214286, -0.18928571, -0.225     , -0.28214286, -0.25806452])"
      ]
     },
     "execution_count": 108,
     "metadata": {},
     "output_type": "execute_result"
    }
   ],
   "source": [
    "scores"
   ]
  },
  {
   "cell_type": "code",
   "execution_count": 119,
   "metadata": {
    "collapsed": true
   },
   "outputs": [],
   "source": [
    "check_test = load_test"
   ]
  },
  {
   "cell_type": "code",
   "execution_count": 120,
   "metadata": {
    "collapsed": true
   },
   "outputs": [],
   "source": [
    "# mapping categorical variables load_train['Most Loved Competitor network in in month 2].values_counts()\n",
    "\n",
    "mapped_dict = {'Uxaa':1, 'PQza':2, 'Mango':3, 'ToCall': 4, 'Weematel': 5, 'Zintel':6, '0': 0}\n",
    "check_test['Most Loved Competitor network in in Month 2'] = check_test['Most Loved Competitor network in in Month 2'].map(mapped_dict)\n",
    "check_test['Most Loved Competitor network in in Month 1'] = check_test['Most Loved Competitor network in in Month 1'].map(mapped_dict)"
   ]
  },
  {
   "cell_type": "code",
   "execution_count": 121,
   "metadata": {},
   "outputs": [
    {
     "data": {
      "text/html": [
       "<div>\n",
       "<style>\n",
       "    .dataframe thead tr:only-child th {\n",
       "        text-align: right;\n",
       "    }\n",
       "\n",
       "    .dataframe thead th {\n",
       "        text-align: left;\n",
       "    }\n",
       "\n",
       "    .dataframe tbody tr th {\n",
       "        vertical-align: top;\n",
       "    }\n",
       "</style>\n",
       "<table border=\"1\" class=\"dataframe\">\n",
       "  <thead>\n",
       "    <tr style=\"text-align: right;\">\n",
       "      <th></th>\n",
       "      <th>Network type subscription in Month 1</th>\n",
       "      <th>Network type subscription in Month 2</th>\n",
       "    </tr>\n",
       "  </thead>\n",
       "  <tbody>\n",
       "    <tr>\n",
       "      <th>0</th>\n",
       "      <td>3G</td>\n",
       "      <td>3G</td>\n",
       "    </tr>\n",
       "    <tr>\n",
       "      <th>1</th>\n",
       "      <td>3G</td>\n",
       "      <td>3G</td>\n",
       "    </tr>\n",
       "    <tr>\n",
       "      <th>2</th>\n",
       "      <td>3G</td>\n",
       "      <td>3G</td>\n",
       "    </tr>\n",
       "  </tbody>\n",
       "</table>\n",
       "</div>"
      ],
      "text/plain": [
       "  Network type subscription in Month 1 Network type subscription in Month 2\n",
       "0                                   3G                                   3G\n",
       "1                                   3G                                   3G\n",
       "2                                   3G                                   3G"
      ]
     },
     "execution_count": 121,
     "metadata": {},
     "output_type": "execute_result"
    }
   ],
   "source": [
    "check_test.iloc[:,11:13].head(3)"
   ]
  },
  {
   "cell_type": "code",
   "execution_count": 122,
   "metadata": {
    "collapsed": true
   },
   "outputs": [],
   "source": [
    "re_assign = pd.get_dummies(check_test[['Network type subscription in Month 1', 'Network type subscription in Month 2']])"
   ]
  },
  {
   "cell_type": "code",
   "execution_count": 123,
   "metadata": {},
   "outputs": [
    {
     "data": {
      "text/plain": [
       "Index(['Customer ID', 'network_age', 'Customer tenure in month',\n",
       "       'Total Spend in Months 1 and 2 of 2017', 'Total SMS Spend',\n",
       "       'Total Data Spend', 'Total Data Consumption', 'Total Unique Calls',\n",
       "       'Total Onnet spend ', 'Total Offnet spend',\n",
       "       'Total Call centre complaint calls',\n",
       "       'Network type subscription in Month 1',\n",
       "       'Network type subscription in Month 2',\n",
       "       'Most Loved Competitor network in in Month 1',\n",
       "       'Most Loved Competitor network in in Month 2',\n",
       "       'Network type subscription in Month 1_2G',\n",
       "       'Network type subscription in Month 1_3G',\n",
       "       'Network type subscription in Month 1_Other',\n",
       "       'Network type subscription in Month 2_2G',\n",
       "       'Network type subscription in Month 2_3G',\n",
       "       'Network type subscription in Month 2_Other'],\n",
       "      dtype='object')"
      ]
     },
     "execution_count": 123,
     "metadata": {},
     "output_type": "execute_result"
    }
   ],
   "source": [
    "new_frame = check_test\n",
    "for i in re_assign.keys():\n",
    "    new_frame[i] = re_assign[i]\n",
    "final_frame = pd.DataFrame(new_frame)\n",
    "final_frame.keys()"
   ]
  },
  {
   "cell_type": "code",
   "execution_count": 124,
   "metadata": {
    "collapsed": true
   },
   "outputs": [],
   "source": [
    "final_frame = final_frame.drop(['Network type subscription in Month 1'], axis = 1)\n",
    "final_frame = final_frame.drop(['Network type subscription in Month 2'], axis = 1)"
   ]
  },
  {
   "cell_type": "code",
   "execution_count": 125,
   "metadata": {
    "collapsed": true
   },
   "outputs": [],
   "source": [
    "final_frame['network_age'] = final_frame['network_age'].fillna(np.median(final_frame['network_age']))\n",
    "final_frame['Customer tenure in month'] = final_frame['Customer tenure in month'].fillna(np.median(final_frame['Customer tenure in month']))\n",
    "final_frame['Total Spend in Months 1 and 2 of 2017'] = final_frame['Total Spend in Months 1 and 2 of 2017'].fillna(np.median(final_frame['Total Spend in Months 1 and 2 of 2017']))\n",
    "final_frame['Total SMS Spend'] = final_frame['Total SMS Spend'].fillna(np.median(final_frame['Total SMS Spend']))\n",
    "final_frame['Total Data Spend'] = final_frame['Total Data Spend'].fillna(np.median(final_frame['Total Data Spend']))\n",
    "final_frame['Total Data Consumption'] = final_frame['Total Data Consumption'].fillna(np.median(final_frame['Total Data Consumption']))\n",
    "final_frame['Total Unique Calls'] = final_frame['Total Unique Calls'].fillna(np.median(final_frame['Total Unique Calls']))\n",
    "final_frame['Total Onnet spend '] = final_frame['Total Onnet spend '].fillna(np.median(final_frame['Total Onnet spend ']))\n",
    "final_frame['Total Offnet spend'] = final_frame['Total Offnet spend'].fillna(np.median(final_frame['Total Offnet spend']))\n",
    "final_frame['Total Call centre complaints calls'] = final_frame['Total Call centre complaint calls'].fillna(np.median(final_frame['Total Call centre complaint calls']))"
   ]
  },
  {
   "cell_type": "code",
   "execution_count": 126,
   "metadata": {
    "collapsed": true
   },
   "outputs": [],
   "source": [
    "final_frame['network_age'] = final_frame['network_age'].dropna(axis = 0)"
   ]
  },
  {
   "cell_type": "code",
   "execution_count": 127,
   "metadata": {},
   "outputs": [
    {
     "data": {
      "text/plain": [
       "(600, 20)"
      ]
     },
     "execution_count": 127,
     "metadata": {},
     "output_type": "execute_result"
    }
   ],
   "source": [
    "final_frame = final_frame.dropna(axis = 0)\n",
    "final_frame.shape"
   ]
  },
  {
   "cell_type": "code",
   "execution_count": 128,
   "metadata": {
    "collapsed": true
   },
   "outputs": [],
   "source": [
    "final_frame = final_frame.drop('Total Call centre complaints calls', axis = 1)"
   ]
  },
  {
   "cell_type": "code",
   "execution_count": 129,
   "metadata": {},
   "outputs": [
    {
     "name": "stdout",
     "output_type": "stream",
     "text": [
      "Customer ID False\n",
      "Customer tenure in month False\n",
      "Total SMS Spend False\n",
      "Total Data Consumption False\n",
      "Total Onnet spend  False\n",
      "Total Call centre complaint calls False\n",
      "Most Loved Competitor network in in Month 2 False\n",
      "Network type subscription in Month 1_3G False\n",
      "Network type subscription in Month 2_2G False\n",
      "Network type subscription in Month 2_Other False\n"
     ]
    }
   ],
   "source": [
    "check_list =list(final_frame.keys()) \n",
    "for i in check_list:\n",
    "    check_list.remove(i)\n",
    "    solution = i in check_list\n",
    "    print (i, solution)"
   ]
  },
  {
   "cell_type": "code",
   "execution_count": 130,
   "metadata": {
    "collapsed": true
   },
   "outputs": [],
   "source": [
    "final_frame['network_age'][final_frame['network_age'] > 2700] = final_frame['network_age'].mode()"
   ]
  },
  {
   "cell_type": "code",
   "execution_count": 131,
   "metadata": {
    "collapsed": true
   },
   "outputs": [],
   "source": [
    "final_frame['Customer tenure in month'][final_frame['Customer tenure in month'] > 90] = final_frame['Customer tenure in month'].mode()"
   ]
  },
  {
   "cell_type": "code",
   "execution_count": 132,
   "metadata": {
    "collapsed": true
   },
   "outputs": [],
   "source": [
    "final_frame['Total Spend in Months 1 and 2 of 2017'][final_frame['Total Spend in Months 1 and 2 of 2017'] > 1200] = final_frame['Total Spend in Months 1 and 2 of 2017'].mode()"
   ]
  },
  {
   "cell_type": "code",
   "execution_count": 133,
   "metadata": {
    "collapsed": true
   },
   "outputs": [],
   "source": [
    "final_frame['Total Onnet spend '][final_frame['Total Onnet spend '] > 1000] = final_frame['Total Onnet spend '].median()\n",
    "final_frame['Total Offnet spend'][final_frame['Total Offnet spend'] > 13000] = final_frame['Total Offnet spend'].median()\n",
    "final_frame['Total Call centre complaint calls'][final_frame['Total Call centre complaint calls'] > 2] = final_frame['Total Call centre complaint calls'].median()"
   ]
  },
  {
   "cell_type": "code",
   "execution_count": 134,
   "metadata": {},
   "outputs": [
    {
     "data": {
      "text/html": [
       "<div>\n",
       "<style>\n",
       "    .dataframe thead tr:only-child th {\n",
       "        text-align: right;\n",
       "    }\n",
       "\n",
       "    .dataframe thead th {\n",
       "        text-align: left;\n",
       "    }\n",
       "\n",
       "    .dataframe tbody tr th {\n",
       "        vertical-align: top;\n",
       "    }\n",
       "</style>\n",
       "<table border=\"1\" class=\"dataframe\">\n",
       "  <thead>\n",
       "    <tr style=\"text-align: right;\">\n",
       "      <th></th>\n",
       "      <th>Customer ID</th>\n",
       "      <th>network_age</th>\n",
       "      <th>Customer tenure in month</th>\n",
       "      <th>Total Spend in Months 1 and 2 of 2017</th>\n",
       "      <th>Total SMS Spend</th>\n",
       "      <th>Total Data Spend</th>\n",
       "      <th>Total Data Consumption</th>\n",
       "      <th>Total Unique Calls</th>\n",
       "      <th>Total Onnet spend</th>\n",
       "      <th>Total Offnet spend</th>\n",
       "      <th>Total Call centre complaint calls</th>\n",
       "      <th>Most Loved Competitor network in in Month 1</th>\n",
       "      <th>Most Loved Competitor network in in Month 2</th>\n",
       "      <th>Network type subscription in Month 1_2G</th>\n",
       "      <th>Network type subscription in Month 1_3G</th>\n",
       "      <th>Network type subscription in Month 1_Other</th>\n",
       "      <th>Network type subscription in Month 2_2G</th>\n",
       "      <th>Network type subscription in Month 2_3G</th>\n",
       "      <th>Network type subscription in Month 2_Other</th>\n",
       "    </tr>\n",
       "  </thead>\n",
       "  <tbody>\n",
       "    <tr>\n",
       "      <th>0</th>\n",
       "      <td>ADF0001</td>\n",
       "      <td>1012.0</td>\n",
       "      <td>33.733333</td>\n",
       "      <td>1313.10</td>\n",
       "      <td>14.04</td>\n",
       "      <td>226.3</td>\n",
       "      <td>3.126093e+06</td>\n",
       "      <td>64</td>\n",
       "      <td>2526.5</td>\n",
       "      <td>12402.0</td>\n",
       "      <td>1</td>\n",
       "      <td>5</td>\n",
       "      <td>3</td>\n",
       "      <td>0</td>\n",
       "      <td>1</td>\n",
       "      <td>0</td>\n",
       "      <td>0</td>\n",
       "      <td>1</td>\n",
       "      <td>0</td>\n",
       "    </tr>\n",
       "    <tr>\n",
       "      <th>1</th>\n",
       "      <td>ADF0002</td>\n",
       "      <td>137.0</td>\n",
       "      <td>4.566667</td>\n",
       "      <td>403.45</td>\n",
       "      <td>73.63</td>\n",
       "      <td>5.0</td>\n",
       "      <td>1.628809e+02</td>\n",
       "      <td>515</td>\n",
       "      <td>2526.5</td>\n",
       "      <td>8096.5</td>\n",
       "      <td>1</td>\n",
       "      <td>4</td>\n",
       "      <td>3</td>\n",
       "      <td>0</td>\n",
       "      <td>1</td>\n",
       "      <td>0</td>\n",
       "      <td>0</td>\n",
       "      <td>1</td>\n",
       "      <td>0</td>\n",
       "    </tr>\n",
       "    <tr>\n",
       "      <th>2</th>\n",
       "      <td>ADF0003</td>\n",
       "      <td>202.0</td>\n",
       "      <td>6.733333</td>\n",
       "      <td>403.45</td>\n",
       "      <td>4.36</td>\n",
       "      <td>245.0</td>\n",
       "      <td>3.334607e+06</td>\n",
       "      <td>163</td>\n",
       "      <td>228.0</td>\n",
       "      <td>1495.0</td>\n",
       "      <td>1</td>\n",
       "      <td>4</td>\n",
       "      <td>3</td>\n",
       "      <td>0</td>\n",
       "      <td>1</td>\n",
       "      <td>0</td>\n",
       "      <td>0</td>\n",
       "      <td>1</td>\n",
       "      <td>0</td>\n",
       "    </tr>\n",
       "    <tr>\n",
       "      <th>3</th>\n",
       "      <td>ADF0004</td>\n",
       "      <td>165.0</td>\n",
       "      <td>5.500000</td>\n",
       "      <td>403.45</td>\n",
       "      <td>0.00</td>\n",
       "      <td>12.5</td>\n",
       "      <td>6.682924e+05</td>\n",
       "      <td>484</td>\n",
       "      <td>0.0</td>\n",
       "      <td>8096.5</td>\n",
       "      <td>2</td>\n",
       "      <td>1</td>\n",
       "      <td>3</td>\n",
       "      <td>0</td>\n",
       "      <td>1</td>\n",
       "      <td>0</td>\n",
       "      <td>0</td>\n",
       "      <td>1</td>\n",
       "      <td>0</td>\n",
       "    </tr>\n",
       "    <tr>\n",
       "      <th>4</th>\n",
       "      <td>ADF0005</td>\n",
       "      <td>759.0</td>\n",
       "      <td>25.300000</td>\n",
       "      <td>403.45</td>\n",
       "      <td>69.57</td>\n",
       "      <td>412.5</td>\n",
       "      <td>6.666975e+06</td>\n",
       "      <td>64</td>\n",
       "      <td>2526.5</td>\n",
       "      <td>8096.5</td>\n",
       "      <td>2</td>\n",
       "      <td>3</td>\n",
       "      <td>3</td>\n",
       "      <td>0</td>\n",
       "      <td>1</td>\n",
       "      <td>0</td>\n",
       "      <td>0</td>\n",
       "      <td>1</td>\n",
       "      <td>0</td>\n",
       "    </tr>\n",
       "  </tbody>\n",
       "</table>\n",
       "</div>"
      ],
      "text/plain": [
       "  Customer ID  network_age  Customer tenure in month  \\\n",
       "0     ADF0001       1012.0                 33.733333   \n",
       "1     ADF0002        137.0                  4.566667   \n",
       "2     ADF0003        202.0                  6.733333   \n",
       "3     ADF0004        165.0                  5.500000   \n",
       "4     ADF0005        759.0                 25.300000   \n",
       "\n",
       "   Total Spend in Months 1 and 2 of 2017  Total SMS Spend  Total Data Spend  \\\n",
       "0                                1313.10            14.04             226.3   \n",
       "1                                 403.45            73.63               5.0   \n",
       "2                                 403.45             4.36             245.0   \n",
       "3                                 403.45             0.00              12.5   \n",
       "4                                 403.45            69.57             412.5   \n",
       "\n",
       "   Total Data Consumption  Total Unique Calls  Total Onnet spend   \\\n",
       "0            3.126093e+06                  64              2526.5   \n",
       "1            1.628809e+02                 515              2526.5   \n",
       "2            3.334607e+06                 163               228.0   \n",
       "3            6.682924e+05                 484                 0.0   \n",
       "4            6.666975e+06                  64              2526.5   \n",
       "\n",
       "   Total Offnet spend  Total Call centre complaint calls  \\\n",
       "0             12402.0                                  1   \n",
       "1              8096.5                                  1   \n",
       "2              1495.0                                  1   \n",
       "3              8096.5                                  2   \n",
       "4              8096.5                                  2   \n",
       "\n",
       "   Most Loved Competitor network in in Month 1  \\\n",
       "0                                            5   \n",
       "1                                            4   \n",
       "2                                            4   \n",
       "3                                            1   \n",
       "4                                            3   \n",
       "\n",
       "   Most Loved Competitor network in in Month 2  \\\n",
       "0                                            3   \n",
       "1                                            3   \n",
       "2                                            3   \n",
       "3                                            3   \n",
       "4                                            3   \n",
       "\n",
       "   Network type subscription in Month 1_2G  \\\n",
       "0                                        0   \n",
       "1                                        0   \n",
       "2                                        0   \n",
       "3                                        0   \n",
       "4                                        0   \n",
       "\n",
       "   Network type subscription in Month 1_3G  \\\n",
       "0                                        1   \n",
       "1                                        1   \n",
       "2                                        1   \n",
       "3                                        1   \n",
       "4                                        1   \n",
       "\n",
       "   Network type subscription in Month 1_Other  \\\n",
       "0                                           0   \n",
       "1                                           0   \n",
       "2                                           0   \n",
       "3                                           0   \n",
       "4                                           0   \n",
       "\n",
       "   Network type subscription in Month 2_2G  \\\n",
       "0                                        0   \n",
       "1                                        0   \n",
       "2                                        0   \n",
       "3                                        0   \n",
       "4                                        0   \n",
       "\n",
       "   Network type subscription in Month 2_3G  \\\n",
       "0                                        1   \n",
       "1                                        1   \n",
       "2                                        1   \n",
       "3                                        1   \n",
       "4                                        1   \n",
       "\n",
       "   Network type subscription in Month 2_Other  \n",
       "0                                           0  \n",
       "1                                           0  \n",
       "2                                           0  \n",
       "3                                           0  \n",
       "4                                           0  "
      ]
     },
     "execution_count": 134,
     "metadata": {},
     "output_type": "execute_result"
    }
   ],
   "source": [
    "final_frame.dropna()\n",
    "\n",
    "for i in final_frame.keys():\n",
    "    if i != 'Customer ID':\n",
    "        final_frame[i] = final_frame[i].replace(np.nan,final_frame[i].median())\n",
    "    else:\n",
    "        pass\n",
    "final_frame.head()"
   ]
  },
  {
   "cell_type": "code",
   "execution_count": 135,
   "metadata": {},
   "outputs": [
    {
     "data": {
      "text/html": [
       "<div>\n",
       "<style>\n",
       "    .dataframe thead tr:only-child th {\n",
       "        text-align: right;\n",
       "    }\n",
       "\n",
       "    .dataframe thead th {\n",
       "        text-align: left;\n",
       "    }\n",
       "\n",
       "    .dataframe tbody tr th {\n",
       "        vertical-align: top;\n",
       "    }\n",
       "</style>\n",
       "<table border=\"1\" class=\"dataframe\">\n",
       "  <thead>\n",
       "    <tr style=\"text-align: right;\">\n",
       "      <th></th>\n",
       "      <th>Customer tenure in month</th>\n",
       "      <th>Most Loved Competitor network in in Month 1</th>\n",
       "      <th>Most Loved Competitor network in in Month 2</th>\n",
       "      <th>Network type subscription in Month 1_2G</th>\n",
       "      <th>Network type subscription in Month 1_3G</th>\n",
       "      <th>Network type subscription in Month 1_Other</th>\n",
       "      <th>Network type subscription in Month 2_2G</th>\n",
       "      <th>Network type subscription in Month 2_3G</th>\n",
       "      <th>Network type subscription in Month 2_Other</th>\n",
       "      <th>Total Call centre complaint calls</th>\n",
       "      <th>Total Data Consumption</th>\n",
       "      <th>Total Data Spend</th>\n",
       "      <th>Total Offnet spend</th>\n",
       "      <th>Total Onnet spend</th>\n",
       "      <th>Total SMS Spend</th>\n",
       "      <th>Total Spend in Months 1 and 2 of 2017</th>\n",
       "      <th>Total Unique Calls</th>\n",
       "      <th>network_age</th>\n",
       "    </tr>\n",
       "  </thead>\n",
       "  <tbody>\n",
       "    <tr>\n",
       "      <th>0</th>\n",
       "      <td>33.733333</td>\n",
       "      <td>5</td>\n",
       "      <td>3</td>\n",
       "      <td>0</td>\n",
       "      <td>1</td>\n",
       "      <td>0</td>\n",
       "      <td>0</td>\n",
       "      <td>1</td>\n",
       "      <td>0</td>\n",
       "      <td>1</td>\n",
       "      <td>3.126093e+06</td>\n",
       "      <td>226.3</td>\n",
       "      <td>12402.0</td>\n",
       "      <td>2526.5</td>\n",
       "      <td>14.04</td>\n",
       "      <td>1313.10</td>\n",
       "      <td>64</td>\n",
       "      <td>1012.0</td>\n",
       "    </tr>\n",
       "    <tr>\n",
       "      <th>1</th>\n",
       "      <td>4.566667</td>\n",
       "      <td>4</td>\n",
       "      <td>3</td>\n",
       "      <td>0</td>\n",
       "      <td>1</td>\n",
       "      <td>0</td>\n",
       "      <td>0</td>\n",
       "      <td>1</td>\n",
       "      <td>0</td>\n",
       "      <td>1</td>\n",
       "      <td>1.628809e+02</td>\n",
       "      <td>5.0</td>\n",
       "      <td>8096.5</td>\n",
       "      <td>2526.5</td>\n",
       "      <td>73.63</td>\n",
       "      <td>403.45</td>\n",
       "      <td>515</td>\n",
       "      <td>137.0</td>\n",
       "    </tr>\n",
       "    <tr>\n",
       "      <th>2</th>\n",
       "      <td>6.733333</td>\n",
       "      <td>4</td>\n",
       "      <td>3</td>\n",
       "      <td>0</td>\n",
       "      <td>1</td>\n",
       "      <td>0</td>\n",
       "      <td>0</td>\n",
       "      <td>1</td>\n",
       "      <td>0</td>\n",
       "      <td>1</td>\n",
       "      <td>3.334607e+06</td>\n",
       "      <td>245.0</td>\n",
       "      <td>1495.0</td>\n",
       "      <td>228.0</td>\n",
       "      <td>4.36</td>\n",
       "      <td>403.45</td>\n",
       "      <td>163</td>\n",
       "      <td>202.0</td>\n",
       "    </tr>\n",
       "    <tr>\n",
       "      <th>3</th>\n",
       "      <td>5.500000</td>\n",
       "      <td>1</td>\n",
       "      <td>3</td>\n",
       "      <td>0</td>\n",
       "      <td>1</td>\n",
       "      <td>0</td>\n",
       "      <td>0</td>\n",
       "      <td>1</td>\n",
       "      <td>0</td>\n",
       "      <td>2</td>\n",
       "      <td>6.682924e+05</td>\n",
       "      <td>12.5</td>\n",
       "      <td>8096.5</td>\n",
       "      <td>0.0</td>\n",
       "      <td>0.00</td>\n",
       "      <td>403.45</td>\n",
       "      <td>484</td>\n",
       "      <td>165.0</td>\n",
       "    </tr>\n",
       "    <tr>\n",
       "      <th>4</th>\n",
       "      <td>25.300000</td>\n",
       "      <td>3</td>\n",
       "      <td>3</td>\n",
       "      <td>0</td>\n",
       "      <td>1</td>\n",
       "      <td>0</td>\n",
       "      <td>0</td>\n",
       "      <td>1</td>\n",
       "      <td>0</td>\n",
       "      <td>2</td>\n",
       "      <td>6.666975e+06</td>\n",
       "      <td>412.5</td>\n",
       "      <td>8096.5</td>\n",
       "      <td>2526.5</td>\n",
       "      <td>69.57</td>\n",
       "      <td>403.45</td>\n",
       "      <td>64</td>\n",
       "      <td>759.0</td>\n",
       "    </tr>\n",
       "  </tbody>\n",
       "</table>\n",
       "</div>"
      ],
      "text/plain": [
       "   Customer tenure in month  Most Loved Competitor network in in Month 1  \\\n",
       "0                 33.733333                                            5   \n",
       "1                  4.566667                                            4   \n",
       "2                  6.733333                                            4   \n",
       "3                  5.500000                                            1   \n",
       "4                 25.300000                                            3   \n",
       "\n",
       "   Most Loved Competitor network in in Month 2  \\\n",
       "0                                            3   \n",
       "1                                            3   \n",
       "2                                            3   \n",
       "3                                            3   \n",
       "4                                            3   \n",
       "\n",
       "   Network type subscription in Month 1_2G  \\\n",
       "0                                        0   \n",
       "1                                        0   \n",
       "2                                        0   \n",
       "3                                        0   \n",
       "4                                        0   \n",
       "\n",
       "   Network type subscription in Month 1_3G  \\\n",
       "0                                        1   \n",
       "1                                        1   \n",
       "2                                        1   \n",
       "3                                        1   \n",
       "4                                        1   \n",
       "\n",
       "   Network type subscription in Month 1_Other  \\\n",
       "0                                           0   \n",
       "1                                           0   \n",
       "2                                           0   \n",
       "3                                           0   \n",
       "4                                           0   \n",
       "\n",
       "   Network type subscription in Month 2_2G  \\\n",
       "0                                        0   \n",
       "1                                        0   \n",
       "2                                        0   \n",
       "3                                        0   \n",
       "4                                        0   \n",
       "\n",
       "   Network type subscription in Month 2_3G  \\\n",
       "0                                        1   \n",
       "1                                        1   \n",
       "2                                        1   \n",
       "3                                        1   \n",
       "4                                        1   \n",
       "\n",
       "   Network type subscription in Month 2_Other  \\\n",
       "0                                           0   \n",
       "1                                           0   \n",
       "2                                           0   \n",
       "3                                           0   \n",
       "4                                           0   \n",
       "\n",
       "   Total Call centre complaint calls  Total Data Consumption  \\\n",
       "0                                  1            3.126093e+06   \n",
       "1                                  1            1.628809e+02   \n",
       "2                                  1            3.334607e+06   \n",
       "3                                  2            6.682924e+05   \n",
       "4                                  2            6.666975e+06   \n",
       "\n",
       "   Total Data Spend  Total Offnet spend  Total Onnet spend   Total SMS Spend  \\\n",
       "0             226.3             12402.0              2526.5            14.04   \n",
       "1               5.0              8096.5              2526.5            73.63   \n",
       "2             245.0              1495.0               228.0             4.36   \n",
       "3              12.5              8096.5                 0.0             0.00   \n",
       "4             412.5              8096.5              2526.5            69.57   \n",
       "\n",
       "   Total Spend in Months 1 and 2 of 2017  Total Unique Calls  network_age  \n",
       "0                                1313.10                  64       1012.0  \n",
       "1                                 403.45                 515        137.0  \n",
       "2                                 403.45                 163        202.0  \n",
       "3                                 403.45                 484        165.0  \n",
       "4                                 403.45                  64        759.0  "
      ]
     },
     "execution_count": 135,
     "metadata": {},
     "output_type": "execute_result"
    }
   ],
   "source": [
    "process_frame = {}\n",
    "\n",
    "for i in final_frame:\n",
    "    if i != 'Customer ID':\n",
    "        process_frame[i] = final_frame[i]\n",
    "    else: \n",
    "        pass\n",
    "process_frame = pd.DataFrame(process_frame)\n",
    "process_frame.head()"
   ]
  },
  {
   "cell_type": "code",
   "execution_count": 136,
   "metadata": {},
   "outputs": [
    {
     "data": {
      "text/plain": [
       "(600,)"
      ]
     },
     "execution_count": 136,
     "metadata": {},
     "output_type": "execute_result"
    }
   ],
   "source": [
    "test_predict = lr.predict(process_frame)\n",
    "test_predict.shape"
   ]
  },
  {
   "cell_type": "code",
   "execution_count": 137,
   "metadata": {
    "collapsed": true
   },
   "outputs": [],
   "source": [
    "submit_frame = {}\n",
    "for i in [1]:\n",
    "    submit_frame['Churn Status'] = test_predict\n",
    "    submit_frame['Customer ID'] = final_frame['Customer ID']\n",
    "    \n",
    "submit_frame = pd.DataFrame(submit_frame)"
   ]
  },
  {
   "cell_type": "code",
   "execution_count": 138,
   "metadata": {},
   "outputs": [
    {
     "data": {
      "text/plain": [
       "(600, 2)"
      ]
     },
     "execution_count": 138,
     "metadata": {},
     "output_type": "execute_result"
    }
   ],
   "source": [
    "submit_frame.shape"
   ]
  },
  {
   "cell_type": "code",
   "execution_count": 97,
   "metadata": {
    "collapsed": true
   },
   "outputs": [],
   "source": [
    "submit_frame.to_csv('submission1.csv')"
   ]
  },
  {
   "cell_type": "code",
   "execution_count": 139,
   "metadata": {
    "collapsed": true
   },
   "outputs": [],
   "source": [
    "submit_frame.to_csv(r\"C:\\Users\\ACER\\Desktop\\pyreach\\to pc\\churn prediction\\submission3.csv\")"
   ]
  },
  {
   "cell_type": "code",
   "execution_count": null,
   "metadata": {
    "collapsed": true
   },
   "outputs": [],
   "source": []
  },
  {
   "cell_type": "code",
   "execution_count": null,
   "metadata": {
    "collapsed": true
   },
   "outputs": [],
   "source": []
  }
 ],
 "metadata": {
  "kernelspec": {
   "display_name": "Python 3",
   "language": "python",
   "name": "python3"
  },
  "language_info": {
   "codemirror_mode": {
    "name": "ipython",
    "version": 3
   },
   "file_extension": ".py",
   "mimetype": "text/x-python",
   "name": "python",
   "nbconvert_exporter": "python",
   "pygments_lexer": "ipython3",
   "version": "3.6.1"
  }
 },
 "nbformat": 4,
 "nbformat_minor": 2
}
