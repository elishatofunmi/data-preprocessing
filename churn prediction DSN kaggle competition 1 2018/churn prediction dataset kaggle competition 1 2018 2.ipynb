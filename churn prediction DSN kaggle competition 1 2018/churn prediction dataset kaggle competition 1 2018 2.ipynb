{
 "cells": [
  {
   "cell_type": "code",
   "execution_count": 1,
   "metadata": {
    "collapsed": true
   },
   "outputs": [],
   "source": [
    "import pandas as pd\n",
    "import numpy as np\n",
    "import scipy as sp\n",
    "import matplotlib.pyplot as plt\n",
    "import mglearn as mg\n",
    "import sklearn as sk\n",
    "import seaborn as sns\n",
    "import warnings\n",
    "warnings.filterwarnings(\"ignore\")"
   ]
  },
  {
   "cell_type": "code",
   "execution_count": 2,
   "metadata": {
    "collapsed": true
   },
   "outputs": [],
   "source": [
    "# load test and train data\n",
    "\n",
    "load_test = pd.read_csv(r\"C:\\Users\\ACER\\Desktop\\pyreach\\to pc\\churn prediction\\TEST.csv\")\n",
    "load_train = pd.read_csv(r\"C:\\Users\\ACER\\Desktop\\pyreach\\to pc\\churn prediction\\TRAIN.csv\")"
   ]
  },
  {
   "cell_type": "code",
   "execution_count": 3,
   "metadata": {
    "collapsed": true
   },
   "outputs": [],
   "source": [
    "# mapping categorical variables load_train['Most Loved Competitor network in in month 2].values_counts()\n",
    "\n",
    "mapped_dict = {'Uxaa':1, 'PQza':2, 'Mango':3, 'ToCall': 4, 'Weematel': 5, 'Zintel':6, '0': 0}\n",
    "load_train['Most Loved Competitor network in in Month 2'] = load_train['Most Loved Competitor network in in Month 2'].map(mapped_dict)\n",
    "load_train['Most Loved Competitor network in in Month 1'] = load_train['Most Loved Competitor network in in Month 1'].map(mapped_dict)"
   ]
  },
  {
   "cell_type": "code",
   "execution_count": 4,
   "metadata": {
    "collapsed": true
   },
   "outputs": [],
   "source": [
    "from sklearn.preprocessing import LabelEncoder\n",
    "label = LabelEncoder()"
   ]
  },
  {
   "cell_type": "code",
   "execution_count": 5,
   "metadata": {},
   "outputs": [
    {
     "data": {
      "text/html": [
       "<div>\n",
       "<style>\n",
       "    .dataframe thead tr:only-child th {\n",
       "        text-align: right;\n",
       "    }\n",
       "\n",
       "    .dataframe thead th {\n",
       "        text-align: left;\n",
       "    }\n",
       "\n",
       "    .dataframe tbody tr th {\n",
       "        vertical-align: top;\n",
       "    }\n",
       "</style>\n",
       "<table border=\"1\" class=\"dataframe\">\n",
       "  <thead>\n",
       "    <tr style=\"text-align: right;\">\n",
       "      <th></th>\n",
       "      <th>Network type subscription in Month 1</th>\n",
       "      <th>Network type subscription in Month 2</th>\n",
       "    </tr>\n",
       "  </thead>\n",
       "  <tbody>\n",
       "    <tr>\n",
       "      <th>0</th>\n",
       "      <td>2G</td>\n",
       "      <td>2G</td>\n",
       "    </tr>\n",
       "    <tr>\n",
       "      <th>1</th>\n",
       "      <td>2G</td>\n",
       "      <td>2G</td>\n",
       "    </tr>\n",
       "    <tr>\n",
       "      <th>2</th>\n",
       "      <td>2G</td>\n",
       "      <td>2G</td>\n",
       "    </tr>\n",
       "  </tbody>\n",
       "</table>\n",
       "</div>"
      ],
      "text/plain": [
       "  Network type subscription in Month 1 Network type subscription in Month 2\n",
       "0                                   2G                                   2G\n",
       "1                                   2G                                   2G\n",
       "2                                   2G                                   2G"
      ]
     },
     "execution_count": 5,
     "metadata": {},
     "output_type": "execute_result"
    }
   ],
   "source": [
    "load_train.iloc[:,11:13].head(3)"
   ]
  },
  {
   "cell_type": "code",
   "execution_count": 6,
   "metadata": {
    "collapsed": true
   },
   "outputs": [],
   "source": [
    "re_assign = pd.get_dummies(load_train[['Network type subscription in Month 1', 'Network type subscription in Month 2']])"
   ]
  },
  {
   "cell_type": "code",
   "execution_count": 7,
   "metadata": {},
   "outputs": [
    {
     "data": {
      "text/plain": [
       "Index(['Customer ID', 'network_age', 'Customer tenure in month',\n",
       "       'Total Spend in Months 1 and 2 of 2017', 'Total SMS Spend',\n",
       "       'Total Data Spend', 'Total Data Consumption', 'Total Unique Calls',\n",
       "       'Total Onnet spend ', 'Total Offnet spend',\n",
       "       'Total Call centre complaint calls',\n",
       "       'Network type subscription in Month 1',\n",
       "       'Network type subscription in Month 2',\n",
       "       'Most Loved Competitor network in in Month 1',\n",
       "       'Most Loved Competitor network in in Month 2', 'Churn Status',\n",
       "       'Network type subscription in Month 1_2G',\n",
       "       'Network type subscription in Month 1_3G',\n",
       "       'Network type subscription in Month 1_Other',\n",
       "       'Network type subscription in Month 2_2G',\n",
       "       'Network type subscription in Month 2_3G',\n",
       "       'Network type subscription in Month 2_Other'],\n",
       "      dtype='object')"
      ]
     },
     "execution_count": 7,
     "metadata": {},
     "output_type": "execute_result"
    }
   ],
   "source": [
    "new_frame = load_train\n",
    "for i in re_assign.keys():\n",
    "    new_frame[i] = re_assign[i]\n",
    "final_frame = pd.DataFrame(new_frame)\n",
    "final_frame.keys()"
   ]
  },
  {
   "cell_type": "code",
   "execution_count": 8,
   "metadata": {
    "collapsed": true
   },
   "outputs": [],
   "source": [
    "final_frame = final_frame.drop(['Network type subscription in Month 1'], axis = 1)\n",
    "final_frame = final_frame.drop(['Network type subscription in Month 2'], axis = 1)"
   ]
  },
  {
   "cell_type": "code",
   "execution_count": 9,
   "metadata": {
    "collapsed": true
   },
   "outputs": [],
   "source": [
    "final_frame['network_age'] = final_frame['network_age'].fillna(np.median(final_frame['network_age']))\n",
    "final_frame['Customer tenure in month'] = final_frame['Customer tenure in month'].fillna(np.median(final_frame['Customer tenure in month']))\n",
    "final_frame['Total Spend in Months 1 and 2 of 2017'] = final_frame['Total Spend in Months 1 and 2 of 2017'].fillna(np.median(final_frame['Total Spend in Months 1 and 2 of 2017']))\n",
    "final_frame['Total SMS Spend'] = final_frame['Total SMS Spend'].fillna(np.median(final_frame['Total SMS Spend']))\n",
    "final_frame['Total Data Spend'] = final_frame['Total Data Spend'].fillna(np.median(final_frame['Total Data Spend']))\n",
    "final_frame['Total Data Consumption'] = final_frame['Total Data Consumption'].fillna(np.median(final_frame['Total Data Consumption']))\n",
    "final_frame['Total Unique Calls'] = final_frame['Total Unique Calls'].fillna(np.median(final_frame['Total Unique Calls']))\n",
    "final_frame['Total Onnet spend '] = final_frame['Total Onnet spend '].fillna(np.median(final_frame['Total Onnet spend ']))\n",
    "final_frame['Total Offnet spend'] = final_frame['Total Offnet spend'].fillna(np.median(final_frame['Total Offnet spend']))\n",
    "final_frame['Total Call centre complaints calls'] = final_frame['Total Call centre complaint calls'].fillna(np.median(final_frame['Total Call centre complaint calls']))"
   ]
  },
  {
   "cell_type": "code",
   "execution_count": 10,
   "metadata": {},
   "outputs": [
    {
     "data": {
      "text/plain": [
       "0        123.0\n",
       "1       1316.0\n",
       "2       2385.0\n",
       "3       1614.0\n",
       "4       2175.0\n",
       "5        158.0\n",
       "6        110.0\n",
       "7        558.0\n",
       "8        115.0\n",
       "9       1868.0\n",
       "10      1196.0\n",
       "11       174.0\n",
       "12       122.0\n",
       "13       441.0\n",
       "14      2132.0\n",
       "15       180.0\n",
       "16       114.0\n",
       "17      3496.0\n",
       "18       422.0\n",
       "19      1914.0\n",
       "20      1822.0\n",
       "21       120.0\n",
       "22      2372.0\n",
       "23      3500.0\n",
       "24       121.0\n",
       "25      2417.0\n",
       "26       204.0\n",
       "27      3291.0\n",
       "28       847.0\n",
       "29      1038.0\n",
       "         ...  \n",
       "1370     105.0\n",
       "1371    1587.0\n",
       "1372     107.0\n",
       "1373      99.0\n",
       "1374     974.0\n",
       "1375     108.0\n",
       "1376    2848.0\n",
       "1377    1842.0\n",
       "1378    1268.0\n",
       "1379    1490.0\n",
       "1380     658.0\n",
       "1381    4639.0\n",
       "1382     266.0\n",
       "1383    2630.0\n",
       "1384     103.0\n",
       "1385     116.0\n",
       "1386    1774.0\n",
       "1387    4064.0\n",
       "1388    4149.0\n",
       "1389    1530.0\n",
       "1390    1687.0\n",
       "1391    3853.0\n",
       "1392    1276.0\n",
       "1393    1447.0\n",
       "1394     113.0\n",
       "1395     136.0\n",
       "1396    1795.0\n",
       "1397     203.0\n",
       "1398     109.0\n",
       "1399     904.0\n",
       "Name: network_age, Length: 1400, dtype: float64"
      ]
     },
     "execution_count": 10,
     "metadata": {},
     "output_type": "execute_result"
    }
   ],
   "source": [
    "final_frame['network_age'].dropna(axis = 0)"
   ]
  },
  {
   "cell_type": "code",
   "execution_count": 11,
   "metadata": {},
   "outputs": [
    {
     "data": {
      "text/plain": [
       "(1399, 21)"
      ]
     },
     "execution_count": 11,
     "metadata": {},
     "output_type": "execute_result"
    }
   ],
   "source": [
    "final_frame = final_frame.dropna(axis = 0)\n",
    "final_frame.shape"
   ]
  },
  {
   "cell_type": "code",
   "execution_count": 12,
   "metadata": {},
   "outputs": [
    {
     "name": "stdout",
     "output_type": "stream",
     "text": [
      "Customer ID False\n",
      "Customer tenure in month False\n",
      "Total SMS Spend False\n",
      "Total Data Consumption False\n",
      "Total Onnet spend  False\n",
      "Total Call centre complaint calls False\n",
      "Most Loved Competitor network in in Month 2 False\n",
      "Network type subscription in Month 1_2G False\n",
      "Network type subscription in Month 1_Other False\n",
      "Network type subscription in Month 2_3G False\n",
      "Total Call centre complaints calls False\n"
     ]
    }
   ],
   "source": [
    "check_list =list(final_frame.keys()) \n",
    "for i in check_list:\n",
    "    check_list.remove(i)\n",
    "    solution = i in check_list\n",
    "    print (i, solution)"
   ]
  },
  {
   "cell_type": "code",
   "execution_count": 13,
   "metadata": {},
   "outputs": [
    {
     "data": {
      "text/html": [
       "<div>\n",
       "<style>\n",
       "    .dataframe thead tr:only-child th {\n",
       "        text-align: right;\n",
       "    }\n",
       "\n",
       "    .dataframe thead th {\n",
       "        text-align: left;\n",
       "    }\n",
       "\n",
       "    .dataframe tbody tr th {\n",
       "        vertical-align: top;\n",
       "    }\n",
       "</style>\n",
       "<table border=\"1\" class=\"dataframe\">\n",
       "  <thead>\n",
       "    <tr style=\"text-align: right;\">\n",
       "      <th></th>\n",
       "      <th>network_age</th>\n",
       "      <th>Customer tenure in month</th>\n",
       "      <th>Total Spend in Months 1 and 2 of 2017</th>\n",
       "      <th>Total SMS Spend</th>\n",
       "      <th>Total Data Spend</th>\n",
       "      <th>Total Data Consumption</th>\n",
       "      <th>Total Unique Calls</th>\n",
       "      <th>Total Onnet spend</th>\n",
       "      <th>Total Offnet spend</th>\n",
       "      <th>Total Call centre complaint calls</th>\n",
       "      <th>Most Loved Competitor network in in Month 1</th>\n",
       "      <th>Most Loved Competitor network in in Month 2</th>\n",
       "      <th>Churn Status</th>\n",
       "      <th>Network type subscription in Month 1_2G</th>\n",
       "      <th>Network type subscription in Month 1_3G</th>\n",
       "      <th>Network type subscription in Month 1_Other</th>\n",
       "      <th>Network type subscription in Month 2_2G</th>\n",
       "      <th>Network type subscription in Month 2_3G</th>\n",
       "      <th>Network type subscription in Month 2_Other</th>\n",
       "      <th>Total Call centre complaints calls</th>\n",
       "    </tr>\n",
       "  </thead>\n",
       "  <tbody>\n",
       "    <tr>\n",
       "      <th>count</th>\n",
       "      <td>1399.000000</td>\n",
       "      <td>1399.000000</td>\n",
       "      <td>1399.000000</td>\n",
       "      <td>1399.000000</td>\n",
       "      <td>1399.000000</td>\n",
       "      <td>1.399000e+03</td>\n",
       "      <td>1399.000000</td>\n",
       "      <td>1399.000000</td>\n",
       "      <td>1399.000000</td>\n",
       "      <td>1399.000000</td>\n",
       "      <td>1399.000000</td>\n",
       "      <td>1399.000000</td>\n",
       "      <td>1399.000000</td>\n",
       "      <td>1399.000000</td>\n",
       "      <td>1399.000000</td>\n",
       "      <td>1399.000000</td>\n",
       "      <td>1399.000000</td>\n",
       "      <td>1399.000000</td>\n",
       "      <td>1399.000000</td>\n",
       "      <td>1399.000000</td>\n",
       "    </tr>\n",
       "    <tr>\n",
       "      <th>mean</th>\n",
       "      <td>1450.021444</td>\n",
       "      <td>48.334053</td>\n",
       "      <td>805.873138</td>\n",
       "      <td>30.416011</td>\n",
       "      <td>58.434746</td>\n",
       "      <td>2.163409e+06</td>\n",
       "      <td>202.564689</td>\n",
       "      <td>6819.263045</td>\n",
       "      <td>15741.228735</td>\n",
       "      <td>1.922802</td>\n",
       "      <td>2.881344</td>\n",
       "      <td>1.812009</td>\n",
       "      <td>0.500357</td>\n",
       "      <td>0.216583</td>\n",
       "      <td>0.454610</td>\n",
       "      <td>0.203717</td>\n",
       "      <td>0.202287</td>\n",
       "      <td>0.491065</td>\n",
       "      <td>0.203717</td>\n",
       "      <td>1.922802</td>\n",
       "    </tr>\n",
       "    <tr>\n",
       "      <th>std</th>\n",
       "      <td>1276.258350</td>\n",
       "      <td>42.541876</td>\n",
       "      <td>1252.159721</td>\n",
       "      <td>60.901438</td>\n",
       "      <td>289.711686</td>\n",
       "      <td>6.868290e+06</td>\n",
       "      <td>302.097112</td>\n",
       "      <td>16712.765065</td>\n",
       "      <td>37460.148861</td>\n",
       "      <td>2.346224</td>\n",
       "      <td>1.709249</td>\n",
       "      <td>1.291426</td>\n",
       "      <td>0.500179</td>\n",
       "      <td>0.412064</td>\n",
       "      <td>0.498114</td>\n",
       "      <td>0.402905</td>\n",
       "      <td>0.401849</td>\n",
       "      <td>0.500099</td>\n",
       "      <td>0.402905</td>\n",
       "      <td>2.346224</td>\n",
       "    </tr>\n",
       "    <tr>\n",
       "      <th>min</th>\n",
       "      <td>-5.000000</td>\n",
       "      <td>-0.170000</td>\n",
       "      <td>4.910000</td>\n",
       "      <td>0.000000</td>\n",
       "      <td>0.000000</td>\n",
       "      <td>5.860000e-02</td>\n",
       "      <td>1.000000</td>\n",
       "      <td>0.000000</td>\n",
       "      <td>0.000000</td>\n",
       "      <td>1.000000</td>\n",
       "      <td>0.000000</td>\n",
       "      <td>1.000000</td>\n",
       "      <td>0.000000</td>\n",
       "      <td>0.000000</td>\n",
       "      <td>0.000000</td>\n",
       "      <td>0.000000</td>\n",
       "      <td>0.000000</td>\n",
       "      <td>0.000000</td>\n",
       "      <td>0.000000</td>\n",
       "      <td>1.000000</td>\n",
       "    </tr>\n",
       "    <tr>\n",
       "      <th>25%</th>\n",
       "      <td>286.000000</td>\n",
       "      <td>9.535000</td>\n",
       "      <td>155.507000</td>\n",
       "      <td>2.620000</td>\n",
       "      <td>1.250000</td>\n",
       "      <td>1.375749e+03</td>\n",
       "      <td>18.000000</td>\n",
       "      <td>60.000000</td>\n",
       "      <td>1125.500000</td>\n",
       "      <td>1.000000</td>\n",
       "      <td>1.000000</td>\n",
       "      <td>1.000000</td>\n",
       "      <td>0.000000</td>\n",
       "      <td>0.000000</td>\n",
       "      <td>0.000000</td>\n",
       "      <td>0.000000</td>\n",
       "      <td>0.000000</td>\n",
       "      <td>0.000000</td>\n",
       "      <td>0.000000</td>\n",
       "      <td>1.000000</td>\n",
       "    </tr>\n",
       "    <tr>\n",
       "      <th>50%</th>\n",
       "      <td>1168.000000</td>\n",
       "      <td>38.930000</td>\n",
       "      <td>607.820000</td>\n",
       "      <td>13.720000</td>\n",
       "      <td>11.250000</td>\n",
       "      <td>1.184347e+05</td>\n",
       "      <td>82.000000</td>\n",
       "      <td>1626.000000</td>\n",
       "      <td>4174.000000</td>\n",
       "      <td>1.000000</td>\n",
       "      <td>2.000000</td>\n",
       "      <td>1.000000</td>\n",
       "      <td>1.000000</td>\n",
       "      <td>0.000000</td>\n",
       "      <td>0.000000</td>\n",
       "      <td>0.000000</td>\n",
       "      <td>0.000000</td>\n",
       "      <td>0.000000</td>\n",
       "      <td>0.000000</td>\n",
       "      <td>1.000000</td>\n",
       "    </tr>\n",
       "    <tr>\n",
       "      <th>75%</th>\n",
       "      <td>2239.000000</td>\n",
       "      <td>74.635000</td>\n",
       "      <td>1018.433000</td>\n",
       "      <td>31.210000</td>\n",
       "      <td>42.500000</td>\n",
       "      <td>1.207741e+06</td>\n",
       "      <td>254.500000</td>\n",
       "      <td>7200.500000</td>\n",
       "      <td>13154.000000</td>\n",
       "      <td>2.000000</td>\n",
       "      <td>4.000000</td>\n",
       "      <td>2.000000</td>\n",
       "      <td>1.000000</td>\n",
       "      <td>0.000000</td>\n",
       "      <td>1.000000</td>\n",
       "      <td>0.000000</td>\n",
       "      <td>0.000000</td>\n",
       "      <td>1.000000</td>\n",
       "      <td>0.000000</td>\n",
       "      <td>2.000000</td>\n",
       "    </tr>\n",
       "    <tr>\n",
       "      <th>max</th>\n",
       "      <td>5451.000000</td>\n",
       "      <td>181.700000</td>\n",
       "      <td>24438.830000</td>\n",
       "      <td>873.980000</td>\n",
       "      <td>8295.000000</td>\n",
       "      <td>9.945640e+07</td>\n",
       "      <td>2596.000000</td>\n",
       "      <td>381174.000000</td>\n",
       "      <td>431440.000000</td>\n",
       "      <td>49.000000</td>\n",
       "      <td>6.000000</td>\n",
       "      <td>6.000000</td>\n",
       "      <td>1.000000</td>\n",
       "      <td>1.000000</td>\n",
       "      <td>1.000000</td>\n",
       "      <td>1.000000</td>\n",
       "      <td>1.000000</td>\n",
       "      <td>1.000000</td>\n",
       "      <td>1.000000</td>\n",
       "      <td>49.000000</td>\n",
       "    </tr>\n",
       "  </tbody>\n",
       "</table>\n",
       "</div>"
      ],
      "text/plain": [
       "       network_age  Customer tenure in month  \\\n",
       "count  1399.000000               1399.000000   \n",
       "mean   1450.021444                 48.334053   \n",
       "std    1276.258350                 42.541876   \n",
       "min      -5.000000                 -0.170000   \n",
       "25%     286.000000                  9.535000   \n",
       "50%    1168.000000                 38.930000   \n",
       "75%    2239.000000                 74.635000   \n",
       "max    5451.000000                181.700000   \n",
       "\n",
       "       Total Spend in Months 1 and 2 of 2017  Total SMS Spend  \\\n",
       "count                            1399.000000      1399.000000   \n",
       "mean                              805.873138        30.416011   \n",
       "std                              1252.159721        60.901438   \n",
       "min                                 4.910000         0.000000   \n",
       "25%                               155.507000         2.620000   \n",
       "50%                               607.820000        13.720000   \n",
       "75%                              1018.433000        31.210000   \n",
       "max                             24438.830000       873.980000   \n",
       "\n",
       "       Total Data Spend  Total Data Consumption  Total Unique Calls  \\\n",
       "count       1399.000000            1.399000e+03         1399.000000   \n",
       "mean          58.434746            2.163409e+06          202.564689   \n",
       "std          289.711686            6.868290e+06          302.097112   \n",
       "min            0.000000            5.860000e-02            1.000000   \n",
       "25%            1.250000            1.375749e+03           18.000000   \n",
       "50%           11.250000            1.184347e+05           82.000000   \n",
       "75%           42.500000            1.207741e+06          254.500000   \n",
       "max         8295.000000            9.945640e+07         2596.000000   \n",
       "\n",
       "       Total Onnet spend   Total Offnet spend  \\\n",
       "count         1399.000000         1399.000000   \n",
       "mean          6819.263045        15741.228735   \n",
       "std          16712.765065        37460.148861   \n",
       "min              0.000000            0.000000   \n",
       "25%             60.000000         1125.500000   \n",
       "50%           1626.000000         4174.000000   \n",
       "75%           7200.500000        13154.000000   \n",
       "max         381174.000000       431440.000000   \n",
       "\n",
       "       Total Call centre complaint calls  \\\n",
       "count                        1399.000000   \n",
       "mean                            1.922802   \n",
       "std                             2.346224   \n",
       "min                             1.000000   \n",
       "25%                             1.000000   \n",
       "50%                             1.000000   \n",
       "75%                             2.000000   \n",
       "max                            49.000000   \n",
       "\n",
       "       Most Loved Competitor network in in Month 1  \\\n",
       "count                                  1399.000000   \n",
       "mean                                      2.881344   \n",
       "std                                       1.709249   \n",
       "min                                       0.000000   \n",
       "25%                                       1.000000   \n",
       "50%                                       2.000000   \n",
       "75%                                       4.000000   \n",
       "max                                       6.000000   \n",
       "\n",
       "       Most Loved Competitor network in in Month 2  Churn Status  \\\n",
       "count                                  1399.000000   1399.000000   \n",
       "mean                                      1.812009      0.500357   \n",
       "std                                       1.291426      0.500179   \n",
       "min                                       1.000000      0.000000   \n",
       "25%                                       1.000000      0.000000   \n",
       "50%                                       1.000000      1.000000   \n",
       "75%                                       2.000000      1.000000   \n",
       "max                                       6.000000      1.000000   \n",
       "\n",
       "       Network type subscription in Month 1_2G  \\\n",
       "count                              1399.000000   \n",
       "mean                                  0.216583   \n",
       "std                                   0.412064   \n",
       "min                                   0.000000   \n",
       "25%                                   0.000000   \n",
       "50%                                   0.000000   \n",
       "75%                                   0.000000   \n",
       "max                                   1.000000   \n",
       "\n",
       "       Network type subscription in Month 1_3G  \\\n",
       "count                              1399.000000   \n",
       "mean                                  0.454610   \n",
       "std                                   0.498114   \n",
       "min                                   0.000000   \n",
       "25%                                   0.000000   \n",
       "50%                                   0.000000   \n",
       "75%                                   1.000000   \n",
       "max                                   1.000000   \n",
       "\n",
       "       Network type subscription in Month 1_Other  \\\n",
       "count                                 1399.000000   \n",
       "mean                                     0.203717   \n",
       "std                                      0.402905   \n",
       "min                                      0.000000   \n",
       "25%                                      0.000000   \n",
       "50%                                      0.000000   \n",
       "75%                                      0.000000   \n",
       "max                                      1.000000   \n",
       "\n",
       "       Network type subscription in Month 2_2G  \\\n",
       "count                              1399.000000   \n",
       "mean                                  0.202287   \n",
       "std                                   0.401849   \n",
       "min                                   0.000000   \n",
       "25%                                   0.000000   \n",
       "50%                                   0.000000   \n",
       "75%                                   0.000000   \n",
       "max                                   1.000000   \n",
       "\n",
       "       Network type subscription in Month 2_3G  \\\n",
       "count                              1399.000000   \n",
       "mean                                  0.491065   \n",
       "std                                   0.500099   \n",
       "min                                   0.000000   \n",
       "25%                                   0.000000   \n",
       "50%                                   0.000000   \n",
       "75%                                   1.000000   \n",
       "max                                   1.000000   \n",
       "\n",
       "       Network type subscription in Month 2_Other  \\\n",
       "count                                 1399.000000   \n",
       "mean                                     0.203717   \n",
       "std                                      0.402905   \n",
       "min                                      0.000000   \n",
       "25%                                      0.000000   \n",
       "50%                                      0.000000   \n",
       "75%                                      0.000000   \n",
       "max                                      1.000000   \n",
       "\n",
       "       Total Call centre complaints calls  \n",
       "count                         1399.000000  \n",
       "mean                             1.922802  \n",
       "std                              2.346224  \n",
       "min                              1.000000  \n",
       "25%                              1.000000  \n",
       "50%                              1.000000  \n",
       "75%                              2.000000  \n",
       "max                             49.000000  "
      ]
     },
     "execution_count": 13,
     "metadata": {},
     "output_type": "execute_result"
    }
   ],
   "source": [
    "final_frame.describe()"
   ]
  },
  {
   "cell_type": "code",
   "execution_count": 14,
   "metadata": {
    "collapsed": true
   },
   "outputs": [],
   "source": [
    "final_frame['network_age'][final_frame['network_age'] > 2500] = final_frame['network_age'].median()"
   ]
  },
  {
   "cell_type": "code",
   "execution_count": 15,
   "metadata": {
    "collapsed": true
   },
   "outputs": [],
   "source": [
    "final_frame['Customer tenure in month'][final_frame['Customer tenure in month'] > 80] = final_frame['Customer tenure in month'].median()"
   ]
  },
  {
   "cell_type": "code",
   "execution_count": 16,
   "metadata": {
    "collapsed": true
   },
   "outputs": [],
   "source": [
    "final_frame['Total Spend in Months 1 and 2 of 2017'][final_frame['Total Spend in Months 1 and 2 of 2017'] > 1200] = final_frame['Total Spend in Months 1 and 2 of 2017'].median()"
   ]
  },
  {
   "cell_type": "code",
   "execution_count": 17,
   "metadata": {},
   "outputs": [
    {
     "data": {
      "text/plain": [
       "49.880000000000003"
      ]
     },
     "execution_count": 17,
     "metadata": {},
     "output_type": "execute_result"
    }
   ],
   "source": [
    "final_frame['Total SMS Spend'][final_frame['Total SMS Spend'] > 50] = final_frame['Total SMS Spend'].median()\n",
    "final_frame['Total SMS Spend'].max()"
   ]
  },
  {
   "cell_type": "code",
   "execution_count": 18,
   "metadata": {},
   "outputs": [
    {
     "data": {
      "text/plain": [
       "50.0"
      ]
     },
     "execution_count": 18,
     "metadata": {},
     "output_type": "execute_result"
    }
   ],
   "source": [
    "final_frame['Total Data Spend'][final_frame['Total Data Spend'] > 50] = final_frame['Total Data Spend'].median()\n",
    "final_frame['Total Data Spend'].max()"
   ]
  },
  {
   "cell_type": "code",
   "execution_count": 19,
   "metadata": {
    "collapsed": true
   },
   "outputs": [],
   "source": [
    "final_frame['Total Data Consumption'][final_frame['Total Data Consumption'] >final_frame['Total Data Consumption'].median()] = final_frame['Total Data Consumption'].median()"
   ]
  },
  {
   "cell_type": "code",
   "execution_count": 20,
   "metadata": {
    "collapsed": true
   },
   "outputs": [],
   "source": [
    "final_frame['Total Unique Calls'][final_frame['Total Unique Calls'] > 300] = final_frame['Total Unique Calls'].median()"
   ]
  },
  {
   "cell_type": "code",
   "execution_count": 21,
   "metadata": {
    "collapsed": true
   },
   "outputs": [],
   "source": [
    "final_frame['Total Unique Calls'][final_frame['Total Unique Calls'] > 300] = final_frame['Total Unique Calls'].median()"
   ]
  },
  {
   "cell_type": "code",
   "execution_count": 22,
   "metadata": {
    "collapsed": true
   },
   "outputs": [],
   "source": [
    "final_frame['Total Onnet spend '][final_frame['Total Onnet spend '] > 9000] = final_frame['Total Onnet spend '].median()\n",
    "final_frame['Total Offnet spend'][final_frame['Total Offnet spend'] > 15000] = final_frame['Total Offnet spend'].median()\n",
    "final_frame['Total Call centre complaint calls'][final_frame['Total Call centre complaint calls'] > 2] = final_frame['Total Call centre complaint calls'].median()"
   ]
  },
  {
   "cell_type": "code",
   "execution_count": 23,
   "metadata": {
    "collapsed": true
   },
   "outputs": [],
   "source": [
    "from sklearn.preprocessing import MinMaxScaler\n",
    "scale = MinMaxScaler()\n",
    "from sklearn.preprocessing import StandardScaler\n",
    "stdScale = StandardScaler()"
   ]
  },
  {
   "cell_type": "code",
   "execution_count": 24,
   "metadata": {},
   "outputs": [
    {
     "data": {
      "text/plain": [
       "{'C': 0.1,\n",
       " 'class_weight': None,\n",
       " 'dual': False,\n",
       " 'fit_intercept': True,\n",
       " 'intercept_scaling': 1,\n",
       " 'max_iter': 100,\n",
       " 'multi_class': 'ovr',\n",
       " 'n_jobs': 1,\n",
       " 'penalty': 'l1',\n",
       " 'random_state': 50,\n",
       " 'solver': 'liblinear',\n",
       " 'tol': 0.0001,\n",
       " 'verbose': 0,\n",
       " 'warm_start': False}"
      ]
     },
     "execution_count": 24,
     "metadata": {},
     "output_type": "execute_result"
    }
   ],
   "source": [
    "from sklearn.linear_model import LogisticRegression\n",
    "lr = LogisticRegression(random_state = 50, penalty = 'l1',C = 0.1)\n",
    "lr.get_params()"
   ]
  },
  {
   "cell_type": "code",
   "execution_count": 25,
   "metadata": {
    "collapsed": true
   },
   "outputs": [],
   "source": [
    "from sklearn.cross_validation import train_test_split"
   ]
  },
  {
   "cell_type": "code",
   "execution_count": 26,
   "metadata": {},
   "outputs": [
    {
     "data": {
      "text/html": [
       "<div>\n",
       "<style>\n",
       "    .dataframe thead tr:only-child th {\n",
       "        text-align: right;\n",
       "    }\n",
       "\n",
       "    .dataframe thead th {\n",
       "        text-align: left;\n",
       "    }\n",
       "\n",
       "    .dataframe tbody tr th {\n",
       "        vertical-align: top;\n",
       "    }\n",
       "</style>\n",
       "<table border=\"1\" class=\"dataframe\">\n",
       "  <thead>\n",
       "    <tr style=\"text-align: right;\">\n",
       "      <th></th>\n",
       "      <th>Customer ID</th>\n",
       "      <th>network_age</th>\n",
       "      <th>Customer tenure in month</th>\n",
       "      <th>Total Spend in Months 1 and 2 of 2017</th>\n",
       "      <th>Total SMS Spend</th>\n",
       "      <th>Total Data Spend</th>\n",
       "      <th>Total Data Consumption</th>\n",
       "      <th>Total Unique Calls</th>\n",
       "      <th>Total Onnet spend</th>\n",
       "      <th>Total Offnet spend</th>\n",
       "      <th>...</th>\n",
       "      <th>Most Loved Competitor network in in Month 1</th>\n",
       "      <th>Most Loved Competitor network in in Month 2</th>\n",
       "      <th>Churn Status</th>\n",
       "      <th>Network type subscription in Month 1_2G</th>\n",
       "      <th>Network type subscription in Month 1_3G</th>\n",
       "      <th>Network type subscription in Month 1_Other</th>\n",
       "      <th>Network type subscription in Month 2_2G</th>\n",
       "      <th>Network type subscription in Month 2_3G</th>\n",
       "      <th>Network type subscription in Month 2_Other</th>\n",
       "      <th>Total Call centre complaints calls</th>\n",
       "    </tr>\n",
       "  </thead>\n",
       "  <tbody>\n",
       "    <tr>\n",
       "      <th>0</th>\n",
       "      <td>ADF0039</td>\n",
       "      <td>123.0</td>\n",
       "      <td>4.10</td>\n",
       "      <td>76.7140</td>\n",
       "      <td>0.00</td>\n",
       "      <td>1.25</td>\n",
       "      <td>1.4951</td>\n",
       "      <td>14.0</td>\n",
       "      <td>564.0</td>\n",
       "      <td>6408.0</td>\n",
       "      <td>...</td>\n",
       "      <td>1.0</td>\n",
       "      <td>3.0</td>\n",
       "      <td>0.0</td>\n",
       "      <td>1</td>\n",
       "      <td>0</td>\n",
       "      <td>0</td>\n",
       "      <td>1</td>\n",
       "      <td>0</td>\n",
       "      <td>0</td>\n",
       "      <td>2.0</td>\n",
       "    </tr>\n",
       "    <tr>\n",
       "      <th>1</th>\n",
       "      <td>ADF0041</td>\n",
       "      <td>1316.0</td>\n",
       "      <td>43.87</td>\n",
       "      <td>98.8904</td>\n",
       "      <td>4.14</td>\n",
       "      <td>1.25</td>\n",
       "      <td>1.0244</td>\n",
       "      <td>27.0</td>\n",
       "      <td>1626.0</td>\n",
       "      <td>4373.0</td>\n",
       "      <td>...</td>\n",
       "      <td>1.0</td>\n",
       "      <td>3.0</td>\n",
       "      <td>0.0</td>\n",
       "      <td>1</td>\n",
       "      <td>0</td>\n",
       "      <td>0</td>\n",
       "      <td>1</td>\n",
       "      <td>0</td>\n",
       "      <td>0</td>\n",
       "      <td>1.0</td>\n",
       "    </tr>\n",
       "    <tr>\n",
       "      <th>2</th>\n",
       "      <td>ADF0051</td>\n",
       "      <td>2385.0</td>\n",
       "      <td>79.50</td>\n",
       "      <td>372.6300</td>\n",
       "      <td>3.51</td>\n",
       "      <td>1.25</td>\n",
       "      <td>6.0898</td>\n",
       "      <td>119.0</td>\n",
       "      <td>1626.0</td>\n",
       "      <td>4174.0</td>\n",
       "      <td>...</td>\n",
       "      <td>5.0</td>\n",
       "      <td>3.0</td>\n",
       "      <td>0.0</td>\n",
       "      <td>1</td>\n",
       "      <td>0</td>\n",
       "      <td>0</td>\n",
       "      <td>1</td>\n",
       "      <td>0</td>\n",
       "      <td>0</td>\n",
       "      <td>1.0</td>\n",
       "    </tr>\n",
       "    <tr>\n",
       "      <th>3</th>\n",
       "      <td>ADF0059</td>\n",
       "      <td>1614.0</td>\n",
       "      <td>53.80</td>\n",
       "      <td>530.2000</td>\n",
       "      <td>6.85</td>\n",
       "      <td>1.25</td>\n",
       "      <td>3.3447</td>\n",
       "      <td>69.0</td>\n",
       "      <td>6822.0</td>\n",
       "      <td>6274.0</td>\n",
       "      <td>...</td>\n",
       "      <td>0.0</td>\n",
       "      <td>3.0</td>\n",
       "      <td>0.0</td>\n",
       "      <td>1</td>\n",
       "      <td>0</td>\n",
       "      <td>0</td>\n",
       "      <td>1</td>\n",
       "      <td>0</td>\n",
       "      <td>0</td>\n",
       "      <td>1.0</td>\n",
       "    </tr>\n",
       "    <tr>\n",
       "      <th>4</th>\n",
       "      <td>ADF0060</td>\n",
       "      <td>2175.0</td>\n",
       "      <td>72.50</td>\n",
       "      <td>554.1300</td>\n",
       "      <td>6.99</td>\n",
       "      <td>11.25</td>\n",
       "      <td>118434.7422</td>\n",
       "      <td>33.0</td>\n",
       "      <td>3387.0</td>\n",
       "      <td>7241.0</td>\n",
       "      <td>...</td>\n",
       "      <td>5.0</td>\n",
       "      <td>3.0</td>\n",
       "      <td>0.0</td>\n",
       "      <td>1</td>\n",
       "      <td>0</td>\n",
       "      <td>0</td>\n",
       "      <td>0</td>\n",
       "      <td>1</td>\n",
       "      <td>0</td>\n",
       "      <td>1.0</td>\n",
       "    </tr>\n",
       "  </tbody>\n",
       "</table>\n",
       "<p>5 rows × 21 columns</p>\n",
       "</div>"
      ],
      "text/plain": [
       "  Customer ID  network_age  Customer tenure in month  \\\n",
       "0     ADF0039        123.0                      4.10   \n",
       "1     ADF0041       1316.0                     43.87   \n",
       "2     ADF0051       2385.0                     79.50   \n",
       "3     ADF0059       1614.0                     53.80   \n",
       "4     ADF0060       2175.0                     72.50   \n",
       "\n",
       "   Total Spend in Months 1 and 2 of 2017  Total SMS Spend  Total Data Spend  \\\n",
       "0                                76.7140             0.00              1.25   \n",
       "1                                98.8904             4.14              1.25   \n",
       "2                               372.6300             3.51              1.25   \n",
       "3                               530.2000             6.85              1.25   \n",
       "4                               554.1300             6.99             11.25   \n",
       "\n",
       "   Total Data Consumption  Total Unique Calls  Total Onnet spend   \\\n",
       "0                  1.4951                14.0               564.0   \n",
       "1                  1.0244                27.0              1626.0   \n",
       "2                  6.0898               119.0              1626.0   \n",
       "3                  3.3447                69.0              6822.0   \n",
       "4             118434.7422                33.0              3387.0   \n",
       "\n",
       "   Total Offnet spend                 ...                  \\\n",
       "0              6408.0                 ...                   \n",
       "1              4373.0                 ...                   \n",
       "2              4174.0                 ...                   \n",
       "3              6274.0                 ...                   \n",
       "4              7241.0                 ...                   \n",
       "\n",
       "   Most Loved Competitor network in in Month 1  \\\n",
       "0                                          1.0   \n",
       "1                                          1.0   \n",
       "2                                          5.0   \n",
       "3                                          0.0   \n",
       "4                                          5.0   \n",
       "\n",
       "   Most Loved Competitor network in in Month 2  Churn Status  \\\n",
       "0                                          3.0           0.0   \n",
       "1                                          3.0           0.0   \n",
       "2                                          3.0           0.0   \n",
       "3                                          3.0           0.0   \n",
       "4                                          3.0           0.0   \n",
       "\n",
       "   Network type subscription in Month 1_2G  \\\n",
       "0                                        1   \n",
       "1                                        1   \n",
       "2                                        1   \n",
       "3                                        1   \n",
       "4                                        1   \n",
       "\n",
       "   Network type subscription in Month 1_3G  \\\n",
       "0                                        0   \n",
       "1                                        0   \n",
       "2                                        0   \n",
       "3                                        0   \n",
       "4                                        0   \n",
       "\n",
       "   Network type subscription in Month 1_Other  \\\n",
       "0                                           0   \n",
       "1                                           0   \n",
       "2                                           0   \n",
       "3                                           0   \n",
       "4                                           0   \n",
       "\n",
       "   Network type subscription in Month 2_2G  \\\n",
       "0                                        1   \n",
       "1                                        1   \n",
       "2                                        1   \n",
       "3                                        1   \n",
       "4                                        0   \n",
       "\n",
       "   Network type subscription in Month 2_3G  \\\n",
       "0                                        0   \n",
       "1                                        0   \n",
       "2                                        0   \n",
       "3                                        0   \n",
       "4                                        1   \n",
       "\n",
       "   Network type subscription in Month 2_Other  \\\n",
       "0                                           0   \n",
       "1                                           0   \n",
       "2                                           0   \n",
       "3                                           0   \n",
       "4                                           0   \n",
       "\n",
       "   Total Call centre complaints calls  \n",
       "0                                 2.0  \n",
       "1                                 1.0  \n",
       "2                                 1.0  \n",
       "3                                 1.0  \n",
       "4                                 1.0  \n",
       "\n",
       "[5 rows x 21 columns]"
      ]
     },
     "execution_count": 26,
     "metadata": {},
     "output_type": "execute_result"
    }
   ],
   "source": [
    "final_frame.dropna()\n",
    "\n",
    "for i in final_frame.keys():\n",
    "    if i != 'Customer ID':\n",
    "        final_frame[i] = final_frame[i].replace(np.nan,final_frame[i].median())\n",
    "    else:\n",
    "        pass\n",
    "final_frame.head()"
   ]
  },
  {
   "cell_type": "code",
   "execution_count": 27,
   "metadata": {},
   "outputs": [
    {
     "data": {
      "text/html": [
       "<div>\n",
       "<style>\n",
       "    .dataframe thead tr:only-child th {\n",
       "        text-align: right;\n",
       "    }\n",
       "\n",
       "    .dataframe thead th {\n",
       "        text-align: left;\n",
       "    }\n",
       "\n",
       "    .dataframe tbody tr th {\n",
       "        vertical-align: top;\n",
       "    }\n",
       "</style>\n",
       "<table border=\"1\" class=\"dataframe\">\n",
       "  <thead>\n",
       "    <tr style=\"text-align: right;\">\n",
       "      <th></th>\n",
       "      <th>Churn Status</th>\n",
       "      <th>Customer tenure in month</th>\n",
       "      <th>Most Loved Competitor network in in Month 1</th>\n",
       "      <th>Most Loved Competitor network in in Month 2</th>\n",
       "      <th>Network type subscription in Month 1_2G</th>\n",
       "      <th>Network type subscription in Month 1_3G</th>\n",
       "      <th>Network type subscription in Month 1_Other</th>\n",
       "      <th>Network type subscription in Month 2_2G</th>\n",
       "      <th>Network type subscription in Month 2_3G</th>\n",
       "      <th>Network type subscription in Month 2_Other</th>\n",
       "      <th>Total Call centre complaint calls</th>\n",
       "      <th>Total Call centre complaints calls</th>\n",
       "      <th>Total Data Consumption</th>\n",
       "      <th>Total Data Spend</th>\n",
       "      <th>Total Offnet spend</th>\n",
       "      <th>Total Onnet spend</th>\n",
       "      <th>Total SMS Spend</th>\n",
       "      <th>Total Spend in Months 1 and 2 of 2017</th>\n",
       "      <th>Total Unique Calls</th>\n",
       "      <th>network_age</th>\n",
       "    </tr>\n",
       "  </thead>\n",
       "  <tbody>\n",
       "    <tr>\n",
       "      <th>0</th>\n",
       "      <td>0.0</td>\n",
       "      <td>4.10</td>\n",
       "      <td>1.0</td>\n",
       "      <td>3.0</td>\n",
       "      <td>1</td>\n",
       "      <td>0</td>\n",
       "      <td>0</td>\n",
       "      <td>1</td>\n",
       "      <td>0</td>\n",
       "      <td>0</td>\n",
       "      <td>2.0</td>\n",
       "      <td>2.0</td>\n",
       "      <td>1.4951</td>\n",
       "      <td>1.25</td>\n",
       "      <td>6408.0</td>\n",
       "      <td>564.0</td>\n",
       "      <td>0.00</td>\n",
       "      <td>76.7140</td>\n",
       "      <td>14.0</td>\n",
       "      <td>123.0</td>\n",
       "    </tr>\n",
       "    <tr>\n",
       "      <th>1</th>\n",
       "      <td>0.0</td>\n",
       "      <td>43.87</td>\n",
       "      <td>1.0</td>\n",
       "      <td>3.0</td>\n",
       "      <td>1</td>\n",
       "      <td>0</td>\n",
       "      <td>0</td>\n",
       "      <td>1</td>\n",
       "      <td>0</td>\n",
       "      <td>0</td>\n",
       "      <td>1.0</td>\n",
       "      <td>1.0</td>\n",
       "      <td>1.0244</td>\n",
       "      <td>1.25</td>\n",
       "      <td>4373.0</td>\n",
       "      <td>1626.0</td>\n",
       "      <td>4.14</td>\n",
       "      <td>98.8904</td>\n",
       "      <td>27.0</td>\n",
       "      <td>1316.0</td>\n",
       "    </tr>\n",
       "    <tr>\n",
       "      <th>2</th>\n",
       "      <td>0.0</td>\n",
       "      <td>79.50</td>\n",
       "      <td>5.0</td>\n",
       "      <td>3.0</td>\n",
       "      <td>1</td>\n",
       "      <td>0</td>\n",
       "      <td>0</td>\n",
       "      <td>1</td>\n",
       "      <td>0</td>\n",
       "      <td>0</td>\n",
       "      <td>1.0</td>\n",
       "      <td>1.0</td>\n",
       "      <td>6.0898</td>\n",
       "      <td>1.25</td>\n",
       "      <td>4174.0</td>\n",
       "      <td>1626.0</td>\n",
       "      <td>3.51</td>\n",
       "      <td>372.6300</td>\n",
       "      <td>119.0</td>\n",
       "      <td>2385.0</td>\n",
       "    </tr>\n",
       "    <tr>\n",
       "      <th>3</th>\n",
       "      <td>0.0</td>\n",
       "      <td>53.80</td>\n",
       "      <td>0.0</td>\n",
       "      <td>3.0</td>\n",
       "      <td>1</td>\n",
       "      <td>0</td>\n",
       "      <td>0</td>\n",
       "      <td>1</td>\n",
       "      <td>0</td>\n",
       "      <td>0</td>\n",
       "      <td>1.0</td>\n",
       "      <td>1.0</td>\n",
       "      <td>3.3447</td>\n",
       "      <td>1.25</td>\n",
       "      <td>6274.0</td>\n",
       "      <td>6822.0</td>\n",
       "      <td>6.85</td>\n",
       "      <td>530.2000</td>\n",
       "      <td>69.0</td>\n",
       "      <td>1614.0</td>\n",
       "    </tr>\n",
       "    <tr>\n",
       "      <th>4</th>\n",
       "      <td>0.0</td>\n",
       "      <td>72.50</td>\n",
       "      <td>5.0</td>\n",
       "      <td>3.0</td>\n",
       "      <td>1</td>\n",
       "      <td>0</td>\n",
       "      <td>0</td>\n",
       "      <td>0</td>\n",
       "      <td>1</td>\n",
       "      <td>0</td>\n",
       "      <td>1.0</td>\n",
       "      <td>1.0</td>\n",
       "      <td>118434.7422</td>\n",
       "      <td>11.25</td>\n",
       "      <td>7241.0</td>\n",
       "      <td>3387.0</td>\n",
       "      <td>6.99</td>\n",
       "      <td>554.1300</td>\n",
       "      <td>33.0</td>\n",
       "      <td>2175.0</td>\n",
       "    </tr>\n",
       "  </tbody>\n",
       "</table>\n",
       "</div>"
      ],
      "text/plain": [
       "   Churn Status  Customer tenure in month  \\\n",
       "0           0.0                      4.10   \n",
       "1           0.0                     43.87   \n",
       "2           0.0                     79.50   \n",
       "3           0.0                     53.80   \n",
       "4           0.0                     72.50   \n",
       "\n",
       "   Most Loved Competitor network in in Month 1  \\\n",
       "0                                          1.0   \n",
       "1                                          1.0   \n",
       "2                                          5.0   \n",
       "3                                          0.0   \n",
       "4                                          5.0   \n",
       "\n",
       "   Most Loved Competitor network in in Month 2  \\\n",
       "0                                          3.0   \n",
       "1                                          3.0   \n",
       "2                                          3.0   \n",
       "3                                          3.0   \n",
       "4                                          3.0   \n",
       "\n",
       "   Network type subscription in Month 1_2G  \\\n",
       "0                                        1   \n",
       "1                                        1   \n",
       "2                                        1   \n",
       "3                                        1   \n",
       "4                                        1   \n",
       "\n",
       "   Network type subscription in Month 1_3G  \\\n",
       "0                                        0   \n",
       "1                                        0   \n",
       "2                                        0   \n",
       "3                                        0   \n",
       "4                                        0   \n",
       "\n",
       "   Network type subscription in Month 1_Other  \\\n",
       "0                                           0   \n",
       "1                                           0   \n",
       "2                                           0   \n",
       "3                                           0   \n",
       "4                                           0   \n",
       "\n",
       "   Network type subscription in Month 2_2G  \\\n",
       "0                                        1   \n",
       "1                                        1   \n",
       "2                                        1   \n",
       "3                                        1   \n",
       "4                                        0   \n",
       "\n",
       "   Network type subscription in Month 2_3G  \\\n",
       "0                                        0   \n",
       "1                                        0   \n",
       "2                                        0   \n",
       "3                                        0   \n",
       "4                                        1   \n",
       "\n",
       "   Network type subscription in Month 2_Other  \\\n",
       "0                                           0   \n",
       "1                                           0   \n",
       "2                                           0   \n",
       "3                                           0   \n",
       "4                                           0   \n",
       "\n",
       "   Total Call centre complaint calls  Total Call centre complaints calls  \\\n",
       "0                                2.0                                 2.0   \n",
       "1                                1.0                                 1.0   \n",
       "2                                1.0                                 1.0   \n",
       "3                                1.0                                 1.0   \n",
       "4                                1.0                                 1.0   \n",
       "\n",
       "   Total Data Consumption  Total Data Spend  Total Offnet spend  \\\n",
       "0                  1.4951              1.25              6408.0   \n",
       "1                  1.0244              1.25              4373.0   \n",
       "2                  6.0898              1.25              4174.0   \n",
       "3                  3.3447              1.25              6274.0   \n",
       "4             118434.7422             11.25              7241.0   \n",
       "\n",
       "   Total Onnet spend   Total SMS Spend  Total Spend in Months 1 and 2 of 2017  \\\n",
       "0               564.0             0.00                                76.7140   \n",
       "1              1626.0             4.14                                98.8904   \n",
       "2              1626.0             3.51                               372.6300   \n",
       "3              6822.0             6.85                               530.2000   \n",
       "4              3387.0             6.99                               554.1300   \n",
       "\n",
       "   Total Unique Calls  network_age  \n",
       "0                14.0        123.0  \n",
       "1                27.0       1316.0  \n",
       "2               119.0       2385.0  \n",
       "3                69.0       1614.0  \n",
       "4                33.0       2175.0  "
      ]
     },
     "execution_count": 27,
     "metadata": {},
     "output_type": "execute_result"
    }
   ],
   "source": [
    "process_frame = {}\n",
    "\n",
    "for i in final_frame:\n",
    "    if i != 'Customer ID':\n",
    "        process_frame[i] = final_frame[i]\n",
    "    else: \n",
    "        pass\n",
    "process_frame = pd.DataFrame(process_frame)\n",
    "process_frame.head()"
   ]
  },
  {
   "cell_type": "code",
   "execution_count": 28,
   "metadata": {
    "collapsed": true
   },
   "outputs": [],
   "source": [
    "x = {}\n",
    "\n",
    "for i in process_frame:\n",
    "    if i != 'Churn Status':\n",
    "        x[i] = process_frame[i]\n",
    "    else:\n",
    "        pass\n",
    "x = pd.DataFrame(x)\n",
    "y = process_frame['Churn Status']"
   ]
  },
  {
   "cell_type": "code",
   "execution_count": 29,
   "metadata": {
    "collapsed": true
   },
   "outputs": [],
   "source": [
    "x_train, x_test, y_train, y_test = train_test_split(x,y,test_size = 0.20, random_state = 50)"
   ]
  },
  {
   "cell_type": "code",
   "execution_count": 30,
   "metadata": {
    "collapsed": true
   },
   "outputs": [],
   "source": [
    "x_train_scale = scale.fit_transform(x_train)\n",
    "y_train_scale = scale.fit_transform(y_train)\n",
    "x_test_scale = scale.fit_transform(x_test)\n",
    "y_test_scale = scale.fit_transform(y_test)"
   ]
  },
  {
   "cell_type": "code",
   "execution_count": 31,
   "metadata": {
    "collapsed": true
   },
   "outputs": [],
   "source": [
    "x_train_std = stdScale.fit_transform(x_train)\n",
    "y_train_std = stdScale.fit_transform(y_train)\n",
    "x_test_std = stdScale.fit_transform(x_test)\n",
    "y_test_std = stdScale.fit_transform(y_test)"
   ]
  },
  {
   "cell_type": "code",
   "execution_count": 32,
   "metadata": {},
   "outputs": [
    {
     "name": "stdout",
     "output_type": "stream",
     "text": [
      "Training accuracy:  0.705987488829\n",
      "Test accuracy:  0.653571428571\n"
     ]
    }
   ],
   "source": [
    "lr.fit(x_train_std, y_train)\n",
    "print(\"Training accuracy: \", lr.score(x_train_std, y_train))\n",
    "print(\"Test accuracy: \", lr.score(x_test_std, y_test))"
   ]
  },
  {
   "cell_type": "code",
   "execution_count": 33,
   "metadata": {},
   "outputs": [
    {
     "data": {
      "text/plain": [
       "array([-0.00542147])"
      ]
     },
     "execution_count": 33,
     "metadata": {},
     "output_type": "execute_result"
    }
   ],
   "source": [
    "lr.intercept_"
   ]
  },
  {
   "cell_type": "code",
   "execution_count": 34,
   "metadata": {},
   "outputs": [
    {
     "data": {
      "text/plain": [
       "array([[-0.02232529,  0.        ,  0.279049  ,  0.        ,  0.02345686,\n",
       "         0.03863973,  0.        ,  0.        ,  0.05008987, -0.19817453,\n",
       "         0.        , -0.09943077,  0.        , -0.08087073, -0.32006914,\n",
       "         0.51595899, -0.60580399,  0.02644976,  0.        ]])"
      ]
     },
     "execution_count": 34,
     "metadata": {},
     "output_type": "execute_result"
    }
   ],
   "source": [
    "lr.coef_"
   ]
  },
  {
   "cell_type": "code",
   "execution_count": 35,
   "metadata": {},
   "outputs": [
    {
     "data": {
      "text/plain": [
       "(280,)"
      ]
     },
     "execution_count": 35,
     "metadata": {},
     "output_type": "execute_result"
    }
   ],
   "source": [
    "x_predict = lr.predict(x_test)\n",
    "x_predict.shape"
   ]
  },
  {
   "cell_type": "code",
   "execution_count": 36,
   "metadata": {},
   "outputs": [
    {
     "data": {
      "text/plain": [
       "0.44642857142857145"
      ]
     },
     "execution_count": 36,
     "metadata": {},
     "output_type": "execute_result"
    }
   ],
   "source": [
    "from sklearn.metrics import accuracy_score\n",
    "accuracy_score(x_predict, y_test)"
   ]
  },
  {
   "cell_type": "code",
   "execution_count": 37,
   "metadata": {
    "collapsed": true
   },
   "outputs": [],
   "source": [
    "from sklearn.cross_validation import cross_val_score"
   ]
  },
  {
   "cell_type": "code",
   "execution_count": 38,
   "metadata": {
    "collapsed": true
   },
   "outputs": [],
   "source": [
    "from sklearn.cross_validation import KFold\n",
    "import numpy as np\n",
    "\n",
    "crossvalidation = KFold(n = x.shape[0], n_folds = 5, shuffle = True, random_state=1)\n",
    "scores = cross_val_score(lr, x,y, scoring = 'mean_squared_error', cv = crossvalidation, n_jobs = 1)"
   ]
  },
  {
   "cell_type": "code",
   "execution_count": 39,
   "metadata": {},
   "outputs": [
    {
     "data": {
      "text/plain": [
       "array([-0.28571429, -0.26071429, -0.31428571, -0.31785714, -0.29749104])"
      ]
     },
     "execution_count": 39,
     "metadata": {},
     "output_type": "execute_result"
    }
   ],
   "source": [
    "scores"
   ]
  },
  {
   "cell_type": "code",
   "execution_count": 40,
   "metadata": {
    "collapsed": true
   },
   "outputs": [],
   "source": [
    "from sklearn.neighbors import KNeighborsClassifier\n",
    "knn = KNeighborsClassifier(n_neighbors = 1)"
   ]
  },
  {
   "cell_type": "code",
   "execution_count": 41,
   "metadata": {},
   "outputs": [
    {
     "name": "stdout",
     "output_type": "stream",
     "text": [
      "Training accuracy:  0.999106344951\n",
      "Test accuracy:  0.657142857143\n"
     ]
    }
   ],
   "source": [
    "knn.fit(x_train_std, y_train)\n",
    "print(\"Training accuracy: \", knn.score(x_train_std, y_train))\n",
    "print(\"Test accuracy: \", knn.score(x_test_std, y_test))"
   ]
  },
  {
   "cell_type": "code",
   "execution_count": 42,
   "metadata": {},
   "outputs": [
    {
     "data": {
      "text/plain": [
       "0.44642857142857145"
      ]
     },
     "execution_count": 42,
     "metadata": {},
     "output_type": "execute_result"
    }
   ],
   "source": [
    "test_predict = knn.predict(x_test)\n",
    "\n",
    "from sklearn.metrics import accuracy_score\n",
    "accuracy_score(x_predict, y_test)"
   ]
  },
  {
   "cell_type": "code",
   "execution_count": 43,
   "metadata": {},
   "outputs": [],
   "source": [
    "from sklearn.cross_validation import KFold\n",
    "import numpy as np\n",
    "\n",
    "cross_val_2 = KFold(n = x.shape[0], n_folds = 5, shuffle = True, random_state = 3)\n",
    "scores = cross_val_score(knn, x, y, scoring = \"mean_squared_error\", cv = cross_val_2, n_jobs = 1)"
   ]
  },
  {
   "cell_type": "code",
   "execution_count": 44,
   "metadata": {},
   "outputs": [
    {
     "name": "stdout",
     "output_type": "stream",
     "text": [
      "[-0.38571429 -0.425      -0.38214286 -0.41785714 -0.41577061]\n"
     ]
    }
   ],
   "source": [
    "print (scores)"
   ]
  },
  {
   "cell_type": "code",
   "execution_count": 45,
   "metadata": {},
   "outputs": [
    {
     "name": "stdout",
     "output_type": "stream",
     "text": [
      "[1, 2, 3, 4, 5, 6, 7, 8, 9, 10] [0.99910634495084893, 0.82573726541554959, 0.81590705987488832, 0.78105451295799821, 0.77033065236818588, 0.76586237712243077, 0.76675603217158173, 0.75603217158176939, 0.74262734584450407, 0.75156389633601428] [0.65714285714285714, 0.62142857142857144, 0.65714285714285714, 0.65714285714285714, 0.6607142857142857, 0.63571428571428568, 0.64642857142857146, 0.65000000000000002, 0.67142857142857137, 0.63571428571428568]\n"
     ]
    }
   ],
   "source": [
    "x = []\n",
    "y= []\n",
    "z = [1,2,3,4,5,6,7,8,9,10]\n",
    "\n",
    "for n in z:\n",
    "    knn = KNeighborsClassifier(n_neighbors = n)\n",
    "    knn.fit(x_train_std, y_train)\n",
    "    train_score = knn.score(x_train_std, y_train)\n",
    "    test_score = knn.score(x_test_std, y_test)\n",
    "    x.append(train_score)\n",
    "    y.append(test_score)\n",
    "    \n",
    "    \n",
    "print (z,x,y)    "
   ]
  },
  {
   "cell_type": "code",
   "execution_count": 46,
   "metadata": {
    "collapsed": true
   },
   "outputs": [],
   "source": [
    "from sklearn.svm import LinearSVC\n",
    "lsv = LinearSVC(C = 10, penalty = 'l1',random_state = 50, dual = False)"
   ]
  },
  {
   "cell_type": "code",
   "execution_count": 47,
   "metadata": {},
   "outputs": [
    {
     "data": {
      "text/plain": [
       "{'C': 10,\n",
       " 'class_weight': None,\n",
       " 'dual': False,\n",
       " 'fit_intercept': True,\n",
       " 'intercept_scaling': 1,\n",
       " 'loss': 'squared_hinge',\n",
       " 'max_iter': 1000,\n",
       " 'multi_class': 'ovr',\n",
       " 'penalty': 'l1',\n",
       " 'random_state': 50,\n",
       " 'tol': 0.0001,\n",
       " 'verbose': 0}"
      ]
     },
     "execution_count": 47,
     "metadata": {},
     "output_type": "execute_result"
    }
   ],
   "source": [
    "lsv.get_params()"
   ]
  },
  {
   "cell_type": "code",
   "execution_count": 48,
   "metadata": {},
   "outputs": [
    {
     "name": "stdout",
     "output_type": "stream",
     "text": [
      "Training accuracy:  0.70509383378\n",
      "Test accuracy:  0.675\n"
     ]
    }
   ],
   "source": [
    "lsv.fit(x_train_std, y_train)\n",
    "print(\"Training accuracy: \", lsv.score(x_train_std, y_train))\n",
    "print(\"Test accuracy: \", lsv.score(x_test_std, y_test))"
   ]
  },
  {
   "cell_type": "code",
   "execution_count": 49,
   "metadata": {},
   "outputs": [
    {
     "data": {
      "text/plain": [
       "0.44642857142857145"
      ]
     },
     "execution_count": 49,
     "metadata": {},
     "output_type": "execute_result"
    }
   ],
   "source": [
    "test_predict = lsv.predict(x_test)\n",
    "\n",
    "from sklearn.metrics import accuracy_score\n",
    "accuracy_score(x_predict, y_test)"
   ]
  },
  {
   "cell_type": "code",
   "execution_count": 50,
   "metadata": {},
   "outputs": [
    {
     "name": "stdout",
     "output_type": "stream",
     "text": [
      "[0.0001, 0.001, 0.01, 0.1, 1, 10, 100, 1000] [0.51295799821268995, 0.51295799821268995, 0.69079535299374439, 0.70598748882931184, 0.70598748882931184, 0.70509383378016088, 0.70509383378016088, 0.70509383378016088] [0.44642857142857145, 0.44642857142857145, 0.6428571428571429, 0.68214285714285716, 0.6785714285714286, 0.67500000000000004, 0.67500000000000004, 0.67500000000000004]\n"
     ]
    }
   ],
   "source": [
    "x = [0.0001,0.001,0.01,0.1,1,10,100,1000]\n",
    "y = []\n",
    "z = []\n",
    "for i in x:\n",
    "    lsv = LinearSVC(C = i, penalty = 'l1',random_state = 50, dual = False)\n",
    "    lsv.fit(x_train_std, y_train)\n",
    "    train_score = lsv.score(x_train_std, y_train)\n",
    "    test_score = lsv.score(x_test_std, y_test)\n",
    "    y.append(train_score)\n",
    "    z.append(test_score)\n",
    "    \n",
    "    \n",
    "print (x,y, z)"
   ]
  },
  {
   "cell_type": "code",
   "execution_count": 51,
   "metadata": {
    "collapsed": true
   },
   "outputs": [],
   "source": [
    "from sklearn.tree import DecisionTreeClassifier\n",
    "dtc = DecisionTreeClassifier(max_depth = 5,random_state = 0)"
   ]
  },
  {
   "cell_type": "code",
   "execution_count": 52,
   "metadata": {},
   "outputs": [
    {
     "data": {
      "text/plain": [
       "{'class_weight': None,\n",
       " 'criterion': 'gini',\n",
       " 'max_depth': 5,\n",
       " 'max_features': None,\n",
       " 'max_leaf_nodes': None,\n",
       " 'min_impurity_split': 1e-07,\n",
       " 'min_samples_leaf': 1,\n",
       " 'min_samples_split': 2,\n",
       " 'min_weight_fraction_leaf': 0.0,\n",
       " 'presort': False,\n",
       " 'random_state': 0,\n",
       " 'splitter': 'best'}"
      ]
     },
     "execution_count": 52,
     "metadata": {},
     "output_type": "execute_result"
    }
   ],
   "source": [
    "dtc.get_params()"
   ]
  },
  {
   "cell_type": "code",
   "execution_count": 53,
   "metadata": {},
   "outputs": [
    {
     "data": {
      "text/plain": [
       "DecisionTreeClassifier(class_weight=None, criterion='gini', max_depth=5,\n",
       "            max_features=None, max_leaf_nodes=None,\n",
       "            min_impurity_split=1e-07, min_samples_leaf=1,\n",
       "            min_samples_split=2, min_weight_fraction_leaf=0.0,\n",
       "            presort=False, random_state=0, splitter='best')"
      ]
     },
     "execution_count": 53,
     "metadata": {},
     "output_type": "execute_result"
    }
   ],
   "source": [
    "dtc.fit(x_train_std, y_train)"
   ]
  },
  {
   "cell_type": "code",
   "execution_count": 54,
   "metadata": {
    "collapsed": true
   },
   "outputs": [],
   "source": [
    "from sklearn.model_selection import cross_val_score"
   ]
  },
  {
   "cell_type": "code",
   "execution_count": 55,
   "metadata": {},
   "outputs": [
    {
     "data": {
      "text/plain": [
       "array([ 0.77678571,  0.77232143,  0.80803571,  0.79910714,  0.79372197])"
      ]
     },
     "execution_count": 55,
     "metadata": {},
     "output_type": "execute_result"
    }
   ],
   "source": [
    "cross_val_score(dtc, x_train_std, y_train,cv =5)"
   ]
  },
  {
   "cell_type": "code",
   "execution_count": 56,
   "metadata": {
    "collapsed": true
   },
   "outputs": [],
   "source": [
    "x_test_pred = dtc.predict(x_test)"
   ]
  },
  {
   "cell_type": "code",
   "execution_count": 57,
   "metadata": {},
   "outputs": [
    {
     "data": {
      "text/plain": [
       "0.5535714285714286"
      ]
     },
     "execution_count": 57,
     "metadata": {},
     "output_type": "execute_result"
    }
   ],
   "source": [
    "from sklearn.metrics import accuracy_score\n",
    "accuracy_score(x_test_pred, y_test)"
   ]
  },
  {
   "cell_type": "code",
   "execution_count": 58,
   "metadata": {},
   "outputs": [
    {
     "data": {
      "text/plain": [
       "0.83914209115281502"
      ]
     },
     "execution_count": 58,
     "metadata": {},
     "output_type": "execute_result"
    }
   ],
   "source": [
    "dtc.score(x_train_std,y_train)"
   ]
  },
  {
   "cell_type": "code",
   "execution_count": 59,
   "metadata": {},
   "outputs": [
    {
     "data": {
      "text/plain": [
       "0.65357142857142858"
      ]
     },
     "execution_count": 59,
     "metadata": {},
     "output_type": "execute_result"
    }
   ],
   "source": [
    "dtc.score(x_test_std, y_test)"
   ]
  },
  {
   "cell_type": "code",
   "execution_count": 60,
   "metadata": {},
   "outputs": [
    {
     "name": "stdout",
     "output_type": "stream",
     "text": [
      "0.446428571429\n"
     ]
    }
   ],
   "source": [
    "from sklearn.metrics import mean_squared_error\n",
    "\n",
    "value = mean_squared_error(y_test, x_test_pred)\n",
    "print (value)"
   ]
  },
  {
   "cell_type": "code",
   "execution_count": 61,
   "metadata": {},
   "outputs": [
    {
     "name": "stdout",
     "output_type": "stream",
     "text": [
      "Help on function mean_squared_error in module sklearn.metrics.regression:\n",
      "\n",
      "mean_squared_error(y_true, y_pred, sample_weight=None, multioutput='uniform_average')\n",
      "    Mean squared error regression loss\n",
      "    \n",
      "    Read more in the :ref:`User Guide <mean_squared_error>`.\n",
      "    \n",
      "    Parameters\n",
      "    ----------\n",
      "    y_true : array-like of shape = (n_samples) or (n_samples, n_outputs)\n",
      "        Ground truth (correct) target values.\n",
      "    \n",
      "    y_pred : array-like of shape = (n_samples) or (n_samples, n_outputs)\n",
      "        Estimated target values.\n",
      "    \n",
      "    sample_weight : array-like of shape = (n_samples), optional\n",
      "        Sample weights.\n",
      "    \n",
      "    multioutput : string in ['raw_values', 'uniform_average']\n",
      "        or array-like of shape (n_outputs)\n",
      "        Defines aggregating of multiple output values.\n",
      "        Array-like value defines weights used to average errors.\n",
      "    \n",
      "        'raw_values' :\n",
      "            Returns a full set of errors in case of multioutput input.\n",
      "    \n",
      "        'uniform_average' :\n",
      "            Errors of all outputs are averaged with uniform weight.\n",
      "    \n",
      "    Returns\n",
      "    -------\n",
      "    loss : float or ndarray of floats\n",
      "        A non-negative floating point value (the best value is 0.0), or an\n",
      "        array of floating point values, one for each individual target.\n",
      "    \n",
      "    Examples\n",
      "    --------\n",
      "    >>> from sklearn.metrics import mean_squared_error\n",
      "    >>> y_true = [3, -0.5, 2, 7]\n",
      "    >>> y_pred = [2.5, 0.0, 2, 8]\n",
      "    >>> mean_squared_error(y_true, y_pred)\n",
      "    0.375\n",
      "    >>> y_true = [[0.5, 1],[-1, 1],[7, -6]]\n",
      "    >>> y_pred = [[0, 2],[-1, 2],[8, -5]]\n",
      "    >>> mean_squared_error(y_true, y_pred)  # doctest: +ELLIPSIS\n",
      "    0.708...\n",
      "    >>> mean_squared_error(y_true, y_pred, multioutput='raw_values')\n",
      "    ... # doctest: +ELLIPSIS\n",
      "    array([ 0.416...,  1.        ])\n",
      "    >>> mean_squared_error(y_true, y_pred, multioutput=[0.3, 0.7])\n",
      "    ... # doctest: +ELLIPSIS\n",
      "    0.824...\n",
      "\n"
     ]
    }
   ],
   "source": [
    "help (sk.metrics.mean_squared_error)"
   ]
  },
  {
   "cell_type": "code",
   "execution_count": 62,
   "metadata": {},
   "outputs": [
    {
     "name": "stdout",
     "output_type": "stream",
     "text": [
      "[0, 1, 2, 3, 4, 5, 6, 7, 8, 9] [0.83914209115281502, 0.83914209115281502, 0.83914209115281502, 0.83914209115281502, 0.83914209115281502, 0.83914209115281502, 0.83914209115281502, 0.83914209115281502, 0.83914209115281502, 0.83914209115281502] [0.65357142857142858, 0.65357142857142858, 0.65357142857142858, 0.65357142857142858, 0.65357142857142858, 0.65357142857142858, 0.65357142857142858, 0.65357142857142858, 0.65357142857142858, 0.65357142857142858]\n"
     ]
    }
   ],
   "source": [
    "x = []\n",
    "y = []\n",
    "for i in range(10):\n",
    "    dtb = DecisionTreeClassifier(max_depth = 5,random_state = 0)\n",
    "    dtb.fit(x_train_std, y_train)\n",
    "    train_score = dtb.score(x_train_std,y_train)\n",
    "    test_score = dtb.score(x_test_std, y_test)\n",
    "    x.append(train_score)\n",
    "    y.append(test_score)\n",
    "    \n",
    "print ([0,1,2,3,4,5,6,7,8,9], x ,y)"
   ]
  },
  {
   "cell_type": "code",
   "execution_count": 63,
   "metadata": {},
   "outputs": [
    {
     "name": "stdout",
     "output_type": "stream",
     "text": [
      "[[  0 125]\n",
      " [  0 155]]\n"
     ]
    }
   ],
   "source": [
    "sk.metrics.confusion_matrix\n",
    "from sklearn.metrics import confusion_matrix\n",
    "confusion = confusion_matrix(y_test, x_test_pred)\n",
    "print (confusion)"
   ]
  },
  {
   "cell_type": "code",
   "execution_count": 64,
   "metadata": {},
   "outputs": [
    {
     "data": {
      "text/plain": [
       "{'class_weight': None,\n",
       " 'criterion': 'gini',\n",
       " 'max_depth': 5,\n",
       " 'max_features': None,\n",
       " 'max_leaf_nodes': None,\n",
       " 'min_impurity_split': 1e-07,\n",
       " 'min_samples_leaf': 1,\n",
       " 'min_samples_split': 2,\n",
       " 'min_weight_fraction_leaf': 0.0,\n",
       " 'presort': False,\n",
       " 'random_state': 0,\n",
       " 'splitter': 'best'}"
      ]
     },
     "execution_count": 64,
     "metadata": {},
     "output_type": "execute_result"
    }
   ],
   "source": [
    "from sklearn.ensemble import RandomForestClassifier\n",
    "dtc.get_params()"
   ]
  },
  {
   "cell_type": "code",
   "execution_count": 65,
   "metadata": {},
   "outputs": [],
   "source": [
    "rand = RandomForestClassifier(n_jobs = -1, n_estimators =4, criterion = 'gini',max_depth = 5)"
   ]
  },
  {
   "cell_type": "code",
   "execution_count": 66,
   "metadata": {},
   "outputs": [
    {
     "data": {
      "text/plain": [
       "0.45000000000000001"
      ]
     },
     "execution_count": 66,
     "metadata": {},
     "output_type": "execute_result"
    }
   ],
   "source": [
    "import warnings\n",
    "warnings.filterwarnings('ignore')\n",
    "rand.fit_transform(x_train_std, y_train)\n",
    "predicted = rand.predict(x_test)\n",
    "\n",
    "from sklearn.metrics import accuracy_score\n",
    "accuracy_score(predicted, y_test)"
   ]
  },
  {
   "cell_type": "code",
   "execution_count": 67,
   "metadata": {},
   "outputs": [
    {
     "data": {
      "text/plain": [
       "0.806970509383378"
      ]
     },
     "execution_count": 67,
     "metadata": {},
     "output_type": "execute_result"
    }
   ],
   "source": [
    "rand.score(x_train_std,y_train)"
   ]
  },
  {
   "cell_type": "code",
   "execution_count": 68,
   "metadata": {},
   "outputs": [
    {
     "data": {
      "text/plain": [
       "0.65357142857142858"
      ]
     },
     "execution_count": 68,
     "metadata": {},
     "output_type": "execute_result"
    }
   ],
   "source": [
    "dtc.score(x_test_std, y_test)"
   ]
  },
  {
   "cell_type": "code",
   "execution_count": 83,
   "metadata": {},
   "outputs": [
    {
     "data": {
      "text/plain": [
       "0.99910634495084893"
      ]
     },
     "execution_count": 83,
     "metadata": {},
     "output_type": "execute_result"
    }
   ],
   "source": [
    "from sklearn.ensemble import GradientBoostingClassifier\n",
    "\n",
    "gbrt = GradientBoostingClassifier(random_state = 1, max_depth = 8, learning_rate = 1)\n",
    "gbrt.fit(x_train_std, y_train)\n",
    "\n",
    "gbrt.score(x_train_std, y_train)"
   ]
  },
  {
   "cell_type": "code",
   "execution_count": 84,
   "metadata": {},
   "outputs": [
    {
     "data": {
      "text/plain": [
       "0.68571428571428572"
      ]
     },
     "execution_count": 84,
     "metadata": {},
     "output_type": "execute_result"
    }
   ],
   "source": [
    "gbrt.score(x_test_std,y_test)"
   ]
  },
  {
   "cell_type": "code",
   "execution_count": 85,
   "metadata": {},
   "outputs": [
    {
     "data": {
      "text/plain": [
       "0.45000000000000001"
      ]
     },
     "execution_count": 85,
     "metadata": {},
     "output_type": "execute_result"
    }
   ],
   "source": [
    "predicted_gb = rand.predict(x_test)\n",
    "\n",
    "from sklearn.metrics import accuracy_score\n",
    "accuracy_score(predicted_gb, y_test)"
   ]
  },
  {
   "cell_type": "code",
   "execution_count": 116,
   "metadata": {},
   "outputs": [
    {
     "data": {
      "text/plain": [
       "0.44642857142857145"
      ]
     },
     "execution_count": 116,
     "metadata": {},
     "output_type": "execute_result"
    }
   ],
   "source": [
    "from sklearn.decomposition import PCA\n",
    "pca = PCA(n_components = 19, whiten = True).fit(x_train_std)\n",
    "x_train_pca = pca.transform(x_train_std)\n",
    "x_test_pca = pca.transform(x_test)\n",
    "\n",
    "lr.fit(x_train_pca, y_train)\n",
    "lr.score(x_test_pca, y_test)"
   ]
  },
  {
   "cell_type": "code",
   "execution_count": 117,
   "metadata": {},
   "outputs": [
    {
     "data": {
      "text/plain": [
       "0.45357142857142857"
      ]
     },
     "execution_count": 117,
     "metadata": {},
     "output_type": "execute_result"
    }
   ],
   "source": [
    "dtb.fit(x_train_pca, y_train)\n",
    "dtb.score(x_test_pca, y_test)"
   ]
  },
  {
   "cell_type": "code",
   "execution_count": 121,
   "metadata": {},
   "outputs": [
    {
     "data": {
      "text/plain": [
       "0.44642857142857145"
      ]
     },
     "execution_count": 121,
     "metadata": {},
     "output_type": "execute_result"
    }
   ],
   "source": [
    "dtc.fit(x_train_pca, y_train)\n",
    "dtc.score(x_test_pca, y_test)\n",
    "x_test_pred = dtc.predict(x_test)\n",
    "accuracy_score(predicted, y_test)"
   ]
  },
  {
   "cell_type": "code",
   "execution_count": 124,
   "metadata": {},
   "outputs": [
    {
     "data": {
      "text/plain": [
       "KMeans(algorithm='auto', copy_x=True, init='k-means++', max_iter=300,\n",
       "    n_clusters=2, n_init=10, n_jobs=1, precompute_distances='auto',\n",
       "    random_state=None, tol=0.0001, verbose=0)"
      ]
     },
     "execution_count": 124,
     "metadata": {},
     "output_type": "execute_result"
    }
   ],
   "source": [
    "from sklearn.cluster import KMeans\n",
    "kmeans = KMeans(n_clusters = 2)\n",
    "kmeans.fit(x_train_std)"
   ]
  },
  {
   "cell_type": "code",
   "execution_count": 130,
   "metadata": {},
   "outputs": [
    {
     "data": {
      "text/plain": [
       "array([[ 5.1416973 ,  5.65391644],\n",
       "       [ 3.5436042 ,  5.21277968],\n",
       "       [ 5.25811404,  4.32143812],\n",
       "       ..., \n",
       "       [ 6.37575022,  5.8406998 ],\n",
       "       [ 3.29988868,  4.30513297],\n",
       "       [ 5.43527486,  3.9058981 ]])"
      ]
     },
     "execution_count": 130,
     "metadata": {},
     "output_type": "execute_result"
    }
   ],
   "source": [
    "kmeans.fit_transform(x_train_std, y_train)"
   ]
  },
  {
   "cell_type": "code",
   "execution_count": 131,
   "metadata": {},
   "outputs": [
    {
     "data": {
      "text/plain": [
       "0.46785714285714286"
      ]
     },
     "execution_count": 131,
     "metadata": {},
     "output_type": "execute_result"
    }
   ],
   "source": [
    "predicted = kmeans.predict(x_test)\n",
    "accuracy_score(predicted, y_test)"
   ]
  },
  {
   "cell_type": "markdown",
   "metadata": {},
   "source": [
    "# load test now"
   ]
  },
  {
   "cell_type": "code",
   "execution_count": 87,
   "metadata": {
    "scrolled": true
   },
   "outputs": [
    {
     "data": {
      "text/html": [
       "<div>\n",
       "<style>\n",
       "    .dataframe thead tr:only-child th {\n",
       "        text-align: right;\n",
       "    }\n",
       "\n",
       "    .dataframe thead th {\n",
       "        text-align: left;\n",
       "    }\n",
       "\n",
       "    .dataframe tbody tr th {\n",
       "        vertical-align: top;\n",
       "    }\n",
       "</style>\n",
       "<table border=\"1\" class=\"dataframe\">\n",
       "  <thead>\n",
       "    <tr style=\"text-align: right;\">\n",
       "      <th></th>\n",
       "      <th>Customer ID</th>\n",
       "      <th>network_age</th>\n",
       "      <th>Customer tenure in month</th>\n",
       "      <th>Total Spend in Months 1 and 2 of 2017</th>\n",
       "      <th>Total SMS Spend</th>\n",
       "      <th>Total Data Spend</th>\n",
       "      <th>Total Data Consumption</th>\n",
       "      <th>Total Unique Calls</th>\n",
       "      <th>Total Onnet spend</th>\n",
       "      <th>Total Offnet spend</th>\n",
       "      <th>Total Call centre complaint calls</th>\n",
       "      <th>Network type subscription in Month 1</th>\n",
       "      <th>Network type subscription in Month 2</th>\n",
       "      <th>Most Loved Competitor network in in Month 1</th>\n",
       "      <th>Most Loved Competitor network in in Month 2</th>\n",
       "    </tr>\n",
       "  </thead>\n",
       "  <tbody>\n",
       "    <tr>\n",
       "      <th>0</th>\n",
       "      <td>ADF0001</td>\n",
       "      <td>1012</td>\n",
       "      <td>33.733333</td>\n",
       "      <td>1560.1156</td>\n",
       "      <td>14.04</td>\n",
       "      <td>226.3</td>\n",
       "      <td>3.126093e+06</td>\n",
       "      <td>64</td>\n",
       "      <td>14503</td>\n",
       "      <td>12402</td>\n",
       "      <td>1</td>\n",
       "      <td>3G</td>\n",
       "      <td>3G</td>\n",
       "      <td>Weematel</td>\n",
       "      <td>Mango</td>\n",
       "    </tr>\n",
       "    <tr>\n",
       "      <th>1</th>\n",
       "      <td>ADF0002</td>\n",
       "      <td>137</td>\n",
       "      <td>4.566667</td>\n",
       "      <td>1705.8368</td>\n",
       "      <td>73.63</td>\n",
       "      <td>5.0</td>\n",
       "      <td>1.628809e+02</td>\n",
       "      <td>515</td>\n",
       "      <td>29832</td>\n",
       "      <td>88953</td>\n",
       "      <td>9</td>\n",
       "      <td>3G</td>\n",
       "      <td>3G</td>\n",
       "      <td>ToCall</td>\n",
       "      <td>Mango</td>\n",
       "    </tr>\n",
       "    <tr>\n",
       "      <th>2</th>\n",
       "      <td>ADF0003</td>\n",
       "      <td>202</td>\n",
       "      <td>6.733333</td>\n",
       "      <td>1720.3008</td>\n",
       "      <td>4.36</td>\n",
       "      <td>245.0</td>\n",
       "      <td>3.334607e+06</td>\n",
       "      <td>163</td>\n",
       "      <td>228</td>\n",
       "      <td>1495</td>\n",
       "      <td>1</td>\n",
       "      <td>3G</td>\n",
       "      <td>3G</td>\n",
       "      <td>ToCall</td>\n",
       "      <td>Mango</td>\n",
       "    </tr>\n",
       "    <tr>\n",
       "      <th>3</th>\n",
       "      <td>ADF0004</td>\n",
       "      <td>165</td>\n",
       "      <td>5.500000</td>\n",
       "      <td>1732.2800</td>\n",
       "      <td>0.00</td>\n",
       "      <td>12.5</td>\n",
       "      <td>6.682924e+05</td>\n",
       "      <td>484</td>\n",
       "      <td>0</td>\n",
       "      <td>71928</td>\n",
       "      <td>2</td>\n",
       "      <td>3G</td>\n",
       "      <td>3G</td>\n",
       "      <td>Uxaa</td>\n",
       "      <td>Mango</td>\n",
       "    </tr>\n",
       "    <tr>\n",
       "      <th>4</th>\n",
       "      <td>ADF0005</td>\n",
       "      <td>759</td>\n",
       "      <td>25.300000</td>\n",
       "      <td>1873.0600</td>\n",
       "      <td>69.57</td>\n",
       "      <td>412.5</td>\n",
       "      <td>6.666975e+06</td>\n",
       "      <td>64</td>\n",
       "      <td>7616</td>\n",
       "      <td>20753</td>\n",
       "      <td>2</td>\n",
       "      <td>3G</td>\n",
       "      <td>3G</td>\n",
       "      <td>Mango</td>\n",
       "      <td>Mango</td>\n",
       "    </tr>\n",
       "  </tbody>\n",
       "</table>\n",
       "</div>"
      ],
      "text/plain": [
       "  Customer ID  network_age  Customer tenure in month  \\\n",
       "0     ADF0001         1012                 33.733333   \n",
       "1     ADF0002          137                  4.566667   \n",
       "2     ADF0003          202                  6.733333   \n",
       "3     ADF0004          165                  5.500000   \n",
       "4     ADF0005          759                 25.300000   \n",
       "\n",
       "   Total Spend in Months 1 and 2 of 2017  Total SMS Spend  Total Data Spend  \\\n",
       "0                              1560.1156            14.04             226.3   \n",
       "1                              1705.8368            73.63               5.0   \n",
       "2                              1720.3008             4.36             245.0   \n",
       "3                              1732.2800             0.00              12.5   \n",
       "4                              1873.0600            69.57             412.5   \n",
       "\n",
       "   Total Data Consumption  Total Unique Calls  Total Onnet spend   \\\n",
       "0            3.126093e+06                  64               14503   \n",
       "1            1.628809e+02                 515               29832   \n",
       "2            3.334607e+06                 163                 228   \n",
       "3            6.682924e+05                 484                   0   \n",
       "4            6.666975e+06                  64                7616   \n",
       "\n",
       "   Total Offnet spend  Total Call centre complaint calls  \\\n",
       "0               12402                                  1   \n",
       "1               88953                                  9   \n",
       "2                1495                                  1   \n",
       "3               71928                                  2   \n",
       "4               20753                                  2   \n",
       "\n",
       "  Network type subscription in Month 1 Network type subscription in Month 2  \\\n",
       "0                                   3G                                   3G   \n",
       "1                                   3G                                   3G   \n",
       "2                                   3G                                   3G   \n",
       "3                                   3G                                   3G   \n",
       "4                                   3G                                   3G   \n",
       "\n",
       "  Most Loved Competitor network in in Month 1  \\\n",
       "0                                    Weematel   \n",
       "1                                      ToCall   \n",
       "2                                      ToCall   \n",
       "3                                        Uxaa   \n",
       "4                                       Mango   \n",
       "\n",
       "  Most Loved Competitor network in in Month 2  \n",
       "0                                       Mango  \n",
       "1                                       Mango  \n",
       "2                                       Mango  \n",
       "3                                       Mango  \n",
       "4                                       Mango  "
      ]
     },
     "execution_count": 87,
     "metadata": {},
     "output_type": "execute_result"
    }
   ],
   "source": [
    "check_test = load_test\n",
    "check_test.head()"
   ]
  },
  {
   "cell_type": "code",
   "execution_count": 88,
   "metadata": {},
   "outputs": [
    {
     "data": {
      "text/html": [
       "<div>\n",
       "<style>\n",
       "    .dataframe thead tr:only-child th {\n",
       "        text-align: right;\n",
       "    }\n",
       "\n",
       "    .dataframe thead th {\n",
       "        text-align: left;\n",
       "    }\n",
       "\n",
       "    .dataframe tbody tr th {\n",
       "        vertical-align: top;\n",
       "    }\n",
       "</style>\n",
       "<table border=\"1\" class=\"dataframe\">\n",
       "  <thead>\n",
       "    <tr style=\"text-align: right;\">\n",
       "      <th></th>\n",
       "      <th>Customer ID</th>\n",
       "      <th>network_age</th>\n",
       "      <th>Customer tenure in month</th>\n",
       "      <th>Total Spend in Months 1 and 2 of 2017</th>\n",
       "      <th>Total SMS Spend</th>\n",
       "      <th>Total Data Spend</th>\n",
       "      <th>Total Data Consumption</th>\n",
       "      <th>Total Unique Calls</th>\n",
       "      <th>Total Onnet spend</th>\n",
       "      <th>Total Offnet spend</th>\n",
       "      <th>Total Call centre complaint calls</th>\n",
       "      <th>Network type subscription in Month 1</th>\n",
       "      <th>Network type subscription in Month 2</th>\n",
       "      <th>Most Loved Competitor network in in Month 1</th>\n",
       "      <th>Most Loved Competitor network in in Month 2</th>\n",
       "    </tr>\n",
       "  </thead>\n",
       "  <tbody>\n",
       "    <tr>\n",
       "      <th>0</th>\n",
       "      <td>ADF0001</td>\n",
       "      <td>1012</td>\n",
       "      <td>33.733333</td>\n",
       "      <td>1560.1156</td>\n",
       "      <td>14.04</td>\n",
       "      <td>226.3</td>\n",
       "      <td>3.126093e+06</td>\n",
       "      <td>64</td>\n",
       "      <td>14503</td>\n",
       "      <td>12402</td>\n",
       "      <td>1</td>\n",
       "      <td>3G</td>\n",
       "      <td>3G</td>\n",
       "      <td>5</td>\n",
       "      <td>3</td>\n",
       "    </tr>\n",
       "    <tr>\n",
       "      <th>1</th>\n",
       "      <td>ADF0002</td>\n",
       "      <td>137</td>\n",
       "      <td>4.566667</td>\n",
       "      <td>1705.8368</td>\n",
       "      <td>73.63</td>\n",
       "      <td>5.0</td>\n",
       "      <td>1.628809e+02</td>\n",
       "      <td>515</td>\n",
       "      <td>29832</td>\n",
       "      <td>88953</td>\n",
       "      <td>9</td>\n",
       "      <td>3G</td>\n",
       "      <td>3G</td>\n",
       "      <td>4</td>\n",
       "      <td>3</td>\n",
       "    </tr>\n",
       "    <tr>\n",
       "      <th>2</th>\n",
       "      <td>ADF0003</td>\n",
       "      <td>202</td>\n",
       "      <td>6.733333</td>\n",
       "      <td>1720.3008</td>\n",
       "      <td>4.36</td>\n",
       "      <td>245.0</td>\n",
       "      <td>3.334607e+06</td>\n",
       "      <td>163</td>\n",
       "      <td>228</td>\n",
       "      <td>1495</td>\n",
       "      <td>1</td>\n",
       "      <td>3G</td>\n",
       "      <td>3G</td>\n",
       "      <td>4</td>\n",
       "      <td>3</td>\n",
       "    </tr>\n",
       "    <tr>\n",
       "      <th>3</th>\n",
       "      <td>ADF0004</td>\n",
       "      <td>165</td>\n",
       "      <td>5.500000</td>\n",
       "      <td>1732.2800</td>\n",
       "      <td>0.00</td>\n",
       "      <td>12.5</td>\n",
       "      <td>6.682924e+05</td>\n",
       "      <td>484</td>\n",
       "      <td>0</td>\n",
       "      <td>71928</td>\n",
       "      <td>2</td>\n",
       "      <td>3G</td>\n",
       "      <td>3G</td>\n",
       "      <td>1</td>\n",
       "      <td>3</td>\n",
       "    </tr>\n",
       "    <tr>\n",
       "      <th>4</th>\n",
       "      <td>ADF0005</td>\n",
       "      <td>759</td>\n",
       "      <td>25.300000</td>\n",
       "      <td>1873.0600</td>\n",
       "      <td>69.57</td>\n",
       "      <td>412.5</td>\n",
       "      <td>6.666975e+06</td>\n",
       "      <td>64</td>\n",
       "      <td>7616</td>\n",
       "      <td>20753</td>\n",
       "      <td>2</td>\n",
       "      <td>3G</td>\n",
       "      <td>3G</td>\n",
       "      <td>3</td>\n",
       "      <td>3</td>\n",
       "    </tr>\n",
       "  </tbody>\n",
       "</table>\n",
       "</div>"
      ],
      "text/plain": [
       "  Customer ID  network_age  Customer tenure in month  \\\n",
       "0     ADF0001         1012                 33.733333   \n",
       "1     ADF0002          137                  4.566667   \n",
       "2     ADF0003          202                  6.733333   \n",
       "3     ADF0004          165                  5.500000   \n",
       "4     ADF0005          759                 25.300000   \n",
       "\n",
       "   Total Spend in Months 1 and 2 of 2017  Total SMS Spend  Total Data Spend  \\\n",
       "0                              1560.1156            14.04             226.3   \n",
       "1                              1705.8368            73.63               5.0   \n",
       "2                              1720.3008             4.36             245.0   \n",
       "3                              1732.2800             0.00              12.5   \n",
       "4                              1873.0600            69.57             412.5   \n",
       "\n",
       "   Total Data Consumption  Total Unique Calls  Total Onnet spend   \\\n",
       "0            3.126093e+06                  64               14503   \n",
       "1            1.628809e+02                 515               29832   \n",
       "2            3.334607e+06                 163                 228   \n",
       "3            6.682924e+05                 484                   0   \n",
       "4            6.666975e+06                  64                7616   \n",
       "\n",
       "   Total Offnet spend  Total Call centre complaint calls  \\\n",
       "0               12402                                  1   \n",
       "1               88953                                  9   \n",
       "2                1495                                  1   \n",
       "3               71928                                  2   \n",
       "4               20753                                  2   \n",
       "\n",
       "  Network type subscription in Month 1 Network type subscription in Month 2  \\\n",
       "0                                   3G                                   3G   \n",
       "1                                   3G                                   3G   \n",
       "2                                   3G                                   3G   \n",
       "3                                   3G                                   3G   \n",
       "4                                   3G                                   3G   \n",
       "\n",
       "   Most Loved Competitor network in in Month 1  \\\n",
       "0                                            5   \n",
       "1                                            4   \n",
       "2                                            4   \n",
       "3                                            1   \n",
       "4                                            3   \n",
       "\n",
       "   Most Loved Competitor network in in Month 2  \n",
       "0                                            3  \n",
       "1                                            3  \n",
       "2                                            3  \n",
       "3                                            3  \n",
       "4                                            3  "
      ]
     },
     "execution_count": 88,
     "metadata": {},
     "output_type": "execute_result"
    }
   ],
   "source": [
    "# mapping categorical variables load_train['Most Loved Competitor network in in month 2].values_counts()\n",
    "\n",
    "mapped_dict = {'Uxaa':1, 'PQza':2, 'Mango':3, 'ToCall': 4, 'Weematel': 5, 'Zintel':6, '0': 0}\n",
    "check_test['Most Loved Competitor network in in Month 2'] = check_test['Most Loved Competitor network in in Month 2'].map(mapped_dict)\n",
    "check_test['Most Loved Competitor network in in Month 1'] = check_test['Most Loved Competitor network in in Month 1'].map(mapped_dict)\n",
    "check_test.head()"
   ]
  },
  {
   "cell_type": "code",
   "execution_count": 89,
   "metadata": {
    "collapsed": true
   },
   "outputs": [],
   "source": [
    "re_assign = pd.get_dummies(check_test[['Network type subscription in Month 1', 'Network type subscription in Month 2']])"
   ]
  },
  {
   "cell_type": "code",
   "execution_count": 90,
   "metadata": {},
   "outputs": [
    {
     "data": {
      "text/html": [
       "<div>\n",
       "<style>\n",
       "    .dataframe thead tr:only-child th {\n",
       "        text-align: right;\n",
       "    }\n",
       "\n",
       "    .dataframe thead th {\n",
       "        text-align: left;\n",
       "    }\n",
       "\n",
       "    .dataframe tbody tr th {\n",
       "        vertical-align: top;\n",
       "    }\n",
       "</style>\n",
       "<table border=\"1\" class=\"dataframe\">\n",
       "  <thead>\n",
       "    <tr style=\"text-align: right;\">\n",
       "      <th></th>\n",
       "      <th>Customer ID</th>\n",
       "      <th>network_age</th>\n",
       "      <th>Customer tenure in month</th>\n",
       "      <th>Total Spend in Months 1 and 2 of 2017</th>\n",
       "      <th>Total SMS Spend</th>\n",
       "      <th>Total Data Spend</th>\n",
       "      <th>Total Data Consumption</th>\n",
       "      <th>Total Unique Calls</th>\n",
       "      <th>Total Onnet spend</th>\n",
       "      <th>Total Offnet spend</th>\n",
       "      <th>...</th>\n",
       "      <th>Network type subscription in Month 1</th>\n",
       "      <th>Network type subscription in Month 2</th>\n",
       "      <th>Most Loved Competitor network in in Month 1</th>\n",
       "      <th>Most Loved Competitor network in in Month 2</th>\n",
       "      <th>Network type subscription in Month 1_2G</th>\n",
       "      <th>Network type subscription in Month 1_3G</th>\n",
       "      <th>Network type subscription in Month 1_Other</th>\n",
       "      <th>Network type subscription in Month 2_2G</th>\n",
       "      <th>Network type subscription in Month 2_3G</th>\n",
       "      <th>Network type subscription in Month 2_Other</th>\n",
       "    </tr>\n",
       "  </thead>\n",
       "  <tbody>\n",
       "    <tr>\n",
       "      <th>0</th>\n",
       "      <td>ADF0001</td>\n",
       "      <td>1012</td>\n",
       "      <td>33.733333</td>\n",
       "      <td>1560.1156</td>\n",
       "      <td>14.04</td>\n",
       "      <td>226.3</td>\n",
       "      <td>3.126093e+06</td>\n",
       "      <td>64</td>\n",
       "      <td>14503</td>\n",
       "      <td>12402</td>\n",
       "      <td>...</td>\n",
       "      <td>3G</td>\n",
       "      <td>3G</td>\n",
       "      <td>5</td>\n",
       "      <td>3</td>\n",
       "      <td>0</td>\n",
       "      <td>1</td>\n",
       "      <td>0</td>\n",
       "      <td>0</td>\n",
       "      <td>1</td>\n",
       "      <td>0</td>\n",
       "    </tr>\n",
       "    <tr>\n",
       "      <th>1</th>\n",
       "      <td>ADF0002</td>\n",
       "      <td>137</td>\n",
       "      <td>4.566667</td>\n",
       "      <td>1705.8368</td>\n",
       "      <td>73.63</td>\n",
       "      <td>5.0</td>\n",
       "      <td>1.628809e+02</td>\n",
       "      <td>515</td>\n",
       "      <td>29832</td>\n",
       "      <td>88953</td>\n",
       "      <td>...</td>\n",
       "      <td>3G</td>\n",
       "      <td>3G</td>\n",
       "      <td>4</td>\n",
       "      <td>3</td>\n",
       "      <td>0</td>\n",
       "      <td>1</td>\n",
       "      <td>0</td>\n",
       "      <td>0</td>\n",
       "      <td>1</td>\n",
       "      <td>0</td>\n",
       "    </tr>\n",
       "    <tr>\n",
       "      <th>2</th>\n",
       "      <td>ADF0003</td>\n",
       "      <td>202</td>\n",
       "      <td>6.733333</td>\n",
       "      <td>1720.3008</td>\n",
       "      <td>4.36</td>\n",
       "      <td>245.0</td>\n",
       "      <td>3.334607e+06</td>\n",
       "      <td>163</td>\n",
       "      <td>228</td>\n",
       "      <td>1495</td>\n",
       "      <td>...</td>\n",
       "      <td>3G</td>\n",
       "      <td>3G</td>\n",
       "      <td>4</td>\n",
       "      <td>3</td>\n",
       "      <td>0</td>\n",
       "      <td>1</td>\n",
       "      <td>0</td>\n",
       "      <td>0</td>\n",
       "      <td>1</td>\n",
       "      <td>0</td>\n",
       "    </tr>\n",
       "    <tr>\n",
       "      <th>3</th>\n",
       "      <td>ADF0004</td>\n",
       "      <td>165</td>\n",
       "      <td>5.500000</td>\n",
       "      <td>1732.2800</td>\n",
       "      <td>0.00</td>\n",
       "      <td>12.5</td>\n",
       "      <td>6.682924e+05</td>\n",
       "      <td>484</td>\n",
       "      <td>0</td>\n",
       "      <td>71928</td>\n",
       "      <td>...</td>\n",
       "      <td>3G</td>\n",
       "      <td>3G</td>\n",
       "      <td>1</td>\n",
       "      <td>3</td>\n",
       "      <td>0</td>\n",
       "      <td>1</td>\n",
       "      <td>0</td>\n",
       "      <td>0</td>\n",
       "      <td>1</td>\n",
       "      <td>0</td>\n",
       "    </tr>\n",
       "    <tr>\n",
       "      <th>4</th>\n",
       "      <td>ADF0005</td>\n",
       "      <td>759</td>\n",
       "      <td>25.300000</td>\n",
       "      <td>1873.0600</td>\n",
       "      <td>69.57</td>\n",
       "      <td>412.5</td>\n",
       "      <td>6.666975e+06</td>\n",
       "      <td>64</td>\n",
       "      <td>7616</td>\n",
       "      <td>20753</td>\n",
       "      <td>...</td>\n",
       "      <td>3G</td>\n",
       "      <td>3G</td>\n",
       "      <td>3</td>\n",
       "      <td>3</td>\n",
       "      <td>0</td>\n",
       "      <td>1</td>\n",
       "      <td>0</td>\n",
       "      <td>0</td>\n",
       "      <td>1</td>\n",
       "      <td>0</td>\n",
       "    </tr>\n",
       "  </tbody>\n",
       "</table>\n",
       "<p>5 rows × 21 columns</p>\n",
       "</div>"
      ],
      "text/plain": [
       "  Customer ID  network_age  Customer tenure in month  \\\n",
       "0     ADF0001         1012                 33.733333   \n",
       "1     ADF0002          137                  4.566667   \n",
       "2     ADF0003          202                  6.733333   \n",
       "3     ADF0004          165                  5.500000   \n",
       "4     ADF0005          759                 25.300000   \n",
       "\n",
       "   Total Spend in Months 1 and 2 of 2017  Total SMS Spend  Total Data Spend  \\\n",
       "0                              1560.1156            14.04             226.3   \n",
       "1                              1705.8368            73.63               5.0   \n",
       "2                              1720.3008             4.36             245.0   \n",
       "3                              1732.2800             0.00              12.5   \n",
       "4                              1873.0600            69.57             412.5   \n",
       "\n",
       "   Total Data Consumption  Total Unique Calls  Total Onnet spend   \\\n",
       "0            3.126093e+06                  64               14503   \n",
       "1            1.628809e+02                 515               29832   \n",
       "2            3.334607e+06                 163                 228   \n",
       "3            6.682924e+05                 484                   0   \n",
       "4            6.666975e+06                  64                7616   \n",
       "\n",
       "   Total Offnet spend                     ...                      \\\n",
       "0               12402                     ...                       \n",
       "1               88953                     ...                       \n",
       "2                1495                     ...                       \n",
       "3               71928                     ...                       \n",
       "4               20753                     ...                       \n",
       "\n",
       "   Network type subscription in Month 1 Network type subscription in Month 2  \\\n",
       "0                                    3G                                   3G   \n",
       "1                                    3G                                   3G   \n",
       "2                                    3G                                   3G   \n",
       "3                                    3G                                   3G   \n",
       "4                                    3G                                   3G   \n",
       "\n",
       "  Most Loved Competitor network in in Month 1  \\\n",
       "0                                           5   \n",
       "1                                           4   \n",
       "2                                           4   \n",
       "3                                           1   \n",
       "4                                           3   \n",
       "\n",
       "   Most Loved Competitor network in in Month 2  \\\n",
       "0                                            3   \n",
       "1                                            3   \n",
       "2                                            3   \n",
       "3                                            3   \n",
       "4                                            3   \n",
       "\n",
       "   Network type subscription in Month 1_2G  \\\n",
       "0                                        0   \n",
       "1                                        0   \n",
       "2                                        0   \n",
       "3                                        0   \n",
       "4                                        0   \n",
       "\n",
       "   Network type subscription in Month 1_3G  \\\n",
       "0                                        1   \n",
       "1                                        1   \n",
       "2                                        1   \n",
       "3                                        1   \n",
       "4                                        1   \n",
       "\n",
       "   Network type subscription in Month 1_Other  \\\n",
       "0                                           0   \n",
       "1                                           0   \n",
       "2                                           0   \n",
       "3                                           0   \n",
       "4                                           0   \n",
       "\n",
       "   Network type subscription in Month 2_2G  \\\n",
       "0                                        0   \n",
       "1                                        0   \n",
       "2                                        0   \n",
       "3                                        0   \n",
       "4                                        0   \n",
       "\n",
       "   Network type subscription in Month 2_3G  \\\n",
       "0                                        1   \n",
       "1                                        1   \n",
       "2                                        1   \n",
       "3                                        1   \n",
       "4                                        1   \n",
       "\n",
       "   Network type subscription in Month 2_Other  \n",
       "0                                           0  \n",
       "1                                           0  \n",
       "2                                           0  \n",
       "3                                           0  \n",
       "4                                           0  \n",
       "\n",
       "[5 rows x 21 columns]"
      ]
     },
     "execution_count": 90,
     "metadata": {},
     "output_type": "execute_result"
    }
   ],
   "source": [
    "new_frame = check_test\n",
    "for i in re_assign.keys():\n",
    "    new_frame[i] = re_assign[i]\n",
    "final_frame = pd.DataFrame(new_frame)\n",
    "final_frame.head()"
   ]
  },
  {
   "cell_type": "code",
   "execution_count": 91,
   "metadata": {},
   "outputs": [
    {
     "data": {
      "text/html": [
       "<div>\n",
       "<style>\n",
       "    .dataframe thead tr:only-child th {\n",
       "        text-align: right;\n",
       "    }\n",
       "\n",
       "    .dataframe thead th {\n",
       "        text-align: left;\n",
       "    }\n",
       "\n",
       "    .dataframe tbody tr th {\n",
       "        vertical-align: top;\n",
       "    }\n",
       "</style>\n",
       "<table border=\"1\" class=\"dataframe\">\n",
       "  <thead>\n",
       "    <tr style=\"text-align: right;\">\n",
       "      <th></th>\n",
       "      <th>Customer ID</th>\n",
       "      <th>network_age</th>\n",
       "      <th>Customer tenure in month</th>\n",
       "      <th>Total Spend in Months 1 and 2 of 2017</th>\n",
       "      <th>Total SMS Spend</th>\n",
       "      <th>Total Data Spend</th>\n",
       "      <th>Total Data Consumption</th>\n",
       "      <th>Total Unique Calls</th>\n",
       "      <th>Total Onnet spend</th>\n",
       "      <th>Total Offnet spend</th>\n",
       "      <th>Total Call centre complaint calls</th>\n",
       "      <th>Most Loved Competitor network in in Month 1</th>\n",
       "      <th>Most Loved Competitor network in in Month 2</th>\n",
       "      <th>Network type subscription in Month 1_2G</th>\n",
       "      <th>Network type subscription in Month 1_3G</th>\n",
       "      <th>Network type subscription in Month 1_Other</th>\n",
       "      <th>Network type subscription in Month 2_2G</th>\n",
       "      <th>Network type subscription in Month 2_3G</th>\n",
       "      <th>Network type subscription in Month 2_Other</th>\n",
       "    </tr>\n",
       "  </thead>\n",
       "  <tbody>\n",
       "    <tr>\n",
       "      <th>0</th>\n",
       "      <td>ADF0001</td>\n",
       "      <td>1012</td>\n",
       "      <td>33.733333</td>\n",
       "      <td>1560.1156</td>\n",
       "      <td>14.04</td>\n",
       "      <td>226.3</td>\n",
       "      <td>3.126093e+06</td>\n",
       "      <td>64</td>\n",
       "      <td>14503</td>\n",
       "      <td>12402</td>\n",
       "      <td>1</td>\n",
       "      <td>5</td>\n",
       "      <td>3</td>\n",
       "      <td>0</td>\n",
       "      <td>1</td>\n",
       "      <td>0</td>\n",
       "      <td>0</td>\n",
       "      <td>1</td>\n",
       "      <td>0</td>\n",
       "    </tr>\n",
       "    <tr>\n",
       "      <th>1</th>\n",
       "      <td>ADF0002</td>\n",
       "      <td>137</td>\n",
       "      <td>4.566667</td>\n",
       "      <td>1705.8368</td>\n",
       "      <td>73.63</td>\n",
       "      <td>5.0</td>\n",
       "      <td>1.628809e+02</td>\n",
       "      <td>515</td>\n",
       "      <td>29832</td>\n",
       "      <td>88953</td>\n",
       "      <td>9</td>\n",
       "      <td>4</td>\n",
       "      <td>3</td>\n",
       "      <td>0</td>\n",
       "      <td>1</td>\n",
       "      <td>0</td>\n",
       "      <td>0</td>\n",
       "      <td>1</td>\n",
       "      <td>0</td>\n",
       "    </tr>\n",
       "    <tr>\n",
       "      <th>2</th>\n",
       "      <td>ADF0003</td>\n",
       "      <td>202</td>\n",
       "      <td>6.733333</td>\n",
       "      <td>1720.3008</td>\n",
       "      <td>4.36</td>\n",
       "      <td>245.0</td>\n",
       "      <td>3.334607e+06</td>\n",
       "      <td>163</td>\n",
       "      <td>228</td>\n",
       "      <td>1495</td>\n",
       "      <td>1</td>\n",
       "      <td>4</td>\n",
       "      <td>3</td>\n",
       "      <td>0</td>\n",
       "      <td>1</td>\n",
       "      <td>0</td>\n",
       "      <td>0</td>\n",
       "      <td>1</td>\n",
       "      <td>0</td>\n",
       "    </tr>\n",
       "    <tr>\n",
       "      <th>3</th>\n",
       "      <td>ADF0004</td>\n",
       "      <td>165</td>\n",
       "      <td>5.500000</td>\n",
       "      <td>1732.2800</td>\n",
       "      <td>0.00</td>\n",
       "      <td>12.5</td>\n",
       "      <td>6.682924e+05</td>\n",
       "      <td>484</td>\n",
       "      <td>0</td>\n",
       "      <td>71928</td>\n",
       "      <td>2</td>\n",
       "      <td>1</td>\n",
       "      <td>3</td>\n",
       "      <td>0</td>\n",
       "      <td>1</td>\n",
       "      <td>0</td>\n",
       "      <td>0</td>\n",
       "      <td>1</td>\n",
       "      <td>0</td>\n",
       "    </tr>\n",
       "    <tr>\n",
       "      <th>4</th>\n",
       "      <td>ADF0005</td>\n",
       "      <td>759</td>\n",
       "      <td>25.300000</td>\n",
       "      <td>1873.0600</td>\n",
       "      <td>69.57</td>\n",
       "      <td>412.5</td>\n",
       "      <td>6.666975e+06</td>\n",
       "      <td>64</td>\n",
       "      <td>7616</td>\n",
       "      <td>20753</td>\n",
       "      <td>2</td>\n",
       "      <td>3</td>\n",
       "      <td>3</td>\n",
       "      <td>0</td>\n",
       "      <td>1</td>\n",
       "      <td>0</td>\n",
       "      <td>0</td>\n",
       "      <td>1</td>\n",
       "      <td>0</td>\n",
       "    </tr>\n",
       "  </tbody>\n",
       "</table>\n",
       "</div>"
      ],
      "text/plain": [
       "  Customer ID  network_age  Customer tenure in month  \\\n",
       "0     ADF0001         1012                 33.733333   \n",
       "1     ADF0002          137                  4.566667   \n",
       "2     ADF0003          202                  6.733333   \n",
       "3     ADF0004          165                  5.500000   \n",
       "4     ADF0005          759                 25.300000   \n",
       "\n",
       "   Total Spend in Months 1 and 2 of 2017  Total SMS Spend  Total Data Spend  \\\n",
       "0                              1560.1156            14.04             226.3   \n",
       "1                              1705.8368            73.63               5.0   \n",
       "2                              1720.3008             4.36             245.0   \n",
       "3                              1732.2800             0.00              12.5   \n",
       "4                              1873.0600            69.57             412.5   \n",
       "\n",
       "   Total Data Consumption  Total Unique Calls  Total Onnet spend   \\\n",
       "0            3.126093e+06                  64               14503   \n",
       "1            1.628809e+02                 515               29832   \n",
       "2            3.334607e+06                 163                 228   \n",
       "3            6.682924e+05                 484                   0   \n",
       "4            6.666975e+06                  64                7616   \n",
       "\n",
       "   Total Offnet spend  Total Call centre complaint calls  \\\n",
       "0               12402                                  1   \n",
       "1               88953                                  9   \n",
       "2                1495                                  1   \n",
       "3               71928                                  2   \n",
       "4               20753                                  2   \n",
       "\n",
       "   Most Loved Competitor network in in Month 1  \\\n",
       "0                                            5   \n",
       "1                                            4   \n",
       "2                                            4   \n",
       "3                                            1   \n",
       "4                                            3   \n",
       "\n",
       "   Most Loved Competitor network in in Month 2  \\\n",
       "0                                            3   \n",
       "1                                            3   \n",
       "2                                            3   \n",
       "3                                            3   \n",
       "4                                            3   \n",
       "\n",
       "   Network type subscription in Month 1_2G  \\\n",
       "0                                        0   \n",
       "1                                        0   \n",
       "2                                        0   \n",
       "3                                        0   \n",
       "4                                        0   \n",
       "\n",
       "   Network type subscription in Month 1_3G  \\\n",
       "0                                        1   \n",
       "1                                        1   \n",
       "2                                        1   \n",
       "3                                        1   \n",
       "4                                        1   \n",
       "\n",
       "   Network type subscription in Month 1_Other  \\\n",
       "0                                           0   \n",
       "1                                           0   \n",
       "2                                           0   \n",
       "3                                           0   \n",
       "4                                           0   \n",
       "\n",
       "   Network type subscription in Month 2_2G  \\\n",
       "0                                        0   \n",
       "1                                        0   \n",
       "2                                        0   \n",
       "3                                        0   \n",
       "4                                        0   \n",
       "\n",
       "   Network type subscription in Month 2_3G  \\\n",
       "0                                        1   \n",
       "1                                        1   \n",
       "2                                        1   \n",
       "3                                        1   \n",
       "4                                        1   \n",
       "\n",
       "   Network type subscription in Month 2_Other  \n",
       "0                                           0  \n",
       "1                                           0  \n",
       "2                                           0  \n",
       "3                                           0  \n",
       "4                                           0  "
      ]
     },
     "execution_count": 91,
     "metadata": {},
     "output_type": "execute_result"
    }
   ],
   "source": [
    "final_frame = final_frame.drop(['Network type subscription in Month 1'], axis = 1)\n",
    "final_frame = final_frame.drop(['Network type subscription in Month 2'], axis = 1)\n",
    "final_frame.head()"
   ]
  },
  {
   "cell_type": "code",
   "execution_count": 92,
   "metadata": {},
   "outputs": [
    {
     "data": {
      "text/plain": [
       "(600, 20)"
      ]
     },
     "execution_count": 92,
     "metadata": {},
     "output_type": "execute_result"
    }
   ],
   "source": [
    "final_frame['network_age'] = final_frame['network_age'].fillna(np.median(final_frame['network_age']))\n",
    "final_frame['Customer tenure in month'] = final_frame['Customer tenure in month'].fillna(np.median(final_frame['Customer tenure in month']))\n",
    "final_frame['Total Spend in Months 1 and 2 of 2017'] = final_frame['Total Spend in Months 1 and 2 of 2017'].fillna(np.median(final_frame['Total Spend in Months 1 and 2 of 2017']))\n",
    "final_frame['Total SMS Spend'] = final_frame['Total SMS Spend'].fillna(np.median(final_frame['Total SMS Spend']))\n",
    "final_frame['Total Data Spend'] = final_frame['Total Data Spend'].fillna(np.median(final_frame['Total Data Spend']))\n",
    "final_frame['Total Data Consumption'] = final_frame['Total Data Consumption'].fillna(np.median(final_frame['Total Data Consumption']))\n",
    "final_frame['Total Unique Calls'] = final_frame['Total Unique Calls'].fillna(np.median(final_frame['Total Unique Calls']))\n",
    "final_frame['Total Onnet spend '] = final_frame['Total Onnet spend '].fillna(np.median(final_frame['Total Onnet spend ']))\n",
    "final_frame['Total Offnet spend'] = final_frame['Total Offnet spend'].fillna(np.median(final_frame['Total Offnet spend']))\n",
    "final_frame['Total Call centre complaints calls'] = final_frame['Total Call centre complaint calls'].fillna(np.median(final_frame['Total Call centre complaint calls']))\n",
    "final_frame.shape"
   ]
  },
  {
   "cell_type": "code",
   "execution_count": 93,
   "metadata": {},
   "outputs": [
    {
     "data": {
      "text/html": [
       "<div>\n",
       "<style>\n",
       "    .dataframe thead tr:only-child th {\n",
       "        text-align: right;\n",
       "    }\n",
       "\n",
       "    .dataframe thead th {\n",
       "        text-align: left;\n",
       "    }\n",
       "\n",
       "    .dataframe tbody tr th {\n",
       "        vertical-align: top;\n",
       "    }\n",
       "</style>\n",
       "<table border=\"1\" class=\"dataframe\">\n",
       "  <thead>\n",
       "    <tr style=\"text-align: right;\">\n",
       "      <th></th>\n",
       "      <th>Customer ID</th>\n",
       "      <th>network_age</th>\n",
       "      <th>Customer tenure in month</th>\n",
       "      <th>Total Spend in Months 1 and 2 of 2017</th>\n",
       "      <th>Total SMS Spend</th>\n",
       "      <th>Total Data Spend</th>\n",
       "      <th>Total Data Consumption</th>\n",
       "      <th>Total Unique Calls</th>\n",
       "      <th>Total Onnet spend</th>\n",
       "      <th>Total Offnet spend</th>\n",
       "      <th>Total Call centre complaint calls</th>\n",
       "      <th>Most Loved Competitor network in in Month 1</th>\n",
       "      <th>Most Loved Competitor network in in Month 2</th>\n",
       "      <th>Network type subscription in Month 1_2G</th>\n",
       "      <th>Network type subscription in Month 1_3G</th>\n",
       "      <th>Network type subscription in Month 1_Other</th>\n",
       "      <th>Network type subscription in Month 2_2G</th>\n",
       "      <th>Network type subscription in Month 2_3G</th>\n",
       "      <th>Network type subscription in Month 2_Other</th>\n",
       "      <th>Total Call centre complaints calls</th>\n",
       "    </tr>\n",
       "  </thead>\n",
       "  <tbody>\n",
       "    <tr>\n",
       "      <th>0</th>\n",
       "      <td>ADF0001</td>\n",
       "      <td>1012</td>\n",
       "      <td>33.733333</td>\n",
       "      <td>1560.1156</td>\n",
       "      <td>14.04</td>\n",
       "      <td>226.3</td>\n",
       "      <td>3.126093e+06</td>\n",
       "      <td>64</td>\n",
       "      <td>14503</td>\n",
       "      <td>12402</td>\n",
       "      <td>1</td>\n",
       "      <td>5</td>\n",
       "      <td>3</td>\n",
       "      <td>0</td>\n",
       "      <td>1</td>\n",
       "      <td>0</td>\n",
       "      <td>0</td>\n",
       "      <td>1</td>\n",
       "      <td>0</td>\n",
       "      <td>1</td>\n",
       "    </tr>\n",
       "    <tr>\n",
       "      <th>1</th>\n",
       "      <td>ADF0002</td>\n",
       "      <td>137</td>\n",
       "      <td>4.566667</td>\n",
       "      <td>1705.8368</td>\n",
       "      <td>73.63</td>\n",
       "      <td>5.0</td>\n",
       "      <td>1.628809e+02</td>\n",
       "      <td>515</td>\n",
       "      <td>29832</td>\n",
       "      <td>88953</td>\n",
       "      <td>9</td>\n",
       "      <td>4</td>\n",
       "      <td>3</td>\n",
       "      <td>0</td>\n",
       "      <td>1</td>\n",
       "      <td>0</td>\n",
       "      <td>0</td>\n",
       "      <td>1</td>\n",
       "      <td>0</td>\n",
       "      <td>9</td>\n",
       "    </tr>\n",
       "    <tr>\n",
       "      <th>2</th>\n",
       "      <td>ADF0003</td>\n",
       "      <td>202</td>\n",
       "      <td>6.733333</td>\n",
       "      <td>1720.3008</td>\n",
       "      <td>4.36</td>\n",
       "      <td>245.0</td>\n",
       "      <td>3.334607e+06</td>\n",
       "      <td>163</td>\n",
       "      <td>228</td>\n",
       "      <td>1495</td>\n",
       "      <td>1</td>\n",
       "      <td>4</td>\n",
       "      <td>3</td>\n",
       "      <td>0</td>\n",
       "      <td>1</td>\n",
       "      <td>0</td>\n",
       "      <td>0</td>\n",
       "      <td>1</td>\n",
       "      <td>0</td>\n",
       "      <td>1</td>\n",
       "    </tr>\n",
       "    <tr>\n",
       "      <th>3</th>\n",
       "      <td>ADF0004</td>\n",
       "      <td>165</td>\n",
       "      <td>5.500000</td>\n",
       "      <td>1732.2800</td>\n",
       "      <td>0.00</td>\n",
       "      <td>12.5</td>\n",
       "      <td>6.682924e+05</td>\n",
       "      <td>484</td>\n",
       "      <td>0</td>\n",
       "      <td>71928</td>\n",
       "      <td>2</td>\n",
       "      <td>1</td>\n",
       "      <td>3</td>\n",
       "      <td>0</td>\n",
       "      <td>1</td>\n",
       "      <td>0</td>\n",
       "      <td>0</td>\n",
       "      <td>1</td>\n",
       "      <td>0</td>\n",
       "      <td>2</td>\n",
       "    </tr>\n",
       "    <tr>\n",
       "      <th>4</th>\n",
       "      <td>ADF0005</td>\n",
       "      <td>759</td>\n",
       "      <td>25.300000</td>\n",
       "      <td>1873.0600</td>\n",
       "      <td>69.57</td>\n",
       "      <td>412.5</td>\n",
       "      <td>6.666975e+06</td>\n",
       "      <td>64</td>\n",
       "      <td>7616</td>\n",
       "      <td>20753</td>\n",
       "      <td>2</td>\n",
       "      <td>3</td>\n",
       "      <td>3</td>\n",
       "      <td>0</td>\n",
       "      <td>1</td>\n",
       "      <td>0</td>\n",
       "      <td>0</td>\n",
       "      <td>1</td>\n",
       "      <td>0</td>\n",
       "      <td>2</td>\n",
       "    </tr>\n",
       "  </tbody>\n",
       "</table>\n",
       "</div>"
      ],
      "text/plain": [
       "  Customer ID  network_age  Customer tenure in month  \\\n",
       "0     ADF0001         1012                 33.733333   \n",
       "1     ADF0002          137                  4.566667   \n",
       "2     ADF0003          202                  6.733333   \n",
       "3     ADF0004          165                  5.500000   \n",
       "4     ADF0005          759                 25.300000   \n",
       "\n",
       "   Total Spend in Months 1 and 2 of 2017  Total SMS Spend  Total Data Spend  \\\n",
       "0                              1560.1156            14.04             226.3   \n",
       "1                              1705.8368            73.63               5.0   \n",
       "2                              1720.3008             4.36             245.0   \n",
       "3                              1732.2800             0.00              12.5   \n",
       "4                              1873.0600            69.57             412.5   \n",
       "\n",
       "   Total Data Consumption  Total Unique Calls  Total Onnet spend   \\\n",
       "0            3.126093e+06                  64               14503   \n",
       "1            1.628809e+02                 515               29832   \n",
       "2            3.334607e+06                 163                 228   \n",
       "3            6.682924e+05                 484                   0   \n",
       "4            6.666975e+06                  64                7616   \n",
       "\n",
       "   Total Offnet spend  Total Call centre complaint calls  \\\n",
       "0               12402                                  1   \n",
       "1               88953                                  9   \n",
       "2                1495                                  1   \n",
       "3               71928                                  2   \n",
       "4               20753                                  2   \n",
       "\n",
       "   Most Loved Competitor network in in Month 1  \\\n",
       "0                                            5   \n",
       "1                                            4   \n",
       "2                                            4   \n",
       "3                                            1   \n",
       "4                                            3   \n",
       "\n",
       "   Most Loved Competitor network in in Month 2  \\\n",
       "0                                            3   \n",
       "1                                            3   \n",
       "2                                            3   \n",
       "3                                            3   \n",
       "4                                            3   \n",
       "\n",
       "   Network type subscription in Month 1_2G  \\\n",
       "0                                        0   \n",
       "1                                        0   \n",
       "2                                        0   \n",
       "3                                        0   \n",
       "4                                        0   \n",
       "\n",
       "   Network type subscription in Month 1_3G  \\\n",
       "0                                        1   \n",
       "1                                        1   \n",
       "2                                        1   \n",
       "3                                        1   \n",
       "4                                        1   \n",
       "\n",
       "   Network type subscription in Month 1_Other  \\\n",
       "0                                           0   \n",
       "1                                           0   \n",
       "2                                           0   \n",
       "3                                           0   \n",
       "4                                           0   \n",
       "\n",
       "   Network type subscription in Month 2_2G  \\\n",
       "0                                        0   \n",
       "1                                        0   \n",
       "2                                        0   \n",
       "3                                        0   \n",
       "4                                        0   \n",
       "\n",
       "   Network type subscription in Month 2_3G  \\\n",
       "0                                        1   \n",
       "1                                        1   \n",
       "2                                        1   \n",
       "3                                        1   \n",
       "4                                        1   \n",
       "\n",
       "   Network type subscription in Month 2_Other  \\\n",
       "0                                           0   \n",
       "1                                           0   \n",
       "2                                           0   \n",
       "3                                           0   \n",
       "4                                           0   \n",
       "\n",
       "   Total Call centre complaints calls  \n",
       "0                                   1  \n",
       "1                                   9  \n",
       "2                                   1  \n",
       "3                                   2  \n",
       "4                                   2  "
      ]
     },
     "execution_count": 93,
     "metadata": {},
     "output_type": "execute_result"
    }
   ],
   "source": [
    "final_frame['network_age'] = final_frame['network_age'].dropna(axis = 0)\n",
    "final_frame.head()"
   ]
  },
  {
   "cell_type": "code",
   "execution_count": 94,
   "metadata": {},
   "outputs": [
    {
     "data": {
      "text/plain": [
       "(600, 20)"
      ]
     },
     "execution_count": 94,
     "metadata": {},
     "output_type": "execute_result"
    }
   ],
   "source": [
    "final_frame.shape"
   ]
  },
  {
   "cell_type": "code",
   "execution_count": 95,
   "metadata": {},
   "outputs": [
    {
     "data": {
      "text/plain": [
       "(600, 20)"
      ]
     },
     "execution_count": 95,
     "metadata": {},
     "output_type": "execute_result"
    }
   ],
   "source": [
    "final_frame = final_frame.dropna(axis = 0)\n",
    "final_frame.shape"
   ]
  },
  {
   "cell_type": "code",
   "execution_count": 96,
   "metadata": {},
   "outputs": [
    {
     "name": "stdout",
     "output_type": "stream",
     "text": [
      "Customer ID False\n",
      "Customer tenure in month False\n",
      "Total SMS Spend False\n",
      "Total Data Consumption False\n",
      "Total Onnet spend  False\n",
      "Total Call centre complaint calls False\n",
      "Most Loved Competitor network in in Month 2 False\n",
      "Network type subscription in Month 1_3G False\n",
      "Network type subscription in Month 2_2G False\n",
      "Network type subscription in Month 2_Other False\n"
     ]
    }
   ],
   "source": [
    "check_list =list(final_frame.keys()) \n",
    "for i in check_list:\n",
    "    check_list.remove(i)\n",
    "    solution = i in check_list\n",
    "    print (i, solution)"
   ]
  },
  {
   "cell_type": "code",
   "execution_count": 97,
   "metadata": {
    "collapsed": true
   },
   "outputs": [],
   "source": [
    "final_frame['network_age'][final_frame['network_age'] > 2500] = final_frame['network_age'].median()"
   ]
  },
  {
   "cell_type": "code",
   "execution_count": 98,
   "metadata": {
    "collapsed": true
   },
   "outputs": [],
   "source": [
    "final_frame['Customer tenure in month'][final_frame['Customer tenure in month'] > 80] = final_frame['Customer tenure in month'].median()"
   ]
  },
  {
   "cell_type": "code",
   "execution_count": 99,
   "metadata": {
    "collapsed": true
   },
   "outputs": [],
   "source": [
    "final_frame['Total Spend in Months 1 and 2 of 2017'][final_frame['Total Spend in Months 1 and 2 of 2017'] > 1200] = final_frame['Total Spend in Months 1 and 2 of 2017'].median()"
   ]
  },
  {
   "cell_type": "code",
   "execution_count": 100,
   "metadata": {
    "collapsed": true
   },
   "outputs": [],
   "source": [
    "final_frame['Total Onnet spend '][final_frame['Total Onnet spend '] > 1000] = final_frame['Total Onnet spend '].median()\n",
    "final_frame['Total Offnet spend'][final_frame['Total Offnet spend'] > 13000] = final_frame['Total Offnet spend'].median()\n",
    "final_frame['Total Call centre complaint calls'][final_frame['Total Call centre complaint calls'] > 2] = final_frame['Total Call centre complaint calls'].median()"
   ]
  },
  {
   "cell_type": "code",
   "execution_count": 101,
   "metadata": {},
   "outputs": [
    {
     "data": {
      "text/html": [
       "<div>\n",
       "<style>\n",
       "    .dataframe thead tr:only-child th {\n",
       "        text-align: right;\n",
       "    }\n",
       "\n",
       "    .dataframe thead th {\n",
       "        text-align: left;\n",
       "    }\n",
       "\n",
       "    .dataframe tbody tr th {\n",
       "        vertical-align: top;\n",
       "    }\n",
       "</style>\n",
       "<table border=\"1\" class=\"dataframe\">\n",
       "  <thead>\n",
       "    <tr style=\"text-align: right;\">\n",
       "      <th></th>\n",
       "      <th>Customer ID</th>\n",
       "      <th>network_age</th>\n",
       "      <th>Customer tenure in month</th>\n",
       "      <th>Total Spend in Months 1 and 2 of 2017</th>\n",
       "      <th>Total SMS Spend</th>\n",
       "      <th>Total Data Spend</th>\n",
       "      <th>Total Data Consumption</th>\n",
       "      <th>Total Unique Calls</th>\n",
       "      <th>Total Onnet spend</th>\n",
       "      <th>Total Offnet spend</th>\n",
       "      <th>Total Call centre complaint calls</th>\n",
       "      <th>Most Loved Competitor network in in Month 1</th>\n",
       "      <th>Most Loved Competitor network in in Month 2</th>\n",
       "      <th>Network type subscription in Month 1_2G</th>\n",
       "      <th>Network type subscription in Month 1_3G</th>\n",
       "      <th>Network type subscription in Month 1_Other</th>\n",
       "      <th>Network type subscription in Month 2_2G</th>\n",
       "      <th>Network type subscription in Month 2_3G</th>\n",
       "      <th>Network type subscription in Month 2_Other</th>\n",
       "      <th>Total Call centre complaints calls</th>\n",
       "    </tr>\n",
       "  </thead>\n",
       "  <tbody>\n",
       "    <tr>\n",
       "      <th>0</th>\n",
       "      <td>ADF0001</td>\n",
       "      <td>1012</td>\n",
       "      <td>33.733333</td>\n",
       "      <td>942.6396</td>\n",
       "      <td>14.04</td>\n",
       "      <td>226.3</td>\n",
       "      <td>3.126093e+06</td>\n",
       "      <td>64</td>\n",
       "      <td>2526.5</td>\n",
       "      <td>12402.0</td>\n",
       "      <td>1</td>\n",
       "      <td>5</td>\n",
       "      <td>3</td>\n",
       "      <td>0</td>\n",
       "      <td>1</td>\n",
       "      <td>0</td>\n",
       "      <td>0</td>\n",
       "      <td>1</td>\n",
       "      <td>0</td>\n",
       "      <td>1</td>\n",
       "    </tr>\n",
       "    <tr>\n",
       "      <th>1</th>\n",
       "      <td>ADF0002</td>\n",
       "      <td>137</td>\n",
       "      <td>4.566667</td>\n",
       "      <td>942.6396</td>\n",
       "      <td>73.63</td>\n",
       "      <td>5.0</td>\n",
       "      <td>1.628809e+02</td>\n",
       "      <td>515</td>\n",
       "      <td>2526.5</td>\n",
       "      <td>8096.5</td>\n",
       "      <td>1</td>\n",
       "      <td>4</td>\n",
       "      <td>3</td>\n",
       "      <td>0</td>\n",
       "      <td>1</td>\n",
       "      <td>0</td>\n",
       "      <td>0</td>\n",
       "      <td>1</td>\n",
       "      <td>0</td>\n",
       "      <td>9</td>\n",
       "    </tr>\n",
       "    <tr>\n",
       "      <th>2</th>\n",
       "      <td>ADF0003</td>\n",
       "      <td>202</td>\n",
       "      <td>6.733333</td>\n",
       "      <td>942.6396</td>\n",
       "      <td>4.36</td>\n",
       "      <td>245.0</td>\n",
       "      <td>3.334607e+06</td>\n",
       "      <td>163</td>\n",
       "      <td>228.0</td>\n",
       "      <td>1495.0</td>\n",
       "      <td>1</td>\n",
       "      <td>4</td>\n",
       "      <td>3</td>\n",
       "      <td>0</td>\n",
       "      <td>1</td>\n",
       "      <td>0</td>\n",
       "      <td>0</td>\n",
       "      <td>1</td>\n",
       "      <td>0</td>\n",
       "      <td>1</td>\n",
       "    </tr>\n",
       "    <tr>\n",
       "      <th>3</th>\n",
       "      <td>ADF0004</td>\n",
       "      <td>165</td>\n",
       "      <td>5.500000</td>\n",
       "      <td>942.6396</td>\n",
       "      <td>0.00</td>\n",
       "      <td>12.5</td>\n",
       "      <td>6.682924e+05</td>\n",
       "      <td>484</td>\n",
       "      <td>0.0</td>\n",
       "      <td>8096.5</td>\n",
       "      <td>2</td>\n",
       "      <td>1</td>\n",
       "      <td>3</td>\n",
       "      <td>0</td>\n",
       "      <td>1</td>\n",
       "      <td>0</td>\n",
       "      <td>0</td>\n",
       "      <td>1</td>\n",
       "      <td>0</td>\n",
       "      <td>2</td>\n",
       "    </tr>\n",
       "    <tr>\n",
       "      <th>4</th>\n",
       "      <td>ADF0005</td>\n",
       "      <td>759</td>\n",
       "      <td>25.300000</td>\n",
       "      <td>942.6396</td>\n",
       "      <td>69.57</td>\n",
       "      <td>412.5</td>\n",
       "      <td>6.666975e+06</td>\n",
       "      <td>64</td>\n",
       "      <td>2526.5</td>\n",
       "      <td>8096.5</td>\n",
       "      <td>2</td>\n",
       "      <td>3</td>\n",
       "      <td>3</td>\n",
       "      <td>0</td>\n",
       "      <td>1</td>\n",
       "      <td>0</td>\n",
       "      <td>0</td>\n",
       "      <td>1</td>\n",
       "      <td>0</td>\n",
       "      <td>2</td>\n",
       "    </tr>\n",
       "  </tbody>\n",
       "</table>\n",
       "</div>"
      ],
      "text/plain": [
       "  Customer ID  network_age  Customer tenure in month  \\\n",
       "0     ADF0001         1012                 33.733333   \n",
       "1     ADF0002          137                  4.566667   \n",
       "2     ADF0003          202                  6.733333   \n",
       "3     ADF0004          165                  5.500000   \n",
       "4     ADF0005          759                 25.300000   \n",
       "\n",
       "   Total Spend in Months 1 and 2 of 2017  Total SMS Spend  Total Data Spend  \\\n",
       "0                               942.6396            14.04             226.3   \n",
       "1                               942.6396            73.63               5.0   \n",
       "2                               942.6396             4.36             245.0   \n",
       "3                               942.6396             0.00              12.5   \n",
       "4                               942.6396            69.57             412.5   \n",
       "\n",
       "   Total Data Consumption  Total Unique Calls  Total Onnet spend   \\\n",
       "0            3.126093e+06                  64              2526.5   \n",
       "1            1.628809e+02                 515              2526.5   \n",
       "2            3.334607e+06                 163               228.0   \n",
       "3            6.682924e+05                 484                 0.0   \n",
       "4            6.666975e+06                  64              2526.5   \n",
       "\n",
       "   Total Offnet spend  Total Call centre complaint calls  \\\n",
       "0             12402.0                                  1   \n",
       "1              8096.5                                  1   \n",
       "2              1495.0                                  1   \n",
       "3              8096.5                                  2   \n",
       "4              8096.5                                  2   \n",
       "\n",
       "   Most Loved Competitor network in in Month 1  \\\n",
       "0                                            5   \n",
       "1                                            4   \n",
       "2                                            4   \n",
       "3                                            1   \n",
       "4                                            3   \n",
       "\n",
       "   Most Loved Competitor network in in Month 2  \\\n",
       "0                                            3   \n",
       "1                                            3   \n",
       "2                                            3   \n",
       "3                                            3   \n",
       "4                                            3   \n",
       "\n",
       "   Network type subscription in Month 1_2G  \\\n",
       "0                                        0   \n",
       "1                                        0   \n",
       "2                                        0   \n",
       "3                                        0   \n",
       "4                                        0   \n",
       "\n",
       "   Network type subscription in Month 1_3G  \\\n",
       "0                                        1   \n",
       "1                                        1   \n",
       "2                                        1   \n",
       "3                                        1   \n",
       "4                                        1   \n",
       "\n",
       "   Network type subscription in Month 1_Other  \\\n",
       "0                                           0   \n",
       "1                                           0   \n",
       "2                                           0   \n",
       "3                                           0   \n",
       "4                                           0   \n",
       "\n",
       "   Network type subscription in Month 2_2G  \\\n",
       "0                                        0   \n",
       "1                                        0   \n",
       "2                                        0   \n",
       "3                                        0   \n",
       "4                                        0   \n",
       "\n",
       "   Network type subscription in Month 2_3G  \\\n",
       "0                                        1   \n",
       "1                                        1   \n",
       "2                                        1   \n",
       "3                                        1   \n",
       "4                                        1   \n",
       "\n",
       "   Network type subscription in Month 2_Other  \\\n",
       "0                                           0   \n",
       "1                                           0   \n",
       "2                                           0   \n",
       "3                                           0   \n",
       "4                                           0   \n",
       "\n",
       "   Total Call centre complaints calls  \n",
       "0                                   1  \n",
       "1                                   9  \n",
       "2                                   1  \n",
       "3                                   2  \n",
       "4                                   2  "
      ]
     },
     "execution_count": 101,
     "metadata": {},
     "output_type": "execute_result"
    }
   ],
   "source": [
    "final_frame.dropna()\n",
    "\n",
    "for i in final_frame.keys():\n",
    "    if i != 'Customer ID':\n",
    "        final_frame[i] = final_frame[i].replace(np.nan,final_frame[i].median())\n",
    "    else:\n",
    "        pass\n",
    "final_frame.head()"
   ]
  },
  {
   "cell_type": "code",
   "execution_count": 102,
   "metadata": {},
   "outputs": [
    {
     "data": {
      "text/plain": [
       "((600, 19), (600, 20))"
      ]
     },
     "execution_count": 102,
     "metadata": {},
     "output_type": "execute_result"
    }
   ],
   "source": [
    "process_frame = {}\n",
    "\n",
    "for i in final_frame:\n",
    "    if i != 'Customer ID':\n",
    "        process_frame[i] = final_frame[i]\n",
    "    else: \n",
    "        pass\n",
    "process_frame = pd.DataFrame(process_frame)\n",
    "process_frame.shape, final_frame.shape"
   ]
  },
  {
   "cell_type": "code",
   "execution_count": 107,
   "metadata": {},
   "outputs": [
    {
     "data": {
      "text/plain": [
       "(600,)"
      ]
     },
     "execution_count": 107,
     "metadata": {},
     "output_type": "execute_result"
    }
   ],
   "source": [
    "test_predict = rand.predict(process_frame)\n",
    "test_predict.shape"
   ]
  },
  {
   "cell_type": "code",
   "execution_count": 108,
   "metadata": {
    "collapsed": true
   },
   "outputs": [],
   "source": [
    "submit_frame = {}\n",
    "for i in [1]:\n",
    "    submit_frame['Churn Status'] = test_predict\n",
    "    submit_frame['Customer ID'] = final_frame['Customer ID']\n",
    "    \n",
    "submit_frame = pd.DataFrame(submit_frame)"
   ]
  },
  {
   "cell_type": "code",
   "execution_count": 111,
   "metadata": {
    "collapsed": true
   },
   "outputs": [],
   "source": [
    "submit_frame.to_csv(r\"C:\\Users\\ACER\\Desktop\\pyreach\\to pc\\churn prediction\\final_sub.xlsx\")"
   ]
  },
  {
   "cell_type": "code",
   "execution_count": null,
   "metadata": {},
   "outputs": [],
   "source": []
  }
 ],
 "metadata": {
  "kernelspec": {
   "display_name": "Python 3",
   "language": "python",
   "name": "python3"
  },
  "language_info": {
   "codemirror_mode": {
    "name": "ipython",
    "version": 3
   },
   "file_extension": ".py",
   "mimetype": "text/x-python",
   "name": "python",
   "nbconvert_exporter": "python",
   "pygments_lexer": "ipython3",
   "version": "3.6.1"
  }
 },
 "nbformat": 4,
 "nbformat_minor": 2
}
