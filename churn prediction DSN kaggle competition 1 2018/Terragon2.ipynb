{
 "cells": [
  {
   "cell_type": "code",
   "execution_count": 1,
   "metadata": {
    "slideshow": {
     "slide_type": "skip"
    }
   },
   "outputs": [],
   "source": [
    "import pandas as pd\n",
    "import numpy as np\n",
    "import sklearn as sk\n",
    "import warnings\n",
    "warnings.filterwarnings(\"ignore\")\n",
    "import os, sys\n",
    "os.chdir(r\"C:\\Users\\ACER\\Desktop\\Terragon recruitment\")"
   ]
  },
  {
   "cell_type": "code",
   "execution_count": 4,
   "metadata": {},
   "outputs": [
    {
     "data": {
      "application/json": {
       "cell": {
        "!": "OSMagics",
        "HTML": "Other",
        "SVG": "Other",
        "bash": "Other",
        "capture": "ExecutionMagics",
        "cmd": "Other",
        "debug": "ExecutionMagics",
        "file": "Other",
        "html": "DisplayMagics",
        "javascript": "DisplayMagics",
        "js": "DisplayMagics",
        "latex": "DisplayMagics",
        "perl": "Other",
        "prun": "ExecutionMagics",
        "pypy": "Other",
        "python": "Other",
        "python2": "Other",
        "python3": "Other",
        "ruby": "Other",
        "script": "ScriptMagics",
        "sh": "Other",
        "svg": "DisplayMagics",
        "sx": "OSMagics",
        "system": "OSMagics",
        "time": "ExecutionMagics",
        "timeit": "ExecutionMagics",
        "writefile": "OSMagics"
       },
       "line": {
        "alias": "OSMagics",
        "alias_magic": "BasicMagics",
        "autocall": "AutoMagics",
        "automagic": "AutoMagics",
        "autosave": "KernelMagics",
        "bookmark": "OSMagics",
        "cd": "OSMagics",
        "clear": "KernelMagics",
        "cls": "KernelMagics",
        "colors": "BasicMagics",
        "config": "ConfigMagics",
        "connect_info": "KernelMagics",
        "copy": "Other",
        "ddir": "Other",
        "debug": "ExecutionMagics",
        "dhist": "OSMagics",
        "dirs": "OSMagics",
        "doctest_mode": "BasicMagics",
        "echo": "Other",
        "ed": "Other",
        "edit": "KernelMagics",
        "env": "OSMagics",
        "gui": "BasicMagics",
        "hist": "Other",
        "history": "HistoryMagics",
        "killbgscripts": "ScriptMagics",
        "ldir": "Other",
        "less": "KernelMagics",
        "load": "CodeMagics",
        "load_ext": "ExtensionMagics",
        "loadpy": "CodeMagics",
        "logoff": "LoggingMagics",
        "logon": "LoggingMagics",
        "logstart": "LoggingMagics",
        "logstate": "LoggingMagics",
        "logstop": "LoggingMagics",
        "ls": "Other",
        "lsmagic": "BasicMagics",
        "macro": "ExecutionMagics",
        "magic": "BasicMagics",
        "matplotlib": "PylabMagics",
        "mkdir": "Other",
        "more": "KernelMagics",
        "notebook": "BasicMagics",
        "page": "BasicMagics",
        "pastebin": "CodeMagics",
        "pdb": "ExecutionMagics",
        "pdef": "NamespaceMagics",
        "pdoc": "NamespaceMagics",
        "pfile": "NamespaceMagics",
        "pinfo": "NamespaceMagics",
        "pinfo2": "NamespaceMagics",
        "popd": "OSMagics",
        "pprint": "BasicMagics",
        "precision": "BasicMagics",
        "profile": "BasicMagics",
        "prun": "ExecutionMagics",
        "psearch": "NamespaceMagics",
        "psource": "NamespaceMagics",
        "pushd": "OSMagics",
        "pwd": "OSMagics",
        "pycat": "OSMagics",
        "pylab": "PylabMagics",
        "qtconsole": "KernelMagics",
        "quickref": "BasicMagics",
        "recall": "HistoryMagics",
        "rehashx": "OSMagics",
        "reload_ext": "ExtensionMagics",
        "ren": "Other",
        "rep": "Other",
        "rerun": "HistoryMagics",
        "reset": "NamespaceMagics",
        "reset_selective": "NamespaceMagics",
        "rmdir": "Other",
        "run": "ExecutionMagics",
        "save": "CodeMagics",
        "sc": "OSMagics",
        "set_env": "OSMagics",
        "store": "StoreMagics",
        "sx": "OSMagics",
        "system": "OSMagics",
        "tb": "ExecutionMagics",
        "time": "ExecutionMagics",
        "timeit": "ExecutionMagics",
        "unalias": "OSMagics",
        "unload_ext": "ExtensionMagics",
        "who": "NamespaceMagics",
        "who_ls": "NamespaceMagics",
        "whos": "NamespaceMagics",
        "xdel": "NamespaceMagics",
        "xmode": "BasicMagics"
       }
      },
      "text/plain": [
       "Available line magics:\n",
       "%alias  %alias_magic  %autocall  %automagic  %autosave  %bookmark  %cd  %clear  %cls  %colors  %config  %connect_info  %copy  %ddir  %debug  %dhist  %dirs  %doctest_mode  %echo  %ed  %edit  %env  %gui  %hist  %history  %killbgscripts  %ldir  %less  %load  %load_ext  %loadpy  %logoff  %logon  %logstart  %logstate  %logstop  %ls  %lsmagic  %macro  %magic  %matplotlib  %mkdir  %more  %notebook  %page  %pastebin  %pdb  %pdef  %pdoc  %pfile  %pinfo  %pinfo2  %popd  %pprint  %precision  %profile  %prun  %psearch  %psource  %pushd  %pwd  %pycat  %pylab  %qtconsole  %quickref  %recall  %rehashx  %reload_ext  %ren  %rep  %rerun  %reset  %reset_selective  %rmdir  %run  %save  %sc  %set_env  %store  %sx  %system  %tb  %time  %timeit  %unalias  %unload_ext  %who  %who_ls  %whos  %xdel  %xmode\n",
       "\n",
       "Available cell magics:\n",
       "%%!  %%HTML  %%SVG  %%bash  %%capture  %%cmd  %%debug  %%file  %%html  %%javascript  %%js  %%latex  %%perl  %%prun  %%pypy  %%python  %%python2  %%python3  %%ruby  %%script  %%sh  %%svg  %%sx  %%system  %%time  %%timeit  %%writefile\n",
       "\n",
       "Automagic is ON, % prefix IS NOT needed for line magics."
      ]
     },
     "execution_count": 4,
     "metadata": {},
     "output_type": "execute_result"
    }
   ],
   "source": [
    "% lsmagic"
   ]
  },
  {
   "cell_type": "code",
   "execution_count": 5,
   "metadata": {},
   "outputs": [
    {
     "data": {
      "text/plain": [
       "'C:\\\\Users\\\\ACER\\\\Desktop\\\\Terragon recruitment'"
      ]
     },
     "execution_count": 5,
     "metadata": {},
     "output_type": "execute_result"
    }
   ],
   "source": [
    "% pwd"
   ]
  },
  {
   "cell_type": "code",
   "execution_count": null,
   "metadata": {},
   "outputs": [],
   "source": []
  },
  {
   "cell_type": "code",
   "execution_count": 2,
   "metadata": {},
   "outputs": [],
   "source": [
    "train_set = pd.read_csv(r\"Train.csv\")\n",
    "test_set = pd.read_csv(r\"Test.csv\")"
   ]
  },
  {
   "cell_type": "code",
   "execution_count": 3,
   "metadata": {},
   "outputs": [
    {
     "data": {
      "text/html": [
       "<div>\n",
       "<style>\n",
       "    .dataframe thead tr:only-child th {\n",
       "        text-align: right;\n",
       "    }\n",
       "\n",
       "    .dataframe thead th {\n",
       "        text-align: left;\n",
       "    }\n",
       "\n",
       "    .dataframe tbody tr th {\n",
       "        vertical-align: top;\n",
       "    }\n",
       "</style>\n",
       "<table border=\"1\" class=\"dataframe\">\n",
       "  <thead>\n",
       "    <tr style=\"text-align: right;\">\n",
       "      <th></th>\n",
       "      <th>customer_id</th>\n",
       "      <th>age</th>\n",
       "      <th>job</th>\n",
       "      <th>marital</th>\n",
       "      <th>education</th>\n",
       "      <th>default</th>\n",
       "      <th>balance</th>\n",
       "      <th>housing</th>\n",
       "      <th>loan</th>\n",
       "      <th>contact</th>\n",
       "      <th>day</th>\n",
       "      <th>month</th>\n",
       "      <th>duration</th>\n",
       "      <th>campaign</th>\n",
       "      <th>pdays</th>\n",
       "      <th>previous</th>\n",
       "      <th>poutcome</th>\n",
       "      <th>deposit</th>\n",
       "    </tr>\n",
       "  </thead>\n",
       "  <tbody>\n",
       "    <tr>\n",
       "      <th>0</th>\n",
       "      <td>RGD002844</td>\n",
       "      <td>31</td>\n",
       "      <td>management</td>\n",
       "      <td>married</td>\n",
       "      <td>tertiary</td>\n",
       "      <td>no</td>\n",
       "      <td>81</td>\n",
       "      <td>yes</td>\n",
       "      <td>no</td>\n",
       "      <td>cellular</td>\n",
       "      <td>29</td>\n",
       "      <td>oct</td>\n",
       "      <td>164</td>\n",
       "      <td>2</td>\n",
       "      <td>-1</td>\n",
       "      <td>0</td>\n",
       "      <td>unknown</td>\n",
       "      <td>1</td>\n",
       "    </tr>\n",
       "    <tr>\n",
       "      <th>1</th>\n",
       "      <td>RGD003806</td>\n",
       "      <td>62</td>\n",
       "      <td>retired</td>\n",
       "      <td>married</td>\n",
       "      <td>secondary</td>\n",
       "      <td>no</td>\n",
       "      <td>569</td>\n",
       "      <td>no</td>\n",
       "      <td>no</td>\n",
       "      <td>cellular</td>\n",
       "      <td>3</td>\n",
       "      <td>aug</td>\n",
       "      <td>187</td>\n",
       "      <td>2</td>\n",
       "      <td>180</td>\n",
       "      <td>6</td>\n",
       "      <td>success</td>\n",
       "      <td>1</td>\n",
       "    </tr>\n",
       "    <tr>\n",
       "      <th>2</th>\n",
       "      <td>RGD008310</td>\n",
       "      <td>35</td>\n",
       "      <td>technician</td>\n",
       "      <td>married</td>\n",
       "      <td>tertiary</td>\n",
       "      <td>no</td>\n",
       "      <td>432</td>\n",
       "      <td>no</td>\n",
       "      <td>no</td>\n",
       "      <td>cellular</td>\n",
       "      <td>12</td>\n",
       "      <td>aug</td>\n",
       "      <td>104</td>\n",
       "      <td>8</td>\n",
       "      <td>-1</td>\n",
       "      <td>0</td>\n",
       "      <td>unknown</td>\n",
       "      <td>0</td>\n",
       "    </tr>\n",
       "    <tr>\n",
       "      <th>3</th>\n",
       "      <td>RGD001840</td>\n",
       "      <td>43</td>\n",
       "      <td>management</td>\n",
       "      <td>married</td>\n",
       "      <td>tertiary</td>\n",
       "      <td>no</td>\n",
       "      <td>1429</td>\n",
       "      <td>yes</td>\n",
       "      <td>no</td>\n",
       "      <td>cellular</td>\n",
       "      <td>7</td>\n",
       "      <td>may</td>\n",
       "      <td>1030</td>\n",
       "      <td>1</td>\n",
       "      <td>169</td>\n",
       "      <td>3</td>\n",
       "      <td>success</td>\n",
       "      <td>1</td>\n",
       "    </tr>\n",
       "    <tr>\n",
       "      <th>4</th>\n",
       "      <td>RGD005881</td>\n",
       "      <td>29</td>\n",
       "      <td>blue-collar</td>\n",
       "      <td>married</td>\n",
       "      <td>primary</td>\n",
       "      <td>no</td>\n",
       "      <td>25</td>\n",
       "      <td>yes</td>\n",
       "      <td>no</td>\n",
       "      <td>unknown</td>\n",
       "      <td>4</td>\n",
       "      <td>jun</td>\n",
       "      <td>188</td>\n",
       "      <td>2</td>\n",
       "      <td>-1</td>\n",
       "      <td>0</td>\n",
       "      <td>unknown</td>\n",
       "      <td>0</td>\n",
       "    </tr>\n",
       "  </tbody>\n",
       "</table>\n",
       "</div>"
      ],
      "text/plain": [
       "  customer_id  age          job  marital  education default  balance housing  \\\n",
       "0   RGD002844   31   management  married   tertiary      no       81     yes   \n",
       "1   RGD003806   62      retired  married  secondary      no      569      no   \n",
       "2   RGD008310   35   technician  married   tertiary      no      432      no   \n",
       "3   RGD001840   43   management  married   tertiary      no     1429     yes   \n",
       "4   RGD005881   29  blue-collar  married    primary      no       25     yes   \n",
       "\n",
       "  loan   contact  day month  duration  campaign  pdays  previous poutcome  \\\n",
       "0   no  cellular   29   oct       164         2     -1         0  unknown   \n",
       "1   no  cellular    3   aug       187         2    180         6  success   \n",
       "2   no  cellular   12   aug       104         8     -1         0  unknown   \n",
       "3   no  cellular    7   may      1030         1    169         3  success   \n",
       "4   no   unknown    4   jun       188         2     -1         0  unknown   \n",
       "\n",
       "   deposit  \n",
       "0        1  \n",
       "1        1  \n",
       "2        0  \n",
       "3        1  \n",
       "4        0  "
      ]
     },
     "execution_count": 3,
     "metadata": {},
     "output_type": "execute_result"
    }
   ],
   "source": [
    "train_sample = train_set\n",
    "train_sample.head()"
   ]
  },
  {
   "cell_type": "code",
   "execution_count": 4,
   "metadata": {},
   "outputs": [],
   "source": [
    "check_train = pd.get_dummies(train_sample, columns = ['job', 'marital', 'education','default', 'housing','loan', 'contact','month','poutcome'])"
   ]
  },
  {
   "cell_type": "code",
   "execution_count": 5,
   "metadata": {},
   "outputs": [],
   "source": [
    "preprocess_train = check_train\n",
    "first_preprocess_train =preprocess_train.drop(['customer_id', 'deposit'], axis = 1)"
   ]
  },
  {
   "cell_type": "code",
   "execution_count": 6,
   "metadata": {},
   "outputs": [],
   "source": [
    "import sklearn as sk\n",
    "from sklearn.preprocessing import MinMaxScaler\n",
    "from sklearn.preprocessing import StandardScaler\n",
    "\n",
    "from sklearn.cross_validation import train_test_split"
   ]
  },
  {
   "cell_type": "code",
   "execution_count": 78,
   "metadata": {},
   "outputs": [],
   "source": [
    "x = first_preprocess_train\n",
    "y = check_train['deposit']\n",
    "\n",
    "x_train, x_test, y_train, y_test = train_test_split(x, y, test_size = 0.30, random_state = 18)"
   ]
  },
  {
   "cell_type": "code",
   "execution_count": 8,
   "metadata": {},
   "outputs": [],
   "source": [
    "scale = MinMaxScaler()\n",
    "std_scale = StandardScaler()\n",
    "x_train_std = std_scale.fit_transform(x_train)\n",
    "x_test_std = std_scale.fit_transform(x_test)\n",
    "\n",
    "x_train_scale = scale.fit_transform(x_train_std)\n",
    "x_test_scale = scale.fit_transform(x_test_std)"
   ]
  },
  {
   "cell_type": "code",
   "execution_count": 9,
   "metadata": {},
   "outputs": [
    {
     "name": "stdout",
     "output_type": "stream",
     "text": [
      "0.79728 0.751026502426 0.248973497574\n"
     ]
    }
   ],
   "source": [
    "from sklearn.neighbors import KNeighborsClassifier\n",
    "from sklearn.metrics import mean_squared_error\n",
    "\n",
    "knn = KNeighborsClassifier(n_neighbors = 7)\n",
    "\n",
    "knn.fit(x_train_scale, y_train)\n",
    "y_pred = knn.predict(x_test_scale)\n",
    "mse = mean_squared_error(y_pred, y_test)\n",
    "print (knn.score(x_train_scale, y_train),knn.score(x_test_scale, y_test), mse)\n"
   ]
  },
  {
   "cell_type": "code",
   "execution_count": 10,
   "metadata": {},
   "outputs": [
    {
     "name": "stdout",
     "output_type": "stream",
     "text": [
      "1.0         0.69764837626        1\n",
      "0.82688         0.678238148563        2\n",
      "0.84736         0.72228443449        3\n",
      "0.80016         0.714818962299        4\n",
      "0.81696         0.735722284434        5\n",
      "0.78704         0.729376633072        6\n",
      "0.79728         0.751026502426        7\n",
      "0.77792         0.740948114968        8\n",
      "0.79104         0.750279955207        9\n",
      "0.772         0.73908174692        10\n"
     ]
    }
   ],
   "source": [
    "for n in [1,2,3,4,5,6,7,8,9,10]:\n",
    "    knn =  KNeighborsClassifier(n_neighbors = n)\n",
    "    knn.fit(x_train_scale, y_train)\n",
    "    print (knn.score(x_train_scale, y_train), \"       \",knn.score(x_test_scale, y_test), \"      \", n)"
   ]
  },
  {
   "cell_type": "code",
   "execution_count": 11,
   "metadata": {},
   "outputs": [
    {
     "name": "stdout",
     "output_type": "stream",
     "text": [
      "0.722716900958\n"
     ]
    }
   ],
   "source": [
    "from sklearn.cross_validation import cross_val_score\n",
    "score = cross_val_score(knn, x_train_scale, y_train, cv = 10)\n",
    "print (np.mean(score))"
   ]
  },
  {
   "cell_type": "code",
   "execution_count": 12,
   "metadata": {},
   "outputs": [
    {
     "name": "stdout",
     "output_type": "stream",
     "text": [
      "0.26091825308 0.73908174692\n"
     ]
    }
   ],
   "source": [
    "from sklearn.metrics import accuracy_score\n",
    "y_pred = knn.predict(x_test_scale)\n",
    "mse = mean_squared_error(y_pred, y_test)\n",
    "\n",
    "print (mse ,accuracy_score(y_test, y_pred))"
   ]
  },
  {
   "cell_type": "code",
   "execution_count": 13,
   "metadata": {},
   "outputs": [
    {
     "name": "stdout",
     "output_type": "stream",
     "text": [
      "0.798742138365 0.556266846361 0.655809334657\n"
     ]
    }
   ],
   "source": [
    "from sklearn.model_selection import cross_val_predict\n",
    "from sklearn.metrics import precision_score, recall_score, f1_score\n",
    "y_train_pred = cross_val_predict(knn, x_train_scale, y_train, cv = 10)\n",
    "precision = precision_score(y_train, y_train_pred)\n",
    "recall = recall_score(y_train, y_train_pred)\n",
    "f1 = f1_score(y_train, y_train_pred)\n",
    "print (precision, recall, f1)"
   ]
  },
  {
   "cell_type": "code",
   "execution_count": 14,
   "metadata": {},
   "outputs": [
    {
     "data": {
      "text/plain": [
       "(0.83216000000000001, 0.82792086599477421)"
      ]
     },
     "execution_count": 14,
     "metadata": {},
     "output_type": "execute_result"
    }
   ],
   "source": [
    "from sklearn.linear_model import LogisticRegression\n",
    "lr = LogisticRegression(C = 100)\n",
    "lr.fit(x_train_scale, y_train)\n",
    "lr.score(x_train_scale, y_train), lr.score(x_test_scale, y_test)"
   ]
  },
  {
   "cell_type": "code",
   "execution_count": 15,
   "metadata": {},
   "outputs": [
    {
     "name": "stdout",
     "output_type": "stream",
     "text": [
      "0.58816       0.598730869728       1e-05\n",
      "0.64208       0.652482269504       0.0001\n",
      "0.68672       0.690556177678       0.001\n",
      "0.73248       0.738708473311       0.01\n",
      "0.80416       0.812616648003       0.1\n",
      "0.82656       0.827920865995       1\n",
      "0.82656       0.827920865995       1.0\n",
      "0.83152       0.828667413214       10\n",
      "0.83216       0.827920865995       100\n"
     ]
    }
   ],
   "source": [
    "for C in [0.00001,0.0001,0.001,0.01,0.1,1,1.0,10,100]:\n",
    "    lr = LogisticRegression(C = C)\n",
    "    lr.fit(x_train_scale, y_train)\n",
    "    print (lr.score(x_train_scale, y_train), \"     \", lr.score(x_test_scale, y_test), \"     \", C)"
   ]
  },
  {
   "cell_type": "code",
   "execution_count": 16,
   "metadata": {},
   "outputs": [
    {
     "name": "stdout",
     "output_type": "stream",
     "text": [
      "0.827832913083\n"
     ]
    }
   ],
   "source": [
    "score = cross_val_score(lr, x_train_scale, y_train, cv = 10)\n",
    "print (np.mean(score))"
   ]
  },
  {
   "cell_type": "code",
   "execution_count": 17,
   "metadata": {},
   "outputs": [
    {
     "name": "stdout",
     "output_type": "stream",
     "text": [
      "0.172079134005 0.827920865995\n"
     ]
    }
   ],
   "source": [
    "y_pred = lr.predict(x_test_scale)\n",
    "mse = mean_squared_error(y_pred, y_test)\n",
    "print (mse ,accuracy_score(y_test, y_pred))"
   ]
  },
  {
   "cell_type": "code",
   "execution_count": 18,
   "metadata": {},
   "outputs": [
    {
     "name": "stdout",
     "output_type": "stream",
     "text": [
      "0.833568406206 0.796495956873 0.81461061337\n"
     ]
    }
   ],
   "source": [
    "from sklearn.model_selection import cross_val_predict\n",
    "from sklearn.metrics import precision_score, recall_score, f1_score\n",
    "y_train_pred = cross_val_predict(lr, x_train_scale, y_train, cv = 10)\n",
    "precision = precision_score(y_train, y_train_pred)\n",
    "recall = recall_score(y_train, y_train_pred)\n",
    "f1 = f1_score(y_train, y_train_pred)\n",
    "print (precision, recall, f1)"
   ]
  },
  {
   "cell_type": "code",
   "execution_count": 19,
   "metadata": {},
   "outputs": [
    {
     "name": "stdout",
     "output_type": "stream",
     "text": [
      "0.177304964539 0.822695035461\n"
     ]
    }
   ],
   "source": [
    "from sklearn.linear_model import SGDClassifier\n",
    "sgd = SGDClassifier(alpha = 0.001, n_iter = 10)\n",
    "sgd.fit(x_train_scale, y_train)\n",
    "sgd.score(x_train_scale, y_train),sgd.score(x_test_scale, y_test)\n",
    "y_pred = sgd.predict(x_test_scale)\n",
    "mse = mean_squared_error(y_pred, y_test)\n",
    "print (mse ,accuracy_score(y_test, y_pred))#sgd_result = sgd.predict(first_preprocess_test)\n",
    "#dict_sgd = {'customer_id': test_set['customer_id'], 'deposit': sgd_result}\n",
    "#to_pd_sgd = pd.DataFrame(dict_sgd)\n",
    "#to_pd_sgd.to_csv(r\"C:\\Users\\ACER\\Desktop\\Terragon recruitment\\submissions\\sgd_submission1.csv\")"
   ]
  },
  {
   "cell_type": "code",
   "execution_count": null,
   "metadata": {},
   "outputs": [],
   "source": [
    "for i in [0.00001,0.0001,0.001,0.01,0.1,1,10,100]:\n",
    "    for k in [3,5,10,20]:\n",
    "        sgd = SGDClassifier(alpha = i, n_iter = k, penalty = 'L1')\n",
    "        sgd.fit(x_train_scale, y_train)\n",
    "        y_pred = sgd.predict(x_test_scale)\n",
    "        mse = mean_squared_error(y_pred, y_test)\n",
    "        print (i, k, mse ,accuracy_score(y_test, y_pred))"
   ]
  },
  {
   "cell_type": "code",
   "execution_count": 21,
   "metadata": {},
   "outputs": [
    {
     "name": "stdout",
     "output_type": "stream",
     "text": [
      "0.474946695096 0.300202156334 0.367877786953\n"
     ]
    }
   ],
   "source": [
    "from sklearn.model_selection import cross_val_predict\n",
    "confusion_value, precision, recall, f1 = np.array((2,2)), 0, 0, 0\n",
    "y_train_predict = cross_val_predict(sgd, x_train_scale, y_train, cv = 10)\n",
    "from sklearn.metrics import confusion_matrix\n",
    "confusion_value = confusion_matrix(y_train, y_train_predict)\n",
    "from sklearn.metrics import precision_score, recall_score, f1_score\n",
    "precision = precision_score(y_train, y_train_predict)\n",
    "recall = recall_score(y_train, y_train_predict)\n",
    "f1 = f1_score(y_train, y_train_predict)\n",
    "print (precision, recall, f1)"
   ]
  },
  {
   "cell_type": "code",
   "execution_count": 22,
   "metadata": {},
   "outputs": [
    {
     "name": "stdout",
     "output_type": "stream",
     "text": [
      "0.225830533781 0.774169466219\n"
     ]
    }
   ],
   "source": [
    "from sklearn.tree import DecisionTreeClassifier\n",
    "dtc = DecisionTreeClassifier(max_depth = 4)\n",
    "dtc.fit(x_train_scale, y_train)\n",
    "dtc.score(x_train_scale, y_train),dtc.score(x_test_scale, y_test)\n",
    "y_pred = dtc.predict(x_test_scale)\n",
    "mse = mean_squared_error(y_pred, y_test)\n",
    "print (mse ,accuracy_score(y_test, y_pred))#dtc_result = dtc.predict(first_preprocess_test)\n",
    "#dict_dtc = {'customer_id': test_set['customer_id'], 'deposit': dtc_result}\n",
    "#to_pd_dtc = pd.DataFrame(dict_dtc)\n",
    "#to_pd_dtc.to_csv(r\"C:\\Users\\ACER\\Desktop\\Terragon recruitment\\submissions\\dtc_submission1.csv\")"
   ]
  },
  {
   "cell_type": "code",
   "execution_count": 23,
   "metadata": {},
   "outputs": [
    {
     "name": "stdout",
     "output_type": "stream",
     "text": [
      "2 0.287793952968 0.712206047032\n",
      "4 0.225830533781 0.774169466219\n",
      "6 0.212392683837 0.787607316163\n",
      "8 0.237775289287 0.762224710713\n",
      "10 0.238148562897 0.761851437103\n",
      "12 0.249720044793 0.750279955207\n",
      "14 0.26017170586 0.73982829414\n",
      "16 0.264277715566 0.735722284434\n"
     ]
    }
   ],
   "source": [
    "for i in [2,4,6,8,10,12,14,16]:\n",
    "    dtc = DecisionTreeClassifier(max_depth = i)\n",
    "    dtc.fit(x_train_scale, y_train)\n",
    "    y_pred = dtc.predict(x_test_scale)\n",
    "    mse = mean_squared_error(y_pred, y_test)\n",
    "    print (i, mse ,accuracy_score(y_test, y_pred))"
   ]
  },
  {
   "cell_type": "code",
   "execution_count": 24,
   "metadata": {},
   "outputs": [
    {
     "name": "stdout",
     "output_type": "stream",
     "text": [
      "0.791268758527 0.78167115903 0.786440677966\n"
     ]
    }
   ],
   "source": [
    "from sklearn.model_selection import cross_val_predict\n",
    "confusion_value, precision, recall, f1 = np.array((2,2)), 0, 0, 0\n",
    "y_train_predict = cross_val_predict(dtc, x_train_scale, y_train, cv = 10)\n",
    "from sklearn.metrics import confusion_matrix\n",
    "confusion_value = confusion_matrix(y_train, y_train_predict)\n",
    "from sklearn.metrics import precision_score, recall_score, f1_score\n",
    "precision = precision_score(y_train, y_train_predict)\n",
    "recall = recall_score(y_train, y_train_predict)\n",
    "f1 = f1_score(y_train, y_train_predict)\n",
    "print (precision, recall, f1)"
   ]
  },
  {
   "cell_type": "code",
   "execution_count": 25,
   "metadata": {},
   "outputs": [
    {
     "name": "stdout",
     "output_type": "stream",
     "text": [
      "0.186263531168 0.813736468832\n"
     ]
    }
   ],
   "source": [
    "from sklearn.ensemble import RandomForestClassifier\n",
    "rand = RandomForestClassifier()\n",
    "rand.fit(x_train_scale, y_train)\n",
    "rand.score(x_train_scale, y_train),rand.score(x_test_scale, y_test)\n",
    "y_pred = rand.predict(x_test_scale)\n",
    "mse = mean_squared_error(y_pred, y_test)\n",
    "print (mse ,accuracy_score(y_test, y_pred))#rand_result = rand.predict(first_preprocess_test)\n",
    "#dict_rand = {'customer_id': test_set['customer_id'], 'deposit': rand_result}\n",
    "#to_pd_rand = pd.DataFrame(dict_rand)\n",
    "#to_pd_dtc.to_csv(r\"C:\\Users\\ACER\\Desktop\\Terragon recruitment\\submissions\\rand_submission1.csv\")"
   ]
  },
  {
   "cell_type": "code",
   "execution_count": 26,
   "metadata": {},
   "outputs": [
    {
     "name": "stdout",
     "output_type": "stream",
     "text": [
      "0.167226577081 0.832773422919\n"
     ]
    }
   ],
   "source": [
    "rand = RandomForestClassifier(max_depth = 8, n_estimators = 50)\n",
    "rand.fit(x_train_scale, y_train)\n",
    "y_pred = rand.predict(x_test_scale)\n",
    "mse = mean_squared_error(y_pred, y_test)\n",
    "print (mse ,accuracy_score(y_test, y_pred))"
   ]
  },
  {
   "cell_type": "code",
   "execution_count": 27,
   "metadata": {},
   "outputs": [
    {
     "name": "stdout",
     "output_type": "stream",
     "text": [
      "0.812439884578 0.853773584906 0.8325940529\n"
     ]
    }
   ],
   "source": [
    "from sklearn.model_selection import cross_val_predict\n",
    "confusion_value, precision, recall, f1 = np.array((2,2)), 0, 0, 0\n",
    "y_train_predict = cross_val_predict(rand, x_train_scale, y_train, cv = 10)\n",
    "from sklearn.metrics import confusion_matrix\n",
    "confusion_value = confusion_matrix(y_train, y_train_predict)\n",
    "from sklearn.metrics import precision_score, recall_score, f1_score\n",
    "precision = precision_score(y_train, y_train_predict)\n",
    "recall = recall_score(y_train, y_train_predict)\n",
    "f1 = f1_score(y_train, y_train_predict)\n",
    "print (precision, recall, f1)"
   ]
  },
  {
   "cell_type": "code",
   "execution_count": 28,
   "metadata": {},
   "outputs": [
    {
     "name": "stdout",
     "output_type": "stream",
     "text": [
      "0.850690556178 0.149309443822\n"
     ]
    }
   ],
   "source": [
    "from sklearn.ensemble import GradientBoostingClassifier\n",
    "gbrt = GradientBoostingClassifier(random_state = 1, max_depth = 4, learning_rate = 0.1)\n",
    "gbrt.fit(x_train_scale, y_train)\n",
    "gbrt.score(x_train_scale, y_train),gbrt.score(x_test_scale, y_test)\n",
    "y_pred = gbrt.predict(x_test_scale)\n",
    "mse = mean_squared_error(y_pred, y_test)\n",
    "print (accuracy_score(y_test, y_pred), mse)\n",
    "#gbrt_result = gbrt.predict(first_preprocess_test)\n",
    "#dict_gbrt = {'customer_id': test_set['customer_id'], 'deposit': gbrt_result}\n",
    "#to_pd_gbrt = pd.DataFrame(dict_gbrt)\n",
    "#to_pd_gbrt.to_csv(r\"C:\\Users\\ACER\\Desktop\\Terragon recruitment\\submissions\\gbrt_submission1.csv\")"
   ]
  },
  {
   "cell_type": "code",
   "execution_count": 29,
   "metadata": {},
   "outputs": [
    {
     "name": "stdout",
     "output_type": "stream",
     "text": [
      "0.830759330759 0.869946091644 0.849901250823\n"
     ]
    }
   ],
   "source": [
    "from sklearn.model_selection import cross_val_predict\n",
    "confusion_value, precision, recall, f1 = np.array((2,2)), 0, 0, 0\n",
    "y_train_predict = cross_val_predict(gbrt, x_train_scale, y_train, cv = 10)\n",
    "from sklearn.metrics import confusion_matrix\n",
    "confusion_value = confusion_matrix(y_train, y_train_predict)\n",
    "from sklearn.metrics import precision_score, recall_score, f1_score\n",
    "precision = precision_score(y_train, y_train_predict)\n",
    "recall = recall_score(y_train, y_train_predict)\n",
    "f1 = f1_score(y_train, y_train_predict)\n",
    "print (precision, recall, f1)"
   ]
  },
  {
   "cell_type": "code",
   "execution_count": 30,
   "metadata": {},
   "outputs": [],
   "source": [
    "check_test = pd.get_dummies(test_set, columns = ['job', 'marital', 'education','default', 'housing','loan', 'contact','month','poutcome'])"
   ]
  },
  {
   "cell_type": "code",
   "execution_count": 31,
   "metadata": {},
   "outputs": [],
   "source": [
    "preprocess_test = check_test\n",
    "first_preprocess_test =preprocess_test.drop('customer_id', axis = 1)"
   ]
  },
  {
   "cell_type": "code",
   "execution_count": 32,
   "metadata": {},
   "outputs": [
    {
     "data": {
      "text/plain": [
       "array([[-0.26097789, -0.46829201, -0.9018059 , ..., -0.21990181,\n",
       "        -0.3363934 ,  0.59648841],\n",
       "       [-0.85485552,  0.07397407, -1.01886977, ..., -0.21990181,\n",
       "        -0.3363934 , -1.67647851],\n",
       "       [ 1.43581533, -0.40877054, -0.55061431, ..., -0.21990181,\n",
       "        -0.3363934 ,  0.59648841],\n",
       "       ..., \n",
       "       [-1.02453484, -0.14840979,  0.85415205, ..., -0.21990181,\n",
       "        -0.3363934 , -1.67647851],\n",
       "       [ 1.43581533, -0.67314808, -1.25299749, ..., -0.21990181,\n",
       "         2.97270994, -1.67647851],\n",
       "       [-0.6851762 , -0.2831547 , -0.19942272, ...,  4.5474841 ,\n",
       "        -0.3363934 , -1.67647851]])"
      ]
     },
     "execution_count": 32,
     "metadata": {},
     "output_type": "execute_result"
    }
   ],
   "source": [
    "first_preprocess_scale = scale.fit_transform(first_preprocess_test)\n",
    "first_preprocess_scaled = std_scale.fit_transform(first_preprocess_scale)\n",
    "first_preprocess_scaled"
   ]
  },
  {
   "cell_type": "code",
   "execution_count": 33,
   "metadata": {},
   "outputs": [],
   "source": [
    "lr_result =lr.predict(first_preprocess_scaled)\n",
    "knn_result = knn.predict(first_preprocess_scaled)\n",
    "dtc_result = dtc.predict(first_preprocess_scaled)\n",
    "gbrt_result = gbrt.predict(first_preprocess_scaled)\n",
    "sgd_result = sgd.predict(first_preprocess_scaled)\n",
    "rand_result = rand.predict(first_preprocess_scaled)\n"
   ]
  },
  {
   "cell_type": "code",
   "execution_count": 35,
   "metadata": {},
   "outputs": [
    {
     "name": "stdout",
     "output_type": "stream",
     "text": [
      "0.0001 0.464725643897 0.535274356103\n",
      "0.001 0.464725643897 0.535274356103\n",
      "0.01 0.414706980216 0.585293019784\n",
      "0.1 0.28555431131 0.71444568869\n",
      "1 0.201194475551 0.798805524449\n",
      "10 0.157521463233 0.842478536767\n",
      "100 0.153415453527 0.846584546473\n",
      "1000 0.163120567376 0.836879432624\n"
     ]
    }
   ],
   "source": [
    "from sklearn.svm import SVC\n",
    "for c in [0.0001,0.001,0.01,0.1,1,10,100,1000]:\n",
    "    svm_clf = SVC(C = c)\n",
    "    svm_clf.fit(x_train_scale, y_train)\n",
    "    y_pred = svm_clf.predict(x_test_scale)\n",
    "    mse = mean_squared_error(y_pred, y_test)\n",
    "    print (c, mse, accuracy_score(y_test, y_pred))"
   ]
  },
  {
   "cell_type": "code",
   "execution_count": 36,
   "metadata": {},
   "outputs": [
    {
     "name": "stdout",
     "output_type": "stream",
     "text": [
      "0.153415453527 0.846584546473\n"
     ]
    }
   ],
   "source": [
    "from sklearn.ensemble import VotingClassifier\n",
    "from sklearn.svm import SVC\n",
    "svm_clf = SVC(C = 100, probability = True)\n",
    "svm_clf.fit(x_train_scale, y_train)\n",
    "y_pred = svm_clf.predict(x_test_scale)\n",
    "mse = mean_squared_error(y_pred, y_test)\n",
    "print (mse, accuracy_score(y_test, y_pred))"
   ]
  },
  {
   "cell_type": "code",
   "execution_count": 37,
   "metadata": {},
   "outputs": [
    {
     "name": "stdout",
     "output_type": "stream",
     "text": [
      "0.830754033586 0.850067385445 0.840299750208\n"
     ]
    }
   ],
   "source": [
    "from sklearn.model_selection import cross_val_predict\n",
    "confusion_value, precision, recall, f1 = np.array((2,2)), 0, 0, 0\n",
    "y_train_predict = cross_val_predict(svm_clf, x_train_scale, y_train, cv = 10)\n",
    "from sklearn.metrics import confusion_matrix\n",
    "confusion_value = confusion_matrix(y_train, y_train_predict)\n",
    "from sklearn.metrics import precision_score, recall_score, f1_score\n",
    "precision = precision_score(y_train, y_train_predict)\n",
    "recall = recall_score(y_train, y_train_predict)\n",
    "f1 = f1_score(y_train, y_train_predict)\n",
    "print (precision, recall, f1)"
   ]
  },
  {
   "cell_type": "code",
   "execution_count": 38,
   "metadata": {},
   "outputs": [
    {
     "data": {
      "text/plain": [
       "VotingClassifier(estimators=[('gbrt', GradientBoostingClassifier(criterion='friedman_mse', init=None,\n",
       "              learning_rate=0.1, loss='deviance', max_depth=4,\n",
       "              max_features=None, max_leaf_nodes=None,\n",
       "              min_impurity_split=1e-07, min_samples_leaf=1,\n",
       "              min_samples_split=2, min...',\n",
       "  max_iter=-1, probability=True, random_state=None, shrinking=True,\n",
       "  tol=0.001, verbose=False))],\n",
       "         n_jobs=1, voting='soft', weights=None)"
      ]
     },
     "execution_count": 38,
     "metadata": {},
     "output_type": "execute_result"
    }
   ],
   "source": [
    "voting_clf = VotingClassifier(estimators = [('gbrt',gbrt),('lr', lr), ('rand', rand), ('svc', svm_clf)], voting = 'soft')\n",
    "voting_clf.fit(x_train_scale, y_train)"
   ]
  },
  {
   "cell_type": "code",
   "execution_count": 39,
   "metadata": {},
   "outputs": [
    {
     "name": "stdout",
     "output_type": "stream",
     "text": [
      "LogisticRegression 0.827920865995\n",
      "GradientBoostingClassifier 0.850690556178\n",
      "RandomForestClassifier 0.836506159015\n",
      "SVC 0.846584546473\n",
      "VotingClassifier 0.849944008959\n"
     ]
    }
   ],
   "source": [
    "from sklearn.metrics import accuracy_score\n",
    "for clf in (lr, gbrt, rand, svm_clf, voting_clf):\n",
    "    clf.fit(x_train_scale, y_train)\n",
    "    y_pred = clf.predict(x_test_scale)\n",
    "    print (clf.__class__.__name__, accuracy_score(y_test, y_pred))"
   ]
  },
  {
   "cell_type": "code",
   "execution_count": 40,
   "metadata": {},
   "outputs": [
    {
     "name": "stdout",
     "output_type": "stream",
     "text": [
      "0.153415453527 0.831280328481\n"
     ]
    }
   ],
   "source": [
    "from sklearn.ensemble import BaggingClassifier\n",
    "bag_clf = BaggingClassifier(dtc, n_estimators = 2000, max_samples = 400, bootstrap = True,\n",
    "                           n_jobs = -1)\n",
    "bag_clf.fit(x_train_scale, y_train)\n",
    "y_pred = bag_clf.predict(x_test_scale)\n",
    "print (mse, accuracy_score(y_test, y_pred))"
   ]
  },
  {
   "cell_type": "code",
   "execution_count": 41,
   "metadata": {},
   "outputs": [
    {
     "name": "stdout",
     "output_type": "stream",
     "text": [
      "0.811326757875 0.859164420485 0.834560628375\n"
     ]
    }
   ],
   "source": [
    "from sklearn.model_selection import cross_val_predict\n",
    "confusion_value, precision, recall, f1 = np.array((2,2)), 0, 0, 0\n",
    "y_train_predict = cross_val_predict(bag_clf, x_train_scale, y_train, cv = 10)\n",
    "from sklearn.metrics import confusion_matrix\n",
    "confusion_value = confusion_matrix(y_train, y_train_predict)\n",
    "from sklearn.metrics import precision_score, recall_score, f1_score\n",
    "precision = precision_score(y_train, y_train_predict)\n",
    "recall = recall_score(y_train, y_train_predict)\n",
    "f1 = f1_score(y_train, y_train_predict)\n",
    "print (precision, recall, f1)"
   ]
  },
  {
   "cell_type": "code",
   "execution_count": 42,
   "metadata": {},
   "outputs": [],
   "source": [
    "bagging_result = bag_clf.predict(first_preprocess_scaled)\n",
    "dict_bagging = {'customer_id': test_set['customer_id'], 'deposit': bagging_result}\n",
    "to_pd_bagging = pd.DataFrame(dict_bagging)\n",
    "to_pd_bagging.to_csv(r\"C:\\Users\\ACER\\Desktop\\Terragon recruitment\\submissions\\special\\bagging_modify_final.csv\")"
   ]
  },
  {
   "cell_type": "code",
   "execution_count": 43,
   "metadata": {},
   "outputs": [
    {
     "name": "stdout",
     "output_type": "stream",
     "text": [
      "0.153415453527 0.832773422919\n"
     ]
    }
   ],
   "source": [
    "#  pasting\n",
    "paste_clf = BaggingClassifier(dtc, n_estimators = 2000, max_samples = 400, bootstrap = False,\n",
    "                           n_jobs = -1)\n",
    "paste_clf.fit(x_train_scale, y_train)\n",
    "y_pred = paste_clf.predict(x_test_scale)\n",
    "print (mse, accuracy_score(y_test, y_pred))"
   ]
  },
  {
   "cell_type": "code",
   "execution_count": 44,
   "metadata": {},
   "outputs": [
    {
     "name": "stdout",
     "output_type": "stream",
     "text": [
      "0.809856915739 0.858153638814 0.833306069033\n"
     ]
    }
   ],
   "source": [
    "from sklearn.model_selection import cross_val_predict\n",
    "confusion_value, precision, recall, f1 = np.array((2,2)), 0, 0, 0\n",
    "y_train_predict = cross_val_predict(paste_clf, x_train_scale, y_train, cv = 10)\n",
    "from sklearn.metrics import confusion_matrix\n",
    "confusion_value = confusion_matrix(y_train, y_train_predict)\n",
    "from sklearn.metrics import precision_score, recall_score, f1_score\n",
    "precision = precision_score(y_train, y_train_predict)\n",
    "recall = recall_score(y_train, y_train_predict)\n",
    "f1 = f1_score(y_train, y_train_predict)\n",
    "print (precision, recall, f1)"
   ]
  },
  {
   "cell_type": "code",
   "execution_count": 45,
   "metadata": {},
   "outputs": [],
   "source": [
    "paste_result = paste_clf.predict(first_preprocess_scaled)\n",
    "dict_paste = {'customer_id': test_set['customer_id'], 'deposit': paste_result}\n",
    "to_pd_paste = pd.DataFrame(dict_paste)\n",
    "to_pd_paste.to_csv(r\"C:\\Users\\ACER\\Desktop\\Terragon recruitment\\submissions\\special\\paste_modify_final.csv\")"
   ]
  },
  {
   "cell_type": "code",
   "execution_count": 46,
   "metadata": {},
   "outputs": [
    {
     "data": {
      "text/plain": [
       "0.85887999999999998"
      ]
     },
     "execution_count": 46,
     "metadata": {},
     "output_type": "execute_result"
    }
   ],
   "source": [
    "bag_clf_oob = BaggingClassifier(dtc, n_estimators = 2000, bootstrap = True,\n",
    "                               n_jobs = -1, oob_score = True)\n",
    "bag_clf_oob.fit(x_train_scale, y_train)\n",
    "bag_clf_oob.oob_score_"
   ]
  },
  {
   "cell_type": "code",
   "execution_count": 47,
   "metadata": {},
   "outputs": [
    {
     "data": {
      "text/plain": [
       "0.82605449794699515"
      ]
     },
     "execution_count": 47,
     "metadata": {},
     "output_type": "execute_result"
    }
   ],
   "source": [
    "y_pred = bag_clf_oob.predict(x_test_scale)\n",
    "accuracy_score(y_test, y_pred)"
   ]
  },
  {
   "cell_type": "code",
   "execution_count": 48,
   "metadata": {},
   "outputs": [],
   "source": [
    "bag_oob_result = bag_clf_oob.predict(first_preprocess_scaled)\n",
    "dict_bag_clf_oob = {'customer_id': test_set['customer_id'], 'deposit': bag_oob_result}\n",
    "to_pd_clf_oob = pd.DataFrame(dict_bag_clf_oob)\n",
    "to_pd_clf_oob.to_csv(r\"C:\\Users\\ACER\\Desktop\\Terragon recruitment\\submissions\\special\\bag_clf_oob_modify_final.csv\")"
   ]
  },
  {
   "cell_type": "code",
   "execution_count": 51,
   "metadata": {},
   "outputs": [
    {
     "name": "stdout",
     "output_type": "stream",
     "text": [
      "[[ 0.96678711  0.03321289]\n",
      " [ 0.19387087  0.80612913]\n",
      " [ 0.9909286   0.0090714 ]\n",
      " ..., \n",
      " [ 0.06437816  0.93562184]\n",
      " [ 0.95698163  0.04301837]\n",
      " [ 0.88135098  0.11864902]]\n"
     ]
    }
   ],
   "source": [
    "x = bag_clf_oob.oob_decision_function_\n",
    "print (x)"
   ]
  },
  {
   "cell_type": "code",
   "execution_count": 119,
   "metadata": {},
   "outputs": [
    {
     "data": {
      "text/plain": [
       "ExtraTreesClassifier(bootstrap=False, class_weight=None, criterion='gini',\n",
       "           max_depth=12, max_features='auto', max_leaf_nodes=None,\n",
       "           min_impurity_split=1e-07, min_samples_leaf=1,\n",
       "           min_samples_split=2, min_weight_fraction_leaf=0.0,\n",
       "           n_estimators=40, n_jobs=1, oob_score=False, random_state=None,\n",
       "           verbose=0, warm_start=False)"
      ]
     },
     "execution_count": 119,
     "metadata": {},
     "output_type": "execute_result"
    }
   ],
   "source": [
    "from sklearn.ensemble import ExtraTreesClassifier\n",
    "extra_class = ExtraTreesClassifier(max_depth = 12, n_estimators = 40)\n",
    "extra_class.fit(x_train_scale, y_train)"
   ]
  },
  {
   "cell_type": "code",
   "execution_count": 66,
   "metadata": {},
   "outputs": [
    {
     "name": "stdout",
     "output_type": "stream",
     "text": [
      "5 0.207913400523 0.792086599477\n",
      "10 0.216125419933 0.783874580067\n",
      "15 0.190369540873 0.809630459127\n",
      "20 0.20194102277 0.79805897723\n",
      "30 0.193729003359 0.806270996641\n",
      "40 0.178424785368 0.821575214632\n",
      "50 0.182530795073 0.817469204927\n",
      "60 0.193729003359 0.806270996641\n",
      "70 0.187010078387 0.812989921613\n",
      "80 0.190369540873 0.809630459127\n",
      "90 0.19335572975 0.80664427025\n",
      "100 0.191862635312 0.808137364688\n"
     ]
    }
   ],
   "source": [
    "for i in [5,10,15,20,30,40,50,60,70,80,90,100]:\n",
    "    extra_class = ExtraTreesClassifier(max_depth = 12,n_estimators = i)\n",
    "    extra_class.fit(x_train_scale, y_train)\n",
    "    y_pred = extra_class.predict(x_test_scale)\n",
    "    mse = mean_squared_error(y_pred, y_test)\n",
    "    print (i, mse ,accuracy_score(y_test, y_pred))"
   ]
  },
  {
   "cell_type": "code",
   "execution_count": 72,
   "metadata": {},
   "outputs": [
    {
     "name": "stdout",
     "output_type": "stream",
     "text": [
      "0.80128030802\n"
     ]
    }
   ],
   "source": [
    "from sklearn.cross_validation import cross_val_score\n",
    "score = cross_val_score(extra_class, x_train_scale, y_train, cv = 10)\n",
    "print (np.sum(score)/10)"
   ]
  },
  {
   "cell_type": "code",
   "execution_count": 68,
   "metadata": {},
   "outputs": [
    {
     "name": "stdout",
     "output_type": "stream",
     "text": [
      "0.816660603856 0.756401617251 0.785376945951\n"
     ]
    }
   ],
   "source": [
    "from sklearn.model_selection import cross_val_predict\n",
    "confusion_value, precision, recall, f1 = np.array((2,2)), 0, 0, 0\n",
    "y_train_predict = cross_val_predict(extra_class, x_train_scale, y_train, cv = 10)\n",
    "from sklearn.metrics import confusion_matrix\n",
    "confusion_value = confusion_matrix(y_train, y_train_predict)\n",
    "from sklearn.metrics import precision_score, recall_score, f1_score\n",
    "precision = precision_score(y_train, y_train_predict)\n",
    "recall = recall_score(y_train, y_train_predict)\n",
    "f1 = f1_score(y_train, y_train_predict)\n",
    "print (precision, recall, f1)"
   ]
  },
  {
   "cell_type": "code",
   "execution_count": 84,
   "metadata": {},
   "outputs": [],
   "source": [
    "# viewing feature importance using random forest\n",
    "import matplotlib.pyplot as plt\n",
    "list_score = []\n",
    "list_name = []\n",
    "for name, score in zip(x.keys(), rand.feature_importances_):\n",
    "    list_score.append(score)\n",
    "    list_name.append(name)\n",
    "    \n"
   ]
  },
  {
   "cell_type": "code",
   "execution_count": 93,
   "metadata": {},
   "outputs": [
    {
     "data": {
      "image/png": "[encoded data removed]",
      "text/plain": [
       "<matplotlib.figure.Figure at 0x1c1a8860>"
      ]
     },
     "metadata": {},
     "output_type": "display_data"
    }
   ],
   "source": [
    "plt.hist(list_score, bins = 40, histtype = 'bar', color = 'b')\n",
    "plt.xticks(range(len(list_name)), (list_name), rotation =90)\n",
    "plt.show()"
   ]
  },
  {
   "cell_type": "code",
   "execution_count": null,
   "metadata": {},
   "outputs": [],
   "source": [
    "for i, j in zip(list_score, list_name):\n",
    "    print (i, j)"
   ]
  },
  {
   "cell_type": "code",
   "execution_count": 107,
   "metadata": {},
   "outputs": [
    {
     "data": {
      "text/plain": [
       "AdaBoostClassifier(algorithm='SAMME.R',\n",
       "          base_estimator=DecisionTreeClassifier(class_weight=None, criterion='gini', max_depth=16,\n",
       "            max_features=None, max_leaf_nodes=None,\n",
       "            min_impurity_split=1e-07, min_samples_leaf=1,\n",
       "            min_samples_split=2, min_weight_fraction_leaf=0.0,\n",
       "            presort=False, random_state=None, splitter='best'),\n",
       "          learning_rate=0.7, n_estimators=120, random_state=None)"
      ]
     },
     "execution_count": 107,
     "metadata": {},
     "output_type": "execute_result"
    }
   ],
   "source": [
    "from sklearn.ensemble import AdaBoostClassifier\n",
    "ada_clf = AdaBoostClassifier(dtc, n_estimators = 120, algorithm = \"SAMME.R\",\n",
    "                            learning_rate = 0.7)\n",
    "ada_clf.fit(x_train_scale, y_train)"
   ]
  },
  {
   "cell_type": "code",
   "execution_count": 108,
   "metadata": {},
   "outputs": [
    {
     "name": "stdout",
     "output_type": "stream",
     "text": [
      "0.824656659214 0.869946091644 0.846696179702\n"
     ]
    }
   ],
   "source": [
    "from sklearn.model_selection import cross_val_predict\n",
    "confusion_value, precision, recall, f1 = np.array((2,2)), 0, 0, 0\n",
    "y_train_predict = cross_val_predict(ada_clf, x_train_scale, y_train, cv = 10)\n",
    "from sklearn.metrics import confusion_matrix\n",
    "confusion_value = confusion_matrix(y_train, y_train_predict)\n",
    "from sklearn.metrics import precision_score, recall_score, f1_score\n",
    "precision = precision_score(y_train, y_train_predict)\n",
    "recall = recall_score(y_train, y_train_predict)\n",
    "f1 = f1_score(y_train, y_train_predict)\n",
    "print (precision, recall, f1)"
   ]
  },
  {
   "cell_type": "code",
   "execution_count": null,
   "metadata": {},
   "outputs": [],
   "source": [
    "for i in [0.001,0.01,0.1,0.2,0.3,0.4,0.5,0.6,0.7,0.8,0.9,1.0]:\n",
    "    for j in [10,20,30,40,50,60,70,80,90,100,110,120,130]:\n",
    "        ada_clf = AdaBoostClassifier(dtc, n_estimators = j, algorithm = \"SAMME.R\",\n",
    "                                learning_rate = i)\n",
    "        ada_clf.fit(x_train_scale, y_train)\n",
    "        y_pred = ada_clf.predict(x_test_scale)\n",
    "        mse = mean_squared_error(y_pred, y_test)\n",
    "        print (i, j , mse ,accuracy_score(y_test, y_pred))"
   ]
  },
  {
   "cell_type": "code",
   "execution_count": 111,
   "metadata": {},
   "outputs": [
    {
     "data": {
      "text/plain": [
       "GradientBoostingClassifier(criterion='friedman_mse', init=None,\n",
       "              learning_rate=0.5, loss='deviance', max_depth=4,\n",
       "              max_features=None, max_leaf_nodes=None,\n",
       "              min_impurity_split=1e-07, min_samples_leaf=1,\n",
       "              min_samples_split=2, min_weight_fraction_leaf=0.0,\n",
       "              n_estimators=50, presort='auto', random_state=None,\n",
       "              subsample=1.0, verbose=0, warm_start=False)"
      ]
     },
     "execution_count": 111,
     "metadata": {},
     "output_type": "execute_result"
    }
   ],
   "source": [
    "advance_gbrt = GradientBoostingClassifier(max_depth = 4, learning_rate = 0.5, n_estimators = 50)\n",
    "advance_gbrt.fit(x_train_scale, y_train)"
   ]
  },
  {
   "cell_type": "code",
   "execution_count": 112,
   "metadata": {},
   "outputs": [
    {
     "name": "stdout",
     "output_type": "stream",
     "text": [
      "0.833716726914 0.854784366577 0.844119114956\n"
     ]
    }
   ],
   "source": [
    "from sklearn.model_selection import cross_val_predict\n",
    "confusion_value, precision, recall, f1 = np.array((2,2)), 0, 0, 0\n",
    "y_train_predict = cross_val_predict(advance_gbrt, x_train_scale, y_train, cv = 10)\n",
    "from sklearn.metrics import confusion_matrix\n",
    "confusion_value = confusion_matrix(y_train, y_train_predict)\n",
    "from sklearn.metrics import precision_score, recall_score, f1_score\n",
    "precision = precision_score(y_train, y_train_predict)\n",
    "recall = recall_score(y_train, y_train_predict)\n",
    "f1 = f1_score(y_train, y_train_predict)\n",
    "print (precision, recall, f1)"
   ]
  },
  {
   "cell_type": "code",
   "execution_count": null,
   "metadata": {},
   "outputs": [],
   "source": [
    "for i in [0.001,0.01,0.1,0.2,0.3,0.4,0.5,0.6,0.7,0.8,0.9,1.0]:\n",
    "    for j in [10,20,30,40,50,60,70,80,90,100,110,120,130]:\n",
    "        advance_gbrt = GradientBoostingClassifier(max_depth = 4, learning_rate = i, n_estimators = j)\n",
    "        advance_gbrt.fit(x_train_scale, y_train)\n",
    "        y_pred = ada_clf.predict(x_test_scale)\n",
    "        mse = mean_squared_error(y_pred, y_test)\n",
    "        print (i, j , mse ,accuracy_score(y_test, y_pred))\n",
    "        "
   ]
  },
  {
   "cell_type": "code",
   "execution_count": 113,
   "metadata": {},
   "outputs": [],
   "source": [
    "advance_gbrt.fit(x_train_scale, y_train)\n",
    "errors = [mean_squared_error(y_test, y_pred) for y_pred in advance_gbrt.staged_predict(x_test_scale)]\n",
    "best_n_estimators = np.argmin(errors)"
   ]
  },
  {
   "cell_type": "code",
   "execution_count": 114,
   "metadata": {},
   "outputs": [
    {
     "name": "stdout",
     "output_type": "stream",
     "text": [
      "0.187756625607 0.812243374393\n"
     ]
    }
   ],
   "source": [
    "gbrt_best = GradientBoostingClassifier(max_depth = 4, n_estimators = best_n_estimators)\n",
    "gbrt_best.fit(x_train_scale, y_train)\n",
    "y_pred = gbrt_best.predict(x_test_scale)\n",
    "mse = mean_squared_error(y_pred, y_test)\n",
    "print (mse ,accuracy_score(y_test, y_pred))"
   ]
  },
  {
   "cell_type": "code",
   "execution_count": 123,
   "metadata": {},
   "outputs": [
    {
     "name": "stdout",
     "output_type": "stream",
     "text": [
      "0.156028368794 0.843971631206\n"
     ]
    }
   ],
   "source": [
    "voting_finals = VotingClassifier(estimators = [('gbrt',gbrt),('lr', lr), ('rand', rand), ('svc', svm_clf), ('ada_clf', ada_clf)], voting = 'soft')\n",
    "voting_finals.fit(x_train_scale, y_train)"
   ]
  },
  {
   "cell_type": "code",
   "execution_count": 124,
   "metadata": {},
   "outputs": [
    {
     "name": "stdout",
     "output_type": "stream",
     "text": [
      "LogisticRegression 0.827920865995\n",
      "GradientBoostingClassifier 0.850690556178\n",
      "RandomForestClassifier 0.833893243748\n",
      "SVC 0.846584546473\n",
      "AdaBoostClassifier 0.831280328481\n",
      "VotingClassifier 0.852930197835\n"
     ]
    }
   ],
   "source": [
    "from sklearn.metrics import accuracy_score\n",
    "for clf in (lr, gbrt, rand, svm_clf,ada_clf,voting_finals):\n",
    "    clf.fit(x_train_scale, y_train)\n",
    "    y_pred = clf.predict(x_test_scale)\n",
    "    print (clf.__class__.__name__, accuracy_score(y_test, y_pred))"
   ]
  },
  {
   "cell_type": "code",
   "execution_count": 125,
   "metadata": {},
   "outputs": [
    {
     "data": {
      "text/plain": [
       "VotingClassifier(estimators=[('gbrt', GradientBoostingClassifier(criterion='friedman_mse', init=None,\n",
       "              learning_rate=0.1, loss='deviance', max_depth=4,\n",
       "              max_features=None, max_leaf_nodes=None,\n",
       "              min_impurity_split=1e-07, min_samples_leaf=1,\n",
       "              min_samples_split=2, min...om_state=None, splitter='best'),\n",
       "          learning_rate=0.7, n_estimators=120, random_state=None))],\n",
       "         n_jobs=1, voting='hard', weights=None)"
      ]
     },
     "execution_count": 125,
     "metadata": {},
     "output_type": "execute_result"
    }
   ],
   "source": [
    "voting_finals_hard = VotingClassifier(estimators = [('gbrt',gbrt),('lr', lr), ('rand', rand), ('svc', svm_clf), ('ada_clf', ada_clf)], voting = 'hard')\n",
    "voting_finals_hard.fit(x_train_scale, y_train)"
   ]
  },
  {
   "cell_type": "code",
   "execution_count": 126,
   "metadata": {},
   "outputs": [
    {
     "name": "stdout",
     "output_type": "stream",
     "text": [
      "LogisticRegression 0.827920865995\n",
      "GradientBoostingClassifier 0.850690556178\n",
      "RandomForestClassifier 0.830907054871\n",
      "SVC 0.846584546473\n",
      "AdaBoostClassifier 0.817842478537\n",
      "VotingClassifier 0.846211272863\n"
     ]
    }
   ],
   "source": [
    "from sklearn.metrics import accuracy_score\n",
    "for clf in (lr, gbrt, rand, svm_clf,ada_clf,voting_finals_hard):\n",
    "    clf.fit(x_train_scale, y_train)\n",
    "    y_pred = clf.predict(x_test_scale)\n",
    "    print (clf.__class__.__name__, accuracy_score(y_test, y_pred))"
   ]
  },
  {
   "cell_type": "code",
   "execution_count": 127,
   "metadata": {},
   "outputs": [
    {
     "name": "stdout",
     "output_type": "stream",
     "text": [
      "0.833440102498 0.876684636119 0.854515599343\n"
     ]
    }
   ],
   "source": [
    "from sklearn.model_selection import cross_val_predict\n",
    "confusion_value, precision, recall, f1 = np.array((2,2)), 0, 0, 0\n",
    "y_train_predict = cross_val_predict(voting_finals, x_train_scale, y_train, cv = 10)\n",
    "from sklearn.metrics import confusion_matrix\n",
    "confusion_value = confusion_matrix(y_train, y_train_predict)\n",
    "from sklearn.metrics import precision_score, recall_score, f1_score\n",
    "precision = precision_score(y_train, y_train_predict)\n",
    "recall = recall_score(y_train, y_train_predict)\n",
    "f1 = f1_score(y_train, y_train_predict)\n",
    "print (precision, recall, f1)"
   ]
  },
  {
   "cell_type": "code",
   "execution_count": 128,
   "metadata": {},
   "outputs": [
    {
     "name": "stdout",
     "output_type": "stream",
     "text": [
      "0.834467120181 0.867924528302 0.850867052023\n"
     ]
    }
   ],
   "source": [
    "from sklearn.model_selection import cross_val_predict\n",
    "confusion_value, precision, recall, f1 = np.array((2,2)), 0, 0, 0\n",
    "y_train_predict = cross_val_predict(voting_finals_hard, x_train_scale, y_train, cv = 10)\n",
    "from sklearn.metrics import confusion_matrix\n",
    "confusion_value = confusion_matrix(y_train, y_train_predict)\n",
    "from sklearn.metrics import precision_score, recall_score, f1_score\n",
    "precision = precision_score(y_train, y_train_predict)\n",
    "recall = recall_score(y_train, y_train_predict)\n",
    "f1 = f1_score(y_train, y_train_predict)\n",
    "print (precision, recall, f1)"
   ]
  },
  {
   "cell_type": "code",
   "execution_count": 129,
   "metadata": {},
   "outputs": [],
   "source": [
    "extra_voting_final =voting_finals.predict(first_preprocess_scaled)\n",
    "dict_voting_final = {'customer_id': test_set['customer_id'], 'deposit': extra_voting_final}\n",
    "to_pd_voting_final = pd.DataFrame(dict_voting_final)\n",
    "to_pd_voting_final.to_csv(r\"C:\\Users\\ACER\\Desktop\\Terragon recruitment\\submissions\\special\\extra_voting_final_final.csv\")"
   ]
  },
  {
   "cell_type": "code",
   "execution_count": 131,
   "metadata": {},
   "outputs": [],
   "source": [
    "extra_voting_final_hard =voting_finals_hard.predict(first_preprocess_scaled)\n",
    "dict_voting_finals_hard = {'customer_id': test_set['customer_id'], 'deposit': extra_voting_final_hard}\n",
    "to_pd_voting_finals_hard = pd.DataFrame(dict_voting_finals_hard)\n",
    "to_pd_voting_finals_hard.to_csv(r\"C:\\Users\\ACER\\Desktop\\Terragon recruitment\\submissions\\special\\more_voting_finals_hard_final.csv\")"
   ]
  },
  {
   "cell_type": "code",
   "execution_count": 115,
   "metadata": {},
   "outputs": [],
   "source": [
    "extra_more_gbrt =gbrt_best.predict(first_preprocess_scaled)\n",
    "dict_more_gbrt = {'customer_id': test_set['customer_id'], 'deposit': extra_more_gbrt}\n",
    "to_pd_more_gbrt = pd.DataFrame(dict_more_gbrt)\n",
    "to_pd_more_gbrt.to_csv(r\"C:\\Users\\ACER\\Desktop\\Terragon recruitment\\submissions\\special\\more_gbrt_modify_final.csv\")"
   ]
  },
  {
   "cell_type": "code",
   "execution_count": 116,
   "metadata": {},
   "outputs": [],
   "source": [
    "extra_advance_gbrt =advance_gbrt.predict(first_preprocess_scaled)\n",
    "dict_advance_gbrt = {'customer_id': test_set['customer_id'], 'deposit': extra_advance_gbrt}\n",
    "to_pd_advance_gbrt = pd.DataFrame(dict_advance_gbrt)\n",
    "to_pd_advance_gbrt.to_csv(r\"C:\\Users\\ACER\\Desktop\\Terragon recruitment\\submissions\\special\\advance_gbrt_modify_final.csv\")"
   ]
  },
  {
   "cell_type": "code",
   "execution_count": 117,
   "metadata": {},
   "outputs": [],
   "source": [
    "extra_ada_clf =ada_clf.predict(first_preprocess_scaled)\n",
    "dict_ada_clf = {'customer_id': test_set['customer_id'], 'deposit': extra_ada_clf}\n",
    "to_pd_ada_clf = pd.DataFrame(dict_ada_clf)\n",
    "to_pd_ada_clf.to_csv(r\"C:\\Users\\ACER\\Desktop\\Terragon recruitment\\submissions\\special\\ada_ensemble_modify_final.csv\")"
   ]
  },
  {
   "cell_type": "code",
   "execution_count": 120,
   "metadata": {},
   "outputs": [],
   "source": [
    "extra_result = extra_class.predict(first_preprocess_scaled)\n",
    "dict_extra = {'customer_id': test_set['customer_id'], 'deposit': extra_result}\n",
    "to_pd_extra = pd.DataFrame(dict_extra)\n",
    "to_pd_extra.to_csv(r\"C:\\Users\\ACER\\Desktop\\Terragon recruitment\\submissions\\special\\extra_modify_final.csv\")"
   ]
  },
  {
   "cell_type": "code",
   "execution_count": 121,
   "metadata": {},
   "outputs": [],
   "source": [
    "voting_result = voting_clf.predict(first_preprocess_scaled)\n",
    "dict_voting = {'customer_id': test_set['customer_id'], 'deposit': voting_result}\n",
    "to_pd_voting = pd.DataFrame(dict_voting)\n",
    "to_pd_voting.to_csv(r\"C:\\Users\\ACER\\Desktop\\Terragon recruitment\\submissions\\special\\voting_modify_final.csv\")"
   ]
  },
  {
   "cell_type": "code",
   "execution_count": 122,
   "metadata": {},
   "outputs": [],
   "source": [
    "dict_lr = {'customer_id': test_set['customer_id'], 'deposit': lr_result}\n",
    "dict_knn = {'customer_id': test_set['customer_id'], 'deposit': knn_result}\n",
    "dict_dtc = {'customer_id': test_set['customer_id'], 'deposit': dtc_result}\n",
    "dict_gbrt = {'customer_id': test_set['customer_id'], 'deposit': gbrt_result}\n",
    "dict_sgd = {'customer_id': test_set['customer_id'], 'deposit': sgd_result}\n",
    "dict_rand = {'customer_id': test_set['customer_id'], 'deposit': rand_result}\n",
    "\n",
    "\n",
    "to_pd_lr = pd.DataFrame(dict_lr)\n",
    "to_pd_knn = pd.DataFrame(dict_knn)\n",
    "to_pd_dtc = pd.DataFrame(dict_dtc)\n",
    "to_pd_gbrt = pd.DataFrame(dict_gbrt)\n",
    "to_pd_sgd = pd.DataFrame(dict_sgd)\n",
    "to_pd_rand = pd.DataFrame(dict_rand)\n",
    "\n",
    "to_pd_lr.to_csv(r\"C:\\Users\\ACER\\Desktop\\Terragon recruitment\\submissions\\special\\logistic_modify_final.csv\")\n",
    "to_pd_knn.to_csv(r\"C:\\Users\\ACER\\Desktop\\Terragon recruitment\\submissions\\special\\knearest_modify_final.csv\")\n",
    "to_pd_dtc.to_csv(r\"C:\\Users\\ACER\\Desktop\\Terragon recruitment\\submissions\\special\\dtc_modify_final.csv\")\n",
    "to_pd_gbrt.to_csv(r\"C:\\Users\\ACER\\Desktop\\Terragon recruitment\\submissions\\special\\gbrt_modify_final.csv\")\n",
    "to_pd_sgd.to_csv(r\"C:\\Users\\ACER\\Desktop\\Terragon recruitment\\submissions\\special\\sgd_modify_final.csv\")\n",
    "to_pd_rand.to_csv(r\"C:\\Users\\ACER\\Desktop\\Terragon recruitment\\submissions\\special\\rand_modify_final.csv\")"
   ]
  },
  {
   "cell_type": "code",
   "execution_count": null,
   "metadata": {},
   "outputs": [],
   "source": []
  }
 ],
 "metadata": {
  "kernelspec": {
   "display_name": "Python 3",
   "language": "python",
   "name": "python3"
  },
  "language_info": {
   "codemirror_mode": {
    "name": "ipython",
    "version": 3
   },
   "file_extension": ".py",
   "mimetype": "text/x-python",
   "name": "python",
   "nbconvert_exporter": "python",
   "pygments_lexer": "ipython3",
   "version": "3.6.1"
  }
 },
 "nbformat": 4,
 "nbformat_minor": 2
}
