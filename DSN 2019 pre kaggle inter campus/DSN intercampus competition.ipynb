{
 "cells": [
  {
   "cell_type": "code",
   "execution_count": 1,
   "metadata": {
    "collapsed": true
   },
   "outputs": [],
   "source": [
    "import pandas as pd\n",
    "import numpy as np\n",
    "import warnings\n",
    "warnings.filterwarnings('ignore')\n",
    "import sklearn as sk\n",
    "import matplotlib.pyplot as plt\n",
    "import seaborn as sns"
   ]
  },
  {
   "cell_type": "code",
   "execution_count": 2,
   "metadata": {},
   "outputs": [
    {
     "ename": "ModuleNotFoundError",
     "evalue": "No module named 'catboost'",
     "output_type": "error",
     "traceback": [
      "\u001b[1;31m---------------------------------------------------------------------------\u001b[0m",
      "\u001b[1;31mModuleNotFoundError\u001b[0m                       Traceback (most recent call last)",
      "\u001b[1;32m<ipython-input-2-7da22628b62e>\u001b[0m in \u001b[0;36m<module>\u001b[1;34m()\u001b[0m\n\u001b[1;32m----> 1\u001b[1;33m \u001b[1;32mimport\u001b[0m \u001b[0mcatboost\u001b[0m\u001b[1;33m\u001b[0m\u001b[0m\n\u001b[0m",
      "\u001b[1;31mModuleNotFoundError\u001b[0m: No module named 'catboost'"
     ]
    }
   ],
   "source": [
    "import catboost"
   ]
  },
  {
   "cell_type": "code",
   "execution_count": 529,
   "metadata": {
    "collapsed": true
   },
   "outputs": [],
   "source": [
    "import os, sys"
   ]
  },
  {
   "cell_type": "code",
   "execution_count": 530,
   "metadata": {},
   "outputs": [
    {
     "data": {
      "text/plain": [
       "['.ipynb_checkpoints',\n",
       " 'ANN model.ipynb',\n",
       " 'Data.xlsx',\n",
       " 'Dayo ANN',\n",
       " 'DSN intercampus competition.ipynb',\n",
       " 'dtc1.csv',\n",
       " 'fingerprint authentication using R305 module in python.ipynb',\n",
       " 'gbrt.csv',\n",
       " 'gbrt_k.csv',\n",
       " 'intercampusai2019.zip',\n",
       " 'journal.pdf',\n",
       " 'Mercy',\n",
       " 'rand.csv',\n",
       " 'rand_update.csv',\n",
       " 'rank.csv',\n",
       " 'rank_k.csv',\n",
       " 'Recommendation Engine',\n",
       " 'sample_submission2.csv',\n",
       " 'test.csv',\n",
       " 'train.csv',\n",
       " 'xgb.csv',\n",
       " 'xgb_fortify.csv',\n",
       " 'xgb_renew.csv',\n",
       " 'xgb_update.csv',\n",
       " 'xgb_update1.csv',\n",
       " 'xgb_update2.csv',\n",
       " 'xgb_update3.csv']"
      ]
     },
     "execution_count": 530,
     "metadata": {},
     "output_type": "execute_result"
    }
   ],
   "source": [
    "os.listdir()"
   ]
  },
  {
   "cell_type": "code",
   "execution_count": 531,
   "metadata": {},
   "outputs": [
    {
     "data": {
      "text/html": [
       "<div>\n",
       "<style>\n",
       "    .dataframe thead tr:only-child th {\n",
       "        text-align: right;\n",
       "    }\n",
       "\n",
       "    .dataframe thead th {\n",
       "        text-align: left;\n",
       "    }\n",
       "\n",
       "    .dataframe tbody tr th {\n",
       "        vertical-align: top;\n",
       "    }\n",
       "</style>\n",
       "<table border=\"1\" class=\"dataframe\">\n",
       "  <thead>\n",
       "    <tr style=\"text-align: right;\">\n",
       "      <th></th>\n",
       "      <th>EmployeeNo</th>\n",
       "      <th>Promoted_or_Not</th>\n",
       "    </tr>\n",
       "  </thead>\n",
       "  <tbody>\n",
       "    <tr>\n",
       "      <th>0</th>\n",
       "      <td>YAK/S/34385</td>\n",
       "      <td>1</td>\n",
       "    </tr>\n",
       "    <tr>\n",
       "      <th>1</th>\n",
       "      <td>YAK/S/27825</td>\n",
       "      <td>1</td>\n",
       "    </tr>\n",
       "    <tr>\n",
       "      <th>2</th>\n",
       "      <td>YAK/S/23870</td>\n",
       "      <td>1</td>\n",
       "    </tr>\n",
       "    <tr>\n",
       "      <th>3</th>\n",
       "      <td>YAK/S/54784</td>\n",
       "      <td>1</td>\n",
       "    </tr>\n",
       "    <tr>\n",
       "      <th>4</th>\n",
       "      <td>YAK/S/25058</td>\n",
       "      <td>1</td>\n",
       "    </tr>\n",
       "  </tbody>\n",
       "</table>\n",
       "</div>"
      ],
      "text/plain": [
       "    EmployeeNo  Promoted_or_Not\n",
       "0  YAK/S/34385                1\n",
       "1  YAK/S/27825                1\n",
       "2  YAK/S/23870                1\n",
       "3  YAK/S/54784                1\n",
       "4  YAK/S/25058                1"
      ]
     },
     "execution_count": 531,
     "metadata": {},
     "output_type": "execute_result"
    }
   ],
   "source": [
    "sample_submission = pd.read_csv('sample_submission2.csv')\n",
    "sample_submission.head()"
   ]
  },
  {
   "cell_type": "code",
   "execution_count": 532,
   "metadata": {
    "collapsed": true
   },
   "outputs": [],
   "source": [
    "train_data = pd.read_csv('train.csv')\n",
    "test_data = pd.read_csv('test.csv')"
   ]
  },
  {
   "cell_type": "code",
   "execution_count": 533,
   "metadata": {},
   "outputs": [
    {
     "data": {
      "text/html": [
       "<div>\n",
       "<style>\n",
       "    .dataframe thead tr:only-child th {\n",
       "        text-align: right;\n",
       "    }\n",
       "\n",
       "    .dataframe thead th {\n",
       "        text-align: left;\n",
       "    }\n",
       "\n",
       "    .dataframe tbody tr th {\n",
       "        vertical-align: top;\n",
       "    }\n",
       "</style>\n",
       "<table border=\"1\" class=\"dataframe\">\n",
       "  <thead>\n",
       "    <tr style=\"text-align: right;\">\n",
       "      <th></th>\n",
       "      <th>EmployeeNo</th>\n",
       "      <th>Division</th>\n",
       "      <th>Qualification</th>\n",
       "      <th>Gender</th>\n",
       "      <th>Channel_of_Recruitment</th>\n",
       "      <th>Trainings_Attended</th>\n",
       "      <th>Year_of_birth</th>\n",
       "      <th>Last_performance_score</th>\n",
       "      <th>Year_of_recruitment</th>\n",
       "      <th>Targets_met</th>\n",
       "      <th>Previous_Award</th>\n",
       "      <th>Training_score_average</th>\n",
       "      <th>State_Of_Origin</th>\n",
       "      <th>Foreign_schooled</th>\n",
       "      <th>Marital_Status</th>\n",
       "      <th>Past_Disciplinary_Action</th>\n",
       "      <th>Previous_IntraDepartmental_Movement</th>\n",
       "      <th>No_of_previous_employers</th>\n",
       "      <th>Promoted_or_Not</th>\n",
       "    </tr>\n",
       "  </thead>\n",
       "  <tbody>\n",
       "    <tr>\n",
       "      <th>0</th>\n",
       "      <td>YAK/S/00001</td>\n",
       "      <td>Commercial Sales and Marketing</td>\n",
       "      <td>MSc, MBA and PhD</td>\n",
       "      <td>Female</td>\n",
       "      <td>Direct Internal process</td>\n",
       "      <td>2</td>\n",
       "      <td>1986</td>\n",
       "      <td>12.5</td>\n",
       "      <td>2011</td>\n",
       "      <td>1</td>\n",
       "      <td>0</td>\n",
       "      <td>41</td>\n",
       "      <td>ANAMBRA</td>\n",
       "      <td>No</td>\n",
       "      <td>Married</td>\n",
       "      <td>No</td>\n",
       "      <td>No</td>\n",
       "      <td>0</td>\n",
       "      <td>0</td>\n",
       "    </tr>\n",
       "    <tr>\n",
       "      <th>1</th>\n",
       "      <td>YAK/S/00002</td>\n",
       "      <td>Customer Support and Field Operations</td>\n",
       "      <td>First Degree or HND</td>\n",
       "      <td>Male</td>\n",
       "      <td>Agency and others</td>\n",
       "      <td>2</td>\n",
       "      <td>1991</td>\n",
       "      <td>12.5</td>\n",
       "      <td>2015</td>\n",
       "      <td>0</td>\n",
       "      <td>0</td>\n",
       "      <td>52</td>\n",
       "      <td>ANAMBRA</td>\n",
       "      <td>Yes</td>\n",
       "      <td>Married</td>\n",
       "      <td>No</td>\n",
       "      <td>No</td>\n",
       "      <td>0</td>\n",
       "      <td>0</td>\n",
       "    </tr>\n",
       "    <tr>\n",
       "      <th>2</th>\n",
       "      <td>YAK/S/00003</td>\n",
       "      <td>Commercial Sales and Marketing</td>\n",
       "      <td>First Degree or HND</td>\n",
       "      <td>Male</td>\n",
       "      <td>Direct Internal process</td>\n",
       "      <td>2</td>\n",
       "      <td>1987</td>\n",
       "      <td>7.5</td>\n",
       "      <td>2012</td>\n",
       "      <td>0</td>\n",
       "      <td>0</td>\n",
       "      <td>42</td>\n",
       "      <td>KATSINA</td>\n",
       "      <td>Yes</td>\n",
       "      <td>Married</td>\n",
       "      <td>No</td>\n",
       "      <td>No</td>\n",
       "      <td>0</td>\n",
       "      <td>0</td>\n",
       "    </tr>\n",
       "    <tr>\n",
       "      <th>3</th>\n",
       "      <td>YAK/S/00004</td>\n",
       "      <td>Commercial Sales and Marketing</td>\n",
       "      <td>First Degree or HND</td>\n",
       "      <td>Male</td>\n",
       "      <td>Agency and others</td>\n",
       "      <td>3</td>\n",
       "      <td>1982</td>\n",
       "      <td>2.5</td>\n",
       "      <td>2009</td>\n",
       "      <td>0</td>\n",
       "      <td>0</td>\n",
       "      <td>42</td>\n",
       "      <td>NIGER</td>\n",
       "      <td>Yes</td>\n",
       "      <td>Single</td>\n",
       "      <td>No</td>\n",
       "      <td>No</td>\n",
       "      <td>1</td>\n",
       "      <td>0</td>\n",
       "    </tr>\n",
       "    <tr>\n",
       "      <th>4</th>\n",
       "      <td>YAK/S/00006</td>\n",
       "      <td>Information and Strategy</td>\n",
       "      <td>First Degree or HND</td>\n",
       "      <td>Male</td>\n",
       "      <td>Direct Internal process</td>\n",
       "      <td>3</td>\n",
       "      <td>1990</td>\n",
       "      <td>7.5</td>\n",
       "      <td>2012</td>\n",
       "      <td>0</td>\n",
       "      <td>0</td>\n",
       "      <td>77</td>\n",
       "      <td>AKWA IBOM</td>\n",
       "      <td>Yes</td>\n",
       "      <td>Married</td>\n",
       "      <td>No</td>\n",
       "      <td>No</td>\n",
       "      <td>1</td>\n",
       "      <td>0</td>\n",
       "    </tr>\n",
       "  </tbody>\n",
       "</table>\n",
       "</div>"
      ],
      "text/plain": [
       "    EmployeeNo                               Division        Qualification  \\\n",
       "0  YAK/S/00001         Commercial Sales and Marketing     MSc, MBA and PhD   \n",
       "1  YAK/S/00002  Customer Support and Field Operations  First Degree or HND   \n",
       "2  YAK/S/00003         Commercial Sales and Marketing  First Degree or HND   \n",
       "3  YAK/S/00004         Commercial Sales and Marketing  First Degree or HND   \n",
       "4  YAK/S/00006               Information and Strategy  First Degree or HND   \n",
       "\n",
       "   Gender   Channel_of_Recruitment  Trainings_Attended  Year_of_birth  \\\n",
       "0  Female  Direct Internal process                   2           1986   \n",
       "1    Male        Agency and others                   2           1991   \n",
       "2    Male  Direct Internal process                   2           1987   \n",
       "3    Male        Agency and others                   3           1982   \n",
       "4    Male  Direct Internal process                   3           1990   \n",
       "\n",
       "   Last_performance_score  Year_of_recruitment  Targets_met  Previous_Award  \\\n",
       "0                    12.5                 2011            1               0   \n",
       "1                    12.5                 2015            0               0   \n",
       "2                     7.5                 2012            0               0   \n",
       "3                     2.5                 2009            0               0   \n",
       "4                     7.5                 2012            0               0   \n",
       "\n",
       "   Training_score_average State_Of_Origin Foreign_schooled Marital_Status  \\\n",
       "0                      41         ANAMBRA               No        Married   \n",
       "1                      52         ANAMBRA              Yes        Married   \n",
       "2                      42         KATSINA              Yes        Married   \n",
       "3                      42           NIGER              Yes         Single   \n",
       "4                      77       AKWA IBOM              Yes        Married   \n",
       "\n",
       "  Past_Disciplinary_Action Previous_IntraDepartmental_Movement  \\\n",
       "0                       No                                  No   \n",
       "1                       No                                  No   \n",
       "2                       No                                  No   \n",
       "3                       No                                  No   \n",
       "4                       No                                  No   \n",
       "\n",
       "  No_of_previous_employers  Promoted_or_Not  \n",
       "0                        0                0  \n",
       "1                        0                0  \n",
       "2                        0                0  \n",
       "3                        1                0  \n",
       "4                        1                0  "
      ]
     },
     "execution_count": 533,
     "metadata": {},
     "output_type": "execute_result"
    }
   ],
   "source": [
    "train_data.head()"
   ]
  },
  {
   "cell_type": "code",
   "execution_count": 534,
   "metadata": {},
   "outputs": [
    {
     "name": "stdout",
     "output_type": "stream",
     "text": [
      "<class 'pandas.core.frame.DataFrame'>\n",
      "RangeIndex: 38312 entries, 0 to 38311\n",
      "Data columns (total 19 columns):\n",
      "EmployeeNo                             38312 non-null object\n",
      "Division                               38312 non-null object\n",
      "Qualification                          36633 non-null object\n",
      "Gender                                 38312 non-null object\n",
      "Channel_of_Recruitment                 38312 non-null object\n",
      "Trainings_Attended                     38312 non-null int64\n",
      "Year_of_birth                          38312 non-null int64\n",
      "Last_performance_score                 38312 non-null float64\n",
      "Year_of_recruitment                    38312 non-null int64\n",
      "Targets_met                            38312 non-null int64\n",
      "Previous_Award                         38312 non-null int64\n",
      "Training_score_average                 38312 non-null int64\n",
      "State_Of_Origin                        38312 non-null object\n",
      "Foreign_schooled                       38312 non-null object\n",
      "Marital_Status                         38312 non-null object\n",
      "Past_Disciplinary_Action               38312 non-null object\n",
      "Previous_IntraDepartmental_Movement    38312 non-null object\n",
      "No_of_previous_employers               38312 non-null object\n",
      "Promoted_or_Not                        38312 non-null int64\n",
      "dtypes: float64(1), int64(7), object(11)\n",
      "memory usage: 5.6+ MB\n"
     ]
    }
   ],
   "source": [
    "train_data.info()"
   ]
  },
  {
   "cell_type": "code",
   "execution_count": 535,
   "metadata": {},
   "outputs": [
    {
     "data": {
      "text/html": [
       "<div>\n",
       "<style>\n",
       "    .dataframe thead tr:only-child th {\n",
       "        text-align: right;\n",
       "    }\n",
       "\n",
       "    .dataframe thead th {\n",
       "        text-align: left;\n",
       "    }\n",
       "\n",
       "    .dataframe tbody tr th {\n",
       "        vertical-align: top;\n",
       "    }\n",
       "</style>\n",
       "<table border=\"1\" class=\"dataframe\">\n",
       "  <thead>\n",
       "    <tr style=\"text-align: right;\">\n",
       "      <th></th>\n",
       "      <th>Trainings_Attended</th>\n",
       "      <th>Year_of_birth</th>\n",
       "      <th>Last_performance_score</th>\n",
       "      <th>Year_of_recruitment</th>\n",
       "      <th>Targets_met</th>\n",
       "      <th>Previous_Award</th>\n",
       "      <th>Training_score_average</th>\n",
       "      <th>Promoted_or_Not</th>\n",
       "    </tr>\n",
       "  </thead>\n",
       "  <tbody>\n",
       "    <tr>\n",
       "      <th>count</th>\n",
       "      <td>38312.000000</td>\n",
       "      <td>38312.000000</td>\n",
       "      <td>38312.000000</td>\n",
       "      <td>38312.000000</td>\n",
       "      <td>38312.000000</td>\n",
       "      <td>38312.000000</td>\n",
       "      <td>38312.000000</td>\n",
       "      <td>38312.000000</td>\n",
       "    </tr>\n",
       "    <tr>\n",
       "      <th>mean</th>\n",
       "      <td>2.253680</td>\n",
       "      <td>1986.209334</td>\n",
       "      <td>7.698959</td>\n",
       "      <td>2013.139695</td>\n",
       "      <td>0.352996</td>\n",
       "      <td>0.023152</td>\n",
       "      <td>55.366465</td>\n",
       "      <td>0.084595</td>\n",
       "    </tr>\n",
       "    <tr>\n",
       "      <th>std</th>\n",
       "      <td>0.609443</td>\n",
       "      <td>7.646047</td>\n",
       "      <td>3.744135</td>\n",
       "      <td>4.261451</td>\n",
       "      <td>0.477908</td>\n",
       "      <td>0.150388</td>\n",
       "      <td>13.362741</td>\n",
       "      <td>0.278282</td>\n",
       "    </tr>\n",
       "    <tr>\n",
       "      <th>min</th>\n",
       "      <td>2.000000</td>\n",
       "      <td>1950.000000</td>\n",
       "      <td>0.000000</td>\n",
       "      <td>1982.000000</td>\n",
       "      <td>0.000000</td>\n",
       "      <td>0.000000</td>\n",
       "      <td>31.000000</td>\n",
       "      <td>0.000000</td>\n",
       "    </tr>\n",
       "    <tr>\n",
       "      <th>25%</th>\n",
       "      <td>2.000000</td>\n",
       "      <td>1982.000000</td>\n",
       "      <td>5.000000</td>\n",
       "      <td>2012.000000</td>\n",
       "      <td>0.000000</td>\n",
       "      <td>0.000000</td>\n",
       "      <td>43.000000</td>\n",
       "      <td>0.000000</td>\n",
       "    </tr>\n",
       "    <tr>\n",
       "      <th>50%</th>\n",
       "      <td>2.000000</td>\n",
       "      <td>1988.000000</td>\n",
       "      <td>7.500000</td>\n",
       "      <td>2014.000000</td>\n",
       "      <td>0.000000</td>\n",
       "      <td>0.000000</td>\n",
       "      <td>52.000000</td>\n",
       "      <td>0.000000</td>\n",
       "    </tr>\n",
       "    <tr>\n",
       "      <th>75%</th>\n",
       "      <td>2.000000</td>\n",
       "      <td>1992.000000</td>\n",
       "      <td>10.000000</td>\n",
       "      <td>2016.000000</td>\n",
       "      <td>1.000000</td>\n",
       "      <td>0.000000</td>\n",
       "      <td>68.000000</td>\n",
       "      <td>0.000000</td>\n",
       "    </tr>\n",
       "    <tr>\n",
       "      <th>max</th>\n",
       "      <td>11.000000</td>\n",
       "      <td>2001.000000</td>\n",
       "      <td>12.500000</td>\n",
       "      <td>2018.000000</td>\n",
       "      <td>1.000000</td>\n",
       "      <td>1.000000</td>\n",
       "      <td>91.000000</td>\n",
       "      <td>1.000000</td>\n",
       "    </tr>\n",
       "  </tbody>\n",
       "</table>\n",
       "</div>"
      ],
      "text/plain": [
       "       Trainings_Attended  Year_of_birth  Last_performance_score  \\\n",
       "count        38312.000000   38312.000000            38312.000000   \n",
       "mean             2.253680    1986.209334                7.698959   \n",
       "std              0.609443       7.646047                3.744135   \n",
       "min              2.000000    1950.000000                0.000000   \n",
       "25%              2.000000    1982.000000                5.000000   \n",
       "50%              2.000000    1988.000000                7.500000   \n",
       "75%              2.000000    1992.000000               10.000000   \n",
       "max             11.000000    2001.000000               12.500000   \n",
       "\n",
       "       Year_of_recruitment   Targets_met  Previous_Award  \\\n",
       "count         38312.000000  38312.000000    38312.000000   \n",
       "mean           2013.139695      0.352996        0.023152   \n",
       "std               4.261451      0.477908        0.150388   \n",
       "min            1982.000000      0.000000        0.000000   \n",
       "25%            2012.000000      0.000000        0.000000   \n",
       "50%            2014.000000      0.000000        0.000000   \n",
       "75%            2016.000000      1.000000        0.000000   \n",
       "max            2018.000000      1.000000        1.000000   \n",
       "\n",
       "       Training_score_average  Promoted_or_Not  \n",
       "count            38312.000000     38312.000000  \n",
       "mean                55.366465         0.084595  \n",
       "std                 13.362741         0.278282  \n",
       "min                 31.000000         0.000000  \n",
       "25%                 43.000000         0.000000  \n",
       "50%                 52.000000         0.000000  \n",
       "75%                 68.000000         0.000000  \n",
       "max                 91.000000         1.000000  "
      ]
     },
     "execution_count": 535,
     "metadata": {},
     "output_type": "execute_result"
    }
   ],
   "source": [
    "train_data.describe()"
   ]
  },
  {
   "cell_type": "markdown",
   "metadata": {},
   "source": [
    "# visualization of Data Distribution"
   ]
  },
  {
   "cell_type": "code",
   "execution_count": 536,
   "metadata": {},
   "outputs": [
    {
     "data": {
      "image/png": "[encoded data removed]",
      "text/plain": [
       "<matplotlib.figure.Figure at 0x1dc80f38668>"
      ]
     },
     "metadata": {},
     "output_type": "display_data"
    }
   ],
   "source": [
    "def value_count(data,key):\n",
    "    data = data[key].value_counts()\n",
    "    plt.bar(data.keys(), data.values.astype(int))\n",
    "    plt.title('visualization of '+ key + ' column')\n",
    "    plt.show()\n",
    "    return\n",
    "value_count(train_data, 'Promoted_or_Not')"
   ]
  },
  {
   "cell_type": "code",
   "execution_count": 537,
   "metadata": {},
   "outputs": [
    {
     "data": {
      "image/png": "[encoded data removed]",
      "text/plain": [
       "<matplotlib.figure.Figure at 0x1dc80465908>"
      ]
     },
     "metadata": {},
     "output_type": "display_data"
    }
   ],
   "source": [
    "sns.distplot(train_data['Training_score_average'])\n",
    "plt.show()"
   ]
  },
  {
   "cell_type": "code",
   "execution_count": 538,
   "metadata": {},
   "outputs": [
    {
     "data": {
      "image/png": "[encoded data removed]",
      "text/plain": [
       "<matplotlib.figure.Figure at 0x1dc80b35dd8>"
      ]
     },
     "metadata": {},
     "output_type": "display_data"
    }
   ],
   "source": [
    "from scipy import stats\n",
    "sns.distplot(train_data['Training_score_average'], kde=False, fit=stats.gamma)\n",
    "plt.show()"
   ]
  },
  {
   "cell_type": "code",
   "execution_count": 539,
   "metadata": {},
   "outputs": [
    {
     "data": {
      "image/png": "[encoded data removed]",
      "text/plain": [
       "<matplotlib.figure.Figure at 0x1dc80f2ed30>"
      ]
     },
     "metadata": {},
     "output_type": "display_data"
    }
   ],
   "source": [
    "value_count(train_data, 'Previous_Award')"
   ]
  },
  {
   "cell_type": "code",
   "execution_count": 540,
   "metadata": {},
   "outputs": [
    {
     "data": {
      "image/png": "[encoded data removed]",
      "text/plain": [
       "<matplotlib.figure.Figure at 0x1dc80da0ba8>"
      ]
     },
     "metadata": {},
     "output_type": "display_data"
    }
   ],
   "source": [
    "value_count(train_data, 'Targets_met')"
   ]
  },
  {
   "cell_type": "code",
   "execution_count": 541,
   "metadata": {},
   "outputs": [
    {
     "data": {
      "image/png": "[encoded data removed]",
      "text/plain": [
       "<matplotlib.figure.Figure at 0x1dc802775f8>"
      ]
     },
     "metadata": {},
     "output_type": "display_data"
    }
   ],
   "source": [
    "value_count(train_data, 'Last_performance_score')"
   ]
  },
  {
   "cell_type": "code",
   "execution_count": 542,
   "metadata": {},
   "outputs": [
    {
     "data": {
      "image/png": "[encoded data removed]",
      "text/plain": [
       "<matplotlib.figure.Figure at 0x1dc81fa76d8>"
      ]
     },
     "metadata": {},
     "output_type": "display_data"
    }
   ],
   "source": [
    "value_count(train_data, 'Trainings_Attended')"
   ]
  },
  {
   "cell_type": "code",
   "execution_count": 543,
   "metadata": {},
   "outputs": [
    {
     "data": {
      "image/png": "[encoded data removed]",
      "text/plain": [
       "<matplotlib.figure.Figure at 0x1dc823365c0>"
      ]
     },
     "metadata": {},
     "output_type": "display_data"
    }
   ],
   "source": [
    "sns.distplot(train_data['Year_of_recruitment'])\n",
    "plt.show()"
   ]
  },
  {
   "cell_type": "code",
   "execution_count": 544,
   "metadata": {},
   "outputs": [
    {
     "data": {
      "image/png": "[encoded data removed]",
      "text/plain": [
       "<matplotlib.figure.Figure at 0x1dc81e1a9b0>"
      ]
     },
     "metadata": {},
     "output_type": "display_data"
    }
   ],
   "source": [
    "sns.distplot(train_data['Year_of_birth'])\n",
    "plt.show()"
   ]
  },
  {
   "cell_type": "code",
   "execution_count": 545,
   "metadata": {},
   "outputs": [
    {
     "data": {
      "image/png": "[encoded data removed]",
      "text/plain": [
       "<matplotlib.figure.Figure at 0x1dcd06d5668>"
      ]
     },
     "metadata": {},
     "output_type": "display_data"
    }
   ],
   "source": [
    "from scipy import stats\n",
    "sns.distplot(train_data['Year_of_birth'], kde=False, fit=stats.gamma)\n",
    "plt.show()"
   ]
  },
  {
   "cell_type": "raw",
   "metadata": {},
   "source": [
    "sns.pairplot(train_data)\n",
    "plt.show()"
   ]
  },
  {
   "cell_type": "raw",
   "metadata": {},
   "source": [
    "from statsmodels.graphics.mosaicplot import mosaic\n",
    "plt.rcParams['font.size'] = 16.0\n",
    "mosaic(train_data, ['Previous_Award', 'Promoted_or_Not']);\n",
    "plt.show()"
   ]
  },
  {
   "cell_type": "raw",
   "metadata": {},
   "source": [
    "def stacked_plot(data,data1):  \n",
    "    #Set general plot properties\n",
    "    sns.set_style(\"white\")\n",
    "    sns.set_context({\"figure.figsize\": (24, 10)})\n",
    "\n",
    "    #Plot 1 - background - \"total\" (top) series\n",
    "    data = data.value_counts()\n",
    "    sns.barplot(x = data.keys(), y = data.values, color = \"red\")\n",
    "\n",
    "    #Plot 2 - overlay - \"bottom\" series\n",
    "    data1 = data1.value_counts()\n",
    "    bottom_plot = sns.barplot(x = data1.keys(), y = data1.values, color = \"#0000A3\")\n",
    "\n",
    "\n",
    "    topbar = plt.Rectangle((0,0),1,1,fc=\"red\", edgecolor = 'none')\n",
    "    bottombar = plt.Rectangle((0,0),1,1,fc='#0000A3',  edgecolor = 'none')\n",
    "    l = plt.legend([bottombar, topbar], ['Bottom Bar', 'Top Bar'], loc=1, ncol = 2, prop={'size':16})\n",
    "    l.draw_frame(False)\n",
    "\n",
    "    #Optional code - Make plot look nicer\n",
    "    sns.despine(left=True)\n",
    "    bottom_plot.set_ylabel(\"Y-axis label\")\n",
    "    bottom_plot.set_xlabel(\"X-axis label\")\n",
    "\n",
    "    #Set fonts to consistent 16pt size\n",
    "    for item in ([bottom_plot.xaxis.label, bottom_plot.yaxis.label] +\n",
    "                 bottom_plot.get_xticklabels() + bottom_plot.get_yticklabels()):\n",
    "        item.set_fontsize(16)\n",
    "    plt.show()\n",
    "    return\n",
    "\n",
    "stacked_plot(train_data['Promoted_or_Not'],train_data['Trainings_Attended'])"
   ]
  },
  {
   "cell_type": "code",
   "execution_count": 546,
   "metadata": {
    "collapsed": true
   },
   "outputs": [],
   "source": [
    "def report(data, target):\n",
    "    val = data.value_counts()\n",
    "    final_dict = {}\n",
    "    output_data = []\n",
    "    for k in val.keys():\n",
    "        sample = [data == k]\n",
    "        count_zero, count_one = 0,0\n",
    "        for i, j in zip(sample[0], target):\n",
    "            if i == True:\n",
    "                if j == True:\n",
    "                    count_one+= 1\n",
    "                else:\n",
    "                    count_zero+= 1\n",
    "            else:\n",
    "                pass\n",
    "        \n",
    "        final_dict[k] = (count_zero, count_one)\n",
    "    # give prority to the 1's with target\n",
    "    for key in final_dict.keys():\n",
    "        final_dict[key][1]\n",
    "    return final_dict\n",
    "\n",
    "dictionary = report(train_data['Trainings_Attended'], train_data['Promoted_or_Not'])"
   ]
  },
  {
   "cell_type": "code",
   "execution_count": 547,
   "metadata": {},
   "outputs": [
    {
     "data": {
      "text/plain": [
       "{2: (28264, 2717),\n",
       " 3: (5220, 411),\n",
       " 4: (1152, 92),\n",
       " 5: (299, 17),\n",
       " 6: (91, 2),\n",
       " 7: (26, 2),\n",
       " 8: (6, 0),\n",
       " 9: (4, 0),\n",
       " 10: (5, 0),\n",
       " 11: (4, 0)}"
      ]
     },
     "execution_count": 547,
     "metadata": {},
     "output_type": "execute_result"
    }
   ],
   "source": [
    "dictionary"
   ]
  },
  {
   "cell_type": "raw",
   "metadata": {},
   "source": [
    "def appy(k):\n",
    "    if k <= 3:\n",
    "        count = 1\n",
    "    else:\n",
    "        count = 0\n",
    "    return count\n",
    "\n",
    "train_data['Trainings_Attended'] = train_data['Trainings_Attended'].apply(appy)\n",
    "train_data['Trainings_Attended'] = train_data['Trainings_Attended'].astype('int')"
   ]
  },
  {
   "cell_type": "code",
   "execution_count": 548,
   "metadata": {
    "collapsed": true
   },
   "outputs": [],
   "source": [
    "test_data = test_data.drop(['Trainings_Attended'], axis = 1)\n",
    "train_data = train_data.drop(['Trainings_Attended'], axis = 1)"
   ]
  },
  {
   "cell_type": "raw",
   "metadata": {},
   "source": [
    "train_data = pd.get_dummies(train_data,columns = ['Trainings_Attended'])\n",
    "test_data = pd.get_dummies(test_data,columns = ['Trainings_Attended'])"
   ]
  },
  {
   "cell_type": "raw",
   "metadata": {
    "collapsed": true
   },
   "source": [
    "def percent(data,arr,target):\n",
    "    #get percent data\n",
    "    sol = 0\n",
    "    for key in data.keys():\n",
    "        sol+= data[key][1]\n",
    "    \n",
    "    # sort data\n",
    "    sorted(data)\n",
    "\n",
    "    # get keys needed to be encoded\n",
    "    get_keys = []\n",
    "    val = 0\n",
    "    for key in data.keys():\n",
    "        val += data[key][1]/sol\n",
    "        if val >=0.80 and val <= 0.90:\n",
    "            get_keys.append(key)\n",
    "        else:\n",
    "            pass\n",
    "    # encode get_keys\n",
    "    output_array = []\n",
    "    for k,i in zip(arr,target):\n",
    "        if k in get_keys and i == 1:\n",
    "            output_array.append(1)\n",
    "        else:\n",
    "            output_array.append(0)\n",
    "    return output_array\n",
    "\n",
    "#train_data['Trainings_Attended'] = percent(dictionary, train_data['Trainings_Attended'], train_data['Promoted_or_Not'])\n",
    "#test_data['Tranings_Attended'] = test_data['Trainings_Attended'].apply(appy)"
   ]
  },
  {
   "cell_type": "code",
   "execution_count": 549,
   "metadata": {},
   "outputs": [
    {
     "data": {
      "text/plain": [
       "0.08459490499060347"
      ]
     },
     "execution_count": 549,
     "metadata": {},
     "output_type": "execute_result"
    }
   ],
   "source": [
    "train_data['Promoted_or_Not'].sum()/train_data.shape[0]"
   ]
  },
  {
   "cell_type": "code",
   "execution_count": 550,
   "metadata": {},
   "outputs": [
    {
     "data": {
      "text/plain": [
       "Index(['EmployeeNo', 'Division', 'Qualification', 'Gender',\n",
       "       'Channel_of_Recruitment', 'Year_of_birth', 'Last_performance_score',\n",
       "       'Year_of_recruitment', 'Targets_met', 'Previous_Award',\n",
       "       'Training_score_average', 'State_Of_Origin', 'Foreign_schooled',\n",
       "       'Marital_Status', 'Past_Disciplinary_Action',\n",
       "       'Previous_IntraDepartmental_Movement', 'No_of_previous_employers',\n",
       "       'Promoted_or_Not'],\n",
       "      dtype='object')"
      ]
     },
     "execution_count": 550,
     "metadata": {},
     "output_type": "execute_result"
    }
   ],
   "source": [
    "train_data.columns"
   ]
  },
  {
   "cell_type": "markdown",
   "metadata": {},
   "source": [
    "# Year of birth"
   ]
  },
  {
   "cell_type": "code",
   "execution_count": 551,
   "metadata": {
    "scrolled": true
   },
   "outputs": [
    {
     "data": {
      "text/plain": [
       "{1950: (1, 0),\n",
       " 1952: (0, 1),\n",
       " 1955: (1, 0),\n",
       " 1956: (0, 1),\n",
       " 1957: (4, 0),\n",
       " 1958: (3, 0),\n",
       " 1959: (1, 0),\n",
       " 1960: (1, 0),\n",
       " 1961: (139, 8),\n",
       " 1962: (124, 10),\n",
       " 1963: (149, 12),\n",
       " 1964: (164, 4),\n",
       " 1965: (162, 16),\n",
       " 1966: (197, 10),\n",
       " 1967: (180, 15),\n",
       " 1968: (223, 10),\n",
       " 1969: (229, 20),\n",
       " 1970: (237, 19),\n",
       " 1971: (330, 23),\n",
       " 1972: (288, 24),\n",
       " 1973: (367, 30),\n",
       " 1974: (374, 20),\n",
       " 1975: (473, 35),\n",
       " 1976: (515, 36),\n",
       " 1977: (556, 44),\n",
       " 1978: (627, 58),\n",
       " 1979: (735, 62),\n",
       " 1980: (823, 70),\n",
       " 1981: (1084, 78),\n",
       " 1982: (1078, 117),\n",
       " 1983: (1216, 126),\n",
       " 1984: (1374, 131),\n",
       " 1985: (1617, 149),\n",
       " 1986: (1691, 191),\n",
       " 1987: (1959, 198),\n",
       " 1988: (2053, 215),\n",
       " 1989: (2237, 204),\n",
       " 1990: (2295, 211),\n",
       " 1991: (2309, 235),\n",
       " 1992: (2178, 202),\n",
       " 1993: (2000, 217),\n",
       " 1994: (1806, 179),\n",
       " 1995: (1299, 117),\n",
       " 1996: (865, 45),\n",
       " 1997: (543, 53),\n",
       " 1998: (279, 26),\n",
       " 1999: (154, 13),\n",
       " 2000: (62, 4),\n",
       " 2001: (69, 2)}"
      ]
     },
     "execution_count": 551,
     "metadata": {},
     "output_type": "execute_result"
    }
   ],
   "source": [
    "dictionary = report(train_data['Year_of_birth'], train_data['Promoted_or_Not'])\n",
    "dictionary"
   ]
  },
  {
   "cell_type": "raw",
   "metadata": {
    "scrolled": true
   },
   "source": [
    "def bin_year_of_birth(data):\n",
    "    return_list = []\n",
    "    for value in data:\n",
    "        k = np.round(value)\n",
    "        if k <= 1981 and k>=1995:\n",
    "            return_list.append(0)\n",
    "        else:\n",
    "            return_list.append(1)\n",
    "    return np.array(return_list)\n",
    "\n",
    "data = bin_year_of_birth(train_data['Year_of_birth'])\n",
    "#train_data['Year_of_birth'] = data\n",
    "#test_data['Year_of_birth'] = bin_year_of_birth(test_data['Year_of_birth'])\n",
    "#train_data = train_data.drop('Year_of_birth', axis = 1)\n",
    "#test_data = test_data.drop('Year_of_birth', axis = 1)"
   ]
  },
  {
   "cell_type": "code",
   "execution_count": 552,
   "metadata": {
    "collapsed": true
   },
   "outputs": [],
   "source": [
    "def appy_year(key):\n",
    "    if key in [i for i in range(1980, 1996)]:\n",
    "        count = 0\n",
    "    else:\n",
    "        count = 1\n",
    "    return count\n",
    "\n",
    "#train_data['Year_of_recruitment'] = train_data['Year_of_recruitment'].apply(appy_year)\n",
    "#test_data['Year_of_recruitment'] = test_data['Year_of_recruitment'].apply(appy_year)\n",
    "\n",
    "#train_data['Year_of_recruitment'] = train_data['Year_of_recruitment'].astype('int')\n",
    "#test_data['Year_of_recruitment'] = test_data['Year_of_recruitment'].astype('int')\n",
    "\n",
    "#train_data = train_data.drop(['Year_of_recruitment'], axis = 1)\n",
    "#test_data = test_data.drop(['Year_of_recruitment'], axis = 1)\n",
    "\n",
    "train_data['Year_of_birth'] = train_data['Year_of_birth'].apply(appy_year)\n",
    "test_data['Year_of_birth'] = test_data['Year_of_birth'].apply(appy_year)\n"
   ]
  },
  {
   "cell_type": "code",
   "execution_count": 553,
   "metadata": {
    "collapsed": true
   },
   "outputs": [],
   "source": [
    "import seaborn as sns\n",
    "sns.set(style=\"ticks\", color_codes=True)\n"
   ]
  },
  {
   "cell_type": "raw",
   "metadata": {},
   "source": [
    "#sns.distplot(train_data['Year_of_birth'])\n",
    "#plt.show()"
   ]
  },
  {
   "cell_type": "raw",
   "metadata": {
    "collapsed": true
   },
   "source": [
    "import seaborn as sns\n",
    "\n",
    "#sns.catplot(x=\"Year_of_birth\", y=\"Promoted_or_Not\", data=train_data);\n",
    "plt.show()"
   ]
  },
  {
   "cell_type": "raw",
   "metadata": {},
   "source": [
    "#sns.barplot(train_data['Year_of_birth'], hue = train_data['Promoted_or_Not'])\n",
    "sns.lmplot(x=\"Year_of_birth\",y = 'Trainings_Attended', hue=\"Promoted_or_Not\", data=train_data)\n",
    "plt.show()"
   ]
  },
  {
   "cell_type": "raw",
   "metadata": {
    "collapsed": true
   },
   "source": [
    "# giving more priority to  people who attended less than 6 trainings were more promoted\n",
    "def fit(x):\n",
    "    if x >3:\n",
    "        val = 1\n",
    "    else:\n",
    "        val = 0\n",
    "    return val\n",
    "#train_data['Trainings_Attended'] = train_data['Trainings_Attended'].apply(fit)\n",
    "#train_data['Trainings_Attended'].value_counts()"
   ]
  },
  {
   "cell_type": "raw",
   "metadata": {
    "collapsed": true
   },
   "source": [
    "#test_data['Trainings_Attended'] = test_data['Trainings_Attended'].apply(fit)\n",
    "#test_data['Trainings_Attended'].value_counts()"
   ]
  },
  {
   "cell_type": "raw",
   "metadata": {
    "collapsed": true
   },
   "source": [
    "#plt.hist(train_data['Year_of_birth'])\n",
    "#plt.show()"
   ]
  },
  {
   "cell_type": "markdown",
   "metadata": {},
   "source": [
    "# year of recruitment"
   ]
  },
  {
   "cell_type": "code",
   "execution_count": 554,
   "metadata": {},
   "outputs": [
    {
     "data": {
      "image/png": "[encoded data removed]",
      "text/plain": [
       "<matplotlib.figure.Figure at 0x1dc80d77048>"
      ]
     },
     "metadata": {},
     "output_type": "display_data"
    }
   ],
   "source": [
    "sns.distplot(train_data['Year_of_recruitment'])\n",
    "plt.show()"
   ]
  },
  {
   "cell_type": "code",
   "execution_count": 555,
   "metadata": {},
   "outputs": [
    {
     "data": {
      "image/png": "[encoded data removed]",
      "text/plain": [
       "<matplotlib.figure.Figure at 0x1dc80011ac8>"
      ]
     },
     "metadata": {},
     "output_type": "display_data"
    }
   ],
   "source": [
    "data = train_data['Year_of_recruitment'].value_counts()\n",
    "plt.bar(data.keys(), data.values)\n",
    "plt.show()"
   ]
  },
  {
   "cell_type": "code",
   "execution_count": 556,
   "metadata": {
    "scrolled": true
   },
   "outputs": [
    {
     "data": {
      "text/plain": [
       "{1982: (1, 0),\n",
       " 1985: (3, 1),\n",
       " 1986: (7, 0),\n",
       " 1987: (6, 2),\n",
       " 1988: (13, 0),\n",
       " 1989: (11, 0),\n",
       " 1990: (21, 1),\n",
       " 1991: (19, 2),\n",
       " 1992: (19, 1),\n",
       " 1993: (27, 0),\n",
       " 1994: (33, 2),\n",
       " 1995: (51, 0),\n",
       " 1996: (41, 5),\n",
       " 1997: (33, 5),\n",
       " 1998: (51, 2),\n",
       " 1999: (84, 6),\n",
       " 2000: (210, 20),\n",
       " 2001: (250, 19),\n",
       " 2002: (272, 21),\n",
       " 2003: (364, 30),\n",
       " 2004: (389, 33),\n",
       " 2005: (357, 19),\n",
       " 2006: (431, 41),\n",
       " 2007: (523, 47),\n",
       " 2008: (558, 61),\n",
       " 2009: (1366, 131),\n",
       " 2010: (1708, 157),\n",
       " 2011: (1825, 186),\n",
       " 2012: (3594, 315),\n",
       " 2013: (3036, 278),\n",
       " 2014: (3790, 311),\n",
       " 2015: (4361, 396),\n",
       " 2016: (4465, 451),\n",
       " 2017: (4230, 426),\n",
       " 2018: (2922, 272)}"
      ]
     },
     "execution_count": 556,
     "metadata": {},
     "output_type": "execute_result"
    }
   ],
   "source": [
    "dictionary = report(train_data['Year_of_recruitment'], train_data['Promoted_or_Not'])\n",
    "dictionary"
   ]
  },
  {
   "cell_type": "code",
   "execution_count": 557,
   "metadata": {
    "collapsed": true
   },
   "outputs": [],
   "source": [
    "def per(data,arr,target):\n",
    "    #get percent data\n",
    "    sol = 0\n",
    "    for key in data.keys():\n",
    "        sol+= data[key][1]\n",
    "    \n",
    "    # sort data\n",
    "    sorted(data)\n",
    "\n",
    "    # get keys needed to be encoded\n",
    "    get_keys = [2000,2001,2002,2003,2004,2005,2006,2007,2008,2009,2010,2011,2012,2013,2014,2015,2016,2017,2018]\n",
    "    \n",
    "    # encode get_keys\n",
    "    output_array = []\n",
    "    for k,i in zip(arr,target):\n",
    "        if k in get_keys and i == 1:\n",
    "            output_array.append(1)\n",
    "        else:\n",
    "            output_array.append(0)\n",
    "    return output_array\n",
    "\n",
    "#tr = per(dictionary, train_data['Year_of_recruitment'], train_data['Promoted_or_Not'])\n",
    "\n",
    "def appy_year(key):\n",
    "    if key in [2000,2001,2002,2003,2004,2005,2006,2007,2008,2009,2010,2011,2012,2013,2014,2015,2016,2017,2018]:\n",
    "        count = 1\n",
    "    else:\n",
    "        count = 0\n",
    "    return count\n",
    "\n",
    "#train_data['Year_of_recruitment'] = train_data['Year_of_recruitment'].apply(appy_year)\n",
    "#test_data['Year_of_recruitment'] = test_data['Year_of_recruitment'].apply(appy_year)\n",
    "\n",
    "#train_data['Year_of_recruitment'] = train_data['Year_of_recruitment'].astype('int')\n",
    "#test_data['Year_of_recruitment'] = test_data['Year_of_recruitment'].astype('int')\n",
    "\n",
    "#train_data = train_data.drop(['Year_of_recruitment'], axis = 1)\n",
    "#test_data = test_data.drop(['Year_of_recruitment'], axis = 1)\n",
    "\n",
    "train_data = train_data.drop(['Year_of_recruitment'], axis = 1)\n",
    "test_data = test_data.drop(['Year_of_recruitment'], axis = 1)"
   ]
  },
  {
   "cell_type": "raw",
   "metadata": {
    "collapsed": true
   },
   "source": [
    "def bin_year_of_recruitment(data):\n",
    "    return_list = []\n",
    "    for value in data:\n",
    "        k = np.round(value)\n",
    "        if k <= 2018 and k>=2009:\n",
    "            return_list.append(0)\n",
    "        else:\n",
    "            return_list.append(1)\n",
    "    return np.array(return_list)\n",
    "\n",
    "\n",
    "#data = bin_year_of_recruitment(train_data['Year_of_recruitment'])\n",
    "#train_data['Year_of_recruitment'] = data"
   ]
  },
  {
   "cell_type": "markdown",
   "metadata": {},
   "source": [
    "\n",
    "# Qualification"
   ]
  },
  {
   "cell_type": "code",
   "execution_count": 558,
   "metadata": {},
   "outputs": [
    {
     "data": {
      "text/plain": [
       "{'First Degree or HND': (23483, 2095),\n",
       " 'MSc, MBA and PhD': (9457, 1012),\n",
       " 'Non-University Education': (534, 52)}"
      ]
     },
     "execution_count": 558,
     "metadata": {},
     "output_type": "execute_result"
    }
   ],
   "source": [
    "report(train_data['Qualification'], train_data['Promoted_or_Not'])"
   ]
  },
  {
   "cell_type": "code",
   "execution_count": 559,
   "metadata": {},
   "outputs": [
    {
     "data": {
      "text/plain": [
       "First Degree or HND         25578\n",
       "MSc, MBA and PhD            10469\n",
       "Non-University Education      586\n",
       "Name: Qualification, dtype: int64"
      ]
     },
     "execution_count": 559,
     "metadata": {},
     "output_type": "execute_result"
    }
   ],
   "source": [
    "dict_qualification = train_data['Qualification'].value_counts()\n",
    "dict_qualification"
   ]
  },
  {
   "cell_type": "code",
   "execution_count": 560,
   "metadata": {},
   "outputs": [
    {
     "data": {
      "text/plain": [
       "1679"
      ]
     },
     "execution_count": 560,
     "metadata": {},
     "output_type": "execute_result"
    }
   ],
   "source": [
    "train_data['Qualification'].isnull().sum()"
   ]
  },
  {
   "cell_type": "code",
   "execution_count": 561,
   "metadata": {},
   "outputs": [
    {
     "data": {
      "text/plain": [
       "Index(['First Degree or HND', 'MSc, MBA and PhD', 'Non-University Education'], dtype='object')"
      ]
     },
     "execution_count": 561,
     "metadata": {},
     "output_type": "execute_result"
    }
   ],
   "source": [
    "dict_qualification.keys()"
   ]
  },
  {
   "cell_type": "code",
   "execution_count": 562,
   "metadata": {
    "collapsed": true
   },
   "outputs": [],
   "source": [
    "train_data['Quatrain_data['Qualification'].fillna('First Degree or HND', inplace = True)lification'].fillna('First Degree or HND', inplace = True)"
   ]
  },
  {
   "cell_type": "code",
   "execution_count": 563,
   "metadata": {
    "collapsed": true
   },
   "outputs": [],
   "source": [
    "test_data['Qualification'].fillna('First Degree or HND', inplace = True)"
   ]
  },
  {
   "cell_type": "raw",
   "metadata": {
    "collapsed": true
   },
   "source": [
    "train_data['Qualification'][train_data['Qualification'] == 'First Degree or HND'] = 1\n",
    "train_data['Qualification'][train_data['Qualification'] == 'MSc, MBA and PhD'] = 0\n",
    "train_data['Qualification'][train_data['Qualification'] == 'Non-University Education'] = 1"
   ]
  },
  {
   "cell_type": "raw",
   "metadata": {
    "collapsed": true
   },
   "source": [
    "test_data['Qualification'][test_data['Qualification'] == 'First Degree or HND'] = 1\n",
    "test_data['Qualification'][test_data['Qualification'] == 'MSc, MBA and PhD'] = 0\n",
    "test_data['Qualification'][test_data['Qualification'] == 'Non-University Education'] = 1"
   ]
  },
  {
   "cell_type": "code",
   "execution_count": 564,
   "metadata": {
    "collapsed": true
   },
   "outputs": [],
   "source": [
    "train_data = pd.get_dummies(train_data, columns = ['Qualification'])\n",
    "test_data = pd.get_dummies(test_data, columns = ['Qualification'])"
   ]
  },
  {
   "cell_type": "raw",
   "metadata": {},
   "source": [
    "train_data['Qualification'] = train_data['Qualification'].astype('int')\n",
    "test_data['Qualification'] = test_data['Qualification'].astype('int')"
   ]
  },
  {
   "cell_type": "markdown",
   "metadata": {},
   "source": [
    "# Channel of Recruitment"
   ]
  },
  {
   "cell_type": "code",
   "execution_count": 565,
   "metadata": {},
   "outputs": [
    {
     "data": {
      "text/plain": [
       "Agency and others                  21310\n",
       "Direct Internal process            16194\n",
       "Referral and Special candidates      808\n",
       "Name: Channel_of_Recruitment, dtype: int64"
      ]
     },
     "execution_count": 565,
     "metadata": {},
     "output_type": "execute_result"
    }
   ],
   "source": [
    "data = train_data['Channel_of_Recruitment'].value_counts()\n",
    "data"
   ]
  },
  {
   "cell_type": "code",
   "execution_count": 566,
   "metadata": {},
   "outputs": [
    {
     "data": {
      "text/plain": [
       "{'Agency and others': (19514, 1796),\n",
       " 'Direct Internal process': (14847, 1347),\n",
       " 'Referral and Special candidates': (710, 98)}"
      ]
     },
     "execution_count": 566,
     "metadata": {},
     "output_type": "execute_result"
    }
   ],
   "source": [
    "dictionary = report(train_data['Channel_of_Recruitment'], train_data['Promoted_or_Not'])\n",
    "dictionary"
   ]
  },
  {
   "cell_type": "raw",
   "metadata": {
    "collapsed": true
   },
   "source": [
    "#train_data['Channel_of_Recruitment'][train_data['Channel_of_Recruitment'] == 'Direct Internal process'] = 0\n",
    "#train_data['Channel_of_Recruitment'][train_data['Channel_of_Recruitment'] == 'Referral and Special candidates'] = 1\n",
    "#train_data['Channel_of_Recruitment'][train_data['Channel_of_Recruitment'] == 'Agency and others'] = 0"
   ]
  },
  {
   "cell_type": "raw",
   "metadata": {
    "collapsed": true
   },
   "source": [
    "#test_data['Channel_of_Recruitment'][test_data['Channel_of_Recruitment'] == 'Direct Internal process'] = 0\n",
    "#test_data['Channel_of_Recruitment'][test_data['Channel_of_Recruitment'] == 'Referral and Special candidates'] = 1\n",
    "#test_data['Channel_of_Recruitment'][test_data['Channel_of_Recruitment'] == 'Agency and others'] = 0"
   ]
  },
  {
   "cell_type": "code",
   "execution_count": 567,
   "metadata": {
    "collapsed": true
   },
   "outputs": [],
   "source": [
    "train_data = pd.get_dummies(train_data,columns = ['Channel_of_Recruitment'])\n",
    "test_data = pd.get_dummies(test_data,columns = ['Channel_of_Recruitment'])"
   ]
  },
  {
   "cell_type": "markdown",
   "metadata": {},
   "source": [
    "# State of Origin"
   ]
  },
  {
   "cell_type": "code",
   "execution_count": 568,
   "metadata": {},
   "outputs": [
    {
     "data": {
      "text/plain": [
       "Index(['LAGOS', 'FCT', 'OGUN', 'RIVERS', 'ANAMBRA', 'KANO', 'DELTA', 'OYO',\n",
       "       'KADUNA', 'IMO', 'EDO', 'ENUGU', 'ABIA', 'OSUN', 'ONDO', 'NIGER',\n",
       "       'KWARA', 'PLATEAU', 'AKWA IBOM', 'NASSARAWA', 'KATSINA', 'ADAMAWA',\n",
       "       'BENUE', 'BAUCHI', 'KOGI', 'SOKOTO', 'CROSS RIVER', 'EKITI', 'BORNO',\n",
       "       'TARABA', 'KEBBI', 'BAYELSA', 'EBONYI', 'GOMBE', 'ZAMFARA', 'JIGAWA',\n",
       "       'YOBE'],\n",
       "      dtype='object')"
      ]
     },
     "execution_count": 568,
     "metadata": {},
     "output_type": "execute_result"
    }
   ],
   "source": [
    "dict_state = train_data['State_Of_Origin'].value_counts()\n",
    "dict_state.keys()"
   ]
  },
  {
   "cell_type": "code",
   "execution_count": 569,
   "metadata": {
    "scrolled": true
   },
   "outputs": [
    {
     "data": {
      "text/plain": [
       "{'ABIA': (885, 65),\n",
       " 'ADAMAWA': (558, 47),\n",
       " 'AKWA IBOM': (616, 57),\n",
       " 'ANAMBRA': (1546, 164),\n",
       " 'BAUCHI': (512, 45),\n",
       " 'BAYELSA': (299, 25),\n",
       " 'BENUE': (534, 45),\n",
       " 'BORNO': (407, 40),\n",
       " 'CROSS RIVER': (454, 41),\n",
       " 'DELTA': (1456, 138),\n",
       " 'EBONYI': (291, 22),\n",
       " 'EDO': (1158, 101),\n",
       " 'EKITI': (416, 39),\n",
       " 'ENUGU': (934, 91),\n",
       " 'FCT': (2202, 187),\n",
       " 'GOMBE': (261, 30),\n",
       " 'IMO': (1191, 116),\n",
       " 'JIGAWA': (244, 18),\n",
       " 'KADUNA': (1284, 115),\n",
       " 'KANO': (1504, 145),\n",
       " 'KATSINA': (567, 48),\n",
       " 'KEBBI': (357, 36),\n",
       " 'KOGI': (501, 41),\n",
       " 'KWARA': (713, 52),\n",
       " 'LAGOS': (5670, 534),\n",
       " 'NASSARAWA': (576, 56),\n",
       " 'NIGER': (796, 61),\n",
       " 'OGUN': (2130, 172),\n",
       " 'ONDO': (772, 103),\n",
       " 'OSUN': (841, 88),\n",
       " 'OYO': (1377, 131),\n",
       " 'PLATEAU': (674, 65),\n",
       " 'RIVERS': (2031, 191),\n",
       " 'SOKOTO': (451, 48),\n",
       " 'TARABA': (360, 40),\n",
       " 'YOBE': (236, 21),\n",
       " 'ZAMFARA': (267, 23)}"
      ]
     },
     "execution_count": 569,
     "metadata": {},
     "output_type": "execute_result"
    }
   ],
   "source": [
    "dictionary = report(train_data['State_Of_Origin'], train_data['Promoted_or_Not'])\n",
    "dictionary"
   ]
  },
  {
   "cell_type": "code",
   "execution_count": 570,
   "metadata": {
    "collapsed": true
   },
   "outputs": [],
   "source": [
    "def appy(data):\n",
    "    if data in ['LAGOS','RIVERS','KANO','ANAMBRA','DELTA','FCT','OGUN','OYO']:\n",
    "        count = 1\n",
    "    else:\n",
    "        count = 0\n",
    "    return count\n",
    "train_data = train_data.drop('State_Of_Origin', axis = 1)\n",
    "test_data = test_data.drop('State_Of_Origin', axis = 1)\n",
    "\n"
   ]
  },
  {
   "cell_type": "markdown",
   "metadata": {},
   "source": [
    "# Foreign Schooled"
   ]
  },
  {
   "cell_type": "code",
   "execution_count": 571,
   "metadata": {},
   "outputs": [
    {
     "data": {
      "text/plain": [
       "Yes    34995\n",
       "No      3317\n",
       "Name: Foreign_schooled, dtype: int64"
      ]
     },
     "execution_count": 571,
     "metadata": {},
     "output_type": "execute_result"
    }
   ],
   "source": [
    "train_data['Foreign_schooled'].value_counts()"
   ]
  },
  {
   "cell_type": "code",
   "execution_count": 572,
   "metadata": {},
   "outputs": [
    {
     "data": {
      "text/plain": [
       "{'No': (3046, 271), 'Yes': (32025, 2970)}"
      ]
     },
     "execution_count": 572,
     "metadata": {},
     "output_type": "execute_result"
    }
   ],
   "source": [
    "dictionary = report(train_data['Foreign_schooled'], train_data['Promoted_or_Not'])\n",
    "dictionary"
   ]
  },
  {
   "cell_type": "raw",
   "metadata": {
    "collapsed": true
   },
   "source": [
    "def appy(data):\n",
    "    if data == 'Yes':\n",
    "        count = 0\n",
    "    else:\n",
    "        count = 1\n",
    "    return count\n",
    "#train_data['Foreign_schooled'] = train_data['Foreign_schooled'].apply(appy)\n",
    "#test_data['Foreign_schooled'] = test_data['Foreign_schooled'].apply(appy)\n",
    "\n",
    "train_data = train_data.drop('Foreign_schooled', axis = 1)\n",
    "test_data = test_data.drop('Foreign_schooled', axis = 1)"
   ]
  },
  {
   "cell_type": "code",
   "execution_count": 573,
   "metadata": {
    "collapsed": true
   },
   "outputs": [],
   "source": [
    "train_data = pd.get_dummies(train_data, columns =['Foreign_schooled'])\n",
    "test_data = pd.get_dummies(test_data, columns =['Foreign_schooled'])"
   ]
  },
  {
   "cell_type": "markdown",
   "metadata": {},
   "source": [
    "# Marital Status"
   ]
  },
  {
   "cell_type": "code",
   "execution_count": 574,
   "metadata": {},
   "outputs": [
    {
     "data": {
      "text/plain": [
       "{'Married': (28386, 2636), 'Not_Sure': (324, 39), 'Single': (6361, 566)}"
      ]
     },
     "execution_count": 574,
     "metadata": {},
     "output_type": "execute_result"
    }
   ],
   "source": [
    "dictionary = report(train_data['Marital_Status'], train_data['Promoted_or_Not'])\n",
    "dictionary"
   ]
  },
  {
   "cell_type": "code",
   "execution_count": 575,
   "metadata": {
    "collapsed": true
   },
   "outputs": [],
   "source": [
    "def appy(data):\n",
    "    if data == 'Married':\n",
    "        count = 0\n",
    "    else:\n",
    "        count = 1\n",
    "    return count\n",
    "train_data['Marital_Status'] = train_data['Marital_Status'].apply(appy)\n",
    "test_data['Marital_Status'] = test_data['Marital_Status'].apply(appy)"
   ]
  },
  {
   "cell_type": "raw",
   "metadata": {},
   "source": [
    "#train_data = pd.get_dummies(train_data, columns =['Marital_Status'])\n",
    "#test_data = pd.get_dummies(test_data, columns =['Marital_Status'])\n",
    "\n",
    "train_data = train_data.drop('Marital_Status', axis = 1)\n",
    "test_data = test_data.drop('Marital_Status', axis = 1)"
   ]
  },
  {
   "cell_type": "markdown",
   "metadata": {},
   "source": [
    "# Past_Disciplinary_Action"
   ]
  },
  {
   "cell_type": "code",
   "execution_count": 576,
   "metadata": {},
   "outputs": [
    {
     "data": {
      "text/plain": [
       "No     38161\n",
       "Yes      151\n",
       "Name: Past_Disciplinary_Action, dtype: int64"
      ]
     },
     "execution_count": 576,
     "metadata": {},
     "output_type": "execute_result"
    }
   ],
   "source": [
    "train_data['Past_Disciplinary_Action'].value_counts()"
   ]
  },
  {
   "cell_type": "code",
   "execution_count": 577,
   "metadata": {},
   "outputs": [
    {
     "data": {
      "text/plain": [
       "{'No': (34936, 3225), 'Yes': (135, 16)}"
      ]
     },
     "execution_count": 577,
     "metadata": {},
     "output_type": "execute_result"
    }
   ],
   "source": [
    "dictionary = report(train_data['Past_Disciplinary_Action'], train_data['Promoted_or_Not'])\n",
    "dictionary"
   ]
  },
  {
   "cell_type": "code",
   "execution_count": 578,
   "metadata": {
    "collapsed": true
   },
   "outputs": [],
   "source": [
    "train_data['Past_Disciplinary_Action'][train_data['Past_Disciplinary_Action'] == 'Yes'] = 1\n",
    "train_data['Past_Disciplinary_Action'][train_data['Past_Disciplinary_Action'] == 'No'] = 0"
   ]
  },
  {
   "cell_type": "code",
   "execution_count": 579,
   "metadata": {
    "collapsed": true
   },
   "outputs": [],
   "source": [
    "test_data['Past_Disciplinary_Action'][test_data['Past_Disciplinary_Action'] == 'Yes'] = 1\n",
    "test_data['Past_Disciplinary_Action'][test_data['Past_Disciplinary_Action'] == 'No'] = 0"
   ]
  },
  {
   "cell_type": "markdown",
   "metadata": {},
   "source": [
    "# Previous_IntraDepartmental_Movement"
   ]
  },
  {
   "cell_type": "code",
   "execution_count": 580,
   "metadata": {},
   "outputs": [
    {
     "data": {
      "text/plain": [
       "No     34709\n",
       "Yes     3603\n",
       "Name: Previous_IntraDepartmental_Movement, dtype: int64"
      ]
     },
     "execution_count": 580,
     "metadata": {},
     "output_type": "execute_result"
    }
   ],
   "source": [
    "train_data['Previous_IntraDepartmental_Movement'].value_counts()"
   ]
  },
  {
   "cell_type": "code",
   "execution_count": 581,
   "metadata": {},
   "outputs": [
    {
     "data": {
      "text/plain": [
       "{'No': (31747, 2962), 'Yes': (3324, 279)}"
      ]
     },
     "execution_count": 581,
     "metadata": {},
     "output_type": "execute_result"
    }
   ],
   "source": [
    "dictionary = report(train_data['Previous_IntraDepartmental_Movement'], train_data['Promoted_or_Not'])\n",
    "dictionary"
   ]
  },
  {
   "cell_type": "raw",
   "metadata": {
    "collapsed": true
   },
   "source": [
    "#train_data['Previous_IntraDepartmental_Movement'][train_data['Previous_IntraDepartmental_Movement'] == 'Yes'] = 1\n",
    "#train_data['Previous_IntraDepartmental_Movement'][train_data['Previous_IntraDepartmental_Movement'] == 'No'] = 0"
   ]
  },
  {
   "cell_type": "raw",
   "metadata": {
    "collapsed": true
   },
   "source": [
    "#test_data['Previous_IntraDepartmental_Movement'][test_data['Previous_IntraDepartmental_Movement'] == 'Yes'] = 1\n",
    "#test_data['Previous_IntraDepartmental_Movement'][test_data['Previous_IntraDepartmental_Movement'] == 'No'] = 0"
   ]
  },
  {
   "cell_type": "code",
   "execution_count": 582,
   "metadata": {
    "collapsed": true
   },
   "outputs": [],
   "source": [
    "train_data = pd.get_dummies(train_data, columns = ['Previous_IntraDepartmental_Movement'])\n",
    "test_data = pd.get_dummies(test_data, columns = ['Previous_IntraDepartmental_Movement'])"
   ]
  },
  {
   "cell_type": "markdown",
   "metadata": {},
   "source": [
    "# number of previous employers"
   ]
  },
  {
   "cell_type": "code",
   "execution_count": 583,
   "metadata": {},
   "outputs": [
    {
     "data": {
      "text/plain": [
       "1              18867\n",
       "0              13272\n",
       "2               1918\n",
       "3               1587\n",
       "4               1324\n",
       "5                943\n",
       "More than 5      401\n",
       "Name: No_of_previous_employers, dtype: int64"
      ]
     },
     "execution_count": 583,
     "metadata": {},
     "output_type": "execute_result"
    }
   ],
   "source": [
    "val = train_data['No_of_previous_employers'].value_counts()\n",
    "val"
   ]
  },
  {
   "cell_type": "code",
   "execution_count": 584,
   "metadata": {},
   "outputs": [
    {
     "data": {
      "text/plain": [
       "{'0': (12179, 1093),\n",
       " '1': (17253, 1614),\n",
       " '2': (1742, 176),\n",
       " '3': (1452, 135),\n",
       " '4': (1203, 121),\n",
       " '5': (872, 71),\n",
       " 'More than 5': (370, 31)}"
      ]
     },
     "execution_count": 584,
     "metadata": {},
     "output_type": "execute_result"
    }
   ],
   "source": [
    "dictionary = report(train_data['No_of_previous_employers'], train_data['Promoted_or_Not'])\n",
    "dictionary"
   ]
  },
  {
   "cell_type": "raw",
   "metadata": {
    "collapsed": true
   },
   "source": [
    "train_data['No_of_previous_employers'][train_data['No_of_previous_employers'] == 'More than 5'] = 6\n",
    "train_data['No_of_previous_employers'][train_data['No_of_previous_employers'] == '5'] = 5\n",
    "train_data['No_of_previous_employers'][train_data['No_of_previous_employers'] == '4'] = 4\n",
    "train_data['No_of_previous_employers'][train_data['No_of_previous_employers'] == '3'] = 3\n",
    "train_data['No_of_previous_employers'][train_data['No_of_previous_employers'] == '2'] = 2\n",
    "train_data['No_of_previous_employers'][train_data['No_of_previous_employers'] == '1'] = 1\n",
    "train_data['No_of_previous_employers'][train_data['No_of_previous_employers'] == '0'] = 0"
   ]
  },
  {
   "cell_type": "raw",
   "metadata": {
    "collapsed": true
   },
   "source": [
    "test_data['No_of_previous_employers'][test_data['No_of_previous_employers'] == 'More than 5'] = 6\n",
    "test_data['No_of_previous_employers'][test_data['No_of_previous_employers'] == '5'] = 5\n",
    "test_data['No_of_previous_employers'][test_data['No_of_previous_employers'] == '4'] = 4\n",
    "test_data['No_of_previous_employers'][test_data['No_of_previous_employers'] == '3'] = 3\n",
    "test_data['No_of_previous_employers'][test_data['No_of_previous_employers'] == '2'] = 2\n",
    "test_data['No_of_previous_employers'][test_data['No_of_previous_employers'] == '1'] = 1\n",
    "test_data['No_of_previous_employers'][test_data['No_of_previous_employers'] == '0'] = 0"
   ]
  },
  {
   "cell_type": "code",
   "execution_count": 585,
   "metadata": {
    "collapsed": true
   },
   "outputs": [],
   "source": [
    "train_data = pd.get_dummies(train_data, columns = ['No_of_previous_employers'])\n",
    "test_data = pd.get_dummies(test_data, columns = ['No_of_previous_employers'])"
   ]
  },
  {
   "cell_type": "markdown",
   "metadata": {},
   "source": [
    "# Division"
   ]
  },
  {
   "cell_type": "code",
   "execution_count": 586,
   "metadata": {},
   "outputs": [
    {
     "data": {
      "text/plain": [
       "{'Business Finance Operations': (1640, 146),\n",
       " 'Commercial Sales and Marketing': (10854, 841),\n",
       " 'Customer Support and Field Operations': (7269, 704),\n",
       " 'Information Technology and Solution Support': (4420, 532),\n",
       " 'Information and Strategy': (3373, 348),\n",
       " 'People/HR Management': (1607, 97),\n",
       " 'Regulatory and Legal services': (692, 41),\n",
       " 'Research and Innovation': (653, 43),\n",
       " 'Sourcing and Purchasing': (4563, 489)}"
      ]
     },
     "execution_count": 586,
     "metadata": {},
     "output_type": "execute_result"
    }
   ],
   "source": [
    "dictionary = report(train_data['Division'], train_data['Promoted_or_Not'])\n",
    "dictionary"
   ]
  },
  {
   "cell_type": "code",
   "execution_count": 587,
   "metadata": {
    "collapsed": true,
    "scrolled": true
   },
   "outputs": [],
   "source": [
    "train_data = pd.get_dummies(train_data, columns = ['Division'])\n",
    "test_data = pd.get_dummies(test_data, columns = ['Division'])"
   ]
  },
  {
   "cell_type": "raw",
   "metadata": {
    "collapsed": true
   },
   "source": [
    "#train_data = pd.get_dummies(train_data, columns = ['Division', 'Gender'])\n",
    "#train_data.head()"
   ]
  },
  {
   "cell_type": "raw",
   "metadata": {
    "collapsed": true
   },
   "source": [
    "#test_data = pd.get_dummies(test_data, columns = ['Division', 'Gender'])\n",
    "#test_data.head()"
   ]
  },
  {
   "cell_type": "code",
   "execution_count": 588,
   "metadata": {
    "collapsed": true
   },
   "outputs": [],
   "source": [
    "target_id = test_data['EmployeeNo']\n",
    "test_data = test_data.drop('EmployeeNo', axis = 1)"
   ]
  },
  {
   "cell_type": "code",
   "execution_count": 589,
   "metadata": {},
   "outputs": [
    {
     "data": {
      "text/plain": [
       "False"
      ]
     },
     "execution_count": 589,
     "metadata": {},
     "output_type": "execute_result"
    }
   ],
   "source": [
    "'Promoted_or_Not' in test_data.columns"
   ]
  },
  {
   "cell_type": "code",
   "execution_count": 590,
   "metadata": {},
   "outputs": [
    {
     "data": {
      "text/plain": [
       "((38312, 36), (16496, 34))"
      ]
     },
     "execution_count": 590,
     "metadata": {},
     "output_type": "execute_result"
    }
   ],
   "source": [
    "train_data.shape, test_data.shape"
   ]
  },
  {
   "cell_type": "code",
   "execution_count": 591,
   "metadata": {},
   "outputs": [
    {
     "data": {
      "text/plain": [
       "(38312, 35)"
      ]
     },
     "execution_count": 591,
     "metadata": {},
     "output_type": "execute_result"
    }
   ],
   "source": [
    "train_data = train_data.drop('EmployeeNo', axis = 1)\n",
    "train_data.shape"
   ]
  },
  {
   "cell_type": "code",
   "execution_count": 592,
   "metadata": {},
   "outputs": [
    {
     "name": "stdout",
     "output_type": "stream",
     "text": [
      "Promoted_or_Not\n"
     ]
    }
   ],
   "source": [
    "for k in train_data.columns:\n",
    "    if k in test_data.columns:\n",
    "        pass\n",
    "    else:\n",
    "        print(k)"
   ]
  },
  {
   "cell_type": "raw",
   "metadata": {},
   "source": [
    "train_data = train_data.drop('Trainings_Attended_10', axis = 1)"
   ]
  },
  {
   "cell_type": "code",
   "execution_count": 593,
   "metadata": {},
   "outputs": [
    {
     "data": {
      "text/html": [
       "<div>\n",
       "<style>\n",
       "    .dataframe thead tr:only-child th {\n",
       "        text-align: right;\n",
       "    }\n",
       "\n",
       "    .dataframe thead th {\n",
       "        text-align: left;\n",
       "    }\n",
       "\n",
       "    .dataframe tbody tr th {\n",
       "        vertical-align: top;\n",
       "    }\n",
       "</style>\n",
       "<table border=\"1\" class=\"dataframe\">\n",
       "  <thead>\n",
       "    <tr style=\"text-align: right;\">\n",
       "      <th></th>\n",
       "      <th>Gender</th>\n",
       "      <th>Year_of_birth</th>\n",
       "      <th>Last_performance_score</th>\n",
       "      <th>Targets_met</th>\n",
       "      <th>Previous_Award</th>\n",
       "      <th>Training_score_average</th>\n",
       "      <th>Marital_Status</th>\n",
       "      <th>Past_Disciplinary_Action</th>\n",
       "      <th>Promoted_or_Not</th>\n",
       "      <th>Qualification_First Degree or HND</th>\n",
       "      <th>...</th>\n",
       "      <th>No_of_previous_employers_More than 5</th>\n",
       "      <th>Division_Business Finance Operations</th>\n",
       "      <th>Division_Commercial Sales and Marketing</th>\n",
       "      <th>Division_Customer Support and Field Operations</th>\n",
       "      <th>Division_Information Technology and Solution Support</th>\n",
       "      <th>Division_Information and Strategy</th>\n",
       "      <th>Division_People/HR Management</th>\n",
       "      <th>Division_Regulatory and Legal services</th>\n",
       "      <th>Division_Research and Innovation</th>\n",
       "      <th>Division_Sourcing and Purchasing</th>\n",
       "    </tr>\n",
       "  </thead>\n",
       "  <tbody>\n",
       "    <tr>\n",
       "      <th>0</th>\n",
       "      <td>Female</td>\n",
       "      <td>0</td>\n",
       "      <td>12.5</td>\n",
       "      <td>1</td>\n",
       "      <td>0</td>\n",
       "      <td>41</td>\n",
       "      <td>0</td>\n",
       "      <td>0</td>\n",
       "      <td>0</td>\n",
       "      <td>0</td>\n",
       "      <td>...</td>\n",
       "      <td>0</td>\n",
       "      <td>0</td>\n",
       "      <td>1</td>\n",
       "      <td>0</td>\n",
       "      <td>0</td>\n",
       "      <td>0</td>\n",
       "      <td>0</td>\n",
       "      <td>0</td>\n",
       "      <td>0</td>\n",
       "      <td>0</td>\n",
       "    </tr>\n",
       "    <tr>\n",
       "      <th>1</th>\n",
       "      <td>Male</td>\n",
       "      <td>0</td>\n",
       "      <td>12.5</td>\n",
       "      <td>0</td>\n",
       "      <td>0</td>\n",
       "      <td>52</td>\n",
       "      <td>0</td>\n",
       "      <td>0</td>\n",
       "      <td>0</td>\n",
       "      <td>1</td>\n",
       "      <td>...</td>\n",
       "      <td>0</td>\n",
       "      <td>0</td>\n",
       "      <td>0</td>\n",
       "      <td>1</td>\n",
       "      <td>0</td>\n",
       "      <td>0</td>\n",
       "      <td>0</td>\n",
       "      <td>0</td>\n",
       "      <td>0</td>\n",
       "      <td>0</td>\n",
       "    </tr>\n",
       "    <tr>\n",
       "      <th>2</th>\n",
       "      <td>Male</td>\n",
       "      <td>0</td>\n",
       "      <td>7.5</td>\n",
       "      <td>0</td>\n",
       "      <td>0</td>\n",
       "      <td>42</td>\n",
       "      <td>0</td>\n",
       "      <td>0</td>\n",
       "      <td>0</td>\n",
       "      <td>1</td>\n",
       "      <td>...</td>\n",
       "      <td>0</td>\n",
       "      <td>0</td>\n",
       "      <td>1</td>\n",
       "      <td>0</td>\n",
       "      <td>0</td>\n",
       "      <td>0</td>\n",
       "      <td>0</td>\n",
       "      <td>0</td>\n",
       "      <td>0</td>\n",
       "      <td>0</td>\n",
       "    </tr>\n",
       "    <tr>\n",
       "      <th>3</th>\n",
       "      <td>Male</td>\n",
       "      <td>0</td>\n",
       "      <td>2.5</td>\n",
       "      <td>0</td>\n",
       "      <td>0</td>\n",
       "      <td>42</td>\n",
       "      <td>1</td>\n",
       "      <td>0</td>\n",
       "      <td>0</td>\n",
       "      <td>1</td>\n",
       "      <td>...</td>\n",
       "      <td>0</td>\n",
       "      <td>0</td>\n",
       "      <td>1</td>\n",
       "      <td>0</td>\n",
       "      <td>0</td>\n",
       "      <td>0</td>\n",
       "      <td>0</td>\n",
       "      <td>0</td>\n",
       "      <td>0</td>\n",
       "      <td>0</td>\n",
       "    </tr>\n",
       "    <tr>\n",
       "      <th>4</th>\n",
       "      <td>Male</td>\n",
       "      <td>0</td>\n",
       "      <td>7.5</td>\n",
       "      <td>0</td>\n",
       "      <td>0</td>\n",
       "      <td>77</td>\n",
       "      <td>0</td>\n",
       "      <td>0</td>\n",
       "      <td>0</td>\n",
       "      <td>1</td>\n",
       "      <td>...</td>\n",
       "      <td>0</td>\n",
       "      <td>0</td>\n",
       "      <td>0</td>\n",
       "      <td>0</td>\n",
       "      <td>0</td>\n",
       "      <td>1</td>\n",
       "      <td>0</td>\n",
       "      <td>0</td>\n",
       "      <td>0</td>\n",
       "      <td>0</td>\n",
       "    </tr>\n",
       "  </tbody>\n",
       "</table>\n",
       "<p>5 rows × 35 columns</p>\n",
       "</div>"
      ],
      "text/plain": [
       "   Gender  Year_of_birth  Last_performance_score  Targets_met  Previous_Award  \\\n",
       "0  Female              0                    12.5            1               0   \n",
       "1    Male              0                    12.5            0               0   \n",
       "2    Male              0                     7.5            0               0   \n",
       "3    Male              0                     2.5            0               0   \n",
       "4    Male              0                     7.5            0               0   \n",
       "\n",
       "   Training_score_average  Marital_Status Past_Disciplinary_Action  \\\n",
       "0                      41               0                        0   \n",
       "1                      52               0                        0   \n",
       "2                      42               0                        0   \n",
       "3                      42               1                        0   \n",
       "4                      77               0                        0   \n",
       "\n",
       "   Promoted_or_Not  Qualification_First Degree or HND  \\\n",
       "0                0                                  0   \n",
       "1                0                                  1   \n",
       "2                0                                  1   \n",
       "3                0                                  1   \n",
       "4                0                                  1   \n",
       "\n",
       "                 ...                 No_of_previous_employers_More than 5  \\\n",
       "0                ...                                                    0   \n",
       "1                ...                                                    0   \n",
       "2                ...                                                    0   \n",
       "3                ...                                                    0   \n",
       "4                ...                                                    0   \n",
       "\n",
       "   Division_Business Finance Operations  \\\n",
       "0                                     0   \n",
       "1                                     0   \n",
       "2                                     0   \n",
       "3                                     0   \n",
       "4                                     0   \n",
       "\n",
       "   Division_Commercial Sales and Marketing  \\\n",
       "0                                        1   \n",
       "1                                        0   \n",
       "2                                        1   \n",
       "3                                        1   \n",
       "4                                        0   \n",
       "\n",
       "   Division_Customer Support and Field Operations  \\\n",
       "0                                               0   \n",
       "1                                               1   \n",
       "2                                               0   \n",
       "3                                               0   \n",
       "4                                               0   \n",
       "\n",
       "   Division_Information Technology and Solution Support  \\\n",
       "0                                                  0      \n",
       "1                                                  0      \n",
       "2                                                  0      \n",
       "3                                                  0      \n",
       "4                                                  0      \n",
       "\n",
       "   Division_Information and Strategy  Division_People/HR Management  \\\n",
       "0                                  0                              0   \n",
       "1                                  0                              0   \n",
       "2                                  0                              0   \n",
       "3                                  0                              0   \n",
       "4                                  1                              0   \n",
       "\n",
       "   Division_Regulatory and Legal services  Division_Research and Innovation  \\\n",
       "0                                       0                                 0   \n",
       "1                                       0                                 0   \n",
       "2                                       0                                 0   \n",
       "3                                       0                                 0   \n",
       "4                                       0                                 0   \n",
       "\n",
       "   Division_Sourcing and Purchasing  \n",
       "0                                 0  \n",
       "1                                 0  \n",
       "2                                 0  \n",
       "3                                 0  \n",
       "4                                 0  \n",
       "\n",
       "[5 rows x 35 columns]"
      ]
     },
     "execution_count": 593,
     "metadata": {},
     "output_type": "execute_result"
    }
   ],
   "source": [
    "train_data.head()"
   ]
  },
  {
   "cell_type": "markdown",
   "metadata": {},
   "source": [
    "# Last performance score"
   ]
  },
  {
   "cell_type": "code",
   "execution_count": 594,
   "metadata": {},
   "outputs": [
    {
     "data": {
      "text/plain": [
       "{0.0: (2659, 246),\n",
       " 2.5: (4266, 59),\n",
       " 5.0: (2806, 138),\n",
       " 7.5: (12059, 934),\n",
       " 10.0: (6367, 565),\n",
       " 12.5: (6914, 1299)}"
      ]
     },
     "execution_count": 594,
     "metadata": {},
     "output_type": "execute_result"
    }
   ],
   "source": [
    "dictionary = report(train_data['Last_performance_score'], train_data['Promoted_or_Not'])\n",
    "dictionary"
   ]
  },
  {
   "cell_type": "code",
   "execution_count": 595,
   "metadata": {
    "collapsed": true
   },
   "outputs": [],
   "source": [
    "def appl(k):\n",
    "    if k in [12.5, 10.0,7.5]:\n",
    "        count = 0\n",
    "    else:\n",
    "        count = 1\n",
    "    return count\n",
    "train_data = pd.get_dummies(train_data, columns = ['Last_performance_score'])\n",
    "test_data = pd.get_dummies(test_data, columns = ['Last_performance_score'])"
   ]
  },
  {
   "cell_type": "markdown",
   "metadata": {},
   "source": [
    "# trainings score average"
   ]
  },
  {
   "cell_type": "code",
   "execution_count": 596,
   "metadata": {
    "collapsed": true
   },
   "outputs": [],
   "source": [
    "def ap(val):\n",
    "    if val >= 30 and val<= 80:\n",
    "        count = 0\n",
    "    else:\n",
    "        count = 1\n",
    "    return count\n",
    "train_data['Training_score_average'] = train_data['Training_score_average'].apply(appl)\n",
    "test_data['Training_score_average'] = test_data['Training_score_average'].apply(appl)\n",
    "test_data['Training_score_average'] = test_data['Training_score_average'].astype('int')\n",
    "train_data['Training_score_average'] = train_data['Training_score_average'].astype('int')\n"
   ]
  },
  {
   "cell_type": "code",
   "execution_count": 597,
   "metadata": {},
   "outputs": [
    {
     "data": {
      "text/plain": [
       "((38312, 40), (16496, 39))"
      ]
     },
     "execution_count": 597,
     "metadata": {},
     "output_type": "execute_result"
    }
   ],
   "source": [
    "train_data.shape, test_data.shape"
   ]
  },
  {
   "cell_type": "code",
   "execution_count": 598,
   "metadata": {},
   "outputs": [
    {
     "data": {
      "text/html": [
       "<div>\n",
       "<style>\n",
       "    .dataframe thead tr:only-child th {\n",
       "        text-align: right;\n",
       "    }\n",
       "\n",
       "    .dataframe thead th {\n",
       "        text-align: left;\n",
       "    }\n",
       "\n",
       "    .dataframe tbody tr th {\n",
       "        vertical-align: top;\n",
       "    }\n",
       "</style>\n",
       "<table border=\"1\" class=\"dataframe\">\n",
       "  <thead>\n",
       "    <tr style=\"text-align: right;\">\n",
       "      <th></th>\n",
       "      <th>Gender</th>\n",
       "      <th>Year_of_birth</th>\n",
       "      <th>Targets_met</th>\n",
       "      <th>Previous_Award</th>\n",
       "      <th>Training_score_average</th>\n",
       "      <th>Marital_Status</th>\n",
       "      <th>Past_Disciplinary_Action</th>\n",
       "      <th>Promoted_or_Not</th>\n",
       "      <th>Qualification_First Degree or HND</th>\n",
       "      <th>Qualification_MSc, MBA and PhD</th>\n",
       "      <th>...</th>\n",
       "      <th>Division_People/HR Management</th>\n",
       "      <th>Division_Regulatory and Legal services</th>\n",
       "      <th>Division_Research and Innovation</th>\n",
       "      <th>Division_Sourcing and Purchasing</th>\n",
       "      <th>Last_performance_score_0.0</th>\n",
       "      <th>Last_performance_score_2.5</th>\n",
       "      <th>Last_performance_score_5.0</th>\n",
       "      <th>Last_performance_score_7.5</th>\n",
       "      <th>Last_performance_score_10.0</th>\n",
       "      <th>Last_performance_score_12.5</th>\n",
       "    </tr>\n",
       "  </thead>\n",
       "  <tbody>\n",
       "    <tr>\n",
       "      <th>0</th>\n",
       "      <td>Female</td>\n",
       "      <td>0</td>\n",
       "      <td>1</td>\n",
       "      <td>0</td>\n",
       "      <td>1</td>\n",
       "      <td>0</td>\n",
       "      <td>0</td>\n",
       "      <td>0</td>\n",
       "      <td>0</td>\n",
       "      <td>1</td>\n",
       "      <td>...</td>\n",
       "      <td>0</td>\n",
       "      <td>0</td>\n",
       "      <td>0</td>\n",
       "      <td>0</td>\n",
       "      <td>0</td>\n",
       "      <td>0</td>\n",
       "      <td>0</td>\n",
       "      <td>0</td>\n",
       "      <td>0</td>\n",
       "      <td>1</td>\n",
       "    </tr>\n",
       "    <tr>\n",
       "      <th>1</th>\n",
       "      <td>Male</td>\n",
       "      <td>0</td>\n",
       "      <td>0</td>\n",
       "      <td>0</td>\n",
       "      <td>1</td>\n",
       "      <td>0</td>\n",
       "      <td>0</td>\n",
       "      <td>0</td>\n",
       "      <td>1</td>\n",
       "      <td>0</td>\n",
       "      <td>...</td>\n",
       "      <td>0</td>\n",
       "      <td>0</td>\n",
       "      <td>0</td>\n",
       "      <td>0</td>\n",
       "      <td>0</td>\n",
       "      <td>0</td>\n",
       "      <td>0</td>\n",
       "      <td>0</td>\n",
       "      <td>0</td>\n",
       "      <td>1</td>\n",
       "    </tr>\n",
       "    <tr>\n",
       "      <th>2</th>\n",
       "      <td>Male</td>\n",
       "      <td>0</td>\n",
       "      <td>0</td>\n",
       "      <td>0</td>\n",
       "      <td>1</td>\n",
       "      <td>0</td>\n",
       "      <td>0</td>\n",
       "      <td>0</td>\n",
       "      <td>1</td>\n",
       "      <td>0</td>\n",
       "      <td>...</td>\n",
       "      <td>0</td>\n",
       "      <td>0</td>\n",
       "      <td>0</td>\n",
       "      <td>0</td>\n",
       "      <td>0</td>\n",
       "      <td>0</td>\n",
       "      <td>0</td>\n",
       "      <td>1</td>\n",
       "      <td>0</td>\n",
       "      <td>0</td>\n",
       "    </tr>\n",
       "    <tr>\n",
       "      <th>3</th>\n",
       "      <td>Male</td>\n",
       "      <td>0</td>\n",
       "      <td>0</td>\n",
       "      <td>0</td>\n",
       "      <td>1</td>\n",
       "      <td>1</td>\n",
       "      <td>0</td>\n",
       "      <td>0</td>\n",
       "      <td>1</td>\n",
       "      <td>0</td>\n",
       "      <td>...</td>\n",
       "      <td>0</td>\n",
       "      <td>0</td>\n",
       "      <td>0</td>\n",
       "      <td>0</td>\n",
       "      <td>0</td>\n",
       "      <td>1</td>\n",
       "      <td>0</td>\n",
       "      <td>0</td>\n",
       "      <td>0</td>\n",
       "      <td>0</td>\n",
       "    </tr>\n",
       "    <tr>\n",
       "      <th>4</th>\n",
       "      <td>Male</td>\n",
       "      <td>0</td>\n",
       "      <td>0</td>\n",
       "      <td>0</td>\n",
       "      <td>1</td>\n",
       "      <td>0</td>\n",
       "      <td>0</td>\n",
       "      <td>0</td>\n",
       "      <td>1</td>\n",
       "      <td>0</td>\n",
       "      <td>...</td>\n",
       "      <td>0</td>\n",
       "      <td>0</td>\n",
       "      <td>0</td>\n",
       "      <td>0</td>\n",
       "      <td>0</td>\n",
       "      <td>0</td>\n",
       "      <td>0</td>\n",
       "      <td>1</td>\n",
       "      <td>0</td>\n",
       "      <td>0</td>\n",
       "    </tr>\n",
       "  </tbody>\n",
       "</table>\n",
       "<p>5 rows × 40 columns</p>\n",
       "</div>"
      ],
      "text/plain": [
       "   Gender  Year_of_birth  Targets_met  Previous_Award  Training_score_average  \\\n",
       "0  Female              0            1               0                       1   \n",
       "1    Male              0            0               0                       1   \n",
       "2    Male              0            0               0                       1   \n",
       "3    Male              0            0               0                       1   \n",
       "4    Male              0            0               0                       1   \n",
       "\n",
       "   Marital_Status Past_Disciplinary_Action  Promoted_or_Not  \\\n",
       "0               0                        0                0   \n",
       "1               0                        0                0   \n",
       "2               0                        0                0   \n",
       "3               1                        0                0   \n",
       "4               0                        0                0   \n",
       "\n",
       "   Qualification_First Degree or HND  Qualification_MSc, MBA and PhD  \\\n",
       "0                                  0                               1   \n",
       "1                                  1                               0   \n",
       "2                                  1                               0   \n",
       "3                                  1                               0   \n",
       "4                                  1                               0   \n",
       "\n",
       "              ...               Division_People/HR Management  \\\n",
       "0             ...                                           0   \n",
       "1             ...                                           0   \n",
       "2             ...                                           0   \n",
       "3             ...                                           0   \n",
       "4             ...                                           0   \n",
       "\n",
       "   Division_Regulatory and Legal services  Division_Research and Innovation  \\\n",
       "0                                       0                                 0   \n",
       "1                                       0                                 0   \n",
       "2                                       0                                 0   \n",
       "3                                       0                                 0   \n",
       "4                                       0                                 0   \n",
       "\n",
       "   Division_Sourcing and Purchasing  Last_performance_score_0.0  \\\n",
       "0                                 0                           0   \n",
       "1                                 0                           0   \n",
       "2                                 0                           0   \n",
       "3                                 0                           0   \n",
       "4                                 0                           0   \n",
       "\n",
       "   Last_performance_score_2.5  Last_performance_score_5.0  \\\n",
       "0                           0                           0   \n",
       "1                           0                           0   \n",
       "2                           0                           0   \n",
       "3                           1                           0   \n",
       "4                           0                           0   \n",
       "\n",
       "   Last_performance_score_7.5  Last_performance_score_10.0  \\\n",
       "0                           0                            0   \n",
       "1                           0                            0   \n",
       "2                           1                            0   \n",
       "3                           0                            0   \n",
       "4                           1                            0   \n",
       "\n",
       "   Last_performance_score_12.5  \n",
       "0                            1  \n",
       "1                            1  \n",
       "2                            0  \n",
       "3                            0  \n",
       "4                            0  \n",
       "\n",
       "[5 rows x 40 columns]"
      ]
     },
     "execution_count": 598,
     "metadata": {},
     "output_type": "execute_result"
    }
   ],
   "source": [
    "train_data.head()"
   ]
  },
  {
   "cell_type": "code",
   "execution_count": 599,
   "metadata": {},
   "outputs": [
    {
     "data": {
      "text/html": [
       "<div>\n",
       "<style>\n",
       "    .dataframe thead tr:only-child th {\n",
       "        text-align: right;\n",
       "    }\n",
       "\n",
       "    .dataframe thead th {\n",
       "        text-align: left;\n",
       "    }\n",
       "\n",
       "    .dataframe tbody tr th {\n",
       "        vertical-align: top;\n",
       "    }\n",
       "</style>\n",
       "<table border=\"1\" class=\"dataframe\">\n",
       "  <thead>\n",
       "    <tr style=\"text-align: right;\">\n",
       "      <th></th>\n",
       "      <th>Gender</th>\n",
       "      <th>Year_of_birth</th>\n",
       "      <th>Targets_met</th>\n",
       "      <th>Previous_Award</th>\n",
       "      <th>Training_score_average</th>\n",
       "      <th>Marital_Status</th>\n",
       "      <th>Past_Disciplinary_Action</th>\n",
       "      <th>Qualification_First Degree or HND</th>\n",
       "      <th>Qualification_MSc, MBA and PhD</th>\n",
       "      <th>Qualification_Non-University Education</th>\n",
       "      <th>...</th>\n",
       "      <th>Division_People/HR Management</th>\n",
       "      <th>Division_Regulatory and Legal services</th>\n",
       "      <th>Division_Research and Innovation</th>\n",
       "      <th>Division_Sourcing and Purchasing</th>\n",
       "      <th>Last_performance_score_0.0</th>\n",
       "      <th>Last_performance_score_2.5</th>\n",
       "      <th>Last_performance_score_5.0</th>\n",
       "      <th>Last_performance_score_7.5</th>\n",
       "      <th>Last_performance_score_10.0</th>\n",
       "      <th>Last_performance_score_12.5</th>\n",
       "    </tr>\n",
       "  </thead>\n",
       "  <tbody>\n",
       "    <tr>\n",
       "      <th>0</th>\n",
       "      <td>Male</td>\n",
       "      <td>1</td>\n",
       "      <td>0</td>\n",
       "      <td>0</td>\n",
       "      <td>1</td>\n",
       "      <td>0</td>\n",
       "      <td>0</td>\n",
       "      <td>1</td>\n",
       "      <td>0</td>\n",
       "      <td>0</td>\n",
       "      <td>...</td>\n",
       "      <td>0</td>\n",
       "      <td>0</td>\n",
       "      <td>0</td>\n",
       "      <td>0</td>\n",
       "      <td>0</td>\n",
       "      <td>0</td>\n",
       "      <td>0</td>\n",
       "      <td>1</td>\n",
       "      <td>0</td>\n",
       "      <td>0</td>\n",
       "    </tr>\n",
       "    <tr>\n",
       "      <th>1</th>\n",
       "      <td>Male</td>\n",
       "      <td>0</td>\n",
       "      <td>0</td>\n",
       "      <td>0</td>\n",
       "      <td>1</td>\n",
       "      <td>0</td>\n",
       "      <td>0</td>\n",
       "      <td>1</td>\n",
       "      <td>0</td>\n",
       "      <td>0</td>\n",
       "      <td>...</td>\n",
       "      <td>0</td>\n",
       "      <td>0</td>\n",
       "      <td>0</td>\n",
       "      <td>0</td>\n",
       "      <td>1</td>\n",
       "      <td>0</td>\n",
       "      <td>0</td>\n",
       "      <td>0</td>\n",
       "      <td>0</td>\n",
       "      <td>0</td>\n",
       "    </tr>\n",
       "    <tr>\n",
       "      <th>2</th>\n",
       "      <td>Male</td>\n",
       "      <td>0</td>\n",
       "      <td>0</td>\n",
       "      <td>0</td>\n",
       "      <td>1</td>\n",
       "      <td>0</td>\n",
       "      <td>0</td>\n",
       "      <td>0</td>\n",
       "      <td>1</td>\n",
       "      <td>0</td>\n",
       "      <td>...</td>\n",
       "      <td>0</td>\n",
       "      <td>0</td>\n",
       "      <td>1</td>\n",
       "      <td>0</td>\n",
       "      <td>0</td>\n",
       "      <td>0</td>\n",
       "      <td>0</td>\n",
       "      <td>1</td>\n",
       "      <td>0</td>\n",
       "      <td>0</td>\n",
       "    </tr>\n",
       "    <tr>\n",
       "      <th>3</th>\n",
       "      <td>Male</td>\n",
       "      <td>0</td>\n",
       "      <td>0</td>\n",
       "      <td>0</td>\n",
       "      <td>1</td>\n",
       "      <td>1</td>\n",
       "      <td>0</td>\n",
       "      <td>1</td>\n",
       "      <td>0</td>\n",
       "      <td>0</td>\n",
       "      <td>...</td>\n",
       "      <td>0</td>\n",
       "      <td>0</td>\n",
       "      <td>0</td>\n",
       "      <td>0</td>\n",
       "      <td>0</td>\n",
       "      <td>1</td>\n",
       "      <td>0</td>\n",
       "      <td>0</td>\n",
       "      <td>0</td>\n",
       "      <td>0</td>\n",
       "    </tr>\n",
       "    <tr>\n",
       "      <th>4</th>\n",
       "      <td>Male</td>\n",
       "      <td>0</td>\n",
       "      <td>1</td>\n",
       "      <td>0</td>\n",
       "      <td>1</td>\n",
       "      <td>0</td>\n",
       "      <td>0</td>\n",
       "      <td>1</td>\n",
       "      <td>0</td>\n",
       "      <td>0</td>\n",
       "      <td>...</td>\n",
       "      <td>0</td>\n",
       "      <td>0</td>\n",
       "      <td>0</td>\n",
       "      <td>0</td>\n",
       "      <td>0</td>\n",
       "      <td>0</td>\n",
       "      <td>0</td>\n",
       "      <td>1</td>\n",
       "      <td>0</td>\n",
       "      <td>0</td>\n",
       "    </tr>\n",
       "  </tbody>\n",
       "</table>\n",
       "<p>5 rows × 39 columns</p>\n",
       "</div>"
      ],
      "text/plain": [
       "  Gender  Year_of_birth  Targets_met  Previous_Award  Training_score_average  \\\n",
       "0   Male              1            0               0                       1   \n",
       "1   Male              0            0               0                       1   \n",
       "2   Male              0            0               0                       1   \n",
       "3   Male              0            0               0                       1   \n",
       "4   Male              0            1               0                       1   \n",
       "\n",
       "   Marital_Status Past_Disciplinary_Action  Qualification_First Degree or HND  \\\n",
       "0               0                        0                                  1   \n",
       "1               0                        0                                  1   \n",
       "2               0                        0                                  0   \n",
       "3               1                        0                                  1   \n",
       "4               0                        0                                  1   \n",
       "\n",
       "   Qualification_MSc, MBA and PhD  Qualification_Non-University Education  \\\n",
       "0                               0                                       0   \n",
       "1                               0                                       0   \n",
       "2                               1                                       0   \n",
       "3                               0                                       0   \n",
       "4                               0                                       0   \n",
       "\n",
       "              ...               Division_People/HR Management  \\\n",
       "0             ...                                           0   \n",
       "1             ...                                           0   \n",
       "2             ...                                           0   \n",
       "3             ...                                           0   \n",
       "4             ...                                           0   \n",
       "\n",
       "   Division_Regulatory and Legal services  Division_Research and Innovation  \\\n",
       "0                                       0                                 0   \n",
       "1                                       0                                 0   \n",
       "2                                       0                                 1   \n",
       "3                                       0                                 0   \n",
       "4                                       0                                 0   \n",
       "\n",
       "   Division_Sourcing and Purchasing  Last_performance_score_0.0  \\\n",
       "0                                 0                           0   \n",
       "1                                 0                           1   \n",
       "2                                 0                           0   \n",
       "3                                 0                           0   \n",
       "4                                 0                           0   \n",
       "\n",
       "   Last_performance_score_2.5  Last_performance_score_5.0  \\\n",
       "0                           0                           0   \n",
       "1                           0                           0   \n",
       "2                           0                           0   \n",
       "3                           1                           0   \n",
       "4                           0                           0   \n",
       "\n",
       "   Last_performance_score_7.5  Last_performance_score_10.0  \\\n",
       "0                           1                            0   \n",
       "1                           0                            0   \n",
       "2                           1                            0   \n",
       "3                           0                            0   \n",
       "4                           1                            0   \n",
       "\n",
       "   Last_performance_score_12.5  \n",
       "0                            0  \n",
       "1                            0  \n",
       "2                            0  \n",
       "3                            0  \n",
       "4                            0  \n",
       "\n",
       "[5 rows x 39 columns]"
      ]
     },
     "execution_count": 599,
     "metadata": {},
     "output_type": "execute_result"
    }
   ],
   "source": [
    "test_data.head()"
   ]
  },
  {
   "cell_type": "markdown",
   "metadata": {},
   "source": [
    "# Model building"
   ]
  },
  {
   "cell_type": "code",
   "execution_count": 600,
   "metadata": {
    "collapsed": true
   },
   "outputs": [],
   "source": [
    "y_copy = train_data['Promoted_or_Not']\n",
    "x_copy = train_data.drop('Promoted_or_Not', axis = 1)\n",
    "x = x_copy.copy()\n",
    "y = y_copy.copy()"
   ]
  },
  {
   "cell_type": "markdown",
   "metadata": {},
   "source": [
    "# Feature engineering"
   ]
  },
  {
   "cell_type": "code",
   "execution_count": 601,
   "metadata": {
    "collapsed": true
   },
   "outputs": [],
   "source": [
    "train_data['Past_Disciplinary_Action'] = train_data['Past_Disciplinary_Action'].astype('int')\n",
    "\n",
    "\n",
    "test_data['Past_Disciplinary_Action'] = test_data['Past_Disciplinary_Action'].astype('int')\n"
   ]
  },
  {
   "cell_type": "raw",
   "metadata": {},
   "source": [
    "train_data.info()"
   ]
  },
  {
   "cell_type": "code",
   "execution_count": 602,
   "metadata": {},
   "outputs": [
    {
     "data": {
      "text/plain": [
       "{'Female': (10414, 1018), 'Male': (24657, 2223)}"
      ]
     },
     "execution_count": 602,
     "metadata": {},
     "output_type": "execute_result"
    }
   ],
   "source": [
    "dictionary = report(train_data['Gender'], train_data['Promoted_or_Not'])\n",
    "dictionary"
   ]
  },
  {
   "cell_type": "code",
   "execution_count": 603,
   "metadata": {
    "collapsed": true
   },
   "outputs": [],
   "source": [
    "train_data = pd.get_dummies(train_data, columns = ['Gender'])\n",
    "test_data = pd.get_dummies(test_data, columns = ['Gender'])\n",
    "\n",
    "#train_data = train_data.drop('Gender', axis = 1)\n",
    "#test_data = test_data.drop('Gender', axis = 1)"
   ]
  },
  {
   "cell_type": "code",
   "execution_count": 604,
   "metadata": {},
   "outputs": [
    {
     "data": {
      "text/plain": [
       "((38312, 41), (16496, 40))"
      ]
     },
     "execution_count": 604,
     "metadata": {},
     "output_type": "execute_result"
    }
   ],
   "source": [
    "train_data.shape, test_data.shape"
   ]
  },
  {
   "cell_type": "code",
   "execution_count": 605,
   "metadata": {
    "collapsed": true
   },
   "outputs": [],
   "source": [
    "y_copy = train_data['Promoted_or_Not']\n",
    "x_copy = train_data.drop('Promoted_or_Not', axis = 1)\n",
    "x = x_copy.copy()\n",
    "y = y_copy.copy()"
   ]
  },
  {
   "cell_type": "code",
   "execution_count": 606,
   "metadata": {
    "collapsed": true
   },
   "outputs": [],
   "source": [
    "special_x = x.copy()\n",
    "special_y = y.copy()"
   ]
  },
  {
   "cell_type": "raw",
   "metadata": {},
   "source": [
    "from sklearn.feature_selection import chi2, SelectKBest, f_classif\n",
    "\n",
    "data = SelectKBest(chi2, k = 20)\n",
    "x_new = data.fit_transform(x, y)\n"
   ]
  },
  {
   "cell_type": "raw",
   "metadata": {
    "collapsed": true
   },
   "source": [
    "mask = data.get_support() #list of booleans\n",
    "new_features = [] # The list of your K best features\n",
    "\n",
    "for bool, feature in zip(mask, x.columns):\n",
    "    if bool:\n",
    "        new_features.append(feature)"
   ]
  },
  {
   "cell_type": "raw",
   "metadata": {},
   "source": [
    "new_features"
   ]
  },
  {
   "cell_type": "raw",
   "metadata": {},
   "source": [
    "x_new"
   ]
  },
  {
   "cell_type": "raw",
   "metadata": {},
   "source": [
    "frame = pd.DataFrame(x_new, columns = new_features)\n",
    "frame.head()"
   ]
  },
  {
   "cell_type": "raw",
   "metadata": {
    "collapsed": true
   },
   "source": [
    "train_data = train_data[new_features]\n",
    "test_data = test_data[new_features]"
   ]
  },
  {
   "cell_type": "raw",
   "metadata": {},
   "source": [
    "frame.shape, test_data.shape"
   ]
  },
  {
   "cell_type": "markdown",
   "metadata": {},
   "source": [
    "# PCA"
   ]
  },
  {
   "cell_type": "raw",
   "metadata": {
    "collapsed": true
   },
   "source": [
    "from sklearn.decomposition import PCA\n",
    "pca = PCA(n_components = 10)"
   ]
  },
  {
   "cell_type": "raw",
   "metadata": {},
   "source": [
    "pca.fit(x,y)"
   ]
  },
  {
   "cell_type": "raw",
   "metadata": {
    "scrolled": true
   },
   "source": [
    "print(pca.components_)\n"
   ]
  },
  {
   "cell_type": "raw",
   "metadata": {},
   "source": [
    "print(pca.explained_variance_ratio_.sum())"
   ]
  },
  {
   "cell_type": "raw",
   "metadata": {
    "collapsed": true
   },
   "source": [
    "transformed_data = pca.transform(x)"
   ]
  },
  {
   "cell_type": "raw",
   "metadata": {},
   "source": [
    "transformed_data.shape,y.shape"
   ]
  },
  {
   "cell_type": "markdown",
   "metadata": {},
   "source": [
    "# Scaling"
   ]
  },
  {
   "cell_type": "raw",
   "metadata": {},
   "source": [
    "x_new.shape"
   ]
  },
  {
   "cell_type": "code",
   "execution_count": 607,
   "metadata": {},
   "outputs": [
    {
     "data": {
      "text/plain": [
       "(38312, 40)"
      ]
     },
     "execution_count": 607,
     "metadata": {},
     "output_type": "execute_result"
    }
   ],
   "source": [
    "x.shape"
   ]
  },
  {
   "cell_type": "code",
   "execution_count": 608,
   "metadata": {
    "collapsed": true
   },
   "outputs": [],
   "source": [
    "from sklearn.preprocessing import MinMaxScaler\n",
    "from sklearn.preprocessing import StandardScaler\n",
    "std = StandardScaler()\n",
    "min_max = MinMaxScaler()\n",
    "\n",
    "\n",
    "x = min_max.fit_transform(x)"
   ]
  },
  {
   "cell_type": "raw",
   "metadata": {
    "collapsed": true
   },
   "source": [
    "test_data = test_data[new_features]"
   ]
  },
  {
   "cell_type": "raw",
   "metadata": {},
   "source": [
    "test_data.shape, x.shape"
   ]
  },
  {
   "cell_type": "raw",
   "metadata": {
    "collapsed": true
   },
   "source": [
    "test_X = min_max.fit_transform(test_data)"
   ]
  },
  {
   "cell_type": "raw",
   "metadata": {},
   "source": [
    "x.shape, y.shape"
   ]
  },
  {
   "cell_type": "raw",
   "metadata": {},
   "source": [
    "help(sk.model_selection.StratifiedShuffleSplit)"
   ]
  },
  {
   "cell_type": "raw",
   "metadata": {},
   "source": [
    "x.shape, y.shape"
   ]
  },
  {
   "cell_type": "code",
   "execution_count": 609,
   "metadata": {
    "collapsed": true,
    "scrolled": true
   },
   "outputs": [],
   "source": [
    "from sklearn.model_selection import train_test_split\n",
    "y = y.astype('int')\n",
    "x_train, x_test,y_train, y_test = train_test_split(x, y, train_size = 0.7, random_state = 42, stratify = y)\n"
   ]
  },
  {
   "cell_type": "code",
   "execution_count": 610,
   "metadata": {},
   "outputs": [
    {
     "data": {
      "text/plain": [
       "(2269, 972)"
      ]
     },
     "execution_count": 610,
     "metadata": {},
     "output_type": "execute_result"
    }
   ],
   "source": [
    "sum(y_train), sum(y_test)"
   ]
  },
  {
   "cell_type": "code",
   "execution_count": 611,
   "metadata": {},
   "outputs": [
    {
     "data": {
      "text/plain": [
       "0.084607353270191657"
      ]
     },
     "execution_count": 611,
     "metadata": {},
     "output_type": "execute_result"
    }
   ],
   "source": [
    "sum(y_train)/y_train.shape[0]"
   ]
  },
  {
   "cell_type": "code",
   "execution_count": 612,
   "metadata": {},
   "outputs": [
    {
     "data": {
      "text/plain": [
       "0.084565860448929872"
      ]
     },
     "execution_count": 612,
     "metadata": {},
     "output_type": "execute_result"
    }
   ],
   "source": [
    "sum(y_test)/y_test.shape[0]"
   ]
  },
  {
   "cell_type": "raw",
   "metadata": {
    "collapsed": true,
    "scrolled": true
   },
   "source": [
    "#from imblearn.over_sampling import SMOTE\n",
    "\n",
    "#sm = SMOTE(random_state=12, ratio = 1.0)\n",
    "#x_train,y_train = sm.fit_resample(x_train,y_train)\n",
    "\n",
    "\n",
    "#from imblearn.over_sampling import RandomOverSampler\n",
    "#ros = RandomOverSampler(random_state=0)\n",
    "#x_train, y_train = ros.fit_resample(x_train, y_train)\n"
   ]
  },
  {
   "cell_type": "markdown",
   "metadata": {},
   "source": [
    "# Decison Tree"
   ]
  },
  {
   "cell_type": "code",
   "execution_count": 615,
   "metadata": {},
   "outputs": [
    {
     "data": {
      "text/plain": [
       "(0.92706391229771046, 0.90934400556812245)"
      ]
     },
     "execution_count": 615,
     "metadata": {},
     "output_type": "execute_result"
    }
   ],
   "source": [
    "#x_train = X_train\n",
    "from sklearn.tree import DecisionTreeClassifier\n",
    "lr = DecisionTreeClassifier(max_depth = 60, min_samples_split = 8, min_samples_leaf = 2)\n",
    "from sklearn.metrics import accuracy_score, precision_score, f1_score\n",
    "lr.fit(x_train, y_train)\n",
    "lr.score(x_train, y_train), lr.score(x_test, y_test)"
   ]
  },
  {
   "cell_type": "code",
   "execution_count": 614,
   "metadata": {},
   "outputs": [
    {
     "name": "stdout",
     "output_type": "stream",
     "text": [
      "Fitting 3 folds for each of 252 candidates, totalling 756 fits\n"
     ]
    },
    {
     "name": "stderr",
     "output_type": "stream",
     "text": [
      "[Parallel(n_jobs=-1)]: Done  34 tasks      | elapsed:   11.3s\n",
      "[Parallel(n_jobs=-1)]: Done 184 tasks      | elapsed:   16.4s\n",
      "[Parallel(n_jobs=-1)]: Done 434 tasks      | elapsed:   25.0s\n",
      "[Parallel(n_jobs=-1)]: Done 756 out of 756 | elapsed:   36.0s finished\n"
     ]
    },
    {
     "name": "stdout",
     "output_type": "stream",
     "text": [
      "Best Score:  0.10445293678\n",
      "Best Params:  {'max_depth': 60, 'min_samples_leaf': 2, 'min_samples_split': 8}\n"
     ]
    }
   ],
   "source": [
    "from sklearn.model_selection import GridSearchCV, RandomizedSearchCV\n",
    "from sklearn.tree import DecisionTreeClassifier\n",
    "lr = DecisionTreeClassifier()\n",
    "\n",
    "max_depth = [10,20,30,40,50,60,70,80,90]\n",
    "min_samples_split = [8,10,12,14,16,18,20]\n",
    "min_samples_leaf = [2,4,6,8]\n",
    "\n",
    "\n",
    "param_grid = dict(max_depth = max_depth, min_samples_split = min_samples_split, min_samples_leaf = min_samples_leaf)\n",
    "\n",
    "grid = GridSearchCV(estimator=lr,\n",
    "                    param_grid=param_grid,\n",
    "                    scoring='recall',\n",
    "                    verbose=1,\n",
    "                    n_jobs=-1)\n",
    "grid_result = grid.fit(x_train, y_train)\n",
    "\n",
    "print('Best Score: ', grid_result.best_score_)\n",
    "print('Best Params: ', grid_result.best_params_)"
   ]
  },
  {
   "cell_type": "code",
   "execution_count": 616,
   "metadata": {},
   "outputs": [
    {
     "name": "stdout",
     "output_type": "stream",
     "text": [
      "confusion matrix\n",
      "[[10351   171]\n",
      " [  876    96]]\n"
     ]
    }
   ],
   "source": [
    "from sklearn import metrics\n",
    "lr.fit(x_train, y_train)\n",
    "\n",
    "pred = lr.predict(x_test)\n",
    "\n",
    "print('confusion matrix')\n",
    "print(metrics.confusion_matrix(y_test, pred))"
   ]
  },
  {
   "cell_type": "raw",
   "metadata": {},
   "source": [
    "np.unique(pred)"
   ]
  },
  {
   "cell_type": "code",
   "execution_count": 617,
   "metadata": {},
   "outputs": [
    {
     "name": "stdout",
     "output_type": "stream",
     "text": [
      "classification report\n",
      "             precision    recall  f1-score   support\n",
      "\n",
      "          0       0.92      0.98      0.95     10522\n",
      "          1       0.36      0.10      0.15       972\n",
      "\n",
      "avg / total       0.87      0.91      0.88     11494\n",
      "\n"
     ]
    }
   ],
   "source": [
    "print('classification report')\n",
    "print(metrics.classification_report(y_test, pred))\n"
   ]
  },
  {
   "cell_type": "raw",
   "metadata": {},
   "source": [
    "test = pd.DataFrame()\n",
    "prediction = lr.predict(test_X)\n",
    "test['EmployeeNo'] = target_id\n",
    "test['Promoted_or_Not'] =prediction.astype('int')\n",
    "\n",
    "test.to_csv('dtc1.csv', index = False)"
   ]
  },
  {
   "cell_type": "raw",
   "metadata": {},
   "source": [
    "f1_score(y_test, pred)"
   ]
  },
  {
   "cell_type": "code",
   "execution_count": 325,
   "metadata": {
    "collapsed": true
   },
   "outputs": [],
   "source": [
    "from sklearn.ensemble import RandomForestClassifier\n",
    "rand = RandomForestClassifier(max_depth = 100, min_samples_split = 2, min_samples_leaf = 4, n_estimators = 1400)\n",
    "rand.fit(x_train, y_train)\n",
    "pred = rand.predict(x_test)"
   ]
  },
  {
   "cell_type": "code",
   "execution_count": 326,
   "metadata": {},
   "outputs": [
    {
     "name": "stdout",
     "output_type": "stream",
     "text": [
      "classification report\n",
      "             precision    recall  f1-score   support\n",
      "\n",
      "          0       0.93      1.00      0.96     10522\n",
      "          1       0.97      0.20      0.33       972\n",
      "\n",
      "avg / total       0.93      0.93      0.91     11494\n",
      "\n"
     ]
    }
   ],
   "source": [
    "print('classification report')\n",
    "from sklearn import metrics\n",
    "print(metrics.classification_report(y_test, pred))\n"
   ]
  },
  {
   "cell_type": "code",
   "execution_count": 219,
   "metadata": {},
   "outputs": [
    {
     "data": {
      "text/plain": [
       "(0.92952322136197374, 0.73510751028041088, 0.9417982513375962)"
      ]
     },
     "execution_count": 219,
     "metadata": {},
     "output_type": "execute_result"
    }
   ],
   "source": [
    "y_test_pred = pred\n",
    "f1_score(y_test,y_test_preds,average= 'weighted'),f1_score(y_test,y_test_preds,average= 'macro'),f1_score(y_test,y_test_preds,average= 'micro')"
   ]
  },
  {
   "cell_type": "raw",
   "metadata": {
    "collapsed": true
   },
   "source": [
    "test = pd.DataFrame()\n",
    "prediction =rand.predict(test_X)\n",
    "test['EmployeeNo'] = target_id\n",
    "test['Promoted_or_Not'] =prediction.astype('int')\n",
    "\n",
    "test.to_csv('rank_k.csv', index = False)"
   ]
  },
  {
   "cell_type": "code",
   "execution_count": 324,
   "metadata": {},
   "outputs": [
    {
     "name": "stdout",
     "output_type": "stream",
     "text": [
      "Fitting 3 folds for each of 12 candidates, totalling 36 fits\n"
     ]
    },
    {
     "name": "stderr",
     "output_type": "stream",
     "text": [
      "[Parallel(n_jobs=-1)]: Done  36 out of  36 | elapsed:  3.9min finished\n"
     ]
    },
    {
     "name": "stdout",
     "output_type": "stream",
     "text": [
      "Best Score:  0.171433049121\n",
      "Best Params:  {'max_depth': 100, 'min_samples_leaf': 4, 'min_samples_split': 2, 'n_estimators': 1400}\n"
     ]
    }
   ],
   "source": [
    "from sklearn.model_selection import GridSearchCV, RandomizedSearchCV\n",
    "from sklearn.ensemble import RandomForestClassifier\n",
    "lr = RandomForestClassifier()\n",
    "\n",
    "max_depth = [100,120]\n",
    "min_samples_split = [2]\n",
    "n_estimators = [1200,1400]\n",
    "min_samples_leaf = [4,5,6]\n",
    "\n",
    "\n",
    "param_grid = dict(max_depth = max_depth, min_samples_split = min_samples_split,\n",
    "                 n_estimators = n_estimators,min_samples_leaf = min_samples_leaf)\n",
    "\n",
    "grid = GridSearchCV(estimator=lr,\n",
    "                    param_grid=param_grid,\n",
    "                    scoring='recall',\n",
    "                    verbose=1,\n",
    "                    n_jobs=-1)\n",
    "grid_result = grid.fit(x_train, y_train)\n",
    "\n",
    "print('Best Score: ', grid_result.best_score_)\n",
    "print('Best Params: ', grid_result.best_params_)"
   ]
  },
  {
   "cell_type": "code",
   "execution_count": 95,
   "metadata": {},
   "outputs": [
    {
     "data": {
      "text/plain": [
       "dict_keys(['r2', 'neg_median_absolute_error', 'neg_mean_absolute_error', 'neg_mean_squared_error', 'median_absolute_error', 'mean_absolute_error', 'mean_squared_error', 'accuracy', 'roc_auc', 'average_precision', 'log_loss', 'neg_log_loss', 'adjusted_rand_score', 'precision', 'precision_macro', 'precision_micro', 'precision_samples', 'precision_weighted', 'recall', 'recall_macro', 'recall_micro', 'recall_samples', 'recall_weighted', 'f1', 'f1_macro', 'f1_micro', 'f1_samples', 'f1_weighted'])"
      ]
     },
     "execution_count": 95,
     "metadata": {},
     "output_type": "execute_result"
    }
   ],
   "source": [
    "import sklearn\n",
    "sklearn.metrics.SCORERS.keys()"
   ]
  },
  {
   "cell_type": "raw",
   "metadata": {
    "collapsed": true
   },
   "source": [
    "from sklearn.model_selection import GridSearchCV, RandomizedSearchCV\n",
    "from sklearn.ensemble import RandomForestClassifier\n",
    "rand = RandomForestClassifier()\n",
    "\n",
    "learning_rate = [30,40,50,60]\n",
    "\n",
    "n_estimators = [1200,1500,2000]\n",
    "\n",
    "param_grid = dict(max_depth = learning_rate,\n",
    "                 n_estimators = n_estimators)\n",
    "\n",
    "grid = GridSearchCV(estimator=rand,\n",
    "                    param_grid=param_grid,\n",
    "                    scoring='recall',\n",
    "                    verbose=1,\n",
    "                    n_jobs=-1)\n",
    "#grid_result = grid.fit(x_train, y_train)\n",
    "\n",
    "#print('Best Score: ', grid_result.best_score_)\n",
    "#print('Best Params: ', grid_result.best_params_)"
   ]
  },
  {
   "cell_type": "raw",
   "metadata": {
    "collapsed": true
   },
   "source": [
    "#pred = rand.predict(test_X)"
   ]
  },
  {
   "cell_type": "markdown",
   "metadata": {},
   "source": [
    "# XGBoost model"
   ]
  },
  {
   "cell_type": "code",
   "execution_count": 220,
   "metadata": {},
   "outputs": [
    {
     "data": {
      "text/plain": [
       "'             precision    recall  f1-score   support\\n\\n          0       0.93      1.00      0.96      7015\\n          1       0.97      0.21      0.35       648\\n\\navg / total       0.94      0.93      0.91      7663\\n'"
      ]
     },
     "execution_count": 220,
     "metadata": {},
     "output_type": "execute_result"
    }
   ],
   "source": [
    "from xgboost.sklearn import XGBClassifier\n",
    "xgb = XGBClassifier()\n",
    "xgb.fit(x_train, y_train)\n",
    "prediction = xgb.predict(x_test)\n",
    "prediction = prediction.astype('int')\n",
    "from sklearn.metrics import classification_report\n",
    "classification_report(y_test, prediction)        "
   ]
  },
  {
   "cell_type": "code",
   "execution_count": 221,
   "metadata": {},
   "outputs": [
    {
     "data": {
      "text/plain": [
       "0.35101010101010099"
      ]
     },
     "execution_count": 221,
     "metadata": {},
     "output_type": "execute_result"
    }
   ],
   "source": [
    "f1_score(y_test, prediction)"
   ]
  },
  {
   "cell_type": "code",
   "execution_count": 327,
   "metadata": {},
   "outputs": [
    {
     "name": "stdout",
     "output_type": "stream",
     "text": [
      "Fitting 3 folds for each of 60 candidates, totalling 180 fits\n"
     ]
    },
    {
     "name": "stderr",
     "output_type": "stream",
     "text": [
      "[Parallel(n_jobs=-1)]: Done  34 tasks      | elapsed:  7.5min\n"
     ]
    },
    {
     "ename": "KeyboardInterrupt",
     "evalue": "",
     "output_type": "error",
     "traceback": [
      "\u001b[1;31m---------------------------------------------------------------------------\u001b[0m",
      "\u001b[1;31mKeyboardInterrupt\u001b[0m                         Traceback (most recent call last)",
      "\u001b[1;32m<ipython-input-327-7d5536e4090d>\u001b[0m in \u001b[0;36m<module>\u001b[1;34m()\u001b[0m\n\u001b[0;32m     18\u001b[0m                     \u001b[0mverbose\u001b[0m\u001b[1;33m=\u001b[0m\u001b[1;36m1\u001b[0m\u001b[1;33m,\u001b[0m\u001b[1;33m\u001b[0m\u001b[0m\n\u001b[0;32m     19\u001b[0m                     n_jobs=-1)\n\u001b[1;32m---> 20\u001b[1;33m \u001b[0mgrid_result\u001b[0m \u001b[1;33m=\u001b[0m \u001b[0mgrid\u001b[0m\u001b[1;33m.\u001b[0m\u001b[0mfit\u001b[0m\u001b[1;33m(\u001b[0m\u001b[0mx_train\u001b[0m\u001b[1;33m,\u001b[0m \u001b[0my_train\u001b[0m\u001b[1;33m)\u001b[0m\u001b[1;33m\u001b[0m\u001b[0m\n\u001b[0m\u001b[0;32m     21\u001b[0m \u001b[1;33m\u001b[0m\u001b[0m\n\u001b[0;32m     22\u001b[0m \u001b[0mprint\u001b[0m\u001b[1;33m(\u001b[0m\u001b[1;34m'Best Score: '\u001b[0m\u001b[1;33m,\u001b[0m \u001b[0mgrid_result\u001b[0m\u001b[1;33m.\u001b[0m\u001b[0mbest_score_\u001b[0m\u001b[1;33m)\u001b[0m\u001b[1;33m\u001b[0m\u001b[0m\n",
      "\u001b[1;32mC:\\Users\\Elishama\\AppData\\Local\\Continuum\\Anaconda3\\lib\\site-packages\\sklearn\\model_selection\\_search.py\u001b[0m in \u001b[0;36mfit\u001b[1;34m(self, X, y, groups)\u001b[0m\n\u001b[0;32m    943\u001b[0m             \u001b[0mtrain\u001b[0m\u001b[1;33m/\u001b[0m\u001b[0mtest\u001b[0m \u001b[0mset\u001b[0m\u001b[1;33m.\u001b[0m\u001b[1;33m\u001b[0m\u001b[0m\n\u001b[0;32m    944\u001b[0m         \"\"\"\n\u001b[1;32m--> 945\u001b[1;33m         \u001b[1;32mreturn\u001b[0m \u001b[0mself\u001b[0m\u001b[1;33m.\u001b[0m\u001b[0m_fit\u001b[0m\u001b[1;33m(\u001b[0m\u001b[0mX\u001b[0m\u001b[1;33m,\u001b[0m \u001b[0my\u001b[0m\u001b[1;33m,\u001b[0m \u001b[0mgroups\u001b[0m\u001b[1;33m,\u001b[0m \u001b[0mParameterGrid\u001b[0m\u001b[1;33m(\u001b[0m\u001b[0mself\u001b[0m\u001b[1;33m.\u001b[0m\u001b[0mparam_grid\u001b[0m\u001b[1;33m)\u001b[0m\u001b[1;33m)\u001b[0m\u001b[1;33m\u001b[0m\u001b[0m\n\u001b[0m\u001b[0;32m    946\u001b[0m \u001b[1;33m\u001b[0m\u001b[0m\n\u001b[0;32m    947\u001b[0m \u001b[1;33m\u001b[0m\u001b[0m\n",
      "\u001b[1;32mC:\\Users\\Elishama\\AppData\\Local\\Continuum\\Anaconda3\\lib\\site-packages\\sklearn\\model_selection\\_search.py\u001b[0m in \u001b[0;36m_fit\u001b[1;34m(self, X, y, groups, parameter_iterable)\u001b[0m\n\u001b[0;32m    562\u001b[0m                                   \u001b[0mreturn_times\u001b[0m\u001b[1;33m=\u001b[0m\u001b[1;32mTrue\u001b[0m\u001b[1;33m,\u001b[0m \u001b[0mreturn_parameters\u001b[0m\u001b[1;33m=\u001b[0m\u001b[1;32mTrue\u001b[0m\u001b[1;33m,\u001b[0m\u001b[1;33m\u001b[0m\u001b[0m\n\u001b[0;32m    563\u001b[0m                                   error_score=self.error_score)\n\u001b[1;32m--> 564\u001b[1;33m           \u001b[1;32mfor\u001b[0m \u001b[0mparameters\u001b[0m \u001b[1;32min\u001b[0m \u001b[0mparameter_iterable\u001b[0m\u001b[1;33m\u001b[0m\u001b[0m\n\u001b[0m\u001b[0;32m    565\u001b[0m           for train, test in cv_iter)\n\u001b[0;32m    566\u001b[0m \u001b[1;33m\u001b[0m\u001b[0m\n",
      "\u001b[1;32mC:\\Users\\Elishama\\AppData\\Local\\Continuum\\Anaconda3\\lib\\site-packages\\sklearn\\externals\\joblib\\parallel.py\u001b[0m in \u001b[0;36m__call__\u001b[1;34m(self, iterable)\u001b[0m\n\u001b[0;32m    766\u001b[0m                 \u001b[1;31m# consumption.\u001b[0m\u001b[1;33m\u001b[0m\u001b[1;33m\u001b[0m\u001b[0m\n\u001b[0;32m    767\u001b[0m                 \u001b[0mself\u001b[0m\u001b[1;33m.\u001b[0m\u001b[0m_iterating\u001b[0m \u001b[1;33m=\u001b[0m \u001b[1;32mFalse\u001b[0m\u001b[1;33m\u001b[0m\u001b[0m\n\u001b[1;32m--> 768\u001b[1;33m             \u001b[0mself\u001b[0m\u001b[1;33m.\u001b[0m\u001b[0mretrieve\u001b[0m\u001b[1;33m(\u001b[0m\u001b[1;33m)\u001b[0m\u001b[1;33m\u001b[0m\u001b[0m\n\u001b[0m\u001b[0;32m    769\u001b[0m             \u001b[1;31m# Make sure that we get a last message telling us we are done\u001b[0m\u001b[1;33m\u001b[0m\u001b[1;33m\u001b[0m\u001b[0m\n\u001b[0;32m    770\u001b[0m             \u001b[0melapsed_time\u001b[0m \u001b[1;33m=\u001b[0m \u001b[0mtime\u001b[0m\u001b[1;33m.\u001b[0m\u001b[0mtime\u001b[0m\u001b[1;33m(\u001b[0m\u001b[1;33m)\u001b[0m \u001b[1;33m-\u001b[0m \u001b[0mself\u001b[0m\u001b[1;33m.\u001b[0m\u001b[0m_start_time\u001b[0m\u001b[1;33m\u001b[0m\u001b[0m\n",
      "\u001b[1;32mC:\\Users\\Elishama\\AppData\\Local\\Continuum\\Anaconda3\\lib\\site-packages\\sklearn\\externals\\joblib\\parallel.py\u001b[0m in \u001b[0;36mretrieve\u001b[1;34m(self)\u001b[0m\n\u001b[0;32m    717\u001b[0m                     \u001b[0mensure_ready\u001b[0m \u001b[1;33m=\u001b[0m \u001b[0mself\u001b[0m\u001b[1;33m.\u001b[0m\u001b[0m_managed_backend\u001b[0m\u001b[1;33m\u001b[0m\u001b[0m\n\u001b[0;32m    718\u001b[0m                     \u001b[0mbackend\u001b[0m\u001b[1;33m.\u001b[0m\u001b[0mabort_everything\u001b[0m\u001b[1;33m(\u001b[0m\u001b[0mensure_ready\u001b[0m\u001b[1;33m=\u001b[0m\u001b[0mensure_ready\u001b[0m\u001b[1;33m)\u001b[0m\u001b[1;33m\u001b[0m\u001b[0m\n\u001b[1;32m--> 719\u001b[1;33m                 \u001b[1;32mraise\u001b[0m \u001b[0mexception\u001b[0m\u001b[1;33m\u001b[0m\u001b[0m\n\u001b[0m\u001b[0;32m    720\u001b[0m \u001b[1;33m\u001b[0m\u001b[0m\n\u001b[0;32m    721\u001b[0m     \u001b[1;32mdef\u001b[0m \u001b[0m__call__\u001b[0m\u001b[1;33m(\u001b[0m\u001b[0mself\u001b[0m\u001b[1;33m,\u001b[0m \u001b[0miterable\u001b[0m\u001b[1;33m)\u001b[0m\u001b[1;33m:\u001b[0m\u001b[1;33m\u001b[0m\u001b[0m\n",
      "\u001b[1;32mC:\\Users\\Elishama\\AppData\\Local\\Continuum\\Anaconda3\\lib\\site-packages\\sklearn\\externals\\joblib\\parallel.py\u001b[0m in \u001b[0;36mretrieve\u001b[1;34m(self)\u001b[0m\n\u001b[0;32m    680\u001b[0m                 \u001b[1;31m# check if timeout supported in backend future implementation\u001b[0m\u001b[1;33m\u001b[0m\u001b[1;33m\u001b[0m\u001b[0m\n\u001b[0;32m    681\u001b[0m                 \u001b[1;32mif\u001b[0m \u001b[1;34m'timeout'\u001b[0m \u001b[1;32min\u001b[0m \u001b[0mgetfullargspec\u001b[0m\u001b[1;33m(\u001b[0m\u001b[0mjob\u001b[0m\u001b[1;33m.\u001b[0m\u001b[0mget\u001b[0m\u001b[1;33m)\u001b[0m\u001b[1;33m.\u001b[0m\u001b[0margs\u001b[0m\u001b[1;33m:\u001b[0m\u001b[1;33m\u001b[0m\u001b[0m\n\u001b[1;32m--> 682\u001b[1;33m                     \u001b[0mself\u001b[0m\u001b[1;33m.\u001b[0m\u001b[0m_output\u001b[0m\u001b[1;33m.\u001b[0m\u001b[0mextend\u001b[0m\u001b[1;33m(\u001b[0m\u001b[0mjob\u001b[0m\u001b[1;33m.\u001b[0m\u001b[0mget\u001b[0m\u001b[1;33m(\u001b[0m\u001b[0mtimeout\u001b[0m\u001b[1;33m=\u001b[0m\u001b[0mself\u001b[0m\u001b[1;33m.\u001b[0m\u001b[0mtimeout\u001b[0m\u001b[1;33m)\u001b[0m\u001b[1;33m)\u001b[0m\u001b[1;33m\u001b[0m\u001b[0m\n\u001b[0m\u001b[0;32m    683\u001b[0m                 \u001b[1;32melse\u001b[0m\u001b[1;33m:\u001b[0m\u001b[1;33m\u001b[0m\u001b[0m\n\u001b[0;32m    684\u001b[0m                     \u001b[0mself\u001b[0m\u001b[1;33m.\u001b[0m\u001b[0m_output\u001b[0m\u001b[1;33m.\u001b[0m\u001b[0mextend\u001b[0m\u001b[1;33m(\u001b[0m\u001b[0mjob\u001b[0m\u001b[1;33m.\u001b[0m\u001b[0mget\u001b[0m\u001b[1;33m(\u001b[0m\u001b[1;33m)\u001b[0m\u001b[1;33m)\u001b[0m\u001b[1;33m\u001b[0m\u001b[0m\n",
      "\u001b[1;32mC:\\Users\\Elishama\\AppData\\Local\\Continuum\\Anaconda3\\lib\\multiprocessing\\pool.py\u001b[0m in \u001b[0;36mget\u001b[1;34m(self, timeout)\u001b[0m\n\u001b[0;32m    600\u001b[0m \u001b[1;33m\u001b[0m\u001b[0m\n\u001b[0;32m    601\u001b[0m     \u001b[1;32mdef\u001b[0m \u001b[0mget\u001b[0m\u001b[1;33m(\u001b[0m\u001b[0mself\u001b[0m\u001b[1;33m,\u001b[0m \u001b[0mtimeout\u001b[0m\u001b[1;33m=\u001b[0m\u001b[1;32mNone\u001b[0m\u001b[1;33m)\u001b[0m\u001b[1;33m:\u001b[0m\u001b[1;33m\u001b[0m\u001b[0m\n\u001b[1;32m--> 602\u001b[1;33m         \u001b[0mself\u001b[0m\u001b[1;33m.\u001b[0m\u001b[0mwait\u001b[0m\u001b[1;33m(\u001b[0m\u001b[0mtimeout\u001b[0m\u001b[1;33m)\u001b[0m\u001b[1;33m\u001b[0m\u001b[0m\n\u001b[0m\u001b[0;32m    603\u001b[0m         \u001b[1;32mif\u001b[0m \u001b[1;32mnot\u001b[0m \u001b[0mself\u001b[0m\u001b[1;33m.\u001b[0m\u001b[0mready\u001b[0m\u001b[1;33m(\u001b[0m\u001b[1;33m)\u001b[0m\u001b[1;33m:\u001b[0m\u001b[1;33m\u001b[0m\u001b[0m\n\u001b[0;32m    604\u001b[0m             \u001b[1;32mraise\u001b[0m \u001b[0mTimeoutError\u001b[0m\u001b[1;33m\u001b[0m\u001b[0m\n",
      "\u001b[1;32mC:\\Users\\Elishama\\AppData\\Local\\Continuum\\Anaconda3\\lib\\multiprocessing\\pool.py\u001b[0m in \u001b[0;36mwait\u001b[1;34m(self, timeout)\u001b[0m\n\u001b[0;32m    597\u001b[0m \u001b[1;33m\u001b[0m\u001b[0m\n\u001b[0;32m    598\u001b[0m     \u001b[1;32mdef\u001b[0m \u001b[0mwait\u001b[0m\u001b[1;33m(\u001b[0m\u001b[0mself\u001b[0m\u001b[1;33m,\u001b[0m \u001b[0mtimeout\u001b[0m\u001b[1;33m=\u001b[0m\u001b[1;32mNone\u001b[0m\u001b[1;33m)\u001b[0m\u001b[1;33m:\u001b[0m\u001b[1;33m\u001b[0m\u001b[0m\n\u001b[1;32m--> 599\u001b[1;33m         \u001b[0mself\u001b[0m\u001b[1;33m.\u001b[0m\u001b[0m_event\u001b[0m\u001b[1;33m.\u001b[0m\u001b[0mwait\u001b[0m\u001b[1;33m(\u001b[0m\u001b[0mtimeout\u001b[0m\u001b[1;33m)\u001b[0m\u001b[1;33m\u001b[0m\u001b[0m\n\u001b[0m\u001b[0;32m    600\u001b[0m \u001b[1;33m\u001b[0m\u001b[0m\n\u001b[0;32m    601\u001b[0m     \u001b[1;32mdef\u001b[0m \u001b[0mget\u001b[0m\u001b[1;33m(\u001b[0m\u001b[0mself\u001b[0m\u001b[1;33m,\u001b[0m \u001b[0mtimeout\u001b[0m\u001b[1;33m=\u001b[0m\u001b[1;32mNone\u001b[0m\u001b[1;33m)\u001b[0m\u001b[1;33m:\u001b[0m\u001b[1;33m\u001b[0m\u001b[0m\n",
      "\u001b[1;32mC:\\Users\\Elishama\\AppData\\Local\\Continuum\\Anaconda3\\lib\\threading.py\u001b[0m in \u001b[0;36mwait\u001b[1;34m(self, timeout)\u001b[0m\n\u001b[0;32m    549\u001b[0m             \u001b[0msignaled\u001b[0m \u001b[1;33m=\u001b[0m \u001b[0mself\u001b[0m\u001b[1;33m.\u001b[0m\u001b[0m_flag\u001b[0m\u001b[1;33m\u001b[0m\u001b[0m\n\u001b[0;32m    550\u001b[0m             \u001b[1;32mif\u001b[0m \u001b[1;32mnot\u001b[0m \u001b[0msignaled\u001b[0m\u001b[1;33m:\u001b[0m\u001b[1;33m\u001b[0m\u001b[0m\n\u001b[1;32m--> 551\u001b[1;33m                 \u001b[0msignaled\u001b[0m \u001b[1;33m=\u001b[0m \u001b[0mself\u001b[0m\u001b[1;33m.\u001b[0m\u001b[0m_cond\u001b[0m\u001b[1;33m.\u001b[0m\u001b[0mwait\u001b[0m\u001b[1;33m(\u001b[0m\u001b[0mtimeout\u001b[0m\u001b[1;33m)\u001b[0m\u001b[1;33m\u001b[0m\u001b[0m\n\u001b[0m\u001b[0;32m    552\u001b[0m             \u001b[1;32mreturn\u001b[0m \u001b[0msignaled\u001b[0m\u001b[1;33m\u001b[0m\u001b[0m\n\u001b[0;32m    553\u001b[0m \u001b[1;33m\u001b[0m\u001b[0m\n",
      "\u001b[1;32mC:\\Users\\Elishama\\AppData\\Local\\Continuum\\Anaconda3\\lib\\threading.py\u001b[0m in \u001b[0;36mwait\u001b[1;34m(self, timeout)\u001b[0m\n\u001b[0;32m    293\u001b[0m         \u001b[1;32mtry\u001b[0m\u001b[1;33m:\u001b[0m    \u001b[1;31m# restore state no matter what (e.g., KeyboardInterrupt)\u001b[0m\u001b[1;33m\u001b[0m\u001b[0m\n\u001b[0;32m    294\u001b[0m             \u001b[1;32mif\u001b[0m \u001b[0mtimeout\u001b[0m \u001b[1;32mis\u001b[0m \u001b[1;32mNone\u001b[0m\u001b[1;33m:\u001b[0m\u001b[1;33m\u001b[0m\u001b[0m\n\u001b[1;32m--> 295\u001b[1;33m                 \u001b[0mwaiter\u001b[0m\u001b[1;33m.\u001b[0m\u001b[0macquire\u001b[0m\u001b[1;33m(\u001b[0m\u001b[1;33m)\u001b[0m\u001b[1;33m\u001b[0m\u001b[0m\n\u001b[0m\u001b[0;32m    296\u001b[0m                 \u001b[0mgotit\u001b[0m \u001b[1;33m=\u001b[0m \u001b[1;32mTrue\u001b[0m\u001b[1;33m\u001b[0m\u001b[0m\n\u001b[0;32m    297\u001b[0m             \u001b[1;32melse\u001b[0m\u001b[1;33m:\u001b[0m\u001b[1;33m\u001b[0m\u001b[0m\n",
      "\u001b[1;31mKeyboardInterrupt\u001b[0m: "
     ]
    }
   ],
   "source": [
    "from sklearn.model_selection import GridSearchCV, RandomizedSearchCV\n",
    "from sklearn.ensemble import GradientBoostingClassifier\n",
    "gbrt = GradientBoostingClassifier()\n",
    "learning_rate = [0.01,0.1,1,10,100]\n",
    "\n",
    "n_estimators = [500,600,700,800]\n",
    "\n",
    "max_depth = [6,8,10]\n",
    "\n",
    "\n",
    "param_grid = dict(learning_rate = learning_rate,\n",
    "                 n_estimators = n_estimators, max_depth = max_depth)\n",
    "\n",
    "grid = GridSearchCV(estimator=xgb,\n",
    "                    param_grid=param_grid,\n",
    "                    scoring='recall',\n",
    "                    verbose=1,\n",
    "                    n_jobs=-1)\n",
    "grid_result = grid.fit(x_train, y_train)\n",
    "\n",
    "print('Best Score: ', grid_result.best_score_)\n",
    "print('Best Params: ', grid_result.best_params_)"
   ]
  },
  {
   "cell_type": "code",
   "execution_count": 222,
   "metadata": {},
   "outputs": [
    {
     "data": {
      "text/plain": [
       "GradientBoostingClassifier(criterion='friedman_mse', init=None,\n",
       "              learning_rate=0.01, loss='deviance', max_depth=8,\n",
       "              max_features=None, max_leaf_nodes=None,\n",
       "              min_impurity_split=1e-07, min_samples_leaf=1,\n",
       "              min_samples_split=2, min_weight_fraction_leaf=0.0,\n",
       "              n_estimators=600, presort='auto', random_state=None,\n",
       "              subsample=1.0, verbose=0, warm_start=False)"
      ]
     },
     "execution_count": 222,
     "metadata": {},
     "output_type": "execute_result"
    }
   ],
   "source": [
    "from sklearn.ensemble import GradientBoostingClassifier\n",
    "gbrt= GradientBoostingClassifier(n_estimators = 600, max_depth = 8, learning_rate = 0.01)\n",
    "gbrt.fit(x_train,y_train)"
   ]
  },
  {
   "cell_type": "code",
   "execution_count": 223,
   "metadata": {},
   "outputs": [
    {
     "data": {
      "text/plain": [
       "'             precision    recall  f1-score   support\\n\\n          0       0.93      1.00      0.96      7015\\n          1       0.95      0.21      0.35       648\\n\\navg / total       0.93      0.93      0.91      7663\\n'"
      ]
     },
     "execution_count": 223,
     "metadata": {},
     "output_type": "execute_result"
    }
   ],
   "source": [
    "y_test_preds= gbrt.predict(x_test).astype('int')\n",
    "from sklearn.metrics import classification_report, f1_score\n",
    "classification_report(y_test, y_test_preds)"
   ]
  },
  {
   "cell_type": "code",
   "execution_count": 224,
   "metadata": {},
   "outputs": [
    {
     "data": {
      "text/plain": [
       "(0.91254000797658064, 0.65730904991399164, 0.93266344773587373)"
      ]
     },
     "execution_count": 224,
     "metadata": {},
     "output_type": "execute_result"
    }
   ],
   "source": [
    "\n",
    "f1_score(y_test,y_test_preds,average= 'weighted'),f1_score(y_test,y_test_preds,average= 'macro'),f1_score(y_test,y_test_preds,average= 'micro')"
   ]
  },
  {
   "cell_type": "raw",
   "metadata": {
    "collapsed": true
   },
   "source": [
    "prediction = gbrt.predict(test_X)\n",
    "test = pd.DataFrame()\n",
    "test['EmployeeNo'] = target_id\n",
    "test['Promoted_or_Not'] =prediction.astype('int')\n",
    "\n",
    "test.to_csv('gbrt_k.csv', index = False)"
   ]
  },
  {
   "cell_type": "markdown",
   "metadata": {},
   "source": [
    "# optimize"
   ]
  },
  {
   "cell_type": "code",
   "execution_count": 225,
   "metadata": {},
   "outputs": [
    {
     "data": {
      "text/plain": [
       "'             precision    recall  f1-score   support\\n\\n          0       0.93      1.00      0.96      7015\\n          1       0.95      0.21      0.35       648\\n\\navg / total       0.93      0.93      0.91      7663\\n'"
      ]
     },
     "execution_count": 225,
     "metadata": {},
     "output_type": "execute_result"
    }
   ],
   "source": [
    "from xgboost.sklearn import XGBClassifier\n",
    "xgb = XGBClassifier(n_estimators = 500, max_depth = 10, learning_rate = 0.01)\n",
    "\n",
    "\n",
    "\n",
    "bst = xgb.fit(x_train, y_train)\n",
    "y_test_preds= bst.predict(x_test).astype('int')\n",
    "\n",
    "classification_report(y_test, y_test_preds)"
   ]
  },
  {
   "cell_type": "code",
   "execution_count": 111,
   "metadata": {},
   "outputs": [
    {
     "name": "stdout",
     "output_type": "stream",
     "text": [
      "Fitting 3 folds for each of 24 candidates, totalling 72 fits\n"
     ]
    },
    {
     "name": "stderr",
     "output_type": "stream",
     "text": [
      "[Parallel(n_jobs=-1)]: Done  34 tasks      | elapsed:  6.4min\n",
      "[Parallel(n_jobs=-1)]: Done  72 out of  72 | elapsed: 12.8min finished\n"
     ]
    },
    {
     "name": "stdout",
     "output_type": "stream",
     "text": [
      "Best Score:  0.928431253905\n",
      "Best Params:  {'learning_rate': 0.01, 'max_depth': 6, 'n_estimators': 1300}\n"
     ]
    }
   ],
   "source": [
    "from sklearn.model_selection import GridSearchCV, RandomizedSearchCV\n",
    "from xgboost.sklearn import XGBClassifier\n",
    "xgb = XGBClassifier()\n",
    "learning_rate = [0.01,0.1]\n",
    "\n",
    "n_estimators = [1200, 1300,1400]\n",
    "\n",
    "max_depth = [4,6,8,10]\n",
    "\n",
    "param_grid ={'learning_rate': learning_rate,\n",
    "                 'n_estimators': n_estimators, 'max_depth': max_depth}\n",
    "\n",
    "grid = GridSearchCV(estimator=xgb,\n",
    "                    param_grid=param_grid,\n",
    "                    scoring='f1_weighted',\n",
    "                    verbose=1,\n",
    "                    n_jobs=-1)\n",
    "grid_result = grid.fit(x_train, y_train)\n",
    "\n",
    "print('Best Score: ', grid_result.best_score_)\n",
    "print('Best Params: ', grid_result.best_params_)"
   ]
  },
  {
   "cell_type": "code",
   "execution_count": 226,
   "metadata": {},
   "outputs": [
    {
     "data": {
      "text/plain": [
       "'             precision    recall  f1-score   support\\n\\n          0       0.93      1.00      0.96      7015\\n          1       0.95      0.21      0.35       648\\n\\navg / total       0.93      0.93      0.91      7663\\n'"
      ]
     },
     "execution_count": 226,
     "metadata": {},
     "output_type": "execute_result"
    }
   ],
   "source": [
    "from xgboost.sklearn import XGBClassifier\n",
    "xgb = XGBClassifier(n_estimators = 1300, max_depth = 6, learning_rate = 0.01)\n",
    "\n",
    "from sklearn.metrics import classification_report, f1_score\n",
    "\n",
    "\n",
    "bst = xgb.fit(x_train, y_train)\n",
    "y_test_preds= bst.predict(x_test).astype('int')\n",
    "\n",
    "classification_report(y_test, y_test_preds)"
   ]
  },
  {
   "cell_type": "code",
   "execution_count": 227,
   "metadata": {},
   "outputs": [
    {
     "data": {
      "text/plain": [
       "(0.91254000797658064, 0.65730904991399164, 0.93266344773587373)"
      ]
     },
     "execution_count": 227,
     "metadata": {},
     "output_type": "execute_result"
    }
   ],
   "source": [
    "\n",
    "f1_score(y_test,y_test_preds,average= 'weighted'),f1_score(y_test,y_test_preds,average= 'macro'),f1_score(y_test,y_test_preds,average= 'micro')"
   ]
  },
  {
   "cell_type": "raw",
   "metadata": {},
   "source": [
    "from xgboost.sklearn import XGBClassifier\n",
    "xgb = XGBClassifier(n_estimators = 700, max_depth = 10, learning_rate = 0.01)\n",
    "\n",
    "from sklearn.metrics import classification_report, f1_score\n",
    "\n",
    "\n",
    "bst = xgb.fit(x_train, y_train)\n",
    "y_test_preds= bst.predict(x_test).astype('int')\n",
    "\n",
    "classification_report(y_test, y_test_preds)"
   ]
  },
  {
   "cell_type": "raw",
   "metadata": {},
   "source": [
    "f1_score(y_test, y_test_preds)"
   ]
  },
  {
   "cell_type": "code",
   "execution_count": 99,
   "metadata": {
    "collapsed": true
   },
   "outputs": [],
   "source": [
    "prediction = xgb.predict(test_X)"
   ]
  },
  {
   "cell_type": "raw",
   "metadata": {
    "collapsed": true
   },
   "source": [
    "test = pd.DataFrame()\n",
    "test['EmployeeNo'] = target_id\n",
    "test['Promoted_or_Not'] =prediction.astype('int')\n",
    "\n",
    "test.to_csv('xgb_fortify.csv', index = False)"
   ]
  },
  {
   "cell_type": "raw",
   "metadata": {},
   "source": [
    "prediction.sum()/prediction.shape[0]"
   ]
  },
  {
   "cell_type": "raw",
   "metadata": {
    "collapsed": true
   },
   "source": [
    "test = pd.DataFrame()\n",
    "test['EmployeeNo'] = target_id\n",
    "test['Promoted_or_Not'] =prediction.astype('int')\n",
    "\n",
    "test.to_csv('rand.csv', index = False)"
   ]
  },
  {
   "cell_type": "markdown",
   "metadata": {},
   "source": [
    "# adaboost"
   ]
  },
  {
   "cell_type": "code",
   "execution_count": 618,
   "metadata": {},
   "outputs": [
    {
     "data": {
      "text/plain": [
       "'             precision    recall  f1-score   support\\n\\n          0       0.92      0.99      0.96     10522\\n          1       0.47      0.06      0.11       972\\n\\navg / total       0.88      0.91      0.88     11494\\n'"
      ]
     },
     "execution_count": 618,
     "metadata": {},
     "output_type": "execute_result"
    }
   ],
   "source": [
    "from sklearn.ensemble import AdaBoostClassifier\n",
    "ada = AdaBoostClassifier()\n",
    "ada.fit(x_train, y_train)\n",
    "pred = ada.predict(x_test)\n",
    "from sklearn.metrics import classification_report, f1_score, precision_score\n",
    "classification_report(y_test, pred)"
   ]
  },
  {
   "cell_type": "code",
   "execution_count": 619,
   "metadata": {},
   "outputs": [
    {
     "data": {
      "text/plain": [
       "array([ 0.06,  0.06,  0.04,  0.  ,  0.04,  0.02,  0.  ,  0.06,  0.02,\n",
       "        0.02,  0.02,  0.02,  0.02,  0.  ,  0.02,  0.  ,  0.04,  0.  ,\n",
       "        0.02,  0.02,  0.04,  0.02,  0.02,  0.04,  0.  ,  0.02,  0.04,\n",
       "        0.04,  0.04,  0.02,  0.04,  0.02,  0.04,  0.04,  0.04,  0.  ,\n",
       "        0.02,  0.02,  0.  ,  0.02])"
      ]
     },
     "execution_count": 619,
     "metadata": {},
     "output_type": "execute_result"
    }
   ],
   "source": [
    "ada.feature_importances_"
   ]
  },
  {
   "cell_type": "code",
   "execution_count": 620,
   "metadata": {},
   "outputs": [
    {
     "data": {
      "text/plain": [
       "(38312, 41)"
      ]
     },
     "execution_count": 620,
     "metadata": {},
     "output_type": "execute_result"
    }
   ],
   "source": [
    "train_data.shape"
   ]
  },
  {
   "cell_type": "code",
   "execution_count": 621,
   "metadata": {},
   "outputs": [
    {
     "name": "stdout",
     "output_type": "stream",
     "text": [
      "0.06\n",
      "0.06\n",
      "0.04\n",
      "0.04\n",
      "0.02\n",
      "0.06\n",
      "0.02\n",
      "0.02\n",
      "0.02\n",
      "0.02\n",
      "0.02\n",
      "0.02\n",
      "0.04\n",
      "0.02\n",
      "0.02\n",
      "0.04\n",
      "0.02\n",
      "0.02\n",
      "0.04\n",
      "0.02\n",
      "0.04\n",
      "0.04\n",
      "0.04\n",
      "0.02\n",
      "0.04\n",
      "0.02\n",
      "0.04\n",
      "0.04\n",
      "0.04\n",
      "0.02\n",
      "0.02\n",
      "0.02\n"
     ]
    }
   ],
   "source": [
    "col = []\n",
    "for k, j in zip(ada.feature_importances_, train_data.columns):\n",
    "    if k<=0:\n",
    "        pass\n",
    "    else:\n",
    "        print(k)\n",
    "        col.append(j)"
   ]
  },
  {
   "cell_type": "code",
   "execution_count": 622,
   "metadata": {
    "collapsed": true
   },
   "outputs": [],
   "source": [
    "x = train_data[col]\n",
    "test_data = test_data[col]"
   ]
  },
  {
   "cell_type": "raw",
   "metadata": {},
   "source": [
    "final_train = train_data[col]\n",
    "from sklearn.preprocessing import MinMaxScaler\n",
    "from sklearn.preprocessing import StandardScaler\n",
    "std = StandardScaler()\n",
    "min_max = MinMaxScaler()\n",
    "\n",
    "\n",
    "x = min_max.fit_transform(final_train)\n",
    "\n",
    "test_data = test_data[col]\n",
    "test_data = min_max.fit_transform(test_data)\n",
    "x.shape, test_data.shape"
   ]
  },
  {
   "cell_type": "raw",
   "metadata": {},
   "source": [
    "test_X = min_max.fit_transform(test_data)"
   ]
  },
  {
   "cell_type": "code",
   "execution_count": 623,
   "metadata": {},
   "outputs": [
    {
     "data": {
      "text/plain": [
       "(0.084603086560736077, 0.084562181913088869)"
      ]
     },
     "execution_count": 623,
     "metadata": {},
     "output_type": "execute_result"
    }
   ],
   "source": [
    "from sklearn.model_selection import train_test_split\n",
    "y = y.astype('int')\n",
    "x_train, x_test,y_train, y_test = train_test_split(x, y, train_size = 0.8, random_state = 42, stratify = y)\n",
    "sum(y_train)/y_train.shape[0], sum(y_test)/y_test.shape[0]"
   ]
  },
  {
   "cell_type": "code",
   "execution_count": 624,
   "metadata": {},
   "outputs": [
    {
     "data": {
      "text/plain": [
       "'             precision    recall  f1-score   support\\n\\n          0       0.92      0.99      0.96      7015\\n          1       0.51      0.07      0.13       648\\n\\navg / total       0.89      0.92      0.89      7663\\n'"
      ]
     },
     "execution_count": 624,
     "metadata": {},
     "output_type": "execute_result"
    }
   ],
   "source": [
    "from sklearn.ensemble import AdaBoostClassifier\n",
    "ada = AdaBoostClassifier(n_estimators=1200,learning_rate=1)\n",
    "ada.fit(x_train, y_train)\n",
    "pred = ada.predict(x_test)\n",
    "from sklearn.metrics import classification_report, f1_score, precision_score\n",
    "classification_report(y_test, pred)"
   ]
  },
  {
   "cell_type": "raw",
   "metadata": {},
   "source": [
    "from sklearn.model_selection import GridSearchCV, RandomizedSearchCV\n",
    "from sklearn.ensemble import GradientBoostingClassifier\n",
    "ada = AdaBoostClassifier()\n",
    "learning_rate = [0.001,0.01,0.1,1]\n",
    "\n",
    "n_estimators = [1000,1200,1400]\n",
    "\n",
    "\n",
    "param_grid = dict(learning_rate = learning_rate,\n",
    "                 n_estimators = n_estimators)\n",
    "\n",
    "grid = GridSearchCV(estimator=ada,\n",
    "                    param_grid=param_grid,\n",
    "                    scoring='f1_weighted',\n",
    "                    verbose=1,\n",
    "                    n_jobs=-1)\n",
    "grid_result = grid.fit(x_train, y_train)\n",
    "\n",
    "print('Best Score: ', grid_result.best_score_)\n",
    "print('Best Params: ', grid_result.best_params_)"
   ]
  },
  {
   "cell_type": "code",
   "execution_count": null,
   "metadata": {
    "collapsed": true
   },
   "outputs": [],
   "source": []
  }
 ],
 "metadata": {
  "kernelspec": {
   "display_name": "Python 3",
   "language": "python",
   "name": "python3"
  },
  "language_info": {
   "codemirror_mode": {
    "name": "ipython",
    "version": 3
   },
   "file_extension": ".py",
   "mimetype": "text/x-python",
   "name": "python",
   "nbconvert_exporter": "python",
   "pygments_lexer": "ipython3",
   "version": "3.6.1"
  }
 },
 "nbformat": 4,
 "nbformat_minor": 2
}
