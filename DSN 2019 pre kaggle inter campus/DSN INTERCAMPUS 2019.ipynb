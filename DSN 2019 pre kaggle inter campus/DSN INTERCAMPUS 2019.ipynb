{
 "cells": [
  {
   "cell_type": "code",
   "execution_count": 3,
   "metadata": {},
   "outputs": [],
   "source": [
    "import pandas as pd\n",
    "import numpy as np\n",
    "import warnings\n",
    "warnings.filterwarnings('ignore')\n",
    "import sklearn as sk\n",
    "import matplotlib.pyplot as plt\n",
    "import seaborn as sns\n",
    "import os, sys"
   ]
  },
  {
   "cell_type": "code",
   "execution_count": null,
   "metadata": {},
   "outputs": [],
   "source": [
    "import tensorflow"
   ]
  },
  {
   "cell_type": "code",
   "execution_count": 3,
   "metadata": {},
   "outputs": [
    {
     "ename": "ModuleNotFoundError",
     "evalue": "No module named 'mmlspark'",
     "output_type": "error",
     "traceback": [
      "\u001b[1;31m---------------------------------------------------------------------------\u001b[0m",
      "\u001b[1;31mModuleNotFoundError\u001b[0m                       Traceback (most recent call last)",
      "\u001b[1;32m<ipython-input-3-67f899c844da>\u001b[0m in \u001b[0;36m<module>\u001b[1;34m()\u001b[0m\n\u001b[1;32m----> 1\u001b[1;33m \u001b[1;32mfrom\u001b[0m \u001b[0mmmlspark\u001b[0m \u001b[1;32mimport\u001b[0m \u001b[0mLightGBMClassifier\u001b[0m\u001b[1;33m\u001b[0m\u001b[0m\n\u001b[0m\u001b[0;32m      2\u001b[0m \u001b[1;32mfrom\u001b[0m \u001b[0mpyspark\u001b[0m\u001b[1;33m.\u001b[0m\u001b[0mml\u001b[0m\u001b[1;33m.\u001b[0m\u001b[0mevaluation\u001b[0m \u001b[1;32mimport\u001b[0m \u001b[0mBinaryClassificationEvaluator\u001b[0m\u001b[1;33m\u001b[0m\u001b[0m\n\u001b[0;32m      3\u001b[0m \u001b[1;32mfrom\u001b[0m \u001b[0mpyspark\u001b[0m\u001b[1;33m.\u001b[0m\u001b[0mml\u001b[0m\u001b[1;33m.\u001b[0m\u001b[0mtuning\u001b[0m \u001b[1;32mimport\u001b[0m \u001b[0mCrossValidator\u001b[0m\u001b[1;33m,\u001b[0m \u001b[0mParamGridBuilder\u001b[0m\u001b[1;33m\u001b[0m\u001b[0m\n\u001b[0;32m      4\u001b[0m lgb_estimator = LightGBMClassifier(learningRate=0.1, \n\u001b[0;32m      5\u001b[0m                                    \u001b[0mnumIterations\u001b[0m\u001b[1;33m=\u001b[0m\u001b[1;36m1000\u001b[0m\u001b[1;33m,\u001b[0m\u001b[1;33m\u001b[0m\u001b[0m\n",
      "\u001b[1;31mModuleNotFoundError\u001b[0m: No module named 'mmlspark'"
     ]
    }
   ],
   "source": [
    "from mmlspark import LightGBMClassifier\n",
    "from pyspark.ml.evaluation import BinaryClassificationEvaluator\n",
    "from pyspark.ml.tuning import CrossValidator, ParamGridBuilder\n",
    "lgb_estimator = LightGBMClassifier(learningRate=0.1, \n",
    "                                   numIterations=1000,\n",
    "                                   earlyStoppingRound=10,\n",
    "                                   labelCol=\"label\")\n",
    "paramGrid = ParamGridBuilder().addGrid(lgb_estimator.numLeaves, [30, 50]).build()\n",
    "eval = BinaryClassificationEvaluator(labelCol=\"label\",metricName=\"areaUnderROC\")\n",
    "crossval = CrossValidator(estimator=lgb_estimator,\n",
    "                          estimatorParamMaps=paramGrid, \n",
    "                          evaluator=eval, \n",
    "                          numFolds=3)     \n",
    "cvModel  = crossval.fit(train_df[[\"features\", \"label\"]])"
   ]
  },
  {
   "cell_type": "code",
   "execution_count": 815,
   "metadata": {},
   "outputs": [
    {
     "data": {
      "text/plain": [
       "['.ipynb_checkpoints',\n",
       " 'ANN model.ipynb',\n",
       " 'Data.xlsx',\n",
       " 'Dayo ANN',\n",
       " 'DSN INTERCAMPUS 2019.ipynb',\n",
       " 'DSN intercampus competition.ipynb',\n",
       " 'dtc1.csv',\n",
       " 'fingerprint authentication using R305 module in python.ipynb',\n",
       " 'gbrt.csv',\n",
       " 'gbrt_k.csv',\n",
       " 'intercampusai2019.zip',\n",
       " 'journal.pdf',\n",
       " 'Mercy',\n",
       " 'my_clf.csv',\n",
       " 'rand.csv',\n",
       " 'rand_update.csv',\n",
       " 'rank.csv',\n",
       " 'rank_k.csv',\n",
       " 'Recommendation Engine',\n",
       " 'sample_submission2.csv',\n",
       " 'test.csv',\n",
       " 'train.csv',\n",
       " 'Untitled.ipynb',\n",
       " 'xgb.csv',\n",
       " 'xgb_fortify.csv',\n",
       " 'xgb_renew.csv',\n",
       " 'xgb_update.csv',\n",
       " 'xgb_update1.csv',\n",
       " 'xgb_update2.csv',\n",
       " 'xgb_update3.csv']"
      ]
     },
     "execution_count": 815,
     "metadata": {},
     "output_type": "execute_result"
    }
   ],
   "source": [
    "os.listdir()"
   ]
  },
  {
   "cell_type": "code",
   "execution_count": 816,
   "metadata": {
    "collapsed": true
   },
   "outputs": [],
   "source": [
    "train_data = pd.read_csv('train.csv')\n",
    "test_data = pd.read_csv('test.csv')"
   ]
  },
  {
   "cell_type": "code",
   "execution_count": 817,
   "metadata": {},
   "outputs": [
    {
     "data": {
      "text/html": [
       "<div>\n",
       "<style>\n",
       "    .dataframe thead tr:only-child th {\n",
       "        text-align: right;\n",
       "    }\n",
       "\n",
       "    .dataframe thead th {\n",
       "        text-align: left;\n",
       "    }\n",
       "\n",
       "    .dataframe tbody tr th {\n",
       "        vertical-align: top;\n",
       "    }\n",
       "</style>\n",
       "<table border=\"1\" class=\"dataframe\">\n",
       "  <thead>\n",
       "    <tr style=\"text-align: right;\">\n",
       "      <th></th>\n",
       "      <th>EmployeeNo</th>\n",
       "      <th>Division</th>\n",
       "      <th>Qualification</th>\n",
       "      <th>Gender</th>\n",
       "      <th>Channel_of_Recruitment</th>\n",
       "      <th>Trainings_Attended</th>\n",
       "      <th>Year_of_birth</th>\n",
       "      <th>Last_performance_score</th>\n",
       "      <th>Year_of_recruitment</th>\n",
       "      <th>Targets_met</th>\n",
       "      <th>Previous_Award</th>\n",
       "      <th>Training_score_average</th>\n",
       "      <th>State_Of_Origin</th>\n",
       "      <th>Foreign_schooled</th>\n",
       "      <th>Marital_Status</th>\n",
       "      <th>Past_Disciplinary_Action</th>\n",
       "      <th>Previous_IntraDepartmental_Movement</th>\n",
       "      <th>No_of_previous_employers</th>\n",
       "      <th>Promoted_or_Not</th>\n",
       "    </tr>\n",
       "  </thead>\n",
       "  <tbody>\n",
       "    <tr>\n",
       "      <th>0</th>\n",
       "      <td>YAK/S/00001</td>\n",
       "      <td>Commercial Sales and Marketing</td>\n",
       "      <td>MSc, MBA and PhD</td>\n",
       "      <td>Female</td>\n",
       "      <td>Direct Internal process</td>\n",
       "      <td>2</td>\n",
       "      <td>1986</td>\n",
       "      <td>12.5</td>\n",
       "      <td>2011</td>\n",
       "      <td>1</td>\n",
       "      <td>0</td>\n",
       "      <td>41</td>\n",
       "      <td>ANAMBRA</td>\n",
       "      <td>No</td>\n",
       "      <td>Married</td>\n",
       "      <td>No</td>\n",
       "      <td>No</td>\n",
       "      <td>0</td>\n",
       "      <td>0</td>\n",
       "    </tr>\n",
       "    <tr>\n",
       "      <th>1</th>\n",
       "      <td>YAK/S/00002</td>\n",
       "      <td>Customer Support and Field Operations</td>\n",
       "      <td>First Degree or HND</td>\n",
       "      <td>Male</td>\n",
       "      <td>Agency and others</td>\n",
       "      <td>2</td>\n",
       "      <td>1991</td>\n",
       "      <td>12.5</td>\n",
       "      <td>2015</td>\n",
       "      <td>0</td>\n",
       "      <td>0</td>\n",
       "      <td>52</td>\n",
       "      <td>ANAMBRA</td>\n",
       "      <td>Yes</td>\n",
       "      <td>Married</td>\n",
       "      <td>No</td>\n",
       "      <td>No</td>\n",
       "      <td>0</td>\n",
       "      <td>0</td>\n",
       "    </tr>\n",
       "    <tr>\n",
       "      <th>2</th>\n",
       "      <td>YAK/S/00003</td>\n",
       "      <td>Commercial Sales and Marketing</td>\n",
       "      <td>First Degree or HND</td>\n",
       "      <td>Male</td>\n",
       "      <td>Direct Internal process</td>\n",
       "      <td>2</td>\n",
       "      <td>1987</td>\n",
       "      <td>7.5</td>\n",
       "      <td>2012</td>\n",
       "      <td>0</td>\n",
       "      <td>0</td>\n",
       "      <td>42</td>\n",
       "      <td>KATSINA</td>\n",
       "      <td>Yes</td>\n",
       "      <td>Married</td>\n",
       "      <td>No</td>\n",
       "      <td>No</td>\n",
       "      <td>0</td>\n",
       "      <td>0</td>\n",
       "    </tr>\n",
       "    <tr>\n",
       "      <th>3</th>\n",
       "      <td>YAK/S/00004</td>\n",
       "      <td>Commercial Sales and Marketing</td>\n",
       "      <td>First Degree or HND</td>\n",
       "      <td>Male</td>\n",
       "      <td>Agency and others</td>\n",
       "      <td>3</td>\n",
       "      <td>1982</td>\n",
       "      <td>2.5</td>\n",
       "      <td>2009</td>\n",
       "      <td>0</td>\n",
       "      <td>0</td>\n",
       "      <td>42</td>\n",
       "      <td>NIGER</td>\n",
       "      <td>Yes</td>\n",
       "      <td>Single</td>\n",
       "      <td>No</td>\n",
       "      <td>No</td>\n",
       "      <td>1</td>\n",
       "      <td>0</td>\n",
       "    </tr>\n",
       "    <tr>\n",
       "      <th>4</th>\n",
       "      <td>YAK/S/00006</td>\n",
       "      <td>Information and Strategy</td>\n",
       "      <td>First Degree or HND</td>\n",
       "      <td>Male</td>\n",
       "      <td>Direct Internal process</td>\n",
       "      <td>3</td>\n",
       "      <td>1990</td>\n",
       "      <td>7.5</td>\n",
       "      <td>2012</td>\n",
       "      <td>0</td>\n",
       "      <td>0</td>\n",
       "      <td>77</td>\n",
       "      <td>AKWA IBOM</td>\n",
       "      <td>Yes</td>\n",
       "      <td>Married</td>\n",
       "      <td>No</td>\n",
       "      <td>No</td>\n",
       "      <td>1</td>\n",
       "      <td>0</td>\n",
       "    </tr>\n",
       "  </tbody>\n",
       "</table>\n",
       "</div>"
      ],
      "text/plain": [
       "    EmployeeNo                               Division        Qualification  \\\n",
       "0  YAK/S/00001         Commercial Sales and Marketing     MSc, MBA and PhD   \n",
       "1  YAK/S/00002  Customer Support and Field Operations  First Degree or HND   \n",
       "2  YAK/S/00003         Commercial Sales and Marketing  First Degree or HND   \n",
       "3  YAK/S/00004         Commercial Sales and Marketing  First Degree or HND   \n",
       "4  YAK/S/00006               Information and Strategy  First Degree or HND   \n",
       "\n",
       "   Gender   Channel_of_Recruitment  Trainings_Attended  Year_of_birth  \\\n",
       "0  Female  Direct Internal process                   2           1986   \n",
       "1    Male        Agency and others                   2           1991   \n",
       "2    Male  Direct Internal process                   2           1987   \n",
       "3    Male        Agency and others                   3           1982   \n",
       "4    Male  Direct Internal process                   3           1990   \n",
       "\n",
       "   Last_performance_score  Year_of_recruitment  Targets_met  Previous_Award  \\\n",
       "0                    12.5                 2011            1               0   \n",
       "1                    12.5                 2015            0               0   \n",
       "2                     7.5                 2012            0               0   \n",
       "3                     2.5                 2009            0               0   \n",
       "4                     7.5                 2012            0               0   \n",
       "\n",
       "   Training_score_average State_Of_Origin Foreign_schooled Marital_Status  \\\n",
       "0                      41         ANAMBRA               No        Married   \n",
       "1                      52         ANAMBRA              Yes        Married   \n",
       "2                      42         KATSINA              Yes        Married   \n",
       "3                      42           NIGER              Yes         Single   \n",
       "4                      77       AKWA IBOM              Yes        Married   \n",
       "\n",
       "  Past_Disciplinary_Action Previous_IntraDepartmental_Movement  \\\n",
       "0                       No                                  No   \n",
       "1                       No                                  No   \n",
       "2                       No                                  No   \n",
       "3                       No                                  No   \n",
       "4                       No                                  No   \n",
       "\n",
       "  No_of_previous_employers  Promoted_or_Not  \n",
       "0                        0                0  \n",
       "1                        0                0  \n",
       "2                        0                0  \n",
       "3                        1                0  \n",
       "4                        1                0  "
      ]
     },
     "execution_count": 817,
     "metadata": {},
     "output_type": "execute_result"
    }
   ],
   "source": [
    "train_data.head()"
   ]
  },
  {
   "cell_type": "code",
   "execution_count": 818,
   "metadata": {},
   "outputs": [
    {
     "name": "stdout",
     "output_type": "stream",
     "text": [
      "<class 'pandas.core.frame.DataFrame'>\n",
      "RangeIndex: 38312 entries, 0 to 38311\n",
      "Data columns (total 19 columns):\n",
      "EmployeeNo                             38312 non-null object\n",
      "Division                               38312 non-null object\n",
      "Qualification                          36633 non-null object\n",
      "Gender                                 38312 non-null object\n",
      "Channel_of_Recruitment                 38312 non-null object\n",
      "Trainings_Attended                     38312 non-null int64\n",
      "Year_of_birth                          38312 non-null int64\n",
      "Last_performance_score                 38312 non-null float64\n",
      "Year_of_recruitment                    38312 non-null int64\n",
      "Targets_met                            38312 non-null int64\n",
      "Previous_Award                         38312 non-null int64\n",
      "Training_score_average                 38312 non-null int64\n",
      "State_Of_Origin                        38312 non-null object\n",
      "Foreign_schooled                       38312 non-null object\n",
      "Marital_Status                         38312 non-null object\n",
      "Past_Disciplinary_Action               38312 non-null object\n",
      "Previous_IntraDepartmental_Movement    38312 non-null object\n",
      "No_of_previous_employers               38312 non-null object\n",
      "Promoted_or_Not                        38312 non-null int64\n",
      "dtypes: float64(1), int64(7), object(11)\n",
      "memory usage: 5.6+ MB\n"
     ]
    }
   ],
   "source": [
    "train_data.info()"
   ]
  },
  {
   "cell_type": "code",
   "execution_count": 819,
   "metadata": {},
   "outputs": [
    {
     "data": {
      "text/html": [
       "<div>\n",
       "<style>\n",
       "    .dataframe thead tr:only-child th {\n",
       "        text-align: right;\n",
       "    }\n",
       "\n",
       "    .dataframe thead th {\n",
       "        text-align: left;\n",
       "    }\n",
       "\n",
       "    .dataframe tbody tr th {\n",
       "        vertical-align: top;\n",
       "    }\n",
       "</style>\n",
       "<table border=\"1\" class=\"dataframe\">\n",
       "  <thead>\n",
       "    <tr style=\"text-align: right;\">\n",
       "      <th></th>\n",
       "      <th>Trainings_Attended</th>\n",
       "      <th>Year_of_birth</th>\n",
       "      <th>Last_performance_score</th>\n",
       "      <th>Year_of_recruitment</th>\n",
       "      <th>Targets_met</th>\n",
       "      <th>Previous_Award</th>\n",
       "      <th>Training_score_average</th>\n",
       "      <th>Promoted_or_Not</th>\n",
       "    </tr>\n",
       "  </thead>\n",
       "  <tbody>\n",
       "    <tr>\n",
       "      <th>count</th>\n",
       "      <td>38312.000000</td>\n",
       "      <td>38312.000000</td>\n",
       "      <td>38312.000000</td>\n",
       "      <td>38312.000000</td>\n",
       "      <td>38312.000000</td>\n",
       "      <td>38312.000000</td>\n",
       "      <td>38312.000000</td>\n",
       "      <td>38312.000000</td>\n",
       "    </tr>\n",
       "    <tr>\n",
       "      <th>mean</th>\n",
       "      <td>2.253680</td>\n",
       "      <td>1986.209334</td>\n",
       "      <td>7.698959</td>\n",
       "      <td>2013.139695</td>\n",
       "      <td>0.352996</td>\n",
       "      <td>0.023152</td>\n",
       "      <td>55.366465</td>\n",
       "      <td>0.084595</td>\n",
       "    </tr>\n",
       "    <tr>\n",
       "      <th>std</th>\n",
       "      <td>0.609443</td>\n",
       "      <td>7.646047</td>\n",
       "      <td>3.744135</td>\n",
       "      <td>4.261451</td>\n",
       "      <td>0.477908</td>\n",
       "      <td>0.150388</td>\n",
       "      <td>13.362741</td>\n",
       "      <td>0.278282</td>\n",
       "    </tr>\n",
       "    <tr>\n",
       "      <th>min</th>\n",
       "      <td>2.000000</td>\n",
       "      <td>1950.000000</td>\n",
       "      <td>0.000000</td>\n",
       "      <td>1982.000000</td>\n",
       "      <td>0.000000</td>\n",
       "      <td>0.000000</td>\n",
       "      <td>31.000000</td>\n",
       "      <td>0.000000</td>\n",
       "    </tr>\n",
       "    <tr>\n",
       "      <th>25%</th>\n",
       "      <td>2.000000</td>\n",
       "      <td>1982.000000</td>\n",
       "      <td>5.000000</td>\n",
       "      <td>2012.000000</td>\n",
       "      <td>0.000000</td>\n",
       "      <td>0.000000</td>\n",
       "      <td>43.000000</td>\n",
       "      <td>0.000000</td>\n",
       "    </tr>\n",
       "    <tr>\n",
       "      <th>50%</th>\n",
       "      <td>2.000000</td>\n",
       "      <td>1988.000000</td>\n",
       "      <td>7.500000</td>\n",
       "      <td>2014.000000</td>\n",
       "      <td>0.000000</td>\n",
       "      <td>0.000000</td>\n",
       "      <td>52.000000</td>\n",
       "      <td>0.000000</td>\n",
       "    </tr>\n",
       "    <tr>\n",
       "      <th>75%</th>\n",
       "      <td>2.000000</td>\n",
       "      <td>1992.000000</td>\n",
       "      <td>10.000000</td>\n",
       "      <td>2016.000000</td>\n",
       "      <td>1.000000</td>\n",
       "      <td>0.000000</td>\n",
       "      <td>68.000000</td>\n",
       "      <td>0.000000</td>\n",
       "    </tr>\n",
       "    <tr>\n",
       "      <th>max</th>\n",
       "      <td>11.000000</td>\n",
       "      <td>2001.000000</td>\n",
       "      <td>12.500000</td>\n",
       "      <td>2018.000000</td>\n",
       "      <td>1.000000</td>\n",
       "      <td>1.000000</td>\n",
       "      <td>91.000000</td>\n",
       "      <td>1.000000</td>\n",
       "    </tr>\n",
       "  </tbody>\n",
       "</table>\n",
       "</div>"
      ],
      "text/plain": [
       "       Trainings_Attended  Year_of_birth  Last_performance_score  \\\n",
       "count        38312.000000   38312.000000            38312.000000   \n",
       "mean             2.253680    1986.209334                7.698959   \n",
       "std              0.609443       7.646047                3.744135   \n",
       "min              2.000000    1950.000000                0.000000   \n",
       "25%              2.000000    1982.000000                5.000000   \n",
       "50%              2.000000    1988.000000                7.500000   \n",
       "75%              2.000000    1992.000000               10.000000   \n",
       "max             11.000000    2001.000000               12.500000   \n",
       "\n",
       "       Year_of_recruitment   Targets_met  Previous_Award  \\\n",
       "count         38312.000000  38312.000000    38312.000000   \n",
       "mean           2013.139695      0.352996        0.023152   \n",
       "std               4.261451      0.477908        0.150388   \n",
       "min            1982.000000      0.000000        0.000000   \n",
       "25%            2012.000000      0.000000        0.000000   \n",
       "50%            2014.000000      0.000000        0.000000   \n",
       "75%            2016.000000      1.000000        0.000000   \n",
       "max            2018.000000      1.000000        1.000000   \n",
       "\n",
       "       Training_score_average  Promoted_or_Not  \n",
       "count            38312.000000     38312.000000  \n",
       "mean                55.366465         0.084595  \n",
       "std                 13.362741         0.278282  \n",
       "min                 31.000000         0.000000  \n",
       "25%                 43.000000         0.000000  \n",
       "50%                 52.000000         0.000000  \n",
       "75%                 68.000000         0.000000  \n",
       "max                 91.000000         1.000000  "
      ]
     },
     "execution_count": 819,
     "metadata": {},
     "output_type": "execute_result"
    }
   ],
   "source": [
    "train_data.describe()"
   ]
  },
  {
   "cell_type": "markdown",
   "metadata": {},
   "source": [
    "# VISUALIZATION OF THE DATA DISTRIBUTION"
   ]
  },
  {
   "cell_type": "code",
   "execution_count": 820,
   "metadata": {},
   "outputs": [
    {
     "data": {
      "image/png": "[encoded data removed]",
      "text/plain": [
       "<matplotlib.figure.Figure at 0x271564d9160>"
      ]
     },
     "metadata": {},
     "output_type": "display_data"
    }
   ],
   "source": [
    "def value_count(data,key):\n",
    "    data = data[key].value_counts()\n",
    "    plt.bar(data.keys(), data.values.astype(int))\n",
    "    plt.title('visualization of '+ key + ' column')\n",
    "    plt.show()\n",
    "    return\n",
    "value_count(train_data, 'Promoted_or_Not')"
   ]
  },
  {
   "cell_type": "code",
   "execution_count": 821,
   "metadata": {},
   "outputs": [
    {
     "data": {
      "image/png": "[encoded data removed]",
      "text/plain": [
       "<matplotlib.figure.Figure at 0x271333bf8d0>"
      ]
     },
     "metadata": {},
     "output_type": "display_data"
    }
   ],
   "source": [
    "sns.distplot(train_data['Training_score_average'])\n",
    "plt.show()"
   ]
  },
  {
   "cell_type": "code",
   "execution_count": 822,
   "metadata": {},
   "outputs": [
    {
     "data": {
      "image/png": "[encoded data removed]",
      "text/plain": [
       "<matplotlib.figure.Figure at 0x271560023c8>"
      ]
     },
     "metadata": {},
     "output_type": "display_data"
    }
   ],
   "source": [
    "from scipy import stats\n",
    "sns.distplot(train_data['Training_score_average'], kde=False, fit=stats.gamma)\n",
    "plt.show()"
   ]
  },
  {
   "cell_type": "code",
   "execution_count": 823,
   "metadata": {},
   "outputs": [
    {
     "data": {
      "image/png": "[encoded data removed]",
      "text/plain": [
       "<matplotlib.figure.Figure at 0x27156ce7e10>"
      ]
     },
     "metadata": {},
     "output_type": "display_data"
    }
   ],
   "source": [
    "value_count(train_data, 'Previous_Award')"
   ]
  },
  {
   "cell_type": "code",
   "execution_count": 824,
   "metadata": {},
   "outputs": [
    {
     "data": {
      "image/png": "[encoded data removed]",
      "text/plain": [
       "<matplotlib.figure.Figure at 0x271317c5ba8>"
      ]
     },
     "metadata": {},
     "output_type": "display_data"
    }
   ],
   "source": [
    "value_count(train_data, 'Targets_met')"
   ]
  },
  {
   "cell_type": "code",
   "execution_count": 825,
   "metadata": {},
   "outputs": [
    {
     "data": {
      "image/png": "[encoded data removed]",
      "text/plain": [
       "<matplotlib.figure.Figure at 0x2715591b908>"
      ]
     },
     "metadata": {},
     "output_type": "display_data"
    }
   ],
   "source": [
    "value_count(train_data, 'Last_performance_score')"
   ]
  },
  {
   "cell_type": "code",
   "execution_count": 826,
   "metadata": {},
   "outputs": [
    {
     "data": {
      "image/png": "[encoded data removed]",
      "text/plain": [
       "<matplotlib.figure.Figure at 0x271559c7630>"
      ]
     },
     "metadata": {},
     "output_type": "display_data"
    }
   ],
   "source": [
    "value_count(train_data, 'Trainings_Attended')"
   ]
  },
  {
   "cell_type": "code",
   "execution_count": 827,
   "metadata": {},
   "outputs": [
    {
     "data": {
      "image/png": "[encoded data removed]",
      "text/plain": [
       "<matplotlib.figure.Figure at 0x27158e99240>"
      ]
     },
     "metadata": {},
     "output_type": "display_data"
    }
   ],
   "source": [
    "sns.distplot(train_data['Year_of_recruitment'])\n",
    "plt.show()"
   ]
  },
  {
   "cell_type": "code",
   "execution_count": 828,
   "metadata": {},
   "outputs": [
    {
     "data": {
      "image/png": "[encoded data removed]",
      "text/plain": [
       "<matplotlib.figure.Figure at 0x271559cd7b8>"
      ]
     },
     "metadata": {},
     "output_type": "display_data"
    }
   ],
   "source": [
    "sns.distplot(train_data['Year_of_birth'])\n",
    "plt.show()"
   ]
  },
  {
   "cell_type": "code",
   "execution_count": 829,
   "metadata": {},
   "outputs": [
    {
     "data": {
      "image/png": "[encoded data removed]",
      "text/plain": [
       "<matplotlib.figure.Figure at 0x27157df8128>"
      ]
     },
     "metadata": {},
     "output_type": "display_data"
    }
   ],
   "source": [
    "from scipy import stats\n",
    "sns.distplot(train_data['Year_of_birth'], kde=False, fit=stats.gamma)\n",
    "plt.show()"
   ]
  },
  {
   "cell_type": "code",
   "execution_count": 830,
   "metadata": {},
   "outputs": [
    {
     "data": {
      "image/png": "[encoded data removed]",
      "text/plain": [
       "<matplotlib.figure.Figure at 0x27158e99cf8>"
      ]
     },
     "metadata": {},
     "output_type": "display_data"
    }
   ],
   "source": [
    "value_count(train_data, 'Targets_met')"
   ]
  },
  {
   "cell_type": "code",
   "execution_count": 831,
   "metadata": {
    "collapsed": true
   },
   "outputs": [],
   "source": [
    "def report(data, target):\n",
    "    val = data.value_counts()\n",
    "    final_dict = {}\n",
    "    output_data = []\n",
    "    for k in val.keys():\n",
    "        sample = [data == k]\n",
    "        count_zero, count_one = 0,0\n",
    "        for i, j in zip(sample[0], target):\n",
    "            if i == True:\n",
    "                if j == True:\n",
    "                    count_one+= 1\n",
    "                else:\n",
    "                    count_zero+= 1\n",
    "            else:\n",
    "                pass\n",
    "        \n",
    "        final_dict[k] = (count_zero, count_one)\n",
    "    # give prority to the 1's with target\n",
    "    for key in final_dict.keys():\n",
    "        final_dict[key][1]\n",
    "    return final_dict\n",
    "\n",
    "dictionary = report(train_data['Targets_met'], train_data['Promoted_or_Not'])"
   ]
  },
  {
   "cell_type": "code",
   "execution_count": 832,
   "metadata": {},
   "outputs": [
    {
     "data": {
      "text/plain": [
       "{0: (23835, 953), 1: (11236, 2288)}"
      ]
     },
     "execution_count": 832,
     "metadata": {},
     "output_type": "execute_result"
    }
   ],
   "source": [
    "dictionary"
   ]
  },
  {
   "cell_type": "code",
   "execution_count": 833,
   "metadata": {
    "collapsed": true
   },
   "outputs": [],
   "source": [
    "#train_data = train_data.drop(['Division','Gender', 'Channel_of_Recruitment','Year_of_birth', 'State_Of_Origin', 'Foreign_schooled','Marital_Status'], axis = 1)\n",
    "#test_data = test_data.drop(['Division','Gender', 'Channel_of_Recruitment','Year_of_birth', 'State_Of_Origin', 'Foreign_schooled','Marital_Status'], axis = 1)\n"
   ]
  },
  {
   "cell_type": "code",
   "execution_count": 834,
   "metadata": {
    "collapsed": true
   },
   "outputs": [],
   "source": [
    "dictionary = report(train_data['Training_score_average'], train_data['Promoted_or_Not'])"
   ]
  },
  {
   "cell_type": "code",
   "execution_count": 835,
   "metadata": {
    "scrolled": true
   },
   "outputs": [
    {
     "data": {
      "text/plain": [
       "{31: (1, 0),\n",
       " 32: (5, 0),\n",
       " 33: (17, 1),\n",
       " 34: (39, 2),\n",
       " 35: (129, 7),\n",
       " 36: (225, 6),\n",
       " 37: (453, 19),\n",
       " 38: (795, 25),\n",
       " 39: (1167, 52),\n",
       " 40: (1645, 74),\n",
       " 41: (1800, 73),\n",
       " 42: (1792, 75),\n",
       " 43: (1559, 75),\n",
       " 44: (1218, 49),\n",
       " 45: (860, 27),\n",
       " 46: (665, 37),\n",
       " 47: (593, 34),\n",
       " 48: (708, 49),\n",
       " 49: (952, 62),\n",
       " 50: (1268, 88),\n",
       " 51: (1350, 97),\n",
       " 52: (1419, 98),\n",
       " 53: (1212, 92),\n",
       " 54: (964, 80),\n",
       " 55: (615, 65),\n",
       " 56: (445, 65),\n",
       " 57: (368, 54),\n",
       " 58: (371, 39),\n",
       " 59: (460, 53),\n",
       " 60: (611, 50),\n",
       " 61: (655, 61),\n",
       " 62: (655, 92),\n",
       " 63: (570, 79),\n",
       " 64: (458, 58),\n",
       " 65: (318, 35),\n",
       " 66: (243, 43),\n",
       " 67: (245, 36),\n",
       " 68: (316, 31),\n",
       " 69: (444, 48),\n",
       " 70: (569, 64),\n",
       " 71: (741, 56),\n",
       " 72: (757, 84),\n",
       " 73: (841, 98),\n",
       " 74: (920, 107),\n",
       " 75: (727, 98),\n",
       " 76: (732, 81),\n",
       " 77: (680, 74),\n",
       " 78: (547, 77),\n",
       " 79: (405, 54),\n",
       " 80: (249, 50),\n",
       " 81: (161, 53),\n",
       " 82: (78, 57),\n",
       " 83: (33, 48),\n",
       " 84: (13, 59),\n",
       " 85: (5, 47),\n",
       " 86: (2, 52),\n",
       " 87: (0, 31),\n",
       " 88: (1, 29),\n",
       " 89: (0, 36),\n",
       " 90: (0, 31),\n",
       " 91: (0, 24)}"
      ]
     },
     "execution_count": 835,
     "metadata": {},
     "output_type": "execute_result"
    }
   ],
   "source": [
    "dictionary"
   ]
  },
  {
   "cell_type": "code",
   "execution_count": 836,
   "metadata": {},
   "outputs": [
    {
     "data": {
      "text/plain": [
       "{0: (34582, 2843), 1: (489, 398)}"
      ]
     },
     "execution_count": 836,
     "metadata": {},
     "output_type": "execute_result"
    }
   ],
   "source": [
    "dictionary = report(train_data['Previous_Award'], train_data['Promoted_or_Not'])\n",
    "\n",
    "dictionary"
   ]
  },
  {
   "cell_type": "markdown",
   "metadata": {},
   "source": [
    "# Unbiased features"
   ]
  },
  {
   "cell_type": "code",
   "execution_count": 837,
   "metadata": {},
   "outputs": [
    {
     "data": {
      "text/plain": [
       "Index(['EmployeeNo', 'Division', 'Qualification', 'Gender',\n",
       "       'Channel_of_Recruitment', 'Trainings_Attended', 'Year_of_birth',\n",
       "       'Last_performance_score', 'Year_of_recruitment', 'Targets_met',\n",
       "       'Previous_Award', 'Training_score_average', 'State_Of_Origin',\n",
       "       'Foreign_schooled', 'Marital_Status', 'Past_Disciplinary_Action',\n",
       "       'Previous_IntraDepartmental_Movement', 'No_of_previous_employers',\n",
       "       'Promoted_or_Not'],\n",
       "      dtype='object')"
      ]
     },
     "execution_count": 837,
     "metadata": {},
     "output_type": "execute_result"
    }
   ],
   "source": [
    "train_data.columns"
   ]
  },
  {
   "cell_type": "code",
   "execution_count": 838,
   "metadata": {
    "collapsed": true
   },
   "outputs": [],
   "source": [
    "final_target = test_data['EmployeeNo']"
   ]
  },
  {
   "cell_type": "code",
   "execution_count": 839,
   "metadata": {
    "collapsed": true
   },
   "outputs": [],
   "source": [
    "train_data = train_data[['Year_of_recruitment','Year_of_birth','Qualification', 'Last_performance_score','Targets_met','Previous_Award','Training_score_average','Past_Disciplinary_Action','Previous_IntraDepartmental_Movement','No_of_previous_employers','Division', 'Gender','Channel_of_Recruitment','Marital_Status','Foreign_schooled', 'Promoted_or_Not']]\n",
    "test_data = test_data[['Year_of_recruitment','Year_of_birth','Qualification', 'Last_performance_score','Targets_met','Previous_Award','Training_score_average','Past_Disciplinary_Action','Previous_IntraDepartmental_Movement','No_of_previous_employers','Division', 'Gender','Channel_of_Recruitment','Marital_Status','Foreign_schooled']]\n"
   ]
  },
  {
   "cell_type": "code",
   "execution_count": 840,
   "metadata": {
    "collapsed": true
   },
   "outputs": [],
   "source": [
    "def bin_year_of_birth(data):\n",
    "    return_val = []\n",
    "    for k in data:\n",
    "        if k < 1960 and k>=1950:\n",
    "            return_val.append(4)\n",
    "        elif k < 1970 and k >= 1961:\n",
    "            return_val.append(3)\n",
    "            \n",
    "        elif k < 1980 and k >= 1971:\n",
    "            return_val.append(2)\n",
    "        elif k < 1990 and k >= 1981:\n",
    "            return_val.append(1)\n",
    "            \n",
    "        else:\n",
    "            return_val.append(0)\n",
    "    return return_val\n",
    "\n",
    "\n",
    "train_data['Year_of_birth'] = bin_year_of_birth(train_data['Year_of_birth'])\n",
    "test_data['Year_of_birth'] = bin_year_of_birth(test_data['Year_of_birth'])"
   ]
  },
  {
   "cell_type": "code",
   "execution_count": 841,
   "metadata": {
    "collapsed": true
   },
   "outputs": [],
   "source": [
    "def bin_year_of_recruitment(data):\n",
    "    return_val = []\n",
    "    for k in data:\n",
    "        if k <1987 and k >=1982:\n",
    "            return_val.append(0)\n",
    "        elif k < 1993 and k >= 1988:\n",
    "            return_val.append(1)\n",
    "        elif k < 1999 and k >= 1994:\n",
    "            return_val.append(2)\n",
    "            \n",
    "        elif k <2005 and k >= 2000:\n",
    "            return_val.append(3)\n",
    "        elif k <2011 and k>= 2006:\n",
    "            return_val.append(4)\n",
    "        else:\n",
    "            return_val.append(5)\n",
    "            \n",
    "    return return_val\n",
    "\n",
    "train_data['Year_of_recruitment'] = bin_year_of_birth(train_data['Year_of_recruitment'])\n",
    "test_data['Year_of_recruitment'] = bin_year_of_birth(test_data['Year_of_recruitment'])\n"
   ]
  },
  {
   "cell_type": "code",
   "execution_count": null,
   "metadata": {
    "collapsed": true
   },
   "outputs": [],
   "source": []
  },
  {
   "cell_type": "code",
   "execution_count": 842,
   "metadata": {},
   "outputs": [
    {
     "data": {
      "text/plain": [
       "Yes    34995\n",
       "No      3317\n",
       "Name: Foreign_schooled, dtype: int64"
      ]
     },
     "execution_count": 842,
     "metadata": {},
     "output_type": "execute_result"
    }
   ],
   "source": [
    "train_data['Foreign_schooled'].value_counts()"
   ]
  },
  {
   "cell_type": "code",
   "execution_count": 843,
   "metadata": {
    "collapsed": true
   },
   "outputs": [],
   "source": [
    "#train_data['Foreign_schooled'][train_data['Foreign_schooled'] == 'Yes'] = 1\n",
    "#train_data['Foreign_schooled'][train_data['Foreign_schooled'] == 'No'] = 0 \n",
    "\n",
    "#test_data['Foreign_schooled'][test_data['Foreign_schooled'] == 'Yes'] = 1\n",
    "#test_data['Foreign_schooled'][test_data['Foreign_schooled'] == 'No'] = 0 \n",
    "train_data = train_data.drop(['Foreign_schooled'], axis = 1)\n",
    "test_data = test_data.drop(['Foreign_schooled'], axis = 1)\n"
   ]
  },
  {
   "cell_type": "code",
   "execution_count": 844,
   "metadata": {},
   "outputs": [
    {
     "data": {
      "text/plain": [
       "Index(['Year_of_recruitment', 'Year_of_birth', 'Qualification',\n",
       "       'Last_performance_score', 'Targets_met', 'Previous_Award',\n",
       "       'Training_score_average', 'Past_Disciplinary_Action',\n",
       "       'Previous_IntraDepartmental_Movement', 'No_of_previous_employers',\n",
       "       'Division', 'Gender', 'Channel_of_Recruitment', 'Marital_Status',\n",
       "       'Promoted_or_Not'],\n",
       "      dtype='object')"
      ]
     },
     "execution_count": 844,
     "metadata": {},
     "output_type": "execute_result"
    }
   ],
   "source": [
    "train_data.columns"
   ]
  },
  {
   "cell_type": "code",
   "execution_count": 845,
   "metadata": {},
   "outputs": [
    {
     "data": {
      "text/plain": [
       "Commercial Sales and Marketing                 5145\n",
       "Customer Support and Field Operations          3375\n",
       "Information Technology and Solution Support    2186\n",
       "Sourcing and Purchasing                        2086\n",
       "Information and Strategy                       1631\n",
       "Business Finance Operations                     750\n",
       "People/HR Management                            714\n",
       "Regulatory and Legal services                   306\n",
       "Research and Innovation                         303\n",
       "Name: Division, dtype: int64"
      ]
     },
     "execution_count": 845,
     "metadata": {},
     "output_type": "execute_result"
    }
   ],
   "source": [
    "test_data['Division'].value_counts()"
   ]
  },
  {
   "cell_type": "code",
   "execution_count": 846,
   "metadata": {},
   "outputs": [
    {
     "data": {
      "text/plain": [
       "{'Business Finance Operations': (1640, 146),\n",
       " 'Commercial Sales and Marketing': (10854, 841),\n",
       " 'Customer Support and Field Operations': (7269, 704),\n",
       " 'Information Technology and Solution Support': (4420, 532),\n",
       " 'Information and Strategy': (3373, 348),\n",
       " 'People/HR Management': (1607, 97),\n",
       " 'Regulatory and Legal services': (692, 41),\n",
       " 'Research and Innovation': (653, 43),\n",
       " 'Sourcing and Purchasing': (4563, 489)}"
      ]
     },
     "execution_count": 846,
     "metadata": {},
     "output_type": "execute_result"
    }
   ],
   "source": [
    "dictionary = report(train_data['Division'], train_data['Promoted_or_Not'])\n",
    "dictionary"
   ]
  },
  {
   "cell_type": "code",
   "execution_count": 847,
   "metadata": {
    "collapsed": true
   },
   "outputs": [],
   "source": [
    "#train_data['Division'][train_data['Division'] == 'Commercial Sales and Marketing'] = 0\n",
    "#train_data['Division'][train_data['Division'] == 'Customer Support and Field Operations'] = 1\n",
    "#train_data['Division'][train_data['Division'] == 'Information Technology and Solution Support'] = 2\n",
    "#train_data['Division'][train_data['Division'] == 'Sourcing and Purchasing'] = 3\n",
    "#train_data['Division'][train_data['Division'] == 'Information and Strategy'] = 4\n",
    "#train_data['Division'][train_data['Division'] == 'Business Finance Operations'] = 5\n",
    "#train_data['Division'][train_data['Division'] == 'People/HR Management'] = 6\n",
    "#train_data['Division'][train_data['Division'] == 'Regulatory and Legal services'] = 7\n",
    "#train_data['Division'][train_data['Division'] == 'Research and Innovation'] = 8\n",
    "\n",
    "\n",
    "#test_data['Division'][test_data['Division'] == 'Commercial Sales and Marketing'] = 0\n",
    "#test_data['Division'][test_data['Division'] == 'Customer Support and Field Operations'] = 1\n",
    "#test_data['Division'][test_data['Division'] == 'Information Technology and Solution Support'] = 2\n",
    "#test_data['Division'][test_data['Division'] == 'Sourcing and Purchasing'] = 3\n",
    "#test_data['Division'][test_data['Division'] == 'Information and Strategy'] = 4\n",
    "#test_data['Division'][test_data['Division'] == 'Business Finance Operations'] = 5\n",
    "#test_data['Division'][test_data['Division'] == 'People/HR Management'] = 6\n",
    "#test_data['Division'][test_data['Division'] == 'Regulatory and Legal services'] = 7\n",
    "#test_data['Division'][test_data['Division'] == 'Research and Innovation'] = 8\n",
    "\n",
    "train_data = pd.get_dummies(train_data, columns = ['Division'])\n",
    "test_data = pd.get_dummies(test_data, columns = ['Division'])"
   ]
  },
  {
   "cell_type": "code",
   "execution_count": 848,
   "metadata": {},
   "outputs": [
    {
     "data": {
      "text/plain": [
       "Index(['Year_of_recruitment', 'Year_of_birth', 'Qualification',\n",
       "       'Last_performance_score', 'Targets_met', 'Previous_Award',\n",
       "       'Training_score_average', 'Past_Disciplinary_Action',\n",
       "       'Previous_IntraDepartmental_Movement', 'No_of_previous_employers',\n",
       "       'Gender', 'Channel_of_Recruitment', 'Marital_Status', 'Promoted_or_Not',\n",
       "       'Division_Business Finance Operations',\n",
       "       'Division_Commercial Sales and Marketing',\n",
       "       'Division_Customer Support and Field Operations',\n",
       "       'Division_Information Technology and Solution Support',\n",
       "       'Division_Information and Strategy', 'Division_People/HR Management',\n",
       "       'Division_Regulatory and Legal services',\n",
       "       'Division_Research and Innovation', 'Division_Sourcing and Purchasing'],\n",
       "      dtype='object')"
      ]
     },
     "execution_count": 848,
     "metadata": {},
     "output_type": "execute_result"
    }
   ],
   "source": [
    "train_data.columns"
   ]
  },
  {
   "cell_type": "code",
   "execution_count": 849,
   "metadata": {},
   "outputs": [
    {
     "data": {
      "text/plain": [
       "{'Female': (10414, 1018), 'Male': (24657, 2223)}"
      ]
     },
     "execution_count": 849,
     "metadata": {},
     "output_type": "execute_result"
    }
   ],
   "source": [
    "dictionary = report(train_data['Gender'], train_data['Promoted_or_Not'])\n",
    "dictionary"
   ]
  },
  {
   "cell_type": "code",
   "execution_count": 850,
   "metadata": {},
   "outputs": [
    {
     "data": {
      "text/plain": [
       "{'Agency and others': (19514, 1796),\n",
       " 'Direct Internal process': (14847, 1347),\n",
       " 'Referral and Special candidates': (710, 98)}"
      ]
     },
     "execution_count": 850,
     "metadata": {},
     "output_type": "execute_result"
    }
   ],
   "source": [
    "dictionary = report(train_data['Channel_of_Recruitment'], train_data['Promoted_or_Not'])\n",
    "dictionary"
   ]
  },
  {
   "cell_type": "code",
   "execution_count": 851,
   "metadata": {
    "collapsed": true
   },
   "outputs": [],
   "source": [
    "train_data['Channel_of_Recruitment'][train_data['Channel_of_Recruitment'] == 'Agency and others'] = 2\n",
    "train_data['Channel_of_Recruitment'][train_data['Channel_of_Recruitment'] == 'Direct Internal process'] = 0\n",
    "train_data['Channel_of_Recruitment'][train_data['Channel_of_Recruitment'] == 'Referral and Special candidates'] = 1\n",
    "\n",
    "\n",
    "\n",
    "test_data['Channel_of_Recruitment'][test_data['Channel_of_Recruitment'] == 'Agency and others'] = 2\n",
    "test_data['Channel_of_Recruitment'][test_data['Channel_of_Recruitment'] == 'Direct Internal process'] = 0\n",
    "test_data['Channel_of_Recruitment'][test_data['Channel_of_Recruitment'] == 'Referral and Special candidates'] = 1"
   ]
  },
  {
   "cell_type": "code",
   "execution_count": 852,
   "metadata": {},
   "outputs": [
    {
     "data": {
      "text/plain": [
       "{'Married': (28386, 2636), 'Not_Sure': (324, 39), 'Single': (6361, 566)}"
      ]
     },
     "execution_count": 852,
     "metadata": {},
     "output_type": "execute_result"
    }
   ],
   "source": [
    "dictionary = report(train_data['Marital_Status'], train_data['Promoted_or_Not'])\n",
    "dictionary"
   ]
  },
  {
   "cell_type": "code",
   "execution_count": 853,
   "metadata": {
    "collapsed": true
   },
   "outputs": [],
   "source": [
    "train_data['Marital_Status'][train_data['Marital_Status'] == 'Married'] = 0\n",
    "train_data['Marital_Status'][train_data['Marital_Status'] == 'Single'] = 1\n",
    "train_data['Marital_Status'][train_data['Marital_Status'] == 'Not_Sure'] = 0\n",
    "\n",
    "test_data['Marital_Status'][test_data['Marital_Status'] == 'Married'] = 0\n",
    "test_data['Marital_Status'][test_data['Marital_Status'] == 'Single'] = 1\n",
    "test_data['Marital_Status'][test_data['Marital_Status'] == 'Not_Sure'] = 0\n",
    "#train_data = train_data.drop('Marital_Status', axis = 1)\n",
    "#test_data = test_data.drop('Marital_Status', axis = 1)"
   ]
  },
  {
   "cell_type": "code",
   "execution_count": 854,
   "metadata": {},
   "outputs": [
    {
     "data": {
      "text/plain": [
       "Index(['Year_of_recruitment', 'Year_of_birth', 'Qualification',\n",
       "       'Last_performance_score', 'Targets_met', 'Previous_Award',\n",
       "       'Training_score_average', 'Past_Disciplinary_Action',\n",
       "       'Previous_IntraDepartmental_Movement', 'No_of_previous_employers',\n",
       "       'Gender', 'Channel_of_Recruitment', 'Marital_Status', 'Promoted_or_Not',\n",
       "       'Division_Business Finance Operations',\n",
       "       'Division_Commercial Sales and Marketing',\n",
       "       'Division_Customer Support and Field Operations',\n",
       "       'Division_Information Technology and Solution Support',\n",
       "       'Division_Information and Strategy', 'Division_People/HR Management',\n",
       "       'Division_Regulatory and Legal services',\n",
       "       'Division_Research and Innovation', 'Division_Sourcing and Purchasing'],\n",
       "      dtype='object')"
      ]
     },
     "execution_count": 854,
     "metadata": {},
     "output_type": "execute_result"
    }
   ],
   "source": [
    "train_data.columns"
   ]
  },
  {
   "cell_type": "code",
   "execution_count": 855,
   "metadata": {},
   "outputs": [
    {
     "data": {
      "text/plain": [
       "{'Female': (10414, 1018), 'Male': (24657, 2223)}"
      ]
     },
     "execution_count": 855,
     "metadata": {},
     "output_type": "execute_result"
    }
   ],
   "source": [
    "dictionary = report(train_data['Gender'], train_data['Promoted_or_Not'])\n",
    "dictionary"
   ]
  },
  {
   "cell_type": "code",
   "execution_count": 856,
   "metadata": {
    "collapsed": true
   },
   "outputs": [],
   "source": [
    "train_data = pd.get_dummies(train_data, columns = ['Gender'])\n",
    "test_data = pd.get_dummies(test_data, columns = ['Gender'])\n",
    "#train_data = train_data.drop(['Division','Gender'], axis = 1)\n",
    "#test_data = test_data.drop(['Division','Gender'], axis = 1)"
   ]
  },
  {
   "cell_type": "markdown",
   "metadata": {},
   "source": [
    "### Direct features"
   ]
  },
  {
   "cell_type": "code",
   "execution_count": 857,
   "metadata": {},
   "outputs": [
    {
     "data": {
      "text/plain": [
       "{'First Degree or HND': (23483, 2095),\n",
       " 'MSc, MBA and PhD': (9457, 1012),\n",
       " 'Non-University Education': (534, 52)}"
      ]
     },
     "execution_count": 857,
     "metadata": {},
     "output_type": "execute_result"
    }
   ],
   "source": [
    "dictionary = report(train_data['Qualification'], train_data['Promoted_or_Not'])\n",
    "dictionary"
   ]
  },
  {
   "cell_type": "code",
   "execution_count": 858,
   "metadata": {
    "collapsed": true
   },
   "outputs": [],
   "source": [
    "#train_data['Qualification'][train_data['Qualification'] == 'First Degree or HND'] = 0\n",
    "#train_data['Qualification'][train_data['Qualification'] == 'MSc, MBA and PhD'] = 1\n",
    "#train_data['Qualification'][train_data['Qualification'] == 'Non-University Education'] = 2\n",
    "\n",
    "#test_data['Qualification'][test_data['Qualification'] == 'First Degree or HND'] = 0\n",
    "#test_data['Qualification'][test_data['Qualification'] == 'MSc, MBA and PhD'] = 1\n",
    "#test_data['Qualification'][test_data['Qualification'] == 'Non-University Education'] = 2\n",
    "\n",
    "\n",
    "train_data['Qualification'].fillna('First Degree or HND', inplace = True)\n",
    "test_data['Qualification'].fillna('First Degree or HND', inplace = True)\n",
    "\n",
    "train_data = pd.get_dummies(train_data, columns = ['Qualification'])\n",
    "test_data = pd.get_dummies(test_data, columns = ['Qualification'])"
   ]
  },
  {
   "cell_type": "code",
   "execution_count": 859,
   "metadata": {},
   "outputs": [
    {
     "name": "stdout",
     "output_type": "stream",
     "text": [
      "<class 'pandas.core.frame.DataFrame'>\n",
      "RangeIndex: 38312 entries, 0 to 38311\n",
      "Data columns (total 26 columns):\n",
      "Year_of_recruitment                                     38312 non-null int64\n",
      "Year_of_birth                                           38312 non-null int64\n",
      "Last_performance_score                                  38312 non-null float64\n",
      "Targets_met                                             38312 non-null int64\n",
      "Previous_Award                                          38312 non-null int64\n",
      "Training_score_average                                  38312 non-null int64\n",
      "Past_Disciplinary_Action                                38312 non-null object\n",
      "Previous_IntraDepartmental_Movement                     38312 non-null object\n",
      "No_of_previous_employers                                38312 non-null object\n",
      "Channel_of_Recruitment                                  38312 non-null object\n",
      "Marital_Status                                          38312 non-null object\n",
      "Promoted_or_Not                                         38312 non-null int64\n",
      "Division_Business Finance Operations                    38312 non-null uint8\n",
      "Division_Commercial Sales and Marketing                 38312 non-null uint8\n",
      "Division_Customer Support and Field Operations          38312 non-null uint8\n",
      "Division_Information Technology and Solution Support    38312 non-null uint8\n",
      "Division_Information and Strategy                       38312 non-null uint8\n",
      "Division_People/HR Management                           38312 non-null uint8\n",
      "Division_Regulatory and Legal services                  38312 non-null uint8\n",
      "Division_Research and Innovation                        38312 non-null uint8\n",
      "Division_Sourcing and Purchasing                        38312 non-null uint8\n",
      "Gender_Female                                           38312 non-null uint8\n",
      "Gender_Male                                             38312 non-null uint8\n",
      "Qualification_First Degree or HND                       38312 non-null uint8\n",
      "Qualification_MSc, MBA and PhD                          38312 non-null uint8\n",
      "Qualification_Non-University Education                  38312 non-null uint8\n",
      "dtypes: float64(1), int64(6), object(5), uint8(14)\n",
      "memory usage: 4.0+ MB\n"
     ]
    }
   ],
   "source": [
    "train_data.info()"
   ]
  },
  {
   "cell_type": "code",
   "execution_count": 860,
   "metadata": {},
   "outputs": [
    {
     "data": {
      "text/plain": [
       "{0.0: (2659, 246),\n",
       " 2.5: (4266, 59),\n",
       " 5.0: (2806, 138),\n",
       " 7.5: (12059, 934),\n",
       " 10.0: (6367, 565),\n",
       " 12.5: (6914, 1299)}"
      ]
     },
     "execution_count": 860,
     "metadata": {},
     "output_type": "execute_result"
    }
   ],
   "source": [
    "dictionary = report(train_data['Last_performance_score'], train_data['Promoted_or_Not'])\n",
    "dictionary"
   ]
  },
  {
   "cell_type": "code",
   "execution_count": 861,
   "metadata": {
    "collapsed": true
   },
   "outputs": [],
   "source": [
    "#train_data['Last_performance_score'][train_data['Last_performance_score'] == 0.0] = 5\n",
    "#train_data['Last_performance_score'][train_data['Last_performance_score'] == 2.5] = 4\n",
    "#train_data['Last_performance_score'][train_data['Last_performance_score'] == 5.0] = 3\n",
    "#train_data['Last_performance_score'][train_data['Last_performance_score'] == 7.5] = 2\n",
    "#train_data['Last_performance_score'][train_data['Last_performance_score'] == 10.0] = 1\n",
    "#train_data['Last_performance_score'][train_data['Last_performance_score'] == 12.5] = 0\n",
    "\n",
    "\n",
    "\n",
    "#test_data['Last_performance_score'][test_data['Last_performance_score'] == 0.0] = 5\n",
    "#test_data['Last_performance_score'][test_data['Last_performance_score'] == 2.5] = 4\n",
    "#test_data['Last_performance_score'][test_data['Last_performance_score'] == 5.0] = 3\n",
    "#test_data['Last_performance_score'][test_data['Last_performance_score'] == 7.5] = 2\n",
    "#test_data['Last_performance_score'][test_data['Last_performance_score'] == 10.0] = 1\n",
    "#test_data['Last_performance_score'][test_data['Last_performance_score'] == 12.5] = 0\n",
    "\n",
    "train_data = pd.get_dummies(train_data, columns = ['Last_performance_score'])\n",
    "test_data = pd.get_dummies(test_data, columns = ['Last_performance_score'])\n"
   ]
  },
  {
   "cell_type": "code",
   "execution_count": 862,
   "metadata": {},
   "outputs": [
    {
     "name": "stdout",
     "output_type": "stream",
     "text": [
      "<class 'pandas.core.frame.DataFrame'>\n",
      "RangeIndex: 38312 entries, 0 to 38311\n",
      "Data columns (total 31 columns):\n",
      "Year_of_recruitment                                     38312 non-null int64\n",
      "Year_of_birth                                           38312 non-null int64\n",
      "Targets_met                                             38312 non-null int64\n",
      "Previous_Award                                          38312 non-null int64\n",
      "Training_score_average                                  38312 non-null int64\n",
      "Past_Disciplinary_Action                                38312 non-null object\n",
      "Previous_IntraDepartmental_Movement                     38312 non-null object\n",
      "No_of_previous_employers                                38312 non-null object\n",
      "Channel_of_Recruitment                                  38312 non-null object\n",
      "Marital_Status                                          38312 non-null object\n",
      "Promoted_or_Not                                         38312 non-null int64\n",
      "Division_Business Finance Operations                    38312 non-null uint8\n",
      "Division_Commercial Sales and Marketing                 38312 non-null uint8\n",
      "Division_Customer Support and Field Operations          38312 non-null uint8\n",
      "Division_Information Technology and Solution Support    38312 non-null uint8\n",
      "Division_Information and Strategy                       38312 non-null uint8\n",
      "Division_People/HR Management                           38312 non-null uint8\n",
      "Division_Regulatory and Legal services                  38312 non-null uint8\n",
      "Division_Research and Innovation                        38312 non-null uint8\n",
      "Division_Sourcing and Purchasing                        38312 non-null uint8\n",
      "Gender_Female                                           38312 non-null uint8\n",
      "Gender_Male                                             38312 non-null uint8\n",
      "Qualification_First Degree or HND                       38312 non-null uint8\n",
      "Qualification_MSc, MBA and PhD                          38312 non-null uint8\n",
      "Qualification_Non-University Education                  38312 non-null uint8\n",
      "Last_performance_score_0.0                              38312 non-null uint8\n",
      "Last_performance_score_2.5                              38312 non-null uint8\n",
      "Last_performance_score_5.0                              38312 non-null uint8\n",
      "Last_performance_score_7.5                              38312 non-null uint8\n",
      "Last_performance_score_10.0                             38312 non-null uint8\n",
      "Last_performance_score_12.5                             38312 non-null uint8\n",
      "dtypes: int64(6), object(5), uint8(20)\n",
      "memory usage: 3.9+ MB\n"
     ]
    }
   ],
   "source": [
    "train_data.info()"
   ]
  },
  {
   "cell_type": "code",
   "execution_count": 863,
   "metadata": {},
   "outputs": [
    {
     "data": {
      "text/plain": [
       "{'No': (34936, 3225), 'Yes': (135, 16)}"
      ]
     },
     "execution_count": 863,
     "metadata": {},
     "output_type": "execute_result"
    }
   ],
   "source": [
    "dictionary = report(train_data['Past_Disciplinary_Action'], train_data['Promoted_or_Not'])\n",
    "dictionary"
   ]
  },
  {
   "cell_type": "code",
   "execution_count": 864,
   "metadata": {
    "collapsed": true
   },
   "outputs": [],
   "source": [
    "train_data['Past_Disciplinary_Action'][train_data['Past_Disciplinary_Action']=='Yes'] = 1\n",
    "train_data['Past_Disciplinary_Action'][train_data['Past_Disciplinary_Action'] == 'No'] = 0\n",
    "\n",
    "\n",
    "test_data['Past_Disciplinary_Action'][test_data['Past_Disciplinary_Action']=='Yes'] = 1\n",
    "test_data['Past_Disciplinary_Action'][test_data['Past_Disciplinary_Action'] == 'No'] = 0\n"
   ]
  },
  {
   "cell_type": "code",
   "execution_count": 865,
   "metadata": {},
   "outputs": [
    {
     "data": {
      "text/plain": [
       "{'No': (31747, 2962), 'Yes': (3324, 279)}"
      ]
     },
     "execution_count": 865,
     "metadata": {},
     "output_type": "execute_result"
    }
   ],
   "source": [
    "dictionary = report(train_data['Previous_IntraDepartmental_Movement'], train_data['Promoted_or_Not'])\n",
    "dictionary"
   ]
  },
  {
   "cell_type": "code",
   "execution_count": 866,
   "metadata": {
    "collapsed": true
   },
   "outputs": [],
   "source": [
    "#train_data['Previous_IntraDepartmental_Movement'][train_data['Previous_IntraDepartmental_Movement'] == 'Yes'] = 0\n",
    "#train_data['Previous_IntraDepartmental_Movement'][train_data['Previous_IntraDepartmental_Movement'] == 'No'] = 1\n",
    "\n",
    "\n",
    "#test_data['Previous_IntraDepartmental_Movement'][test_data['Previous_IntraDepartmental_Movement'] == 'Yes'] = 0\n",
    "#test_data['Previous_IntraDepartmental_Movement'][test_data['Previous_IntraDepartmental_Movement'] == 'No'] = 1\n",
    "\n",
    "train_data = pd.get_dummies(train_data,columns= ['Previous_IntraDepartmental_Movement'])\n",
    "test_data = pd.get_dummies(test_data,columns= ['Previous_IntraDepartmental_Movement'])"
   ]
  },
  {
   "cell_type": "code",
   "execution_count": 867,
   "metadata": {},
   "outputs": [
    {
     "name": "stdout",
     "output_type": "stream",
     "text": [
      "<class 'pandas.core.frame.DataFrame'>\n",
      "RangeIndex: 38312 entries, 0 to 38311\n",
      "Data columns (total 32 columns):\n",
      "Year_of_recruitment                                     38312 non-null int64\n",
      "Year_of_birth                                           38312 non-null int64\n",
      "Targets_met                                             38312 non-null int64\n",
      "Previous_Award                                          38312 non-null int64\n",
      "Training_score_average                                  38312 non-null int64\n",
      "Past_Disciplinary_Action                                38312 non-null object\n",
      "No_of_previous_employers                                38312 non-null object\n",
      "Channel_of_Recruitment                                  38312 non-null object\n",
      "Marital_Status                                          38312 non-null object\n",
      "Promoted_or_Not                                         38312 non-null int64\n",
      "Division_Business Finance Operations                    38312 non-null uint8\n",
      "Division_Commercial Sales and Marketing                 38312 non-null uint8\n",
      "Division_Customer Support and Field Operations          38312 non-null uint8\n",
      "Division_Information Technology and Solution Support    38312 non-null uint8\n",
      "Division_Information and Strategy                       38312 non-null uint8\n",
      "Division_People/HR Management                           38312 non-null uint8\n",
      "Division_Regulatory and Legal services                  38312 non-null uint8\n",
      "Division_Research and Innovation                        38312 non-null uint8\n",
      "Division_Sourcing and Purchasing                        38312 non-null uint8\n",
      "Gender_Female                                           38312 non-null uint8\n",
      "Gender_Male                                             38312 non-null uint8\n",
      "Qualification_First Degree or HND                       38312 non-null uint8\n",
      "Qualification_MSc, MBA and PhD                          38312 non-null uint8\n",
      "Qualification_Non-University Education                  38312 non-null uint8\n",
      "Last_performance_score_0.0                              38312 non-null uint8\n",
      "Last_performance_score_2.5                              38312 non-null uint8\n",
      "Last_performance_score_5.0                              38312 non-null uint8\n",
      "Last_performance_score_7.5                              38312 non-null uint8\n",
      "Last_performance_score_10.0                             38312 non-null uint8\n",
      "Last_performance_score_12.5                             38312 non-null uint8\n",
      "Previous_IntraDepartmental_Movement_No                  38312 non-null uint8\n",
      "Previous_IntraDepartmental_Movement_Yes                 38312 non-null uint8\n",
      "dtypes: int64(6), object(4), uint8(22)\n",
      "memory usage: 3.7+ MB\n"
     ]
    }
   ],
   "source": [
    "train_data.info()"
   ]
  },
  {
   "cell_type": "code",
   "execution_count": 868,
   "metadata": {},
   "outputs": [
    {
     "data": {
      "text/plain": [
       "{'0': (12179, 1093),\n",
       " '1': (17253, 1614),\n",
       " '2': (1742, 176),\n",
       " '3': (1452, 135),\n",
       " '4': (1203, 121),\n",
       " '5': (872, 71),\n",
       " 'More than 5': (370, 31)}"
      ]
     },
     "execution_count": 868,
     "metadata": {},
     "output_type": "execute_result"
    }
   ],
   "source": [
    "dictionary = report(train_data['No_of_previous_employers'], train_data['Promoted_or_Not'])\n",
    "dictionary"
   ]
  },
  {
   "cell_type": "raw",
   "metadata": {
    "collapsed": true
   },
   "source": [
    "train_data['No_of_previous_employers'][train_data['No_of_previous_employers'] == '0'] = 0\n",
    "train_data['No_of_previous_employers'][train_data['No_of_previous_employers'] == '1'] = 1\n",
    "train_data['No_of_previous_employers'][train_data['No_of_previous_employers'] == '2'] = 2\n",
    "train_data['No_of_previous_employers'][train_data['No_of_previous_employers'] == '3'] = 3\n",
    "train_data['No_of_previous_employers'][train_data['No_of_previous_employers'] == '4'] = 4\n",
    "train_data['No_of_previous_employers'][train_data['No_of_previous_employers'] == '5'] = 5\n",
    "train_data['No_of_previous_employers'][train_data['No_of_previous_employers'] == 'More than 5'] = 6\n",
    "\n",
    "\n",
    "\n",
    "test_data['No_of_previous_employers'][test_data['No_of_previous_employers'] == '0'] = 0\n",
    "test_data['No_of_previous_employers'][test_data['No_of_previous_employers'] == '1'] = 1\n",
    "test_data['No_of_previous_employers'][test_data['No_of_previous_employers'] == '2'] = 2\n",
    "test_data['No_of_previous_employers'][test_data['No_of_previous_employers'] == '3'] = 3\n",
    "test_data['No_of_previous_employers'][test_data['No_of_previous_employers'] == '4'] = 4\n",
    "test_data['No_of_previous_employers'][test_data['No_of_previous_employers'] == '5'] = 5\n",
    "test_data['No_of_previous_employers'][test_data['No_of_previous_employers'] == 'More than 5'] = 6\n"
   ]
  },
  {
   "cell_type": "code",
   "execution_count": 869,
   "metadata": {
    "collapsed": true
   },
   "outputs": [],
   "source": [
    "train_data = train_data.drop('No_of_previous_employers',axis = 1)\n",
    "test_data = test_data.drop('No_of_previous_employers', axis = 1)"
   ]
  },
  {
   "cell_type": "code",
   "execution_count": 870,
   "metadata": {
    "collapsed": true
   },
   "outputs": [],
   "source": [
    "def ap(val):\n",
    "    if val >= 30 and val<= 80:\n",
    "        count = 0\n",
    "    else:\n",
    "        count = 1\n",
    "    return count\n",
    "#train_data['Training_score_average'] = train_data['Training_score_average'].apply(ap)\n",
    "#test_data['Training_score_average'] = test_data['Training_score_average'].apply(ap)\n",
    "#test_data['Training_score_average'] = test_data['Training_score_average'].astype('int')\n",
    "#train_data['Training_score_average'] = train_data['Training_score_average'].astype('int')\n"
   ]
  },
  {
   "cell_type": "code",
   "execution_count": 871,
   "metadata": {},
   "outputs": [
    {
     "data": {
      "text/plain": [
       "((38312, 31), (16496, 30))"
      ]
     },
     "execution_count": 871,
     "metadata": {},
     "output_type": "execute_result"
    }
   ],
   "source": [
    "train_data.shape, test_data.shape"
   ]
  },
  {
   "cell_type": "markdown",
   "metadata": {},
   "source": [
    "### end direct features"
   ]
  },
  {
   "cell_type": "code",
   "execution_count": 872,
   "metadata": {},
   "outputs": [
    {
     "data": {
      "text/html": [
       "<div>\n",
       "<style>\n",
       "    .dataframe thead tr:only-child th {\n",
       "        text-align: right;\n",
       "    }\n",
       "\n",
       "    .dataframe thead th {\n",
       "        text-align: left;\n",
       "    }\n",
       "\n",
       "    .dataframe tbody tr th {\n",
       "        vertical-align: top;\n",
       "    }\n",
       "</style>\n",
       "<table border=\"1\" class=\"dataframe\">\n",
       "  <thead>\n",
       "    <tr style=\"text-align: right;\">\n",
       "      <th></th>\n",
       "      <th>Year_of_recruitment</th>\n",
       "      <th>Year_of_birth</th>\n",
       "      <th>Targets_met</th>\n",
       "      <th>Previous_Award</th>\n",
       "      <th>Training_score_average</th>\n",
       "      <th>Past_Disciplinary_Action</th>\n",
       "      <th>Channel_of_Recruitment</th>\n",
       "      <th>Marital_Status</th>\n",
       "      <th>Promoted_or_Not</th>\n",
       "      <th>Division_Business Finance Operations</th>\n",
       "      <th>...</th>\n",
       "      <th>Qualification_MSc, MBA and PhD</th>\n",
       "      <th>Qualification_Non-University Education</th>\n",
       "      <th>Last_performance_score_0.0</th>\n",
       "      <th>Last_performance_score_2.5</th>\n",
       "      <th>Last_performance_score_5.0</th>\n",
       "      <th>Last_performance_score_7.5</th>\n",
       "      <th>Last_performance_score_10.0</th>\n",
       "      <th>Last_performance_score_12.5</th>\n",
       "      <th>Previous_IntraDepartmental_Movement_No</th>\n",
       "      <th>Previous_IntraDepartmental_Movement_Yes</th>\n",
       "    </tr>\n",
       "  </thead>\n",
       "  <tbody>\n",
       "    <tr>\n",
       "      <th>0</th>\n",
       "      <td>0</td>\n",
       "      <td>1</td>\n",
       "      <td>1</td>\n",
       "      <td>0</td>\n",
       "      <td>41</td>\n",
       "      <td>0</td>\n",
       "      <td>0</td>\n",
       "      <td>0</td>\n",
       "      <td>0</td>\n",
       "      <td>0</td>\n",
       "      <td>...</td>\n",
       "      <td>1</td>\n",
       "      <td>0</td>\n",
       "      <td>0</td>\n",
       "      <td>0</td>\n",
       "      <td>0</td>\n",
       "      <td>0</td>\n",
       "      <td>0</td>\n",
       "      <td>1</td>\n",
       "      <td>1</td>\n",
       "      <td>0</td>\n",
       "    </tr>\n",
       "    <tr>\n",
       "      <th>1</th>\n",
       "      <td>0</td>\n",
       "      <td>0</td>\n",
       "      <td>0</td>\n",
       "      <td>0</td>\n",
       "      <td>52</td>\n",
       "      <td>0</td>\n",
       "      <td>2</td>\n",
       "      <td>0</td>\n",
       "      <td>0</td>\n",
       "      <td>0</td>\n",
       "      <td>...</td>\n",
       "      <td>0</td>\n",
       "      <td>0</td>\n",
       "      <td>0</td>\n",
       "      <td>0</td>\n",
       "      <td>0</td>\n",
       "      <td>0</td>\n",
       "      <td>0</td>\n",
       "      <td>1</td>\n",
       "      <td>1</td>\n",
       "      <td>0</td>\n",
       "    </tr>\n",
       "    <tr>\n",
       "      <th>2</th>\n",
       "      <td>0</td>\n",
       "      <td>1</td>\n",
       "      <td>0</td>\n",
       "      <td>0</td>\n",
       "      <td>42</td>\n",
       "      <td>0</td>\n",
       "      <td>0</td>\n",
       "      <td>0</td>\n",
       "      <td>0</td>\n",
       "      <td>0</td>\n",
       "      <td>...</td>\n",
       "      <td>0</td>\n",
       "      <td>0</td>\n",
       "      <td>0</td>\n",
       "      <td>0</td>\n",
       "      <td>0</td>\n",
       "      <td>1</td>\n",
       "      <td>0</td>\n",
       "      <td>0</td>\n",
       "      <td>1</td>\n",
       "      <td>0</td>\n",
       "    </tr>\n",
       "    <tr>\n",
       "      <th>3</th>\n",
       "      <td>0</td>\n",
       "      <td>1</td>\n",
       "      <td>0</td>\n",
       "      <td>0</td>\n",
       "      <td>42</td>\n",
       "      <td>0</td>\n",
       "      <td>2</td>\n",
       "      <td>1</td>\n",
       "      <td>0</td>\n",
       "      <td>0</td>\n",
       "      <td>...</td>\n",
       "      <td>0</td>\n",
       "      <td>0</td>\n",
       "      <td>0</td>\n",
       "      <td>1</td>\n",
       "      <td>0</td>\n",
       "      <td>0</td>\n",
       "      <td>0</td>\n",
       "      <td>0</td>\n",
       "      <td>1</td>\n",
       "      <td>0</td>\n",
       "    </tr>\n",
       "    <tr>\n",
       "      <th>4</th>\n",
       "      <td>0</td>\n",
       "      <td>0</td>\n",
       "      <td>0</td>\n",
       "      <td>0</td>\n",
       "      <td>77</td>\n",
       "      <td>0</td>\n",
       "      <td>0</td>\n",
       "      <td>0</td>\n",
       "      <td>0</td>\n",
       "      <td>0</td>\n",
       "      <td>...</td>\n",
       "      <td>0</td>\n",
       "      <td>0</td>\n",
       "      <td>0</td>\n",
       "      <td>0</td>\n",
       "      <td>0</td>\n",
       "      <td>1</td>\n",
       "      <td>0</td>\n",
       "      <td>0</td>\n",
       "      <td>1</td>\n",
       "      <td>0</td>\n",
       "    </tr>\n",
       "  </tbody>\n",
       "</table>\n",
       "<p>5 rows × 31 columns</p>\n",
       "</div>"
      ],
      "text/plain": [
       "   Year_of_recruitment  Year_of_birth  Targets_met  Previous_Award  \\\n",
       "0                    0              1            1               0   \n",
       "1                    0              0            0               0   \n",
       "2                    0              1            0               0   \n",
       "3                    0              1            0               0   \n",
       "4                    0              0            0               0   \n",
       "\n",
       "   Training_score_average Past_Disciplinary_Action Channel_of_Recruitment  \\\n",
       "0                      41                        0                      0   \n",
       "1                      52                        0                      2   \n",
       "2                      42                        0                      0   \n",
       "3                      42                        0                      2   \n",
       "4                      77                        0                      0   \n",
       "\n",
       "  Marital_Status  Promoted_or_Not  Division_Business Finance Operations  \\\n",
       "0              0                0                                     0   \n",
       "1              0                0                                     0   \n",
       "2              0                0                                     0   \n",
       "3              1                0                                     0   \n",
       "4              0                0                                     0   \n",
       "\n",
       "                    ...                     Qualification_MSc, MBA and PhD  \\\n",
       "0                   ...                                                  1   \n",
       "1                   ...                                                  0   \n",
       "2                   ...                                                  0   \n",
       "3                   ...                                                  0   \n",
       "4                   ...                                                  0   \n",
       "\n",
       "   Qualification_Non-University Education  Last_performance_score_0.0  \\\n",
       "0                                       0                           0   \n",
       "1                                       0                           0   \n",
       "2                                       0                           0   \n",
       "3                                       0                           0   \n",
       "4                                       0                           0   \n",
       "\n",
       "   Last_performance_score_2.5  Last_performance_score_5.0  \\\n",
       "0                           0                           0   \n",
       "1                           0                           0   \n",
       "2                           0                           0   \n",
       "3                           1                           0   \n",
       "4                           0                           0   \n",
       "\n",
       "   Last_performance_score_7.5  Last_performance_score_10.0  \\\n",
       "0                           0                            0   \n",
       "1                           0                            0   \n",
       "2                           1                            0   \n",
       "3                           0                            0   \n",
       "4                           1                            0   \n",
       "\n",
       "   Last_performance_score_12.5  Previous_IntraDepartmental_Movement_No  \\\n",
       "0                            1                                       1   \n",
       "1                            1                                       1   \n",
       "2                            0                                       1   \n",
       "3                            0                                       1   \n",
       "4                            0                                       1   \n",
       "\n",
       "   Previous_IntraDepartmental_Movement_Yes  \n",
       "0                                        0  \n",
       "1                                        0  \n",
       "2                                        0  \n",
       "3                                        0  \n",
       "4                                        0  \n",
       "\n",
       "[5 rows x 31 columns]"
      ]
     },
     "execution_count": 872,
     "metadata": {},
     "output_type": "execute_result"
    }
   ],
   "source": [
    "train_data.head()"
   ]
  },
  {
   "cell_type": "code",
   "execution_count": 873,
   "metadata": {
    "collapsed": true
   },
   "outputs": [],
   "source": [
    "target = train_data['Promoted_or_Not']"
   ]
  },
  {
   "cell_type": "code",
   "execution_count": null,
   "metadata": {
    "collapsed": true
   },
   "outputs": [],
   "source": []
  },
  {
   "cell_type": "code",
   "execution_count": 874,
   "metadata": {
    "collapsed": true
   },
   "outputs": [],
   "source": [
    "unbiased_train = train_data.copy()\n",
    "unbiased_test = test_data.copy()"
   ]
  },
  {
   "cell_type": "raw",
   "metadata": {},
   "source": [
    "unbiased_test['Qualification'].value_counts()"
   ]
  },
  {
   "cell_type": "raw",
   "metadata": {
    "collapsed": true
   },
   "source": [
    "unbiased_train['Qualification'][unbiased_train['Qualification'] == 'First Degree or HND'] = 0\n",
    "unbiased_test['Qualification'][unbiased_test['Qualification'] == 'First Degree or HND'] = 0"
   ]
  },
  {
   "cell_type": "raw",
   "metadata": {
    "collapsed": true
   },
   "source": [
    "unbiased_train['Qualification'][unbiased_train['Qualification'] == 'First Degree or HND'] = 1\n",
    "unbiased_train['Qualification'][unbiased_train['Qualification'] == 'MSc, MBA and PhD'] = 0\n",
    "unbiased_train['Qualification'][unbiased_train['Qualification'] == 'Non-University Education'] = 2"
   ]
  },
  {
   "cell_type": "raw",
   "metadata": {
    "collapsed": true
   },
   "source": [
    "unbiased_test['Qualification'][unbiased_test['Qualification'] == 'First Degree or HND'] = 1\n",
    "unbiased_test['Qualification'][unbiased_test['Qualification'] == 'MSc, MBA and PhD'] = 0\n",
    "unbiased_test['Qualification'][unbiased_test['Qualification'] == 'Non-University Education'] = 2"
   ]
  },
  {
   "cell_type": "raw",
   "metadata": {
    "collapsed": true
   },
   "source": [
    "def appl(k):\n",
    "    if k in [12.5, 10.0,7.5]:\n",
    "        count = 0\n",
    "    else:\n",
    "        count = 1\n",
    "    return count\n",
    "unbiased_train['Last_performance_score'] = unbiased_train['Last_performance_score'].apply(appl)\n",
    "unbiased_test['Last_performance_score'] = unbiased_test['Last_performance_score'].apply(appl)"
   ]
  },
  {
   "cell_type": "raw",
   "metadata": {
    "collapsed": true
   },
   "source": [
    "def ap(val):\n",
    "    if val >= 30 and val<= 80:\n",
    "        count = 0\n",
    "    else:\n",
    "        count = 1\n",
    "    return count\n",
    "unbiased_train['Training_score_average'] = unbiased_train['Training_score_average'].apply(ap)\n",
    "unbiased_test['Training_score_average'] = unbiased_test['Training_score_average'].apply(ap)\n",
    "unbiased_test['Training_score_average'] = unbiased_test['Training_score_average'].astype('int')\n",
    "unbiased_train['Training_score_average'] = unbiased_train['Training_score_average'].astype('int')\n"
   ]
  },
  {
   "cell_type": "raw",
   "metadata": {
    "collapsed": true
   },
   "source": [
    "unbiased_train = unbiased_train.drop('Training_score_average', axis = 1)\n",
    "unbiased_test = unbiased_test.drop('Training_score_average', axis = 1)"
   ]
  },
  {
   "cell_type": "raw",
   "metadata": {
    "collapsed": true
   },
   "source": [
    "unbiased_train['Past_Disciplinary_Action'][unbiased_train['Past_Disciplinary_Action'] == 'Yes'] = 1\n",
    "unbiased_train['Past_Disciplinary_Action'][unbiased_train['Past_Disciplinary_Action'] == 'No'] = 0"
   ]
  },
  {
   "cell_type": "raw",
   "metadata": {
    "collapsed": true
   },
   "source": [
    "unbiased_test['Past_Disciplinary_Action'][unbiased_test['Past_Disciplinary_Action'] == 'Yes'] = 1\n",
    "unbiased_test['Past_Disciplinary_Action'][unbiased_test['Past_Disciplinary_Action'] == 'No'] = 0"
   ]
  },
  {
   "cell_type": "raw",
   "metadata": {
    "collapsed": true
   },
   "source": [
    "unbiased_train['Previous_IntraDepartmental_Movement'][unbiased_train['Previous_IntraDepartmental_Movement'] == 'Yes'] = 0\n",
    "unbiased_train['Previous_IntraDepartmental_Movement'][unbiased_train['Previous_IntraDepartmental_Movement'] == 'No'] = 1\n",
    "\n",
    "unbiased_test['Previous_IntraDepartmental_Movement'][unbiased_test['Previous_IntraDepartmental_Movement'] == 'Yes'] = 0\n",
    "unbiased_test['Previous_IntraDepartmental_Movement'][unbiased_test['Previous_IntraDepartmental_Movement'] == 'No'] = 1"
   ]
  },
  {
   "cell_type": "raw",
   "metadata": {
    "collapsed": true
   },
   "source": [
    "unbiased_train['No_of_previous_employers'][unbiased_train['No_of_previous_employers'] == 'More than 5'] = 6\n",
    "unbiased_train['No_of_previous_employers'][unbiased_train['No_of_previous_employers'] == '5'] = 5\n",
    "unbiased_train['No_of_previous_employers'][unbiased_train['No_of_previous_employers'] == '4'] = 4\n",
    "unbiased_train['No_of_previous_employers'][unbiased_train['No_of_previous_employers'] == '3'] = 3\n",
    "unbiased_train['No_of_previous_employers'][unbiased_train['No_of_previous_employers'] == '2'] = 2\n",
    "unbiased_train['No_of_previous_employers'][unbiased_train['No_of_previous_employers'] == '1'] = 1\n",
    "unbiased_train['No_of_previous_employers'][unbiased_train['No_of_previous_employers'] == '0'] = 0\n",
    "\n",
    "\n",
    "\n",
    "unbiased_test['No_of_previous_employers'][unbiased_test['No_of_previous_employers'] == 'More than 5'] = 6\n",
    "unbiased_test['No_of_previous_employers'][unbiased_test['No_of_previous_employers'] == '5'] = 5\n",
    "unbiased_test['No_of_previous_employers'][unbiased_test['No_of_previous_employers'] == '4'] = 4\n",
    "unbiased_test['No_of_previous_employers'][unbiased_test['No_of_previous_employers'] == '3'] = 3\n",
    "unbiased_test['No_of_previous_employers'][unbiased_test['No_of_previous_employers'] == '2'] = 2\n",
    "unbiased_test['No_of_previous_employers'][unbiased_test['No_of_previous_employers'] == '1'] = 1\n",
    "unbiased_test['No_of_previous_employers'][unbiased_test['No_of_previous_employers'] == '0'] = 0\n"
   ]
  },
  {
   "cell_type": "code",
   "execution_count": 875,
   "metadata": {},
   "outputs": [
    {
     "data": {
      "text/plain": [
       "((38312, 31), (16496, 30))"
      ]
     },
     "execution_count": 875,
     "metadata": {},
     "output_type": "execute_result"
    }
   ],
   "source": [
    "unbiased_train.shape, unbiased_test.shape"
   ]
  },
  {
   "cell_type": "code",
   "execution_count": 876,
   "metadata": {},
   "outputs": [
    {
     "data": {
      "text/html": [
       "<div>\n",
       "<style>\n",
       "    .dataframe thead tr:only-child th {\n",
       "        text-align: right;\n",
       "    }\n",
       "\n",
       "    .dataframe thead th {\n",
       "        text-align: left;\n",
       "    }\n",
       "\n",
       "    .dataframe tbody tr th {\n",
       "        vertical-align: top;\n",
       "    }\n",
       "</style>\n",
       "<table border=\"1\" class=\"dataframe\">\n",
       "  <thead>\n",
       "    <tr style=\"text-align: right;\">\n",
       "      <th></th>\n",
       "      <th>Year_of_recruitment</th>\n",
       "      <th>Year_of_birth</th>\n",
       "      <th>Targets_met</th>\n",
       "      <th>Previous_Award</th>\n",
       "      <th>Training_score_average</th>\n",
       "      <th>Past_Disciplinary_Action</th>\n",
       "      <th>Channel_of_Recruitment</th>\n",
       "      <th>Marital_Status</th>\n",
       "      <th>Promoted_or_Not</th>\n",
       "      <th>Division_Business Finance Operations</th>\n",
       "      <th>...</th>\n",
       "      <th>Qualification_MSc, MBA and PhD</th>\n",
       "      <th>Qualification_Non-University Education</th>\n",
       "      <th>Last_performance_score_0.0</th>\n",
       "      <th>Last_performance_score_2.5</th>\n",
       "      <th>Last_performance_score_5.0</th>\n",
       "      <th>Last_performance_score_7.5</th>\n",
       "      <th>Last_performance_score_10.0</th>\n",
       "      <th>Last_performance_score_12.5</th>\n",
       "      <th>Previous_IntraDepartmental_Movement_No</th>\n",
       "      <th>Previous_IntraDepartmental_Movement_Yes</th>\n",
       "    </tr>\n",
       "  </thead>\n",
       "  <tbody>\n",
       "    <tr>\n",
       "      <th>0</th>\n",
       "      <td>0</td>\n",
       "      <td>1</td>\n",
       "      <td>1</td>\n",
       "      <td>0</td>\n",
       "      <td>41</td>\n",
       "      <td>0</td>\n",
       "      <td>0</td>\n",
       "      <td>0</td>\n",
       "      <td>0</td>\n",
       "      <td>0</td>\n",
       "      <td>...</td>\n",
       "      <td>1</td>\n",
       "      <td>0</td>\n",
       "      <td>0</td>\n",
       "      <td>0</td>\n",
       "      <td>0</td>\n",
       "      <td>0</td>\n",
       "      <td>0</td>\n",
       "      <td>1</td>\n",
       "      <td>1</td>\n",
       "      <td>0</td>\n",
       "    </tr>\n",
       "    <tr>\n",
       "      <th>1</th>\n",
       "      <td>0</td>\n",
       "      <td>0</td>\n",
       "      <td>0</td>\n",
       "      <td>0</td>\n",
       "      <td>52</td>\n",
       "      <td>0</td>\n",
       "      <td>2</td>\n",
       "      <td>0</td>\n",
       "      <td>0</td>\n",
       "      <td>0</td>\n",
       "      <td>...</td>\n",
       "      <td>0</td>\n",
       "      <td>0</td>\n",
       "      <td>0</td>\n",
       "      <td>0</td>\n",
       "      <td>0</td>\n",
       "      <td>0</td>\n",
       "      <td>0</td>\n",
       "      <td>1</td>\n",
       "      <td>1</td>\n",
       "      <td>0</td>\n",
       "    </tr>\n",
       "    <tr>\n",
       "      <th>2</th>\n",
       "      <td>0</td>\n",
       "      <td>1</td>\n",
       "      <td>0</td>\n",
       "      <td>0</td>\n",
       "      <td>42</td>\n",
       "      <td>0</td>\n",
       "      <td>0</td>\n",
       "      <td>0</td>\n",
       "      <td>0</td>\n",
       "      <td>0</td>\n",
       "      <td>...</td>\n",
       "      <td>0</td>\n",
       "      <td>0</td>\n",
       "      <td>0</td>\n",
       "      <td>0</td>\n",
       "      <td>0</td>\n",
       "      <td>1</td>\n",
       "      <td>0</td>\n",
       "      <td>0</td>\n",
       "      <td>1</td>\n",
       "      <td>0</td>\n",
       "    </tr>\n",
       "    <tr>\n",
       "      <th>3</th>\n",
       "      <td>0</td>\n",
       "      <td>1</td>\n",
       "      <td>0</td>\n",
       "      <td>0</td>\n",
       "      <td>42</td>\n",
       "      <td>0</td>\n",
       "      <td>2</td>\n",
       "      <td>1</td>\n",
       "      <td>0</td>\n",
       "      <td>0</td>\n",
       "      <td>...</td>\n",
       "      <td>0</td>\n",
       "      <td>0</td>\n",
       "      <td>0</td>\n",
       "      <td>1</td>\n",
       "      <td>0</td>\n",
       "      <td>0</td>\n",
       "      <td>0</td>\n",
       "      <td>0</td>\n",
       "      <td>1</td>\n",
       "      <td>0</td>\n",
       "    </tr>\n",
       "    <tr>\n",
       "      <th>4</th>\n",
       "      <td>0</td>\n",
       "      <td>0</td>\n",
       "      <td>0</td>\n",
       "      <td>0</td>\n",
       "      <td>77</td>\n",
       "      <td>0</td>\n",
       "      <td>0</td>\n",
       "      <td>0</td>\n",
       "      <td>0</td>\n",
       "      <td>0</td>\n",
       "      <td>...</td>\n",
       "      <td>0</td>\n",
       "      <td>0</td>\n",
       "      <td>0</td>\n",
       "      <td>0</td>\n",
       "      <td>0</td>\n",
       "      <td>1</td>\n",
       "      <td>0</td>\n",
       "      <td>0</td>\n",
       "      <td>1</td>\n",
       "      <td>0</td>\n",
       "    </tr>\n",
       "  </tbody>\n",
       "</table>\n",
       "<p>5 rows × 31 columns</p>\n",
       "</div>"
      ],
      "text/plain": [
       "   Year_of_recruitment  Year_of_birth  Targets_met  Previous_Award  \\\n",
       "0                    0              1            1               0   \n",
       "1                    0              0            0               0   \n",
       "2                    0              1            0               0   \n",
       "3                    0              1            0               0   \n",
       "4                    0              0            0               0   \n",
       "\n",
       "   Training_score_average Past_Disciplinary_Action Channel_of_Recruitment  \\\n",
       "0                      41                        0                      0   \n",
       "1                      52                        0                      2   \n",
       "2                      42                        0                      0   \n",
       "3                      42                        0                      2   \n",
       "4                      77                        0                      0   \n",
       "\n",
       "  Marital_Status  Promoted_or_Not  Division_Business Finance Operations  \\\n",
       "0              0                0                                     0   \n",
       "1              0                0                                     0   \n",
       "2              0                0                                     0   \n",
       "3              1                0                                     0   \n",
       "4              0                0                                     0   \n",
       "\n",
       "                    ...                     Qualification_MSc, MBA and PhD  \\\n",
       "0                   ...                                                  1   \n",
       "1                   ...                                                  0   \n",
       "2                   ...                                                  0   \n",
       "3                   ...                                                  0   \n",
       "4                   ...                                                  0   \n",
       "\n",
       "   Qualification_Non-University Education  Last_performance_score_0.0  \\\n",
       "0                                       0                           0   \n",
       "1                                       0                           0   \n",
       "2                                       0                           0   \n",
       "3                                       0                           0   \n",
       "4                                       0                           0   \n",
       "\n",
       "   Last_performance_score_2.5  Last_performance_score_5.0  \\\n",
       "0                           0                           0   \n",
       "1                           0                           0   \n",
       "2                           0                           0   \n",
       "3                           1                           0   \n",
       "4                           0                           0   \n",
       "\n",
       "   Last_performance_score_7.5  Last_performance_score_10.0  \\\n",
       "0                           0                            0   \n",
       "1                           0                            0   \n",
       "2                           1                            0   \n",
       "3                           0                            0   \n",
       "4                           1                            0   \n",
       "\n",
       "   Last_performance_score_12.5  Previous_IntraDepartmental_Movement_No  \\\n",
       "0                            1                                       1   \n",
       "1                            1                                       1   \n",
       "2                            0                                       1   \n",
       "3                            0                                       1   \n",
       "4                            0                                       1   \n",
       "\n",
       "   Previous_IntraDepartmental_Movement_Yes  \n",
       "0                                        0  \n",
       "1                                        0  \n",
       "2                                        0  \n",
       "3                                        0  \n",
       "4                                        0  \n",
       "\n",
       "[5 rows x 31 columns]"
      ]
     },
     "execution_count": 876,
     "metadata": {},
     "output_type": "execute_result"
    }
   ],
   "source": [
    "unbiased_train.head()"
   ]
  },
  {
   "cell_type": "code",
   "execution_count": 877,
   "metadata": {},
   "outputs": [
    {
     "name": "stdout",
     "output_type": "stream",
     "text": [
      "<class 'pandas.core.frame.DataFrame'>\n",
      "RangeIndex: 38312 entries, 0 to 38311\n",
      "Data columns (total 31 columns):\n",
      "Year_of_recruitment                                     38312 non-null int64\n",
      "Year_of_birth                                           38312 non-null int64\n",
      "Targets_met                                             38312 non-null int64\n",
      "Previous_Award                                          38312 non-null int64\n",
      "Training_score_average                                  38312 non-null int64\n",
      "Past_Disciplinary_Action                                38312 non-null object\n",
      "Channel_of_Recruitment                                  38312 non-null object\n",
      "Marital_Status                                          38312 non-null object\n",
      "Promoted_or_Not                                         38312 non-null int64\n",
      "Division_Business Finance Operations                    38312 non-null uint8\n",
      "Division_Commercial Sales and Marketing                 38312 non-null uint8\n",
      "Division_Customer Support and Field Operations          38312 non-null uint8\n",
      "Division_Information Technology and Solution Support    38312 non-null uint8\n",
      "Division_Information and Strategy                       38312 non-null uint8\n",
      "Division_People/HR Management                           38312 non-null uint8\n",
      "Division_Regulatory and Legal services                  38312 non-null uint8\n",
      "Division_Research and Innovation                        38312 non-null uint8\n",
      "Division_Sourcing and Purchasing                        38312 non-null uint8\n",
      "Gender_Female                                           38312 non-null uint8\n",
      "Gender_Male                                             38312 non-null uint8\n",
      "Qualification_First Degree or HND                       38312 non-null uint8\n",
      "Qualification_MSc, MBA and PhD                          38312 non-null uint8\n",
      "Qualification_Non-University Education                  38312 non-null uint8\n",
      "Last_performance_score_0.0                              38312 non-null uint8\n",
      "Last_performance_score_2.5                              38312 non-null uint8\n",
      "Last_performance_score_5.0                              38312 non-null uint8\n",
      "Last_performance_score_7.5                              38312 non-null uint8\n",
      "Last_performance_score_10.0                             38312 non-null uint8\n",
      "Last_performance_score_12.5                             38312 non-null uint8\n",
      "Previous_IntraDepartmental_Movement_No                  38312 non-null uint8\n",
      "Previous_IntraDepartmental_Movement_Yes                 38312 non-null uint8\n",
      "dtypes: int64(6), object(3), uint8(22)\n",
      "memory usage: 3.4+ MB\n"
     ]
    }
   ],
   "source": [
    "unbiased_train.info()"
   ]
  },
  {
   "cell_type": "code",
   "execution_count": 878,
   "metadata": {
    "collapsed": true
   },
   "outputs": [],
   "source": [
    "unbiased_train = unbiased_train.drop('Promoted_or_Not', axis = 1)"
   ]
  },
  {
   "cell_type": "markdown",
   "metadata": {},
   "source": [
    "# Modelling Unbiased train data and train_direct_hot"
   ]
  },
  {
   "cell_type": "code",
   "execution_count": 879,
   "metadata": {},
   "outputs": [
    {
     "data": {
      "text/plain": [
       "(38312, 30)"
      ]
     },
     "execution_count": 879,
     "metadata": {},
     "output_type": "execute_result"
    }
   ],
   "source": [
    "unbiased_train.shape"
   ]
  },
  {
   "cell_type": "code",
   "execution_count": 880,
   "metadata": {
    "collapsed": true
   },
   "outputs": [],
   "source": [
    "from sklearn.preprocessing import MinMaxScaler\n",
    "from sklearn.preprocessing import StandardScaler\n",
    "std = StandardScaler()\n",
    "min_max = MinMaxScaler()\n",
    "\n",
    "\n",
    "scaled_unbiased_train = min_max.fit_transform(unbiased_train)\n",
    "scaled_unbiased_test = min_max.fit_transform(unbiased_test)"
   ]
  },
  {
   "cell_type": "markdown",
   "metadata": {},
   "source": [
    "### model unbiased train"
   ]
  },
  {
   "cell_type": "code",
   "execution_count": 881,
   "metadata": {
    "collapsed": true
   },
   "outputs": [],
   "source": [
    "from sklearn.model_selection import train_test_split\n",
    "y = target.astype('int')\n",
    "x_train, x_test,y_train, y_test = train_test_split(scaled_unbiased_train, y, train_size = 0.7, random_state = 42, stratify = y)\n"
   ]
  },
  {
   "cell_type": "code",
   "execution_count": 882,
   "metadata": {},
   "outputs": [
    {
     "data": {
      "text/plain": [
       "(2269, 972)"
      ]
     },
     "execution_count": 882,
     "metadata": {},
     "output_type": "execute_result"
    }
   ],
   "source": [
    "sum(y_train), sum(y_test)"
   ]
  },
  {
   "cell_type": "code",
   "execution_count": 883,
   "metadata": {},
   "outputs": [
    {
     "data": {
      "text/plain": [
       "(0.084607353270191657, 0.084565860448929872)"
      ]
     },
     "execution_count": 883,
     "metadata": {},
     "output_type": "execute_result"
    }
   ],
   "source": [
    "sum(y_train)/y_train.shape[0],sum(y_test)/y_test.shape[0]"
   ]
  },
  {
   "cell_type": "markdown",
   "metadata": {},
   "source": [
    "### feature engineering"
   ]
  },
  {
   "cell_type": "code",
   "execution_count": 884,
   "metadata": {},
   "outputs": [
    {
     "data": {
      "text/plain": [
       "'             precision    recall  f1-score   support\\n\\n          0       0.93      0.99      0.96     10522\\n          1       0.76      0.18      0.29       972\\n\\navg / total       0.91      0.93      0.90     11494\\n'"
      ]
     },
     "execution_count": 884,
     "metadata": {},
     "output_type": "execute_result"
    }
   ],
   "source": [
    "from sklearn.ensemble import AdaBoostClassifier\n",
    "ada = AdaBoostClassifier()\n",
    "ada.fit(x_train, y_train)\n",
    "pred = ada.predict(x_test)\n",
    "from sklearn.metrics import classification_report, f1_score, precision_score\n",
    "classification_report(y_test, pred)"
   ]
  },
  {
   "cell_type": "code",
   "execution_count": null,
   "metadata": {
    "collapsed": true
   },
   "outputs": [],
   "source": []
  },
  {
   "cell_type": "markdown",
   "metadata": {},
   "source": [
    "### Decision tree \n"
   ]
  },
  {
   "cell_type": "code",
   "execution_count": 885,
   "metadata": {},
   "outputs": [
    {
     "data": {
      "text/plain": [
       "(0.95107763442464022, 0.93170349747694448)"
      ]
     },
     "execution_count": 885,
     "metadata": {},
     "output_type": "execute_result"
    }
   ],
   "source": [
    "from sklearn.tree import DecisionTreeClassifier\n",
    "lr = DecisionTreeClassifier(max_depth = 60, min_samples_split = 8, min_samples_leaf = 2)\n",
    "from sklearn.metrics import accuracy_score, precision_score, f1_score\n",
    "lr.fit(x_train, y_train)\n",
    "lr.score(x_train, y_train), lr.score(x_test, y_test)"
   ]
  },
  {
   "cell_type": "code",
   "execution_count": 886,
   "metadata": {},
   "outputs": [
    {
     "name": "stdout",
     "output_type": "stream",
     "text": [
      "confusion matrix\n",
      "[[10352   170]\n",
      " [  615   357]]\n"
     ]
    }
   ],
   "source": [
    "from sklearn import metrics\n",
    "\n",
    "pred = lr.predict(x_test)\n",
    "\n",
    "print('confusion matrix')\n",
    "print(metrics.confusion_matrix(y_test, pred))"
   ]
  },
  {
   "cell_type": "code",
   "execution_count": 887,
   "metadata": {},
   "outputs": [
    {
     "name": "stdout",
     "output_type": "stream",
     "text": [
      "Fitting 3 folds for each of 220 candidates, totalling 660 fits\n"
     ]
    },
    {
     "name": "stderr",
     "output_type": "stream",
     "text": [
      "[Parallel(n_jobs=-1)]: Done  34 tasks      | elapsed:   10.3s\n",
      "[Parallel(n_jobs=-1)]: Done 184 tasks      | elapsed:   13.9s\n",
      "[Parallel(n_jobs=-1)]: Done 434 tasks      | elapsed:   20.1s\n",
      "[Parallel(n_jobs=-1)]: Done 660 out of 660 | elapsed:   25.6s finished\n"
     ]
    },
    {
     "name": "stdout",
     "output_type": "stream",
     "text": [
      "Best Score:  0.478607049834\n",
      "Best Params:  {'max_depth': 16, 'min_samples_leaf': 4, 'min_samples_split': 32}\n"
     ]
    }
   ],
   "source": [
    "from sklearn.model_selection import GridSearchCV, RandomizedSearchCV\n",
    "from sklearn.tree import DecisionTreeClassifier\n",
    "lr = DecisionTreeClassifier()\n",
    "\n",
    "max_depth = [12,14,16,18,20]\n",
    "min_samples_split = [24,26,28,30,32,34,36,38,40,42,44]\n",
    "min_samples_leaf = [2,4,6,8]\n",
    "\n",
    "\n",
    "param_grid = dict(max_depth = max_depth, min_samples_split = min_samples_split, min_samples_leaf = min_samples_leaf)\n",
    "\n",
    "grid = GridSearchCV(estimator=lr,\n",
    "                    param_grid=param_grid,\n",
    "                    scoring='f1',\n",
    "                    verbose=1,\n",
    "                    n_jobs=-1)\n",
    "grid_result = grid.fit(x_train, y_train)\n",
    "\n",
    "print('Best Score: ', grid_result.best_score_)\n",
    "print('Best Params: ', grid_result.best_params_)"
   ]
  },
  {
   "cell_type": "code",
   "execution_count": 888,
   "metadata": {},
   "outputs": [
    {
     "data": {
      "text/plain": [
       "(0.94313520769632342, 0.94066469462328173)"
      ]
     },
     "execution_count": 888,
     "metadata": {},
     "output_type": "execute_result"
    }
   ],
   "source": [
    "from sklearn.tree import DecisionTreeClassifier\n",
    "lr = DecisionTreeClassifier(max_depth = 16, min_samples_split = 32, min_samples_leaf = 4)\n",
    "from sklearn.metrics import accuracy_score, precision_score, f1_score\n",
    "lr.fit(x_train, y_train)\n",
    "lr.score(x_train, y_train), lr.score(x_test, y_test)"
   ]
  },
  {
   "cell_type": "code",
   "execution_count": 889,
   "metadata": {},
   "outputs": [
    {
     "name": "stdout",
     "output_type": "stream",
     "text": [
      "confusion matrix\n",
      "[[10487    35]\n",
      " [  647   325]]\n"
     ]
    }
   ],
   "source": [
    "from sklearn import metrics\n",
    "\n",
    "pred = lr.predict(x_test)\n",
    "\n",
    "print('confusion matrix')\n",
    "print(metrics.confusion_matrix(y_test, pred))"
   ]
  },
  {
   "cell_type": "code",
   "execution_count": 890,
   "metadata": {},
   "outputs": [
    {
     "name": "stdout",
     "output_type": "stream",
     "text": [
      "classification report\n",
      "             precision    recall  f1-score   support\n",
      "\n",
      "          0       0.94      1.00      0.97     10522\n",
      "          1       0.90      0.33      0.49       972\n",
      "\n",
      "avg / total       0.94      0.94      0.93     11494\n",
      "\n"
     ]
    }
   ],
   "source": [
    "print('classification report')\n",
    "print(metrics.classification_report(y_test, pred))\n"
   ]
  },
  {
   "cell_type": "code",
   "execution_count": 891,
   "metadata": {},
   "outputs": [
    {
     "data": {
      "text/plain": [
       "(0.92787202079335929, 0.72824778047349159, 0.94066469462328173)"
      ]
     },
     "execution_count": 891,
     "metadata": {},
     "output_type": "execute_result"
    }
   ],
   "source": [
    "y_test_preds = pred\n",
    "f1_score(y_test,y_test_preds,average= 'weighted'),f1_score(y_test,y_test_preds,average= 'macro'),f1_score(y_test,y_test_preds,average= 'micro')"
   ]
  },
  {
   "cell_type": "markdown",
   "metadata": {},
   "source": [
    "### Random forest classifier"
   ]
  },
  {
   "cell_type": "code",
   "execution_count": 81,
   "metadata": {
    "collapsed": true
   },
   "outputs": [],
   "source": [
    "from sklearn.ensemble import RandomForestClassifier\n",
    "rand = RandomForestClassifier(max_depth = 180, n_estimators = 600)\n",
    "rand.fit(x_train, y_train)\n",
    "pred = rand.predict(x_test)"
   ]
  },
  {
   "cell_type": "code",
   "execution_count": 80,
   "metadata": {},
   "outputs": [
    {
     "name": "stdout",
     "output_type": "stream",
     "text": [
      "classification report\n",
      "             precision    recall  f1-score   support\n",
      "\n",
      "          0       0.94      0.98      0.96     10522\n",
      "          1       0.65      0.32      0.43       972\n",
      "\n",
      "avg / total       0.92      0.93      0.92     11494\n",
      "\n"
     ]
    }
   ],
   "source": [
    "print('classification report')\n",
    "print(metrics.classification_report(y_test, pred))\n"
   ]
  },
  {
   "cell_type": "code",
   "execution_count": 82,
   "metadata": {},
   "outputs": [
    {
     "name": "stdout",
     "output_type": "stream",
     "text": [
      "Fitting 3 folds for each of 30 candidates, totalling 90 fits\n"
     ]
    },
    {
     "name": "stderr",
     "output_type": "stream",
     "text": [
      "[Parallel(n_jobs=-1)]: Done  34 tasks      | elapsed:  2.1min\n",
      "[Parallel(n_jobs=-1)]: Done  90 out of  90 | elapsed:  5.2min finished\n"
     ]
    },
    {
     "name": "stdout",
     "output_type": "stream",
     "text": [
      "Best Score:  0.38869410869\n",
      "Best Params:  {'max_depth': 180, 'n_estimators': 700}\n"
     ]
    }
   ],
   "source": [
    "from sklearn.model_selection import GridSearchCV, RandomizedSearchCV\n",
    "from sklearn.ensemble import RandomForestClassifier\n",
    "lr = RandomForestClassifier()\n",
    "\n",
    "max_depth = [150,170,180,200,220]\n",
    "#min_samples_split = [10,12,14,16,18]\n",
    "n_estimators = [600,700,800,1000,1200,1400]\n",
    "\n",
    "\n",
    "param_grid = dict(max_depth = max_depth,\n",
    "                 n_estimators = n_estimators)\n",
    "\n",
    "grid = GridSearchCV(estimator=lr,\n",
    "                    param_grid=param_grid,\n",
    "                    scoring='f1',\n",
    "                    verbose=1,\n",
    "                    n_jobs=-1)\n",
    "grid_result = grid.fit(x_train, y_train)\n",
    "\n",
    "print('Best Score: ', grid_result.best_score_)\n",
    "print('Best Params: ', grid_result.best_params_)"
   ]
  },
  {
   "cell_type": "code",
   "execution_count": 81,
   "metadata": {},
   "outputs": [
    {
     "name": "stdout",
     "output_type": "stream",
     "text": [
      "classification report\n",
      "             precision    recall  f1-score   support\n",
      "\n",
      "          0       0.94      0.98      0.96     10522\n",
      "          1       0.65      0.32      0.43       972\n",
      "\n",
      "avg / total       0.92      0.93      0.92     11494\n",
      "\n"
     ]
    }
   ],
   "source": [
    "print('classification report')\n",
    "from sklearn import metrics\n",
    "print(metrics.classification_report(y_test, pred))\n"
   ]
  },
  {
   "cell_type": "code",
   "execution_count": 83,
   "metadata": {},
   "outputs": [
    {
     "data": {
      "text/plain": [
       "(0.91093628273270399, 0.6768495242981617, 0.92248129458848094)"
      ]
     },
     "execution_count": 83,
     "metadata": {},
     "output_type": "execute_result"
    }
   ],
   "source": [
    "y_test_preds = pred\n",
    "f1_score(y_test,y_test_preds,average= 'weighted'),f1_score(y_test,y_test_preds,average= 'macro'),f1_score(y_test,y_test_preds,average= 'micro')"
   ]
  },
  {
   "cell_type": "code",
   "execution_count": 892,
   "metadata": {},
   "outputs": [
    {
     "data": {
      "text/plain": [
       "'             precision    recall  f1-score   support\\n\\n          0       0.94      1.00      0.97     10522\\n          1       0.93      0.34      0.50       972\\n\\navg / total       0.94      0.94      0.93     11494\\n'"
      ]
     },
     "execution_count": 892,
     "metadata": {},
     "output_type": "execute_result"
    }
   ],
   "source": [
    "from xgboost.sklearn import XGBClassifier\n",
    "xgb = XGBClassifier(learning_rate = 0.01, n_estimators = 1000,max_depth = 8)\n",
    "xgb.fit(x_train, y_train)\n",
    "prediction = xgb.predict(x_test)\n",
    "prediction = prediction.astype('int')\n",
    "from sklearn.metrics import classification_report\n",
    "classification_report(y_test, prediction) "
   ]
  },
  {
   "cell_type": "code",
   "execution_count": 893,
   "metadata": {},
   "outputs": [
    {
     "data": {
      "text/plain": [
       "array([[10497,    25],\n",
       "       [  638,   334]])"
      ]
     },
     "execution_count": 893,
     "metadata": {},
     "output_type": "execute_result"
    }
   ],
   "source": [
    "from sklearn.metrics import f1_score, confusion_matrix\n",
    "confusion_matrix(y_test, prediction)"
   ]
  },
  {
   "cell_type": "code",
   "execution_count": 900,
   "metadata": {},
   "outputs": [
    {
     "data": {
      "text/plain": [
       "'             precision    recall  f1-score   support\\n\\n          0       0.94      1.00      0.97     10522\\n          1       0.93      0.35      0.51       972\\n\\navg / total       0.94      0.94      0.93     11494\\n'"
      ]
     },
     "execution_count": 900,
     "metadata": {},
     "output_type": "execute_result"
    }
   ],
   "source": [
    "from xgboost.sklearn import XGBClassifier\n",
    "xgb = XGBClassifier(learning_rate = 0.01, n_estimators = 1400,max_depth = 8)\n",
    "xgb.fit(x_train, y_train)\n",
    "prediction = xgb.predict(x_test)\n",
    "prediction = prediction.astype('int')\n",
    "from sklearn.metrics import classification_report\n",
    "classification_report(y_test, prediction) "
   ]
  },
  {
   "cell_type": "code",
   "execution_count": 901,
   "metadata": {},
   "outputs": [
    {
     "data": {
      "text/plain": [
       "array([[10497,    25],\n",
       "       [  634,   338]])"
      ]
     },
     "execution_count": 901,
     "metadata": {},
     "output_type": "execute_result"
    }
   ],
   "source": [
    "from sklearn.metrics import f1_score, confusion_matrix\n",
    "confusion_matrix(y_test, prediction)"
   ]
  },
  {
   "cell_type": "code",
   "execution_count": 902,
   "metadata": {},
   "outputs": [
    {
     "data": {
      "text/plain": [
       "0.50636704119850195"
      ]
     },
     "execution_count": 902,
     "metadata": {},
     "output_type": "execute_result"
    }
   ],
   "source": [
    "f1_score(y_test, prediction)"
   ]
  },
  {
   "cell_type": "code",
   "execution_count": 903,
   "metadata": {},
   "outputs": [
    {
     "data": {
      "text/plain": [
       "(0.92787202079335929, 0.72824778047349159, 0.94066469462328173)"
      ]
     },
     "execution_count": 903,
     "metadata": {},
     "output_type": "execute_result"
    }
   ],
   "source": [
    "y_test_preds = pred\n",
    "f1_score(y_test,y_test_preds,average= 'weighted'),f1_score(y_test,y_test_preds,average= 'macro'),f1_score(y_test,y_test_preds,average= 'micro')"
   ]
  },
  {
   "cell_type": "raw",
   "metadata": {},
   "source": [
    "from sklearn.model_selection import GridSearchCV, RandomizedSearchCV\n",
    "#from sklearn.ensemble import GradientBoostingClassifier\n",
    "#gbrt = GradientBoostingClassifier()\n",
    "learning_rate = [0.01, 0.1]\n",
    "\n",
    "n_estimators = [1000,1200,1400,1600]\n",
    "\n",
    "max_depth = [6,8,10]\n",
    "\n",
    "\n",
    "param_grid = dict(learning_rate = learning_rate,\n",
    "                 n_estimators = n_estimators, max_depth = max_depth)\n",
    "\n",
    "grid = GridSearchCV(estimator=xgb,\n",
    "                    param_grid=param_grid,\n",
    "                    scoring='f1',\n",
    "                    verbose=1,\n",
    "                    n_jobs=-1)\n",
    "grid_result = grid.fit(x_train, y_train)\n",
    "\n",
    "print('Best Score: ', grid_result.best_score_)\n",
    "print('Best Params: ', grid_result.best_params_)"
   ]
  },
  {
   "cell_type": "markdown",
   "metadata": {},
   "source": [
    "### Gradient boosting algorithm"
   ]
  },
  {
   "cell_type": "code",
   "execution_count": 810,
   "metadata": {},
   "outputs": [
    {
     "data": {
      "text/plain": [
       "'             precision    recall  f1-score   support\\n\\n          0       0.94      1.00      0.97     10522\\n          1       0.89      0.35      0.50       972\\n\\navg / total       0.94      0.94      0.93     11494\\n'"
      ]
     },
     "execution_count": 810,
     "metadata": {},
     "output_type": "execute_result"
    }
   ],
   "source": [
    "from sklearn.ensemble import GradientBoostingClassifier\n",
    "gbrt = GradientBoostingClassifier(learning_rate = 0.1, max_depth = 4, n_estimators = 600)\n",
    "gbrt.fit(x_train,y_train)\n",
    "prediction = gbrt.predict(x_test)\n",
    "prediction = prediction.astype('int')\n",
    "from sklearn.metrics import classification_report\n",
    "classification_report(y_test, prediction) "
   ]
  },
  {
   "cell_type": "code",
   "execution_count": 811,
   "metadata": {},
   "outputs": [
    {
     "data": {
      "text/plain": [
       "array([[10480,    42],\n",
       "       [  632,   340]])"
      ]
     },
     "execution_count": 811,
     "metadata": {},
     "output_type": "execute_result"
    }
   ],
   "source": [
    "from sklearn.metrics import f1_score, confusion_matrix\n",
    "confusion_matrix(y_test, prediction)"
   ]
  },
  {
   "cell_type": "code",
   "execution_count": 898,
   "metadata": {},
   "outputs": [
    {
     "data": {
      "text/plain": [
       "'             precision    recall  f1-score   support\\n\\n          0       0.94      0.99      0.97     10522\\n          1       0.86      0.36      0.51       972\\n\\navg / total       0.94      0.94      0.93     11494\\n'"
      ]
     },
     "execution_count": 898,
     "metadata": {},
     "output_type": "execute_result"
    }
   ],
   "source": [
    "from sklearn.ensemble import GradientBoostingClassifier\n",
    "gbrt = GradientBoostingClassifier(learning_rate = 0.01, max_depth = 8, n_estimators = 1400)\n",
    "gbrt.fit(x_train,y_train)\n",
    "prediction = gbrt.predict(x_test)\n",
    "prediction = prediction.astype('int')\n",
    "from sklearn.metrics import classification_report\n",
    "classification_report(y_test, prediction) "
   ]
  },
  {
   "cell_type": "code",
   "execution_count": 899,
   "metadata": {},
   "outputs": [
    {
     "data": {
      "text/plain": [
       "array([[10465,    57],\n",
       "       [  623,   349]])"
      ]
     },
     "execution_count": 899,
     "metadata": {},
     "output_type": "execute_result"
    }
   ],
   "source": [
    "from sklearn.metrics import f1_score, confusion_matrix\n",
    "confusion_matrix(y_test, prediction)"
   ]
  },
  {
   "cell_type": "markdown",
   "metadata": {},
   "source": [
    "from sklearn.model_selection import GridSearchCV, RandomizedSearchCV\n",
    "from sklearn.ensemble import GradientBoostingClassifier\n",
    "gbrt = GradientBoostingClassifier()\n",
    "\n",
    "learning_rate = [0.01,0.1,1,10]\n",
    "\n",
    "n_estimators = [400,600,800,1000,1200,1400]\n",
    "\n",
    "max_depth = [1,2,3,4,5,6,7,8]\n",
    "\n",
    "param_grid ={'learning_rate': learning_rate,\n",
    "                 'n_estimators': n_estimators, 'max_depth': max_depth}\n",
    "\n",
    "grid = GridSearchCV(estimator=gbrt,\n",
    "                    param_grid=param_grid,\n",
    "                    scoring='f1',\n",
    "                    verbose=1,\n",
    "                    n_jobs=-1)\n",
    "grid_result = grid.fit(x_train, y_train)\n",
    "\n",
    "print('Best Score: ', grid_result.best_score_)\n",
    "print('Best Params: ', grid_result.best_params_)"
   ]
  },
  {
   "cell_type": "markdown",
   "metadata": {
    "collapsed": true
   },
   "source": [
    "# Algorithm stacking"
   ]
  },
  {
   "cell_type": "code",
   "execution_count": 89,
   "metadata": {},
   "outputs": [
    {
     "name": "stderr",
     "output_type": "stream",
     "text": [
      "C:\\Users\\Elishama\\AppData\\Local\\Continuum\\Anaconda3\\lib\\site-packages\\sklearn\\cross_validation.py:44: DeprecationWarning: This module was deprecated in version 0.18 in favor of the model_selection module into which all the refactored classes and functions are moved. Also note that the interface of the new CV iterators are different from that of this module. This module will be removed in 0.20.\n",
      "  \"This module will be removed in 0.20.\", DeprecationWarning)\n"
     ]
    }
   ],
   "source": [
    "from sklearn.cross_validation import cross_val_score\n",
    "from sklearn.tree import DecisionTreeClassifier\n",
    "from sklearn.pipeline import Pipeline\n"
   ]
  },
  {
   "cell_type": "code",
   "execution_count": 90,
   "metadata": {},
   "outputs": [
    {
     "name": "stdout",
     "output_type": "stream",
     "text": [
      "10-fold cross validation: \n",
      "\n",
      "f1_score 0.49 (+/- 0.02) [xgboost]\n",
      "f1_score 0.45 (+/- 0.03) [Decision Tree]\n",
      "f1_score 0.50 (+/- 0.02) [gradient boosting]\n"
     ]
    }
   ],
   "source": [
    "xgb = XGBClassifier(learning_rate = 0.01, n_estimators = 1000,max_depth = 8)\n",
    "lr = DecisionTreeClassifier(max_depth = 60, min_samples_split = 8, min_samples_leaf = 2)\n",
    "gbrt = GradientBoostingClassifier(learning_rate = 0.1, max_depth = 4, n_estimators = 600)\n",
    "pipe1 = Pipeline([['sc', MinMaxScaler()], ['clf',xgb]])\n",
    "pipe2 = Pipeline([['sc', MinMaxScaler()], ['clf', lr]])\n",
    "pipe3 = Pipeline([['sc', MinMaxScaler()], ['clf', gbrt]])\n",
    "clf_labels = ['xgboost', 'Decision Tree','gradient boosting']\n",
    "print (\"10-fold cross validation: \\n\")\n",
    "for clf, label in zip([pipe1,pipe2, pipe3], clf_labels):\n",
    "    scores = cross_val_score(estimator = clf, X = x_train, y = y_train, cv = 10, scoring = 'f1')\n",
    "    print (\"f1_score %0.2f (+/- %0.2f) [%s]\" %(scores.mean(), scores.std(), label))"
   ]
  },
  {
   "cell_type": "code",
   "execution_count": null,
   "metadata": {
    "collapsed": true
   },
   "outputs": [],
   "source": []
  },
  {
   "cell_type": "code",
   "execution_count": 905,
   "metadata": {
    "collapsed": true
   },
   "outputs": [],
   "source": [
    "from sklearn.base import BaseEstimator\n",
    "from sklearn.base import ClassifierMixin\n",
    "from sklearn.preprocessing import LabelEncoder\n",
    "from sklearn.externals import six\n",
    "from sklearn.base import clone\n",
    "from sklearn.pipeline import _name_estimators\n",
    "import numpy as np\n",
    "import operator"
   ]
  },
  {
   "cell_type": "code",
   "execution_count": 906,
   "metadata": {
    "collapsed": true
   },
   "outputs": [],
   "source": [
    "class MajorityVoteClassifier(BaseEstimator, ClassifierMixin):\n",
    "    \"\"\" A majority vote ensemble classifier\n",
    "    Parameter\n",
    "    --------\n",
    "    classifiers: array-like, shape = [n_classifiers]\n",
    "    Different classifiers for the ensemble\n",
    "    \n",
    "    vote: str, {'classlabel', 'probability'}\n",
    "    Default: 'class label'\n",
    "    if 'classlabel' the prediction is based on the argmax of class labesl.\n",
    "    Else if 'probability', the argmax of the sum of probabilities is used\n",
    "    to predict the class label (recomended for calibarated classifiers).\n",
    "    \n",
    "    weights: array-like, shape = [n_classifiers]\n",
    "    Optional, default: None\n",
    "    if a list of 'int' or 'float' values are\n",
    "    provided, the  classifiers are weighted by importance;\n",
    "    Uses uniform weights if 'weight = None'.\n",
    "    \n",
    "    \"\"\"\n",
    "    \n",
    "    def __init__(self, classifiers, vote = 'classlabel', weight = None):\n",
    "        self.classifiers = classifiers\n",
    "        self.named_classifiers = {key: value for key, value in _name_estimators(classifiers)}\n",
    "        self.vote = vote\n",
    "        self.weight = weight\n",
    "        \n",
    "    def fit(self, x, y):\n",
    "        \"\"\"fit classifiers.\n",
    "        \n",
    "        Parameters\n",
    "        ----------\n",
    "        x: {array-like, sparse matrix},\n",
    "        shape = [n_samples, n_features]\n",
    "        Matrix of training samples.\n",
    "        \n",
    "        y: array-like, shape = [n_samples]\n",
    "        vector of target class labels.\n",
    "        \n",
    "        Returns\n",
    "        -------\n",
    "        slef: object\n",
    "        \"\"\"\n",
    "        # use labelEncoder to ensure class labels start\n",
    "        # with 0, which is important for np.argmax\n",
    "        # call in self.predict\n",
    "        self.labelenc_ = LabelEncoder()\n",
    "        self.labelenc_.fit(y)\n",
    "        self.classes_ = self.labelenc_.classes_\n",
    "        self.classifiers_ = []\n",
    "        for clf in self.classifiers:\n",
    "            fitted_clf = clone(clf).fit(x, self.labelenc_.transform(y))\n",
    "            self.classifiers_.append(fitted_clf)\n",
    "        return self\n",
    "    \n",
    "    \n",
    "    \n",
    "    def predict(self, x):\n",
    "        \"\"\"Predict class labels for x.\n",
    "        \n",
    "        Parameters\n",
    "        ---------\n",
    "        \n",
    "        x: {arra-like, sparse matrix}, \n",
    "        shape = [n_samples, n_features]\n",
    "        Matrix of training samples.\n",
    "        \n",
    "        Returns\n",
    "        ----------\n",
    "        maj_vote : array-like, shape = [n_samples]\n",
    "        Predicted class labels.\n",
    "        \"\"\"\n",
    "        \n",
    "        if self.vote == 'probability':\n",
    "            maj_vote = np.argmax(self.predict_proba(x), axis = 1)\n",
    "        else: # 'class label' vote\n",
    "            # collect results from clf.predict calls\n",
    "            predictions = np.asarray([clf.predict(x) for clf in self.classifiers]).T\n",
    "            \n",
    "            maj_vote = np.apply_along_axis(lambda x: np.argmax(np.bincount(x,weights = self.weight)),\n",
    "                                          axis = 1, arr = predictions)\n",
    "            maj_vote = self.labelenc_.inverse_transform(maj_vote)\n",
    "        return maj_vote\n",
    "    \n",
    "    def predict_proba(self, x):\n",
    "        \"\"\"Predict class probabilities for x.\n",
    "        Parameters\n",
    "        ----------\n",
    "        \n",
    "        x: {array-like, sparse matrix},\n",
    "        shape = [n_samples, n_features]\n",
    "        Training vectors, where n_samples is\n",
    "        the number of samples and \n",
    "        n_features is the number of features\n",
    "        \n",
    "        Returns\n",
    "        ---------\n",
    "        avg_proba: array-like,\n",
    "        shape = [n_samples, n_classes]\n",
    "        Weighted average probability for \n",
    "        each class per sample\n",
    "        \"\"\"\n",
    "        \n",
    "        probas = np.asarray([clf.predict_proba(x) for clf in self.classifiers_])\n",
    "        avg_proba = np.average(probas, axis = 0, weights = self.weight)\n",
    "        return avg_proba\n",
    "    \n",
    "    \n",
    "    def get_params(self, deep = True):\n",
    "        \"\"\"Get classifier parameter names for GridSearch\"\"\"\n",
    "        if not deep:\n",
    "            return super(MajorityVoteClassifier, self).get_params(deep = False)\n",
    "        \n",
    "        else:\n",
    "            out = self.named_classifiers.copy()\n",
    "            for name, step in six.iteritems(self.named_classifiers):\n",
    "                for key, value in six.iteritems(step.get_params(deep = True)):\n",
    "                    out['%s__%s' % (name, key)] = value\n",
    "            return out\n",
    "        \n",
    "        \n",
    "        "
   ]
  },
  {
   "cell_type": "code",
   "execution_count": 94,
   "metadata": {},
   "outputs": [
    {
     "name": "stdout",
     "output_type": "stream",
     "text": [
      "Accuracy: 0.45 (+/- 0.03) (decision tree)\n",
      "Accuracy: 0.50 (+/- 0.02) (gradient boost)\n",
      "Accuracy: 0.49 (+/- 0.02) (xgboost)\n"
     ]
    }
   ],
   "source": [
    "mv_clf = MajorityVoteClassifier(classifiers = [pipe1,pipe2, pipe3])\n",
    "clf_labels= ['decision tree','gradient boost','xgboost']\n",
    "all_clf = [lr,gbrt,xgb]\n",
    "for clf, label in zip(all_clf, clf_labels):\n",
    "    scores = cross_val_score(estimator = clf, X= x_train, y = y_train, cv = 10, scoring = 'f1')\n",
    "    print (\"Accuracy: %0.2f (+/- %0.2f) (%s)\" % (scores.mean(), scores.std(),label))\n",
    "   "
   ]
  },
  {
   "cell_type": "code",
   "execution_count": 111,
   "metadata": {
    "collapsed": true
   },
   "outputs": [],
   "source": [
    "min_max = MinMaxScaler()\n",
    "pipe1 = Pipeline([['sc',min_max], ['clf',xgb]])\n",
    "pipe2 = Pipeline([['sc', min_max], ['clf', lr]])\n",
    "pipe3 = Pipeline([['sc', min_max], ['clf', gbrt]])\n",
    "clf_labels = ['xgboost', 'Decision Tree','gradient boosting']"
   ]
  },
  {
   "cell_type": "code",
   "execution_count": 114,
   "metadata": {},
   "outputs": [
    {
     "data": {
      "text/plain": [
       "GradientBoostingClassifier(criterion='friedman_mse', init=None,\n",
       "              learning_rate=0.1, loss='deviance', max_depth=4,\n",
       "              max_features=None, max_leaf_nodes=None,\n",
       "              min_impurity_split=1e-07, min_samples_leaf=1,\n",
       "              min_samples_split=2, min_weight_fraction_leaf=0.0,\n",
       "              n_estimators=600, presort='auto', random_state=None,\n",
       "              subsample=1.0, verbose=0, warm_start=False)"
      ]
     },
     "execution_count": 114,
     "metadata": {},
     "output_type": "execute_result"
    }
   ],
   "source": [
    "xgb.fit(x_train,y_train)\n",
    "lr.fit(x_train,y_train)\n",
    "gbrt.fit(x_train,y_train)"
   ]
  },
  {
   "cell_type": "code",
   "execution_count": 907,
   "metadata": {},
   "outputs": [
    {
     "data": {
      "text/plain": [
       "MajorityVoteClassifier(classifiers=[XGBClassifier(base_score=0.5, booster='gbtree', colsample_bylevel=1,\n",
       "       colsample_bynode=1, colsample_bytree=1, gamma=0, learning_rate=0.01,\n",
       "       max_delta_step=0, max_depth=8, min_child_weight=1, missing=None,\n",
       "       n_estimators=1400, n_jobs=1, nthread=None,\n",
       "       objective='bi...=1400, presort='auto', random_state=None,\n",
       "              subsample=1.0, verbose=0, warm_start=False)],\n",
       "            vote='classlabel', weight=None)"
      ]
     },
     "execution_count": 907,
     "metadata": {},
     "output_type": "execute_result"
    }
   ],
   "source": [
    "mv_clf = MajorityVoteClassifier(classifiers = [xgb,gbrt])\n",
    "mv_clf.fit(x_train, y_train)\n"
   ]
  },
  {
   "cell_type": "code",
   "execution_count": 126,
   "metadata": {},
   "outputs": [
    {
     "name": "stdout",
     "output_type": "stream",
     "text": [
      "classification report\n",
      "             precision    recall  f1-score   support\n",
      "\n",
      "          0       0.94      1.00      0.97     10522\n",
      "          1       0.95      0.33      0.49       972\n",
      "\n",
      "avg / total       0.94      0.94      0.93     11494\n",
      "\n"
     ]
    }
   ],
   "source": [
    "pred = mv_clf.predict(x_test)\n",
    "print('classification report')\n",
    "from sklearn import metrics\n",
    "print(metrics.classification_report(y_test, pred))\n"
   ]
  },
  {
   "cell_type": "code",
   "execution_count": 127,
   "metadata": {},
   "outputs": [
    {
     "data": {
      "text/plain": [
       "array([[10505,    17],\n",
       "       [  647,   325]])"
      ]
     },
     "execution_count": 127,
     "metadata": {},
     "output_type": "execute_result"
    }
   ],
   "source": [
    "from sklearn.metrics import f1_score, confusion_matrix\n",
    "confusion_matrix(y_test, pred)"
   ]
  },
  {
   "cell_type": "code",
   "execution_count": 908,
   "metadata": {},
   "outputs": [
    {
     "data": {
      "text/plain": [
       "array([[10487,    35],\n",
       "       [  647,   325]])"
      ]
     },
     "execution_count": 908,
     "metadata": {},
     "output_type": "execute_result"
    }
   ],
   "source": [
    "from sklearn.metrics import f1_score, confusion_matrix\n",
    "confusion_matrix(y_test, pred)"
   ]
  },
  {
   "cell_type": "code",
   "execution_count": 909,
   "metadata": {},
   "outputs": [
    {
     "data": {
      "text/plain": [
       "0.48798798798798798"
      ]
     },
     "execution_count": 909,
     "metadata": {},
     "output_type": "execute_result"
    }
   ],
   "source": [
    "f1_score(y_test,pred)"
   ]
  },
  {
   "cell_type": "code",
   "execution_count": null,
   "metadata": {
    "collapsed": true
   },
   "outputs": [],
   "source": [
    "y_test_preds = pred\n",
    "f1_score(y_test,y_test_preds,average= 'weighted'),f1_score(y_test,y_test_preds,average= 'macro'),f1_score(y_test,y_test_preds,average= 'micro')"
   ]
  },
  {
   "cell_type": "code",
   "execution_count": 158,
   "metadata": {
    "collapsed": true
   },
   "outputs": [],
   "source": [
    "prediction = mv_clf.predict(scaled_unbiased_test)\n",
    "test = pd.DataFrame()\n",
    "test['EmployeeNo'] = final_target\n",
    "test['Promoted_or_Not'] =prediction.astype('int')\n",
    "\n",
    "test.to_csv('my_clf.csv', index = False)"
   ]
  },
  {
   "cell_type": "code",
   "execution_count": null,
   "metadata": {
    "collapsed": true
   },
   "outputs": [],
   "source": []
  },
  {
   "cell_type": "code",
   "execution_count": 910,
   "metadata": {},
   "outputs": [
    {
     "name": "stdout",
     "output_type": "stream",
     "text": [
      "one vs rest accuracy: 0.956\n",
      "one vs one accuracy: 0.940\n"
     ]
    }
   ],
   "source": [
    "from sklearn.multiclass import OneVsRestClassifier\n",
    "from sklearn.multiclass import OneVsOneClassifier\n",
    "\n",
    "\n",
    "xgb = XGBClassifier(learning_rate = 0.01, n_estimators = 1000,max_depth = 8)\n",
    "lr = DecisionTreeClassifier(max_depth = 60, min_samples_split = 8, min_samples_leaf = 2)\n",
    "gbrt = GradientBoostingClassifier(learning_rate = 0.01, max_depth = 8, n_estimators = 1400)\n",
    "\n",
    "OVR = OneVsRestClassifier(GradientBoostingClassifier(learning_rate = 0.01, max_depth = 8, n_estimators = 1400)).fit(x_train,y_train)\n",
    "OVO = OneVsOneClassifier( GradientBoostingClassifier(learning_rate = 0.01, max_depth = 8, n_estimators = 1400)).fit(x_train,y_train)\n",
    "\n",
    "print ('one vs rest accuracy: %.3f' % OVR.score(x_train,y_train))\n",
    "print ('one vs one accuracy: %.3f' % OVO.score(x_test,y_test))"
   ]
  },
  {
   "cell_type": "code",
   "execution_count": 911,
   "metadata": {},
   "outputs": [
    {
     "name": "stdout",
     "output_type": "stream",
     "text": [
      "classification report\n",
      "             precision    recall  f1-score   support\n",
      "\n",
      "          0       0.94      0.99      0.97     10522\n",
      "          1       0.85      0.36      0.51       972\n",
      "\n",
      "avg / total       0.94      0.94      0.93     11494\n",
      "\n"
     ]
    }
   ],
   "source": [
    "pred = OVR.predict(x_test)\n",
    "print('classification report')\n",
    "from sklearn import metrics\n",
    "print(metrics.classification_report(y_test, pred))\n"
   ]
  },
  {
   "cell_type": "code",
   "execution_count": 912,
   "metadata": {},
   "outputs": [
    {
     "data": {
      "text/plain": [
       "array([[10461,    61],\n",
       "       [  622,   350]])"
      ]
     },
     "execution_count": 912,
     "metadata": {},
     "output_type": "execute_result"
    }
   ],
   "source": [
    "from sklearn.metrics import f1_score, confusion_matrix\n",
    "confusion_matrix(y_test, pred)"
   ]
  },
  {
   "cell_type": "code",
   "execution_count": 913,
   "metadata": {},
   "outputs": [
    {
     "name": "stdout",
     "output_type": "stream",
     "text": [
      "classification report\n",
      "             precision    recall  f1-score   support\n",
      "\n",
      "          0       0.94      0.99      0.97     10522\n",
      "          1       0.83      0.36      0.50       972\n",
      "\n",
      "avg / total       0.93      0.94      0.93     11494\n",
      "\n"
     ]
    }
   ],
   "source": [
    "pred = OVO.predict(x_test)\n",
    "print('classification report')\n",
    "from sklearn import metrics\n",
    "print(metrics.classification_report(y_test, pred))\n"
   ]
  },
  {
   "cell_type": "code",
   "execution_count": 914,
   "metadata": {},
   "outputs": [
    {
     "data": {
      "text/plain": [
       "array([[10452,    70],\n",
       "       [  625,   347]])"
      ]
     },
     "execution_count": 914,
     "metadata": {},
     "output_type": "execute_result"
    }
   ],
   "source": [
    "from sklearn.metrics import f1_score, confusion_matrix\n",
    "confusion_matrix(y_test, pred)"
   ]
  },
  {
   "cell_type": "code",
   "execution_count": 915,
   "metadata": {
    "collapsed": true
   },
   "outputs": [],
   "source": [
    "prediction = OVO.predict(scaled_unbiased_test)\n",
    "test = pd.DataFrame()\n",
    "test['EmployeeNo'] = final_target\n",
    "test['Promoted_or_Not'] =prediction.astype('int')\n",
    "\n",
    "test.to_csv('OVO.csv', index = False)"
   ]
  },
  {
   "cell_type": "code",
   "execution_count": 2,
   "metadata": {},
   "outputs": [
    {
     "name": "stdout",
     "output_type": "stream",
     "text": [
      "Requirement already satisfied: catboost in c:\\users\\elishama\\anaconda3\\lib\\site-packages (0.18)\n",
      "Requirement already satisfied: scipy in c:\\users\\elishama\\anaconda3\\lib\\site-packages (from catboost) (1.3.1)\n",
      "Requirement already satisfied: six in c:\\users\\elishama\\anaconda3\\lib\\site-packages (from catboost) (1.12.0)\n",
      "Requirement already satisfied: numpy>=1.16.0 in c:\\users\\elishama\\anaconda3\\lib\\site-packages (from catboost) (1.16.5)\n",
      "Requirement already satisfied: graphviz in c:\\users\\elishama\\anaconda3\\lib\\site-packages (from catboost) (0.13)\n",
      "Requirement already satisfied: plotly in c:\\users\\elishama\\anaconda3\\lib\\site-packages (from catboost) (4.2.1)\n",
      "Requirement already satisfied: pandas>=0.24.0 in c:\\users\\elishama\\anaconda3\\lib\\site-packages (from catboost) (0.25.1)\n",
      "Requirement already satisfied: matplotlib in c:\\users\\elishama\\anaconda3\\lib\\site-packages (from catboost) (3.1.1)\n",
      "Requirement already satisfied: retrying>=1.3.3 in c:\\users\\elishama\\anaconda3\\lib\\site-packages (from plotly->catboost) (1.3.3)\n",
      "Requirement already satisfied: pytz>=2017.2 in c:\\users\\elishama\\anaconda3\\lib\\site-packages (from pandas>=0.24.0->catboost) (2019.2)\n",
      "Requirement already satisfied: python-dateutil>=2.6.1 in c:\\users\\elishama\\anaconda3\\lib\\site-packages (from pandas>=0.24.0->catboost) (2.8.0)\n",
      "Requirement already satisfied: cycler>=0.10 in c:\\users\\elishama\\anaconda3\\lib\\site-packages (from matplotlib->catboost) (0.10.0)\n",
      "Requirement already satisfied: kiwisolver>=1.0.1 in c:\\users\\elishama\\anaconda3\\lib\\site-packages (from matplotlib->catboost) (1.1.0)\n",
      "Requirement already satisfied: pyparsing!=2.0.4,!=2.1.2,!=2.1.6,>=2.0.1 in c:\\users\\elishama\\anaconda3\\lib\\site-packages (from matplotlib->catboost) (2.4.2)\n",
      "Requirement already satisfied: setuptools in c:\\users\\elishama\\anaconda3\\lib\\site-packages (from kiwisolver>=1.0.1->matplotlib->catboost) (39.1.0)\n"
     ]
    }
   ],
   "source": [
    "!pip install catboost"
   ]
  },
  {
   "cell_type": "code",
   "execution_count": null,
   "metadata": {
    "collapsed": true
   },
   "outputs": [],
   "source": [
    "import catboost"
   ]
  },
  {
   "cell_type": "code",
   "execution_count": null,
   "metadata": {
    "collapsed": true
   },
   "outputs": [],
   "source": []
  }
 ],
 "metadata": {
  "kernelspec": {
   "display_name": "Python [conda env:tensorflow]",
   "language": "python",
   "name": "conda-env-tensorflow-py"
  }
 },
 "nbformat": 4,
 "nbformat_minor": 2
}
